{
  "nbformat": 4,
  "nbformat_minor": 0,
  "metadata": {
    "colab": {
      "name": "feat_engg_cvs_rr_paper3_contd.ipynb",
      "provenance": [],
      "machine_shape": "hm",
      "authorship_tag": "ABX9TyOHE8BYF5c0kCYE4fOBJjzN",
      "include_colab_link": true
    },
    "kernelspec": {
      "display_name": "Python 3",
      "name": "python3"
    },
    "language_info": {
      "name": "python"
    },
    "accelerator": "GPU"
  },
  "cells": [
    {
      "cell_type": "markdown",
      "metadata": {
        "id": "view-in-github",
        "colab_type": "text"
      },
      "source": [
        "<a href=\"https://colab.research.google.com/github/aparnashenoy/ml/blob/master/feat_engg_cvs_rr_paper3_contd.ipynb\" target=\"_parent\"><img src=\"https://colab.research.google.com/assets/colab-badge.svg\" alt=\"Open In Colab\"/></a>"
      ]
    },
    {
      "cell_type": "code",
      "metadata": {
        "colab": {
          "base_uri": "https://localhost:8080/"
        },
        "id": "xz3P10rhZCCh",
        "outputId": "bb7911be-8c42-4b4a-b135-ca6bc058ea81"
      },
      "source": [
        "from google.colab import drive\n",
        "drive.mount('/gdrive')"
      ],
      "execution_count": 1,
      "outputs": [
        {
          "output_type": "stream",
          "text": [
            "Mounted at /gdrive\n"
          ],
          "name": "stdout"
        }
      ]
    },
    {
      "cell_type": "code",
      "metadata": {
        "id": "ZEI2TuiUZMFZ"
      },
      "source": [
        "path = '/gdrive/My Drive/'"
      ],
      "execution_count": 2,
      "outputs": []
    },
    {
      "cell_type": "code",
      "metadata": {
        "id": "-BjnAW6gZdul"
      },
      "source": [
        "import numpy as np\n",
        "import pandas as pd\n",
        "from pandas import read_csv\n",
        "import matplotlib.pyplot as plt\n",
        "import seaborn as sns\n",
        "\n",
        "%matplotlib inline"
      ],
      "execution_count": 3,
      "outputs": []
    },
    {
      "cell_type": "code",
      "metadata": {
        "id": "xq_PsQUUZWr-"
      },
      "source": [
        "data = pd.read_csv(path +'data_updated.csv')"
      ],
      "execution_count": 4,
      "outputs": []
    },
    {
      "cell_type": "code",
      "metadata": {
        "colab": {
          "base_uri": "https://localhost:8080/",
          "height": 202
        },
        "id": "AnWwOQ5WTBPC",
        "outputId": "aa39e0f0-8c19-4308-e64c-00089a976a64"
      },
      "source": [
        "data.head()"
      ],
      "execution_count": 5,
      "outputs": [
        {
          "output_type": "execute_result",
          "data": {
            "text/html": [
              "<div>\n",
              "<style scoped>\n",
              "    .dataframe tbody tr th:only-of-type {\n",
              "        vertical-align: middle;\n",
              "    }\n",
              "\n",
              "    .dataframe tbody tr th {\n",
              "        vertical-align: top;\n",
              "    }\n",
              "\n",
              "    .dataframe thead th {\n",
              "        text-align: right;\n",
              "    }\n",
              "</style>\n",
              "<table border=\"1\" class=\"dataframe\">\n",
              "  <thead>\n",
              "    <tr style=\"text-align: right;\">\n",
              "      <th></th>\n",
              "      <th>Unnamed: 0</th>\n",
              "      <th>Gender</th>\n",
              "      <th>custom_hr</th>\n",
              "      <th>custom_temp</th>\n",
              "      <th>custom_age</th>\n",
              "      <th>custom_o2sat</th>\n",
              "      <th>custom_bp</th>\n",
              "      <th>custom_resp</th>\n",
              "      <th>Unit1</th>\n",
              "      <th>Unit2</th>\n",
              "      <th>ICULOS</th>\n",
              "      <th>HospAdmTime</th>\n",
              "      <th>SepsisLabel</th>\n",
              "    </tr>\n",
              "  </thead>\n",
              "  <tbody>\n",
              "    <tr>\n",
              "      <th>0</th>\n",
              "      <td>0</td>\n",
              "      <td>0</td>\n",
              "      <td>2</td>\n",
              "      <td>1</td>\n",
              "      <td>1</td>\n",
              "      <td>1</td>\n",
              "      <td>4</td>\n",
              "      <td>1</td>\n",
              "      <td>1.0</td>\n",
              "      <td>0.0</td>\n",
              "      <td>2</td>\n",
              "      <td>-0.02</td>\n",
              "      <td>0</td>\n",
              "    </tr>\n",
              "    <tr>\n",
              "      <th>1</th>\n",
              "      <td>1</td>\n",
              "      <td>0</td>\n",
              "      <td>2</td>\n",
              "      <td>1</td>\n",
              "      <td>1</td>\n",
              "      <td>1</td>\n",
              "      <td>4</td>\n",
              "      <td>1</td>\n",
              "      <td>1.0</td>\n",
              "      <td>0.0</td>\n",
              "      <td>3</td>\n",
              "      <td>-0.02</td>\n",
              "      <td>0</td>\n",
              "    </tr>\n",
              "    <tr>\n",
              "      <th>2</th>\n",
              "      <td>2</td>\n",
              "      <td>0</td>\n",
              "      <td>2</td>\n",
              "      <td>1</td>\n",
              "      <td>1</td>\n",
              "      <td>1</td>\n",
              "      <td>4</td>\n",
              "      <td>1</td>\n",
              "      <td>1.0</td>\n",
              "      <td>0.0</td>\n",
              "      <td>4</td>\n",
              "      <td>-0.02</td>\n",
              "      <td>0</td>\n",
              "    </tr>\n",
              "    <tr>\n",
              "      <th>3</th>\n",
              "      <td>3</td>\n",
              "      <td>0</td>\n",
              "      <td>0</td>\n",
              "      <td>1</td>\n",
              "      <td>1</td>\n",
              "      <td>2</td>\n",
              "      <td>4</td>\n",
              "      <td>1</td>\n",
              "      <td>1.0</td>\n",
              "      <td>0.0</td>\n",
              "      <td>5</td>\n",
              "      <td>-0.02</td>\n",
              "      <td>0</td>\n",
              "    </tr>\n",
              "    <tr>\n",
              "      <th>4</th>\n",
              "      <td>4</td>\n",
              "      <td>0</td>\n",
              "      <td>0</td>\n",
              "      <td>0</td>\n",
              "      <td>1</td>\n",
              "      <td>1</td>\n",
              "      <td>4</td>\n",
              "      <td>1</td>\n",
              "      <td>1.0</td>\n",
              "      <td>0.0</td>\n",
              "      <td>6</td>\n",
              "      <td>-0.02</td>\n",
              "      <td>0</td>\n",
              "    </tr>\n",
              "  </tbody>\n",
              "</table>\n",
              "</div>"
            ],
            "text/plain": [
              "   Unnamed: 0  Gender  custom_hr  ...  ICULOS  HospAdmTime  SepsisLabel\n",
              "0           0       0          2  ...       2        -0.02            0\n",
              "1           1       0          2  ...       3        -0.02            0\n",
              "2           2       0          2  ...       4        -0.02            0\n",
              "3           3       0          0  ...       5        -0.02            0\n",
              "4           4       0          0  ...       6        -0.02            0\n",
              "\n",
              "[5 rows x 13 columns]"
            ]
          },
          "metadata": {
            "tags": []
          },
          "execution_count": 5
        }
      ]
    },
    {
      "cell_type": "code",
      "metadata": {
        "id": "mezwcFa0a6Om"
      },
      "source": [
        "# Load libraries\n",
        "\n",
        "from numpy import arange\n",
        "from numpy import set_printoptions\n",
        "from pandas import read_csv\n",
        "from pandas import set_option\n",
        "from pandas.plotting import scatter_matrix\n",
        "from sklearn.preprocessing import StandardScaler\n",
        "from sklearn.preprocessing import MinMaxScaler\n",
        "from sklearn.preprocessing import Normalizer\n",
        "from sklearn.preprocessing import Binarizer\n",
        "from sklearn.feature_selection import SelectKBest\n",
        "from sklearn.feature_selection import chi2\n",
        "from sklearn.feature_selection import RFE\n",
        "from sklearn.decomposition import PCA\n",
        "from sklearn.ensemble import ExtraTreesClassifier\n",
        "from sklearn.model_selection import train_test_split\n",
        "from sklearn.model_selection import KFold\n",
        "from sklearn.model_selection import cross_val_score\n",
        "from sklearn.model_selection import GridSearchCV\n",
        "from sklearn.model_selection import LeaveOneOut\n",
        "from sklearn.model_selection import ShuffleSplit\n",
        "from sklearn.linear_model import LinearRegression\n",
        "from sklearn.linear_model import LogisticRegression\n",
        "from sklearn.linear_model import Lasso\n",
        "from sklearn.linear_model import ElasticNet\n",
        "from sklearn.tree import DecisionTreeRegressor\n",
        "from sklearn.neighbors import KNeighborsRegressor\n",
        "from sklearn.svm import SVR\n",
        "from sklearn.pipeline import Pipeline\n",
        "from sklearn.ensemble import RandomForestRegressor\n",
        "from sklearn.ensemble import GradientBoostingRegressor\n",
        "from sklearn.ensemble import ExtraTreesRegressor\n",
        "from sklearn.ensemble import AdaBoostRegressor\n",
        "from sklearn.metrics import mean_squared_error\n",
        "from sklearn.metrics import confusion_matrix\n",
        "from sklearn.metrics import accuracy_score\n",
        "from sklearn.metrics import classification_report\n",
        "from sklearn.discriminant_analysis import LinearDiscriminantAnalysis\n",
        "from sklearn.neighbors import KNeighborsClassifier\n",
        "from sklearn.naive_bayes import GaussianNB\n",
        "from sklearn.tree import DecisionTreeClassifier\n",
        "from sklearn.svm import SVC\n",
        "\n",
        "import warnings\n",
        "warnings.filterwarnings('ignore')"
      ],
      "execution_count": 6,
      "outputs": []
    },
    {
      "cell_type": "code",
      "metadata": {
        "colab": {
          "base_uri": "https://localhost:8080/"
        },
        "id": "MrOLMATVHPp8",
        "outputId": "f3b89d43-0215-4062-8bba-b1934bc6f00d"
      },
      "source": [
        "# Statistical Summary\n",
        "set_option('display.width', 100)\n",
        "set_option('precision', 3)\n",
        "description = data.describe()\n",
        "print(description)"
      ],
      "execution_count": 7,
      "outputs": [
        {
          "output_type": "stream",
          "text": [
            "       Unnamed: 0     Gender  custom_hr  ...     ICULOS  HospAdmTime  SepsisLabel\n",
            "count   1.167e+06  1.167e+06  1.167e+06  ...  1.167e+06    1.167e+06    1.167e+06\n",
            "mean    5.836e+05  5.661e-01  1.596e+00  ...  2.670e+01   -5.331e+01    1.921e-02\n",
            "std     3.369e+05  4.956e-01  7.639e-01  ...  2.777e+01    1.498e+02    1.373e-01\n",
            "min     0.000e+00  0.000e+00  0.000e+00  ...  1.000e+00   -3.711e+03    0.000e+00\n",
            "25%     2.918e+05  0.000e+00  2.000e+00  ...  1.100e+01   -4.268e+01    0.000e+00\n",
            "50%     5.836e+05  1.000e+00  2.000e+00  ...  2.100e+01   -4.880e+00    0.000e+00\n",
            "75%     8.754e+05  1.000e+00  2.000e+00  ...  3.400e+01   -3.000e-02    0.000e+00\n",
            "max     1.167e+06  1.000e+00  2.000e+00  ...  3.360e+02    2.399e+01    1.000e+00\n",
            "\n",
            "[8 rows x 13 columns]\n"
          ],
          "name": "stdout"
        }
      ]
    },
    {
      "cell_type": "code",
      "metadata": {
        "colab": {
          "base_uri": "https://localhost:8080/",
          "height": 447
        },
        "id": "8JxtvCvCHyPX",
        "outputId": "997f619c-4600-4a77-c8de-4305669aa802"
      },
      "source": [
        "data.describe().transpose()"
      ],
      "execution_count": 8,
      "outputs": [
        {
          "output_type": "execute_result",
          "data": {
            "text/html": [
              "<div>\n",
              "<style scoped>\n",
              "    .dataframe tbody tr th:only-of-type {\n",
              "        vertical-align: middle;\n",
              "    }\n",
              "\n",
              "    .dataframe tbody tr th {\n",
              "        vertical-align: top;\n",
              "    }\n",
              "\n",
              "    .dataframe thead th {\n",
              "        text-align: right;\n",
              "    }\n",
              "</style>\n",
              "<table border=\"1\" class=\"dataframe\">\n",
              "  <thead>\n",
              "    <tr style=\"text-align: right;\">\n",
              "      <th></th>\n",
              "      <th>count</th>\n",
              "      <th>mean</th>\n",
              "      <th>std</th>\n",
              "      <th>min</th>\n",
              "      <th>25%</th>\n",
              "      <th>50%</th>\n",
              "      <th>75%</th>\n",
              "      <th>max</th>\n",
              "    </tr>\n",
              "  </thead>\n",
              "  <tbody>\n",
              "    <tr>\n",
              "      <th>Unnamed: 0</th>\n",
              "      <td>1.167e+06</td>\n",
              "      <td>583600.500</td>\n",
              "      <td>336942.339</td>\n",
              "      <td>0.00</td>\n",
              "      <td>291800.25</td>\n",
              "      <td>583600.50</td>\n",
              "      <td>875400.75</td>\n",
              "      <td>1.167e+06</td>\n",
              "    </tr>\n",
              "    <tr>\n",
              "      <th>Gender</th>\n",
              "      <td>1.167e+06</td>\n",
              "      <td>0.566</td>\n",
              "      <td>0.496</td>\n",
              "      <td>0.00</td>\n",
              "      <td>0.00</td>\n",
              "      <td>1.00</td>\n",
              "      <td>1.00</td>\n",
              "      <td>1.000e+00</td>\n",
              "    </tr>\n",
              "    <tr>\n",
              "      <th>custom_hr</th>\n",
              "      <td>1.167e+06</td>\n",
              "      <td>1.596</td>\n",
              "      <td>0.764</td>\n",
              "      <td>0.00</td>\n",
              "      <td>2.00</td>\n",
              "      <td>2.00</td>\n",
              "      <td>2.00</td>\n",
              "      <td>2.000e+00</td>\n",
              "    </tr>\n",
              "    <tr>\n",
              "      <th>custom_temp</th>\n",
              "      <td>1.167e+06</td>\n",
              "      <td>0.859</td>\n",
              "      <td>0.348</td>\n",
              "      <td>0.00</td>\n",
              "      <td>1.00</td>\n",
              "      <td>1.00</td>\n",
              "      <td>1.00</td>\n",
              "      <td>1.000e+00</td>\n",
              "    </tr>\n",
              "    <tr>\n",
              "      <th>custom_age</th>\n",
              "      <td>1.167e+06</td>\n",
              "      <td>0.487</td>\n",
              "      <td>0.500</td>\n",
              "      <td>0.00</td>\n",
              "      <td>0.00</td>\n",
              "      <td>0.00</td>\n",
              "      <td>1.00</td>\n",
              "      <td>1.000e+00</td>\n",
              "    </tr>\n",
              "    <tr>\n",
              "      <th>custom_o2sat</th>\n",
              "      <td>1.167e+06</td>\n",
              "      <td>1.769</td>\n",
              "      <td>0.445</td>\n",
              "      <td>0.00</td>\n",
              "      <td>2.00</td>\n",
              "      <td>2.00</td>\n",
              "      <td>2.00</td>\n",
              "      <td>2.000e+00</td>\n",
              "    </tr>\n",
              "    <tr>\n",
              "      <th>custom_bp</th>\n",
              "      <td>1.167e+06</td>\n",
              "      <td>3.261</td>\n",
              "      <td>0.714</td>\n",
              "      <td>0.00</td>\n",
              "      <td>3.00</td>\n",
              "      <td>3.00</td>\n",
              "      <td>4.00</td>\n",
              "      <td>4.000e+00</td>\n",
              "    </tr>\n",
              "    <tr>\n",
              "      <th>custom_resp</th>\n",
              "      <td>1.167e+06</td>\n",
              "      <td>0.688</td>\n",
              "      <td>0.463</td>\n",
              "      <td>0.00</td>\n",
              "      <td>0.00</td>\n",
              "      <td>1.00</td>\n",
              "      <td>1.00</td>\n",
              "      <td>1.000e+00</td>\n",
              "    </tr>\n",
              "    <tr>\n",
              "      <th>Unit1</th>\n",
              "      <td>1.167e+06</td>\n",
              "      <td>0.714</td>\n",
              "      <td>0.452</td>\n",
              "      <td>0.00</td>\n",
              "      <td>0.00</td>\n",
              "      <td>1.00</td>\n",
              "      <td>1.00</td>\n",
              "      <td>1.000e+00</td>\n",
              "    </tr>\n",
              "    <tr>\n",
              "      <th>Unit2</th>\n",
              "      <td>1.167e+06</td>\n",
              "      <td>0.286</td>\n",
              "      <td>0.452</td>\n",
              "      <td>0.00</td>\n",
              "      <td>0.00</td>\n",
              "      <td>0.00</td>\n",
              "      <td>1.00</td>\n",
              "      <td>1.000e+00</td>\n",
              "    </tr>\n",
              "    <tr>\n",
              "      <th>ICULOS</th>\n",
              "      <td>1.167e+06</td>\n",
              "      <td>26.702</td>\n",
              "      <td>27.774</td>\n",
              "      <td>1.00</td>\n",
              "      <td>11.00</td>\n",
              "      <td>21.00</td>\n",
              "      <td>34.00</td>\n",
              "      <td>3.360e+02</td>\n",
              "    </tr>\n",
              "    <tr>\n",
              "      <th>HospAdmTime</th>\n",
              "      <td>1.167e+06</td>\n",
              "      <td>-53.306</td>\n",
              "      <td>149.796</td>\n",
              "      <td>-3710.66</td>\n",
              "      <td>-42.68</td>\n",
              "      <td>-4.88</td>\n",
              "      <td>-0.03</td>\n",
              "      <td>2.399e+01</td>\n",
              "    </tr>\n",
              "    <tr>\n",
              "      <th>SepsisLabel</th>\n",
              "      <td>1.167e+06</td>\n",
              "      <td>0.019</td>\n",
              "      <td>0.137</td>\n",
              "      <td>0.00</td>\n",
              "      <td>0.00</td>\n",
              "      <td>0.00</td>\n",
              "      <td>0.00</td>\n",
              "      <td>1.000e+00</td>\n",
              "    </tr>\n",
              "  </tbody>\n",
              "</table>\n",
              "</div>"
            ],
            "text/plain": [
              "                  count        mean  ...        75%        max\n",
              "Unnamed: 0    1.167e+06  583600.500  ...  875400.75  1.167e+06\n",
              "Gender        1.167e+06       0.566  ...       1.00  1.000e+00\n",
              "custom_hr     1.167e+06       1.596  ...       2.00  2.000e+00\n",
              "custom_temp   1.167e+06       0.859  ...       1.00  1.000e+00\n",
              "custom_age    1.167e+06       0.487  ...       1.00  1.000e+00\n",
              "custom_o2sat  1.167e+06       1.769  ...       2.00  2.000e+00\n",
              "custom_bp     1.167e+06       3.261  ...       4.00  4.000e+00\n",
              "custom_resp   1.167e+06       0.688  ...       1.00  1.000e+00\n",
              "Unit1         1.167e+06       0.714  ...       1.00  1.000e+00\n",
              "Unit2         1.167e+06       0.286  ...       1.00  1.000e+00\n",
              "ICULOS        1.167e+06      26.702  ...      34.00  3.360e+02\n",
              "HospAdmTime   1.167e+06     -53.306  ...      -0.03  2.399e+01\n",
              "SepsisLabel   1.167e+06       0.019  ...       0.00  1.000e+00\n",
              "\n",
              "[13 rows x 8 columns]"
            ]
          },
          "metadata": {
            "tags": []
          },
          "execution_count": 8
        }
      ]
    },
    {
      "cell_type": "code",
      "metadata": {
        "colab": {
          "base_uri": "https://localhost:8080/"
        },
        "id": "LjJE0aPDHOop",
        "outputId": "5c088404-5995-4ab2-c48b-3f15f3f7f216"
      },
      "source": [
        "# Class Distribution\n",
        "class_counts = data.groupby('SepsisLabel').size()\n",
        "print(class_counts)"
      ],
      "execution_count": 9,
      "outputs": [
        {
          "output_type": "stream",
          "text": [
            "SepsisLabel\n",
            "0    1144776\n",
            "1      22426\n",
            "dtype: int64\n"
          ],
          "name": "stdout"
        }
      ]
    },
    {
      "cell_type": "code",
      "metadata": {
        "colab": {
          "base_uri": "https://localhost:8080/"
        },
        "id": "3AZzBSZcIBM2",
        "outputId": "233fe7e4-952d-45c3-bf82-d4549073b0f9"
      },
      "source": [
        "shape = data.shape\n",
        "print(shape)"
      ],
      "execution_count": 10,
      "outputs": [
        {
          "output_type": "stream",
          "text": [
            "(1167202, 13)\n"
          ],
          "name": "stdout"
        }
      ]
    },
    {
      "cell_type": "code",
      "metadata": {
        "id": "Bj9lbQ8xIox5"
      },
      "source": [
        "plt.rcParams[\"figure.figsize\"] = (20, 15)"
      ],
      "execution_count": 11,
      "outputs": []
    },
    {
      "cell_type": "code",
      "metadata": {
        "id": "xOo09ZX9ZZW-"
      },
      "source": [
        "from imblearn.over_sampling import SMOTE\n",
        "\n",
        "smote = SMOTE( random_state= 0 )"
      ],
      "execution_count": 12,
      "outputs": []
    },
    {
      "cell_type": "code",
      "metadata": {
        "id": "17e3A7dXZsam"
      },
      "source": [
        "data=data.sample(n=100000,random_state=1,replace=True)"
      ],
      "execution_count": 13,
      "outputs": []
    },
    {
      "cell_type": "code",
      "metadata": {
        "colab": {
          "base_uri": "https://localhost:8080/"
        },
        "id": "oujtmYQ7Zv82",
        "outputId": "a3c606a1-4dfd-4c4a-b531-1771d930f27d"
      },
      "source": [
        "Xcol = data.drop(columns = [\"SepsisLabel\"])\n",
        "ycol = data[\"SepsisLabel\"]\n",
        "X=np.array(Xcol)\n",
        "y=np.array(ycol)\n",
        "X.shape,y.shape"
      ],
      "execution_count": 14,
      "outputs": [
        {
          "output_type": "execute_result",
          "data": {
            "text/plain": [
              "((100000, 12), (100000,))"
            ]
          },
          "metadata": {
            "tags": []
          },
          "execution_count": 14
        }
      ]
    },
    {
      "cell_type": "code",
      "metadata": {
        "id": "CllpfTmmKYJm"
      },
      "source": [
        "from sklearn.impute import SimpleImputer\n",
        "imputer = SimpleImputer(missing_values=np.nan,strategy='median')\n",
        "X = imputer.fit_transform(X)"
      ],
      "execution_count": 15,
      "outputs": []
    },
    {
      "cell_type": "code",
      "metadata": {
        "id": "KN8DanDtKx2f"
      },
      "source": [
        "X_rs, y_rs = smote.fit_resample(X, y)"
      ],
      "execution_count": 16,
      "outputs": []
    },
    {
      "cell_type": "code",
      "metadata": {
        "id": "Jhhi2wk9Qp-Z",
        "colab": {
          "base_uri": "https://localhost:8080/"
        },
        "outputId": "abfc05cd-a684-4efb-af6f-c2d900275796"
      },
      "source": [
        "# Bagged Decision Trees for Classification\n",
        "from sklearn.ensemble import BaggingClassifier\n",
        "seed = 7\n",
        "kfold = KFold(n_splits=10, random_state=seed)\n",
        "cart = DecisionTreeClassifier()\n",
        "num_trees = 100\n",
        "model = BaggingClassifier(base_estimator=cart, n_estimators=num_trees, random_state=seed)\n",
        "results = cross_val_score(model, X_rs, y_rs, cv=kfold)\n",
        "print(results.mean())"
      ],
      "execution_count": 17,
      "outputs": [
        {
          "output_type": "stream",
          "text": [
            "0.9906587535582583\n"
          ],
          "name": "stdout"
        }
      ]
    },
    {
      "cell_type": "code",
      "metadata": {
        "colab": {
          "base_uri": "https://localhost:8080/"
        },
        "id": "PKFC3cO4xvqn",
        "outputId": "219eafc5-9a63-45aa-d8ff-3669d97c80ca"
      },
      "source": [
        "# Cross Validation Classification Report\n",
        "test_size = 0.25\n",
        "seed = 7\n",
        "X_train, X_test, Y_train, Y_test = train_test_split(X_rs, y_rs, test_size=test_size, random_state=seed)\n",
        "model = BaggingClassifier(base_estimator=cart, n_estimators=num_trees, random_state=seed)\n",
        "model.fit(X_train, Y_train)\n",
        "predicted = model.predict(X_test)\n",
        "report = classification_report(Y_test, predicted)\n",
        "print(report)"
      ],
      "execution_count": 18,
      "outputs": [
        {
          "output_type": "stream",
          "text": [
            "              precision    recall  f1-score   support\n",
            "\n",
            "           0       0.98      1.00      0.99     24419\n",
            "           1       1.00      0.98      0.99     24610\n",
            "\n",
            "    accuracy                           0.99     49029\n",
            "   macro avg       0.99      0.99      0.99     49029\n",
            "weighted avg       0.99      0.99      0.99     49029\n",
            "\n"
          ],
          "name": "stdout"
        }
      ]
    },
    {
      "cell_type": "code",
      "metadata": {
        "id": "vuTjVHAhx-8r"
      },
      "source": [
        "bgc_probs = model.predict_proba(X_test)"
      ],
      "execution_count": 19,
      "outputs": []
    },
    {
      "cell_type": "code",
      "metadata": {
        "id": "lXKltugtyM4D"
      },
      "source": [
        "bgc_probs=bgc_probs[:, 1]"
      ],
      "execution_count": 20,
      "outputs": []
    },
    {
      "cell_type": "code",
      "metadata": {
        "colab": {
          "base_uri": "https://localhost:8080/"
        },
        "id": "wHNQryswyWNi",
        "outputId": "925c0b25-e871-4c3b-d31a-7aa011d14a52"
      },
      "source": [
        "from sklearn.metrics import roc_auc_score\n",
        "\n",
        "# calculate scores\n",
        "bgc_auc = roc_auc_score(Y_test, bgc_probs)\n",
        "\n",
        "\n",
        "print('Bagging Classifier with 100  trees: ROC AUC= {} %'.format(round(bgc_auc, 3)*100))"
      ],
      "execution_count": 21,
      "outputs": [
        {
          "output_type": "stream",
          "text": [
            "Bagging Classifier with 100  trees: ROC AUC= 99.6 %\n"
          ],
          "name": "stdout"
        }
      ]
    },
    {
      "cell_type": "code",
      "metadata": {
        "id": "XrELcdGtyoY3"
      },
      "source": [
        "from sklearn.metrics import roc_curve\n",
        "#fpr --> False Positive Rate\n",
        "#tpr --> True Positive Rate\n",
        "bgc_fpr, bgc_tpr, bgc_thres = roc_curve(Y_test, bgc_probs)"
      ],
      "execution_count": 22,
      "outputs": []
    },
    {
      "cell_type": "code",
      "metadata": {
        "id": "SnfEokIVQzs8",
        "colab": {
          "base_uri": "https://localhost:8080/"
        },
        "outputId": "6e73ccaa-654f-4b3d-bf1a-5a6af3956649"
      },
      "source": [
        "# Random Forest Classification\n",
        "from sklearn.ensemble import RandomForestClassifier\n",
        "num_trees = 100\n",
        "max_features = 3\n",
        "kfold = KFold(n_splits=10, random_state=7)\n",
        "model = RandomForestClassifier(n_estimators=num_trees, max_features=max_features)\n",
        "results = cross_val_score(model, X_rs, y_rs, cv=kfold)\n",
        "print(results.mean())"
      ],
      "execution_count": 23,
      "outputs": [
        {
          "output_type": "stream",
          "text": [
            "0.9915714694245873\n"
          ],
          "name": "stdout"
        }
      ]
    },
    {
      "cell_type": "code",
      "metadata": {
        "colab": {
          "base_uri": "https://localhost:8080/"
        },
        "id": "kWO7_MQQ1fhd",
        "outputId": "0c0eec90-24b8-4f48-d179-791db2b29619"
      },
      "source": [
        "# Cross Validation Classification Report\n",
        "test_size = 0.25\n",
        "seed = 7\n",
        "X_train, X_test, Y_train, Y_test = train_test_split(X_rs, y_rs, test_size=test_size, random_state=seed)\n",
        "model = RandomForestClassifier(n_estimators=num_trees, max_features=max_features)\n",
        "model.fit(X_train, Y_train)\n",
        "predicted = model.predict(X_test)\n",
        "report = classification_report(Y_test, predicted)\n",
        "print(report)"
      ],
      "execution_count": 24,
      "outputs": [
        {
          "output_type": "stream",
          "text": [
            "              precision    recall  f1-score   support\n",
            "\n",
            "           0       0.98      1.00      0.99     24419\n",
            "           1       1.00      0.98      0.99     24610\n",
            "\n",
            "    accuracy                           0.99     49029\n",
            "   macro avg       0.99      0.99      0.99     49029\n",
            "weighted avg       0.99      0.99      0.99     49029\n",
            "\n"
          ],
          "name": "stdout"
        }
      ]
    },
    {
      "cell_type": "code",
      "metadata": {
        "id": "YWovxNR_1ulI"
      },
      "source": [
        "rfc_probs = model.predict_proba(X_test)"
      ],
      "execution_count": 25,
      "outputs": []
    },
    {
      "cell_type": "code",
      "metadata": {
        "id": "tsZy9a6c1xJR"
      },
      "source": [
        "rfc_probs=rfc_probs[:,1]"
      ],
      "execution_count": 26,
      "outputs": []
    },
    {
      "cell_type": "code",
      "metadata": {
        "colab": {
          "base_uri": "https://localhost:8080/"
        },
        "id": "djga7TZp15eW",
        "outputId": "b0954b95-fbed-4072-eed8-330e32a0228f"
      },
      "source": [
        "from sklearn.metrics import roc_auc_score\n",
        "\n",
        "# calculate scores\n",
        "rfc_auc = roc_auc_score(Y_test, rfc_probs)\n",
        "\n",
        "\n",
        "print('Random Forest Classifier with 100  trees: ROC AUC= {} %'.format(round(rfc_auc, 3)*100))"
      ],
      "execution_count": 27,
      "outputs": [
        {
          "output_type": "stream",
          "text": [
            "Random Forest Classifier with 100  trees: ROC AUC= 99.7 %\n"
          ],
          "name": "stdout"
        }
      ]
    },
    {
      "cell_type": "code",
      "metadata": {
        "id": "gC_9f4MM2Dio"
      },
      "source": [
        "from sklearn.metrics import roc_curve\n",
        "#fpr --> False Positive Rate\n",
        "#tpr --> True Positive Rate\n",
        "rfc_fpr, rfc_tpr, rfc_thres = roc_curve(Y_test, rfc_probs)"
      ],
      "execution_count": 28,
      "outputs": []
    },
    {
      "cell_type": "code",
      "metadata": {
        "id": "H_CczolOQ-xI",
        "colab": {
          "base_uri": "https://localhost:8080/"
        },
        "outputId": "a7a08750-62b1-4719-8dd8-49fba487bbc0"
      },
      "source": [
        "# Extra Trees Classification\n",
        "from sklearn.ensemble import ExtraTreesClassifier\n",
        "num_trees = 100\n",
        "max_features = 7\n",
        "kfold = KFold(n_splits=10, random_state=7)\n",
        "model = ExtraTreesClassifier(n_estimators=num_trees, max_features=max_features)\n",
        "results = cross_val_score(model, X_rs, y_rs, cv=kfold)\n",
        "print(results.mean())"
      ],
      "execution_count": 29,
      "outputs": [
        {
          "output_type": "stream",
          "text": [
            "0.9914083003756117\n"
          ],
          "name": "stdout"
        }
      ]
    },
    {
      "cell_type": "code",
      "metadata": {
        "colab": {
          "base_uri": "https://localhost:8080/"
        },
        "id": "_8rmA87L2sDd",
        "outputId": "6ba7351c-ed7d-4fd8-99f0-f7e93e8835d6"
      },
      "source": [
        "# Cross Validation Classification Report\n",
        "test_size = 0.25\n",
        "seed = 7\n",
        "X_train, X_test, Y_train, Y_test = train_test_split(X_rs, y_rs, test_size=test_size, random_state=seed)\n",
        "model = ExtraTreesClassifier(n_estimators=num_trees, max_features=max_features)\n",
        "model.fit(X_train, Y_train)\n",
        "predicted = model.predict(X_test)\n",
        "report = classification_report(Y_test, predicted)\n",
        "print(report)"
      ],
      "execution_count": 30,
      "outputs": [
        {
          "output_type": "stream",
          "text": [
            "              precision    recall  f1-score   support\n",
            "\n",
            "           0       0.99      1.00      0.99     24419\n",
            "           1       1.00      0.99      0.99     24610\n",
            "\n",
            "    accuracy                           0.99     49029\n",
            "   macro avg       0.99      0.99      0.99     49029\n",
            "weighted avg       0.99      0.99      0.99     49029\n",
            "\n"
          ],
          "name": "stdout"
        }
      ]
    },
    {
      "cell_type": "code",
      "metadata": {
        "id": "d0WKsvaY21G3"
      },
      "source": [
        "ext_probs = model.predict_proba(X_test)"
      ],
      "execution_count": 31,
      "outputs": []
    },
    {
      "cell_type": "code",
      "metadata": {
        "id": "hxwnNwqI28Gb"
      },
      "source": [
        "ext_probs=ext_probs[:,1]"
      ],
      "execution_count": 32,
      "outputs": []
    },
    {
      "cell_type": "code",
      "metadata": {
        "colab": {
          "base_uri": "https://localhost:8080/"
        },
        "id": "Ib-iMTgu3Aie",
        "outputId": "c8dc0615-af4f-498a-cadc-cfb54aff1bda"
      },
      "source": [
        "from sklearn.metrics import roc_auc_score\n",
        "\n",
        "# calculate scores\n",
        "ext_auc = roc_auc_score(Y_test, ext_probs)\n",
        "\n",
        "\n",
        "print('Extra Trees Classifier with 100  trees: ROC AUC= {} %'.format(round(ext_auc, 3)*100))"
      ],
      "execution_count": 33,
      "outputs": [
        {
          "output_type": "stream",
          "text": [
            "Extra Trees Classifier with 100  trees: ROC AUC= 99.7 %\n"
          ],
          "name": "stdout"
        }
      ]
    },
    {
      "cell_type": "code",
      "metadata": {
        "id": "3S9-CrSf3fwq"
      },
      "source": [
        "from sklearn.metrics import roc_curve\n",
        "#fpr --> False Positive Rate\n",
        "#tpr --> True Positive Rate\n",
        "ext_fpr, ext_tpr, ext_thres = roc_curve(Y_test, ext_probs)"
      ],
      "execution_count": 34,
      "outputs": []
    },
    {
      "cell_type": "code",
      "metadata": {
        "id": "Ij97WE6WRbhj",
        "colab": {
          "base_uri": "https://localhost:8080/"
        },
        "outputId": "e8472dec-ad82-4821-b0d5-7e71468acec4"
      },
      "source": [
        "# AdaBoost Classification\n",
        "from sklearn.ensemble import AdaBoostClassifier\n",
        "num_trees = 30\n",
        "seed=7\n",
        "kfold = KFold(n_splits=10, random_state=seed)\n",
        "model = AdaBoostClassifier(n_estimators=num_trees, random_state=seed)\n",
        "results = cross_val_score(model, X_rs, y_rs, cv=kfold)\n",
        "print(results.mean())"
      ],
      "execution_count": 35,
      "outputs": [
        {
          "output_type": "stream",
          "text": [
            "0.9137699518119782\n"
          ],
          "name": "stdout"
        }
      ]
    },
    {
      "cell_type": "code",
      "metadata": {
        "id": "LfZlVNZsRfAj",
        "colab": {
          "base_uri": "https://localhost:8080/"
        },
        "outputId": "857655ae-5ce7-4975-8245-c919d6c6855b"
      },
      "source": [
        "# Stochastic Gradient Boosting Classification\n",
        "from sklearn.ensemble import GradientBoostingClassifier\n",
        "seed = 7\n",
        "num_trees = 100\n",
        "kfold = KFold(n_splits=10, random_state=seed)\n",
        "model = GradientBoostingClassifier(n_estimators=num_trees, random_state=seed)\n",
        "results = cross_val_score(model, X_rs, y_rs, cv=kfold)\n",
        "print(results.mean())"
      ],
      "execution_count": 36,
      "outputs": [
        {
          "output_type": "stream",
          "text": [
            "0.9444558585765834\n"
          ],
          "name": "stdout"
        }
      ]
    },
    {
      "cell_type": "code",
      "metadata": {
        "id": "7Wa-v20cRmF-",
        "colab": {
          "base_uri": "https://localhost:8080/"
        },
        "outputId": "b8b5bce1-67c6-402a-d7a4-c6128faf8abb"
      },
      "source": [
        "# Voting Ensemble for Classification\n",
        "from sklearn.ensemble import VotingClassifier\n",
        "kfold = KFold(n_splits=10, random_state=7)\n",
        "# create the sub models\n",
        "estimators = []\n",
        "model1 = LogisticRegression()\n",
        "estimators.append(('logistic', model1))\n",
        "model2 = DecisionTreeClassifier()\n",
        "estimators.append(('cart', model2))\n",
        "model3 = KNeighborsClassifier()\n",
        "estimators.append(('knn', model3))\n",
        "# create the ensemble model\n",
        "ensemble = VotingClassifier(estimators)\n",
        "results = cross_val_score(ensemble, X_rs, y_rs, cv=kfold)\n",
        "print(results.mean())"
      ],
      "execution_count": 37,
      "outputs": [
        {
          "output_type": "stream",
          "text": [
            "0.8751853938462675\n"
          ],
          "name": "stdout"
        }
      ]
    },
    {
      "cell_type": "code",
      "metadata": {
        "id": "Z1Z334rHg2uj",
        "colab": {
          "base_uri": "https://localhost:8080/"
        },
        "outputId": "d1afb3ce-9445-4533-cb15-a5ff770736ba"
      },
      "source": [
        "# Cross Validation Classification Report\n",
        "test_size = 0.25\n",
        "seed = 7\n",
        "X_train, X_test, Y_train, Y_test = train_test_split(X_rs, y_rs, test_size=test_size, random_state=seed)\n",
        "model = GradientBoostingClassifier(n_estimators=num_trees, random_state=seed)\n",
        "model.fit(X_train, Y_train)\n",
        "predicted = model.predict(X_test)\n",
        "report = classification_report(Y_test, predicted)\n",
        "print(report)"
      ],
      "execution_count": 38,
      "outputs": [
        {
          "output_type": "stream",
          "text": [
            "              precision    recall  f1-score   support\n",
            "\n",
            "           0       0.91      0.99      0.95     24419\n",
            "           1       0.99      0.91      0.95     24610\n",
            "\n",
            "    accuracy                           0.95     49029\n",
            "   macro avg       0.95      0.95      0.95     49029\n",
            "weighted avg       0.95      0.95      0.95     49029\n",
            "\n"
          ],
          "name": "stdout"
        }
      ]
    },
    {
      "cell_type": "code",
      "metadata": {
        "id": "CgQfJNNvVfNU"
      },
      "source": [
        "gbc_probs = model.predict_proba(X_test)"
      ],
      "execution_count": 39,
      "outputs": []
    },
    {
      "cell_type": "code",
      "metadata": {
        "id": "2jrUc90hVvKf"
      },
      "source": [
        "gbc_probs = gbc_probs[:, 1]"
      ],
      "execution_count": 40,
      "outputs": []
    },
    {
      "cell_type": "code",
      "metadata": {
        "colab": {
          "base_uri": "https://localhost:8080/"
        },
        "id": "Zh6xUc5QV2Iv",
        "outputId": "2ba0733c-0ebf-4bee-e37b-38d2aa1f8f7e"
      },
      "source": [
        "from sklearn.metrics import roc_auc_score\n",
        "\n",
        "# calculate scores\n",
        "gbc_auc = roc_auc_score(Y_test, gbc_probs)\n",
        "\n",
        "\n",
        "print('Gradient Boosting Classifier with 100  trees: ROC AUC= {} %'.format(round(gbc_auc, 3)*100))"
      ],
      "execution_count": 41,
      "outputs": [
        {
          "output_type": "stream",
          "text": [
            "Gradient Boosting Classifier with 100  trees: ROC AUC= 98.2 %\n"
          ],
          "name": "stdout"
        }
      ]
    },
    {
      "cell_type": "code",
      "metadata": {
        "id": "MLqnbIgXWLmH"
      },
      "source": [
        "from sklearn.metrics import roc_curve\n",
        "#fpr --> False Positive Rate\n",
        "#tpr --> True Positive Rate\n",
        "gbc_fpr, gbc_tpr, gbc_thres = roc_curve(Y_test, gbc_probs)"
      ],
      "execution_count": 42,
      "outputs": []
    },
    {
      "cell_type": "code",
      "metadata": {
        "colab": {
          "base_uri": "https://localhost:8080/"
        },
        "id": "Ye3ZHqiJYFSM",
        "outputId": "8efa7ad8-d1d5-42d6-a7c9-905d7f8f8c16"
      },
      "source": [
        "# Cross Validation Classification Report\n",
        "test_size = 0.25\n",
        "seed = 7\n",
        "num_trees=30\n",
        "X_train, X_test, Y_train, Y_test = train_test_split(X_rs, y_rs, test_size=test_size, random_state=seed)\n",
        "model = AdaBoostClassifier(n_estimators=num_trees, random_state=seed)\n",
        "model.fit(X_train, Y_train)\n",
        "predicted = model.predict(X_test)\n",
        "report = classification_report(Y_test, predicted)\n",
        "print(report)"
      ],
      "execution_count": 43,
      "outputs": [
        {
          "output_type": "stream",
          "text": [
            "              precision    recall  f1-score   support\n",
            "\n",
            "           0       0.90      0.97      0.93     24419\n",
            "           1       0.96      0.89      0.92     24610\n",
            "\n",
            "    accuracy                           0.93     49029\n",
            "   macro avg       0.93      0.93      0.93     49029\n",
            "weighted avg       0.93      0.93      0.93     49029\n",
            "\n"
          ],
          "name": "stdout"
        }
      ]
    },
    {
      "cell_type": "code",
      "metadata": {
        "id": "bFGlg0yaYksK"
      },
      "source": [
        "ada_probs=model.predict_proba(X_test)\n",
        "ada_probs=ada_probs[:,1]"
      ],
      "execution_count": 44,
      "outputs": []
    },
    {
      "cell_type": "code",
      "metadata": {
        "colab": {
          "base_uri": "https://localhost:8080/"
        },
        "id": "BNVnXJY6Y8oc",
        "outputId": "d58b2017-5140-42cf-93f3-047816a81a9b"
      },
      "source": [
        "ada_auc = roc_auc_score(Y_test, ada_probs)\n",
        "\n",
        "\n",
        "print('ADABoost Classifier with 30 trees: ROC AUC= {} %'.format(round(ada_auc, 3)*100))"
      ],
      "execution_count": 45,
      "outputs": [
        {
          "output_type": "stream",
          "text": [
            "ADABoost Classifier with 30 trees: ROC AUC= 96.6 %\n"
          ],
          "name": "stdout"
        }
      ]
    },
    {
      "cell_type": "code",
      "metadata": {
        "id": "jligLToQZF7B"
      },
      "source": [
        "from sklearn.metrics import roc_curve\n",
        "#fpr --> False Positive Rate\n",
        "#tpr --> True Positive Rate\n",
        "ada_fpr, ada_tpr, ada_thres = roc_curve(Y_test, ada_probs)"
      ],
      "execution_count": 46,
      "outputs": []
    },
    {
      "cell_type": "code",
      "metadata": {
        "colab": {
          "base_uri": "https://localhost:8080/"
        },
        "id": "VeklIwo8ZOEb",
        "outputId": "c54b93da-c246-47c9-c606-5d9634884c90"
      },
      "source": [
        "# Cross Validation Classification Report\n",
        "test_size = 0.25\n",
        "seed = 7\n",
        "X_train, X_test, Y_train, Y_test = train_test_split(X_rs, y_rs, test_size=test_size, random_state=seed)\n",
        "ensemble = VotingClassifier(estimators, voting='soft')\n",
        "ensemble.fit(X_train, Y_train)\n",
        "predicted = ensemble.predict(X_test)\n",
        "report = classification_report(Y_test, predicted)\n",
        "print(report)"
      ],
      "execution_count": 47,
      "outputs": [
        {
          "output_type": "stream",
          "text": [
            "              precision    recall  f1-score   support\n",
            "\n",
            "           0       0.97      0.98      0.98     24419\n",
            "           1       0.98      0.97      0.98     24610\n",
            "\n",
            "    accuracy                           0.98     49029\n",
            "   macro avg       0.98      0.98      0.98     49029\n",
            "weighted avg       0.98      0.98      0.98     49029\n",
            "\n"
          ],
          "name": "stdout"
        }
      ]
    },
    {
      "cell_type": "code",
      "metadata": {
        "id": "2zeQe9D3aneJ"
      },
      "source": [
        "ensemble_probs=ensemble.predict_proba(X_test)\n",
        "ensemble_probs=ensemble_probs[:,1]"
      ],
      "execution_count": 48,
      "outputs": []
    },
    {
      "cell_type": "code",
      "metadata": {
        "colab": {
          "base_uri": "https://localhost:8080/"
        },
        "id": "L0QQXxmqayw3",
        "outputId": "d6f2ecec-dac3-4340-89d5-0cab92022aae"
      },
      "source": [
        "ensemble_auc = roc_auc_score(Y_test, ensemble_probs)\n",
        "\n",
        "\n",
        "print('Voting Classifier with LR, CART, KNN: ROC AUC= {} %'.format(round(ensemble_auc, 3)*100))"
      ],
      "execution_count": 49,
      "outputs": [
        {
          "output_type": "stream",
          "text": [
            "Voting Classifier with LR, CART, KNN: ROC AUC= 99.5 %\n"
          ],
          "name": "stdout"
        }
      ]
    },
    {
      "cell_type": "code",
      "metadata": {
        "id": "YrcQBpMDbWRx"
      },
      "source": [
        "ensemble_fpr, ensemble_tpr, ensemble_thres = roc_curve(Y_test, ensemble_probs)"
      ],
      "execution_count": 50,
      "outputs": []
    },
    {
      "cell_type": "code",
      "metadata": {
        "colab": {
          "base_uri": "https://localhost:8080/",
          "height": 496
        },
        "id": "3mMEQhmDWcw3",
        "outputId": "a959f941-c5c6-43a3-e209-ff4ffc48190c"
      },
      "source": [
        "fig, ax = plt.subplots(figsize=(10, 8))\n",
        "ax.plot(bgc_fpr,bgc_tpr, marker='.', label='Bagging Classifier with 100 trees')\n",
        "ax.plot(rfc_fpr, rfc_tpr, marker='.', label='Random Forest Classifier with 100 trees' )\n",
        "ax.plot(ext_fpr, ext_tpr,marker='.', label='Extra Trees Classifier with 100 trees')\n",
        "ax.plot(gbc_fpr, gbc_tpr, marker='.', label='Gradient Boosting Classifier with 100 trees')\n",
        "ax.plot(ada_fpr, ada_tpr, marker='.', label='ADABoost Classifier with 30 trees')\n",
        "ax.plot(ensemble_fpr, ensemble_tpr, marker='.', label= 'Voting Classifier with LR, CART, KNN' )\n",
        "lw = 2\n",
        "ax.plot([0, 1], [0, 1], color='navy', lw=lw, linestyle='--')\n",
        "# axis labels\n",
        "plt.xlabel('False Positive Rate')\n",
        "plt.ylabel('True Positive Rate')\n",
        "# show the legend\n",
        "plt.legend(loc=5)\n",
        "# show the plot\n",
        "plt.show()"
      ],
      "execution_count": 51,
      "outputs": [
        {
          "output_type": "display_data",
          "data": {
            "image/png": "[encoded data removed]",
            "text/plain": [
              "<Figure size 720x576 with 1 Axes>"
            ]
          },
          "metadata": {
            "tags": [],
            "needs_background": "light"
          }
        }
      ]
    },
    {
      "cell_type": "code",
      "metadata": {
        "id": "XlJhuMEaZcaI"
      },
      "source": [
        ""
      ],
      "execution_count": null,
      "outputs": []
    }
  ]
}