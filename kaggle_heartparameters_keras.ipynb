{
  "nbformat": 4,
  "nbformat_minor": 0,
  "metadata": {
    "colab": {
      "name": "kaggle_heartparameters_keras.ipynb",
      "provenance": [],
      "authorship_tag": "ABX9TyPpP86whL2WXuGrfsOvHStC",
      "include_colab_link": true
    },
    "kernelspec": {
      "name": "python3",
      "display_name": "Python 3"
    }
  },
  "cells": [
    {
      "cell_type": "markdown",
      "metadata": {
        "id": "view-in-github",
        "colab_type": "text"
      },
      "source": [
        "<a href=\"https://colab.research.google.com/github/aparnashenoy/ml/blob/master/kaggle_heartparameters_keras.ipynb\" target=\"_parent\"><img src=\"https://colab.research.google.com/assets/colab-badge.svg\" alt=\"Open In Colab\"/></a>"
      ]
    },
    {
      "cell_type": "code",
      "metadata": {
        "id": "w80NKqDTsWpy",
        "colab_type": "code",
        "colab": {
          "base_uri": "https://localhost:8080/",
          "height": 139
        },
        "outputId": "3818d199-23e3-49c5-9030-a420020603fa"
      },
      "source": [
        "from google.colab import drive\n",
        "drive.mount('/gdrive')\n",
        "%cd /gdrive"
      ],
      "execution_count": 1,
      "outputs": [
        {
          "output_type": "stream",
          "text": [
            "Go to this URL in a browser: https://accounts.google.com/o/oauth2/auth?client_id=947318989803-6bn6qk8qdgf4n4g3pfee6491hc0brc4i.apps.googleusercontent.com&redirect_uri=urn%3aietf%3awg%3aoauth%3a2.0%3aoob&scope=email%20https%3a%2f%2fwww.googleapis.com%2fauth%2fdocs.test%20https%3a%2f%2fwww.googleapis.com%2fauth%2fdrive%20https%3a%2f%2fwww.googleapis.com%2fauth%2fdrive.photos.readonly%20https%3a%2f%2fwww.googleapis.com%2fauth%2fpeopleapi.readonly&response_type=code\n",
            "\n",
            "Enter your authorization code:\n",
            "··········\n",
            "Mounted at /gdrive\n",
            "/gdrive\n"
          ],
          "name": "stdout"
        }
      ]
    },
    {
      "cell_type": "code",
      "metadata": {
        "id": "9Ko5rkR8szQN",
        "colab_type": "code",
        "colab": {
          "base_uri": "https://localhost:8080/",
          "height": 71
        },
        "outputId": "e647e085-884d-4f00-d3b2-1fb937b24f52"
      },
      "source": [
        "import pandas as pd\n",
        "import matplotlib.pyplot as plt\n",
        "import seaborn as sns\n",
        "import numpy as np\n",
        "from sklearn.model_selection import train_test_split, cross_val_score\n",
        "from sklearn.linear_model import LogisticRegression\n",
        "from sklearn.dummy import DummyClassifier\n",
        "from sklearn.metrics import accuracy_score, f1_score, confusion_matrix, recall_score, roc_auc_score, roc_curve\n",
        "%matplotlib inline\n",
        "from sklearn.ensemble import GradientBoostingClassifier\n",
        "from sklearn.model_selection import GridSearchCV\n",
        "from sklearn.preprocessing import binarize\n",
        "from sklearn.feature_selection import SelectKBest\n",
        "from sklearn.feature_selection import chi2\n",
        "import warnings\n",
        "warnings.filterwarnings(\"ignore\", category=DeprecationWarning) "
      ],
      "execution_count": 2,
      "outputs": [
        {
          "output_type": "stream",
          "text": [
            "/usr/local/lib/python3.6/dist-packages/statsmodels/tools/_testing.py:19: FutureWarning: pandas.util.testing is deprecated. Use the functions in the public API at pandas.testing instead.\n",
            "  import pandas.util.testing as tm\n"
          ],
          "name": "stderr"
        }
      ]
    },
    {
      "cell_type": "code",
      "metadata": {
        "id": "Ir3Wx9U-sf-p",
        "colab_type": "code",
        "colab": {}
      },
      "source": [
        "df= pd.read_csv(\"/gdrive/My Drive/df1_heart.csv\")"
      ],
      "execution_count": 3,
      "outputs": []
    },
    {
      "cell_type": "code",
      "metadata": {
        "id": "sYT6Ajc6s7o1",
        "colab_type": "code",
        "colab": {
          "base_uri": "https://localhost:8080/",
          "height": 204
        },
        "outputId": "9e5f2e59-4137-4e19-91b7-8f437ef1b3c9"
      },
      "source": [
        "df.head()"
      ],
      "execution_count": 4,
      "outputs": [
        {
          "output_type": "execute_result",
          "data": {
            "text/html": [
              "<div>\n",
              "<style scoped>\n",
              "    .dataframe tbody tr th:only-of-type {\n",
              "        vertical-align: middle;\n",
              "    }\n",
              "\n",
              "    .dataframe tbody tr th {\n",
              "        vertical-align: top;\n",
              "    }\n",
              "\n",
              "    .dataframe thead th {\n",
              "        text-align: right;\n",
              "    }\n",
              "</style>\n",
              "<table border=\"1\" class=\"dataframe\">\n",
              "  <thead>\n",
              "    <tr style=\"text-align: right;\">\n",
              "      <th></th>\n",
              "      <th>Unnamed: 0</th>\n",
              "      <th>HR</th>\n",
              "      <th>O2Sat</th>\n",
              "      <th>Temp</th>\n",
              "      <th>SBP</th>\n",
              "      <th>MAP</th>\n",
              "      <th>DBP</th>\n",
              "      <th>Age</th>\n",
              "      <th>SepsisLabel</th>\n",
              "    </tr>\n",
              "  </thead>\n",
              "  <tbody>\n",
              "    <tr>\n",
              "      <th>0</th>\n",
              "      <td>0</td>\n",
              "      <td>99.0</td>\n",
              "      <td>100.0</td>\n",
              "      <td>37.0</td>\n",
              "      <td>120.0</td>\n",
              "      <td>71.0</td>\n",
              "      <td>60.0</td>\n",
              "      <td>69.66</td>\n",
              "      <td>0</td>\n",
              "    </tr>\n",
              "    <tr>\n",
              "      <th>1</th>\n",
              "      <td>1</td>\n",
              "      <td>97.5</td>\n",
              "      <td>100.0</td>\n",
              "      <td>37.0</td>\n",
              "      <td>120.0</td>\n",
              "      <td>78.0</td>\n",
              "      <td>60.0</td>\n",
              "      <td>69.66</td>\n",
              "      <td>0</td>\n",
              "    </tr>\n",
              "    <tr>\n",
              "      <th>2</th>\n",
              "      <td>2</td>\n",
              "      <td>96.0</td>\n",
              "      <td>100.0</td>\n",
              "      <td>37.0</td>\n",
              "      <td>120.0</td>\n",
              "      <td>70.0</td>\n",
              "      <td>60.0</td>\n",
              "      <td>69.66</td>\n",
              "      <td>0</td>\n",
              "    </tr>\n",
              "    <tr>\n",
              "      <th>3</th>\n",
              "      <td>3</td>\n",
              "      <td>100.0</td>\n",
              "      <td>99.0</td>\n",
              "      <td>37.0</td>\n",
              "      <td>120.0</td>\n",
              "      <td>75.0</td>\n",
              "      <td>60.0</td>\n",
              "      <td>69.66</td>\n",
              "      <td>0</td>\n",
              "    </tr>\n",
              "    <tr>\n",
              "      <th>4</th>\n",
              "      <td>4</td>\n",
              "      <td>102.0</td>\n",
              "      <td>100.0</td>\n",
              "      <td>36.0</td>\n",
              "      <td>120.0</td>\n",
              "      <td>74.0</td>\n",
              "      <td>60.0</td>\n",
              "      <td>69.66</td>\n",
              "      <td>0</td>\n",
              "    </tr>\n",
              "  </tbody>\n",
              "</table>\n",
              "</div>"
            ],
            "text/plain": [
              "   Unnamed: 0     HR  O2Sat  Temp    SBP   MAP   DBP    Age  SepsisLabel\n",
              "0           0   99.0  100.0  37.0  120.0  71.0  60.0  69.66            0\n",
              "1           1   97.5  100.0  37.0  120.0  78.0  60.0  69.66            0\n",
              "2           2   96.0  100.0  37.0  120.0  70.0  60.0  69.66            0\n",
              "3           3  100.0   99.0  37.0  120.0  75.0  60.0  69.66            0\n",
              "4           4  102.0  100.0  36.0  120.0  74.0  60.0  69.66            0"
            ]
          },
          "metadata": {
            "tags": []
          },
          "execution_count": 4
        }
      ]
    },
    {
      "cell_type": "code",
      "metadata": {
        "id": "dRAQavJutBV9",
        "colab_type": "code",
        "colab": {}
      },
      "source": [
        "df.drop(['Unnamed: 0'], axis=1, inplace=True)"
      ],
      "execution_count": 5,
      "outputs": []
    },
    {
      "cell_type": "code",
      "metadata": {
        "id": "soAAL4ZEtIR0",
        "colab_type": "code",
        "colab": {
          "base_uri": "https://localhost:8080/",
          "height": 68
        },
        "outputId": "4809039b-565e-4809-df27-e19bedf68dde"
      },
      "source": [
        "df.SepsisLabel.value_counts()"
      ],
      "execution_count": 6,
      "outputs": [
        {
          "output_type": "execute_result",
          "data": {
            "text/plain": [
              "0    973683\n",
              "1     20124\n",
              "Name: SepsisLabel, dtype: int64"
            ]
          },
          "metadata": {
            "tags": []
          },
          "execution_count": 6
        }
      ]
    },
    {
      "cell_type": "code",
      "metadata": {
        "id": "5zSn4FG-tMJ8",
        "colab_type": "code",
        "colab": {
          "base_uri": "https://localhost:8080/",
          "height": 296
        },
        "outputId": "ce2a78ad-12bf-4639-b8c6-154dc24ae53e"
      },
      "source": [
        "sns.boxplot(df['HR'])"
      ],
      "execution_count": 7,
      "outputs": [
        {
          "output_type": "execute_result",
          "data": {
            "text/plain": [
              "<matplotlib.axes._subplots.AxesSubplot at 0x7fc1dc335208>"
            ]
          },
          "metadata": {
            "tags": []
          },
          "execution_count": 7
        },
        {
          "output_type": "display_data",
          "data": {
            "image/png": "[encoded data removed]",
            "text/plain": [
              "<Figure size 432x288 with 1 Axes>"
            ]
          },
          "metadata": {
            "tags": [],
            "needs_background": "light"
          }
        }
      ]
    },
    {
      "cell_type": "code",
      "metadata": {
        "id": "cZ1i6ALHtTA3",
        "colab_type": "code",
        "colab": {
          "base_uri": "https://localhost:8080/",
          "height": 51
        },
        "outputId": "3675ba79-2dee-44c7-b88c-bc4a04c1b3dc"
      },
      "source": [
        "print(df['HR'].quantile(0.10))\n",
        "print(df['HR'].quantile(0.90))"
      ],
      "execution_count": 8,
      "outputs": [
        {
          "output_type": "stream",
          "text": [
            "64.0\n",
            "106.0\n"
          ],
          "name": "stdout"
        }
      ]
    },
    {
      "cell_type": "code",
      "metadata": {
        "id": "vnCjQTOEtXgF",
        "colab_type": "code",
        "colab": {
          "base_uri": "https://localhost:8080/",
          "height": 34
        },
        "outputId": "0ed682c2-f991-44e8-cfea-77745cfb0345"
      },
      "source": [
        "df[\"HR\"] = np.where(df[\"HR\"] <64.0, 64.0,df['HR'])\n",
        "df[\"HR\"] = np.where(df[\"HR\"] >106.0, 106.0,df['HR'])\n",
        "print(df['HR'].skew())"
      ],
      "execution_count": 9,
      "outputs": [
        {
          "output_type": "stream",
          "text": [
            "0.11335757383538864\n"
          ],
          "name": "stdout"
        }
      ]
    },
    {
      "cell_type": "code",
      "metadata": {
        "id": "EKXog71ttbC9",
        "colab_type": "code",
        "colab": {
          "base_uri": "https://localhost:8080/",
          "height": 296
        },
        "outputId": "d03e9451-cb0b-4eec-ed83-15934e0c7528"
      },
      "source": [
        "sns.boxplot(df['HR'])"
      ],
      "execution_count": 10,
      "outputs": [
        {
          "output_type": "execute_result",
          "data": {
            "text/plain": [
              "<matplotlib.axes._subplots.AxesSubplot at 0x7fc1ccdbc1d0>"
            ]
          },
          "metadata": {
            "tags": []
          },
          "execution_count": 10
        },
        {
          "output_type": "display_data",
          "data": {
            "image/png": "[encoded data removed]",
            "text/plain": [
              "<Figure size 432x288 with 1 Axes>"
            ]
          },
          "metadata": {
            "tags": [],
            "needs_background": "light"
          }
        }
      ]
    },
    {
      "cell_type": "code",
      "metadata": {
        "id": "9kErot9buolV",
        "colab_type": "code",
        "colab": {
          "base_uri": "https://localhost:8080/",
          "height": 296
        },
        "outputId": "e1f82a77-bd8c-4c98-fc18-09930f40ecc5"
      },
      "source": [
        "sns.boxplot(df['O2Sat'])"
      ],
      "execution_count": 11,
      "outputs": [
        {
          "output_type": "execute_result",
          "data": {
            "text/plain": [
              "<matplotlib.axes._subplots.AxesSubplot at 0x7fc1cc8dd240>"
            ]
          },
          "metadata": {
            "tags": []
          },
          "execution_count": 11
        },
        {
          "output_type": "display_data",
          "data": {
            "image/png": "[encoded data removed]",
            "text/plain": [
              "<Figure size 432x288 with 1 Axes>"
            ]
          },
          "metadata": {
            "tags": [],
            "needs_background": "light"
          }
        }
      ]
    },
    {
      "cell_type": "code",
      "metadata": {
        "id": "13LoH86yutAN",
        "colab_type": "code",
        "colab": {
          "base_uri": "https://localhost:8080/",
          "height": 51
        },
        "outputId": "6f398ee5-c2da-4b91-8481-f4a960e30884"
      },
      "source": [
        "print(df['O2Sat'].quantile(0.10))\n",
        "print(df['O2Sat'].quantile(0.90))"
      ],
      "execution_count": 12,
      "outputs": [
        {
          "output_type": "stream",
          "text": [
            "94.0\n",
            "100.0\n"
          ],
          "name": "stdout"
        }
      ]
    },
    {
      "cell_type": "code",
      "metadata": {
        "id": "Z3nA1CfxuyFV",
        "colab_type": "code",
        "colab": {
          "base_uri": "https://localhost:8080/",
          "height": 34
        },
        "outputId": "9f49e076-cfaa-415e-a9a7-1193533c825c"
      },
      "source": [
        "df[\"O2Sat\"] = np.where(df[\"O2Sat\"] <94.0, 94.0,df['O2Sat'])\n",
        "df[\"O2Sat\"] = np.where(df[\"O2Sat\"] >100.0, 100.0,df['O2Sat'])\n",
        "print(df['O2Sat'].skew())"
      ],
      "execution_count": 13,
      "outputs": [
        {
          "output_type": "stream",
          "text": [
            "-0.4277130710644394\n"
          ],
          "name": "stdout"
        }
      ]
    },
    {
      "cell_type": "code",
      "metadata": {
        "id": "7RQupNaTu1lO",
        "colab_type": "code",
        "colab": {
          "base_uri": "https://localhost:8080/",
          "height": 296
        },
        "outputId": "3744d3d8-3ac7-42c9-881f-3ebd8c4d7aeb"
      },
      "source": [
        "sns.boxplot(df['O2Sat'])"
      ],
      "execution_count": 14,
      "outputs": [
        {
          "output_type": "execute_result",
          "data": {
            "text/plain": [
              "<matplotlib.axes._subplots.AxesSubplot at 0x7fc1cc852160>"
            ]
          },
          "metadata": {
            "tags": []
          },
          "execution_count": 14
        },
        {
          "output_type": "display_data",
          "data": {
            "image/png": "[encoded data removed]",
            "text/plain": [
              "<Figure size 432x288 with 1 Axes>"
            ]
          },
          "metadata": {
            "tags": [],
            "needs_background": "light"
          }
        }
      ]
    },
    {
      "cell_type": "code",
      "metadata": {
        "id": "LDy5LjWzu4oN",
        "colab_type": "code",
        "colab": {
          "base_uri": "https://localhost:8080/",
          "height": 51
        },
        "outputId": "a7ae6ef2-5edb-4204-c9c2-f40aba24a7bf"
      },
      "source": [
        "print(df['SBP'].quantile(0.10))\n",
        "print(df['SBP'].quantile(0.90))"
      ],
      "execution_count": 15,
      "outputs": [
        {
          "output_type": "stream",
          "text": [
            "97.0\n",
            "150.0\n"
          ],
          "name": "stdout"
        }
      ]
    },
    {
      "cell_type": "code",
      "metadata": {
        "id": "mcAsYFL8u7xN",
        "colab_type": "code",
        "colab": {
          "base_uri": "https://localhost:8080/",
          "height": 34
        },
        "outputId": "79f4eaa7-008d-428d-e867-89f47835647d"
      },
      "source": [
        "df[\"SBP\"] = np.where(df[\"SBP\"] <97.0, 97.0,df['SBP'])\n",
        "df[\"SBP\"] = np.where(df[\"SBP\"] >150.0, 150.0,df['SBP'])\n",
        "print(df['SBP'].skew())"
      ],
      "execution_count": 16,
      "outputs": [
        {
          "output_type": "stream",
          "text": [
            "0.2804638587639356\n"
          ],
          "name": "stdout"
        }
      ]
    },
    {
      "cell_type": "code",
      "metadata": {
        "id": "5SsNIe5du_KM",
        "colab_type": "code",
        "colab": {
          "base_uri": "https://localhost:8080/",
          "height": 296
        },
        "outputId": "e243f210-daa5-4219-a308-d443d44ec940"
      },
      "source": [
        "sns.boxplot(df['SBP'])"
      ],
      "execution_count": 17,
      "outputs": [
        {
          "output_type": "execute_result",
          "data": {
            "text/plain": [
              "<matplotlib.axes._subplots.AxesSubplot at 0x7fc1cc832a58>"
            ]
          },
          "metadata": {
            "tags": []
          },
          "execution_count": 17
        },
        {
          "output_type": "display_data",
          "data": {
            "image/png": "[encoded data removed]",
            "text/plain": [
              "<Figure size 432x288 with 1 Axes>"
            ]
          },
          "metadata": {
            "tags": [],
            "needs_background": "light"
          }
        }
      ]
    },
    {
      "cell_type": "code",
      "metadata": {
        "id": "gSl3hrU-vDE0",
        "colab_type": "code",
        "colab": {
          "base_uri": "https://localhost:8080/",
          "height": 296
        },
        "outputId": "cee88623-7aa0-49ad-dc67-44ff90a000e0"
      },
      "source": [
        "sns.boxplot(df['MAP'])"
      ],
      "execution_count": 18,
      "outputs": [
        {
          "output_type": "execute_result",
          "data": {
            "text/plain": [
              "<matplotlib.axes._subplots.AxesSubplot at 0x7fc1cc799828>"
            ]
          },
          "metadata": {
            "tags": []
          },
          "execution_count": 18
        },
        {
          "output_type": "display_data",
          "data": {
            "image/png": "[encoded data removed]",
            "text/plain": [
              "<Figure size 432x288 with 1 Axes>"
            ]
          },
          "metadata": {
            "tags": [],
            "needs_background": "light"
          }
        }
      ]
    },
    {
      "cell_type": "code",
      "metadata": {
        "id": "4BDOH2JKvGQt",
        "colab_type": "code",
        "colab": {
          "base_uri": "https://localhost:8080/",
          "height": 51
        },
        "outputId": "dffc08d6-4fd7-4f0b-fe61-d9cb251678ea"
      },
      "source": [
        "print(df['MAP'].quantile(0.10))\n",
        "print(df['MAP'].quantile(0.90))"
      ],
      "execution_count": 19,
      "outputs": [
        {
          "output_type": "stream",
          "text": [
            "63.0\n",
            "99.0\n"
          ],
          "name": "stdout"
        }
      ]
    },
    {
      "cell_type": "code",
      "metadata": {
        "id": "yuyh5fgkvJuH",
        "colab_type": "code",
        "colab": {
          "base_uri": "https://localhost:8080/",
          "height": 34
        },
        "outputId": "0ce705cd-6d4f-4edc-c0ae-31d554778878"
      },
      "source": [
        "df[\"MAP\"] = np.where(df[\"MAP\"] <63.0, 63.0,df['MAP'])\n",
        "df[\"MAP\"] = np.where(df[\"MAP\"] >99.0, 99.0,df['MAP'])\n",
        "print(df['MAP'].skew())"
      ],
      "execution_count": 20,
      "outputs": [
        {
          "output_type": "stream",
          "text": [
            "0.2901440610172552\n"
          ],
          "name": "stdout"
        }
      ]
    },
    {
      "cell_type": "code",
      "metadata": {
        "id": "tjWuVaI3vMwL",
        "colab_type": "code",
        "colab": {
          "base_uri": "https://localhost:8080/",
          "height": 296
        },
        "outputId": "f2957284-742c-4a36-d3ed-2439ba416f60"
      },
      "source": [
        "sns.boxplot(df['MAP'])"
      ],
      "execution_count": 21,
      "outputs": [
        {
          "output_type": "execute_result",
          "data": {
            "text/plain": [
              "<matplotlib.axes._subplots.AxesSubplot at 0x7fc1cc776588>"
            ]
          },
          "metadata": {
            "tags": []
          },
          "execution_count": 21
        },
        {
          "output_type": "display_data",
          "data": {
            "image/png": "[encoded data removed]",
            "text/plain": [
              "<Figure size 432x288 with 1 Axes>"
            ]
          },
          "metadata": {
            "tags": [],
            "needs_background": "light"
          }
        }
      ]
    },
    {
      "cell_type": "code",
      "metadata": {
        "id": "7WiHzL4UvPh0",
        "colab_type": "code",
        "colab": {
          "base_uri": "https://localhost:8080/",
          "height": 296
        },
        "outputId": "79adf044-4fa9-4db6-8ce0-bc32fa63f702"
      },
      "source": [
        "sns.boxplot(df['DBP'])"
      ],
      "execution_count": 22,
      "outputs": [
        {
          "output_type": "execute_result",
          "data": {
            "text/plain": [
              "<matplotlib.axes._subplots.AxesSubplot at 0x7fc1cc6e4f98>"
            ]
          },
          "metadata": {
            "tags": []
          },
          "execution_count": 22
        },
        {
          "output_type": "display_data",
          "data": {
            "image/png": "[encoded data removed]",
            "text/plain": [
              "<Figure size 432x288 with 1 Axes>"
            ]
          },
          "metadata": {
            "tags": [],
            "needs_background": "light"
          }
        }
      ]
    },
    {
      "cell_type": "code",
      "metadata": {
        "id": "PTw99E1AvT77",
        "colab_type": "code",
        "colab": {
          "base_uri": "https://localhost:8080/",
          "height": 51
        },
        "outputId": "74d04e83-4ed9-4f0a-f508-449e0fa80cca"
      },
      "source": [
        "print(df['DBP'].quantile(0.10))\n",
        "print(df['DBP'].quantile(0.90))"
      ],
      "execution_count": 23,
      "outputs": [
        {
          "output_type": "stream",
          "text": [
            "50.0\n",
            "74.0\n"
          ],
          "name": "stdout"
        }
      ]
    },
    {
      "cell_type": "code",
      "metadata": {
        "id": "OIfg_1fJve-N",
        "colab_type": "code",
        "colab": {
          "base_uri": "https://localhost:8080/",
          "height": 34
        },
        "outputId": "44be4f71-4615-47a6-f9dc-c1cd0147b953"
      },
      "source": [
        "df[\"DBP\"] = np.where(df[\"DBP\"] <50.0, 50.0,df['DBP'])\n",
        "df[\"DBP\"] = np.where(df[\"DBP\"] >74.0, 74.0,df['DBP'])\n",
        "print(df['DBP'].skew())"
      ],
      "execution_count": 24,
      "outputs": [
        {
          "output_type": "stream",
          "text": [
            "0.44949881448858164\n"
          ],
          "name": "stdout"
        }
      ]
    },
    {
      "cell_type": "code",
      "metadata": {
        "id": "HcAvM6CmvxIs",
        "colab_type": "code",
        "colab": {
          "base_uri": "https://localhost:8080/",
          "height": 296
        },
        "outputId": "edcbf47b-8fc6-466c-b8eb-4aae7172a184"
      },
      "source": [
        "sns.boxplot(df['DBP'])"
      ],
      "execution_count": 25,
      "outputs": [
        {
          "output_type": "execute_result",
          "data": {
            "text/plain": [
              "<matplotlib.axes._subplots.AxesSubplot at 0x7fc1cc648ac8>"
            ]
          },
          "metadata": {
            "tags": []
          },
          "execution_count": 25
        },
        {
          "output_type": "display_data",
          "data": {
            "image/png": "[encoded data removed]",
            "text/plain": [
              "<Figure size 432x288 with 1 Axes>"
            ]
          },
          "metadata": {
            "tags": [],
            "needs_background": "light"
          }
        }
      ]
    },
    {
      "cell_type": "code",
      "metadata": {
        "id": "zyvSy41ev0s8",
        "colab_type": "code",
        "colab": {
          "base_uri": "https://localhost:8080/",
          "height": 68
        },
        "outputId": "12fb3267-f3bd-4317-b536-56f4946d451d"
      },
      "source": [
        "print(df.SepsisLabel.value_counts())"
      ],
      "execution_count": 26,
      "outputs": [
        {
          "output_type": "stream",
          "text": [
            "0    973683\n",
            "1     20124\n",
            "Name: SepsisLabel, dtype: int64\n"
          ],
          "name": "stdout"
        }
      ]
    },
    {
      "cell_type": "code",
      "metadata": {
        "id": "rDgYideeAA6v",
        "colab_type": "code",
        "colab": {
          "base_uri": "https://localhost:8080/",
          "height": 34
        },
        "outputId": "bc88fa39-b870-469a-ba65-2cca80e7778b"
      },
      "source": [
        "df.columns"
      ],
      "execution_count": 27,
      "outputs": [
        {
          "output_type": "execute_result",
          "data": {
            "text/plain": [
              "Index(['HR', 'O2Sat', 'Temp', 'SBP', 'MAP', 'DBP', 'Age', 'SepsisLabel'], dtype='object')"
            ]
          },
          "metadata": {
            "tags": []
          },
          "execution_count": 27
        }
      ]
    },
    {
      "cell_type": "code",
      "metadata": {
        "id": "4gb1C_0eCc8p",
        "colab_type": "code",
        "colab": {}
      },
      "source": [
        "from pandas import read_csv, DataFrame, crosstab, pivot_table, set_option"
      ],
      "execution_count": 28,
      "outputs": []
    },
    {
      "cell_type": "code",
      "metadata": {
        "id": "LG8MvHowDzRx",
        "colab_type": "code",
        "colab": {}
      },
      "source": [
        "set_option('display.width', 100)\n",
        "set_option('precision', 3)"
      ],
      "execution_count": 29,
      "outputs": []
    },
    {
      "cell_type": "code",
      "metadata": {
        "id": "uxwXChPOD2y5",
        "colab_type": "code",
        "colab": {
          "base_uri": "https://localhost:8080/",
          "height": 85
        },
        "outputId": "5b3304ef-a176-4841-d49e-e02508088d2f"
      },
      "source": [
        "print(\"Data row and column dimensions:\")\n",
        "print(\"\")\n",
        "print(df.shape)\n",
        "print(\"\")"
      ],
      "execution_count": 30,
      "outputs": [
        {
          "output_type": "stream",
          "text": [
            "Data row and column dimensions:\n",
            "\n",
            "(993807, 8)\n",
            "\n"
          ],
          "name": "stdout"
        }
      ]
    },
    {
      "cell_type": "code",
      "metadata": {
        "id": "GwDPF6yVECJI",
        "colab_type": "code",
        "colab": {
          "base_uri": "https://localhost:8080/",
          "height": 102
        },
        "outputId": "5aa4fbcf-0b7f-49d4-9c42-8f27732d0560"
      },
      "source": [
        "# Class Distribution\n",
        "tot = 993807\n",
        "class_counts = df.groupby('SepsisLabel').size()/tot*100\n",
        "class_pct = class_counts.map('{:,.2f}%'.format)\n",
        "print(\"Distribution of pre-diabetes: \", class_counts)\n",
        "print(\"\")"
      ],
      "execution_count": 31,
      "outputs": [
        {
          "output_type": "stream",
          "text": [
            "Distribution of pre-diabetes:  SepsisLabel\n",
            "0    97.975\n",
            "1     2.025\n",
            "dtype: float64\n",
            "\n"
          ],
          "name": "stdout"
        }
      ]
    },
    {
      "cell_type": "code",
      "metadata": {
        "id": "S4TZbQjUEOT5",
        "colab_type": "code",
        "colab": {
          "base_uri": "https://localhost:8080/",
          "height": 255
        },
        "outputId": "038a6b18-146f-490f-e17e-42bd6f0e696e"
      },
      "source": [
        "# Descriptives\n",
        "df = df.sample(n=20000, replace=False,random_state=1)\n",
        "df = DataFrame(df)\n",
        "print(\"Descriptive distributions:\")\n",
        "print(\"\")\n",
        "print(df.describe())\n",
        "print(\"\")\n"
      ],
      "execution_count": 32,
      "outputs": [
        {
          "output_type": "stream",
          "text": [
            "Descriptive distributions:\n",
            "\n",
            "              HR      O2Sat       Temp  ...        DBP        Age  SepsisLabel\n",
            "count  20000.000  20000.000  20000.000  ...  20000.000  20000.000    20000.000\n",
            "mean      84.309     97.528     37.014  ...     60.702     62.463        0.021\n",
            "std       13.194      1.959      0.437  ...      6.749     16.393        0.144\n",
            "min       64.000     94.000     32.700  ...     50.000     14.000        0.000\n",
            "25%       74.000     96.000     37.000  ...     58.000     52.000        0.000\n",
            "50%       84.000     98.000     37.000  ...     60.000     64.450        0.000\n",
            "75%       94.000     99.000     37.000  ...     63.000     75.250        0.000\n",
            "max      106.000    100.000     40.000  ...     74.000    100.000        1.000\n",
            "\n",
            "[8 rows x 8 columns]\n",
            "\n"
          ],
          "name": "stdout"
        }
      ]
    },
    {
      "cell_type": "code",
      "metadata": {
        "id": "bp8EHxESEhYA",
        "colab_type": "code",
        "colab": {
          "base_uri": "https://localhost:8080/",
          "height": 221
        },
        "outputId": "3573e5ec-e2de-4156-b798-de144c051f0f"
      },
      "source": [
        "# Examine skew of the attribute distributions\n",
        "skew = df.skew()\n",
        "print(\"Skew of attributes:\")\n",
        "print(\"\")\n",
        "print(skew)\n",
        "print(\"\")"
      ],
      "execution_count": 33,
      "outputs": [
        {
          "output_type": "stream",
          "text": [
            "Skew of attributes:\n",
            "\n",
            "HR             0.119\n",
            "O2Sat         -0.420\n",
            "Temp           0.012\n",
            "SBP            0.276\n",
            "MAP            0.289\n",
            "DBP            0.448\n",
            "Age           -0.530\n",
            "SepsisLabel    6.665\n",
            "dtype: float64\n",
            "\n"
          ],
          "name": "stdout"
        }
      ]
    },
    {
      "cell_type": "code",
      "metadata": {
        "id": "_y6XS667EnVA",
        "colab_type": "code",
        "colab": {
          "base_uri": "https://localhost:8080/",
          "height": 159
        },
        "outputId": "2cf299f9-93a9-4e02-e874-c1e436e9b464"
      },
      "source": [
        "# Crosstabs\n",
        "print(\"Mean values of inputs by pre-diabetes class:\")\n",
        "pivot_table(df,values=['HR', 'O2Sat', 'Temp', 'SBP', 'MAP', 'DBP', 'Age'],index='SepsisLabel',aggfunc=np.mean)"
      ],
      "execution_count": 34,
      "outputs": [
        {
          "output_type": "stream",
          "text": [
            "Mean values of inputs by pre-diabetes class:\n"
          ],
          "name": "stdout"
        },
        {
          "output_type": "execute_result",
          "data": {
            "text/html": [
              "<div>\n",
              "<style scoped>\n",
              "    .dataframe tbody tr th:only-of-type {\n",
              "        vertical-align: middle;\n",
              "    }\n",
              "\n",
              "    .dataframe tbody tr th {\n",
              "        vertical-align: top;\n",
              "    }\n",
              "\n",
              "    .dataframe thead th {\n",
              "        text-align: right;\n",
              "    }\n",
              "</style>\n",
              "<table border=\"1\" class=\"dataframe\">\n",
              "  <thead>\n",
              "    <tr style=\"text-align: right;\">\n",
              "      <th></th>\n",
              "      <th>Age</th>\n",
              "      <th>DBP</th>\n",
              "      <th>HR</th>\n",
              "      <th>MAP</th>\n",
              "      <th>O2Sat</th>\n",
              "      <th>SBP</th>\n",
              "      <th>Temp</th>\n",
              "    </tr>\n",
              "    <tr>\n",
              "      <th>SepsisLabel</th>\n",
              "      <th></th>\n",
              "      <th></th>\n",
              "      <th></th>\n",
              "      <th></th>\n",
              "      <th></th>\n",
              "      <th></th>\n",
              "      <th></th>\n",
              "    </tr>\n",
              "  </thead>\n",
              "  <tbody>\n",
              "    <tr>\n",
              "      <th>0</th>\n",
              "      <td>62.487</td>\n",
              "      <td>60.701</td>\n",
              "      <td>84.230</td>\n",
              "      <td>79.481</td>\n",
              "      <td>97.530</td>\n",
              "      <td>121.184</td>\n",
              "      <td>37.008</td>\n",
              "    </tr>\n",
              "    <tr>\n",
              "      <th>1</th>\n",
              "      <td>61.336</td>\n",
              "      <td>60.746</td>\n",
              "      <td>87.949</td>\n",
              "      <td>78.625</td>\n",
              "      <td>97.409</td>\n",
              "      <td>119.767</td>\n",
              "      <td>37.322</td>\n",
              "    </tr>\n",
              "  </tbody>\n",
              "</table>\n",
              "</div>"
            ],
            "text/plain": [
              "                Age     DBP      HR     MAP   O2Sat      SBP    Temp\n",
              "SepsisLabel                                                         \n",
              "0            62.487  60.701  84.230  79.481  97.530  121.184  37.008\n",
              "1            61.336  60.746  87.949  78.625  97.409  119.767  37.322"
            ]
          },
          "metadata": {
            "tags": []
          },
          "execution_count": 34
        }
      ]
    },
    {
      "cell_type": "code",
      "metadata": {
        "id": "9hjYQEeVE6iu",
        "colab_type": "code",
        "colab": {
          "base_uri": "https://localhost:8080/",
          "height": 1000
        },
        "outputId": "41b2dc7a-8721-49b0-db2d-f4e0195dfc83"
      },
      "source": [
        "# Univariate Histograms\n",
        "from matplotlib import pyplot\n",
        "print(\"Histograms of model inputs\")\n",
        "df.hist(figsize=(10,8))\n",
        "pyplot.show()\n",
        "print(\"\")\n",
        "# Density plots\n",
        "print(\"Density plots of model inputs\")\n",
        "df.plot(kind='density', subplots=True, layout=(3,3), sharex=False, figsize=(10,8))\n",
        "pyplot.show()"
      ],
      "execution_count": 35,
      "outputs": [
        {
          "output_type": "stream",
          "text": [
            "Histograms of model inputs\n"
          ],
          "name": "stdout"
        },
        {
          "output_type": "display_data",
          "data": {
            "image/png": "[encoded data removed]",
            "text/plain": [
              "<Figure size 720x576 with 9 Axes>"
            ]
          },
          "metadata": {
            "tags": [],
            "needs_background": "light"
          }
        },
        {
          "output_type": "stream",
          "text": [
            "\n",
            "Density plots of model inputs\n"
          ],
          "name": "stdout"
        },
        {
          "output_type": "display_data",
          "data": {
            "image/png": "[encoded data removed]",
            "text/plain": [
              "<Figure size 720x576 with 9 Axes>"
            ]
          },
          "metadata": {
            "tags": [],
            "needs_background": "light"
          }
        }
      ]
    },
    {
      "cell_type": "code",
      "metadata": {
        "id": "aGp3Y_YeFGGe",
        "colab_type": "code",
        "colab": {
          "base_uri": "https://localhost:8080/",
          "height": 1000
        },
        "outputId": "b0b49973-d463-44f8-f820-db293143b94a"
      },
      "source": [
        "# Matrix Plots\n",
        "from matplotlib import pyplot\n",
        "\n",
        "# Scatterplot Matrix\n",
        "print(\"Bivariate scatter plots of model inputs\")\n",
        "from pandas.plotting import scatter_matrix\n",
        "scatter_matrix(df, figsize=(10,8))\n",
        "pyplot.show()\n",
        "print(\"\")\n",
        "\n",
        "# Correlation matrix\n",
        "print(\"Heatmap of partial correlations between model inputs\")\n",
        "correlations = df.corr()\n",
        "fig = pyplot.figure(figsize=(10,8))\n",
        "ax = fig.add_subplot(111)\n",
        "cax = ax.matshow(correlations, vmin=-1, vmax=1)\n",
        "fig.colorbar(cax)\n",
        "ticks = np.arange(0,9,1)\n",
        "ax.set_xticks(ticks)\n",
        "ax.set_yticks(ticks)\n",
        "names = ['HR', 'O2Sat', 'Temp', 'SBP', 'MAP', 'DBP', 'Age', 'SepsisLabel']\n",
        "ax.set_xticklabels(names)\n",
        "ax.set_yticklabels(names)\n",
        "pyplot.show()"
      ],
      "execution_count": 36,
      "outputs": [
        {
          "output_type": "stream",
          "text": [
            "Bivariate scatter plots of model inputs\n"
          ],
          "name": "stdout"
        },
        {
          "output_type": "display_data",
          "data": {
            "image/png": "[encoded data removed]",
            "text/plain": [
              "<Figure size 720x576 with 64 Axes>"
            ]
          },
          "metadata": {
            "tags": [],
            "needs_background": "light"
          }
        },
        {
          "output_type": "stream",
          "text": [
            "\n",
            "Heatmap of partial correlations between model inputs\n"
          ],
          "name": "stdout"
        },
        {
          "output_type": "display_data",
          "data": {
            "image/png": "[encoded data removed]",
            "text/plain": [
              "<Figure size 720x576 with 2 Axes>"
            ]
          },
          "metadata": {
            "tags": [],
            "needs_background": "light"
          }
        }
      ]
    },
    {
      "cell_type": "code",
      "metadata": {
        "id": "rwtuAu_hL7Jg",
        "colab_type": "code",
        "colab": {}
      },
      "source": [
        "from sklearn.discriminant_analysis import LinearDiscriminantAnalysis\n",
        "from sklearn.model_selection import KFold\n",
        "from sklearn.model_selection import cross_val_score"
      ],
      "execution_count": 37,
      "outputs": []
    },
    {
      "cell_type": "code",
      "metadata": {
        "id": "OCkOR-ZMMDT2",
        "colab_type": "code",
        "colab": {}
      },
      "source": [
        "X=df.drop(['SepsisLabel'],1)\n",
        "y=df['SepsisLabel']"
      ],
      "execution_count": 39,
      "outputs": []
    },
    {
      "cell_type": "code",
      "metadata": {
        "id": "lLs4SZibMUj4",
        "colab_type": "code",
        "colab": {
          "base_uri": "https://localhost:8080/",
          "height": 88
        },
        "outputId": "ac108685-9c00-4848-f4ff-2eb4379ebb63"
      },
      "source": [
        "# evaluate an LDA model on the mean imputation dataset using k-fold cross validation\n",
        "model = LinearDiscriminantAnalysis()\n",
        "kfold = KFold(n_splits=5, random_state=7)\n",
        "result = cross_val_score(model, X, y, cv=kfold, scoring='accuracy')\n",
        "accuracy = result.mean()\n",
        "print(\"Accuracy of Linear Discriminant Analysis: %.2f%%\" % (accuracy * 100.0))"
      ],
      "execution_count": 40,
      "outputs": [
        {
          "output_type": "stream",
          "text": [
            "Accuracy of Linear Discriminant Analysis: 97.84%\n"
          ],
          "name": "stdout"
        },
        {
          "output_type": "stream",
          "text": [
            "/usr/local/lib/python3.6/dist-packages/sklearn/model_selection/_split.py:296: FutureWarning: Setting a random_state has no effect since shuffle is False. This will raise an error in 0.24. You should leave random_state to its default (None), or set shuffle=True.\n",
            "  FutureWarning\n"
          ],
          "name": "stderr"
        }
      ]
    },
    {
      "cell_type": "code",
      "metadata": {
        "id": "ZUA3ZrzxMaUo",
        "colab_type": "code",
        "colab": {}
      },
      "source": [
        "from sklearn import ensemble\n",
        "from sklearn.model_selection import KFold\n",
        "from sklearn.model_selection import train_test_split\n",
        "from sklearn.metrics import accuracy_score"
      ],
      "execution_count": 41,
      "outputs": []
    },
    {
      "cell_type": "code",
      "metadata": {
        "id": "8_Lhd-A8NclT",
        "colab_type": "code",
        "colab": {
          "base_uri": "https://localhost:8080/",
          "height": 51
        },
        "outputId": "4173eee6-e964-4b9b-b87d-079d663404a6"
      },
      "source": [
        "#PARAMETER EVALUATION WITH GSC VALIDATION\n",
        "gbe = GradientBoostingClassifier(random_state=0)\n",
        "parameters={\n",
        "    'learning_rate': [0.05, 0.1, 0.5],\n",
        "    'max_features': [0.5, 1],\n",
        "    'max_depth': [3, 4, 5]\n",
        "}\n",
        "gridsearch=GridSearchCV(gbe,parameters,cv=100,scoring='roc_auc')\n",
        "gridsearch.fit(X,y)\n",
        "print(gridsearch.best_params_)\n",
        "print(gridsearch.best_score_)"
      ],
      "execution_count": 43,
      "outputs": [
        {
          "output_type": "stream",
          "text": [
            "{'learning_rate': 0.05, 'max_depth': 4, 'max_features': 0.5}\n",
            "0.9624489795918366\n"
          ],
          "name": "stdout"
        }
      ]
    },
    {
      "cell_type": "code",
      "metadata": {
        "id": "AABjl1dfNpHO",
        "colab_type": "code",
        "colab": {
          "base_uri": "https://localhost:8080/",
          "height": 187
        },
        "outputId": "7cc96ff4-e420-4957-c8f4-6ffa955033ef"
      },
      "source": [
        "#ADJUSTING DEVELOPMENT THRESHOLD\n",
        "gbi = GradientBoostingClassifier(learning_rate=0.05,max_depth=4,max_features=0.5,random_state=0)\n",
        "x_train,x_test,y_train,y_test = train_test_split(X,y,random_state=0)\n",
        "gbi.fit(x_train,y_train)"
      ],
      "execution_count": 44,
      "outputs": [
        {
          "output_type": "execute_result",
          "data": {
            "text/plain": [
              "GradientBoostingClassifier(ccp_alpha=0.0, criterion='friedman_mse', init=None,\n",
              "                           learning_rate=0.05, loss='deviance', max_depth=4,\n",
              "                           max_features=0.5, max_leaf_nodes=None,\n",
              "                           min_impurity_decrease=0.0, min_impurity_split=None,\n",
              "                           min_samples_leaf=1, min_samples_split=2,\n",
              "                           min_weight_fraction_leaf=0.0, n_estimators=100,\n",
              "                           n_iter_no_change=None, presort='deprecated',\n",
              "                           random_state=0, subsample=1.0, tol=0.0001,\n",
              "                           validation_fraction=0.1, verbose=0,\n",
              "                           warm_start=False)"
            ]
          },
          "metadata": {
            "tags": []
          },
          "execution_count": 44
        }
      ]
    },
    {
      "cell_type": "code",
      "metadata": {
        "id": "093h1Eb8Y1Q1",
        "colab_type": "code",
        "colab": {}
      },
      "source": [
        "#STORING THE PREDICTION\n",
        "yprediction = gbi.predict_proba(x_test)[:,1]"
      ],
      "execution_count": 45,
      "outputs": []
    },
    {
      "cell_type": "code",
      "metadata": {
        "id": "vD2ralU5Y85F",
        "colab_type": "code",
        "colab": {
          "base_uri": "https://localhost:8080/",
          "height": 296
        },
        "outputId": "fadd12f2-3da6-4b18-ee04-a5b2e64b51bc"
      },
      "source": [
        "#PLOTTING THE PREDICTIONS\n",
        "plt.hist(yprediction,bins=5)\n",
        "plt.xlim(0,1)\n",
        "plt.xlabel(\"Predicted Proababilities\")\n",
        "plt.ylabel(\"Frequency\")"
      ],
      "execution_count": 46,
      "outputs": [
        {
          "output_type": "execute_result",
          "data": {
            "text/plain": [
              "Text(0, 0.5, 'Frequency')"
            ]
          },
          "metadata": {
            "tags": []
          },
          "execution_count": 46
        },
        {
          "output_type": "display_data",
          "data": {
            "image/png": "[encoded data removed]",
            "text/plain": [
              "<Figure size 432x288 with 1 Axes>"
            ]
          },
          "metadata": {
            "tags": [],
            "needs_background": "light"
          }
        }
      ]
    },
    {
      "cell_type": "code",
      "metadata": {
        "id": "lGnrnEx2ZB-y",
        "colab_type": "code",
        "colab": {
          "base_uri": "https://localhost:8080/",
          "height": 34
        },
        "outputId": "44335bbc-2fdd-4aa3-8b6e-203e8508c3f0"
      },
      "source": [
        "#CLASSIFIER SCORE\n",
        "round(roc_auc_score(y_test,yprediction),5)"
      ],
      "execution_count": 47,
      "outputs": [
        {
          "output_type": "execute_result",
          "data": {
            "text/plain": [
              "0.94996"
            ]
          },
          "metadata": {
            "tags": []
          },
          "execution_count": 47
        }
      ]
    },
    {
      "cell_type": "code",
      "metadata": {
        "id": "iGqMndoHZsXN",
        "colab_type": "code",
        "colab": {
          "base_uri": "https://localhost:8080/",
          "height": 34
        },
        "outputId": "6a567393-2bac-42ab-cc4e-cde9e027a6ee"
      },
      "source": [
        "#USING RANDOM FOREST CLASSIFICATION\n",
        "from sklearn.ensemble import RandomForestClassifier\n",
        "rmfr = RandomForestClassifier()\n",
        "rmfr.fit(x_train, y_train)\n",
        "y_pred = rmfr.predict(x_test)\n",
        "accuracyrf = round(accuracy_score(y_pred, y_test), 5)\n",
        "accuracyrf"
      ],
      "execution_count": 48,
      "outputs": [
        {
          "output_type": "execute_result",
          "data": {
            "text/plain": [
              "0.9854"
            ]
          },
          "metadata": {
            "tags": []
          },
          "execution_count": 48
        }
      ]
    },
    {
      "cell_type": "code",
      "metadata": {
        "id": "CDQgYffjaV3G",
        "colab_type": "code",
        "colab": {
          "base_uri": "https://localhost:8080/",
          "height": 34
        },
        "outputId": "51c7203f-3a97-4a54-9ce2-7b9f4d390d5c"
      },
      "source": [
        "from xgboost import XGBClassifier\n",
        "model = XGBClassifier()\n",
        "model.fit(x_train, y_train)\n",
        "y_pred = model.predict(x_test)\n",
        "predictions = [round(value) for value in y_pred]\n",
        "accuracy = round(accuracy_score(y_test, predictions),5)\n",
        "accuracy"
      ],
      "execution_count": 49,
      "outputs": [
        {
          "output_type": "execute_result",
          "data": {
            "text/plain": [
              "0.9852"
            ]
          },
          "metadata": {
            "tags": []
          },
          "execution_count": 49
        }
      ]
    },
    {
      "cell_type": "code",
      "metadata": {
        "id": "jg82W6oDae4-",
        "colab_type": "code",
        "colab": {
          "base_uri": "https://localhost:8080/",
          "height": 510
        },
        "outputId": "01e049ec-2137-4b40-c622-ea786323ca55"
      },
      "source": [
        "columns = list(df)[0:-1] # Excluding Outcome column which has only \n",
        "df[columns].hist(stacked=False, bins=50, figsize=(12,30), layout=(14,2)); \n",
        "# Histogram of first 8 columns"
      ],
      "execution_count": 50,
      "outputs": [
        {
          "output_type": "display_data",
          "data": {
            "image/png": "[encoded data removed]",
            "text/plain": [
              "<Figure size 864x2160 with 28 Axes>"
            ]
          },
          "metadata": {
            "tags": [],
            "needs_background": "light"
          }
        }
      ]
    },
    {
      "cell_type": "code",
      "metadata": {
        "id": "zEX3bDJXbL2F",
        "colab_type": "code",
        "colab": {
          "base_uri": "https://localhost:8080/",
          "height": 34
        },
        "outputId": "23871ceb-4dc4-45bc-ed5f-539819f13133"
      },
      "source": [
        "df.columns"
      ],
      "execution_count": 51,
      "outputs": [
        {
          "output_type": "execute_result",
          "data": {
            "text/plain": [
              "Index(['HR', 'O2Sat', 'Temp', 'SBP', 'MAP', 'DBP', 'Age', 'SepsisLabel'], dtype='object')"
            ]
          },
          "metadata": {
            "tags": []
          },
          "execution_count": 51
        }
      ]
    },
    {
      "cell_type": "code",
      "metadata": {
        "id": "-JHU3s0qkuIB",
        "colab_type": "code",
        "colab": {
          "base_uri": "https://localhost:8080/",
          "height": 51
        },
        "outputId": "21c96f08-4dbd-4b97-e010-4980944478d3"
      },
      "source": [
        "n_true = len(df.loc[df['SepsisLabel'] == True])\n",
        "n_false = len(df.loc[df['SepsisLabel'] == False])\n",
        "print(\"Number of true cases: {0} ({1:2.2f}%)\".format(n_true, (n_true / (n_true + n_false)) * 100 ))\n",
        "print(\"Number of false cases: {0} ({1:2.2f}%)\".format(n_false, (n_false / (n_true + n_false)) * 100))"
      ],
      "execution_count": 52,
      "outputs": [
        {
          "output_type": "stream",
          "text": [
            "Number of true cases: 422 (2.11%)\n",
            "Number of false cases: 19578 (97.89%)\n"
          ],
          "name": "stdout"
        }
      ]
    },
    {
      "cell_type": "code",
      "metadata": {
        "id": "FLkosObdk5Gt",
        "colab_type": "code",
        "colab": {}
      },
      "source": [
        "from sklearn.model_selection import train_test_split\n",
        "\n",
        "features_cols = ['HR', 'O2Sat', 'Temp', 'SBP', 'MAP', 'DBP', 'Age']\n",
        "predicted_class = ['SepsisLabel']\n",
        "\n",
        "X = df[features_cols].values      # Predictor feature columns (8 X m)\n",
        "Y = df[predicted_class]. values   # Predicted class (1=True, 0=False) (1 X m)\n",
        "split_test_size = 0.30\n",
        "\n",
        "x_train, x_test, y_train, y_test = train_test_split(X, Y, test_size=split_test_size, random_state=52)\n",
        "# I took 52 as just any random seed number"
      ],
      "execution_count": 53,
      "outputs": []
    },
    {
      "cell_type": "code",
      "metadata": {
        "id": "nMU_f3GflRDO",
        "colab_type": "code",
        "colab": {
          "base_uri": "https://localhost:8080/",
          "height": 51
        },
        "outputId": "0c5d8e29-d8f0-4136-c6e6-426f66834b3c"
      },
      "source": [
        "print(\"{0:0.2f}% data is in training set\".format((len(x_train)/len(df.index)) * 100))\n",
        "print(\"{0:0.2f}% data is in test set\".format((len(x_test)/len(df.index)) * 100))"
      ],
      "execution_count": 54,
      "outputs": [
        {
          "output_type": "stream",
          "text": [
            "70.00% data is in training set\n",
            "30.00% data is in test set\n"
          ],
          "name": "stdout"
        }
      ]
    },
    {
      "cell_type": "code",
      "metadata": {
        "id": "4OOjiDOslZNV",
        "colab_type": "code",
        "colab": {
          "base_uri": "https://localhost:8080/",
          "height": 170
        },
        "outputId": "60ad2bfc-f77b-4287-986c-5f471a014f87"
      },
      "source": [
        "print(\"Original Sepsis True Values    : {0} ({1:0.2f}%)\".format(len(df.loc[df['SepsisLabel'] == 1]), (len(df.loc[df['SepsisLabel'] == 1])/len(df.index)) * 100))\n",
        "print(\"Original Sepsis False Values   : {0} ({1:0.2f}%)\".format(len(df.loc[df['SepsisLabel'] == 0]), (len(df.loc[df['SepsisLabel'] == 0])/len(df.index)) * 100))\n",
        "print(\"\")\n",
        "print(\"Training Sepsis True Values    : {0} ({1:0.2f}%)\".format(len(y_train[y_train[:] == 1]), (len(y_train[y_train[:] == 1])/len(y_train)) * 100))\n",
        "print(\"Training Sepsis False Values   : {0} ({1:0.2f}%)\".format(len(y_train[y_train[:] == 0]), (len(y_train[y_train[:] == 0])/len(y_train)) * 100))\n",
        "print(\"\")\n",
        "print(\"Test Sepsis True Values        : {0} ({1:0.2f}%)\".format(len(y_test[y_test[:] == 1]), (len(y_test[y_test[:] == 1])/len(y_test)) * 100))\n",
        "print(\"Test Sepsis False Values       : {0} ({1:0.2f}%)\".format(len(y_test[y_test[:] == 0]), (len(y_test[y_test[:] == 0])/len(y_test)) * 100))\n",
        "print(\"\")"
      ],
      "execution_count": 55,
      "outputs": [
        {
          "output_type": "stream",
          "text": [
            "Original Sepsis True Values    : 422 (2.11%)\n",
            "Original Sepsis False Values   : 19578 (97.89%)\n",
            "\n",
            "Training Sepsis True Values    : 286 (2.04%)\n",
            "Training Sepsis False Values   : 13714 (97.96%)\n",
            "\n",
            "Test Sepsis True Values        : 136 (2.27%)\n",
            "Test Sepsis False Values       : 5864 (97.73%)\n",
            "\n"
          ],
          "name": "stdout"
        }
      ]
    },
    {
      "cell_type": "code",
      "metadata": {
        "id": "IwfDbUlotHrl",
        "colab_type": "code",
        "colab": {
          "base_uri": "https://localhost:8080/",
          "height": 34
        },
        "outputId": "a027bf25-03e2-4360-b1b5-eded0595eff3"
      },
      "source": [
        "from sklearn.naive_bayes import GaussianNB # I am using Gaussian algorithm from Naive Bayes\n",
        "\n",
        "# Lets creat the model\n",
        "sepsis_model = GaussianNB()\n",
        "\n",
        "sepsis_model.fit(x_train, y_train.ravel())"
      ],
      "execution_count": 56,
      "outputs": [
        {
          "output_type": "execute_result",
          "data": {
            "text/plain": [
              "GaussianNB(priors=None, var_smoothing=1e-09)"
            ]
          },
          "metadata": {
            "tags": []
          },
          "execution_count": 56
        }
      ]
    },
    {
      "cell_type": "code",
      "metadata": {
        "id": "EVXZZ6SVtLbr",
        "colab_type": "code",
        "colab": {
          "base_uri": "https://localhost:8080/",
          "height": 51
        },
        "outputId": "a03160f2-8b94-4013-fe72-2bd507aa7463"
      },
      "source": [
        "sepsis_train_predict = sepsis_model.predict(x_train)\n",
        "\n",
        "from sklearn import metrics\n",
        "\n",
        "print(\"Model Accuracy: {0:.4f}\".format(metrics.accuracy_score(y_train, sepsis_train_predict)))\n",
        "print()"
      ],
      "execution_count": 57,
      "outputs": [
        {
          "output_type": "stream",
          "text": [
            "Model Accuracy: 0.9702\n",
            "\n"
          ],
          "name": "stdout"
        }
      ]
    },
    {
      "cell_type": "code",
      "metadata": {
        "id": "0xkgGVvetXw2",
        "colab_type": "code",
        "colab": {
          "base_uri": "https://localhost:8080/",
          "height": 51
        },
        "outputId": "2c2e0217-0739-4ca2-b5e4-720743c1c182"
      },
      "source": [
        "sepsis_test_predict = sepsis_model.predict(x_test)\n",
        "\n",
        "from sklearn import metrics\n",
        "\n",
        "print(\"Model Accuracy: {0:.4f}\".format(metrics.accuracy_score(y_test, sepsis_test_predict)))\n",
        "print()"
      ],
      "execution_count": 58,
      "outputs": [
        {
          "output_type": "stream",
          "text": [
            "Model Accuracy: 0.9630\n",
            "\n"
          ],
          "name": "stdout"
        }
      ]
    },
    {
      "cell_type": "code",
      "metadata": {
        "id": "7jZph3WutmZG",
        "colab_type": "code",
        "colab": {
          "base_uri": "https://localhost:8080/",
          "height": 255
        },
        "outputId": "69325767-81ac-4e3c-aec7-05b789ed7408"
      },
      "source": [
        "print(\"Confusion Matrix\")\n",
        "\n",
        "print(\"{0}\".format(metrics.confusion_matrix(y_test, sepsis_test_predict, labels=[1, 0])))\n",
        "print(\"\")\n",
        "\n",
        "print(\"Classification Report\")\n",
        "print(metrics.classification_report(y_test, sepsis_test_predict, labels=[1, 0]))"
      ],
      "execution_count": 59,
      "outputs": [
        {
          "output_type": "stream",
          "text": [
            "Confusion Matrix\n",
            "[[   5  131]\n",
            " [  91 5773]]\n",
            "\n",
            "Classification Report\n",
            "              precision    recall  f1-score   support\n",
            "\n",
            "           1       0.05      0.04      0.04       136\n",
            "           0       0.98      0.98      0.98      5864\n",
            "\n",
            "    accuracy                           0.96      6000\n",
            "   macro avg       0.51      0.51      0.51      6000\n",
            "weighted avg       0.96      0.96      0.96      6000\n",
            "\n"
          ],
          "name": "stdout"
        }
      ]
    },
    {
      "cell_type": "code",
      "metadata": {
        "id": "xIW0P_pyumGA",
        "colab_type": "code",
        "colab": {
          "base_uri": "https://localhost:8080/",
          "height": 153
        },
        "outputId": "23472684-c54f-4e66-d79a-3fff2bf9e8ec"
      },
      "source": [
        "from sklearn.ensemble import RandomForestClassifier\n",
        "sepsis_rf_model = RandomForestClassifier(random_state=52)\n",
        "sepsis_rf_model.fit(x_train, y_train.ravel())"
      ],
      "execution_count": 60,
      "outputs": [
        {
          "output_type": "execute_result",
          "data": {
            "text/plain": [
              "RandomForestClassifier(bootstrap=True, ccp_alpha=0.0, class_weight=None,\n",
              "                       criterion='gini', max_depth=None, max_features='auto',\n",
              "                       max_leaf_nodes=None, max_samples=None,\n",
              "                       min_impurity_decrease=0.0, min_impurity_split=None,\n",
              "                       min_samples_leaf=1, min_samples_split=2,\n",
              "                       min_weight_fraction_leaf=0.0, n_estimators=100,\n",
              "                       n_jobs=None, oob_score=False, random_state=52, verbose=0,\n",
              "                       warm_start=False)"
            ]
          },
          "metadata": {
            "tags": []
          },
          "execution_count": 60
        }
      ]
    },
    {
      "cell_type": "code",
      "metadata": {
        "id": "Spo39SVN7ai3",
        "colab_type": "code",
        "colab": {
          "base_uri": "https://localhost:8080/",
          "height": 34
        },
        "outputId": "510ea43f-5ff7-49ca-cac0-0cfa3ee6eaee"
      },
      "source": [
        "rf_train_predict = sepsis_rf_model.predict(x_train)\n",
        "print(\"Model Accuracy: {0:.2f}\".format(metrics.accuracy_score(y_train, rf_train_predict)))"
      ],
      "execution_count": 62,
      "outputs": [
        {
          "output_type": "stream",
          "text": [
            "Model Accuracy: 1.00\n"
          ],
          "name": "stdout"
        }
      ]
    },
    {
      "cell_type": "code",
      "metadata": {
        "id": "Hp62yBE07iHf",
        "colab_type": "code",
        "colab": {
          "base_uri": "https://localhost:8080/",
          "height": 34
        },
        "outputId": "f574175c-8a2e-467d-9934-c2b8d609e629"
      },
      "source": [
        "rf_test_predict = sepsis_rf_model.predict(x_test)\n",
        "print(\"Model Accuracy: {0:.2f}\".format(metrics.accuracy_score(y_test, rf_test_predict)))"
      ],
      "execution_count": 63,
      "outputs": [
        {
          "output_type": "stream",
          "text": [
            "Model Accuracy: 0.98\n"
          ],
          "name": "stdout"
        }
      ]
    },
    {
      "cell_type": "code",
      "metadata": {
        "id": "dPKXHa4j7wBv",
        "colab_type": "code",
        "colab": {
          "base_uri": "https://localhost:8080/",
          "height": 255
        },
        "outputId": "b570e7fd-600c-4081-d1f5-ce6936bd7ea2"
      },
      "source": [
        "print(\"Confusion Matrix\")\n",
        "print(metrics.confusion_matrix(y_test, rf_test_predict, labels=[1, 0]))\n",
        "print(\"\")\n",
        "print(\"Classification Report\")\n",
        "print(metrics.classification_report(y_test, rf_test_predict, labels=[1, 0]))"
      ],
      "execution_count": 64,
      "outputs": [
        {
          "output_type": "stream",
          "text": [
            "Confusion Matrix\n",
            "[[  58   78]\n",
            " [  13 5851]]\n",
            "\n",
            "Classification Report\n",
            "              precision    recall  f1-score   support\n",
            "\n",
            "           1       0.82      0.43      0.56       136\n",
            "           0       0.99      1.00      0.99      5864\n",
            "\n",
            "    accuracy                           0.98      6000\n",
            "   macro avg       0.90      0.71      0.78      6000\n",
            "weighted avg       0.98      0.98      0.98      6000\n",
            "\n"
          ],
          "name": "stdout"
        }
      ]
    },
    {
      "cell_type": "code",
      "metadata": {
        "id": "CHbC2Ptu738h",
        "colab_type": "code",
        "colab": {
          "base_uri": "https://localhost:8080/",
          "height": 343
        },
        "outputId": "c8945424-3bf9-49dd-ca57-d9ad3ce26a44"
      },
      "source": [
        "from sklearn.linear_model import LogisticRegression\n",
        "\n",
        "sepsis_lr_model = LogisticRegression(C=0.7, random_state=52)\n",
        "sepsis_lr_model.fit(x_train, y_train.ravel())\n",
        "lr_test_predict = sepsis_lr_model.predict(x_test)\n",
        "\n",
        "print(\"Model Accuracy: {0:.2f}\".format(metrics.accuracy_score(y_test, lr_test_predict)))\n",
        "print(\"\")\n",
        "print(\"Confusion Matrix\")\n",
        "print(metrics.confusion_matrix(y_test, lr_test_predict, labels=[1, 0]))\n",
        "print(\"\")\n",
        "print(\"Classification Report\")\n",
        "print(metrics.classification_report(y_test, lr_test_predict, labels=[1, 0]))"
      ],
      "execution_count": 65,
      "outputs": [
        {
          "output_type": "stream",
          "text": [
            "Model Accuracy: 0.98\n",
            "\n",
            "Confusion Matrix\n",
            "[[   0  136]\n",
            " [   0 5864]]\n",
            "\n",
            "Classification Report\n",
            "              precision    recall  f1-score   support\n",
            "\n",
            "           1       0.00      0.00      0.00       136\n",
            "           0       0.98      1.00      0.99      5864\n",
            "\n",
            "    accuracy                           0.98      6000\n",
            "   macro avg       0.49      0.50      0.49      6000\n",
            "weighted avg       0.96      0.98      0.97      6000\n",
            "\n"
          ],
          "name": "stdout"
        },
        {
          "output_type": "stream",
          "text": [
            "/usr/local/lib/python3.6/dist-packages/sklearn/metrics/_classification.py:1272: UndefinedMetricWarning: Precision and F-score are ill-defined and being set to 0.0 in labels with no predicted samples. Use `zero_division` parameter to control this behavior.\n",
            "  _warn_prf(average, modifier, msg_start, len(result))\n"
          ],
          "name": "stderr"
        }
      ]
    },
    {
      "cell_type": "code",
      "metadata": {
        "id": "odCNpLOd8L-J",
        "colab_type": "code",
        "colab": {
          "base_uri": "https://localhost:8080/",
          "height": 102
        },
        "outputId": "b2e24184-125d-49fd-c401-ab2b8f619d93"
      },
      "source": [
        "from sklearn.linear_model import LogisticRegressionCV\n",
        "sepsis_lr_cv_model = LogisticRegressionCV(n_jobs=-1, random_state=52, Cs=3, cv=10, refit=True, class_weight=\"balanced\")\n",
        "# As this algorithm uses k-fold cross validation so I am using 10 folds. Also I am using class_weight as balanced so it will use balanced data for Outcome\n",
        "sepsis_lr_cv_model.fit(x_train, y_train.ravel())"
      ],
      "execution_count": 66,
      "outputs": [
        {
          "output_type": "execute_result",
          "data": {
            "text/plain": [
              "LogisticRegressionCV(Cs=3, class_weight='balanced', cv=10, dual=False,\n",
              "                     fit_intercept=True, intercept_scaling=1.0, l1_ratios=None,\n",
              "                     max_iter=100, multi_class='auto', n_jobs=-1, penalty='l2',\n",
              "                     random_state=52, refit=True, scoring=None, solver='lbfgs',\n",
              "                     tol=0.0001, verbose=0)"
            ]
          },
          "metadata": {
            "tags": []
          },
          "execution_count": 66
        }
      ]
    },
    {
      "cell_type": "code",
      "metadata": {
        "id": "0n_cMmQ18hr4",
        "colab_type": "code",
        "colab": {
          "base_uri": "https://localhost:8080/",
          "height": 289
        },
        "outputId": "80f96f42-4cbd-4cbf-e142-763ddd368ea4"
      },
      "source": [
        "lr_cv_test_predict = sepsis_lr_cv_model.predict(x_test)\n",
        "\n",
        "print(\"Model Accuracy: {0:.2f}\".format(metrics.accuracy_score(y_test, lr_cv_test_predict)))\n",
        "print(\"\")\n",
        "print(\"Confusion Matrix\")\n",
        "print(metrics.confusion_matrix(y_test, lr_cv_test_predict, labels=[1, 0]))\n",
        "print(\"\")\n",
        "print(\"Classification Report\")\n",
        "print(metrics.classification_report(y_test, lr_cv_test_predict, labels=[1, 0]))"
      ],
      "execution_count": 67,
      "outputs": [
        {
          "output_type": "stream",
          "text": [
            "Model Accuracy: 0.77\n",
            "\n",
            "Confusion Matrix\n",
            "[[ 102   34]\n",
            " [1318 4546]]\n",
            "\n",
            "Classification Report\n",
            "              precision    recall  f1-score   support\n",
            "\n",
            "           1       0.07      0.75      0.13       136\n",
            "           0       0.99      0.78      0.87      5864\n",
            "\n",
            "    accuracy                           0.77      6000\n",
            "   macro avg       0.53      0.76      0.50      6000\n",
            "weighted avg       0.97      0.77      0.85      6000\n",
            "\n"
          ],
          "name": "stdout"
        }
      ]
    },
    {
      "cell_type": "code",
      "metadata": {
        "id": "e7v9e7UG8sCQ",
        "colab_type": "code",
        "colab": {}
      },
      "source": [
        "from sklearn.feature_selection import SelectKBest\n",
        "from sklearn.feature_selection import chi2"
      ],
      "execution_count": 68,
      "outputs": []
    },
    {
      "cell_type": "code",
      "metadata": {
        "id": "m3okYL6Q-be5",
        "colab_type": "code",
        "colab": {}
      },
      "source": [
        "X=df.drop(['SepsisLabel'],1)\n",
        "y=df['SepsisLabel']"
      ],
      "execution_count": 69,
      "outputs": []
    },
    {
      "cell_type": "code",
      "metadata": {
        "id": "CTeC2eRM-x2h",
        "colab_type": "code",
        "colab": {}
      },
      "source": [
        "select_top_4 = SelectKBest(score_func=chi2, k = 4)"
      ],
      "execution_count": 70,
      "outputs": []
    },
    {
      "cell_type": "code",
      "metadata": {
        "id": "-hjR0XI9-4a5",
        "colab_type": "code",
        "colab": {}
      },
      "source": [
        "fit = select_top_4.fit(X,y)\n",
        "features = fit.transform(X)"
      ],
      "execution_count": 71,
      "outputs": []
    },
    {
      "cell_type": "code",
      "metadata": {
        "id": "OI5CCN2L--jh",
        "colab_type": "code",
        "colab": {
          "base_uri": "https://localhost:8080/",
          "height": 102
        },
        "outputId": "ea86c0cd-835e-4bbf-fcf7-8cd2ad73695a"
      },
      "source": [
        "features[0:5]"
      ],
      "execution_count": 72,
      "outputs": [
        {
          "output_type": "execute_result",
          "data": {
            "text/plain": [
              "array([[ 74.  , 101.  ,  63.  ,  71.51],\n",
              "       [ 69.  , 127.  ,  89.  ,  48.61],\n",
              "       [105.  , 150.  ,  99.  ,  59.67],\n",
              "       [ 91.  , 128.  ,  94.  ,  50.  ],\n",
              "       [ 94.  , 138.  ,  95.33,  70.  ]])"
            ]
          },
          "metadata": {
            "tags": []
          },
          "execution_count": 72
        }
      ]
    },
    {
      "cell_type": "code",
      "metadata": {
        "id": "g-G1sWQQ_DFQ",
        "colab_type": "code",
        "colab": {
          "base_uri": "https://localhost:8080/",
          "height": 204
        },
        "outputId": "18369256-7e0d-4820-d064-adc55cab6a52"
      },
      "source": [
        "df.head()"
      ],
      "execution_count": 73,
      "outputs": [
        {
          "output_type": "execute_result",
          "data": {
            "text/html": [
              "<div>\n",
              "<style scoped>\n",
              "    .dataframe tbody tr th:only-of-type {\n",
              "        vertical-align: middle;\n",
              "    }\n",
              "\n",
              "    .dataframe tbody tr th {\n",
              "        vertical-align: top;\n",
              "    }\n",
              "\n",
              "    .dataframe thead th {\n",
              "        text-align: right;\n",
              "    }\n",
              "</style>\n",
              "<table border=\"1\" class=\"dataframe\">\n",
              "  <thead>\n",
              "    <tr style=\"text-align: right;\">\n",
              "      <th></th>\n",
              "      <th>HR</th>\n",
              "      <th>O2Sat</th>\n",
              "      <th>Temp</th>\n",
              "      <th>SBP</th>\n",
              "      <th>MAP</th>\n",
              "      <th>DBP</th>\n",
              "      <th>Age</th>\n",
              "      <th>SepsisLabel</th>\n",
              "    </tr>\n",
              "  </thead>\n",
              "  <tbody>\n",
              "    <tr>\n",
              "      <th>627565</th>\n",
              "      <td>74.0</td>\n",
              "      <td>98.0</td>\n",
              "      <td>37.0</td>\n",
              "      <td>101.0</td>\n",
              "      <td>63.00</td>\n",
              "      <td>60.0</td>\n",
              "      <td>71.51</td>\n",
              "      <td>0</td>\n",
              "    </tr>\n",
              "    <tr>\n",
              "      <th>596596</th>\n",
              "      <td>69.0</td>\n",
              "      <td>99.0</td>\n",
              "      <td>37.0</td>\n",
              "      <td>127.0</td>\n",
              "      <td>89.00</td>\n",
              "      <td>72.0</td>\n",
              "      <td>48.61</td>\n",
              "      <td>0</td>\n",
              "    </tr>\n",
              "    <tr>\n",
              "      <th>397609</th>\n",
              "      <td>105.0</td>\n",
              "      <td>95.0</td>\n",
              "      <td>37.0</td>\n",
              "      <td>150.0</td>\n",
              "      <td>99.00</td>\n",
              "      <td>74.0</td>\n",
              "      <td>59.67</td>\n",
              "      <td>0</td>\n",
              "    </tr>\n",
              "    <tr>\n",
              "      <th>904755</th>\n",
              "      <td>91.0</td>\n",
              "      <td>99.0</td>\n",
              "      <td>37.4</td>\n",
              "      <td>128.0</td>\n",
              "      <td>94.00</td>\n",
              "      <td>74.0</td>\n",
              "      <td>50.00</td>\n",
              "      <td>0</td>\n",
              "    </tr>\n",
              "    <tr>\n",
              "      <th>462935</th>\n",
              "      <td>94.0</td>\n",
              "      <td>98.0</td>\n",
              "      <td>37.0</td>\n",
              "      <td>138.0</td>\n",
              "      <td>95.33</td>\n",
              "      <td>60.0</td>\n",
              "      <td>70.00</td>\n",
              "      <td>0</td>\n",
              "    </tr>\n",
              "  </tbody>\n",
              "</table>\n",
              "</div>"
            ],
            "text/plain": [
              "           HR  O2Sat  Temp    SBP    MAP   DBP    Age  SepsisLabel\n",
              "627565   74.0   98.0  37.0  101.0  63.00  60.0  71.51            0\n",
              "596596   69.0   99.0  37.0  127.0  89.00  72.0  48.61            0\n",
              "397609  105.0   95.0  37.0  150.0  99.00  74.0  59.67            0\n",
              "904755   91.0   99.0  37.4  128.0  94.00  74.0  50.00            0\n",
              "462935   94.0   98.0  37.0  138.0  95.33  60.0  70.00            0"
            ]
          },
          "metadata": {
            "tags": []
          },
          "execution_count": 73
        }
      ]
    },
    {
      "cell_type": "code",
      "metadata": {
        "id": "dGqr0RwY_Tkw",
        "colab_type": "code",
        "colab": {}
      },
      "source": [
        "X_features = pd.DataFrame(data = features, columns = [\"HR\",\"SBP\",\"MAP\",\"Age\"])"
      ],
      "execution_count": 74,
      "outputs": []
    },
    {
      "cell_type": "code",
      "metadata": {
        "id": "0IpElfMY_n-6",
        "colab_type": "code",
        "colab": {
          "base_uri": "https://localhost:8080/",
          "height": 204
        },
        "outputId": "6b25cfb5-ce4f-4f2e-bce9-d0c0d8280e86"
      },
      "source": [
        "X_features.head()"
      ],
      "execution_count": 75,
      "outputs": [
        {
          "output_type": "execute_result",
          "data": {
            "text/html": [
              "<div>\n",
              "<style scoped>\n",
              "    .dataframe tbody tr th:only-of-type {\n",
              "        vertical-align: middle;\n",
              "    }\n",
              "\n",
              "    .dataframe tbody tr th {\n",
              "        vertical-align: top;\n",
              "    }\n",
              "\n",
              "    .dataframe thead th {\n",
              "        text-align: right;\n",
              "    }\n",
              "</style>\n",
              "<table border=\"1\" class=\"dataframe\">\n",
              "  <thead>\n",
              "    <tr style=\"text-align: right;\">\n",
              "      <th></th>\n",
              "      <th>HR</th>\n",
              "      <th>SBP</th>\n",
              "      <th>MAP</th>\n",
              "      <th>Age</th>\n",
              "    </tr>\n",
              "  </thead>\n",
              "  <tbody>\n",
              "    <tr>\n",
              "      <th>0</th>\n",
              "      <td>74.0</td>\n",
              "      <td>101.0</td>\n",
              "      <td>63.00</td>\n",
              "      <td>71.51</td>\n",
              "    </tr>\n",
              "    <tr>\n",
              "      <th>1</th>\n",
              "      <td>69.0</td>\n",
              "      <td>127.0</td>\n",
              "      <td>89.00</td>\n",
              "      <td>48.61</td>\n",
              "    </tr>\n",
              "    <tr>\n",
              "      <th>2</th>\n",
              "      <td>105.0</td>\n",
              "      <td>150.0</td>\n",
              "      <td>99.00</td>\n",
              "      <td>59.67</td>\n",
              "    </tr>\n",
              "    <tr>\n",
              "      <th>3</th>\n",
              "      <td>91.0</td>\n",
              "      <td>128.0</td>\n",
              "      <td>94.00</td>\n",
              "      <td>50.00</td>\n",
              "    </tr>\n",
              "    <tr>\n",
              "      <th>4</th>\n",
              "      <td>94.0</td>\n",
              "      <td>138.0</td>\n",
              "      <td>95.33</td>\n",
              "      <td>70.00</td>\n",
              "    </tr>\n",
              "  </tbody>\n",
              "</table>\n",
              "</div>"
            ],
            "text/plain": [
              "      HR    SBP    MAP    Age\n",
              "0   74.0  101.0  63.00  71.51\n",
              "1   69.0  127.0  89.00  48.61\n",
              "2  105.0  150.0  99.00  59.67\n",
              "3   91.0  128.0  94.00  50.00\n",
              "4   94.0  138.0  95.33  70.00"
            ]
          },
          "metadata": {
            "tags": []
          },
          "execution_count": 75
        }
      ]
    },
    {
      "cell_type": "code",
      "metadata": {
        "id": "15KRuEcE_tng",
        "colab_type": "code",
        "colab": {
          "base_uri": "https://localhost:8080/",
          "height": 119
        },
        "outputId": "709ea952-0f18-4363-a481-7c2d752d2e56"
      },
      "source": [
        "y.head()"
      ],
      "execution_count": 76,
      "outputs": [
        {
          "output_type": "execute_result",
          "data": {
            "text/plain": [
              "627565    0\n",
              "596596    0\n",
              "397609    0\n",
              "904755    0\n",
              "462935    0\n",
              "Name: SepsisLabel, dtype: int64"
            ]
          },
          "metadata": {
            "tags": []
          },
          "execution_count": 76
        }
      ]
    },
    {
      "cell_type": "markdown",
      "metadata": {
        "id": "7eKxNlXZADCd",
        "colab_type": "text"
      },
      "source": [
        "Standardization"
      ]
    },
    {
      "cell_type": "code",
      "metadata": {
        "id": "I9qAonH4_2zJ",
        "colab_type": "code",
        "colab": {}
      },
      "source": [
        "from sklearn.preprocessing import StandardScaler\n",
        "rescaledX = StandardScaler().fit_transform(X_features)"
      ],
      "execution_count": 77,
      "outputs": []
    },
    {
      "cell_type": "code",
      "metadata": {
        "id": "B6Je_JmoAI6g",
        "colab_type": "code",
        "colab": {}
      },
      "source": [
        "X = pd.DataFrame(data = rescaledX, columns= X_features.columns)"
      ],
      "execution_count": 78,
      "outputs": []
    },
    {
      "cell_type": "code",
      "metadata": {
        "id": "5WIC3vDQAOL2",
        "colab_type": "code",
        "colab": {
          "base_uri": "https://localhost:8080/",
          "height": 204
        },
        "outputId": "9bc8ca90-71c9-4e86-a666-02032cdb2047"
      },
      "source": [
        "X.head()"
      ],
      "execution_count": 79,
      "outputs": [
        {
          "output_type": "execute_result",
          "data": {
            "text/html": [
              "<div>\n",
              "<style scoped>\n",
              "    .dataframe tbody tr th:only-of-type {\n",
              "        vertical-align: middle;\n",
              "    }\n",
              "\n",
              "    .dataframe tbody tr th {\n",
              "        vertical-align: top;\n",
              "    }\n",
              "\n",
              "    .dataframe thead th {\n",
              "        text-align: right;\n",
              "    }\n",
              "</style>\n",
              "<table border=\"1\" class=\"dataframe\">\n",
              "  <thead>\n",
              "    <tr style=\"text-align: right;\">\n",
              "      <th></th>\n",
              "      <th>HR</th>\n",
              "      <th>SBP</th>\n",
              "      <th>MAP</th>\n",
              "      <th>Age</th>\n",
              "    </tr>\n",
              "  </thead>\n",
              "  <tbody>\n",
              "    <tr>\n",
              "      <th>0</th>\n",
              "      <td>-0.781</td>\n",
              "      <td>-1.228</td>\n",
              "      <td>-1.465</td>\n",
              "      <td>0.552</td>\n",
              "    </tr>\n",
              "    <tr>\n",
              "      <th>1</th>\n",
              "      <td>-1.160</td>\n",
              "      <td>0.356</td>\n",
              "      <td>0.848</td>\n",
              "      <td>-0.845</td>\n",
              "    </tr>\n",
              "    <tr>\n",
              "      <th>2</th>\n",
              "      <td>1.568</td>\n",
              "      <td>1.757</td>\n",
              "      <td>1.738</td>\n",
              "      <td>-0.170</td>\n",
              "    </tr>\n",
              "    <tr>\n",
              "      <th>3</th>\n",
              "      <td>0.507</td>\n",
              "      <td>0.417</td>\n",
              "      <td>1.293</td>\n",
              "      <td>-0.760</td>\n",
              "    </tr>\n",
              "    <tr>\n",
              "      <th>4</th>\n",
              "      <td>0.735</td>\n",
              "      <td>1.026</td>\n",
              "      <td>1.412</td>\n",
              "      <td>0.460</td>\n",
              "    </tr>\n",
              "  </tbody>\n",
              "</table>\n",
              "</div>"
            ],
            "text/plain": [
              "      HR    SBP    MAP    Age\n",
              "0 -0.781 -1.228 -1.465  0.552\n",
              "1 -1.160  0.356  0.848 -0.845\n",
              "2  1.568  1.757  1.738 -0.170\n",
              "3  0.507  0.417  1.293 -0.760\n",
              "4  0.735  1.026  1.412  0.460"
            ]
          },
          "metadata": {
            "tags": []
          },
          "execution_count": 79
        }
      ]
    },
    {
      "cell_type": "code",
      "metadata": {
        "id": "zp7Hk8CDAV9I",
        "colab_type": "code",
        "colab": {}
      },
      "source": [
        "from sklearn.model_selection import train_test_split\n",
        "X_train,X_test,Y_train,Y_test = train_test_split(X,y, random_state = 22, test_size = 0.2)"
      ],
      "execution_count": 80,
      "outputs": []
    },
    {
      "cell_type": "code",
      "metadata": {
        "id": "gdFMBDczAh7W",
        "colab_type": "code",
        "colab": {}
      },
      "source": [
        "from sklearn.model_selection import KFold\n",
        "from sklearn.model_selection import cross_val_score\n",
        "from sklearn.linear_model import LogisticRegression\n",
        "from sklearn.naive_bayes import GaussianNB\n",
        "from sklearn.neighbors import KNeighborsClassifier\n",
        "from sklearn.tree import DecisionTreeClassifier\n",
        "from sklearn.svm import SVC"
      ],
      "execution_count": 81,
      "outputs": []
    },
    {
      "cell_type": "code",
      "metadata": {
        "id": "P5yq_mKFAl7p",
        "colab_type": "code",
        "colab": {}
      },
      "source": [
        "models = []\n",
        "models.append((\"LR\",LogisticRegression()))\n",
        "models.append((\"NB\",GaussianNB()))\n",
        "models.append((\"KNN\",KNeighborsClassifier()))\n",
        "models.append((\"DT\",DecisionTreeClassifier()))\n",
        "models.append((\"SVM\",SVC()))"
      ],
      "execution_count": 82,
      "outputs": []
    },
    {
      "cell_type": "code",
      "metadata": {
        "id": "NXMYRnjFAs3h",
        "colab_type": "code",
        "colab": {
          "base_uri": "https://localhost:8080/",
          "height": 292
        },
        "outputId": "ae3dbc78-b40f-4f78-b59d-b35d944694f8"
      },
      "source": [
        "results = []\n",
        "names = []\n",
        "for name,model in models:\n",
        "    kfold = KFold(n_splits=10, random_state=22)\n",
        "    cv_result = cross_val_score(model,X_train,Y_train, cv = kfold,scoring = \"accuracy\")\n",
        "    names.append(name)\n",
        "    results.append(cv_result)\n",
        "for i in range(len(names)):\n",
        "    print(names[i],results[i].mean())"
      ],
      "execution_count": 83,
      "outputs": [
        {
          "output_type": "stream",
          "text": [
            "/usr/local/lib/python3.6/dist-packages/sklearn/model_selection/_split.py:296: FutureWarning: Setting a random_state has no effect since shuffle is False. This will raise an error in 0.24. You should leave random_state to its default (None), or set shuffle=True.\n",
            "  FutureWarning\n",
            "/usr/local/lib/python3.6/dist-packages/sklearn/model_selection/_split.py:296: FutureWarning: Setting a random_state has no effect since shuffle is False. This will raise an error in 0.24. You should leave random_state to its default (None), or set shuffle=True.\n",
            "  FutureWarning\n",
            "/usr/local/lib/python3.6/dist-packages/sklearn/model_selection/_split.py:296: FutureWarning: Setting a random_state has no effect since shuffle is False. This will raise an error in 0.24. You should leave random_state to its default (None), or set shuffle=True.\n",
            "  FutureWarning\n",
            "/usr/local/lib/python3.6/dist-packages/sklearn/model_selection/_split.py:296: FutureWarning: Setting a random_state has no effect since shuffle is False. This will raise an error in 0.24. You should leave random_state to its default (None), or set shuffle=True.\n",
            "  FutureWarning\n",
            "/usr/local/lib/python3.6/dist-packages/sklearn/model_selection/_split.py:296: FutureWarning: Setting a random_state has no effect since shuffle is False. This will raise an error in 0.24. You should leave random_state to its default (None), or set shuffle=True.\n",
            "  FutureWarning\n"
          ],
          "name": "stderr"
        },
        {
          "output_type": "stream",
          "text": [
            "LR 0.9792500000000001\n",
            "NB 0.9792500000000001\n",
            "KNN 0.9792499999999998\n",
            "DT 0.959375\n",
            "SVM 0.9792500000000001\n"
          ],
          "name": "stdout"
        }
      ]
    },
    {
      "cell_type": "code",
      "metadata": {
        "id": "IJj_J3p5AylS",
        "colab_type": "code",
        "colab": {
          "base_uri": "https://localhost:8080/",
          "height": 350
        },
        "outputId": "6d6be9b9-20de-4647-8a2b-086095353e1e"
      },
      "source": [
        "ax = sns.boxplot(data=results)\n",
        "ax.set_xticklabels(names)"
      ],
      "execution_count": 84,
      "outputs": [
        {
          "output_type": "execute_result",
          "data": {
            "text/plain": [
              "[Text(0, 0, 'LR'),\n",
              " Text(0, 0, 'NB'),\n",
              " Text(0, 0, 'KNN'),\n",
              " Text(0, 0, 'DT'),\n",
              " Text(0, 0, 'SVM')]"
            ]
          },
          "metadata": {
            "tags": []
          },
          "execution_count": 84
        },
        {
          "output_type": "display_data",
          "data": {
            "image/png": "[encoded data removed]",
            "text/plain": [
              "<Figure size 432x288 with 1 Axes>"
            ]
          },
          "metadata": {
            "tags": [],
            "needs_background": "light"
          }
        }
      ]
    },
    {
      "cell_type": "code",
      "metadata": {
        "id": "fNgbyop6A_dQ",
        "colab_type": "code",
        "colab": {}
      },
      "source": [
        "lr = LogisticRegression()\n",
        "lr.fit(X_train,Y_train)\n",
        "predictions_lr = lr.predict(X_test)"
      ],
      "execution_count": 90,
      "outputs": []
    },
    {
      "cell_type": "code",
      "metadata": {
        "id": "ejGLty0yBQh5",
        "colab_type": "code",
        "colab": {}
      },
      "source": [
        "from sklearn.metrics import accuracy_score\n",
        "from sklearn.metrics import classification_report\n",
        "from sklearn.metrics import confusion_matrix"
      ],
      "execution_count": 91,
      "outputs": []
    },
    {
      "cell_type": "code",
      "metadata": {
        "id": "KKIjFkuQBV1A",
        "colab_type": "code",
        "colab": {
          "base_uri": "https://localhost:8080/",
          "height": 34
        },
        "outputId": "0effa6e7-7b11-4d20-dd42-1fafede8065a"
      },
      "source": [
        "print(accuracy_score(Y_test,predictions_lr))"
      ],
      "execution_count": 92,
      "outputs": [
        {
          "output_type": "stream",
          "text": [
            "0.9775\n"
          ],
          "name": "stdout"
        }
      ]
    },
    {
      "cell_type": "code",
      "metadata": {
        "id": "hTN08u4HBe7i",
        "colab_type": "code",
        "colab": {}
      },
      "source": [
        "svm = SVC()\n",
        "svm.fit(X_train,Y_train)\n",
        "predictions_svc = svm.predict(X_test)"
      ],
      "execution_count": 93,
      "outputs": []
    },
    {
      "cell_type": "code",
      "metadata": {
        "id": "dpQQcVm9BlwH",
        "colab_type": "code",
        "colab": {
          "base_uri": "https://localhost:8080/",
          "height": 34
        },
        "outputId": "2735b925-64de-4a01-9c5f-f7cdd0ccc3a6"
      },
      "source": [
        "print(accuracy_score(Y_test,predictions_svc))"
      ],
      "execution_count": 94,
      "outputs": [
        {
          "output_type": "stream",
          "text": [
            "0.9775\n"
          ],
          "name": "stdout"
        }
      ]
    },
    {
      "cell_type": "code",
      "metadata": {
        "id": "2Q03__R2BsRX",
        "colab_type": "code",
        "colab": {
          "base_uri": "https://localhost:8080/",
          "height": 224
        },
        "outputId": "1ff01c2e-7033-474d-d109-49e24cec86ea"
      },
      "source": [
        "print(classification_report(Y_test,predictions_svc))"
      ],
      "execution_count": 95,
      "outputs": [
        {
          "output_type": "stream",
          "text": [
            "              precision    recall  f1-score   support\n",
            "\n",
            "           0       0.98      1.00      0.99      3910\n",
            "           1       0.00      0.00      0.00        90\n",
            "\n",
            "    accuracy                           0.98      4000\n",
            "   macro avg       0.49      0.50      0.49      4000\n",
            "weighted avg       0.96      0.98      0.97      4000\n",
            "\n"
          ],
          "name": "stdout"
        },
        {
          "output_type": "stream",
          "text": [
            "/usr/local/lib/python3.6/dist-packages/sklearn/metrics/_classification.py:1272: UndefinedMetricWarning: Precision and F-score are ill-defined and being set to 0.0 in labels with no predicted samples. Use `zero_division` parameter to control this behavior.\n",
            "  _warn_prf(average, modifier, msg_start, len(result))\n"
          ],
          "name": "stderr"
        }
      ]
    },
    {
      "cell_type": "code",
      "metadata": {
        "id": "_wCOk5AGCPXP",
        "colab_type": "code",
        "colab": {}
      },
      "source": [
        "conf_svc = confusion_matrix(Y_test,predictions_svc)"
      ],
      "execution_count": 97,
      "outputs": []
    },
    {
      "cell_type": "code",
      "metadata": {
        "id": "zzxDLcRaCZ8J",
        "colab_type": "code",
        "colab": {
          "base_uri": "https://localhost:8080/",
          "height": 282
        },
        "outputId": "094320cb-28bd-4dd5-b432-3e7a36b86d7f"
      },
      "source": [
        "label = [\"0\",\"1\"]\n",
        "sns.heatmap(conf_svc, annot=True, xticklabels=label, yticklabels=label)"
      ],
      "execution_count": 98,
      "outputs": [
        {
          "output_type": "execute_result",
          "data": {
            "text/plain": [
              "<matplotlib.axes._subplots.AxesSubplot at 0x7fc1bc3e6fd0>"
            ]
          },
          "metadata": {
            "tags": []
          },
          "execution_count": 98
        },
        {
          "output_type": "display_data",
          "data": {
            "image/png": "[encoded data removed]",
            "text/plain": [
              "<Figure size 432x288 with 2 Axes>"
            ]
          },
          "metadata": {
            "tags": [],
            "needs_background": "light"
          }
        }
      ]
    },
    {
      "cell_type": "code",
      "metadata": {
        "id": "TysoHXmJCmPK",
        "colab_type": "code",
        "colab": {
          "base_uri": "https://localhost:8080/",
          "height": 224
        },
        "outputId": "dd593cbc-e221-44ea-a32b-50aaaf1a86a3"
      },
      "source": [
        "print(classification_report(Y_test,predictions_lr))"
      ],
      "execution_count": 99,
      "outputs": [
        {
          "output_type": "stream",
          "text": [
            "              precision    recall  f1-score   support\n",
            "\n",
            "           0       0.98      1.00      0.99      3910\n",
            "           1       0.00      0.00      0.00        90\n",
            "\n",
            "    accuracy                           0.98      4000\n",
            "   macro avg       0.49      0.50      0.49      4000\n",
            "weighted avg       0.96      0.98      0.97      4000\n",
            "\n"
          ],
          "name": "stdout"
        },
        {
          "output_type": "stream",
          "text": [
            "/usr/local/lib/python3.6/dist-packages/sklearn/metrics/_classification.py:1272: UndefinedMetricWarning: Precision and F-score are ill-defined and being set to 0.0 in labels with no predicted samples. Use `zero_division` parameter to control this behavior.\n",
            "  _warn_prf(average, modifier, msg_start, len(result))\n"
          ],
          "name": "stderr"
        }
      ]
    },
    {
      "cell_type": "code",
      "metadata": {
        "id": "8uxOObthCv_I",
        "colab_type": "code",
        "colab": {}
      },
      "source": [
        "conf_lr = confusion_matrix(Y_test,predictions_lr)"
      ],
      "execution_count": 100,
      "outputs": []
    },
    {
      "cell_type": "code",
      "metadata": {
        "id": "M9nQsQqlC3co",
        "colab_type": "code",
        "colab": {
          "base_uri": "https://localhost:8080/",
          "height": 282
        },
        "outputId": "6096090b-0b9e-4353-93e0-f63bc7118dd3"
      },
      "source": [
        "label = [\"0\",\"1\"]\n",
        "sns.heatmap(conf_lr, annot=True, xticklabels=label, yticklabels=label)"
      ],
      "execution_count": 101,
      "outputs": [
        {
          "output_type": "execute_result",
          "data": {
            "text/plain": [
              "<matplotlib.axes._subplots.AxesSubplot at 0x7fc1bc2eb438>"
            ]
          },
          "metadata": {
            "tags": []
          },
          "execution_count": 101
        },
        {
          "output_type": "display_data",
          "data": {
            "image/png": "[encoded data removed]",
            "text/plain": [
              "<Figure size 432x288 with 2 Axes>"
            ]
          },
          "metadata": {
            "tags": [],
            "needs_background": "light"
          }
        }
      ]
    },
    {
      "cell_type": "code",
      "metadata": {
        "id": "6Myb2YR6C844",
        "colab_type": "code",
        "colab": {}
      },
      "source": [
        ""
      ],
      "execution_count": null,
      "outputs": []
    }
  ]
}