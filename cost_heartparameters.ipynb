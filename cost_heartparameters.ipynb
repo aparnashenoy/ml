{
  "nbformat": 4,
  "nbformat_minor": 0,
  "metadata": {
    "colab": {
      "name": "Untitled6.ipynb",
      "provenance": [],
      "authorship_tag": "ABX9TyP1X+LQP4f/v3wlscWDzpmA",
      "include_colab_link": true
    },
    "kernelspec": {
      "name": "python3",
      "display_name": "Python 3"
    }
  },
  "cells": [
    {
      "cell_type": "markdown",
      "metadata": {
        "id": "view-in-github",
        "colab_type": "text"
      },
      "source": [
        "<a href=\"https://colab.research.google.com/github/aparnashenoy/ml/blob/master/cost_heartparameters.ipynb\" target=\"_parent\"><img src=\"https://colab.research.google.com/assets/colab-badge.svg\" alt=\"Open In Colab\"/></a>"
      ]
    },
    {
      "cell_type": "code",
      "metadata": {
        "id": "2egS9XNom3O4"
      },
      "source": [
        "import pandas as pd\n",
        "import numpy as np\n",
        "import seaborn as sns"
      ],
      "execution_count": 1,
      "outputs": []
    },
    {
      "cell_type": "code",
      "metadata": {
        "id": "n7oCp-Jkm6s7",
        "outputId": "77cb9920-acdd-4fdf-a478-334ec7fdac5c",
        "colab": {
          "base_uri": "https://localhost:8080/",
          "height": 51
        }
      },
      "source": [
        "from google.colab import drive\n",
        "drive.mount('/gdrive')\n",
        "%cd /gdrive"
      ],
      "execution_count": 2,
      "outputs": [
        {
          "output_type": "stream",
          "text": [
            "Drive already mounted at /gdrive; to attempt to forcibly remount, call drive.mount(\"/gdrive\", force_remount=True).\n",
            "/gdrive\n"
          ],
          "name": "stdout"
        }
      ]
    },
    {
      "cell_type": "code",
      "metadata": {
        "id": "U1tE6aWum-ja"
      },
      "source": [
        "df= pd.read_csv(\"/gdrive/My Drive/df1_heart.csv\")"
      ],
      "execution_count": 3,
      "outputs": []
    },
    {
      "cell_type": "code",
      "metadata": {
        "id": "WBzv9-zjnK0i",
        "outputId": "1a6fa99a-b24b-4b50-cf97-81af52d2bb55",
        "colab": {
          "base_uri": "https://localhost:8080/",
          "height": 204
        }
      },
      "source": [
        "df.head()"
      ],
      "execution_count": 4,
      "outputs": [
        {
          "output_type": "execute_result",
          "data": {
            "text/html": [
              "<div>\n",
              "<style scoped>\n",
              "    .dataframe tbody tr th:only-of-type {\n",
              "        vertical-align: middle;\n",
              "    }\n",
              "\n",
              "    .dataframe tbody tr th {\n",
              "        vertical-align: top;\n",
              "    }\n",
              "\n",
              "    .dataframe thead th {\n",
              "        text-align: right;\n",
              "    }\n",
              "</style>\n",
              "<table border=\"1\" class=\"dataframe\">\n",
              "  <thead>\n",
              "    <tr style=\"text-align: right;\">\n",
              "      <th></th>\n",
              "      <th>Unnamed: 0</th>\n",
              "      <th>HR</th>\n",
              "      <th>O2Sat</th>\n",
              "      <th>Temp</th>\n",
              "      <th>SBP</th>\n",
              "      <th>MAP</th>\n",
              "      <th>DBP</th>\n",
              "      <th>Age</th>\n",
              "      <th>SepsisLabel</th>\n",
              "    </tr>\n",
              "  </thead>\n",
              "  <tbody>\n",
              "    <tr>\n",
              "      <th>0</th>\n",
              "      <td>0</td>\n",
              "      <td>99.0</td>\n",
              "      <td>100.0</td>\n",
              "      <td>37.0</td>\n",
              "      <td>120.0</td>\n",
              "      <td>71.0</td>\n",
              "      <td>60.0</td>\n",
              "      <td>69.66</td>\n",
              "      <td>0</td>\n",
              "    </tr>\n",
              "    <tr>\n",
              "      <th>1</th>\n",
              "      <td>1</td>\n",
              "      <td>97.5</td>\n",
              "      <td>100.0</td>\n",
              "      <td>37.0</td>\n",
              "      <td>120.0</td>\n",
              "      <td>78.0</td>\n",
              "      <td>60.0</td>\n",
              "      <td>69.66</td>\n",
              "      <td>0</td>\n",
              "    </tr>\n",
              "    <tr>\n",
              "      <th>2</th>\n",
              "      <td>2</td>\n",
              "      <td>96.0</td>\n",
              "      <td>100.0</td>\n",
              "      <td>37.0</td>\n",
              "      <td>120.0</td>\n",
              "      <td>70.0</td>\n",
              "      <td>60.0</td>\n",
              "      <td>69.66</td>\n",
              "      <td>0</td>\n",
              "    </tr>\n",
              "    <tr>\n",
              "      <th>3</th>\n",
              "      <td>3</td>\n",
              "      <td>100.0</td>\n",
              "      <td>99.0</td>\n",
              "      <td>37.0</td>\n",
              "      <td>120.0</td>\n",
              "      <td>75.0</td>\n",
              "      <td>60.0</td>\n",
              "      <td>69.66</td>\n",
              "      <td>0</td>\n",
              "    </tr>\n",
              "    <tr>\n",
              "      <th>4</th>\n",
              "      <td>4</td>\n",
              "      <td>102.0</td>\n",
              "      <td>100.0</td>\n",
              "      <td>36.0</td>\n",
              "      <td>120.0</td>\n",
              "      <td>74.0</td>\n",
              "      <td>60.0</td>\n",
              "      <td>69.66</td>\n",
              "      <td>0</td>\n",
              "    </tr>\n",
              "  </tbody>\n",
              "</table>\n",
              "</div>"
            ],
            "text/plain": [
              "   Unnamed: 0     HR  O2Sat  Temp    SBP   MAP   DBP    Age  SepsisLabel\n",
              "0           0   99.0  100.0  37.0  120.0  71.0  60.0  69.66            0\n",
              "1           1   97.5  100.0  37.0  120.0  78.0  60.0  69.66            0\n",
              "2           2   96.0  100.0  37.0  120.0  70.0  60.0  69.66            0\n",
              "3           3  100.0   99.0  37.0  120.0  75.0  60.0  69.66            0\n",
              "4           4  102.0  100.0  36.0  120.0  74.0  60.0  69.66            0"
            ]
          },
          "metadata": {
            "tags": []
          },
          "execution_count": 4
        }
      ]
    },
    {
      "cell_type": "code",
      "metadata": {
        "id": "VwSAd3iGnOYO"
      },
      "source": [
        "df.drop(['Unnamed: 0'], axis=1, inplace=True)"
      ],
      "execution_count": 5,
      "outputs": []
    },
    {
      "cell_type": "code",
      "metadata": {
        "id": "SKmAnlUEnTCo",
        "outputId": "2ad54100-189f-4094-a04c-871b90c35c47",
        "colab": {
          "base_uri": "https://localhost:8080/",
          "height": 142
        }
      },
      "source": [
        "pd.crosstab(df.SepsisLabel, columns='count')"
      ],
      "execution_count": 6,
      "outputs": [
        {
          "output_type": "execute_result",
          "data": {
            "text/html": [
              "<div>\n",
              "<style scoped>\n",
              "    .dataframe tbody tr th:only-of-type {\n",
              "        vertical-align: middle;\n",
              "    }\n",
              "\n",
              "    .dataframe tbody tr th {\n",
              "        vertical-align: top;\n",
              "    }\n",
              "\n",
              "    .dataframe thead th {\n",
              "        text-align: right;\n",
              "    }\n",
              "</style>\n",
              "<table border=\"1\" class=\"dataframe\">\n",
              "  <thead>\n",
              "    <tr style=\"text-align: right;\">\n",
              "      <th>col_0</th>\n",
              "      <th>count</th>\n",
              "    </tr>\n",
              "    <tr>\n",
              "      <th>SepsisLabel</th>\n",
              "      <th></th>\n",
              "    </tr>\n",
              "  </thead>\n",
              "  <tbody>\n",
              "    <tr>\n",
              "      <th>0</th>\n",
              "      <td>973683</td>\n",
              "    </tr>\n",
              "    <tr>\n",
              "      <th>1</th>\n",
              "      <td>20124</td>\n",
              "    </tr>\n",
              "  </tbody>\n",
              "</table>\n",
              "</div>"
            ],
            "text/plain": [
              "col_0         count\n",
              "SepsisLabel        \n",
              "0            973683\n",
              "1             20124"
            ]
          },
          "metadata": {
            "tags": []
          },
          "execution_count": 6
        }
      ]
    },
    {
      "cell_type": "code",
      "metadata": {
        "id": "TIPFfri747-C",
        "outputId": "06f55eb6-12f5-4615-b5d2-d8de1c98c926",
        "colab": {
          "base_uri": "https://localhost:8080/",
          "height": 350
        }
      },
      "source": [
        "sns.boxplot(df['HR'])"
      ],
      "execution_count": 7,
      "outputs": [
        {
          "output_type": "stream",
          "text": [
            "/usr/local/lib/python3.6/dist-packages/seaborn/_decorators.py:43: FutureWarning: Pass the following variable as a keyword arg: x. From version 0.12, the only valid positional argument will be `data`, and passing other arguments without an explicit keyword will result in an error or misinterpretation.\n",
            "  FutureWarning\n"
          ],
          "name": "stderr"
        },
        {
          "output_type": "execute_result",
          "data": {
            "text/plain": [
              "<matplotlib.axes._subplots.AxesSubplot at 0x7fd11dde4c50>"
            ]
          },
          "metadata": {
            "tags": []
          },
          "execution_count": 7
        },
        {
          "output_type": "display_data",
          "data": {
            "image/png": "[encoded data removed]",
            "text/plain": [
              "<Figure size 432x288 with 1 Axes>"
            ]
          },
          "metadata": {
            "tags": [],
            "needs_background": "light"
          }
        }
      ]
    },
    {
      "cell_type": "code",
      "metadata": {
        "id": "eTkxU1ZH48mN",
        "outputId": "9c0e5f84-d4fc-436a-9c77-d45dbbbed8df",
        "colab": {
          "base_uri": "https://localhost:8080/",
          "height": 51
        }
      },
      "source": [
        "print(df['HR'].quantile(0.10))\n",
        "print(df['HR'].quantile(0.90))"
      ],
      "execution_count": 8,
      "outputs": [
        {
          "output_type": "stream",
          "text": [
            "64.0\n",
            "106.0\n"
          ],
          "name": "stdout"
        }
      ]
    },
    {
      "cell_type": "code",
      "metadata": {
        "id": "K74Id9DT49gl",
        "outputId": "90739d6d-91fb-4d04-8b38-2a802e9e83de",
        "colab": {
          "base_uri": "https://localhost:8080/",
          "height": 34
        }
      },
      "source": [
        "df[\"HR\"] = np.where(df[\"HR\"] <64.0, 64.0,df['HR'])\n",
        "df[\"HR\"] = np.where(df[\"HR\"] >106.0, 106.0,df['HR'])\n",
        "print(df['HR'].skew())"
      ],
      "execution_count": 9,
      "outputs": [
        {
          "output_type": "stream",
          "text": [
            "0.11335757383538864\n"
          ],
          "name": "stdout"
        }
      ]
    },
    {
      "cell_type": "code",
      "metadata": {
        "id": "cPI7zVRl485V",
        "outputId": "de146522-95c4-4307-f7d3-d8c39075c69a",
        "colab": {
          "base_uri": "https://localhost:8080/",
          "height": 350
        }
      },
      "source": [
        "sns.boxplot(df['HR'])"
      ],
      "execution_count": 10,
      "outputs": [
        {
          "output_type": "stream",
          "text": [
            "/usr/local/lib/python3.6/dist-packages/seaborn/_decorators.py:43: FutureWarning: Pass the following variable as a keyword arg: x. From version 0.12, the only valid positional argument will be `data`, and passing other arguments without an explicit keyword will result in an error or misinterpretation.\n",
            "  FutureWarning\n"
          ],
          "name": "stderr"
        },
        {
          "output_type": "execute_result",
          "data": {
            "text/plain": [
              "<matplotlib.axes._subplots.AxesSubplot at 0x7fd127e14b70>"
            ]
          },
          "metadata": {
            "tags": []
          },
          "execution_count": 10
        },
        {
          "output_type": "display_data",
          "data": {
            "image/png": "[encoded data removed]",
            "text/plain": [
              "<Figure size 432x288 with 1 Axes>"
            ]
          },
          "metadata": {
            "tags": [],
            "needs_background": "light"
          }
        }
      ]
    },
    {
      "cell_type": "code",
      "metadata": {
        "id": "_emvNPQC48VC"
      },
      "source": [
        ""
      ],
      "execution_count": 10,
      "outputs": []
    },
    {
      "cell_type": "code",
      "metadata": {
        "id": "EdPBPyPw47sk"
      },
      "source": [
        ""
      ],
      "execution_count": 10,
      "outputs": []
    },
    {
      "cell_type": "code",
      "metadata": {
        "id": "DjNto7tjnXJv"
      },
      "source": [
        "from sklearn.linear_model import LogisticRegression\n",
        "from sklearn import tree\n",
        "from sklearn.model_selection import train_test_split\n",
        "import numpy as np\n",
        "from sklearn.metrics import confusion_matrix\n",
        "from sklearn.ensemble import RandomForestClassifier\n",
        "from sklearn.naive_bayes import GaussianNB"
      ],
      "execution_count": 11,
      "outputs": []
    },
    {
      "cell_type": "code",
      "metadata": {
        "id": "erq3ZOE_niQP",
        "outputId": "24530d77-9f87-4724-f965-37b259e7acc5",
        "colab": {
          "base_uri": "https://localhost:8080/",
          "height": 51
        }
      },
      "source": [
        "col_names = df.columns\n",
        "feature_cols = col_names[:-1]\n",
        "df_negative = df[df[col_names[-1]]==0]\n",
        "df_positive = df[df[col_names[-1]]==1]\n",
        "X = df[feature_cols]\n",
        "y = df[col_names[-1]]\n",
        " \n",
        "X_train, X_test, y_train, y_test = train_test_split(X, y, test_size=0.3, random_state=0)\n",
        " \n",
        "print(sum(y_train)/len(y_train))\n",
        "print(sum(y_test)/len(y_test))"
      ],
      "execution_count": 12,
      "outputs": [
        {
          "output_type": "stream",
          "text": [
            "0.020542963269624417\n",
            "0.019564437199598852\n"
          ],
          "name": "stdout"
        }
      ]
    },
    {
      "cell_type": "code",
      "metadata": {
        "id": "MLeDtjNonziF",
        "outputId": "1efb8f02-39ca-4369-df15-772695d553b3",
        "colab": {
          "base_uri": "https://localhost:8080/",
          "height": 34
        }
      },
      "source": [
        "gnb = GaussianNB()\n",
        "gnb.fit(X_train,y_train)\n",
        "gnb.class_prior_"
      ],
      "execution_count": 13,
      "outputs": [
        {
          "output_type": "execute_result",
          "data": {
            "text/plain": [
              "array([0.97945704, 0.02054296])"
            ]
          },
          "metadata": {
            "tags": []
          },
          "execution_count": 13
        }
      ]
    },
    {
      "cell_type": "code",
      "metadata": {
        "id": "rPi5QYd4oRBT",
        "outputId": "2d9ae2aa-f11e-4343-a9f9-162719170c1e",
        "colab": {
          "base_uri": "https://localhost:8080/",
          "height": 153
        }
      },
      "source": [
        "y_pred_nb = gnb.predict(X_test)\n",
        "def display_summary(true,pred):\n",
        "    tn, fp, fn, tp = confusion_matrix(true,pred).ravel()\n",
        "    print('confusion matrix')\n",
        "    print(np.array([[tp,fp],[fn,tn]]))\n",
        "    print('sensitivity is %f',1.*tp/(tp+fn))\n",
        "    print('specificity is %f',1.*tn/(tn+fp))\n",
        "    print('accuracy is %f',1.*(tp+tn)/(tp+tn+fp+fn))\n",
        "    print('balanced accuracy is %',1./2*(1.*tp/(tp+fn)+1.*tn/(tn+fp)))\n",
        " \n",
        "print('Gaussian NB')\n",
        "display_summary(y_test,y_pred_nb)"
      ],
      "execution_count": 14,
      "outputs": [
        {
          "output_type": "stream",
          "text": [
            "Gaussian NB\n",
            "confusion matrix\n",
            "[[   203   2494]\n",
            " [  5630 289816]]\n",
            "sensitivity is %f 0.03480198868506772\n",
            "specificity is %f 0.9914679620950361\n",
            "accuracy is %f 0.9727513307372636\n",
            "balanced accuracy is % 0.5131349753900519\n"
          ],
          "name": "stdout"
        }
      ]
    },
    {
      "cell_type": "code",
      "metadata": {
        "id": "v9WIRh24oW0g",
        "outputId": "d2824fae-79f5-4999-9455-0a53d6279e36",
        "colab": {
          "base_uri": "https://localhost:8080/",
          "height": 153
        }
      },
      "source": [
        "logreg = LogisticRegression()\n",
        "logreg.fit(X_train, y_train)\n",
        "y_pred_logistic = logreg.predict(X_test)\n",
        "logreg.intercept_\n",
        "print('Logistic Regression')\n",
        "display_summary(y_test,y_pred_logistic)"
      ],
      "execution_count": 15,
      "outputs": [
        {
          "output_type": "stream",
          "text": [
            "Logistic Regression\n",
            "confusion matrix\n",
            "[[     0      8]\n",
            " [  5833 292302]]\n",
            "sensitivity is %f 0.0\n",
            "specificity is %f 0.9999726317950122\n",
            "accuracy is %f 0.980408730038941\n",
            "balanced accuracy is % 0.4999863158975061\n"
          ],
          "name": "stdout"
        }
      ]
    },
    {
      "cell_type": "code",
      "metadata": {
        "id": "15kW97rhog94",
        "outputId": "bb414ee8-f131-4ca5-fb39-b0d277960dda",
        "colab": {
          "base_uri": "https://localhost:8080/",
          "height": 153
        }
      },
      "source": [
        "clf_random = RandomForestClassifier(n_estimators=100, max_depth=2,random_state=0)\n",
        "clf_random = clf_random.fit(X_train, y_train)\n",
        "y_pred_rf = clf_random.predict(X_test)\n",
        "print('Random Forest')\n",
        "display_summary(y_test,y_pred_rf)"
      ],
      "execution_count": 16,
      "outputs": [
        {
          "output_type": "stream",
          "text": [
            "Random Forest\n",
            "confusion matrix\n",
            "[[     0      0]\n",
            " [  5833 292310]]\n",
            "sensitivity is %f 0.0\n",
            "specificity is %f 1.0\n",
            "accuracy is %f 0.9804355628004011\n",
            "balanced accuracy is % 0.5\n"
          ],
          "name": "stdout"
        }
      ]
    },
    {
      "cell_type": "code",
      "metadata": {
        "id": "VAG5GKDboogw",
        "outputId": "93ea61cf-9785-4133-9058-166f8966229a",
        "colab": {
          "base_uri": "https://localhost:8080/",
          "height": 153
        }
      },
      "source": [
        "clf = tree.DecisionTreeClassifier()\n",
        "clf = clf.fit(X_train, y_train)\n",
        "y_pred_tree = clf.predict(X_test)\n",
        "print('Decision Tree')\n",
        "display_summary(y_test,y_pred_tree)"
      ],
      "execution_count": 17,
      "outputs": [
        {
          "output_type": "stream",
          "text": [
            "Decision Tree\n",
            "confusion matrix\n",
            "[[  3255   3282]\n",
            " [  2578 289028]]\n",
            "sensitivity is %f 0.5580318875364306\n",
            "specificity is %f 0.9887721939037324\n",
            "accuracy is %f 0.9803450022304733\n",
            "balanced accuracy is % 0.7734020407200815\n"
          ],
          "name": "stdout"
        }
      ]
    },
    {
      "cell_type": "code",
      "metadata": {
        "id": "pC6PeNpKo8fd",
        "outputId": "f258981d-9bbe-4674-dd5f-5bfde7f91c8d",
        "colab": {
          "base_uri": "https://localhost:8080/",
          "height": 187
        }
      },
      "source": [
        "!pip install costcla"
      ],
      "execution_count": 18,
      "outputs": [
        {
          "output_type": "stream",
          "text": [
            "Requirement already satisfied: costcla in /usr/local/lib/python3.6/dist-packages (0.6)\n",
            "Requirement already satisfied: scikit-learn>=0.15.0b2 in /usr/local/lib/python3.6/dist-packages (from costcla) (0.22.2.post1)\n",
            "Requirement already satisfied: pyea>=0.2 in /usr/local/lib/python3.6/dist-packages (from costcla) (0.2)\n",
            "Requirement already satisfied: numpy>=1.8.0 in /usr/local/lib/python3.6/dist-packages (from costcla) (1.18.5)\n",
            "Requirement already satisfied: pandas>=0.14.0 in /usr/local/lib/python3.6/dist-packages (from costcla) (1.1.2)\n",
            "Requirement already satisfied: scipy>=0.17.0 in /usr/local/lib/python3.6/dist-packages (from scikit-learn>=0.15.0b2->costcla) (1.4.1)\n",
            "Requirement already satisfied: joblib>=0.11 in /usr/local/lib/python3.6/dist-packages (from scikit-learn>=0.15.0b2->costcla) (0.16.0)\n",
            "Requirement already satisfied: python-dateutil>=2.7.3 in /usr/local/lib/python3.6/dist-packages (from pandas>=0.14.0->costcla) (2.8.1)\n",
            "Requirement already satisfied: pytz>=2017.2 in /usr/local/lib/python3.6/dist-packages (from pandas>=0.14.0->costcla) (2018.9)\n",
            "Requirement already satisfied: six>=1.5 in /usr/local/lib/python3.6/dist-packages (from python-dateutil>=2.7.3->pandas>=0.14.0->costcla) (1.15.0)\n"
          ],
          "name": "stdout"
        }
      ]
    },
    {
      "cell_type": "code",
      "metadata": {
        "id": "E6_ywXOfovoI",
        "outputId": "14f5bc0c-2215-4513-b1bf-53572fe35c13",
        "colab": {
          "base_uri": "https://localhost:8080/",
          "height": 139
        }
      },
      "source": [
        "from costcla.metrics import cost_loss, savings_score\n",
        "from costcla.models import CostSensitiveLogisticRegression, CostSensitiveRandomForestClassifier, CostSensitiveDecisionTreeClassifier"
      ],
      "execution_count": 19,
      "outputs": [
        {
          "output_type": "stream",
          "text": [
            "/usr/local/lib/python3.6/dist-packages/sklearn/externals/joblib/__init__.py:15: FutureWarning: sklearn.externals.joblib is deprecated in 0.21 and will be removed in 0.23. Please import this functionality directly from joblib, which can be installed with: pip install joblib. If this warning is raised when loading pickled models, you may need to re-serialize those models with scikit-learn 0.21+.\n",
            "  warnings.warn(msg, category=FutureWarning)\n",
            "/usr/local/lib/python3.6/dist-packages/sklearn/externals/six.py:31: FutureWarning: The module is deprecated in version 0.21 and will be removed in version 0.23 since we've dropped support for Python 2.7. Please rely on the official version of six (https://pypi.org/project/six/).\n",
            "  \"(https://pypi.org/project/six/).\", FutureWarning)\n",
            "/usr/local/lib/python3.6/dist-packages/sklearn/utils/deprecation.py:144: FutureWarning: The sklearn.ensemble.base module is  deprecated in version 0.22 and will be removed in version 0.24. The corresponding classes / functions should instead be imported from sklearn.ensemble. Anything that cannot be imported from sklearn.ensemble is now part of the private API.\n",
            "  warnings.warn(message, FutureWarning)\n"
          ],
          "name": "stderr"
        }
      ]
    },
    {
      "cell_type": "code",
      "metadata": {
        "id": "uKgFd3sW6osB",
        "outputId": "f309c664-3d57-4ed1-d9e1-15bbbd50a097",
        "colab": {
          "base_uri": "https://localhost:8080/",
          "height": 34
        }
      },
      "source": [
        "col_names"
      ],
      "execution_count": 21,
      "outputs": [
        {
          "output_type": "execute_result",
          "data": {
            "text/plain": [
              "Index(['HR', 'O2Sat', 'Temp', 'SBP', 'MAP', 'DBP', 'Age', 'SepsisLabel'], dtype='object')"
            ]
          },
          "metadata": {
            "tags": []
          },
          "execution_count": 21
        }
      ]
    },
    {
      "cell_type": "code",
      "metadata": {
        "id": "O4YNbbvxo4BA"
      },
      "source": [
        "cost_mat_train = np.zeros((len(y_train),4))\n",
        "#false positives cost 5\n",
        "cost_mat_train[:,0]=5\n",
        "#false negatives cost the HR\n",
        "cost_mat_train[:,1]=X_train['HR']\n",
        "#true positives also cost 5\n",
        "cost_mat_train[:,2]=5\n",
        " \n",
        "cost_mat_test = np.zeros((len(y_test),4))\n",
        "cost_mat_test[:,0]=5\n",
        "cost_mat_test[:,1]=X_test['HR']\n",
        "cost_mat_test[:,2]=5"
      ],
      "execution_count": 23,
      "outputs": []
    },
    {
      "cell_type": "code",
      "metadata": {
        "id": "kllwdIIFpm5I",
        "outputId": "d101b85c-42db-4130-89dc-df38e94a981e",
        "colab": {
          "base_uri": "https://localhost:8080/",
          "height": 51
        }
      },
      "source": [
        "f = CostSensitiveLogisticRegression()\n",
        "f.fit(np.array(X_train),np.array(y_train), cost_mat_train)\n",
        "y_pred_logistic_cslr = f.predict(X_test)\n",
        " \n",
        "g = CostSensitiveRandomForestClassifier()\n",
        "g.fit(np.array(X_train), np.array(y_train), cost_mat_train)\n",
        "y_pred_rf_cslr=g.predict(np.array(X_test))\n",
        " \n",
        "h = CostSensitiveDecisionTreeClassifier()\n",
        "h.fit(np.array(X_train), np.array(y_train), cost_mat_train)\n",
        "y_pred_tree_cslr = h.predict(np.array(X_test))"
      ],
      "execution_count": 24,
      "outputs": [
        {
          "output_type": "stream",
          "text": [
            "/usr/local/lib/python3.6/dist-packages/costcla/models/regression.py:45: RuntimeWarning: overflow encountered in exp\n",
            "  return 1 / (1 + np.exp(-z))\n"
          ],
          "name": "stderr"
        }
      ]
    },
    {
      "cell_type": "code",
      "metadata": {
        "id": "GB6hNUexprNA",
        "outputId": "3a7e2c99-a75c-4160-cc87-977b4a0728e9",
        "colab": {
          "base_uri": "https://localhost:8080/",
          "height": 221
        }
      },
      "source": [
        "print('naive: logistic regression')\n",
        "print(cost_loss(y_test,y_pred_logistic,cost_mat_test))\n",
        "print('naive: random forest')\n",
        "print(cost_loss(y_test,y_pred_rf,cost_mat_test))\n",
        "print('naive: decision tree')\n",
        "print(cost_loss(y_test,y_pred_tree,cost_mat_test))\n",
        "print('logistic: cost sensitve learning')\n",
        "print(cost_loss(y_test,y_pred_logistic_cslr,cost_mat_test))\n",
        "print('random forest: cost sensitve learning')\n",
        "print(cost_loss(y_test,y_pred_rf_cslr,cost_mat_test))\n",
        "print('decision tree: cost sensitve learning')\n",
        "print(cost_loss(y_test,y_pred_tree_cslr,cost_mat_test))"
      ],
      "execution_count": 25,
      "outputs": [
        {
          "output_type": "stream",
          "text": [
            "naive: logistic regression\n",
            "517163.0\n",
            "naive: random forest\n",
            "517123.0\n",
            "naive: decision tree\n",
            "260550.0\n",
            "logistic: cost sensitve learning\n",
            "1490715.0\n",
            "random forest: cost sensitve learning\n",
            "517123.0\n",
            "decision tree: cost sensitve learning\n",
            "192910.5\n"
          ],
          "name": "stdout"
        }
      ]
    },
    {
      "cell_type": "code",
      "metadata": {
        "id": "PA5W2K4EA2Ud"
      },
      "source": [
        "cost_mat_train = np.zeros((len(y_train),4))\n",
        "#false positives cost 5\n",
        "cost_mat_train[:,0]=5\n",
        "#false negatives cost the Age\n",
        "cost_mat_train[:,1]=X_train['Age']\n",
        "#true positives also cost 5\n",
        "cost_mat_train[:,2]=5\n",
        " \n",
        "cost_mat_test = np.zeros((len(y_test),4))\n",
        "cost_mat_test[:,0]=5\n",
        "cost_mat_test[:,1]=X_test['Age']\n",
        "cost_mat_test[:,2]=5"
      ],
      "execution_count": 26,
      "outputs": []
    },
    {
      "cell_type": "code",
      "metadata": {
        "id": "K__4Nss0A8vm",
        "outputId": "e54befd9-bfa0-4b0d-dce8-0fb447755d95",
        "colab": {
          "base_uri": "https://localhost:8080/",
          "height": 51
        }
      },
      "source": [
        "f = CostSensitiveLogisticRegression()\n",
        "f.fit(np.array(X_train),np.array(y_train), cost_mat_train)\n",
        "y_pred_logistic_cslr = f.predict(X_test)\n",
        " \n",
        "g = CostSensitiveRandomForestClassifier()\n",
        "g.fit(np.array(X_train), np.array(y_train), cost_mat_train)\n",
        "y_pred_rf_cslr=g.predict(np.array(X_test))\n",
        " \n",
        "h = CostSensitiveDecisionTreeClassifier()\n",
        "h.fit(np.array(X_train), np.array(y_train), cost_mat_train)\n",
        "y_pred_tree_cslr = h.predict(np.array(X_test))"
      ],
      "execution_count": 27,
      "outputs": [
        {
          "output_type": "stream",
          "text": [
            "/usr/local/lib/python3.6/dist-packages/costcla/models/regression.py:45: RuntimeWarning: overflow encountered in exp\n",
            "  return 1 / (1 + np.exp(-z))\n"
          ],
          "name": "stderr"
        }
      ]
    },
    {
      "cell_type": "code",
      "metadata": {
        "id": "a2Phh-uaBBz0",
        "outputId": "7d2a5e26-65ba-446f-f283-0323177fdb7b",
        "colab": {
          "base_uri": "https://localhost:8080/",
          "height": 221
        }
      },
      "source": [
        "print('naive: logistic regression')\n",
        "print(cost_loss(y_test,y_pred_logistic,cost_mat_test))\n",
        "print('naive: random forest')\n",
        "print(cost_loss(y_test,y_pred_rf,cost_mat_test))\n",
        "print('naive: decision tree')\n",
        "print(cost_loss(y_test,y_pred_tree,cost_mat_test))\n",
        "print('logistic: cost sensitve learning')\n",
        "print(cost_loss(y_test,y_pred_logistic_cslr,cost_mat_test))\n",
        "print('random forest: cost sensitve learning')\n",
        "print(cost_loss(y_test,y_pred_rf_cslr,cost_mat_test))\n",
        "print('decision tree: cost sensitve learning')\n",
        "print(cost_loss(y_test,y_pred_tree_cslr,cost_mat_test))"
      ],
      "execution_count": 28,
      "outputs": [
        {
          "output_type": "stream",
          "text": [
            "naive: logistic regression\n",
            "364514.72000000003\n",
            "naive: random forest\n",
            "364474.72000000003\n",
            "naive: decision tree\n",
            "195799.26\n",
            "logistic: cost sensitve learning\n",
            "364474.72000000003\n",
            "random forest: cost sensitve learning\n",
            "364474.72000000003\n",
            "decision tree: cost sensitve learning\n",
            "148925.3\n"
          ],
          "name": "stdout"
        }
      ]
    },
    {
      "cell_type": "code",
      "metadata": {
        "id": "hcTX2k2YBKLX"
      },
      "source": [
        ""
      ],
      "execution_count": null,
      "outputs": []
    }
  ]
}