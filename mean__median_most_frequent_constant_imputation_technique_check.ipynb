{
  "nbformat": 4,
  "nbformat_minor": 0,
  "metadata": {
    "colab": {
      "name": "mean_ median_most frequent_constant_imputation_technique check.ipynb",
      "provenance": [],
      "authorship_tag": "ABX9TyOTDm3QQByXex2lNdySIvhF",
      "include_colab_link": true
    },
    "kernelspec": {
      "name": "python3",
      "display_name": "Python 3"
    }
  },
  "cells": [
    {
      "cell_type": "markdown",
      "metadata": {
        "id": "view-in-github",
        "colab_type": "text"
      },
      "source": [
        "<a href=\"https://colab.research.google.com/github/aparnashenoy/ml/blob/master/mean__median_most_frequent_constant_imputation_technique_check.ipynb\" target=\"_parent\"><img src=\"https://colab.research.google.com/assets/colab-badge.svg\" alt=\"Open In Colab\"/></a>"
      ]
    },
    {
      "cell_type": "code",
      "metadata": {
        "id": "tQJfJ0jZmpL6",
        "colab_type": "code",
        "colab": {
          "base_uri": "https://localhost:8080/",
          "height": 139
        },
        "outputId": "5fa3ec26-e32b-4334-9abf-8e149757bd6a"
      },
      "source": [
        "from google.colab import drive\n",
        "drive.mount('/gdrive')\n",
        "%cd /gdrive"
      ],
      "execution_count": 1,
      "outputs": [
        {
          "output_type": "stream",
          "text": [
            "Go to this URL in a browser: https://accounts.google.com/o/oauth2/auth?client_id=947318989803-6bn6qk8qdgf4n4g3pfee6491hc0brc4i.apps.googleusercontent.com&redirect_uri=urn%3aietf%3awg%3aoauth%3a2.0%3aoob&response_type=code&scope=email%20https%3a%2f%2fwww.googleapis.com%2fauth%2fdocs.test%20https%3a%2f%2fwww.googleapis.com%2fauth%2fdrive%20https%3a%2f%2fwww.googleapis.com%2fauth%2fdrive.photos.readonly%20https%3a%2f%2fwww.googleapis.com%2fauth%2fpeopleapi.readonly\n",
            "\n",
            "Enter your authorization code:\n",
            "··········\n",
            "Mounted at /gdrive\n",
            "/gdrive\n"
          ],
          "name": "stdout"
        }
      ]
    },
    {
      "cell_type": "code",
      "metadata": {
        "id": "dsPRYwSynJHE",
        "colab_type": "code",
        "colab": {}
      },
      "source": [
        "from numpy import std\n",
        "from pandas import read_csv\n",
        "from sklearn.ensemble import RandomForestClassifier\n",
        "from sklearn.impute import SimpleImputer\n",
        "from sklearn.model_selection import cross_val_score\n",
        "from sklearn.model_selection import RepeatedStratifiedKFold\n",
        "from sklearn.pipeline import Pipeline\n",
        "from matplotlib import pyplot\n",
        "import pandas as pd\n",
        "import numpy as np\n",
        "from numpy import mean"
      ],
      "execution_count": 18,
      "outputs": []
    },
    {
      "cell_type": "code",
      "metadata": {
        "id": "51bXn_FYnFTM",
        "colab_type": "code",
        "colab": {}
      },
      "source": [
        "original_data = pd.read_csv('/gdrive/My Drive/sepsis_data.psv', sep ='|')\n",
        "missing_data = original_data.isnull().sum()\n",
        "missing_percent = (missing_data/original_data.shape[0])*100\n",
        "refined_columns = list(missing_percent[missing_percent < 92].index)\n",
        "sepsis_data = original_data[refined_columns]"
      ],
      "execution_count": 5,
      "outputs": []
    },
    {
      "cell_type": "code",
      "metadata": {
        "id": "bAfeRDqRngDi",
        "colab_type": "code",
        "colab": {
          "base_uri": "https://localhost:8080/",
          "height": 238
        },
        "outputId": "46d52950-a1e6-4fb4-fa05-cf1cf96e01ac"
      },
      "source": [
        "sepsis_data.values"
      ],
      "execution_count": 6,
      "outputs": [
        {
          "output_type": "execute_result",
          "data": {
            "text/plain": [
              "array([[ 0.000000e+00,  9.900000e+01,  1.000000e+02, ..., -2.000000e-02,\n",
              "         2.000000e+00,  0.000000e+00],\n",
              "       [ 1.000000e+00,  9.750000e+01,  1.000000e+02, ..., -2.000000e-02,\n",
              "         3.000000e+00,  0.000000e+00],\n",
              "       [ 2.000000e+00,  9.600000e+01,  1.000000e+02, ..., -2.000000e-02,\n",
              "         4.000000e+00,  0.000000e+00],\n",
              "       ...,\n",
              "       [ 1.167199e+06,  1.060000e+02,  9.300000e+01, ..., -3.470000e+00,\n",
              "         1.700000e+01,  0.000000e+00],\n",
              "       [ 1.167200e+06,  1.050000e+02,  9.500000e+01, ..., -3.470000e+00,\n",
              "         1.800000e+01,  0.000000e+00],\n",
              "       [ 1.167201e+06,  1.130000e+02,  9.200000e+01, ..., -3.470000e+00,\n",
              "         1.900000e+01,  0.000000e+00]])"
            ]
          },
          "metadata": {
            "tags": []
          },
          "execution_count": 6
        }
      ]
    },
    {
      "cell_type": "code",
      "metadata": {
        "id": "_qlNa1hjocd_",
        "colab_type": "code",
        "colab": {
          "base_uri": "https://localhost:8080/",
          "height": 85
        },
        "outputId": "ab51f456-bc6b-40e9-fd6e-91be875ebccc"
      },
      "source": [
        "sepsis_data.columns"
      ],
      "execution_count": 7,
      "outputs": [
        {
          "output_type": "execute_result",
          "data": {
            "text/plain": [
              "Index(['Unnamed: 0', 'HR', 'O2Sat', 'Temp', 'SBP', 'MAP', 'DBP', 'Resp',\n",
              "       'FiO2', 'pH', 'Glucose', 'Potassium', 'Hct', 'Age', 'Gender', 'Unit1',\n",
              "       'Unit2', 'HospAdmTime', 'ICULOS', 'SepsisLabel'],\n",
              "      dtype='object')"
            ]
          },
          "metadata": {
            "tags": []
          },
          "execution_count": 7
        }
      ]
    },
    {
      "cell_type": "code",
      "metadata": {
        "id": "n_IBBNg0oqSH",
        "colab_type": "code",
        "colab": {}
      },
      "source": [
        "sepsis_data.drop(['Unnamed: 0'], axis=1, inplace=True)"
      ],
      "execution_count": 8,
      "outputs": []
    },
    {
      "cell_type": "code",
      "metadata": {
        "id": "fLG4ZDrIo7w8",
        "colab_type": "code",
        "colab": {
          "base_uri": "https://localhost:8080/",
          "height": 85
        },
        "outputId": "ef3a29e6-0284-4c92-8a54-2cc9ce006d55"
      },
      "source": [
        "sepsis_data.columns"
      ],
      "execution_count": 9,
      "outputs": [
        {
          "output_type": "execute_result",
          "data": {
            "text/plain": [
              "Index(['HR', 'O2Sat', 'Temp', 'SBP', 'MAP', 'DBP', 'Resp', 'FiO2', 'pH',\n",
              "       'Glucose', 'Potassium', 'Hct', 'Age', 'Gender', 'Unit1', 'Unit2',\n",
              "       'HospAdmTime', 'ICULOS', 'SepsisLabel'],\n",
              "      dtype='object')"
            ]
          },
          "metadata": {
            "tags": []
          },
          "execution_count": 9
        }
      ]
    },
    {
      "cell_type": "code",
      "metadata": {
        "id": "kMh_QNVBnwA5",
        "colab_type": "code",
        "colab": {}
      },
      "source": [
        "categorical = sepsis_data.dtypes == object\n",
        "categorical['Unit1'] = True\n",
        "categorical['Unit2'] = True\n",
        "categorical['Gender'] = True"
      ],
      "execution_count": 13,
      "outputs": []
    },
    {
      "cell_type": "code",
      "metadata": {
        "id": "nPW-iPiEp1b2",
        "colab_type": "code",
        "colab": {
          "base_uri": "https://localhost:8080/",
          "height": 35
        },
        "outputId": "6756c67a-87f6-4e1e-b711-7efbc39a908a"
      },
      "source": [
        "cat_vars = list(categorical[categorical].index)\n",
        "cont_vars = list(categorical[~categorical].index)\n",
        "cont_vars.pop(-1)"
      ],
      "execution_count": 14,
      "outputs": [
        {
          "output_type": "execute_result",
          "data": {
            "application/vnd.google.colaboratory.intrinsic": {
              "type": "string"
            },
            "text/plain": [
              "'SepsisLabel'"
            ]
          },
          "metadata": {
            "tags": []
          },
          "execution_count": 14
        }
      ]
    },
    {
      "cell_type": "code",
      "metadata": {
        "id": "i_ewU12gp7pJ",
        "colab_type": "code",
        "colab": {
          "base_uri": "https://localhost:8080/",
          "height": 323
        },
        "outputId": "bbb98e13-22d0-4bf6-8f71-0f1c712a864e"
      },
      "source": [
        "features = cont_vars + cat_vars\n",
        "features"
      ],
      "execution_count": 15,
      "outputs": [
        {
          "output_type": "execute_result",
          "data": {
            "text/plain": [
              "['HR',\n",
              " 'O2Sat',\n",
              " 'Temp',\n",
              " 'SBP',\n",
              " 'MAP',\n",
              " 'DBP',\n",
              " 'Resp',\n",
              " 'FiO2',\n",
              " 'pH',\n",
              " 'Glucose',\n",
              " 'Potassium',\n",
              " 'Hct',\n",
              " 'Age',\n",
              " 'HospAdmTime',\n",
              " 'ICULOS',\n",
              " 'Gender',\n",
              " 'Unit1',\n",
              " 'Unit2']"
            ]
          },
          "metadata": {
            "tags": []
          },
          "execution_count": 15
        }
      ]
    },
    {
      "cell_type": "code",
      "metadata": {
        "id": "pCmKvTorqEll",
        "colab_type": "code",
        "colab": {}
      },
      "source": [
        "#split X and y\n",
        "X=sepsis_data[features]\n",
        "y=sepsis_data['SepsisLabel']"
      ],
      "execution_count": 16,
      "outputs": []
    },
    {
      "cell_type": "code",
      "metadata": {
        "id": "YLDYLu_yqKTQ",
        "colab_type": "code",
        "colab": {
          "base_uri": "https://localhost:8080/",
          "height": 334
        },
        "outputId": "d7a21f8c-c683-4fc0-e819-ff730841b0cf"
      },
      "source": [
        "results = list()\n",
        "strategies = ['mean', 'median', 'most_frequent', 'constant']\n",
        "for s in strategies:\n",
        "  pipeline = Pipeline(steps=[('i', SimpleImputer(strategy=s)), ('m',\n",
        "                                                                RandomForestClassifier())])\n",
        "  cv = RepeatedStratifiedKFold(n_splits=10, n_repeats=3, random_state=1)\n",
        "  scores = cross_val_score(pipeline, X, y, scoring='accuracy', cv=cv, n_jobs=-1)\n",
        "  results.append(scores)\n",
        "  print('>%s %.3f (%.3f)' % (s, mean(scores), std(scores)))\n",
        "# plot model performance for comparison\n",
        "pyplot.boxplot(results, labels=strategies, showmeans=True)\n",
        "pyplot.show()"
      ],
      "execution_count": 19,
      "outputs": [
        {
          "output_type": "stream",
          "text": [
            ">mean 0.982 (0.000)\n",
            ">median 0.982 (0.000)\n",
            ">most_frequent 0.982 (0.000)\n",
            ">constant 0.982 (0.000)\n"
          ],
          "name": "stdout"
        },
        {
          "output_type": "display_data",
          "data": {
            "image/png": "[encoded data removed]",
            "text/plain": [
              "<Figure size 432x288 with 1 Axes>"
            ]
          },
          "metadata": {
            "tags": [],
            "needs_background": "light"
          }
        }
      ]
    }
  ]
}