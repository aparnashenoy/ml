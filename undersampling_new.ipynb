{
  "nbformat": 4,
  "nbformat_minor": 0,
  "metadata": {
    "colab": {
      "name": "undersampling_new.ipynb",
      "provenance": [],
      "authorship_tag": "ABX9TyNMoidQ7fAXN6OexIhkXmBg",
      "include_colab_link": true
    },
    "kernelspec": {
      "name": "python3",
      "display_name": "Python 3"
    }
  },
  "cells": [
    {
      "cell_type": "markdown",
      "metadata": {
        "id": "view-in-github",
        "colab_type": "text"
      },
      "source": [
        "<a href=\"https://colab.research.google.com/github/aparnashenoy/ml/blob/master/undersampling_new.ipynb\" target=\"_parent\"><img src=\"https://colab.research.google.com/assets/colab-badge.svg\" alt=\"Open In Colab\"/></a>"
      ]
    },
    {
      "cell_type": "code",
      "metadata": {
        "colab": {
          "base_uri": "https://localhost:8080/"
        },
        "id": "ssgAh6kQYenU",
        "outputId": "17e0fe5c-834f-4999-b55e-1fc537bfca41"
      },
      "source": [
        "from google.colab import drive\r\n",
        "drive.mount('/gdrive')"
      ],
      "execution_count": 1,
      "outputs": [
        {
          "output_type": "stream",
          "text": [
            "Mounted at /gdrive\n"
          ],
          "name": "stdout"
        }
      ]
    },
    {
      "cell_type": "code",
      "metadata": {
        "id": "k5bZ61dIYfqZ"
      },
      "source": [
        "path = '/gdrive/My Drive/'"
      ],
      "execution_count": 2,
      "outputs": []
    },
    {
      "cell_type": "code",
      "metadata": {
        "id": "qHlrKNuuYo0U"
      },
      "source": [
        "import numpy as np\r\n",
        "import pandas as pd\r\n",
        "import matplotlib.pyplot as plt\r\n",
        "%matplotlib inline\r\n",
        "import seaborn as sns"
      ],
      "execution_count": 3,
      "outputs": []
    },
    {
      "cell_type": "code",
      "metadata": {
        "id": "EXnS6JH0YtcM"
      },
      "source": [
        "from matplotlib import rcParams\r\n",
        "rcParams['figure.figsize'] = 20, 14"
      ],
      "execution_count": 4,
      "outputs": []
    },
    {
      "cell_type": "code",
      "metadata": {
        "id": "9DubGfVFYwXr"
      },
      "source": [
        "df = pd.read_csv(path + 'data_cvs_resp.csv')"
      ],
      "execution_count": 5,
      "outputs": []
    },
    {
      "cell_type": "code",
      "metadata": {
        "id": "TITs_WHsYztL"
      },
      "source": [
        "df.drop(['Unnamed: 0'], axis = 1, inplace= True)"
      ],
      "execution_count": 6,
      "outputs": []
    },
    {
      "cell_type": "code",
      "metadata": {
        "colab": {
          "base_uri": "https://localhost:8080/"
        },
        "id": "qbTQxHLBY3nK",
        "outputId": "7e3f0d95-97b6-4c2e-958b-b3113582a1bf"
      },
      "source": [
        "cols=df.shape[1]\r\n",
        "print(\"columns = {}\".format(cols))"
      ],
      "execution_count": 7,
      "outputs": [
        {
          "output_type": "stream",
          "text": [
            "columns = 9\n"
          ],
          "name": "stdout"
        }
      ]
    },
    {
      "cell_type": "code",
      "metadata": {
        "colab": {
          "base_uri": "https://localhost:8080/"
        },
        "id": "F6miBnOZY6eq",
        "outputId": "f8325957-ee8e-4f7e-fec4-4ec4d26d89bb"
      },
      "source": [
        "df.columns = map(str.lower, df.columns)\r\n",
        "df.columns"
      ],
      "execution_count": 8,
      "outputs": [
        {
          "output_type": "execute_result",
          "data": {
            "text/plain": [
              "Index(['hr', 'o2sat', 'sbp', 'map', 'dbp', 'resp', 'age', 'gender',\n",
              "       'sepsislabel'],\n",
              "      dtype='object')"
            ]
          },
          "metadata": {
            "tags": []
          },
          "execution_count": 8
        }
      ]
    },
    {
      "cell_type": "code",
      "metadata": {
        "id": "W2Wse0iRY_RV"
      },
      "source": [
        "df['sepsislabel'] = df['sepsislabel'].astype('category')"
      ],
      "execution_count": 9,
      "outputs": []
    },
    {
      "cell_type": "code",
      "metadata": {
        "id": "kOJTQtyFZFUl"
      },
      "source": [
        "df['gender']=df['gender'].astype('category')"
      ],
      "execution_count": 10,
      "outputs": []
    },
    {
      "cell_type": "code",
      "metadata": {
        "id": "QLnJjbMvZIJd"
      },
      "source": [
        "df=df.sample(n=20000, random_state=1234, axis=None, weights=None)"
      ],
      "execution_count": 11,
      "outputs": []
    },
    {
      "cell_type": "code",
      "metadata": {
        "id": "CkP7Hr47ZLlF"
      },
      "source": [
        "y = df.sepsislabel.values\r\n",
        "x = df.drop([\"sepsislabel\", 'gender'], axis = 1)"
      ],
      "execution_count": 12,
      "outputs": []
    },
    {
      "cell_type": "code",
      "metadata": {
        "id": "tFqLv4dvZOjZ"
      },
      "source": [
        "x=(x-x.mean())/(x.max()-x.min())"
      ],
      "execution_count": 13,
      "outputs": []
    },
    {
      "cell_type": "code",
      "metadata": {
        "colab": {
          "base_uri": "https://localhost:8080/",
          "height": 204
        },
        "id": "TedQeVvQZSdo",
        "outputId": "7db371bc-bfae-40b7-9cdb-fb4672747128"
      },
      "source": [
        "x.head()"
      ],
      "execution_count": 14,
      "outputs": [
        {
          "output_type": "execute_result",
          "data": {
            "text/html": [
              "<div>\n",
              "<style scoped>\n",
              "    .dataframe tbody tr th:only-of-type {\n",
              "        vertical-align: middle;\n",
              "    }\n",
              "\n",
              "    .dataframe tbody tr th {\n",
              "        vertical-align: top;\n",
              "    }\n",
              "\n",
              "    .dataframe thead th {\n",
              "        text-align: right;\n",
              "    }\n",
              "</style>\n",
              "<table border=\"1\" class=\"dataframe\">\n",
              "  <thead>\n",
              "    <tr style=\"text-align: right;\">\n",
              "      <th></th>\n",
              "      <th>hr</th>\n",
              "      <th>o2sat</th>\n",
              "      <th>sbp</th>\n",
              "      <th>map</th>\n",
              "      <th>dbp</th>\n",
              "      <th>resp</th>\n",
              "      <th>age</th>\n",
              "    </tr>\n",
              "  </thead>\n",
              "  <tbody>\n",
              "    <tr>\n",
              "      <th>350586</th>\n",
              "      <td>0.185139</td>\n",
              "      <td>0.079287</td>\n",
              "      <td>-0.258963</td>\n",
              "      <td>-0.061076</td>\n",
              "      <td>-0.021065</td>\n",
              "      <td>-0.040390</td>\n",
              "      <td>-0.324787</td>\n",
              "    </tr>\n",
              "    <tr>\n",
              "      <th>300080</th>\n",
              "      <td>-0.029147</td>\n",
              "      <td>-0.420713</td>\n",
              "      <td>0.544775</td>\n",
              "      <td>0.514681</td>\n",
              "      <td>0.520602</td>\n",
              "      <td>-0.123723</td>\n",
              "      <td>0.102475</td>\n",
              "    </tr>\n",
              "    <tr>\n",
              "      <th>1136672</th>\n",
              "      <td>0.518472</td>\n",
              "      <td>0.079287</td>\n",
              "      <td>0.096177</td>\n",
              "      <td>0.484378</td>\n",
              "      <td>0.520602</td>\n",
              "      <td>-0.040390</td>\n",
              "      <td>-0.159906</td>\n",
              "    </tr>\n",
              "    <tr>\n",
              "      <th>31178</th>\n",
              "      <td>-0.243433</td>\n",
              "      <td>0.412621</td>\n",
              "      <td>-0.455225</td>\n",
              "      <td>-0.313500</td>\n",
              "      <td>-0.021065</td>\n",
              "      <td>-0.332056</td>\n",
              "      <td>-0.062644</td>\n",
              "    </tr>\n",
              "    <tr>\n",
              "      <th>1135430</th>\n",
              "      <td>-0.052957</td>\n",
              "      <td>0.079287</td>\n",
              "      <td>0.395242</td>\n",
              "      <td>0.151045</td>\n",
              "      <td>-0.479398</td>\n",
              "      <td>-0.457056</td>\n",
              "      <td>-0.207525</td>\n",
              "    </tr>\n",
              "  </tbody>\n",
              "</table>\n",
              "</div>"
            ],
            "text/plain": [
              "               hr     o2sat       sbp       map       dbp      resp       age\n",
              "350586   0.185139  0.079287 -0.258963 -0.061076 -0.021065 -0.040390 -0.324787\n",
              "300080  -0.029147 -0.420713  0.544775  0.514681  0.520602 -0.123723  0.102475\n",
              "1136672  0.518472  0.079287  0.096177  0.484378  0.520602 -0.040390 -0.159906\n",
              "31178   -0.243433  0.412621 -0.455225 -0.313500 -0.021065 -0.332056 -0.062644\n",
              "1135430 -0.052957  0.079287  0.395242  0.151045 -0.479398 -0.457056 -0.207525"
            ]
          },
          "metadata": {
            "tags": []
          },
          "execution_count": 14
        }
      ]
    },
    {
      "cell_type": "code",
      "metadata": {
        "colab": {
          "base_uri": "https://localhost:8080/"
        },
        "id": "-DKz3KzfZVkA",
        "outputId": "6941d696-3d1c-4d33-cc5a-f87767d1f0dc"
      },
      "source": [
        "import imblearn"
      ],
      "execution_count": 15,
      "outputs": [
        {
          "output_type": "stream",
          "text": [
            "/usr/local/lib/python3.6/dist-packages/sklearn/externals/six.py:31: FutureWarning: The module is deprecated in version 0.21 and will be removed in version 0.23 since we've dropped support for Python 2.7. Please rely on the official version of six (https://pypi.org/project/six/).\n",
            "  \"(https://pypi.org/project/six/).\", FutureWarning)\n",
            "/usr/local/lib/python3.6/dist-packages/sklearn/utils/deprecation.py:144: FutureWarning: The sklearn.neighbors.base module is  deprecated in version 0.22 and will be removed in version 0.24. The corresponding classes / functions should instead be imported from sklearn.neighbors. Anything that cannot be imported from sklearn.neighbors is now part of the private API.\n",
            "  warnings.warn(message, FutureWarning)\n"
          ],
          "name": "stderr"
        }
      ]
    },
    {
      "cell_type": "code",
      "metadata": {
        "id": "E6u9XX6mZasp"
      },
      "source": [
        "from imblearn.under_sampling import RandomUnderSampler"
      ],
      "execution_count": 17,
      "outputs": []
    },
    {
      "cell_type": "code",
      "metadata": {
        "colab": {
          "base_uri": "https://localhost:8080/"
        },
        "id": "Gsu4iIHGZngh",
        "outputId": "7b9f71bd-1bc3-4b2f-9ff5-cde4488e5b0a"
      },
      "source": [
        "ros = RandomUnderSampler()\r\n",
        "x, y = ros.fit_sample(x, y)"
      ],
      "execution_count": 21,
      "outputs": [
        {
          "output_type": "stream",
          "text": [
            "/usr/local/lib/python3.6/dist-packages/sklearn/utils/deprecation.py:87: FutureWarning: Function safe_indexing is deprecated; safe_indexing is deprecated in version 0.22 and will be removed in version 0.24.\n",
            "  warnings.warn(msg, category=FutureWarning)\n"
          ],
          "name": "stderr"
        }
      ]
    },
    {
      "cell_type": "code",
      "metadata": {
        "colab": {
          "base_uri": "https://localhost:8080/"
        },
        "id": "Ai3HaiydaHkd",
        "outputId": "fb10a2e7-e371-438d-f888-037c56873459"
      },
      "source": [
        "print('After UnderSampling, the shape of X: {}'.format(x.shape))\r\n",
        "print('After UnderSampling, the shape of y: {} \\n'.format(y.shape))\r\n",
        "\r\n",
        "print(\"After UnderSampling, counts of label '1': {}\".format(sum(y==1)))\r\n",
        "print(\"After UnderSampling, counts of label '0': {}\".format(sum(y==0)))"
      ],
      "execution_count": 22,
      "outputs": [
        {
          "output_type": "stream",
          "text": [
            "After UnderSampling, the shape of X: (776, 7)\n",
            "After UnderSampling, the shape of y: (776,) \n",
            "\n",
            "After UnderSampling, counts of label '1': 388\n",
            "After UnderSampling, counts of label '0': 388\n"
          ],
          "name": "stdout"
        }
      ]
    },
    {
      "cell_type": "code",
      "metadata": {
        "id": "KgvAk9kAbQ_0"
      },
      "source": [
        "from sklearn.model_selection import train_test_split\r\n",
        "x_train, x_test, y_train, y_test = train_test_split(x, y, test_size=0.30, random_state=42)"
      ],
      "execution_count": 23,
      "outputs": []
    },
    {
      "cell_type": "markdown",
      "metadata": {
        "id": "eLp4AfHxbnBs"
      },
      "source": [
        "##logistic regression"
      ]
    },
    {
      "cell_type": "code",
      "metadata": {
        "colab": {
          "base_uri": "https://localhost:8080/"
        },
        "id": "OaBYX74XbkJ9",
        "outputId": "0ababd00-13c5-4ab3-bd0d-28c3abfb9fda"
      },
      "source": [
        "from sklearn.linear_model import LogisticRegression\r\n",
        "model = LogisticRegression(max_iter=10000)\r\n",
        "\r\n",
        "model.fit(x_train, y_train)"
      ],
      "execution_count": 24,
      "outputs": [
        {
          "output_type": "execute_result",
          "data": {
            "text/plain": [
              "LogisticRegression(C=1.0, class_weight=None, dual=False, fit_intercept=True,\n",
              "                   intercept_scaling=1, l1_ratio=None, max_iter=10000,\n",
              "                   multi_class='auto', n_jobs=None, penalty='l2',\n",
              "                   random_state=None, solver='lbfgs', tol=0.0001, verbose=0,\n",
              "                   warm_start=False)"
            ]
          },
          "metadata": {
            "tags": []
          },
          "execution_count": 24
        }
      ]
    },
    {
      "cell_type": "code",
      "metadata": {
        "colab": {
          "base_uri": "https://localhost:8080/"
        },
        "id": "LyU1-axBbvfm",
        "outputId": "f0d7c00e-3c73-45e8-d5f2-f95ac585b116"
      },
      "source": [
        "train_pred = model.predict(x_train)\r\n",
        "\r\n",
        "test_pred = model.predict(x_test)\r\n",
        "\r\n",
        "# Use score method to get accuracy of model\r\n",
        "score = model.score(x_train, y_train)\r\n",
        "print('Train F1 Score = {} %'.format(round(score,4)*100))\r\n",
        "\r\n",
        "# Use score method to get accuracy of model\r\n",
        "score = model.score(x_test, y_test)\r\n",
        "print('Test F1 Score = {} %'.format(round(score,4)*100))"
      ],
      "execution_count": 25,
      "outputs": [
        {
          "output_type": "stream",
          "text": [
            "Train F1 Score = 58.379999999999995 %\n",
            "Test F1 Score = 59.230000000000004 %\n"
          ],
          "name": "stdout"
        }
      ]
    },
    {
      "cell_type": "code",
      "metadata": {
        "colab": {
          "base_uri": "https://localhost:8080/"
        },
        "id": "NgMP32_db1EO",
        "outputId": "98ee8694-89a4-4fac-d673-9faeb831e427"
      },
      "source": [
        "from sklearn.metrics import accuracy_score\r\n",
        "\r\n",
        "train_accuracy = accuracy_score(y_train, train_pred)\r\n",
        "train_accuracy = round(train_accuracy, 4)*100\r\n",
        "print('Training Accuracy = {} %'.format(train_accuracy))\r\n",
        "\r\n",
        "test_accuracy = accuracy_score(y_test, test_pred)\r\n",
        "test_accuracy = round(test_accuracy, 4)*100\r\n",
        "print('Test Accuracy = {} %'.format(test_accuracy))"
      ],
      "execution_count": 26,
      "outputs": [
        {
          "output_type": "stream",
          "text": [
            "Training Accuracy = 58.379999999999995 %\n",
            "Test Accuracy = 59.230000000000004 %\n"
          ],
          "name": "stdout"
        }
      ]
    },
    {
      "cell_type": "code",
      "metadata": {
        "colab": {
          "base_uri": "https://localhost:8080/",
          "height": 620
        },
        "id": "JneP7ZHfb7_e",
        "outputId": "0e144f17-3897-4c0b-fd28-e19964807d44"
      },
      "source": [
        "from sklearn.metrics import confusion_matrix\r\n",
        "import seaborn as sns\r\n",
        "\r\n",
        "conf_matrix = confusion_matrix(y_test, test_pred)\r\n",
        "print(conf_matrix)\r\n",
        "\r\n",
        "plt.figure(figsize=(11,9))\r\n",
        "sns.heatmap(conf_matrix, annot=True, fmt=\".3f\", linewidths=.5)\r\n",
        "\r\n",
        "plt.ylabel('Actual label')\r\n",
        "plt.xlabel('Predicted label')\r\n",
        "all_sample_title = 'Test F1 Score:{}%'.format(round(score, 4)*100)\r\n",
        "plt.title(all_sample_title, size = 15)"
      ],
      "execution_count": 27,
      "outputs": [
        {
          "output_type": "stream",
          "text": [
            "[[67 55]\n",
            " [40 71]]\n"
          ],
          "name": "stdout"
        },
        {
          "output_type": "execute_result",
          "data": {
            "text/plain": [
              "Text(0.5, 1.0, 'Test F1 Score:59.230000000000004%')"
            ]
          },
          "metadata": {
            "tags": []
          },
          "execution_count": 27
        },
        {
          "output_type": "display_data",
          "data": {
            "image/png": "[encoded data removed]",
            "text/plain": [
              "<Figure size 792x648 with 2 Axes>"
            ]
          },
          "metadata": {
            "tags": [],
            "needs_background": "light"
          }
        }
      ]
    },
    {
      "cell_type": "code",
      "metadata": {
        "colab": {
          "base_uri": "https://localhost:8080/"
        },
        "id": "Jq7pvJBdcBLy",
        "outputId": "1d530efe-cfb7-46f6-9314-332bcf80a9f7"
      },
      "source": [
        "from sklearn.metrics import classification_report\r\n",
        "\r\n",
        "print('*********************  Training Data Report  **********')\r\n",
        "print(classification_report(y_train, train_pred))\r\n",
        "\r\n",
        "print('***********************  Test Data Report  **********')\r\n",
        "print(classification_report(y_test, test_pred))\r\n"
      ],
      "execution_count": 28,
      "outputs": [
        {
          "output_type": "stream",
          "text": [
            "*********************  Training Data Report  **********\n",
            "              precision    recall  f1-score   support\n",
            "\n",
            "           0       0.57      0.62      0.59       266\n",
            "           1       0.60      0.55      0.58       277\n",
            "\n",
            "    accuracy                           0.58       543\n",
            "   macro avg       0.58      0.58      0.58       543\n",
            "weighted avg       0.59      0.58      0.58       543\n",
            "\n",
            "***********************  Test Data Report  **********\n",
            "              precision    recall  f1-score   support\n",
            "\n",
            "           0       0.63      0.55      0.59       122\n",
            "           1       0.56      0.64      0.60       111\n",
            "\n",
            "    accuracy                           0.59       233\n",
            "   macro avg       0.59      0.59      0.59       233\n",
            "weighted avg       0.60      0.59      0.59       233\n",
            "\n"
          ],
          "name": "stdout"
        }
      ]
    },
    {
      "cell_type": "markdown",
      "metadata": {
        "id": "VqvRrqxJcNVM"
      },
      "source": [
        "##support vector classifier"
      ]
    },
    {
      "cell_type": "code",
      "metadata": {
        "colab": {
          "base_uri": "https://localhost:8080/"
        },
        "id": "ZQZXGrAkcNEI",
        "outputId": "0070da8c-2198-4571-c2cc-717a92d30a10"
      },
      "source": [
        "from sklearn.svm import SVC\r\n",
        "classifier_rbf = SVC(kernel = 'rbf')\r\n",
        "classifier_rbf.fit(x_train, y_train)\r\n",
        "y_pred = classifier_rbf.predict(x_test)\r\n",
        "print('Accuracy of SVC (RBF) classifier on test set: {:.2f}'.format(classifier_rbf.score(x_test, y_test)))"
      ],
      "execution_count": 29,
      "outputs": [
        {
          "output_type": "stream",
          "text": [
            "Accuracy of SVC (RBF) classifier on test set: 0.58\n"
          ],
          "name": "stdout"
        }
      ]
    },
    {
      "cell_type": "code",
      "metadata": {
        "colab": {
          "base_uri": "https://localhost:8080/"
        },
        "id": "DZzS8o7YcGlK",
        "outputId": "2205297f-e716-42b3-d119-15a930840226"
      },
      "source": [
        "train_pred = classifier_rbf.predict(x_train)\r\n",
        "\r\n",
        "test_pred = classifier_rbf.predict(x_test)\r\n",
        "\r\n",
        "# Use score method to get accuracy of model\r\n",
        "score = classifier_rbf.score(x_train, y_train)\r\n",
        "print('Train F1 Score = {} %'.format(round(score,4)*100))\r\n",
        "\r\n",
        "# Use score method to get accuracy of model\r\n",
        "score = classifier_rbf.score(x_test, y_test)\r\n",
        "print('Test F1 Score = {} %'.format(round(score,4)*100))"
      ],
      "execution_count": 30,
      "outputs": [
        {
          "output_type": "stream",
          "text": [
            "Train F1 Score = 67.77 %\n",
            "Test F1 Score = 58.37 %\n"
          ],
          "name": "stdout"
        }
      ]
    },
    {
      "cell_type": "code",
      "metadata": {
        "colab": {
          "base_uri": "https://localhost:8080/",
          "height": 620
        },
        "id": "uLWen9upciAU",
        "outputId": "075aa337-8441-41cb-d1f2-eae2f7c80f4e"
      },
      "source": [
        "from sklearn.metrics import confusion_matrix\r\n",
        "import seaborn as sns\r\n",
        "\r\n",
        "conf_matrix = confusion_matrix(y_test, test_pred)\r\n",
        "print(conf_matrix)\r\n",
        "\r\n",
        "plt.figure(figsize=(11,9))\r\n",
        "sns.heatmap(conf_matrix, annot=True, fmt=\".3f\", linewidths=.5)\r\n",
        "\r\n",
        "plt.ylabel('Actual label')\r\n",
        "plt.xlabel('Predicted label')\r\n",
        "all_sample_title = 'Test F1 Score:{}%'.format(round(score, 4)*100)\r\n",
        "plt.title(all_sample_title, size = 15)"
      ],
      "execution_count": 31,
      "outputs": [
        {
          "output_type": "stream",
          "text": [
            "[[66 56]\n",
            " [41 70]]\n"
          ],
          "name": "stdout"
        },
        {
          "output_type": "execute_result",
          "data": {
            "text/plain": [
              "Text(0.5, 1.0, 'Test F1 Score:58.37%')"
            ]
          },
          "metadata": {
            "tags": []
          },
          "execution_count": 31
        },
        {
          "output_type": "display_data",
          "data": {
            "image/png": "[encoded data removed]",
            "text/plain": [
              "<Figure size 792x648 with 2 Axes>"
            ]
          },
          "metadata": {
            "tags": [],
            "needs_background": "light"
          }
        }
      ]
    },
    {
      "cell_type": "code",
      "metadata": {
        "colab": {
          "base_uri": "https://localhost:8080/"
        },
        "id": "NnJdHbE1cxIj",
        "outputId": "2ed881a3-ee31-4559-bc50-5221efe4bb6b"
      },
      "source": [
        "from sklearn.metrics import classification_report\r\n",
        "\r\n",
        "print('*********************  Training Data Report  **********')\r\n",
        "print(classification_report(y_train, train_pred))\r\n",
        "\r\n",
        "print('***********************  Test Data Report  **********')\r\n",
        "print(classification_report(y_test, test_pred))"
      ],
      "execution_count": 32,
      "outputs": [
        {
          "output_type": "stream",
          "text": [
            "*********************  Training Data Report  **********\n",
            "              precision    recall  f1-score   support\n",
            "\n",
            "           0       0.66      0.71      0.68       266\n",
            "           1       0.70      0.64      0.67       277\n",
            "\n",
            "    accuracy                           0.68       543\n",
            "   macro avg       0.68      0.68      0.68       543\n",
            "weighted avg       0.68      0.68      0.68       543\n",
            "\n",
            "***********************  Test Data Report  **********\n",
            "              precision    recall  f1-score   support\n",
            "\n",
            "           0       0.62      0.54      0.58       122\n",
            "           1       0.56      0.63      0.59       111\n",
            "\n",
            "    accuracy                           0.58       233\n",
            "   macro avg       0.59      0.59      0.58       233\n",
            "weighted avg       0.59      0.58      0.58       233\n",
            "\n"
          ],
          "name": "stdout"
        }
      ]
    },
    {
      "cell_type": "code",
      "metadata": {
        "id": "t0vUowRqc2Cr"
      },
      "source": [
        "svc_scores = []\r\n",
        "kernels = ['linear', 'poly', 'rbf', 'sigmoid']\r\n",
        "for i in range(len(kernels)):\r\n",
        "    svc_classifier = SVC(kernel = kernels[i])\r\n",
        "    svc_classifier.fit(x_train, y_train)\r\n",
        "    svc_scores.append(svc_classifier.score(x_test, y_test))"
      ],
      "execution_count": 33,
      "outputs": []
    },
    {
      "cell_type": "code",
      "metadata": {
        "id": "8oFh3Yyvc-MW"
      },
      "source": [
        "from matplotlib.cm import rainbow"
      ],
      "execution_count": 34,
      "outputs": []
    },
    {
      "cell_type": "code",
      "metadata": {
        "colab": {
          "base_uri": "https://localhost:8080/",
          "height": 856
        },
        "id": "ekMq_-AmdCal",
        "outputId": "f65c64fb-6d26-4ef6-cf93-df886d3893c2"
      },
      "source": [
        "rcParams['figure.figsize'] = 20, 14\r\n",
        "colors = rainbow(np.linspace(0, 1, len(kernels)))\r\n",
        "plt.bar(kernels, svc_scores, color = colors)\r\n",
        "for i in range(len(kernels)):\r\n",
        "    plt.text(i, svc_scores[i], svc_scores[i])\r\n",
        "plt.xlabel('Kernels')\r\n",
        "plt.ylabel('Scores')\r\n",
        "plt.title('Support Vector Classifier scores for different kernels')"
      ],
      "execution_count": 35,
      "outputs": [
        {
          "output_type": "execute_result",
          "data": {
            "text/plain": [
              "Text(0.5, 1.0, 'Support Vector Classifier scores for different kernels')"
            ]
          },
          "metadata": {
            "tags": []
          },
          "execution_count": 35
        },
        {
          "output_type": "display_data",
          "data": {
            "image/png": "[encoded data removed]",
            "text/plain": [
              "<Figure size 1440x1008 with 1 Axes>"
            ]
          },
          "metadata": {
            "tags": [],
            "needs_background": "light"
          }
        }
      ]
    },
    {
      "cell_type": "code",
      "metadata": {
        "colab": {
          "base_uri": "https://localhost:8080/"
        },
        "id": "HIOn82w7dFnd",
        "outputId": "4497a0ef-3443-4d1d-9a78-7c631234a764"
      },
      "source": [
        "from sklearn.svm import SVC\r\n",
        "classifier_poly = SVC(kernel = 'poly')\r\n",
        "classifier_poly.fit(x_train, y_train)\r\n",
        "y_pred = classifier_poly.predict(x_test)\r\n",
        "print('Accuracy of SVC (RBF) classifier on test set: {:.2f}'.format(classifier_rbf.score(x_test, y_test)))"
      ],
      "execution_count": 36,
      "outputs": [
        {
          "output_type": "stream",
          "text": [
            "Accuracy of SVC (RBF) classifier on test set: 0.58\n"
          ],
          "name": "stdout"
        }
      ]
    },
    {
      "cell_type": "code",
      "metadata": {
        "colab": {
          "base_uri": "https://localhost:8080/"
        },
        "id": "S10UmFZudTcE",
        "outputId": "8b329d90-3eb6-4c32-8c19-75a6410794d2"
      },
      "source": [
        "train_pred = classifier_poly.predict(x_train)\r\n",
        "\r\n",
        "test_pred = classifier_poly.predict(x_test)\r\n",
        "\r\n",
        "# Use score method to get accuracy of model\r\n",
        "score = classifier_poly.score(x_train, y_train)\r\n",
        "print('Train F1 Score = {} %'.format(round(score,4)*100))\r\n",
        "\r\n",
        "# Use score method to get accuracy of model\r\n",
        "score = classifier_poly.score(x_test, y_test)\r\n",
        "print('Test F1 Score = {} %'.format(round(score,4)*100))"
      ],
      "execution_count": 37,
      "outputs": [
        {
          "output_type": "stream",
          "text": [
            "Train F1 Score = 66.11 %\n",
            "Test F1 Score = 60.940000000000005 %\n"
          ],
          "name": "stdout"
        }
      ]
    },
    {
      "cell_type": "code",
      "metadata": {
        "colab": {
          "base_uri": "https://localhost:8080/",
          "height": 620
        },
        "id": "C4TO_l2cdhLu",
        "outputId": "06975497-7d06-4930-88fb-1d0250df9437"
      },
      "source": [
        "from sklearn.metrics import confusion_matrix\r\n",
        "import seaborn as sns\r\n",
        "\r\n",
        "conf_matrix = confusion_matrix(y_test, test_pred)\r\n",
        "print(conf_matrix)\r\n",
        "\r\n",
        "plt.figure(figsize=(11,9))\r\n",
        "sns.heatmap(conf_matrix, annot=True, fmt=\".3f\", linewidths=.5)\r\n",
        "\r\n",
        "plt.ylabel('Actual label')\r\n",
        "plt.xlabel('Predicted label')\r\n",
        "all_sample_title = 'Test F1 Score:{}%'.format(round(score, 4)*100)\r\n",
        "plt.title(all_sample_title, size = 15)"
      ],
      "execution_count": 38,
      "outputs": [
        {
          "output_type": "stream",
          "text": [
            "[[82 40]\n",
            " [51 60]]\n"
          ],
          "name": "stdout"
        },
        {
          "output_type": "execute_result",
          "data": {
            "text/plain": [
              "Text(0.5, 1.0, 'Test F1 Score:60.940000000000005%')"
            ]
          },
          "metadata": {
            "tags": []
          },
          "execution_count": 38
        },
        {
          "output_type": "display_data",
          "data": {
            "image/png": "[encoded data removed]",
            "text/plain": [
              "<Figure size 792x648 with 2 Axes>"
            ]
          },
          "metadata": {
            "tags": [],
            "needs_background": "light"
          }
        }
      ]
    },
    {
      "cell_type": "code",
      "metadata": {
        "colab": {
          "base_uri": "https://localhost:8080/"
        },
        "id": "k2njIaBldm6u",
        "outputId": "2efbf520-8b55-4a56-f1cb-212d9a865d80"
      },
      "source": [
        "from sklearn.metrics import classification_report\r\n",
        "\r\n",
        "print('*********************  Training Data Report  **********')\r\n",
        "print(classification_report(y_train, train_pred))\r\n",
        "\r\n",
        "print('***********************  Test Data Report  **********')\r\n",
        "print(classification_report(y_test, test_pred))"
      ],
      "execution_count": 39,
      "outputs": [
        {
          "output_type": "stream",
          "text": [
            "*********************  Training Data Report  **********\n",
            "              precision    recall  f1-score   support\n",
            "\n",
            "           0       0.63      0.76      0.69       266\n",
            "           1       0.71      0.57      0.63       277\n",
            "\n",
            "    accuracy                           0.66       543\n",
            "   macro avg       0.67      0.66      0.66       543\n",
            "weighted avg       0.67      0.66      0.66       543\n",
            "\n",
            "***********************  Test Data Report  **********\n",
            "              precision    recall  f1-score   support\n",
            "\n",
            "           0       0.62      0.67      0.64       122\n",
            "           1       0.60      0.54      0.57       111\n",
            "\n",
            "    accuracy                           0.61       233\n",
            "   macro avg       0.61      0.61      0.61       233\n",
            "weighted avg       0.61      0.61      0.61       233\n",
            "\n"
          ],
          "name": "stdout"
        }
      ]
    },
    {
      "cell_type": "markdown",
      "metadata": {
        "id": "0myiRH4Jdziz"
      },
      "source": [
        "##random forest classifier"
      ]
    },
    {
      "cell_type": "code",
      "metadata": {
        "colab": {
          "base_uri": "https://localhost:8080/"
        },
        "id": "RYB6WA2TdsHV",
        "outputId": "229d99ad-3265-47c9-97a4-857751caa8c0"
      },
      "source": [
        "from sklearn.ensemble import RandomForestClassifier\r\n",
        "rfc = RandomForestClassifier(n_estimators=300, bootstrap = True, max_features = 'sqrt')\r\n",
        "rfc.fit(x_train, y_train)\r\n",
        "y_pred = rfc.predict(x_test)\r\n",
        "print('Accuracy of Random Forest on test set: {:.2f}'.format(rfc.score(x_test, y_test)))"
      ],
      "execution_count": 40,
      "outputs": [
        {
          "output_type": "stream",
          "text": [
            "Accuracy of Random Forest on test set: 0.60\n"
          ],
          "name": "stdout"
        }
      ]
    },
    {
      "cell_type": "code",
      "metadata": {
        "colab": {
          "base_uri": "https://localhost:8080/"
        },
        "id": "-A0EI7qGd5bZ",
        "outputId": "b8006716-9958-449e-d9e3-ed635931897c"
      },
      "source": [
        "train_pred = rfc.predict(x_train)\r\n",
        "\r\n",
        "test_pred = rfc.predict(x_test)\r\n",
        "\r\n",
        "# Use score method to get accuracy of model\r\n",
        "score = rfc.score(x_train, y_train)\r\n",
        "print('Train F1 Score = {} %'.format(round(score,4)*100))\r\n",
        "\r\n",
        "# Use score method to get accuracy of model\r\n",
        "score = rfc.score(x_test, y_test)\r\n",
        "print('Test F1 Score = {} %'.format(round(score,4)*100))"
      ],
      "execution_count": 41,
      "outputs": [
        {
          "output_type": "stream",
          "text": [
            "Train F1 Score = 99.82 %\n",
            "Test F1 Score = 60.089999999999996 %\n"
          ],
          "name": "stdout"
        }
      ]
    },
    {
      "cell_type": "code",
      "metadata": {
        "colab": {
          "base_uri": "https://localhost:8080/",
          "height": 620
        },
        "id": "APPY7-M4d82Z",
        "outputId": "cc7ca889-c83d-4b0b-c6bc-6ad105fafafb"
      },
      "source": [
        "from sklearn.metrics import confusion_matrix\r\n",
        "import seaborn as sns\r\n",
        "\r\n",
        "conf_matrix = confusion_matrix(y_test, test_pred)\r\n",
        "print(conf_matrix)\r\n",
        "\r\n",
        "plt.figure(figsize=(11,9))\r\n",
        "sns.heatmap(conf_matrix, annot=True, fmt=\".3f\", linewidths=.5)\r\n",
        "\r\n",
        "plt.ylabel('Actual label')\r\n",
        "plt.xlabel('Predicted label')\r\n",
        "all_sample_title = 'Test F1 Score:{}%'.format(round(score, 4)*100)\r\n",
        "plt.title(all_sample_title, size = 15)"
      ],
      "execution_count": 42,
      "outputs": [
        {
          "output_type": "stream",
          "text": [
            "[[71 51]\n",
            " [42 69]]\n"
          ],
          "name": "stdout"
        },
        {
          "output_type": "execute_result",
          "data": {
            "text/plain": [
              "Text(0.5, 1.0, 'Test F1 Score:60.089999999999996%')"
            ]
          },
          "metadata": {
            "tags": []
          },
          "execution_count": 42
        },
        {
          "output_type": "display_data",
          "data": {
            "image/png": "[encoded data removed]",
            "text/plain": [
              "<Figure size 792x648 with 2 Axes>"
            ]
          },
          "metadata": {
            "tags": [],
            "needs_background": "light"
          }
        }
      ]
    },
    {
      "cell_type": "code",
      "metadata": {
        "colab": {
          "base_uri": "https://localhost:8080/"
        },
        "id": "ayikdIpKeB6L",
        "outputId": "146184e8-66e8-4913-c4d2-f3728faf4f43"
      },
      "source": [
        "from sklearn.metrics import classification_report\r\n",
        "\r\n",
        "print('*********************  Training Data Report  **********')\r\n",
        "print(classification_report(y_train, train_pred))\r\n",
        "\r\n",
        "print('***********************  Test Data Report  **********')\r\n",
        "print(classification_report(y_test, test_pred))"
      ],
      "execution_count": 43,
      "outputs": [
        {
          "output_type": "stream",
          "text": [
            "*********************  Training Data Report  **********\n",
            "              precision    recall  f1-score   support\n",
            "\n",
            "           0       1.00      1.00      1.00       266\n",
            "           1       1.00      1.00      1.00       277\n",
            "\n",
            "    accuracy                           1.00       543\n",
            "   macro avg       1.00      1.00      1.00       543\n",
            "weighted avg       1.00      1.00      1.00       543\n",
            "\n",
            "***********************  Test Data Report  **********\n",
            "              precision    recall  f1-score   support\n",
            "\n",
            "           0       0.63      0.58      0.60       122\n",
            "           1       0.57      0.62      0.60       111\n",
            "\n",
            "    accuracy                           0.60       233\n",
            "   macro avg       0.60      0.60      0.60       233\n",
            "weighted avg       0.60      0.60      0.60       233\n",
            "\n"
          ],
          "name": "stdout"
        }
      ]
    },
    {
      "cell_type": "code",
      "metadata": {
        "id": "bvY8Ck2UeHPZ"
      },
      "source": [
        "rf_scores = []\r\n",
        "estimators = [10, 100, 200, 500, 1000]\r\n",
        "for i in estimators:\r\n",
        "    rf_classifier = RandomForestClassifier(n_estimators = i, random_state = 0)\r\n",
        "    rf_classifier.fit(x_train, y_train)\r\n",
        "    rf_scores.append(rf_classifier.score(x_test, y_test))"
      ],
      "execution_count": 44,
      "outputs": []
    },
    {
      "cell_type": "code",
      "metadata": {
        "colab": {
          "base_uri": "https://localhost:8080/",
          "height": 856
        },
        "id": "OgdQ-1LKeNBy",
        "outputId": "075a24e0-5b4d-4173-ffc9-05cdab2ba2de"
      },
      "source": [
        "rcParams['figure.figsize'] = 20, 14\r\n",
        "colors = rainbow(np.linspace(0, 1, len(estimators)))\r\n",
        "plt.bar([i for i in range(len(estimators))], rf_scores, color = colors, width = 0.8)\r\n",
        "for i in range(len(estimators)):\r\n",
        "    plt.text(i, rf_scores[i], rf_scores[i])\r\n",
        "plt.xticks(ticks = [i for i in range(len(estimators))], labels = [str(estimator) for estimator in estimators])\r\n",
        "plt.xlabel('Number of estimators')\r\n",
        "plt.ylabel('Scores')\r\n",
        "plt.title('Random Forest Classifier scores for different number of estimators')"
      ],
      "execution_count": 45,
      "outputs": [
        {
          "output_type": "execute_result",
          "data": {
            "text/plain": [
              "Text(0.5, 1.0, 'Random Forest Classifier scores for different number of estimators')"
            ]
          },
          "metadata": {
            "tags": []
          },
          "execution_count": 45
        },
        {
          "output_type": "display_data",
          "data": {
            "image/png": "[encoded data removed]",
            "text/plain": [
              "<Figure size 1440x1008 with 1 Axes>"
            ]
          },
          "metadata": {
            "tags": [],
            "needs_background": "light"
          }
        }
      ]
    },
    {
      "cell_type": "code",
      "metadata": {
        "colab": {
          "base_uri": "https://localhost:8080/"
        },
        "id": "A65wPjJieRYE",
        "outputId": "07e7bfb7-91c3-46f6-ae43-bc6639056853"
      },
      "source": [
        "from sklearn.ensemble import RandomForestClassifier\r\n",
        "rfc = RandomForestClassifier(n_estimators=1000, bootstrap = True, max_features = 'sqrt')\r\n",
        "rfc.fit(x_train, y_train)\r\n",
        "y_pred = rfc.predict(x_test)\r\n",
        "print('Accuracy of Random Forest on test set: {:.2f}'.format(rfc.score(x_test, y_test)))"
      ],
      "execution_count": 46,
      "outputs": [
        {
          "output_type": "stream",
          "text": [
            "Accuracy of Random Forest on test set: 0.58\n"
          ],
          "name": "stdout"
        }
      ]
    },
    {
      "cell_type": "code",
      "metadata": {
        "colab": {
          "base_uri": "https://localhost:8080/"
        },
        "id": "eXYJdBpUeeod",
        "outputId": "f462047d-547b-42c3-c68d-299ae25e1b48"
      },
      "source": [
        "train_pred = rfc.predict(x_train)\r\n",
        "\r\n",
        "test_pred = rfc.predict(x_test)\r\n",
        "\r\n",
        "# Use score method to get accuracy of model\r\n",
        "score = rfc.score(x_train, y_train)\r\n",
        "print('Train F1 Score = {} %'.format(round(score,4)*100))\r\n",
        "\r\n",
        "# Use score method to get accuracy of model\r\n",
        "score = rfc.score(x_test, y_test)\r\n",
        "print('Test F1 Score = {} %'.format(round(score,4)*100))"
      ],
      "execution_count": 47,
      "outputs": [
        {
          "output_type": "stream",
          "text": [
            "Train F1 Score = 99.82 %\n",
            "Test F1 Score = 57.940000000000005 %\n"
          ],
          "name": "stdout"
        }
      ]
    },
    {
      "cell_type": "code",
      "metadata": {
        "colab": {
          "base_uri": "https://localhost:8080/",
          "height": 620
        },
        "id": "MiCrQNUmekHK",
        "outputId": "73e02d5a-2829-41d1-e510-30c2a37a93b7"
      },
      "source": [
        "from sklearn.metrics import confusion_matrix\r\n",
        "import seaborn as sns\r\n",
        "\r\n",
        "conf_matrix = confusion_matrix(y_test, test_pred)\r\n",
        "print(conf_matrix)\r\n",
        "\r\n",
        "plt.figure(figsize=(11,9))\r\n",
        "sns.heatmap(conf_matrix, annot=True, fmt=\".3f\", linewidths=.5)\r\n",
        "\r\n",
        "plt.ylabel('Actual label')\r\n",
        "plt.xlabel('Predicted label')\r\n",
        "all_sample_title = 'Test F1 Score:{}%'.format(round(score, 4)*100)\r\n",
        "plt.title(all_sample_title, size = 15)"
      ],
      "execution_count": 48,
      "outputs": [
        {
          "output_type": "stream",
          "text": [
            "[[66 56]\n",
            " [42 69]]\n"
          ],
          "name": "stdout"
        },
        {
          "output_type": "execute_result",
          "data": {
            "text/plain": [
              "Text(0.5, 1.0, 'Test F1 Score:57.940000000000005%')"
            ]
          },
          "metadata": {
            "tags": []
          },
          "execution_count": 48
        },
        {
          "output_type": "display_data",
          "data": {
            "image/png": "[encoded data removed]",
            "text/plain": [
              "<Figure size 792x648 with 2 Axes>"
            ]
          },
          "metadata": {
            "tags": [],
            "needs_background": "light"
          }
        }
      ]
    },
    {
      "cell_type": "code",
      "metadata": {
        "colab": {
          "base_uri": "https://localhost:8080/"
        },
        "id": "u_QIqh45eplo",
        "outputId": "b73f6ce0-2400-45ff-9cec-db130c07a019"
      },
      "source": [
        "from sklearn.metrics import classification_report\r\n",
        "\r\n",
        "print('*********************  Training Data Report  **********')\r\n",
        "print(classification_report(y_train, train_pred))\r\n",
        "\r\n",
        "print('***********************  Test Data Report  **********')\r\n",
        "print(classification_report(y_test, test_pred))"
      ],
      "execution_count": 49,
      "outputs": [
        {
          "output_type": "stream",
          "text": [
            "*********************  Training Data Report  **********\n",
            "              precision    recall  f1-score   support\n",
            "\n",
            "           0       1.00      1.00      1.00       266\n",
            "           1       1.00      1.00      1.00       277\n",
            "\n",
            "    accuracy                           1.00       543\n",
            "   macro avg       1.00      1.00      1.00       543\n",
            "weighted avg       1.00      1.00      1.00       543\n",
            "\n",
            "***********************  Test Data Report  **********\n",
            "              precision    recall  f1-score   support\n",
            "\n",
            "           0       0.61      0.54      0.57       122\n",
            "           1       0.55      0.62      0.58       111\n",
            "\n",
            "    accuracy                           0.58       233\n",
            "   macro avg       0.58      0.58      0.58       233\n",
            "weighted avg       0.58      0.58      0.58       233\n",
            "\n"
          ],
          "name": "stdout"
        }
      ]
    },
    {
      "cell_type": "markdown",
      "metadata": {
        "id": "pXWTuh9pe3rG"
      },
      "source": [
        "##decision tree"
      ]
    },
    {
      "cell_type": "code",
      "metadata": {
        "id": "eO7OK2pWevtt"
      },
      "source": [
        "from sklearn.tree import DecisionTreeClassifier\r\n",
        "\r\n",
        "max_accuracy = 0\r\n",
        "\r\n",
        "\r\n",
        "for x in range(200):\r\n",
        "    dt = DecisionTreeClassifier(random_state=x)\r\n",
        "    dt.fit(x_train,y_train)\r\n",
        "    y_pred_dt = dt.predict(x_test)\r\n",
        "    current_accuracy = round(accuracy_score(y_pred_dt,y_test)*100,2)\r\n",
        "    if(current_accuracy>max_accuracy):\r\n",
        "        max_accuracy = current_accuracy\r\n",
        "        best_x = x\r\n",
        "        \r\n",
        "#print(max_accuracy)\r\n",
        "#print(best_x)\r\n",
        "\r\n",
        "\r\n",
        "dt = DecisionTreeClassifier(random_state=best_x)\r\n",
        "dt.fit(x_train,y_train)\r\n",
        "y_pred_dt = dt.predict(x_test)"
      ],
      "execution_count": 50,
      "outputs": []
    },
    {
      "cell_type": "code",
      "metadata": {
        "colab": {
          "base_uri": "https://localhost:8080/"
        },
        "id": "jjCDTy8Oe_hs",
        "outputId": "e2b9fe25-6905-4125-ae70-7fe3c9533187"
      },
      "source": [
        "print(y_pred_dt.shape)"
      ],
      "execution_count": 51,
      "outputs": [
        {
          "output_type": "stream",
          "text": [
            "(233,)\n"
          ],
          "name": "stdout"
        }
      ]
    },
    {
      "cell_type": "code",
      "metadata": {
        "colab": {
          "base_uri": "https://localhost:8080/"
        },
        "id": "B__zgxeffEaT",
        "outputId": "3c062ad0-3da7-4d7d-ef3a-e7874cbc8a30"
      },
      "source": [
        "score_dt = round(accuracy_score(y_pred_dt,y_test)*100,2)\r\n",
        "\r\n",
        "print(\"The accuracy score achieved using Decision Tree is: \"+str(score_dt)+\" %\")"
      ],
      "execution_count": 52,
      "outputs": [
        {
          "output_type": "stream",
          "text": [
            "The accuracy score achieved using Decision Tree is: 60.94 %\n"
          ],
          "name": "stdout"
        }
      ]
    },
    {
      "cell_type": "code",
      "metadata": {
        "colab": {
          "base_uri": "https://localhost:8080/"
        },
        "id": "cEAJIq4vfH1D",
        "outputId": "fb08c5a2-bb71-41be-f0f9-59263e6cfe90"
      },
      "source": [
        "train_pred = dt.predict(x_train)\r\n",
        "\r\n",
        "test_pred = dt.predict(x_test)\r\n",
        "\r\n",
        "# Use score method to get accuracy of model\r\n",
        "score = dt.score(x_train, y_train)\r\n",
        "print('Train F1 Score = {} %'.format(round(score,4)*100))\r\n",
        "\r\n",
        "# Use score method to get accuracy of model\r\n",
        "score = dt.score(x_test, y_test)\r\n",
        "print('Test F1 Score = {} %'.format(round(score,4)*100))"
      ],
      "execution_count": 53,
      "outputs": [
        {
          "output_type": "stream",
          "text": [
            "Train F1 Score = 99.82 %\n",
            "Test F1 Score = 60.940000000000005 %\n"
          ],
          "name": "stdout"
        }
      ]
    },
    {
      "cell_type": "code",
      "metadata": {
        "colab": {
          "base_uri": "https://localhost:8080/",
          "height": 620
        },
        "id": "8dDSaRRvfQZb",
        "outputId": "8c27525e-e075-4da3-b012-759ba07acdc9"
      },
      "source": [
        "from sklearn.metrics import confusion_matrix\r\n",
        "import seaborn as sns\r\n",
        "\r\n",
        "conf_matrix = confusion_matrix(y_test, test_pred)\r\n",
        "print(conf_matrix)\r\n",
        "\r\n",
        "plt.figure(figsize=(11,9))\r\n",
        "sns.heatmap(conf_matrix, annot=True, fmt=\".3f\", linewidths=.5)\r\n",
        "\r\n",
        "plt.ylabel('Actual label')\r\n",
        "plt.xlabel('Predicted label')\r\n",
        "all_sample_title = 'Test F1 Score:{}%'.format(round(score, 4)*100)\r\n",
        "plt.title(all_sample_title, size = 15)"
      ],
      "execution_count": 54,
      "outputs": [
        {
          "output_type": "stream",
          "text": [
            "[[76 46]\n",
            " [45 66]]\n"
          ],
          "name": "stdout"
        },
        {
          "output_type": "execute_result",
          "data": {
            "text/plain": [
              "Text(0.5, 1.0, 'Test F1 Score:60.940000000000005%')"
            ]
          },
          "metadata": {
            "tags": []
          },
          "execution_count": 54
        },
        {
          "output_type": "display_data",
          "data": {
            "image/png": "[encoded data removed]",
            "text/plain": [
              "<Figure size 792x648 with 2 Axes>"
            ]
          },
          "metadata": {
            "tags": [],
            "needs_background": "light"
          }
        }
      ]
    },
    {
      "cell_type": "code",
      "metadata": {
        "colab": {
          "base_uri": "https://localhost:8080/"
        },
        "id": "QomE3aKEfVMy",
        "outputId": "e8a97ac0-7383-4fa3-bc55-a1556e2c51f5"
      },
      "source": [
        "from sklearn.metrics import classification_report\r\n",
        "\r\n",
        "print('*********************  Training Data Report  **********')\r\n",
        "print(classification_report(y_train, train_pred))\r\n",
        "\r\n",
        "print('***********************  Test Data Report  **********')\r\n",
        "print(classification_report(y_test, test_pred))"
      ],
      "execution_count": 55,
      "outputs": [
        {
          "output_type": "stream",
          "text": [
            "*********************  Training Data Report  **********\n",
            "              precision    recall  f1-score   support\n",
            "\n",
            "           0       1.00      1.00      1.00       266\n",
            "           1       1.00      1.00      1.00       277\n",
            "\n",
            "    accuracy                           1.00       543\n",
            "   macro avg       1.00      1.00      1.00       543\n",
            "weighted avg       1.00      1.00      1.00       543\n",
            "\n",
            "***********************  Test Data Report  **********\n",
            "              precision    recall  f1-score   support\n",
            "\n",
            "           0       0.63      0.62      0.63       122\n",
            "           1       0.59      0.59      0.59       111\n",
            "\n",
            "    accuracy                           0.61       233\n",
            "   macro avg       0.61      0.61      0.61       233\n",
            "weighted avg       0.61      0.61      0.61       233\n",
            "\n"
          ],
          "name": "stdout"
        }
      ]
    },
    {
      "cell_type": "code",
      "metadata": {
        "id": "6VopgMq-fZXS"
      },
      "source": [
        ""
      ],
      "execution_count": null,
      "outputs": []
    }
  ]
}