{
  "nbformat": 4,
  "nbformat_minor": 0,
  "metadata": {
    "colab": {
      "name": "xgboost_withoutsmote.ipynb",
      "provenance": [],
      "authorship_tag": "ABX9TyO1dpCPRJZ6idD78XM3yK2b",
      "include_colab_link": true
    },
    "kernelspec": {
      "name": "python3",
      "display_name": "Python 3"
    }
  },
  "cells": [
    {
      "cell_type": "markdown",
      "metadata": {
        "id": "view-in-github",
        "colab_type": "text"
      },
      "source": [
        "<a href=\"https://colab.research.google.com/github/aparnashenoy/ml/blob/master/xgboost_withoutsmote.ipynb\" target=\"_parent\"><img src=\"https://colab.research.google.com/assets/colab-badge.svg\" alt=\"Open In Colab\"/></a>"
      ]
    },
    {
      "cell_type": "code",
      "metadata": {
        "colab": {
          "base_uri": "https://localhost:8080/"
        },
        "id": "zoN91BzDmS0Z",
        "outputId": "37ebd12d-275b-491d-b6c8-fa28bb2c2279"
      },
      "source": [
        "from google.colab import drive\r\n",
        "drive.mount('/gdrive')"
      ],
      "execution_count": 1,
      "outputs": [
        {
          "output_type": "stream",
          "text": [
            "Mounted at /gdrive\n"
          ],
          "name": "stdout"
        }
      ]
    },
    {
      "cell_type": "code",
      "metadata": {
        "id": "2AMul3L1mbKG"
      },
      "source": [
        "path = '/gdrive/My Drive/'"
      ],
      "execution_count": 2,
      "outputs": []
    },
    {
      "cell_type": "code",
      "metadata": {
        "id": "er1zknSAmryU"
      },
      "source": [
        "import numpy as np\r\n",
        "import pandas as pd\r\n",
        "import matplotlib.pyplot as plt\r\n",
        "%matplotlib inline\r\n",
        "import seaborn as sns"
      ],
      "execution_count": 3,
      "outputs": []
    },
    {
      "cell_type": "code",
      "metadata": {
        "id": "gqVo9J3Wmu7E"
      },
      "source": [
        "from matplotlib import rcParams\r\n",
        "rcParams['figure.figsize'] = 20, 14"
      ],
      "execution_count": 4,
      "outputs": []
    },
    {
      "cell_type": "code",
      "metadata": {
        "id": "7dxmDImemx5c"
      },
      "source": [
        "df = pd.read_csv(path + 'data_cvs_resp.csv')"
      ],
      "execution_count": 5,
      "outputs": []
    },
    {
      "cell_type": "code",
      "metadata": {
        "id": "q9t8rZslm1xk"
      },
      "source": [
        "df.drop(['Unnamed: 0'], axis = 1, inplace= True)"
      ],
      "execution_count": 6,
      "outputs": []
    },
    {
      "cell_type": "code",
      "metadata": {
        "colab": {
          "base_uri": "https://localhost:8080/"
        },
        "id": "B0k4KXKQm5Ik",
        "outputId": "2933c3a6-d1e9-4890-e410-183d92c13951"
      },
      "source": [
        "df.columns = map(str.lower, df.columns)\r\n",
        "df.columns"
      ],
      "execution_count": 7,
      "outputs": [
        {
          "output_type": "execute_result",
          "data": {
            "text/plain": [
              "Index(['hr', 'o2sat', 'sbp', 'map', 'dbp', 'resp', 'age', 'gender',\n",
              "       'sepsislabel'],\n",
              "      dtype='object')"
            ]
          },
          "metadata": {
            "tags": []
          },
          "execution_count": 7
        }
      ]
    },
    {
      "cell_type": "code",
      "metadata": {
        "colab": {
          "base_uri": "https://localhost:8080/",
          "height": 204
        },
        "id": "UgR5b2xDm8ie",
        "outputId": "ec680b86-2732-4143-e004-5fcf1cdae57b"
      },
      "source": [
        "df.head()"
      ],
      "execution_count": 8,
      "outputs": [
        {
          "output_type": "execute_result",
          "data": {
            "text/html": [
              "<div>\n",
              "<style scoped>\n",
              "    .dataframe tbody tr th:only-of-type {\n",
              "        vertical-align: middle;\n",
              "    }\n",
              "\n",
              "    .dataframe tbody tr th {\n",
              "        vertical-align: top;\n",
              "    }\n",
              "\n",
              "    .dataframe thead th {\n",
              "        text-align: right;\n",
              "    }\n",
              "</style>\n",
              "<table border=\"1\" class=\"dataframe\">\n",
              "  <thead>\n",
              "    <tr style=\"text-align: right;\">\n",
              "      <th></th>\n",
              "      <th>hr</th>\n",
              "      <th>o2sat</th>\n",
              "      <th>sbp</th>\n",
              "      <th>map</th>\n",
              "      <th>dbp</th>\n",
              "      <th>resp</th>\n",
              "      <th>age</th>\n",
              "      <th>gender</th>\n",
              "      <th>sepsislabel</th>\n",
              "    </tr>\n",
              "  </thead>\n",
              "  <tbody>\n",
              "    <tr>\n",
              "      <th>0</th>\n",
              "      <td>99.0</td>\n",
              "      <td>100.0</td>\n",
              "      <td>120.0</td>\n",
              "      <td>71.0</td>\n",
              "      <td>61.0</td>\n",
              "      <td>13.5</td>\n",
              "      <td>69.66</td>\n",
              "      <td>0</td>\n",
              "      <td>0</td>\n",
              "    </tr>\n",
              "    <tr>\n",
              "      <th>1</th>\n",
              "      <td>97.5</td>\n",
              "      <td>100.0</td>\n",
              "      <td>120.0</td>\n",
              "      <td>79.0</td>\n",
              "      <td>61.0</td>\n",
              "      <td>15.0</td>\n",
              "      <td>69.66</td>\n",
              "      <td>0</td>\n",
              "      <td>0</td>\n",
              "    </tr>\n",
              "    <tr>\n",
              "      <th>2</th>\n",
              "      <td>96.0</td>\n",
              "      <td>100.0</td>\n",
              "      <td>120.0</td>\n",
              "      <td>70.0</td>\n",
              "      <td>61.0</td>\n",
              "      <td>13.0</td>\n",
              "      <td>69.66</td>\n",
              "      <td>0</td>\n",
              "      <td>0</td>\n",
              "    </tr>\n",
              "    <tr>\n",
              "      <th>3</th>\n",
              "      <td>100.0</td>\n",
              "      <td>99.0</td>\n",
              "      <td>120.0</td>\n",
              "      <td>75.0</td>\n",
              "      <td>61.0</td>\n",
              "      <td>14.0</td>\n",
              "      <td>69.66</td>\n",
              "      <td>0</td>\n",
              "      <td>0</td>\n",
              "    </tr>\n",
              "    <tr>\n",
              "      <th>4</th>\n",
              "      <td>102.0</td>\n",
              "      <td>100.0</td>\n",
              "      <td>120.0</td>\n",
              "      <td>74.0</td>\n",
              "      <td>61.0</td>\n",
              "      <td>17.0</td>\n",
              "      <td>69.66</td>\n",
              "      <td>0</td>\n",
              "      <td>0</td>\n",
              "    </tr>\n",
              "  </tbody>\n",
              "</table>\n",
              "</div>"
            ],
            "text/plain": [
              "      hr  o2sat    sbp   map   dbp  resp    age  gender  sepsislabel\n",
              "0   99.0  100.0  120.0  71.0  61.0  13.5  69.66       0            0\n",
              "1   97.5  100.0  120.0  79.0  61.0  15.0  69.66       0            0\n",
              "2   96.0  100.0  120.0  70.0  61.0  13.0  69.66       0            0\n",
              "3  100.0   99.0  120.0  75.0  61.0  14.0  69.66       0            0\n",
              "4  102.0  100.0  120.0  74.0  61.0  17.0  69.66       0            0"
            ]
          },
          "metadata": {
            "tags": []
          },
          "execution_count": 8
        }
      ]
    },
    {
      "cell_type": "code",
      "metadata": {
        "id": "S7DYofrim-Os"
      },
      "source": [
        "df=df.sample(n=20000, random_state=1234, axis=None, weights=None)"
      ],
      "execution_count": 9,
      "outputs": []
    },
    {
      "cell_type": "code",
      "metadata": {
        "id": "PimCee-hnEVs"
      },
      "source": [
        "from numpy import mean\r\n",
        "from sklearn.datasets import make_classification\r\n",
        "from sklearn.model_selection import GridSearchCV\r\n",
        "from sklearn.model_selection import RepeatedStratifiedKFold\r\n",
        "from xgboost import XGBClassifier"
      ],
      "execution_count": 10,
      "outputs": []
    },
    {
      "cell_type": "code",
      "metadata": {
        "id": "RPk0zPTanL9j"
      },
      "source": [
        "df['sepsislabel'] = df['sepsislabel'].astype('category')"
      ],
      "execution_count": 11,
      "outputs": []
    },
    {
      "cell_type": "code",
      "metadata": {
        "id": "DU0ZyK2EnfqH"
      },
      "source": [
        "df['gender']=df['gender'].astype('category')"
      ],
      "execution_count": 12,
      "outputs": []
    },
    {
      "cell_type": "code",
      "metadata": {
        "id": "_Fj521mGni4z"
      },
      "source": [
        "y = df.sepsislabel.values\r\n",
        "x = df.drop([\"sepsislabel\", 'gender'], axis = 1)"
      ],
      "execution_count": 13,
      "outputs": []
    },
    {
      "cell_type": "code",
      "metadata": {
        "id": "ESVfBqdMn7WT"
      },
      "source": [
        "x=(x-x.mean())/(x.max()-x.min())"
      ],
      "execution_count": 14,
      "outputs": []
    },
    {
      "cell_type": "code",
      "metadata": {
        "colab": {
          "base_uri": "https://localhost:8080/",
          "height": 204
        },
        "id": "Il5lhgXln_vT",
        "outputId": "39dd1e23-35a8-432f-b5f1-6fcbf6592d17"
      },
      "source": [
        "x.head()"
      ],
      "execution_count": 15,
      "outputs": [
        {
          "output_type": "execute_result",
          "data": {
            "text/html": [
              "<div>\n",
              "<style scoped>\n",
              "    .dataframe tbody tr th:only-of-type {\n",
              "        vertical-align: middle;\n",
              "    }\n",
              "\n",
              "    .dataframe tbody tr th {\n",
              "        vertical-align: top;\n",
              "    }\n",
              "\n",
              "    .dataframe thead th {\n",
              "        text-align: right;\n",
              "    }\n",
              "</style>\n",
              "<table border=\"1\" class=\"dataframe\">\n",
              "  <thead>\n",
              "    <tr style=\"text-align: right;\">\n",
              "      <th></th>\n",
              "      <th>hr</th>\n",
              "      <th>o2sat</th>\n",
              "      <th>sbp</th>\n",
              "      <th>map</th>\n",
              "      <th>dbp</th>\n",
              "      <th>resp</th>\n",
              "      <th>age</th>\n",
              "    </tr>\n",
              "  </thead>\n",
              "  <tbody>\n",
              "    <tr>\n",
              "      <th>350586</th>\n",
              "      <td>0.185139</td>\n",
              "      <td>0.079287</td>\n",
              "      <td>-0.258963</td>\n",
              "      <td>-0.061076</td>\n",
              "      <td>-0.021065</td>\n",
              "      <td>-0.040390</td>\n",
              "      <td>-0.324787</td>\n",
              "    </tr>\n",
              "    <tr>\n",
              "      <th>300080</th>\n",
              "      <td>-0.029147</td>\n",
              "      <td>-0.420713</td>\n",
              "      <td>0.544775</td>\n",
              "      <td>0.514681</td>\n",
              "      <td>0.520602</td>\n",
              "      <td>-0.123723</td>\n",
              "      <td>0.102475</td>\n",
              "    </tr>\n",
              "    <tr>\n",
              "      <th>1136672</th>\n",
              "      <td>0.518472</td>\n",
              "      <td>0.079287</td>\n",
              "      <td>0.096177</td>\n",
              "      <td>0.484378</td>\n",
              "      <td>0.520602</td>\n",
              "      <td>-0.040390</td>\n",
              "      <td>-0.159906</td>\n",
              "    </tr>\n",
              "    <tr>\n",
              "      <th>31178</th>\n",
              "      <td>-0.243433</td>\n",
              "      <td>0.412621</td>\n",
              "      <td>-0.455225</td>\n",
              "      <td>-0.313500</td>\n",
              "      <td>-0.021065</td>\n",
              "      <td>-0.332056</td>\n",
              "      <td>-0.062644</td>\n",
              "    </tr>\n",
              "    <tr>\n",
              "      <th>1135430</th>\n",
              "      <td>-0.052957</td>\n",
              "      <td>0.079287</td>\n",
              "      <td>0.395242</td>\n",
              "      <td>0.151045</td>\n",
              "      <td>-0.479398</td>\n",
              "      <td>-0.457056</td>\n",
              "      <td>-0.207525</td>\n",
              "    </tr>\n",
              "  </tbody>\n",
              "</table>\n",
              "</div>"
            ],
            "text/plain": [
              "               hr     o2sat       sbp       map       dbp      resp       age\n",
              "350586   0.185139  0.079287 -0.258963 -0.061076 -0.021065 -0.040390 -0.324787\n",
              "300080  -0.029147 -0.420713  0.544775  0.514681  0.520602 -0.123723  0.102475\n",
              "1136672  0.518472  0.079287  0.096177  0.484378  0.520602 -0.040390 -0.159906\n",
              "31178   -0.243433  0.412621 -0.455225 -0.313500 -0.021065 -0.332056 -0.062644\n",
              "1135430 -0.052957  0.079287  0.395242  0.151045 -0.479398 -0.457056 -0.207525"
            ]
          },
          "metadata": {
            "tags": []
          },
          "execution_count": 15
        }
      ]
    },
    {
      "cell_type": "code",
      "metadata": {
        "id": "2p6eflBeoCZD"
      },
      "source": [
        "from sklearn.model_selection import train_test_split\r\n",
        "x_train, x_test, y_train, y_test = train_test_split(x, y, test_size=0.30, random_state=42)"
      ],
      "execution_count": 16,
      "outputs": []
    },
    {
      "cell_type": "code",
      "metadata": {
        "colab": {
          "base_uri": "https://localhost:8080/"
        },
        "id": "OCtuosVToGVT",
        "outputId": "604991f9-f328-43ca-d569-1f71241384a8"
      },
      "source": [
        "x_train.shape, x_test.shape, y_train.shape, y_test.shape"
      ],
      "execution_count": 17,
      "outputs": [
        {
          "output_type": "execute_result",
          "data": {
            "text/plain": [
              "((14000, 7), (6000, 7), (14000,), (6000,))"
            ]
          },
          "metadata": {
            "tags": []
          },
          "execution_count": 17
        }
      ]
    },
    {
      "cell_type": "code",
      "metadata": {
        "colab": {
          "base_uri": "https://localhost:8080/"
        },
        "id": "aUyrfLgpoJVO",
        "outputId": "1ce2a2b8-50c7-453b-b68e-f4661f6bee0b"
      },
      "source": [
        "# define model\r\n",
        "model = XGBClassifier()\r\n",
        "# define grid\r\n",
        "weights = [1, 10, 25, 50, 75, 99, 100, 1000]\r\n",
        "param_grid = dict(scale_pos_weight=weights)\r\n",
        "# define evaluation procedure\r\n",
        "cv = RepeatedStratifiedKFold(n_splits=10, n_repeats=3, random_state=1)\r\n",
        "# define grid search\r\n",
        "grid = GridSearchCV(estimator=model, param_grid=param_grid, n_jobs=-1, cv=cv, scoring='roc_auc')\r\n",
        "# execute the grid search\r\n",
        "grid_result = grid.fit(x_train, y_train)\r\n",
        "# report the best configuration\r\n",
        "print(\"Best: %f using %s\" % (grid_result.best_score_, grid_result.best_params_))\r\n",
        "# report all configurations\r\n",
        "means = grid_result.cv_results_['mean_test_score']\r\n",
        "stds = grid_result.cv_results_['std_test_score']\r\n",
        "params = grid_result.cv_results_['params']\r\n",
        "for mean, stdev, param in zip(means, stds, params):\r\n",
        "    print(\"%f (%f) with: %r\" % (mean, stdev, param))"
      ],
      "execution_count": 18,
      "outputs": [
        {
          "output_type": "stream",
          "text": [
            "Best: 0.632636 using {'scale_pos_weight': 1}\n",
            "0.632636 (0.052355) with: {'scale_pos_weight': 1}\n",
            "0.630513 (0.055766) with: {'scale_pos_weight': 10}\n",
            "0.620876 (0.057108) with: {'scale_pos_weight': 25}\n",
            "0.614880 (0.056651) with: {'scale_pos_weight': 50}\n",
            "0.610868 (0.056893) with: {'scale_pos_weight': 75}\n",
            "0.610893 (0.055779) with: {'scale_pos_weight': 99}\n",
            "0.605345 (0.059229) with: {'scale_pos_weight': 100}\n",
            "0.588598 (0.053708) with: {'scale_pos_weight': 1000}\n"
          ],
          "name": "stdout"
        }
      ]
    }
  ]
}