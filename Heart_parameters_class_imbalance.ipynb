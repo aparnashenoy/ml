{
  "nbformat": 4,
  "nbformat_minor": 0,
  "metadata": {
    "colab": {
      "name": "Heart parameters_class imbalance.ipynb",
      "provenance": [],
      "authorship_tag": "ABX9TyNGDitBKzSdu75ocxmHFOH5",
      "include_colab_link": true
    },
    "kernelspec": {
      "name": "python3",
      "display_name": "Python 3"
    }
  },
  "cells": [
    {
      "cell_type": "markdown",
      "metadata": {
        "id": "view-in-github",
        "colab_type": "text"
      },
      "source": [
        "<a href=\"https://colab.research.google.com/github/aparnashenoy/ml/blob/master/Heart_parameters_class_imbalance.ipynb\" target=\"_parent\"><img src=\"https://colab.research.google.com/assets/colab-badge.svg\" alt=\"Open In Colab\"/></a>"
      ]
    },
    {
      "cell_type": "code",
      "metadata": {
        "id": "N3jMaXOgQPq8",
        "colab_type": "code",
        "colab": {
          "base_uri": "https://localhost:8080/",
          "height": 105
        },
        "outputId": "ce5e0b15-8223-43cf-959c-3dc8c3d5956a"
      },
      "source": [
        "import imblearn"
      ],
      "execution_count": 1,
      "outputs": [
        {
          "output_type": "stream",
          "text": [
            "/usr/local/lib/python3.6/dist-packages/sklearn/externals/six.py:31: FutureWarning: The module is deprecated in version 0.21 and will be removed in version 0.23 since we've dropped support for Python 2.7. Please rely on the official version of six (https://pypi.org/project/six/).\n",
            "  \"(https://pypi.org/project/six/).\", FutureWarning)\n",
            "/usr/local/lib/python3.6/dist-packages/sklearn/utils/deprecation.py:144: FutureWarning: The sklearn.neighbors.base module is  deprecated in version 0.22 and will be removed in version 0.24. The corresponding classes / functions should instead be imported from sklearn.neighbors. Anything that cannot be imported from sklearn.neighbors is now part of the private API.\n",
            "  warnings.warn(message, FutureWarning)\n"
          ],
          "name": "stderr"
        }
      ]
    },
    {
      "cell_type": "code",
      "metadata": {
        "id": "-E3E9CmwQaJ5",
        "colab_type": "code",
        "colab": {
          "base_uri": "https://localhost:8080/",
          "height": 71
        },
        "outputId": "f9738873-60c0-43eb-cc36-83f1f8a917fa"
      },
      "source": [
        "import pandas as pd\n",
        "import numpy as np\n",
        "import seaborn as sns"
      ],
      "execution_count": 2,
      "outputs": [
        {
          "output_type": "stream",
          "text": [
            "/usr/local/lib/python3.6/dist-packages/statsmodels/tools/_testing.py:19: FutureWarning: pandas.util.testing is deprecated. Use the functions in the public API at pandas.testing instead.\n",
            "  import pandas.util.testing as tm\n"
          ],
          "name": "stderr"
        }
      ]
    },
    {
      "cell_type": "code",
      "metadata": {
        "id": "D5vm_KSQQelT",
        "colab_type": "code",
        "colab": {
          "base_uri": "https://localhost:8080/",
          "height": 139
        },
        "outputId": "2ad6d40a-fc1c-46a1-a54a-8fa6be6a4ed8"
      },
      "source": [
        "from google.colab import drive\n",
        "drive.mount('/gdrive')\n",
        "%cd /gdrive"
      ],
      "execution_count": 3,
      "outputs": [
        {
          "output_type": "stream",
          "text": [
            "Go to this URL in a browser: https://accounts.google.com/o/oauth2/auth?client_id=947318989803-6bn6qk8qdgf4n4g3pfee6491hc0brc4i.apps.googleusercontent.com&redirect_uri=urn%3aietf%3awg%3aoauth%3a2.0%3aoob&scope=email%20https%3a%2f%2fwww.googleapis.com%2fauth%2fdocs.test%20https%3a%2f%2fwww.googleapis.com%2fauth%2fdrive%20https%3a%2f%2fwww.googleapis.com%2fauth%2fdrive.photos.readonly%20https%3a%2f%2fwww.googleapis.com%2fauth%2fpeopleapi.readonly&response_type=code\n",
            "\n",
            "Enter your authorization code:\n",
            "··········\n",
            "Mounted at /gdrive\n",
            "/gdrive\n"
          ],
          "name": "stdout"
        }
      ]
    },
    {
      "cell_type": "code",
      "metadata": {
        "id": "QGFtEZtJQkgL",
        "colab_type": "code",
        "colab": {}
      },
      "source": [
        "df= pd.read_csv(\"/gdrive/My Drive/df1_heart.csv\")"
      ],
      "execution_count": 4,
      "outputs": []
    },
    {
      "cell_type": "code",
      "metadata": {
        "id": "yk0egInbQwRT",
        "colab_type": "code",
        "colab": {
          "base_uri": "https://localhost:8080/",
          "height": 204
        },
        "outputId": "69dfcb80-4c71-4789-d6f3-9f50633ada26"
      },
      "source": [
        "df.head()"
      ],
      "execution_count": 5,
      "outputs": [
        {
          "output_type": "execute_result",
          "data": {
            "text/html": [
              "<div>\n",
              "<style scoped>\n",
              "    .dataframe tbody tr th:only-of-type {\n",
              "        vertical-align: middle;\n",
              "    }\n",
              "\n",
              "    .dataframe tbody tr th {\n",
              "        vertical-align: top;\n",
              "    }\n",
              "\n",
              "    .dataframe thead th {\n",
              "        text-align: right;\n",
              "    }\n",
              "</style>\n",
              "<table border=\"1\" class=\"dataframe\">\n",
              "  <thead>\n",
              "    <tr style=\"text-align: right;\">\n",
              "      <th></th>\n",
              "      <th>Unnamed: 0</th>\n",
              "      <th>HR</th>\n",
              "      <th>O2Sat</th>\n",
              "      <th>Temp</th>\n",
              "      <th>SBP</th>\n",
              "      <th>MAP</th>\n",
              "      <th>DBP</th>\n",
              "      <th>Age</th>\n",
              "      <th>SepsisLabel</th>\n",
              "    </tr>\n",
              "  </thead>\n",
              "  <tbody>\n",
              "    <tr>\n",
              "      <th>0</th>\n",
              "      <td>0</td>\n",
              "      <td>99.0</td>\n",
              "      <td>100.0</td>\n",
              "      <td>37.0</td>\n",
              "      <td>120.0</td>\n",
              "      <td>71.0</td>\n",
              "      <td>60.0</td>\n",
              "      <td>69.66</td>\n",
              "      <td>0</td>\n",
              "    </tr>\n",
              "    <tr>\n",
              "      <th>1</th>\n",
              "      <td>1</td>\n",
              "      <td>97.5</td>\n",
              "      <td>100.0</td>\n",
              "      <td>37.0</td>\n",
              "      <td>120.0</td>\n",
              "      <td>78.0</td>\n",
              "      <td>60.0</td>\n",
              "      <td>69.66</td>\n",
              "      <td>0</td>\n",
              "    </tr>\n",
              "    <tr>\n",
              "      <th>2</th>\n",
              "      <td>2</td>\n",
              "      <td>96.0</td>\n",
              "      <td>100.0</td>\n",
              "      <td>37.0</td>\n",
              "      <td>120.0</td>\n",
              "      <td>70.0</td>\n",
              "      <td>60.0</td>\n",
              "      <td>69.66</td>\n",
              "      <td>0</td>\n",
              "    </tr>\n",
              "    <tr>\n",
              "      <th>3</th>\n",
              "      <td>3</td>\n",
              "      <td>100.0</td>\n",
              "      <td>99.0</td>\n",
              "      <td>37.0</td>\n",
              "      <td>120.0</td>\n",
              "      <td>75.0</td>\n",
              "      <td>60.0</td>\n",
              "      <td>69.66</td>\n",
              "      <td>0</td>\n",
              "    </tr>\n",
              "    <tr>\n",
              "      <th>4</th>\n",
              "      <td>4</td>\n",
              "      <td>102.0</td>\n",
              "      <td>100.0</td>\n",
              "      <td>36.0</td>\n",
              "      <td>120.0</td>\n",
              "      <td>74.0</td>\n",
              "      <td>60.0</td>\n",
              "      <td>69.66</td>\n",
              "      <td>0</td>\n",
              "    </tr>\n",
              "  </tbody>\n",
              "</table>\n",
              "</div>"
            ],
            "text/plain": [
              "   Unnamed: 0     HR  O2Sat  Temp    SBP   MAP   DBP    Age  SepsisLabel\n",
              "0           0   99.0  100.0  37.0  120.0  71.0  60.0  69.66            0\n",
              "1           1   97.5  100.0  37.0  120.0  78.0  60.0  69.66            0\n",
              "2           2   96.0  100.0  37.0  120.0  70.0  60.0  69.66            0\n",
              "3           3  100.0   99.0  37.0  120.0  75.0  60.0  69.66            0\n",
              "4           4  102.0  100.0  36.0  120.0  74.0  60.0  69.66            0"
            ]
          },
          "metadata": {
            "tags": []
          },
          "execution_count": 5
        }
      ]
    },
    {
      "cell_type": "code",
      "metadata": {
        "id": "bWgit_ALQz5y",
        "colab_type": "code",
        "colab": {}
      },
      "source": [
        "df.drop(['Unnamed: 0'], axis=1, inplace=True)"
      ],
      "execution_count": 6,
      "outputs": []
    },
    {
      "cell_type": "code",
      "metadata": {
        "id": "L0PtT98VQ47D",
        "colab_type": "code",
        "colab": {
          "base_uri": "https://localhost:8080/",
          "height": 142
        },
        "outputId": "d4a0b170-b057-4d6a-f5d8-acdcb1c1dbd4"
      },
      "source": [
        "pd.crosstab(df.SepsisLabel, columns='count')"
      ],
      "execution_count": 7,
      "outputs": [
        {
          "output_type": "execute_result",
          "data": {
            "text/html": [
              "<div>\n",
              "<style scoped>\n",
              "    .dataframe tbody tr th:only-of-type {\n",
              "        vertical-align: middle;\n",
              "    }\n",
              "\n",
              "    .dataframe tbody tr th {\n",
              "        vertical-align: top;\n",
              "    }\n",
              "\n",
              "    .dataframe thead th {\n",
              "        text-align: right;\n",
              "    }\n",
              "</style>\n",
              "<table border=\"1\" class=\"dataframe\">\n",
              "  <thead>\n",
              "    <tr style=\"text-align: right;\">\n",
              "      <th>col_0</th>\n",
              "      <th>count</th>\n",
              "    </tr>\n",
              "    <tr>\n",
              "      <th>SepsisLabel</th>\n",
              "      <th></th>\n",
              "    </tr>\n",
              "  </thead>\n",
              "  <tbody>\n",
              "    <tr>\n",
              "      <th>0</th>\n",
              "      <td>973683</td>\n",
              "    </tr>\n",
              "    <tr>\n",
              "      <th>1</th>\n",
              "      <td>20124</td>\n",
              "    </tr>\n",
              "  </tbody>\n",
              "</table>\n",
              "</div>"
            ],
            "text/plain": [
              "col_0         count\n",
              "SepsisLabel        \n",
              "0            973683\n",
              "1             20124"
            ]
          },
          "metadata": {
            "tags": []
          },
          "execution_count": 7
        }
      ]
    },
    {
      "cell_type": "code",
      "metadata": {
        "id": "nT-RqX5oYIdP",
        "colab_type": "code",
        "colab": {
          "base_uri": "https://localhost:8080/",
          "height": 296
        },
        "outputId": "cbcea3d0-ccda-4d41-c597-3622338405e3"
      },
      "source": [
        "sns.boxplot(df['HR'])"
      ],
      "execution_count": 8,
      "outputs": [
        {
          "output_type": "execute_result",
          "data": {
            "text/plain": [
              "<matplotlib.axes._subplots.AxesSubplot at 0x7fa5bd2cfda0>"
            ]
          },
          "metadata": {
            "tags": []
          },
          "execution_count": 8
        },
        {
          "output_type": "display_data",
          "data": {
            "image/png": "[encoded data removed]",
            "text/plain": [
              "<Figure size 432x288 with 1 Axes>"
            ]
          },
          "metadata": {
            "tags": [],
            "needs_background": "light"
          }
        }
      ]
    },
    {
      "cell_type": "code",
      "metadata": {
        "id": "WJ5uUF1nYJIY",
        "colab_type": "code",
        "colab": {
          "base_uri": "https://localhost:8080/",
          "height": 51
        },
        "outputId": "518ac711-79b8-43c9-99ab-c60959175190"
      },
      "source": [
        "print(df['HR'].quantile(0.10))\n",
        "print(df['HR'].quantile(0.90))"
      ],
      "execution_count": 9,
      "outputs": [
        {
          "output_type": "stream",
          "text": [
            "64.0\n",
            "106.0\n"
          ],
          "name": "stdout"
        }
      ]
    },
    {
      "cell_type": "code",
      "metadata": {
        "id": "-VRXcYZdYI2i",
        "colab_type": "code",
        "colab": {
          "base_uri": "https://localhost:8080/",
          "height": 34
        },
        "outputId": "edad9c63-418a-4978-9617-c62dea6b0dd3"
      },
      "source": [
        "df[\"HR\"] = np.where(df[\"HR\"] <64.0, 64.0,df['HR'])\n",
        "df[\"HR\"] = np.where(df[\"HR\"] >106.0, 106.0,df['HR'])\n",
        "print(df['HR'].skew())"
      ],
      "execution_count": 10,
      "outputs": [
        {
          "output_type": "stream",
          "text": [
            "0.11335757383538864\n"
          ],
          "name": "stdout"
        }
      ]
    },
    {
      "cell_type": "code",
      "metadata": {
        "id": "-bQ2I0BaYIE1",
        "colab_type": "code",
        "colab": {
          "base_uri": "https://localhost:8080/",
          "height": 296
        },
        "outputId": "41c6289a-c584-4d7a-a097-b045e018bc5d"
      },
      "source": [
        "sns.boxplot(df['HR'])"
      ],
      "execution_count": 11,
      "outputs": [
        {
          "output_type": "execute_result",
          "data": {
            "text/plain": [
              "<matplotlib.axes._subplots.AxesSubplot at 0x7fa5bd1c6e80>"
            ]
          },
          "metadata": {
            "tags": []
          },
          "execution_count": 11
        },
        {
          "output_type": "display_data",
          "data": {
            "image/png": "[encoded data removed]",
            "text/plain": [
              "<Figure size 432x288 with 1 Axes>"
            ]
          },
          "metadata": {
            "tags": [],
            "needs_background": "light"
          }
        }
      ]
    },
    {
      "cell_type": "code",
      "metadata": {
        "id": "pzu3VuvHYa4j",
        "colab_type": "code",
        "colab": {
          "base_uri": "https://localhost:8080/",
          "height": 296
        },
        "outputId": "6c5c3ef7-0bba-4a71-9d1b-ca0980ca43aa"
      },
      "source": [
        "sns.boxplot(df['O2Sat'])"
      ],
      "execution_count": 12,
      "outputs": [
        {
          "output_type": "execute_result",
          "data": {
            "text/plain": [
              "<matplotlib.axes._subplots.AxesSubplot at 0x7fa5bcd66c50>"
            ]
          },
          "metadata": {
            "tags": []
          },
          "execution_count": 12
        },
        {
          "output_type": "display_data",
          "data": {
            "image/png": "[encoded data removed]",
            "text/plain": [
              "<Figure size 432x288 with 1 Axes>"
            ]
          },
          "metadata": {
            "tags": [],
            "needs_background": "light"
          }
        }
      ]
    },
    {
      "cell_type": "code",
      "metadata": {
        "id": "80NV4eKmYbSB",
        "colab_type": "code",
        "colab": {
          "base_uri": "https://localhost:8080/",
          "height": 51
        },
        "outputId": "6f3edd59-e37f-45a7-8a28-0a4f7373e138"
      },
      "source": [
        "print(df['O2Sat'].quantile(0.10))\n",
        "print(df['O2Sat'].quantile(0.90))"
      ],
      "execution_count": 13,
      "outputs": [
        {
          "output_type": "stream",
          "text": [
            "94.0\n",
            "100.0\n"
          ],
          "name": "stdout"
        }
      ]
    },
    {
      "cell_type": "code",
      "metadata": {
        "id": "UXeuPiDNYajh",
        "colab_type": "code",
        "colab": {
          "base_uri": "https://localhost:8080/",
          "height": 34
        },
        "outputId": "aa42afbb-3057-47f0-8622-e30637b55051"
      },
      "source": [
        "df[\"O2Sat\"] = np.where(df[\"O2Sat\"] <94.0, 94.0,df['O2Sat'])\n",
        "df[\"O2Sat\"] = np.where(df[\"O2Sat\"] >100.0, 100.0,df['O2Sat'])\n",
        "print(df['O2Sat'].skew())"
      ],
      "execution_count": 14,
      "outputs": [
        {
          "output_type": "stream",
          "text": [
            "-0.4277130710644394\n"
          ],
          "name": "stdout"
        }
      ]
    },
    {
      "cell_type": "code",
      "metadata": {
        "id": "BESboGFkbbFO",
        "colab_type": "code",
        "colab": {
          "base_uri": "https://localhost:8080/",
          "height": 296
        },
        "outputId": "acd4e6dc-a67f-4b96-f9be-3b306b487954"
      },
      "source": [
        "sns.boxplot(df['O2Sat'])"
      ],
      "execution_count": 15,
      "outputs": [
        {
          "output_type": "execute_result",
          "data": {
            "text/plain": [
              "<matplotlib.axes._subplots.AxesSubplot at 0x7fa5bccd3ef0>"
            ]
          },
          "metadata": {
            "tags": []
          },
          "execution_count": 15
        },
        {
          "output_type": "display_data",
          "data": {
            "image/png": "[encoded data removed]",
            "text/plain": [
              "<Figure size 432x288 with 1 Axes>"
            ]
          },
          "metadata": {
            "tags": [],
            "needs_background": "light"
          }
        }
      ]
    },
    {
      "cell_type": "code",
      "metadata": {
        "id": "lVZYcR6ybbbY",
        "colab_type": "code",
        "colab": {
          "base_uri": "https://localhost:8080/",
          "height": 51
        },
        "outputId": "a1a56faa-d126-4e41-fcd3-e0464145a6a7"
      },
      "source": [
        "print(df['SBP'].quantile(0.10))\n",
        "print(df['SBP'].quantile(0.90))"
      ],
      "execution_count": 16,
      "outputs": [
        {
          "output_type": "stream",
          "text": [
            "97.0\n",
            "150.0\n"
          ],
          "name": "stdout"
        }
      ]
    },
    {
      "cell_type": "code",
      "metadata": {
        "id": "JU1cgxBrbaZj",
        "colab_type": "code",
        "colab": {
          "base_uri": "https://localhost:8080/",
          "height": 34
        },
        "outputId": "129eaef5-f855-44ba-eb40-16930ea6ba56"
      },
      "source": [
        "df[\"SBP\"] = np.where(df[\"SBP\"] <97.0, 97.0,df['SBP'])\n",
        "df[\"SBP\"] = np.where(df[\"SBP\"] >150.0, 150.0,df['SBP'])\n",
        "print(df['SBP'].skew())"
      ],
      "execution_count": 17,
      "outputs": [
        {
          "output_type": "stream",
          "text": [
            "0.2804638587639356\n"
          ],
          "name": "stdout"
        }
      ]
    },
    {
      "cell_type": "code",
      "metadata": {
        "id": "C75jfRbJb2JQ",
        "colab_type": "code",
        "colab": {
          "base_uri": "https://localhost:8080/",
          "height": 296
        },
        "outputId": "e77e0641-756a-49d7-b8f3-56dc2647ba64"
      },
      "source": [
        "sns.boxplot(df['SBP'])"
      ],
      "execution_count": 18,
      "outputs": [
        {
          "output_type": "execute_result",
          "data": {
            "text/plain": [
              "<matplotlib.axes._subplots.AxesSubplot at 0x7fa5bcc31a58>"
            ]
          },
          "metadata": {
            "tags": []
          },
          "execution_count": 18
        },
        {
          "output_type": "display_data",
          "data": {
            "image/png": "[encoded data removed]",
            "text/plain": [
              "<Figure size 432x288 with 1 Axes>"
            ]
          },
          "metadata": {
            "tags": [],
            "needs_background": "light"
          }
        }
      ]
    },
    {
      "cell_type": "code",
      "metadata": {
        "id": "34T3pD_mb1vb",
        "colab_type": "code",
        "colab": {
          "base_uri": "https://localhost:8080/",
          "height": 296
        },
        "outputId": "6c6b3202-6798-4324-f5fa-ac43d4be89f4"
      },
      "source": [
        "sns.boxplot(df['MAP'])"
      ],
      "execution_count": 19,
      "outputs": [
        {
          "output_type": "execute_result",
          "data": {
            "text/plain": [
              "<matplotlib.axes._subplots.AxesSubplot at 0x7fa5bcd4fa58>"
            ]
          },
          "metadata": {
            "tags": []
          },
          "execution_count": 19
        },
        {
          "output_type": "display_data",
          "data": {
            "image/png": "[encoded data removed]",
            "text/plain": [
              "<Figure size 432x288 with 1 Axes>"
            ]
          },
          "metadata": {
            "tags": [],
            "needs_background": "light"
          }
        }
      ]
    },
    {
      "cell_type": "code",
      "metadata": {
        "id": "r0P_RfZ6cX5d",
        "colab_type": "code",
        "colab": {
          "base_uri": "https://localhost:8080/",
          "height": 51
        },
        "outputId": "f0607d30-8b82-4ec8-a2fe-15f2d5e6e40a"
      },
      "source": [
        "print(df['MAP'].quantile(0.10))\n",
        "print(df['MAP'].quantile(0.90))"
      ],
      "execution_count": 20,
      "outputs": [
        {
          "output_type": "stream",
          "text": [
            "63.0\n",
            "99.0\n"
          ],
          "name": "stdout"
        }
      ]
    },
    {
      "cell_type": "code",
      "metadata": {
        "id": "cwYPikhVcuN0",
        "colab_type": "code",
        "colab": {
          "base_uri": "https://localhost:8080/",
          "height": 34
        },
        "outputId": "a515c78a-f1fa-4631-e3b2-8b0bc8d5d114"
      },
      "source": [
        "df[\"MAP\"] = np.where(df[\"MAP\"] <63.0, 63.0,df['MAP'])\n",
        "df[\"MAP\"] = np.where(df[\"MAP\"] >99.0, 99.0,df['MAP'])\n",
        "print(df['MAP'].skew())"
      ],
      "execution_count": 21,
      "outputs": [
        {
          "output_type": "stream",
          "text": [
            "0.2901440610172552\n"
          ],
          "name": "stdout"
        }
      ]
    },
    {
      "cell_type": "code",
      "metadata": {
        "id": "l3c-e2fZc1_g",
        "colab_type": "code",
        "colab": {
          "base_uri": "https://localhost:8080/",
          "height": 296
        },
        "outputId": "984cb9bc-a229-43d8-e270-7042467b1c73"
      },
      "source": [
        "sns.boxplot(df['MAP'])"
      ],
      "execution_count": 22,
      "outputs": [
        {
          "output_type": "execute_result",
          "data": {
            "text/plain": [
              "<matplotlib.axes._subplots.AxesSubplot at 0x7fa5bcb79a58>"
            ]
          },
          "metadata": {
            "tags": []
          },
          "execution_count": 22
        },
        {
          "output_type": "display_data",
          "data": {
            "image/png": "[encoded data removed]",
            "text/plain": [
              "<Figure size 432x288 with 1 Axes>"
            ]
          },
          "metadata": {
            "tags": [],
            "needs_background": "light"
          }
        }
      ]
    },
    {
      "cell_type": "code",
      "metadata": {
        "id": "ox2h6Hyrc8Sz",
        "colab_type": "code",
        "colab": {
          "base_uri": "https://localhost:8080/",
          "height": 296
        },
        "outputId": "e3f80683-94d0-4c31-9a65-4112f347cda5"
      },
      "source": [
        "sns.boxplot(df['DBP'])"
      ],
      "execution_count": 23,
      "outputs": [
        {
          "output_type": "execute_result",
          "data": {
            "text/plain": [
              "<matplotlib.axes._subplots.AxesSubplot at 0x7fa5bcb5dc50>"
            ]
          },
          "metadata": {
            "tags": []
          },
          "execution_count": 23
        },
        {
          "output_type": "display_data",
          "data": {
            "image/png": "[encoded data removed]",
            "text/plain": [
              "<Figure size 432x288 with 1 Axes>"
            ]
          },
          "metadata": {
            "tags": [],
            "needs_background": "light"
          }
        }
      ]
    },
    {
      "cell_type": "code",
      "metadata": {
        "id": "ufgUjMDfc8lI",
        "colab_type": "code",
        "colab": {
          "base_uri": "https://localhost:8080/",
          "height": 51
        },
        "outputId": "e2e6458d-4374-4dfc-ca14-14a86f5370f9"
      },
      "source": [
        "print(df['DBP'].quantile(0.10))\n",
        "print(df['DBP'].quantile(0.90))"
      ],
      "execution_count": 24,
      "outputs": [
        {
          "output_type": "stream",
          "text": [
            "50.0\n",
            "74.0\n"
          ],
          "name": "stdout"
        }
      ]
    },
    {
      "cell_type": "code",
      "metadata": {
        "id": "VUJgx0E2c8Ey",
        "colab_type": "code",
        "colab": {
          "base_uri": "https://localhost:8080/",
          "height": 34
        },
        "outputId": "dcf659b2-aade-4431-ea2e-6f7c4cb0315f"
      },
      "source": [
        "df[\"DBP\"] = np.where(df[\"DBP\"] <50.0, 50.0,df['DBP'])\n",
        "df[\"DBP\"] = np.where(df[\"DBP\"] >74.0, 74.0,df['DBP'])\n",
        "print(df['DBP'].skew())"
      ],
      "execution_count": 25,
      "outputs": [
        {
          "output_type": "stream",
          "text": [
            "0.44949881448858164\n"
          ],
          "name": "stdout"
        }
      ]
    },
    {
      "cell_type": "code",
      "metadata": {
        "id": "Xit_beSEdQdR",
        "colab_type": "code",
        "colab": {
          "base_uri": "https://localhost:8080/",
          "height": 296
        },
        "outputId": "3303322c-1b0f-4edf-c197-77c5f1a49b72"
      },
      "source": [
        "sns.boxplot(df['DBP'])"
      ],
      "execution_count": 26,
      "outputs": [
        {
          "output_type": "execute_result",
          "data": {
            "text/plain": [
              "<matplotlib.axes._subplots.AxesSubplot at 0x7fa5bcac0eb8>"
            ]
          },
          "metadata": {
            "tags": []
          },
          "execution_count": 26
        },
        {
          "output_type": "display_data",
          "data": {
            "image/png": "[encoded data removed]",
            "text/plain": [
              "<Figure size 432x288 with 1 Axes>"
            ]
          },
          "metadata": {
            "tags": [],
            "needs_background": "light"
          }
        }
      ]
    },
    {
      "cell_type": "code",
      "metadata": {
        "id": "f58Y-cc2RpQ0",
        "colab_type": "code",
        "colab": {}
      },
      "source": [
        "from pandas import read_csv, DataFrame, crosstab, pivot_table, set_option"
      ],
      "execution_count": 27,
      "outputs": []
    },
    {
      "cell_type": "code",
      "metadata": {
        "id": "KO98_OzIREyq",
        "colab_type": "code",
        "colab": {
          "base_uri": "https://localhost:8080/",
          "height": 255
        },
        "outputId": "43045e24-f340-4609-ef45-5a00688eb984"
      },
      "source": [
        "# Descriptives\n",
        "df = df.sample(n=20000, replace=False,random_state=1)\n",
        "df = DataFrame(df)\n",
        "print(\"Descriptive distributions:\")\n",
        "print(\"\")\n",
        "print(df.describe())\n",
        "print(\"\")"
      ],
      "execution_count": 28,
      "outputs": [
        {
          "output_type": "stream",
          "text": [
            "Descriptive distributions:\n",
            "\n",
            "                 HR         O2Sat  ...           Age   SepsisLabel\n",
            "count  20000.000000  20000.000000  ...  20000.000000  20000.000000\n",
            "mean      84.308575     97.527575  ...     62.462932      0.021100\n",
            "std       13.193566      1.959284  ...     16.392707      0.143721\n",
            "min       64.000000     94.000000  ...     14.000000      0.000000\n",
            "25%       74.000000     96.000000  ...     52.000000      0.000000\n",
            "50%       84.000000     98.000000  ...     64.450000      0.000000\n",
            "75%       94.000000     99.000000  ...     75.250000      0.000000\n",
            "max      106.000000    100.000000  ...    100.000000      1.000000\n",
            "\n",
            "[8 rows x 8 columns]\n",
            "\n"
          ],
          "name": "stdout"
        }
      ]
    },
    {
      "cell_type": "code",
      "metadata": {
        "id": "C_Zjr6bARxrT",
        "colab_type": "code",
        "colab": {}
      },
      "source": [
        "X = df.drop('SepsisLabel', axis=1)\n",
        "y = df.SepsisLabel"
      ],
      "execution_count": 29,
      "outputs": []
    },
    {
      "cell_type": "code",
      "metadata": {
        "id": "LF1LSYmlSDLV",
        "colab_type": "code",
        "colab": {}
      },
      "source": [
        "#Train-Test split using stratified random sampling\n",
        "from sklearn.model_selection import train_test_split\n",
        "X_train, X_test, y_train, y_test = train_test_split(X, y, test_size=0.30, stratify=y, random_state=4)"
      ],
      "execution_count": 30,
      "outputs": []
    },
    {
      "cell_type": "code",
      "metadata": {
        "id": "3DN2Y4EpSHE2",
        "colab_type": "code",
        "colab": {
          "base_uri": "https://localhost:8080/",
          "height": 142
        },
        "outputId": "34a69dc0-e37e-4fa8-fc2c-6934c9554762"
      },
      "source": [
        "#Checking the class (percentage) distribution of the target in the training set\n",
        "pd.crosstab(y_train, columns='count')/len(y_train)*100"
      ],
      "execution_count": 31,
      "outputs": [
        {
          "output_type": "execute_result",
          "data": {
            "text/html": [
              "<div>\n",
              "<style scoped>\n",
              "    .dataframe tbody tr th:only-of-type {\n",
              "        vertical-align: middle;\n",
              "    }\n",
              "\n",
              "    .dataframe tbody tr th {\n",
              "        vertical-align: top;\n",
              "    }\n",
              "\n",
              "    .dataframe thead th {\n",
              "        text-align: right;\n",
              "    }\n",
              "</style>\n",
              "<table border=\"1\" class=\"dataframe\">\n",
              "  <thead>\n",
              "    <tr style=\"text-align: right;\">\n",
              "      <th>col_0</th>\n",
              "      <th>count</th>\n",
              "    </tr>\n",
              "    <tr>\n",
              "      <th>SepsisLabel</th>\n",
              "      <th></th>\n",
              "    </tr>\n",
              "  </thead>\n",
              "  <tbody>\n",
              "    <tr>\n",
              "      <th>0</th>\n",
              "      <td>97.892857</td>\n",
              "    </tr>\n",
              "    <tr>\n",
              "      <th>1</th>\n",
              "      <td>2.107143</td>\n",
              "    </tr>\n",
              "  </tbody>\n",
              "</table>\n",
              "</div>"
            ],
            "text/plain": [
              "col_0            count\n",
              "SepsisLabel           \n",
              "0            97.892857\n",
              "1             2.107143"
            ]
          },
          "metadata": {
            "tags": []
          },
          "execution_count": 31
        }
      ]
    },
    {
      "cell_type": "code",
      "metadata": {
        "id": "1md3u1r0SKb2",
        "colab_type": "code",
        "colab": {
          "base_uri": "https://localhost:8080/",
          "height": 142
        },
        "outputId": "94f03df2-e85e-493c-ad99-f7b9c46c7654"
      },
      "source": [
        "#Checking the class (percentage) distribution of the target in the training set\n",
        "pd.crosstab(y_test, columns='count')/len(y_test)*100"
      ],
      "execution_count": 32,
      "outputs": [
        {
          "output_type": "execute_result",
          "data": {
            "text/html": [
              "<div>\n",
              "<style scoped>\n",
              "    .dataframe tbody tr th:only-of-type {\n",
              "        vertical-align: middle;\n",
              "    }\n",
              "\n",
              "    .dataframe tbody tr th {\n",
              "        vertical-align: top;\n",
              "    }\n",
              "\n",
              "    .dataframe thead th {\n",
              "        text-align: right;\n",
              "    }\n",
              "</style>\n",
              "<table border=\"1\" class=\"dataframe\">\n",
              "  <thead>\n",
              "    <tr style=\"text-align: right;\">\n",
              "      <th>col_0</th>\n",
              "      <th>count</th>\n",
              "    </tr>\n",
              "    <tr>\n",
              "      <th>SepsisLabel</th>\n",
              "      <th></th>\n",
              "    </tr>\n",
              "  </thead>\n",
              "  <tbody>\n",
              "    <tr>\n",
              "      <th>0</th>\n",
              "      <td>97.883333</td>\n",
              "    </tr>\n",
              "    <tr>\n",
              "      <th>1</th>\n",
              "      <td>2.116667</td>\n",
              "    </tr>\n",
              "  </tbody>\n",
              "</table>\n",
              "</div>"
            ],
            "text/plain": [
              "col_0            count\n",
              "SepsisLabel           \n",
              "0            97.883333\n",
              "1             2.116667"
            ]
          },
          "metadata": {
            "tags": []
          },
          "execution_count": 32
        }
      ]
    },
    {
      "cell_type": "markdown",
      "metadata": {
        "id": "I43AKZ8RSZYt",
        "colab_type": "text"
      },
      "source": [
        "Random undersampling"
      ]
    },
    {
      "cell_type": "code",
      "metadata": {
        "id": "pWiF6b0gShVS",
        "colab_type": "code",
        "colab": {}
      },
      "source": [
        "from imblearn import under_sampling, over_sampling"
      ],
      "execution_count": 33,
      "outputs": []
    },
    {
      "cell_type": "code",
      "metadata": {
        "id": "G10MxZVUSUvF",
        "colab_type": "code",
        "colab": {
          "base_uri": "https://localhost:8080/",
          "height": 71
        },
        "outputId": "ba75b2ae-d97b-4bc4-f344-4da5744099ec"
      },
      "source": [
        "#Performing random undersampling on the training dataset\n",
        "rus = imblearn.under_sampling.RandomUnderSampler(sampling_strategy=1.0)\n",
        "X_rus, y_rus = rus.fit_resample(X_train, y_train)"
      ],
      "execution_count": 34,
      "outputs": [
        {
          "output_type": "stream",
          "text": [
            "/usr/local/lib/python3.6/dist-packages/sklearn/utils/deprecation.py:87: FutureWarning: Function safe_indexing is deprecated; safe_indexing is deprecated in version 0.22 and will be removed in version 0.24.\n",
            "  warnings.warn(msg, category=FutureWarning)\n"
          ],
          "name": "stderr"
        }
      ]
    },
    {
      "cell_type": "code",
      "metadata": {
        "id": "9teVNhV-THIC",
        "colab_type": "code",
        "colab": {
          "base_uri": "https://localhost:8080/",
          "height": 142
        },
        "outputId": "d510cf99-13e2-4f8e-8479-43bf133580ba"
      },
      "source": [
        "#Checking the class distribution of the target\n",
        "pd.crosstab(y_rus, columns='count')/len(y_rus)*100"
      ],
      "execution_count": 35,
      "outputs": [
        {
          "output_type": "execute_result",
          "data": {
            "text/html": [
              "<div>\n",
              "<style scoped>\n",
              "    .dataframe tbody tr th:only-of-type {\n",
              "        vertical-align: middle;\n",
              "    }\n",
              "\n",
              "    .dataframe tbody tr th {\n",
              "        vertical-align: top;\n",
              "    }\n",
              "\n",
              "    .dataframe thead th {\n",
              "        text-align: right;\n",
              "    }\n",
              "</style>\n",
              "<table border=\"1\" class=\"dataframe\">\n",
              "  <thead>\n",
              "    <tr style=\"text-align: right;\">\n",
              "      <th>col_0</th>\n",
              "      <th>count</th>\n",
              "    </tr>\n",
              "    <tr>\n",
              "      <th>row_0</th>\n",
              "      <th></th>\n",
              "    </tr>\n",
              "  </thead>\n",
              "  <tbody>\n",
              "    <tr>\n",
              "      <th>0</th>\n",
              "      <td>50.0</td>\n",
              "    </tr>\n",
              "    <tr>\n",
              "      <th>1</th>\n",
              "      <td>50.0</td>\n",
              "    </tr>\n",
              "  </tbody>\n",
              "</table>\n",
              "</div>"
            ],
            "text/plain": [
              "col_0  count\n",
              "row_0       \n",
              "0       50.0\n",
              "1       50.0"
            ]
          },
          "metadata": {
            "tags": []
          },
          "execution_count": 35
        }
      ]
    },
    {
      "cell_type": "code",
      "metadata": {
        "id": "jOusy9pBTMo6",
        "colab_type": "code",
        "colab": {
          "base_uri": "https://localhost:8080/",
          "height": 71
        },
        "outputId": "8e17c131-7a40-44c3-e433-ee68bbba63cd"
      },
      "source": [
        "#Performing random undersampling on the training dataset\n",
        "rus = imblearn.under_sampling.RandomUnderSampler(sampling_strategy=1.0)\n",
        "X_rus_test, y_rus_test = rus.fit_resample(X_test, y_test)"
      ],
      "execution_count": 36,
      "outputs": [
        {
          "output_type": "stream",
          "text": [
            "/usr/local/lib/python3.6/dist-packages/sklearn/utils/deprecation.py:87: FutureWarning: Function safe_indexing is deprecated; safe_indexing is deprecated in version 0.22 and will be removed in version 0.24.\n",
            "  warnings.warn(msg, category=FutureWarning)\n"
          ],
          "name": "stderr"
        }
      ]
    },
    {
      "cell_type": "code",
      "metadata": {
        "id": "DX9T2VoMTnd9",
        "colab_type": "code",
        "colab": {
          "base_uri": "https://localhost:8080/",
          "height": 142
        },
        "outputId": "747b11bd-05d5-4403-ca19-a9c9ffb7ceb4"
      },
      "source": [
        "#Checking the class distribution of the target\n",
        "pd.crosstab(y_rus_test, columns='count')/len(y_rus_test)*100"
      ],
      "execution_count": 37,
      "outputs": [
        {
          "output_type": "execute_result",
          "data": {
            "text/html": [
              "<div>\n",
              "<style scoped>\n",
              "    .dataframe tbody tr th:only-of-type {\n",
              "        vertical-align: middle;\n",
              "    }\n",
              "\n",
              "    .dataframe tbody tr th {\n",
              "        vertical-align: top;\n",
              "    }\n",
              "\n",
              "    .dataframe thead th {\n",
              "        text-align: right;\n",
              "    }\n",
              "</style>\n",
              "<table border=\"1\" class=\"dataframe\">\n",
              "  <thead>\n",
              "    <tr style=\"text-align: right;\">\n",
              "      <th>col_0</th>\n",
              "      <th>count</th>\n",
              "    </tr>\n",
              "    <tr>\n",
              "      <th>row_0</th>\n",
              "      <th></th>\n",
              "    </tr>\n",
              "  </thead>\n",
              "  <tbody>\n",
              "    <tr>\n",
              "      <th>0</th>\n",
              "      <td>50.0</td>\n",
              "    </tr>\n",
              "    <tr>\n",
              "      <th>1</th>\n",
              "      <td>50.0</td>\n",
              "    </tr>\n",
              "  </tbody>\n",
              "</table>\n",
              "</div>"
            ],
            "text/plain": [
              "col_0  count\n",
              "row_0       \n",
              "0       50.0\n",
              "1       50.0"
            ]
          },
          "metadata": {
            "tags": []
          },
          "execution_count": 37
        }
      ]
    },
    {
      "cell_type": "code",
      "metadata": {
        "id": "XMPLhCsqTx1l",
        "colab_type": "code",
        "colab": {
          "base_uri": "https://localhost:8080/",
          "height": 34
        },
        "outputId": "14d4912d-6cee-428c-a189-c86fb857ddb3"
      },
      "source": [
        "from sklearn.naive_bayes import GaussianNB # I am using Gaussian algorithm from Naive Bayes\n",
        "\n",
        "# Lets creat the model\n",
        "sepsis_model = GaussianNB()\n",
        "\n",
        "sepsis_model.fit(X_rus, y_rus.ravel())"
      ],
      "execution_count": 38,
      "outputs": [
        {
          "output_type": "execute_result",
          "data": {
            "text/plain": [
              "GaussianNB(priors=None, var_smoothing=1e-09)"
            ]
          },
          "metadata": {
            "tags": []
          },
          "execution_count": 38
        }
      ]
    },
    {
      "cell_type": "code",
      "metadata": {
        "id": "N0uirXMcUT-x",
        "colab_type": "code",
        "colab": {
          "base_uri": "https://localhost:8080/",
          "height": 51
        },
        "outputId": "d4eef421-9539-4e86-e30a-fffa9012c643"
      },
      "source": [
        "sepsis_train_predict = sepsis_model.predict(X_rus)\n",
        "\n",
        "from sklearn import metrics\n",
        "\n",
        "print(\"Model Accuracy: {0:.4f}\".format(metrics.accuracy_score(y_rus, sepsis_train_predict)))\n",
        "print()"
      ],
      "execution_count": 39,
      "outputs": [
        {
          "output_type": "stream",
          "text": [
            "Model Accuracy: 0.6237\n",
            "\n"
          ],
          "name": "stdout"
        }
      ]
    },
    {
      "cell_type": "code",
      "metadata": {
        "id": "0CoB4W9mUdm5",
        "colab_type": "code",
        "colab": {
          "base_uri": "https://localhost:8080/",
          "height": 51
        },
        "outputId": "f8330aa4-f738-4a61-a354-ec930b1308ac"
      },
      "source": [
        "sepsis_test_predict = sepsis_model.predict(X_rus_test)\n",
        "\n",
        "from sklearn import metrics\n",
        "\n",
        "print(\"Model Accuracy: {0:.4f}\".format(metrics.accuracy_score(y_rus_test, sepsis_test_predict)))\n",
        "print()"
      ],
      "execution_count": 40,
      "outputs": [
        {
          "output_type": "stream",
          "text": [
            "Model Accuracy: 0.5709\n",
            "\n"
          ],
          "name": "stdout"
        }
      ]
    },
    {
      "cell_type": "code",
      "metadata": {
        "id": "eN8RcH2HVEBp",
        "colab_type": "code",
        "colab": {
          "base_uri": "https://localhost:8080/",
          "height": 255
        },
        "outputId": "edd2bf4c-1d3e-4f82-a998-4a90df631491"
      },
      "source": [
        "print(\"Confusion Matrix\")\n",
        "\n",
        "print(\"{0}\".format(metrics.confusion_matrix(y_rus_test, sepsis_test_predict, labels=[1, 0])))\n",
        "print(\"\")\n",
        "\n",
        "print(\"Classification Report\")\n",
        "print(metrics.classification_report(y_rus_test, sepsis_test_predict, labels=[1, 0]))"
      ],
      "execution_count": 41,
      "outputs": [
        {
          "output_type": "stream",
          "text": [
            "Confusion Matrix\n",
            "[[ 41  86]\n",
            " [ 23 104]]\n",
            "\n",
            "Classification Report\n",
            "              precision    recall  f1-score   support\n",
            "\n",
            "           1       0.64      0.32      0.43       127\n",
            "           0       0.55      0.82      0.66       127\n",
            "\n",
            "    accuracy                           0.57       254\n",
            "   macro avg       0.59      0.57      0.54       254\n",
            "weighted avg       0.59      0.57      0.54       254\n",
            "\n"
          ],
          "name": "stdout"
        }
      ]
    },
    {
      "cell_type": "code",
      "metadata": {
        "id": "_IKZZvx_VPo2",
        "colab_type": "code",
        "colab": {
          "base_uri": "https://localhost:8080/",
          "height": 153
        },
        "outputId": "0c3c6c31-5979-4a06-dcf9-54930a1200d8"
      },
      "source": [
        "from sklearn.ensemble import RandomForestClassifier\n",
        "sepsis_rf_model = RandomForestClassifier(random_state=52)\n",
        "sepsis_rf_model.fit(X_rus, y_rus.ravel())"
      ],
      "execution_count": 42,
      "outputs": [
        {
          "output_type": "execute_result",
          "data": {
            "text/plain": [
              "RandomForestClassifier(bootstrap=True, ccp_alpha=0.0, class_weight=None,\n",
              "                       criterion='gini', max_depth=None, max_features='auto',\n",
              "                       max_leaf_nodes=None, max_samples=None,\n",
              "                       min_impurity_decrease=0.0, min_impurity_split=None,\n",
              "                       min_samples_leaf=1, min_samples_split=2,\n",
              "                       min_weight_fraction_leaf=0.0, n_estimators=100,\n",
              "                       n_jobs=None, oob_score=False, random_state=52, verbose=0,\n",
              "                       warm_start=False)"
            ]
          },
          "metadata": {
            "tags": []
          },
          "execution_count": 42
        }
      ]
    },
    {
      "cell_type": "code",
      "metadata": {
        "id": "IHcF-6nSVhxM",
        "colab_type": "code",
        "colab": {
          "base_uri": "https://localhost:8080/",
          "height": 34
        },
        "outputId": "a6d09dad-bb46-4228-ebb1-413b4469e90a"
      },
      "source": [
        "rf_train_predict = sepsis_rf_model.predict(X_rus)\n",
        "print(\"Model Accuracy: {0:.2f}\".format(metrics.accuracy_score(y_rus, rf_train_predict)))"
      ],
      "execution_count": 43,
      "outputs": [
        {
          "output_type": "stream",
          "text": [
            "Model Accuracy: 1.00\n"
          ],
          "name": "stdout"
        }
      ]
    },
    {
      "cell_type": "code",
      "metadata": {
        "id": "z07iwocKVs7j",
        "colab_type": "code",
        "colab": {
          "base_uri": "https://localhost:8080/",
          "height": 34
        },
        "outputId": "1fc059f2-efe2-434a-9f4f-3bb9e6737147"
      },
      "source": [
        "rf_test_predict = sepsis_rf_model.predict(X_rus_test)\n",
        "print(\"Model Accuracy: {0:.2f}\".format(metrics.accuracy_score(y_rus_test, rf_test_predict)))"
      ],
      "execution_count": 44,
      "outputs": [
        {
          "output_type": "stream",
          "text": [
            "Model Accuracy: 0.89\n"
          ],
          "name": "stdout"
        }
      ]
    },
    {
      "cell_type": "code",
      "metadata": {
        "id": "yo97L732WLQM",
        "colab_type": "code",
        "colab": {
          "base_uri": "https://localhost:8080/",
          "height": 255
        },
        "outputId": "ffd2201d-641e-48f6-cd33-4bc1760b4919"
      },
      "source": [
        "print(\"Confusion Matrix\")\n",
        "print(metrics.confusion_matrix(y_rus_test, rf_test_predict, labels=[1, 0]))\n",
        "print(\"\")\n",
        "print(\"Classification Report\")\n",
        "print(metrics.classification_report(y_rus_test, rf_test_predict, labels=[1, 0]))"
      ],
      "execution_count": 45,
      "outputs": [
        {
          "output_type": "stream",
          "text": [
            "Confusion Matrix\n",
            "[[110  17]\n",
            " [ 10 117]]\n",
            "\n",
            "Classification Report\n",
            "              precision    recall  f1-score   support\n",
            "\n",
            "           1       0.92      0.87      0.89       127\n",
            "           0       0.87      0.92      0.90       127\n",
            "\n",
            "    accuracy                           0.89       254\n",
            "   macro avg       0.89      0.89      0.89       254\n",
            "weighted avg       0.89      0.89      0.89       254\n",
            "\n"
          ],
          "name": "stdout"
        }
      ]
    },
    {
      "cell_type": "code",
      "metadata": {
        "id": "kqSHZf5XWnPU",
        "colab_type": "code",
        "colab": {
          "base_uri": "https://localhost:8080/",
          "height": 289
        },
        "outputId": "45f577f8-ecc1-49b8-fafc-7c3c59d53a82"
      },
      "source": [
        "from sklearn.linear_model import LogisticRegression\n",
        "\n",
        "sepsis_lr_model = LogisticRegression(C=0.7, random_state=52)\n",
        "sepsis_lr_model.fit(X_rus, y_rus.ravel())\n",
        "lr_test_predict = sepsis_lr_model.predict(X_rus_test)\n",
        "\n",
        "print(\"Model Accuracy: {0:.2f}\".format(metrics.accuracy_score(y_rus_test, lr_test_predict)))\n",
        "print(\"\")\n",
        "print(\"Confusion Matrix\")\n",
        "print(metrics.confusion_matrix(y_rus_test, lr_test_predict, labels=[1, 0]))\n",
        "print(\"\")\n",
        "print(\"Classification Report\")\n",
        "print(metrics.classification_report(y_rus_test, lr_test_predict, labels=[1, 0]))"
      ],
      "execution_count": 46,
      "outputs": [
        {
          "output_type": "stream",
          "text": [
            "Model Accuracy: 0.70\n",
            "\n",
            "Confusion Matrix\n",
            "[[84 43]\n",
            " [32 95]]\n",
            "\n",
            "Classification Report\n",
            "              precision    recall  f1-score   support\n",
            "\n",
            "           1       0.72      0.66      0.69       127\n",
            "           0       0.69      0.75      0.72       127\n",
            "\n",
            "    accuracy                           0.70       254\n",
            "   macro avg       0.71      0.70      0.70       254\n",
            "weighted avg       0.71      0.70      0.70       254\n",
            "\n"
          ],
          "name": "stdout"
        }
      ]
    },
    {
      "cell_type": "code",
      "metadata": {
        "id": "aqKr9_ATXFK5",
        "colab_type": "code",
        "colab": {
          "base_uri": "https://localhost:8080/",
          "height": 102
        },
        "outputId": "b8b757a5-75b4-4043-ddc8-4770a681dc8e"
      },
      "source": [
        "from sklearn.linear_model import LogisticRegressionCV\n",
        "sepsis_lr_cv_model = LogisticRegressionCV(n_jobs=-1, random_state=52, Cs=3, cv=10, refit=True, class_weight=\"balanced\")\n",
        "# As this algorithm uses k-fold cross validation so I am using 10 folds. Also I am using class_weight as balanced so it will use balanced data for Outcome\n",
        "sepsis_lr_cv_model.fit(X_rus, y_rus.ravel())"
      ],
      "execution_count": 47,
      "outputs": [
        {
          "output_type": "execute_result",
          "data": {
            "text/plain": [
              "LogisticRegressionCV(Cs=3, class_weight='balanced', cv=10, dual=False,\n",
              "                     fit_intercept=True, intercept_scaling=1.0, l1_ratios=None,\n",
              "                     max_iter=100, multi_class='auto', n_jobs=-1, penalty='l2',\n",
              "                     random_state=52, refit=True, scoring=None, solver='lbfgs',\n",
              "                     tol=0.0001, verbose=0)"
            ]
          },
          "metadata": {
            "tags": []
          },
          "execution_count": 47
        }
      ]
    },
    {
      "cell_type": "code",
      "metadata": {
        "id": "Ciu72cW7Xhj7",
        "colab_type": "code",
        "colab": {
          "base_uri": "https://localhost:8080/",
          "height": 289
        },
        "outputId": "bcddfaf4-28a5-4058-cf11-59c6293916fb"
      },
      "source": [
        "lr_cv_test_predict = sepsis_lr_cv_model.predict(X_rus_test)\n",
        "\n",
        "print(\"Model Accuracy: {0:.2f}\".format(metrics.accuracy_score(y_rus_test, lr_cv_test_predict)))\n",
        "print(\"\")\n",
        "print(\"Confusion Matrix\")\n",
        "print(metrics.confusion_matrix(y_rus_test, lr_cv_test_predict, labels=[1, 0]))\n",
        "print(\"\")\n",
        "print(\"Classification Report\")\n",
        "print(metrics.classification_report(y_rus_test, lr_cv_test_predict, labels=[1, 0]))"
      ],
      "execution_count": 48,
      "outputs": [
        {
          "output_type": "stream",
          "text": [
            "Model Accuracy: 0.71\n",
            "\n",
            "Confusion Matrix\n",
            "[[85 42]\n",
            " [32 95]]\n",
            "\n",
            "Classification Report\n",
            "              precision    recall  f1-score   support\n",
            "\n",
            "           1       0.73      0.67      0.70       127\n",
            "           0       0.69      0.75      0.72       127\n",
            "\n",
            "    accuracy                           0.71       254\n",
            "   macro avg       0.71      0.71      0.71       254\n",
            "weighted avg       0.71      0.71      0.71       254\n",
            "\n"
          ],
          "name": "stdout"
        }
      ]
    },
    {
      "cell_type": "code",
      "metadata": {
        "id": "0aziapeG3pt3",
        "colab_type": "code",
        "colab": {}
      },
      "source": [
        "np.set_printoptions(precision=3)\n",
        "array = np.array(df.values)"
      ],
      "execution_count": 49,
      "outputs": []
    },
    {
      "cell_type": "code",
      "metadata": {
        "id": "J3k5XQwzQG5S",
        "colab_type": "code",
        "colab": {
          "base_uri": "https://localhost:8080/",
          "height": 419
        },
        "outputId": "0579d8c1-28e7-4d99-d9b0-5f6d3987b494"
      },
      "source": [
        "df"
      ],
      "execution_count": 50,
      "outputs": [
        {
          "output_type": "execute_result",
          "data": {
            "text/html": [
              "<div>\n",
              "<style scoped>\n",
              "    .dataframe tbody tr th:only-of-type {\n",
              "        vertical-align: middle;\n",
              "    }\n",
              "\n",
              "    .dataframe tbody tr th {\n",
              "        vertical-align: top;\n",
              "    }\n",
              "\n",
              "    .dataframe thead th {\n",
              "        text-align: right;\n",
              "    }\n",
              "</style>\n",
              "<table border=\"1\" class=\"dataframe\">\n",
              "  <thead>\n",
              "    <tr style=\"text-align: right;\">\n",
              "      <th></th>\n",
              "      <th>HR</th>\n",
              "      <th>O2Sat</th>\n",
              "      <th>Temp</th>\n",
              "      <th>SBP</th>\n",
              "      <th>MAP</th>\n",
              "      <th>DBP</th>\n",
              "      <th>Age</th>\n",
              "      <th>SepsisLabel</th>\n",
              "    </tr>\n",
              "  </thead>\n",
              "  <tbody>\n",
              "    <tr>\n",
              "      <th>627565</th>\n",
              "      <td>74.0</td>\n",
              "      <td>98.0</td>\n",
              "      <td>37.00</td>\n",
              "      <td>101.0</td>\n",
              "      <td>63.00</td>\n",
              "      <td>60.0</td>\n",
              "      <td>71.51</td>\n",
              "      <td>0</td>\n",
              "    </tr>\n",
              "    <tr>\n",
              "      <th>596596</th>\n",
              "      <td>69.0</td>\n",
              "      <td>99.0</td>\n",
              "      <td>37.00</td>\n",
              "      <td>127.0</td>\n",
              "      <td>89.00</td>\n",
              "      <td>72.0</td>\n",
              "      <td>48.61</td>\n",
              "      <td>0</td>\n",
              "    </tr>\n",
              "    <tr>\n",
              "      <th>397609</th>\n",
              "      <td>105.0</td>\n",
              "      <td>95.0</td>\n",
              "      <td>37.00</td>\n",
              "      <td>150.0</td>\n",
              "      <td>99.00</td>\n",
              "      <td>74.0</td>\n",
              "      <td>59.67</td>\n",
              "      <td>0</td>\n",
              "    </tr>\n",
              "    <tr>\n",
              "      <th>904755</th>\n",
              "      <td>91.0</td>\n",
              "      <td>99.0</td>\n",
              "      <td>37.40</td>\n",
              "      <td>128.0</td>\n",
              "      <td>94.00</td>\n",
              "      <td>74.0</td>\n",
              "      <td>50.00</td>\n",
              "      <td>0</td>\n",
              "    </tr>\n",
              "    <tr>\n",
              "      <th>462935</th>\n",
              "      <td>94.0</td>\n",
              "      <td>98.0</td>\n",
              "      <td>37.00</td>\n",
              "      <td>138.0</td>\n",
              "      <td>95.33</td>\n",
              "      <td>60.0</td>\n",
              "      <td>70.00</td>\n",
              "      <td>0</td>\n",
              "    </tr>\n",
              "    <tr>\n",
              "      <th>...</th>\n",
              "      <td>...</td>\n",
              "      <td>...</td>\n",
              "      <td>...</td>\n",
              "      <td>...</td>\n",
              "      <td>...</td>\n",
              "      <td>...</td>\n",
              "      <td>...</td>\n",
              "      <td>...</td>\n",
              "    </tr>\n",
              "    <tr>\n",
              "      <th>543494</th>\n",
              "      <td>106.0</td>\n",
              "      <td>94.0</td>\n",
              "      <td>37.00</td>\n",
              "      <td>114.0</td>\n",
              "      <td>78.00</td>\n",
              "      <td>60.0</td>\n",
              "      <td>22.06</td>\n",
              "      <td>0</td>\n",
              "    </tr>\n",
              "    <tr>\n",
              "      <th>478003</th>\n",
              "      <td>85.0</td>\n",
              "      <td>98.0</td>\n",
              "      <td>37.28</td>\n",
              "      <td>97.0</td>\n",
              "      <td>63.00</td>\n",
              "      <td>60.0</td>\n",
              "      <td>88.00</td>\n",
              "      <td>0</td>\n",
              "    </tr>\n",
              "    <tr>\n",
              "      <th>264450</th>\n",
              "      <td>84.0</td>\n",
              "      <td>99.0</td>\n",
              "      <td>37.00</td>\n",
              "      <td>133.0</td>\n",
              "      <td>80.00</td>\n",
              "      <td>60.0</td>\n",
              "      <td>73.50</td>\n",
              "      <td>0</td>\n",
              "    </tr>\n",
              "    <tr>\n",
              "      <th>893554</th>\n",
              "      <td>84.0</td>\n",
              "      <td>98.0</td>\n",
              "      <td>37.00</td>\n",
              "      <td>120.0</td>\n",
              "      <td>78.00</td>\n",
              "      <td>60.0</td>\n",
              "      <td>57.00</td>\n",
              "      <td>0</td>\n",
              "    </tr>\n",
              "    <tr>\n",
              "      <th>815368</th>\n",
              "      <td>87.0</td>\n",
              "      <td>96.0</td>\n",
              "      <td>37.00</td>\n",
              "      <td>138.0</td>\n",
              "      <td>99.00</td>\n",
              "      <td>74.0</td>\n",
              "      <td>43.00</td>\n",
              "      <td>0</td>\n",
              "    </tr>\n",
              "  </tbody>\n",
              "</table>\n",
              "<p>20000 rows × 8 columns</p>\n",
              "</div>"
            ],
            "text/plain": [
              "           HR  O2Sat   Temp    SBP    MAP   DBP    Age  SepsisLabel\n",
              "627565   74.0   98.0  37.00  101.0  63.00  60.0  71.51            0\n",
              "596596   69.0   99.0  37.00  127.0  89.00  72.0  48.61            0\n",
              "397609  105.0   95.0  37.00  150.0  99.00  74.0  59.67            0\n",
              "904755   91.0   99.0  37.40  128.0  94.00  74.0  50.00            0\n",
              "462935   94.0   98.0  37.00  138.0  95.33  60.0  70.00            0\n",
              "...       ...    ...    ...    ...    ...   ...    ...          ...\n",
              "543494  106.0   94.0  37.00  114.0  78.00  60.0  22.06            0\n",
              "478003   85.0   98.0  37.28   97.0  63.00  60.0  88.00            0\n",
              "264450   84.0   99.0  37.00  133.0  80.00  60.0  73.50            0\n",
              "893554   84.0   98.0  37.00  120.0  78.00  60.0  57.00            0\n",
              "815368   87.0   96.0  37.00  138.0  99.00  74.0  43.00            0\n",
              "\n",
              "[20000 rows x 8 columns]"
            ]
          },
          "metadata": {
            "tags": []
          },
          "execution_count": 50
        }
      ]
    },
    {
      "cell_type": "code",
      "metadata": {
        "id": "0D17Wv86QSzw",
        "colab_type": "code",
        "colab": {
          "base_uri": "https://localhost:8080/",
          "height": 51
        },
        "outputId": "47e5a7ac-dfeb-48de-928f-350e0cced67d"
      },
      "source": [
        "print(\"== 4.a Generating data sets ==\")\n",
        "\n",
        "print(\"sepsis_attr: unchanged, original attributes\")\n",
        "sepsis_attr = array[:,0:7]\n",
        "label = array[:,7] #unchanged across preprocessing?\n",
        "sepsis_df = pd.DataFrame(sepsis_attr)"
      ],
      "execution_count": 51,
      "outputs": [
        {
          "output_type": "stream",
          "text": [
            "== 4.a Generating data sets ==\n",
            "sepsis_attr: unchanged, original attributes\n"
          ],
          "name": "stdout"
        }
      ]
    },
    {
      "cell_type": "code",
      "metadata": {
        "id": "PFTQQqIrRE98",
        "colab_type": "code",
        "colab": {}
      },
      "source": [
        "from sklearn import preprocessing as preproc"
      ],
      "execution_count": 52,
      "outputs": []
    },
    {
      "cell_type": "code",
      "metadata": {
        "id": "bDxV3o2zQkJ1",
        "colab_type": "code",
        "colab": {
          "base_uri": "https://localhost:8080/",
          "height": 221
        },
        "outputId": "fc2719c3-16a0-4ddc-d09b-6ac2265d19df"
      },
      "source": [
        "print(\"normalized_attr: range of 0 to 1\")\n",
        "scaler = preproc.MinMaxScaler().fit(sepsis_attr)\n",
        "normalized_attr = scaler.transform(sepsis_attr)\n",
        "normalized_df = pd.DataFrame(normalized_attr)\n",
        "print(normalized_df.describe())"
      ],
      "execution_count": 53,
      "outputs": [
        {
          "output_type": "stream",
          "text": [
            "normalized_attr: range of 0 to 1\n",
            "                  0             1  ...             5             6\n",
            "count  20000.000000  20000.000000  ...  20000.000000  20000.000000\n",
            "mean       0.483538      0.587929  ...      0.445923      0.563522\n",
            "std        0.314133      0.326547  ...      0.281195      0.190613\n",
            "min        0.000000      0.000000  ...      0.000000      0.000000\n",
            "25%        0.238095      0.333333  ...      0.333333      0.441860\n",
            "50%        0.476190      0.666667  ...      0.416667      0.586628\n",
            "75%        0.714286      0.833333  ...      0.541667      0.712209\n",
            "max        1.000000      1.000000  ...      1.000000      1.000000\n",
            "\n",
            "[8 rows x 7 columns]\n"
          ],
          "name": "stdout"
        }
      ]
    },
    {
      "cell_type": "code",
      "metadata": {
        "id": "oIiK4Z7_RGKS",
        "colab_type": "code",
        "colab": {
          "base_uri": "https://localhost:8080/",
          "height": 221
        },
        "outputId": "2de1828a-1f64-4f48-84d9-f6ebe068598b"
      },
      "source": [
        "print(\"standardized_attr: mean of 0 and stdev of 1\")\n",
        "#scaler = preproc.StandardScaler().fit(sepsis_attr)\n",
        "#standardized_attr = scaler.transform(sepsis_attr)\n",
        "standardized_attr = preproc.scale(sepsis_attr)\n",
        "standardized_df = pd.DataFrame(standardized_attr)\n",
        "print(standardized_df.describe())"
      ],
      "execution_count": 54,
      "outputs": [
        {
          "output_type": "stream",
          "text": [
            "standardized_attr: mean of 0 and stdev of 1\n",
            "                  0             1  ...             5             6\n",
            "count  2.000000e+04  2.000000e+04  ...  2.000000e+04  2.000000e+04\n",
            "mean  -7.986944e-16  5.051348e-16  ... -6.155743e-16  4.219070e-16\n",
            "std    1.000025e+00  1.000025e+00  ...  1.000025e+00  1.000025e+00\n",
            "min   -1.539317e+00 -1.800486e+00  ... -1.585855e+00 -2.956445e+00\n",
            "25%   -7.813531e-01 -7.796793e-01  ... -4.004073e-01 -6.382835e-01\n",
            "50%   -2.338888e-02  2.411273e-01  ... -1.040453e-01  1.212196e-01\n",
            "75%    7.345753e-01  7.515305e-01  ...  3.404977e-01  7.800656e-01\n",
            "max    1.644132e+00  1.261934e+00  ...  1.970489e+00  2.289921e+00\n",
            "\n",
            "[8 rows x 7 columns]\n"
          ],
          "name": "stdout"
        }
      ]
    },
    {
      "cell_type": "code",
      "metadata": {
        "id": "Q6SmqTAbRdAw",
        "colab_type": "code",
        "colab": {
          "base_uri": "https://localhost:8080/",
          "height": 170
        },
        "outputId": "e6412f90-ce48-41b7-a2ae-c52d9ba94d48"
      },
      "source": [
        "print(df.isnull().sum())"
      ],
      "execution_count": 55,
      "outputs": [
        {
          "output_type": "stream",
          "text": [
            "HR             0\n",
            "O2Sat          0\n",
            "Temp           0\n",
            "SBP            0\n",
            "MAP            0\n",
            "DBP            0\n",
            "Age            0\n",
            "SepsisLabel    0\n",
            "dtype: int64\n"
          ],
          "name": "stdout"
        }
      ]
    },
    {
      "cell_type": "code",
      "metadata": {
        "id": "vD0zP_BtRuDH",
        "colab_type": "code",
        "colab": {
          "base_uri": "https://localhost:8080/",
          "height": 34
        },
        "outputId": "3d7f6437-6546-49ae-b666-aed54e27ba82"
      },
      "source": [
        "print(\"=== undersampling majority class by purging ===\")\n",
        "\n",
        "# Separate majority and minority classes\n",
        "df_majority = df[df['SepsisLabel']==0]\n",
        "df_minority = df[df['SepsisLabel']==1]"
      ],
      "execution_count": 56,
      "outputs": [
        {
          "output_type": "stream",
          "text": [
            "=== undersampling majority class by purging ===\n"
          ],
          "name": "stdout"
        }
      ]
    },
    {
      "cell_type": "code",
      "metadata": {
        "id": "8MkDqWUQSE1p",
        "colab_type": "code",
        "colab": {}
      },
      "source": [
        "from sklearn.utils import resample"
      ],
      "execution_count": 57,
      "outputs": []
    },
    {
      "cell_type": "code",
      "metadata": {
        "id": "TESeFzy_SSnS",
        "colab_type": "code",
        "colab": {
          "base_uri": "https://localhost:8080/",
          "height": 34
        },
        "outputId": "42902c5a-1354-4e03-d704-75f46f0c9c46"
      },
      "source": [
        "print(\"df_minority['SepsisLabel'].size\", df_minority['SepsisLabel'].size)\n",
        "\n",
        "# Downsample majority class\n",
        "\n",
        "df_majority_downsampled = resample(df_majority, \n",
        "                          replace=False,    # sample without replacement\n",
        "                          n_samples=df_minority['SepsisLabel'].size,  # match minority class\n",
        "                          random_state=7) # reproducible results\n",
        " \n",
        "# Combine minority class with downsampled majority class\n",
        "df_downsampled = pd.concat([df_majority_downsampled, df_minority])"
      ],
      "execution_count": 58,
      "outputs": [
        {
          "output_type": "stream",
          "text": [
            "df_minority['SepsisLabel'].size 422\n"
          ],
          "name": "stdout"
        }
      ]
    },
    {
      "cell_type": "code",
      "metadata": {
        "id": "rpqW46fISgyf",
        "colab_type": "code",
        "colab": {
          "base_uri": "https://localhost:8080/",
          "height": 85
        },
        "outputId": "a5440b2d-42ae-4dd1-e1dc-d14bb1fc1b91"
      },
      "source": [
        "print(\"undersampled\", df_downsampled.groupby('SepsisLabel').size()) \n",
        "df_downsampled=df_downsampled.sample(frac=1).reset_index(drop=True)\n",
        "undersampling_attr = np.array(df_downsampled.values[:,0:7])\n",
        "undersampling_label = np.array(df_downsampled.values[:,7])"
      ],
      "execution_count": 59,
      "outputs": [
        {
          "output_type": "stream",
          "text": [
            "undersampled SepsisLabel\n",
            "0    422\n",
            "1    422\n",
            "dtype: int64\n"
          ],
          "name": "stdout"
        }
      ]
    },
    {
      "cell_type": "code",
      "metadata": {
        "id": "ft0yj7ytSzLH",
        "colab_type": "code",
        "colab": {}
      },
      "source": [
        "from imblearn.over_sampling import SMOTE"
      ],
      "execution_count": 60,
      "outputs": []
    },
    {
      "cell_type": "code",
      "metadata": {
        "id": "PFPt3Np3THqP",
        "colab_type": "code",
        "colab": {
          "base_uri": "https://localhost:8080/",
          "height": 34
        },
        "outputId": "745c845c-f84a-4676-b021-9f427ce90ca0"
      },
      "source": [
        "df.columns"
      ],
      "execution_count": 61,
      "outputs": [
        {
          "output_type": "execute_result",
          "data": {
            "text/plain": [
              "Index(['HR', 'O2Sat', 'Temp', 'SBP', 'MAP', 'DBP', 'Age', 'SepsisLabel'], dtype='object')"
            ]
          },
          "metadata": {
            "tags": []
          },
          "execution_count": 61
        }
      ]
    },
    {
      "cell_type": "code",
      "metadata": {
        "id": "Dzi8B8fIS7C5",
        "colab_type": "code",
        "colab": {
          "base_uri": "https://localhost:8080/",
          "height": 156
        },
        "outputId": "abfe2cbd-32b3-44fa-c1c2-0ca656cfb646"
      },
      "source": [
        "print(\"=== oversampling minority class with SMOTE ===\")\n",
        "\n",
        "sm = SMOTE(random_state=7)\n",
        "x_val = df.values[:,0:7]\n",
        "y_val = df.values[:,7]\n",
        "X_res, y_res = sm.fit_sample(x_val, y_val)\n",
        "\n",
        "features=['HR', 'O2Sat', 'Temp', 'SBP', 'MAP', 'DBP', 'Age']\n",
        "oversampled_df = pd.DataFrame(X_res)\n",
        "oversampled_df.columns = features\n",
        "oversampled_df = oversampled_df.assign(label = np.asarray(y_res))\n",
        "oversampled_df = oversampled_df.sample(frac=1).reset_index(drop=True)\n",
        "\n",
        "oversampling_attr = oversampled_df.values[:,0:7]\n",
        "oversampling_label = oversampled_df.values[:,7]\n",
        "print(\"oversampled_df\", oversampled_df.groupby('label').size())"
      ],
      "execution_count": 62,
      "outputs": [
        {
          "output_type": "stream",
          "text": [
            "=== oversampling minority class with SMOTE ===\n",
            "oversampled_df label\n",
            "0.0    19578\n",
            "1.0    19578\n",
            "dtype: int64\n"
          ],
          "name": "stdout"
        },
        {
          "output_type": "stream",
          "text": [
            "/usr/local/lib/python3.6/dist-packages/sklearn/utils/deprecation.py:87: FutureWarning: Function safe_indexing is deprecated; safe_indexing is deprecated in version 0.22 and will be removed in version 0.24.\n",
            "  warnings.warn(msg, category=FutureWarning)\n"
          ],
          "name": "stderr"
        }
      ]
    },
    {
      "cell_type": "code",
      "metadata": {
        "id": "Y67nVXzfTrgs",
        "colab_type": "code",
        "colab": {
          "base_uri": "https://localhost:8080/",
          "height": 68
        },
        "outputId": "281b5c15-47dd-4f33-956b-7402374df545"
      },
      "source": [
        "print(\" = 5. Evaluate Some Algorithms = \")\n",
        "# Split-out validation dataset\n",
        "print(\" == 5.1 Create a Validation Dataset: Split-out validation dataset == \")\n",
        "\n",
        "# Test options and evaluation metric\n",
        "print(\" == 5.2 Test Harness: Test options and evaluation metric == \")\n",
        "seed = 7\n",
        "scoring = 'accuracy'"
      ],
      "execution_count": 63,
      "outputs": [
        {
          "output_type": "stream",
          "text": [
            " = 5. Evaluate Some Algorithms = \n",
            " == 5.1 Create a Validation Dataset: Split-out validation dataset == \n",
            " == 5.2 Test Harness: Test options and evaluation metric == \n"
          ],
          "name": "stdout"
        }
      ]
    },
    {
      "cell_type": "code",
      "metadata": {
        "id": "At-N0zpRUQbk",
        "colab_type": "code",
        "colab": {}
      },
      "source": [
        "# algo eval imports\n",
        "from sklearn import model_selection\n",
        "from sklearn.metrics import accuracy_score\n",
        "from sklearn.linear_model import LogisticRegression\n",
        "from sklearn.discriminant_analysis import LinearDiscriminantAnalysis\n",
        "from sklearn.tree import DecisionTreeClassifier\n",
        "from sklearn.neighbors import KNeighborsClassifier\n",
        "from sklearn.ensemble import RandomForestClassifier\n",
        "from sklearn.naive_bayes import GaussianNB\n",
        "from sklearn.svm import SVC"
      ],
      "execution_count": 64,
      "outputs": []
    },
    {
      "cell_type": "code",
      "metadata": {
        "id": "xG-pUBi_Uix4",
        "colab_type": "code",
        "colab": {}
      },
      "source": [
        "# fine tuning\n",
        "from sklearn.linear_model import Ridge\n",
        "from sklearn.model_selection import GridSearchCV\n",
        "\n",
        "# significance tests\n",
        "import scipy.stats as stats\n",
        "import math\n",
        "\n",
        "# build and save model using Pickle\n",
        "from random import *\n",
        "import pickle"
      ],
      "execution_count": 65,
      "outputs": []
    },
    {
      "cell_type": "code",
      "metadata": {
        "id": "eBTsgCgnUwbU",
        "colab_type": "code",
        "colab": {}
      },
      "source": [
        "import matplotlib.pyplot as plt"
      ],
      "execution_count": 66,
      "outputs": []
    },
    {
      "cell_type": "code",
      "metadata": {
        "id": "a4kxzud-Tzn8",
        "colab_type": "code",
        "colab": {
          "base_uri": "https://localhost:8080/",
          "height": 1000
        },
        "outputId": "75c8dfb0-ce0f-4df6-e30c-4867de9e337f"
      },
      "source": [
        "# Spot Check Algorithms\n",
        "print(\"== 5.3 Build Models: build and evaluate our five models, Spot Check Algorithms ==\")\n",
        "datasets = []\n",
        "datasets.append(('sepsis_attr', sepsis_attr, label))\n",
        "datasets.append(('normalized_attr', normalized_attr, label))\n",
        "datasets.append(('standardized_attr', standardized_attr, label))\n",
        "datasets.append(('undersampling_attr', undersampling_attr, undersampling_label))\n",
        "datasets.append(('oversampling_attr', oversampling_attr, oversampling_label))\n",
        "\n",
        "models = []\n",
        "models.append(('LR', LogisticRegression())) # based on imbalanced datasets and default parameters\n",
        "models.append(('LDA', LinearDiscriminantAnalysis()))\n",
        "models.append(('KNN', KNeighborsClassifier()))\n",
        "models.append(('CART', DecisionTreeClassifier()))\n",
        "models.append(('NB', GaussianNB()))\n",
        "models.append(('RF', RandomForestClassifier()))\n",
        "models.append(('SVM', SVC()))\n",
        "\n",
        "print(\"eval metric: \" + scoring)\n",
        "for dataname, attributes, target in datasets:\n",
        "\t# evaluate each model in turn\n",
        "\tresults = []\n",
        "\tnames = []\n",
        "\tprint(\"= \" + dataname + \" = \")\n",
        "\tprint(\"algorithm,mean,std,signficance,p-val\")\n",
        "\tfor name, model in models:\n",
        "\t\tkfold = model_selection.KFold(n_splits=10, random_state=seed)\n",
        "\t\tcv_results = model_selection.cross_val_score(model, attributes, target, cv=kfold, scoring=scoring)\n",
        "\t\tresults.append(cv_results)\n",
        "\t\t#print(\"cv_results\")\n",
        "\t\t#print(cv_results)\n",
        "\t\tnames.append(name)\n",
        "\t\t\n",
        "\t\tt, prob = stats.ttest_rel(a= cv_results,b= results[0])\n",
        "\t\t#print(\"LR vs \", name, t,prob)\n",
        "\t\t# Below 0.05, significant. Over 0.05, not significant. \n",
        "\t\t# http://blog.minitab.com/blog/understanding-statistics/what-can-you-say-when-your-p-value-is-greater-than-005\n",
        "\t\tstatistically_different = (prob < 0.05)\n",
        "\t\t\n",
        "\t\tmsg = \"%s: %f (%f) %s %f\" % (name, cv_results.mean(), cv_results.std(), statistically_different, prob)\n",
        "\t\tprint(msg)\n",
        "\n",
        "\t# Compare Algorithms\n",
        "\tprint(\" == 5.4 Select Best Model, Compare Algorithms == \")\n",
        "\tfig = plt.figure()\n",
        "\tfig.suptitle('Algorithm Comparison for ' + dataname)\n",
        "\tax = fig.add_subplot(111) # what does 111 mean?\n",
        "\tplt.boxplot(results)\n",
        "\tplt.ylabel(scoring)\n",
        "\tax.set_xticklabels(names)\n",
        "\tplt.show()"
      ],
      "execution_count": 67,
      "outputs": [
        {
          "output_type": "stream",
          "text": [
            "== 5.3 Build Models: build and evaluate our five models, Spot Check Algorithms ==\n",
            "eval metric: accuracy\n",
            "= sepsis_attr = \n",
            "algorithm,mean,std,signficance,p-val\n"
          ],
          "name": "stdout"
        },
        {
          "output_type": "stream",
          "text": [
            "/usr/local/lib/python3.6/dist-packages/sklearn/model_selection/_split.py:296: FutureWarning: Setting a random_state has no effect since shuffle is False. This will raise an error in 0.24. You should leave random_state to its default (None), or set shuffle=True.\n",
            "  FutureWarning\n",
            "/usr/local/lib/python3.6/dist-packages/sklearn/linear_model/_logistic.py:940: ConvergenceWarning: lbfgs failed to converge (status=1):\n",
            "STOP: TOTAL NO. of ITERATIONS REACHED LIMIT.\n",
            "\n",
            "Increase the number of iterations (max_iter) or scale the data as shown in:\n",
            "    https://scikit-learn.org/stable/modules/preprocessing.html\n",
            "Please also refer to the documentation for alternative solver options:\n",
            "    https://scikit-learn.org/stable/modules/linear_model.html#logistic-regression\n",
            "  extra_warning_msg=_LOGISTIC_SOLVER_CONVERGENCE_MSG)\n",
            "/usr/local/lib/python3.6/dist-packages/sklearn/linear_model/_logistic.py:940: ConvergenceWarning: lbfgs failed to converge (status=1):\n",
            "STOP: TOTAL NO. of ITERATIONS REACHED LIMIT.\n",
            "\n",
            "Increase the number of iterations (max_iter) or scale the data as shown in:\n",
            "    https://scikit-learn.org/stable/modules/preprocessing.html\n",
            "Please also refer to the documentation for alternative solver options:\n",
            "    https://scikit-learn.org/stable/modules/linear_model.html#logistic-regression\n",
            "  extra_warning_msg=_LOGISTIC_SOLVER_CONVERGENCE_MSG)\n",
            "/usr/local/lib/python3.6/dist-packages/sklearn/linear_model/_logistic.py:940: ConvergenceWarning: lbfgs failed to converge (status=1):\n",
            "STOP: TOTAL NO. of ITERATIONS REACHED LIMIT.\n",
            "\n",
            "Increase the number of iterations (max_iter) or scale the data as shown in:\n",
            "    https://scikit-learn.org/stable/modules/preprocessing.html\n",
            "Please also refer to the documentation for alternative solver options:\n",
            "    https://scikit-learn.org/stable/modules/linear_model.html#logistic-regression\n",
            "  extra_warning_msg=_LOGISTIC_SOLVER_CONVERGENCE_MSG)\n",
            "/usr/local/lib/python3.6/dist-packages/sklearn/linear_model/_logistic.py:940: ConvergenceWarning: lbfgs failed to converge (status=1):\n",
            "STOP: TOTAL NO. of ITERATIONS REACHED LIMIT.\n",
            "\n",
            "Increase the number of iterations (max_iter) or scale the data as shown in:\n",
            "    https://scikit-learn.org/stable/modules/preprocessing.html\n",
            "Please also refer to the documentation for alternative solver options:\n",
            "    https://scikit-learn.org/stable/modules/linear_model.html#logistic-regression\n",
            "  extra_warning_msg=_LOGISTIC_SOLVER_CONVERGENCE_MSG)\n",
            "/usr/local/lib/python3.6/dist-packages/sklearn/linear_model/_logistic.py:940: ConvergenceWarning: lbfgs failed to converge (status=1):\n",
            "STOP: TOTAL NO. of ITERATIONS REACHED LIMIT.\n",
            "\n",
            "Increase the number of iterations (max_iter) or scale the data as shown in:\n",
            "    https://scikit-learn.org/stable/modules/preprocessing.html\n",
            "Please also refer to the documentation for alternative solver options:\n",
            "    https://scikit-learn.org/stable/modules/linear_model.html#logistic-regression\n",
            "  extra_warning_msg=_LOGISTIC_SOLVER_CONVERGENCE_MSG)\n",
            "/usr/local/lib/python3.6/dist-packages/sklearn/linear_model/_logistic.py:940: ConvergenceWarning: lbfgs failed to converge (status=1):\n",
            "STOP: TOTAL NO. of ITERATIONS REACHED LIMIT.\n",
            "\n",
            "Increase the number of iterations (max_iter) or scale the data as shown in:\n",
            "    https://scikit-learn.org/stable/modules/preprocessing.html\n",
            "Please also refer to the documentation for alternative solver options:\n",
            "    https://scikit-learn.org/stable/modules/linear_model.html#logistic-regression\n",
            "  extra_warning_msg=_LOGISTIC_SOLVER_CONVERGENCE_MSG)\n",
            "/usr/local/lib/python3.6/dist-packages/sklearn/linear_model/_logistic.py:940: ConvergenceWarning: lbfgs failed to converge (status=1):\n",
            "STOP: TOTAL NO. of ITERATIONS REACHED LIMIT.\n",
            "\n",
            "Increase the number of iterations (max_iter) or scale the data as shown in:\n",
            "    https://scikit-learn.org/stable/modules/preprocessing.html\n",
            "Please also refer to the documentation for alternative solver options:\n",
            "    https://scikit-learn.org/stable/modules/linear_model.html#logistic-regression\n",
            "  extra_warning_msg=_LOGISTIC_SOLVER_CONVERGENCE_MSG)\n"
          ],
          "name": "stderr"
        },
        {
          "output_type": "stream",
          "text": [
            "LR: 0.978850 (0.001343) False nan\n"
          ],
          "name": "stdout"
        },
        {
          "output_type": "stream",
          "text": [
            "/usr/local/lib/python3.6/dist-packages/sklearn/model_selection/_split.py:296: FutureWarning: Setting a random_state has no effect since shuffle is False. This will raise an error in 0.24. You should leave random_state to its default (None), or set shuffle=True.\n",
            "  FutureWarning\n"
          ],
          "name": "stderr"
        },
        {
          "output_type": "stream",
          "text": [
            "LDA: 0.978350 (0.001582) True 0.014956\n"
          ],
          "name": "stdout"
        },
        {
          "output_type": "stream",
          "text": [
            "/usr/local/lib/python3.6/dist-packages/sklearn/model_selection/_split.py:296: FutureWarning: Setting a random_state has no effect since shuffle is False. This will raise an error in 0.24. You should leave random_state to its default (None), or set shuffle=True.\n",
            "  FutureWarning\n"
          ],
          "name": "stderr"
        },
        {
          "output_type": "stream",
          "text": [
            "KNN: 0.978800 (0.001646) False 0.872288\n"
          ],
          "name": "stdout"
        },
        {
          "output_type": "stream",
          "text": [
            "/usr/local/lib/python3.6/dist-packages/sklearn/model_selection/_split.py:296: FutureWarning: Setting a random_state has no effect since shuffle is False. This will raise an error in 0.24. You should leave random_state to its default (None), or set shuffle=True.\n",
            "  FutureWarning\n"
          ],
          "name": "stderr"
        },
        {
          "output_type": "stream",
          "text": [
            "CART: 0.977600 (0.002417) False 0.224402\n",
            "NB: 0.968950 (0.004022) True 0.000005\n"
          ],
          "name": "stdout"
        },
        {
          "output_type": "stream",
          "text": [
            "/usr/local/lib/python3.6/dist-packages/sklearn/model_selection/_split.py:296: FutureWarning: Setting a random_state has no effect since shuffle is False. This will raise an error in 0.24. You should leave random_state to its default (None), or set shuffle=True.\n",
            "  FutureWarning\n",
            "/usr/local/lib/python3.6/dist-packages/sklearn/model_selection/_split.py:296: FutureWarning: Setting a random_state has no effect since shuffle is False. This will raise an error in 0.24. You should leave random_state to its default (None), or set shuffle=True.\n",
            "  FutureWarning\n"
          ],
          "name": "stderr"
        },
        {
          "output_type": "stream",
          "text": [
            "RF: 0.985800 (0.001778) True 0.000005\n"
          ],
          "name": "stdout"
        },
        {
          "output_type": "stream",
          "text": [
            "/usr/local/lib/python3.6/dist-packages/sklearn/model_selection/_split.py:296: FutureWarning: Setting a random_state has no effect since shuffle is False. This will raise an error in 0.24. You should leave random_state to its default (None), or set shuffle=True.\n",
            "  FutureWarning\n"
          ],
          "name": "stderr"
        },
        {
          "output_type": "stream",
          "text": [
            "SVM: 0.978900 (0.001411) False 0.343436\n",
            " == 5.4 Select Best Model, Compare Algorithms == \n"
          ],
          "name": "stdout"
        },
        {
          "output_type": "display_data",
          "data": {
            "image/png": "[encoded data removed]",
            "text/plain": [
              "<Figure size 432x288 with 1 Axes>"
            ]
          },
          "metadata": {
            "tags": [],
            "needs_background": "light"
          }
        },
        {
          "output_type": "stream",
          "text": [
            "= normalized_attr = \n",
            "algorithm,mean,std,signficance,p-val\n"
          ],
          "name": "stdout"
        },
        {
          "output_type": "stream",
          "text": [
            "/usr/local/lib/python3.6/dist-packages/sklearn/model_selection/_split.py:296: FutureWarning: Setting a random_state has no effect since shuffle is False. This will raise an error in 0.24. You should leave random_state to its default (None), or set shuffle=True.\n",
            "  FutureWarning\n"
          ],
          "name": "stderr"
        },
        {
          "output_type": "stream",
          "text": [
            "LR: 0.978900 (0.001411) False nan\n"
          ],
          "name": "stdout"
        },
        {
          "output_type": "stream",
          "text": [
            "/usr/local/lib/python3.6/dist-packages/sklearn/model_selection/_split.py:296: FutureWarning: Setting a random_state has no effect since shuffle is False. This will raise an error in 0.24. You should leave random_state to its default (None), or set shuffle=True.\n",
            "  FutureWarning\n"
          ],
          "name": "stderr"
        },
        {
          "output_type": "stream",
          "text": [
            "LDA: 0.978350 (0.001582) True 0.017439\n"
          ],
          "name": "stdout"
        },
        {
          "output_type": "stream",
          "text": [
            "/usr/local/lib/python3.6/dist-packages/sklearn/model_selection/_split.py:296: FutureWarning: Setting a random_state has no effect since shuffle is False. This will raise an error in 0.24. You should leave random_state to its default (None), or set shuffle=True.\n",
            "  FutureWarning\n"
          ],
          "name": "stderr"
        },
        {
          "output_type": "stream",
          "text": [
            "KNN: 0.979200 (0.001778) False 0.415129\n"
          ],
          "name": "stdout"
        },
        {
          "output_type": "stream",
          "text": [
            "/usr/local/lib/python3.6/dist-packages/sklearn/model_selection/_split.py:296: FutureWarning: Setting a random_state has no effect since shuffle is False. This will raise an error in 0.24. You should leave random_state to its default (None), or set shuffle=True.\n",
            "  FutureWarning\n"
          ],
          "name": "stderr"
        },
        {
          "output_type": "stream",
          "text": [
            "CART: 0.978000 (0.001871) False 0.276819\n",
            "NB: 0.968950 (0.004022) True 0.000005\n"
          ],
          "name": "stdout"
        },
        {
          "output_type": "stream",
          "text": [
            "/usr/local/lib/python3.6/dist-packages/sklearn/model_selection/_split.py:296: FutureWarning: Setting a random_state has no effect since shuffle is False. This will raise an error in 0.24. You should leave random_state to its default (None), or set shuffle=True.\n",
            "  FutureWarning\n",
            "/usr/local/lib/python3.6/dist-packages/sklearn/model_selection/_split.py:296: FutureWarning: Setting a random_state has no effect since shuffle is False. This will raise an error in 0.24. You should leave random_state to its default (None), or set shuffle=True.\n",
            "  FutureWarning\n"
          ],
          "name": "stderr"
        },
        {
          "output_type": "stream",
          "text": [
            "RF: 0.985850 (0.001975) True 0.000003\n"
          ],
          "name": "stdout"
        },
        {
          "output_type": "stream",
          "text": [
            "/usr/local/lib/python3.6/dist-packages/sklearn/model_selection/_split.py:296: FutureWarning: Setting a random_state has no effect since shuffle is False. This will raise an error in 0.24. You should leave random_state to its default (None), or set shuffle=True.\n",
            "  FutureWarning\n"
          ],
          "name": "stderr"
        },
        {
          "output_type": "stream",
          "text": [
            "SVM: 0.978900 (0.001411) False nan\n",
            " == 5.4 Select Best Model, Compare Algorithms == \n"
          ],
          "name": "stdout"
        },
        {
          "output_type": "display_data",
          "data": {
            "image/png": "[encoded data removed]",
            "text/plain": [
              "<Figure size 432x288 with 1 Axes>"
            ]
          },
          "metadata": {
            "tags": [],
            "needs_background": "light"
          }
        },
        {
          "output_type": "stream",
          "text": [
            "= standardized_attr = \n",
            "algorithm,mean,std,signficance,p-val\n"
          ],
          "name": "stdout"
        },
        {
          "output_type": "stream",
          "text": [
            "/usr/local/lib/python3.6/dist-packages/sklearn/model_selection/_split.py:296: FutureWarning: Setting a random_state has no effect since shuffle is False. This will raise an error in 0.24. You should leave random_state to its default (None), or set shuffle=True.\n",
            "  FutureWarning\n"
          ],
          "name": "stderr"
        },
        {
          "output_type": "stream",
          "text": [
            "LR: 0.978850 (0.001343) False nan\n"
          ],
          "name": "stdout"
        },
        {
          "output_type": "stream",
          "text": [
            "/usr/local/lib/python3.6/dist-packages/sklearn/model_selection/_split.py:296: FutureWarning: Setting a random_state has no effect since shuffle is False. This will raise an error in 0.24. You should leave random_state to its default (None), or set shuffle=True.\n",
            "  FutureWarning\n"
          ],
          "name": "stderr"
        },
        {
          "output_type": "stream",
          "text": [
            "LDA: 0.978350 (0.001582) True 0.014956\n"
          ],
          "name": "stdout"
        },
        {
          "output_type": "stream",
          "text": [
            "/usr/local/lib/python3.6/dist-packages/sklearn/model_selection/_split.py:296: FutureWarning: Setting a random_state has no effect since shuffle is False. This will raise an error in 0.24. You should leave random_state to its default (None), or set shuffle=True.\n",
            "  FutureWarning\n"
          ],
          "name": "stderr"
        },
        {
          "output_type": "stream",
          "text": [
            "KNN: 0.978750 (0.001820) False 0.814394\n"
          ],
          "name": "stdout"
        },
        {
          "output_type": "stream",
          "text": [
            "/usr/local/lib/python3.6/dist-packages/sklearn/model_selection/_split.py:296: FutureWarning: Setting a random_state has no effect since shuffle is False. This will raise an error in 0.24. You should leave random_state to its default (None), or set shuffle=True.\n",
            "  FutureWarning\n"
          ],
          "name": "stderr"
        },
        {
          "output_type": "stream",
          "text": [
            "CART: 0.977300 (0.001552) False 0.051034\n",
            "NB: 0.968950 (0.004022) True 0.000005\n"
          ],
          "name": "stdout"
        },
        {
          "output_type": "stream",
          "text": [
            "/usr/local/lib/python3.6/dist-packages/sklearn/model_selection/_split.py:296: FutureWarning: Setting a random_state has no effect since shuffle is False. This will raise an error in 0.24. You should leave random_state to its default (None), or set shuffle=True.\n",
            "  FutureWarning\n",
            "/usr/local/lib/python3.6/dist-packages/sklearn/model_selection/_split.py:296: FutureWarning: Setting a random_state has no effect since shuffle is False. This will raise an error in 0.24. You should leave random_state to its default (None), or set shuffle=True.\n",
            "  FutureWarning\n"
          ],
          "name": "stderr"
        },
        {
          "output_type": "stream",
          "text": [
            "RF: 0.985900 (0.001356) True 0.000001\n"
          ],
          "name": "stdout"
        },
        {
          "output_type": "stream",
          "text": [
            "/usr/local/lib/python3.6/dist-packages/sklearn/model_selection/_split.py:296: FutureWarning: Setting a random_state has no effect since shuffle is False. This will raise an error in 0.24. You should leave random_state to its default (None), or set shuffle=True.\n",
            "  FutureWarning\n"
          ],
          "name": "stderr"
        },
        {
          "output_type": "stream",
          "text": [
            "SVM: 0.978900 (0.001411) False 0.343436\n",
            " == 5.4 Select Best Model, Compare Algorithms == \n"
          ],
          "name": "stdout"
        },
        {
          "output_type": "display_data",
          "data": {
            "image/png": "[encoded data removed]",
            "text/plain": [
              "<Figure size 432x288 with 1 Axes>"
            ]
          },
          "metadata": {
            "tags": [],
            "needs_background": "light"
          }
        },
        {
          "output_type": "stream",
          "text": [
            "= undersampling_attr = \n",
            "algorithm,mean,std,signficance,p-val\n"
          ],
          "name": "stdout"
        },
        {
          "output_type": "stream",
          "text": [
            "/usr/local/lib/python3.6/dist-packages/sklearn/model_selection/_split.py:296: FutureWarning: Setting a random_state has no effect since shuffle is False. This will raise an error in 0.24. You should leave random_state to its default (None), or set shuffle=True.\n",
            "  FutureWarning\n",
            "/usr/local/lib/python3.6/dist-packages/sklearn/linear_model/_logistic.py:940: ConvergenceWarning: lbfgs failed to converge (status=1):\n",
            "STOP: TOTAL NO. of ITERATIONS REACHED LIMIT.\n",
            "\n",
            "Increase the number of iterations (max_iter) or scale the data as shown in:\n",
            "    https://scikit-learn.org/stable/modules/preprocessing.html\n",
            "Please also refer to the documentation for alternative solver options:\n",
            "    https://scikit-learn.org/stable/modules/linear_model.html#logistic-regression\n",
            "  extra_warning_msg=_LOGISTIC_SOLVER_CONVERGENCE_MSG)\n",
            "/usr/local/lib/python3.6/dist-packages/sklearn/linear_model/_logistic.py:940: ConvergenceWarning: lbfgs failed to converge (status=1):\n",
            "STOP: TOTAL NO. of ITERATIONS REACHED LIMIT.\n",
            "\n",
            "Increase the number of iterations (max_iter) or scale the data as shown in:\n",
            "    https://scikit-learn.org/stable/modules/preprocessing.html\n",
            "Please also refer to the documentation for alternative solver options:\n",
            "    https://scikit-learn.org/stable/modules/linear_model.html#logistic-regression\n",
            "  extra_warning_msg=_LOGISTIC_SOLVER_CONVERGENCE_MSG)\n",
            "/usr/local/lib/python3.6/dist-packages/sklearn/linear_model/_logistic.py:940: ConvergenceWarning: lbfgs failed to converge (status=1):\n",
            "STOP: TOTAL NO. of ITERATIONS REACHED LIMIT.\n",
            "\n",
            "Increase the number of iterations (max_iter) or scale the data as shown in:\n",
            "    https://scikit-learn.org/stable/modules/preprocessing.html\n",
            "Please also refer to the documentation for alternative solver options:\n",
            "    https://scikit-learn.org/stable/modules/linear_model.html#logistic-regression\n",
            "  extra_warning_msg=_LOGISTIC_SOLVER_CONVERGENCE_MSG)\n",
            "/usr/local/lib/python3.6/dist-packages/sklearn/linear_model/_logistic.py:940: ConvergenceWarning: lbfgs failed to converge (status=1):\n",
            "STOP: TOTAL NO. of ITERATIONS REACHED LIMIT.\n",
            "\n",
            "Increase the number of iterations (max_iter) or scale the data as shown in:\n",
            "    https://scikit-learn.org/stable/modules/preprocessing.html\n",
            "Please also refer to the documentation for alternative solver options:\n",
            "    https://scikit-learn.org/stable/modules/linear_model.html#logistic-regression\n",
            "  extra_warning_msg=_LOGISTIC_SOLVER_CONVERGENCE_MSG)\n",
            "/usr/local/lib/python3.6/dist-packages/sklearn/linear_model/_logistic.py:940: ConvergenceWarning: lbfgs failed to converge (status=1):\n",
            "STOP: TOTAL NO. of ITERATIONS REACHED LIMIT.\n",
            "\n",
            "Increase the number of iterations (max_iter) or scale the data as shown in:\n",
            "    https://scikit-learn.org/stable/modules/preprocessing.html\n",
            "Please also refer to the documentation for alternative solver options:\n",
            "    https://scikit-learn.org/stable/modules/linear_model.html#logistic-regression\n",
            "  extra_warning_msg=_LOGISTIC_SOLVER_CONVERGENCE_MSG)\n",
            "/usr/local/lib/python3.6/dist-packages/sklearn/linear_model/_logistic.py:940: ConvergenceWarning: lbfgs failed to converge (status=1):\n",
            "STOP: TOTAL NO. of ITERATIONS REACHED LIMIT.\n",
            "\n",
            "Increase the number of iterations (max_iter) or scale the data as shown in:\n",
            "    https://scikit-learn.org/stable/modules/preprocessing.html\n",
            "Please also refer to the documentation for alternative solver options:\n",
            "    https://scikit-learn.org/stable/modules/linear_model.html#logistic-regression\n",
            "  extra_warning_msg=_LOGISTIC_SOLVER_CONVERGENCE_MSG)\n",
            "/usr/local/lib/python3.6/dist-packages/sklearn/model_selection/_split.py:296: FutureWarning: Setting a random_state has no effect since shuffle is False. This will raise an error in 0.24. You should leave random_state to its default (None), or set shuffle=True.\n",
            "  FutureWarning\n",
            "/usr/local/lib/python3.6/dist-packages/sklearn/model_selection/_split.py:296: FutureWarning: Setting a random_state has no effect since shuffle is False. This will raise an error in 0.24. You should leave random_state to its default (None), or set shuffle=True.\n",
            "  FutureWarning\n",
            "/usr/local/lib/python3.6/dist-packages/sklearn/model_selection/_split.py:296: FutureWarning: Setting a random_state has no effect since shuffle is False. This will raise an error in 0.24. You should leave random_state to its default (None), or set shuffle=True.\n",
            "  FutureWarning\n",
            "/usr/local/lib/python3.6/dist-packages/sklearn/model_selection/_split.py:296: FutureWarning: Setting a random_state has no effect since shuffle is False. This will raise an error in 0.24. You should leave random_state to its default (None), or set shuffle=True.\n",
            "  FutureWarning\n",
            "/usr/local/lib/python3.6/dist-packages/sklearn/model_selection/_split.py:296: FutureWarning: Setting a random_state has no effect since shuffle is False. This will raise an error in 0.24. You should leave random_state to its default (None), or set shuffle=True.\n",
            "  FutureWarning\n"
          ],
          "name": "stderr"
        },
        {
          "output_type": "stream",
          "text": [
            "LR: 0.725434 (0.078054) False nan\n",
            "LDA: 0.709958 (0.054298) False 0.394270\n",
            "KNN: 0.572353 (0.033848) True 0.000057\n",
            "CART: 0.867353 (0.026707) True 0.000357\n",
            "NB: 0.635126 (0.055035) True 0.005116\n",
            "RF: 0.889846 (0.033472) True 0.000158\n"
          ],
          "name": "stdout"
        },
        {
          "output_type": "stream",
          "text": [
            "/usr/local/lib/python3.6/dist-packages/sklearn/model_selection/_split.py:296: FutureWarning: Setting a random_state has no effect since shuffle is False. This will raise an error in 0.24. You should leave random_state to its default (None), or set shuffle=True.\n",
            "  FutureWarning\n"
          ],
          "name": "stderr"
        },
        {
          "output_type": "stream",
          "text": [
            "SVM: 0.553417 (0.040628) True 0.000028\n",
            " == 5.4 Select Best Model, Compare Algorithms == \n"
          ],
          "name": "stdout"
        },
        {
          "output_type": "display_data",
          "data": {
            "image/png": "[encoded data removed]",
            "text/plain": [
              "<Figure size 432x288 with 1 Axes>"
            ]
          },
          "metadata": {
            "tags": [],
            "needs_background": "light"
          }
        },
        {
          "output_type": "stream",
          "text": [
            "= oversampling_attr = \n",
            "algorithm,mean,std,signficance,p-val\n"
          ],
          "name": "stdout"
        },
        {
          "output_type": "stream",
          "text": [
            "/usr/local/lib/python3.6/dist-packages/sklearn/model_selection/_split.py:296: FutureWarning: Setting a random_state has no effect since shuffle is False. This will raise an error in 0.24. You should leave random_state to its default (None), or set shuffle=True.\n",
            "  FutureWarning\n",
            "/usr/local/lib/python3.6/dist-packages/sklearn/linear_model/_logistic.py:940: ConvergenceWarning: lbfgs failed to converge (status=1):\n",
            "STOP: TOTAL NO. of ITERATIONS REACHED LIMIT.\n",
            "\n",
            "Increase the number of iterations (max_iter) or scale the data as shown in:\n",
            "    https://scikit-learn.org/stable/modules/preprocessing.html\n",
            "Please also refer to the documentation for alternative solver options:\n",
            "    https://scikit-learn.org/stable/modules/linear_model.html#logistic-regression\n",
            "  extra_warning_msg=_LOGISTIC_SOLVER_CONVERGENCE_MSG)\n",
            "/usr/local/lib/python3.6/dist-packages/sklearn/linear_model/_logistic.py:940: ConvergenceWarning: lbfgs failed to converge (status=1):\n",
            "STOP: TOTAL NO. of ITERATIONS REACHED LIMIT.\n",
            "\n",
            "Increase the number of iterations (max_iter) or scale the data as shown in:\n",
            "    https://scikit-learn.org/stable/modules/preprocessing.html\n",
            "Please also refer to the documentation for alternative solver options:\n",
            "    https://scikit-learn.org/stable/modules/linear_model.html#logistic-regression\n",
            "  extra_warning_msg=_LOGISTIC_SOLVER_CONVERGENCE_MSG)\n",
            "/usr/local/lib/python3.6/dist-packages/sklearn/linear_model/_logistic.py:940: ConvergenceWarning: lbfgs failed to converge (status=1):\n",
            "STOP: TOTAL NO. of ITERATIONS REACHED LIMIT.\n",
            "\n",
            "Increase the number of iterations (max_iter) or scale the data as shown in:\n",
            "    https://scikit-learn.org/stable/modules/preprocessing.html\n",
            "Please also refer to the documentation for alternative solver options:\n",
            "    https://scikit-learn.org/stable/modules/linear_model.html#logistic-regression\n",
            "  extra_warning_msg=_LOGISTIC_SOLVER_CONVERGENCE_MSG)\n",
            "/usr/local/lib/python3.6/dist-packages/sklearn/linear_model/_logistic.py:940: ConvergenceWarning: lbfgs failed to converge (status=1):\n",
            "STOP: TOTAL NO. of ITERATIONS REACHED LIMIT.\n",
            "\n",
            "Increase the number of iterations (max_iter) or scale the data as shown in:\n",
            "    https://scikit-learn.org/stable/modules/preprocessing.html\n",
            "Please also refer to the documentation for alternative solver options:\n",
            "    https://scikit-learn.org/stable/modules/linear_model.html#logistic-regression\n",
            "  extra_warning_msg=_LOGISTIC_SOLVER_CONVERGENCE_MSG)\n"
          ],
          "name": "stderr"
        },
        {
          "output_type": "stream",
          "text": [
            "LR: 0.796788 (0.007226) False nan\n"
          ],
          "name": "stdout"
        },
        {
          "output_type": "stream",
          "text": [
            "/usr/local/lib/python3.6/dist-packages/sklearn/model_selection/_split.py:296: FutureWarning: Setting a random_state has no effect since shuffle is False. This will raise an error in 0.24. You should leave random_state to its default (None), or set shuffle=True.\n",
            "  FutureWarning\n"
          ],
          "name": "stderr"
        },
        {
          "output_type": "stream",
          "text": [
            "LDA: 0.766830 (0.004845) True 0.000003\n"
          ],
          "name": "stdout"
        },
        {
          "output_type": "stream",
          "text": [
            "/usr/local/lib/python3.6/dist-packages/sklearn/model_selection/_split.py:296: FutureWarning: Setting a random_state has no effect since shuffle is False. This will raise an error in 0.24. You should leave random_state to its default (None), or set shuffle=True.\n",
            "  FutureWarning\n"
          ],
          "name": "stderr"
        },
        {
          "output_type": "stream",
          "text": [
            "KNN: 0.917816 (0.003878) True 0.000000\n"
          ],
          "name": "stdout"
        },
        {
          "output_type": "stream",
          "text": [
            "/usr/local/lib/python3.6/dist-packages/sklearn/model_selection/_split.py:296: FutureWarning: Setting a random_state has no effect since shuffle is False. This will raise an error in 0.24. You should leave random_state to its default (None), or set shuffle=True.\n",
            "  FutureWarning\n"
          ],
          "name": "stderr"
        },
        {
          "output_type": "stream",
          "text": [
            "CART: 0.982174 (0.002398) True 0.000000\n",
            "NB: 0.716442 (0.007104) True 0.000000\n"
          ],
          "name": "stdout"
        },
        {
          "output_type": "stream",
          "text": [
            "/usr/local/lib/python3.6/dist-packages/sklearn/model_selection/_split.py:296: FutureWarning: Setting a random_state has no effect since shuffle is False. This will raise an error in 0.24. You should leave random_state to its default (None), or set shuffle=True.\n",
            "  FutureWarning\n",
            "/usr/local/lib/python3.6/dist-packages/sklearn/model_selection/_split.py:296: FutureWarning: Setting a random_state has no effect since shuffle is False. This will raise an error in 0.24. You should leave random_state to its default (None), or set shuffle=True.\n",
            "  FutureWarning\n"
          ],
          "name": "stderr"
        },
        {
          "output_type": "stream",
          "text": [
            "RF: 0.989120 (0.001362) True 0.000000\n"
          ],
          "name": "stdout"
        },
        {
          "output_type": "stream",
          "text": [
            "/usr/local/lib/python3.6/dist-packages/sklearn/model_selection/_split.py:296: FutureWarning: Setting a random_state has no effect since shuffle is False. This will raise an error in 0.24. You should leave random_state to its default (None), or set shuffle=True.\n",
            "  FutureWarning\n"
          ],
          "name": "stderr"
        },
        {
          "output_type": "stream",
          "text": [
            "SVM: 0.648381 (0.010028) True 0.000000\n",
            " == 5.4 Select Best Model, Compare Algorithms == \n"
          ],
          "name": "stdout"
        },
        {
          "output_type": "display_data",
          "data": {
            "image/png": "[encoded data removed]",
            "text/plain": [
              "<Figure size 432x288 with 1 Axes>"
            ]
          },
          "metadata": {
            "tags": [],
            "needs_background": "light"
          }
        }
      ]
    },
    {
      "cell_type": "code",
      "metadata": {
        "id": "sUG75h2hUYp4",
        "colab_type": "code",
        "colab": {
          "base_uri": "https://localhost:8080/",
          "height": 1000
        },
        "outputId": "57626480-d23f-4572-9fee-db41091162e5"
      },
      "source": [
        "test_size = 0.33\n",
        "X_train, X_test, Y_train, Y_test = train_test_split(sepsis_attr, label, test_size=test_size,\n",
        "random_state=7)\n",
        "\n",
        "param_grid = {'C': [0.001, 0.01, 0.1, 1, 10, 100, 1000], 'penalty': ['l2','l1']}\n",
        "logr = GridSearchCV(LogisticRegression(class_weight='balanced'), param_grid, scoring='accuracy')\n",
        "logr.fit(X_train, Y_train)\n",
        "print(\"logr.best_score=\",logr.best_score_)\n",
        "print(\"logr.best_estimator_.C=\",logr.best_estimator_.C)\n",
        "print(\"logr.best_estimator_.penalty=\",logr.best_estimator_.penalty)"
      ],
      "execution_count": 69,
      "outputs": [
        {
          "output_type": "stream",
          "text": [
            "/usr/local/lib/python3.6/dist-packages/sklearn/linear_model/_logistic.py:940: ConvergenceWarning: lbfgs failed to converge (status=1):\n",
            "STOP: TOTAL NO. of ITERATIONS REACHED LIMIT.\n",
            "\n",
            "Increase the number of iterations (max_iter) or scale the data as shown in:\n",
            "    https://scikit-learn.org/stable/modules/preprocessing.html\n",
            "Please also refer to the documentation for alternative solver options:\n",
            "    https://scikit-learn.org/stable/modules/linear_model.html#logistic-regression\n",
            "  extra_warning_msg=_LOGISTIC_SOLVER_CONVERGENCE_MSG)\n",
            "/usr/local/lib/python3.6/dist-packages/sklearn/model_selection/_validation.py:536: FitFailedWarning: Estimator fit failed. The score on this train-test partition for these parameters will be set to nan. Details: \n",
            "ValueError: Solver lbfgs supports only 'l2' or 'none' penalties, got l1 penalty.\n",
            "\n",
            "  FitFailedWarning)\n",
            "/usr/local/lib/python3.6/dist-packages/sklearn/linear_model/_logistic.py:940: ConvergenceWarning: lbfgs failed to converge (status=1):\n",
            "STOP: TOTAL NO. of ITERATIONS REACHED LIMIT.\n",
            "\n",
            "Increase the number of iterations (max_iter) or scale the data as shown in:\n",
            "    https://scikit-learn.org/stable/modules/preprocessing.html\n",
            "Please also refer to the documentation for alternative solver options:\n",
            "    https://scikit-learn.org/stable/modules/linear_model.html#logistic-regression\n",
            "  extra_warning_msg=_LOGISTIC_SOLVER_CONVERGENCE_MSG)\n",
            "/usr/local/lib/python3.6/dist-packages/sklearn/linear_model/_logistic.py:940: ConvergenceWarning: lbfgs failed to converge (status=1):\n",
            "STOP: TOTAL NO. of ITERATIONS REACHED LIMIT.\n",
            "\n",
            "Increase the number of iterations (max_iter) or scale the data as shown in:\n",
            "    https://scikit-learn.org/stable/modules/preprocessing.html\n",
            "Please also refer to the documentation for alternative solver options:\n",
            "    https://scikit-learn.org/stable/modules/linear_model.html#logistic-regression\n",
            "  extra_warning_msg=_LOGISTIC_SOLVER_CONVERGENCE_MSG)\n",
            "/usr/local/lib/python3.6/dist-packages/sklearn/linear_model/_logistic.py:940: ConvergenceWarning: lbfgs failed to converge (status=1):\n",
            "STOP: TOTAL NO. of ITERATIONS REACHED LIMIT.\n",
            "\n",
            "Increase the number of iterations (max_iter) or scale the data as shown in:\n",
            "    https://scikit-learn.org/stable/modules/preprocessing.html\n",
            "Please also refer to the documentation for alternative solver options:\n",
            "    https://scikit-learn.org/stable/modules/linear_model.html#logistic-regression\n",
            "  extra_warning_msg=_LOGISTIC_SOLVER_CONVERGENCE_MSG)\n",
            "/usr/local/lib/python3.6/dist-packages/sklearn/model_selection/_validation.py:536: FitFailedWarning: Estimator fit failed. The score on this train-test partition for these parameters will be set to nan. Details: \n",
            "ValueError: Solver lbfgs supports only 'l2' or 'none' penalties, got l1 penalty.\n",
            "\n",
            "  FitFailedWarning)\n",
            "/usr/local/lib/python3.6/dist-packages/sklearn/linear_model/_logistic.py:940: ConvergenceWarning: lbfgs failed to converge (status=1):\n",
            "STOP: TOTAL NO. of ITERATIONS REACHED LIMIT.\n",
            "\n",
            "Increase the number of iterations (max_iter) or scale the data as shown in:\n",
            "    https://scikit-learn.org/stable/modules/preprocessing.html\n",
            "Please also refer to the documentation for alternative solver options:\n",
            "    https://scikit-learn.org/stable/modules/linear_model.html#logistic-regression\n",
            "  extra_warning_msg=_LOGISTIC_SOLVER_CONVERGENCE_MSG)\n",
            "/usr/local/lib/python3.6/dist-packages/sklearn/linear_model/_logistic.py:940: ConvergenceWarning: lbfgs failed to converge (status=1):\n",
            "STOP: TOTAL NO. of ITERATIONS REACHED LIMIT.\n",
            "\n",
            "Increase the number of iterations (max_iter) or scale the data as shown in:\n",
            "    https://scikit-learn.org/stable/modules/preprocessing.html\n",
            "Please also refer to the documentation for alternative solver options:\n",
            "    https://scikit-learn.org/stable/modules/linear_model.html#logistic-regression\n",
            "  extra_warning_msg=_LOGISTIC_SOLVER_CONVERGENCE_MSG)\n",
            "/usr/local/lib/python3.6/dist-packages/sklearn/model_selection/_validation.py:536: FitFailedWarning: Estimator fit failed. The score on this train-test partition for these parameters will be set to nan. Details: \n",
            "ValueError: Solver lbfgs supports only 'l2' or 'none' penalties, got l1 penalty.\n",
            "\n",
            "  FitFailedWarning)\n",
            "/usr/local/lib/python3.6/dist-packages/sklearn/linear_model/_logistic.py:940: ConvergenceWarning: lbfgs failed to converge (status=1):\n",
            "STOP: TOTAL NO. of ITERATIONS REACHED LIMIT.\n",
            "\n",
            "Increase the number of iterations (max_iter) or scale the data as shown in:\n",
            "    https://scikit-learn.org/stable/modules/preprocessing.html\n",
            "Please also refer to the documentation for alternative solver options:\n",
            "    https://scikit-learn.org/stable/modules/linear_model.html#logistic-regression\n",
            "  extra_warning_msg=_LOGISTIC_SOLVER_CONVERGENCE_MSG)\n",
            "/usr/local/lib/python3.6/dist-packages/sklearn/linear_model/_logistic.py:940: ConvergenceWarning: lbfgs failed to converge (status=1):\n",
            "STOP: TOTAL NO. of ITERATIONS REACHED LIMIT.\n",
            "\n",
            "Increase the number of iterations (max_iter) or scale the data as shown in:\n",
            "    https://scikit-learn.org/stable/modules/preprocessing.html\n",
            "Please also refer to the documentation for alternative solver options:\n",
            "    https://scikit-learn.org/stable/modules/linear_model.html#logistic-regression\n",
            "  extra_warning_msg=_LOGISTIC_SOLVER_CONVERGENCE_MSG)\n",
            "/usr/local/lib/python3.6/dist-packages/sklearn/model_selection/_validation.py:536: FitFailedWarning: Estimator fit failed. The score on this train-test partition for these parameters will be set to nan. Details: \n",
            "ValueError: Solver lbfgs supports only 'l2' or 'none' penalties, got l1 penalty.\n",
            "\n",
            "  FitFailedWarning)\n",
            "/usr/local/lib/python3.6/dist-packages/sklearn/linear_model/_logistic.py:940: ConvergenceWarning: lbfgs failed to converge (status=1):\n",
            "STOP: TOTAL NO. of ITERATIONS REACHED LIMIT.\n",
            "\n",
            "Increase the number of iterations (max_iter) or scale the data as shown in:\n",
            "    https://scikit-learn.org/stable/modules/preprocessing.html\n",
            "Please also refer to the documentation for alternative solver options:\n",
            "    https://scikit-learn.org/stable/modules/linear_model.html#logistic-regression\n",
            "  extra_warning_msg=_LOGISTIC_SOLVER_CONVERGENCE_MSG)\n",
            "/usr/local/lib/python3.6/dist-packages/sklearn/linear_model/_logistic.py:940: ConvergenceWarning: lbfgs failed to converge (status=1):\n",
            "STOP: TOTAL NO. of ITERATIONS REACHED LIMIT.\n",
            "\n",
            "Increase the number of iterations (max_iter) or scale the data as shown in:\n",
            "    https://scikit-learn.org/stable/modules/preprocessing.html\n",
            "Please also refer to the documentation for alternative solver options:\n",
            "    https://scikit-learn.org/stable/modules/linear_model.html#logistic-regression\n",
            "  extra_warning_msg=_LOGISTIC_SOLVER_CONVERGENCE_MSG)\n",
            "/usr/local/lib/python3.6/dist-packages/sklearn/linear_model/_logistic.py:940: ConvergenceWarning: lbfgs failed to converge (status=1):\n",
            "STOP: TOTAL NO. of ITERATIONS REACHED LIMIT.\n",
            "\n",
            "Increase the number of iterations (max_iter) or scale the data as shown in:\n",
            "    https://scikit-learn.org/stable/modules/preprocessing.html\n",
            "Please also refer to the documentation for alternative solver options:\n",
            "    https://scikit-learn.org/stable/modules/linear_model.html#logistic-regression\n",
            "  extra_warning_msg=_LOGISTIC_SOLVER_CONVERGENCE_MSG)\n",
            "/usr/local/lib/python3.6/dist-packages/sklearn/model_selection/_validation.py:536: FitFailedWarning: Estimator fit failed. The score on this train-test partition for these parameters will be set to nan. Details: \n",
            "ValueError: Solver lbfgs supports only 'l2' or 'none' penalties, got l1 penalty.\n",
            "\n",
            "  FitFailedWarning)\n",
            "/usr/local/lib/python3.6/dist-packages/sklearn/linear_model/_logistic.py:940: ConvergenceWarning: lbfgs failed to converge (status=1):\n",
            "STOP: TOTAL NO. of ITERATIONS REACHED LIMIT.\n",
            "\n",
            "Increase the number of iterations (max_iter) or scale the data as shown in:\n",
            "    https://scikit-learn.org/stable/modules/preprocessing.html\n",
            "Please also refer to the documentation for alternative solver options:\n",
            "    https://scikit-learn.org/stable/modules/linear_model.html#logistic-regression\n",
            "  extra_warning_msg=_LOGISTIC_SOLVER_CONVERGENCE_MSG)\n",
            "/usr/local/lib/python3.6/dist-packages/sklearn/linear_model/_logistic.py:940: ConvergenceWarning: lbfgs failed to converge (status=1):\n",
            "STOP: TOTAL NO. of ITERATIONS REACHED LIMIT.\n",
            "\n",
            "Increase the number of iterations (max_iter) or scale the data as shown in:\n",
            "    https://scikit-learn.org/stable/modules/preprocessing.html\n",
            "Please also refer to the documentation for alternative solver options:\n",
            "    https://scikit-learn.org/stable/modules/linear_model.html#logistic-regression\n",
            "  extra_warning_msg=_LOGISTIC_SOLVER_CONVERGENCE_MSG)\n",
            "/usr/local/lib/python3.6/dist-packages/sklearn/linear_model/_logistic.py:940: ConvergenceWarning: lbfgs failed to converge (status=1):\n",
            "STOP: TOTAL NO. of ITERATIONS REACHED LIMIT.\n",
            "\n",
            "Increase the number of iterations (max_iter) or scale the data as shown in:\n",
            "    https://scikit-learn.org/stable/modules/preprocessing.html\n",
            "Please also refer to the documentation for alternative solver options:\n",
            "    https://scikit-learn.org/stable/modules/linear_model.html#logistic-regression\n",
            "  extra_warning_msg=_LOGISTIC_SOLVER_CONVERGENCE_MSG)\n",
            "/usr/local/lib/python3.6/dist-packages/sklearn/linear_model/_logistic.py:940: ConvergenceWarning: lbfgs failed to converge (status=1):\n",
            "STOP: TOTAL NO. of ITERATIONS REACHED LIMIT.\n",
            "\n",
            "Increase the number of iterations (max_iter) or scale the data as shown in:\n",
            "    https://scikit-learn.org/stable/modules/preprocessing.html\n",
            "Please also refer to the documentation for alternative solver options:\n",
            "    https://scikit-learn.org/stable/modules/linear_model.html#logistic-regression\n",
            "  extra_warning_msg=_LOGISTIC_SOLVER_CONVERGENCE_MSG)\n",
            "/usr/local/lib/python3.6/dist-packages/sklearn/model_selection/_validation.py:536: FitFailedWarning: Estimator fit failed. The score on this train-test partition for these parameters will be set to nan. Details: \n",
            "ValueError: Solver lbfgs supports only 'l2' or 'none' penalties, got l1 penalty.\n",
            "\n",
            "  FitFailedWarning)\n",
            "/usr/local/lib/python3.6/dist-packages/sklearn/linear_model/_logistic.py:940: ConvergenceWarning: lbfgs failed to converge (status=1):\n",
            "STOP: TOTAL NO. of ITERATIONS REACHED LIMIT.\n",
            "\n",
            "Increase the number of iterations (max_iter) or scale the data as shown in:\n",
            "    https://scikit-learn.org/stable/modules/preprocessing.html\n",
            "Please also refer to the documentation for alternative solver options:\n",
            "    https://scikit-learn.org/stable/modules/linear_model.html#logistic-regression\n",
            "  extra_warning_msg=_LOGISTIC_SOLVER_CONVERGENCE_MSG)\n",
            "/usr/local/lib/python3.6/dist-packages/sklearn/model_selection/_validation.py:536: FitFailedWarning: Estimator fit failed. The score on this train-test partition for these parameters will be set to nan. Details: \n",
            "ValueError: Solver lbfgs supports only 'l2' or 'none' penalties, got l1 penalty.\n",
            "\n",
            "  FitFailedWarning)\n"
          ],
          "name": "stderr"
        },
        {
          "output_type": "stream",
          "text": [
            "logr.best_score= 0.7813432835820896\n",
            "logr.best_estimator_.C= 10\n",
            "logr.best_estimator_.penalty= l2\n"
          ],
          "name": "stdout"
        }
      ]
    },
    {
      "cell_type": "code",
      "metadata": {
        "id": "uI-JCS53i6rv",
        "colab_type": "code",
        "colab": {
          "base_uri": "https://localhost:8080/",
          "height": 170
        },
        "outputId": "f8056996-3567-4689-8b12-253b6fcea254"
      },
      "source": [
        "#building model for baseline\n",
        "model = LogisticRegression(class_weight='balanced')\n",
        "y_score = model.fit(sepsis_attr, label)\n",
        "result = model.score(X_test, Y_test) # determine r2 value\n",
        "print(\"baseline accuracy on X_test without grid search=\",result)"
      ],
      "execution_count": 71,
      "outputs": [
        {
          "output_type": "stream",
          "text": [
            "baseline accuracy on X_test without grid search= 0.7754545454545455\n"
          ],
          "name": "stdout"
        },
        {
          "output_type": "stream",
          "text": [
            "/usr/local/lib/python3.6/dist-packages/sklearn/linear_model/_logistic.py:940: ConvergenceWarning: lbfgs failed to converge (status=1):\n",
            "STOP: TOTAL NO. of ITERATIONS REACHED LIMIT.\n",
            "\n",
            "Increase the number of iterations (max_iter) or scale the data as shown in:\n",
            "    https://scikit-learn.org/stable/modules/preprocessing.html\n",
            "Please also refer to the documentation for alternative solver options:\n",
            "    https://scikit-learn.org/stable/modules/linear_model.html#logistic-regression\n",
            "  extra_warning_msg=_LOGISTIC_SOLVER_CONVERGENCE_MSG)\n"
          ],
          "name": "stderr"
        }
      ]
    },
    {
      "cell_type": "code",
      "metadata": {
        "id": "tDBgWwh5jRnw",
        "colab_type": "code",
        "colab": {
          "base_uri": "https://localhost:8080/",
          "height": 170
        },
        "outputId": "ec892964-a249-4473-efff-b9bd50c41176"
      },
      "source": [
        "#building model with grid search selected parameters\n",
        "model = LogisticRegression(class_weight='balanced',C=logr.best_estimator_.C, penalty=logr.best_estimator_.penalty)\n",
        "y_score = model.fit(sepsis_attr, label)\n",
        "result = model.score(X_test, Y_test) # determine r2 value\n",
        "print(\"accuracy with grid search selected C and penalty_model, and before storing to disk\", result)"
      ],
      "execution_count": 72,
      "outputs": [
        {
          "output_type": "stream",
          "text": [
            "accuracy with grid search selected C and penalty_model, and before storing to disk 0.7748484848484849\n"
          ],
          "name": "stdout"
        },
        {
          "output_type": "stream",
          "text": [
            "/usr/local/lib/python3.6/dist-packages/sklearn/linear_model/_logistic.py:940: ConvergenceWarning: lbfgs failed to converge (status=1):\n",
            "STOP: TOTAL NO. of ITERATIONS REACHED LIMIT.\n",
            "\n",
            "Increase the number of iterations (max_iter) or scale the data as shown in:\n",
            "    https://scikit-learn.org/stable/modules/preprocessing.html\n",
            "Please also refer to the documentation for alternative solver options:\n",
            "    https://scikit-learn.org/stable/modules/linear_model.html#logistic-regression\n",
            "  extra_warning_msg=_LOGISTIC_SOLVER_CONVERGENCE_MSG)\n"
          ],
          "name": "stderr"
        }
      ]
    },
    {
      "cell_type": "code",
      "metadata": {
        "id": "J_p80jgnj5LK",
        "colab_type": "code",
        "colab": {}
      },
      "source": [
        "# build and save model using Pickle\n",
        "from random import *\n",
        "import pickle"
      ],
      "execution_count": 74,
      "outputs": []
    },
    {
      "cell_type": "code",
      "metadata": {
        "id": "F4m9BjNYkXb5",
        "colab_type": "code",
        "colab": {}
      },
      "source": [
        "# final model\n",
        "from sklearn.model_selection import train_test_split\n",
        "from sklearn.metrics import classification_report\n",
        "from sklearn.metrics import confusion_matrix\n",
        "from sklearn.metrics import accuracy_score\n",
        "from sklearn.metrics import roc_curve, auc"
      ],
      "execution_count": 78,
      "outputs": []
    },
    {
      "cell_type": "code",
      "metadata": {
        "id": "pfr2oHsRjvSS",
        "colab_type": "code",
        "colab": {
          "base_uri": "https://localhost:8080/",
          "height": 255
        },
        "outputId": "4f0d9f27-a8fe-470e-b79a-49f84c121f29"
      },
      "source": [
        "delta0_predictions=model.predict(X_test)\n",
        "print(\"delta0_predictions\")\n",
        "print(\"accuracy_score=\",accuracy_score(Y_test, delta0_predictions))\n",
        "tn, fp, fn, tp=confusion_matrix(Y_test, delta0_predictions).ravel()\n",
        "print(\"tn, fp, fn, tp:\", tn, fp, fn, tp)\n",
        "sensitivity_tpr = float(tp)/(float(tp)+float(fp))\n",
        "specificity_tnr = float(tn)/(float(tn)+float(fp))\n",
        "print(\"sensitivity_tpr,specificity_tnr:\", sensitivity_tpr,specificity_tnr)\n",
        "print(classification_report(Y_test, delta0_predictions))\n",
        "\n",
        "delta0_probs=model.predict_proba(X_test)\n",
        "fpr, tpr, thresholds = roc_curve(Y_test, delta0_probs[:, 1])\n",
        "roc_auc = auc(fpr, tpr)\n",
        "print(\"delta0_roc_auc:\", roc_auc)"
      ],
      "execution_count": 80,
      "outputs": [
        {
          "output_type": "stream",
          "text": [
            "delta0_predictions\n",
            "accuracy_score= 0.7748484848484849\n",
            "tn, fp, fn, tp: 5007 1450 36 107\n",
            "sensitivity_tpr,specificity_tnr: 0.06872190109184328 0.7754375096794177\n",
            "              precision    recall  f1-score   support\n",
            "\n",
            "         0.0       0.99      0.78      0.87      6457\n",
            "         1.0       0.07      0.75      0.13       143\n",
            "\n",
            "    accuracy                           0.77      6600\n",
            "   macro avg       0.53      0.76      0.50      6600\n",
            "weighted avg       0.97      0.77      0.85      6600\n",
            "\n",
            "delta0_roc_auc: 0.7828756345095202\n"
          ],
          "name": "stdout"
        }
      ]
    },
    {
      "cell_type": "code",
      "metadata": {
        "id": "uoU7ZjEdkGt0",
        "colab_type": "code",
        "colab": {
          "base_uri": "https://localhost:8080/",
          "height": 295
        },
        "outputId": "129905e8-bed4-43cf-fd8c-4c43759ff576"
      },
      "source": [
        "plt.figure()\n",
        "lw = 2\n",
        "plt.plot(fpr, tpr, color='darkorange',\n",
        "         lw=lw, label='ROC curve (area = %0.2f)' % roc_auc)\n",
        "plt.plot([0, 1], [0, 1], color='navy', lw=lw, linestyle='--')\n",
        "plt.xlim([0.0, 1.0])\n",
        "plt.ylim([0.0, 1.05])\n",
        "plt.xlabel('False Positive Rate')\n",
        "plt.ylabel('True Positive Rate')\n",
        "plt.title('Positive Test ROC')\n",
        "plt.legend(loc=\"lower right\")\n",
        "plt.show()"
      ],
      "execution_count": 81,
      "outputs": [
        {
          "output_type": "display_data",
          "data": {
            "image/png": "[encoded data removed]",
            "text/plain": [
              "<Figure size 432x288 with 1 Axes>"
            ]
          },
          "metadata": {
            "tags": [],
            "needs_background": "light"
          }
        }
      ]
    },
    {
      "cell_type": "code",
      "metadata": {
        "id": "PkGBxdqEkmX_",
        "colab_type": "code",
        "colab": {
          "base_uri": "https://localhost:8080/",
          "height": 306
        },
        "outputId": "ca1aede0-9345-4b92-e8f9-20ebd5e160af"
      },
      "source": [
        "print(\"model.self.classes_\",model.classes_)\n",
        "delta_range=[-.02, 0, 0.02, 0.04, 0.06, 0.08, .10, .12]\n",
        "i=0\n",
        "sensitivity_tpr=[0.0] * len(delta_range)\n",
        "specificity_tnr=[0.0] * len(delta_range)\n",
        "for delta in delta_range:\t\n",
        "\tprobs=model.predict_proba(X_test)\n",
        "\treport = [[ins[0], ins[1], 1] if (ins[1] > (ins[0]+delta)) else [ins[0], ins[1], 0] for ins in probs]\n",
        "\treport_df = pd.DataFrame(report, columns=['neg_prob','pos_prob','pred'])\n",
        "\tpredictions = np.array(report_df.values)[:,2]\n",
        "\ttn, fp, fn, tp=confusion_matrix(Y_test, predictions).ravel()\n",
        "\tsensitivity_tpr[i]= float(tp)/(float(tp)+float(fn))\n",
        "\tspecificity_tnr[i]= float(tn)/(float(tn)+float(fp))\n",
        "\tprint(\"deltaX,sensitivity_tpr,specificity_tnr:\", delta, sensitivity_tpr[i],specificity_tnr[i]) \n",
        "\t#print(\"accuracy_score=\",accuracy_score(Y_test, predictions))\n",
        "\tprint(\"confusion_matrix: tn, fp, fn, tp:\", tn, fp, fn, tp)\n",
        "\t#print(classification_report(Y_test, predictions))\n",
        "\ti=i+1"
      ],
      "execution_count": 83,
      "outputs": [
        {
          "output_type": "stream",
          "text": [
            "model.self.classes_ [0. 1.]\n",
            "deltaX,sensitivity_tpr,specificity_tnr: -0.02 0.7832167832167832 0.7458572092302928\n",
            "confusion_matrix: tn, fp, fn, tp: 4816 1641 31 112\n",
            "deltaX,sensitivity_tpr,specificity_tnr: 0 0.7482517482517482 0.7754375096794177\n",
            "confusion_matrix: tn, fp, fn, tp: 5007 1450 36 107\n",
            "deltaX,sensitivity_tpr,specificity_tnr: 0.02 0.7272727272727273 0.8023850085178875\n",
            "confusion_matrix: tn, fp, fn, tp: 5181 1276 39 104\n",
            "deltaX,sensitivity_tpr,specificity_tnr: 0.04 0.6993006993006993 0.8265448350627226\n",
            "confusion_matrix: tn, fp, fn, tp: 5337 1120 43 100\n",
            "deltaX,sensitivity_tpr,specificity_tnr: 0.06 0.6503496503496503 0.8449744463373083\n",
            "confusion_matrix: tn, fp, fn, tp: 5456 1001 50 93\n",
            "deltaX,sensitivity_tpr,specificity_tnr: 0.08 0.6223776223776224 0.8604615146352795\n",
            "confusion_matrix: tn, fp, fn, tp: 5556 901 54 89\n",
            "deltaX,sensitivity_tpr,specificity_tnr: 0.1 0.5804195804195804 0.8719219451757783\n",
            "confusion_matrix: tn, fp, fn, tp: 5630 827 60 83\n",
            "deltaX,sensitivity_tpr,specificity_tnr: 0.12 0.5454545454545454 0.8815239275205203\n",
            "confusion_matrix: tn, fp, fn, tp: 5692 765 65 78\n"
          ],
          "name": "stdout"
        }
      ]
    },
    {
      "cell_type": "code",
      "metadata": {
        "id": "9S-K6qHsk53d",
        "colab_type": "code",
        "colab": {
          "base_uri": "https://localhost:8080/",
          "height": 279
        },
        "outputId": "47c4200f-030a-4ca4-93d1-302097e16a23"
      },
      "source": [
        "from matplotlib.legend_handler import HandlerLine2D\n",
        "\n",
        "plt.clf()\n",
        "pred_legend,=plt.plot(delta_range, sensitivity_tpr, 'r', marker='x', label=\"sensitivity,tpr\") \n",
        "prob_legend,=plt.plot(delta_range, specificity_tnr, 'b', linestyle='--', marker='o', label=\"specificity,tnr\")\n",
        "plt.legend(handler_map={pred_legend: HandlerLine2D(numpoints=4)})\n",
        "plt.xlabel('delta')\n",
        "plt.ylabel('rate(0-1)')\n",
        "plt.show()"
      ],
      "execution_count": 84,
      "outputs": [
        {
          "output_type": "display_data",
          "data": {
            "image/png": "[encoded data removed]",
            "text/plain": [
              "<Figure size 432x288 with 1 Axes>"
            ]
          },
          "metadata": {
            "tags": [],
            "needs_background": "light"
          }
        }
      ]
    },
    {
      "cell_type": "code",
      "metadata": {
        "id": "KkV7cZUalDA4",
        "colab_type": "code",
        "colab": {
          "base_uri": "https://localhost:8080/",
          "height": 34
        },
        "outputId": "102b1135-f89b-43fe-e974-65a61d1d62dc"
      },
      "source": [
        "delta=-0.10\n",
        "print(\"cross-over of sensitivity and specificity lie at about delta=\", delta)\n",
        "report=[[ins[0], ins[1], 1] if (ins[1] > (ins[0]+delta)) else [ins[0], ins[1], 0] for ins in probs]\n",
        "report_df=pd.DataFrame(report, columns=['neg_prob','pos_prob','pred'])\n",
        "predictions=np.array(report_df.values)[:,2]\n",
        "positive_prob=np.array(report_df.values)[:,1]"
      ],
      "execution_count": 85,
      "outputs": [
        {
          "output_type": "stream",
          "text": [
            "cross-over of sensitivity and specificity lie at about delta= -0.1\n"
          ],
          "name": "stdout"
        }
      ]
    },
    {
      "cell_type": "code",
      "metadata": {
        "id": "QSBtVGRGlZ6E",
        "colab_type": "code",
        "colab": {
          "base_uri": "https://localhost:8080/",
          "height": 221
        },
        "outputId": "4d2a3cba-e822-4fe7-9cd7-43d6cb0c116c"
      },
      "source": [
        "print(\"accuracy_score=\",accuracy_score(Y_test, predictions))\n",
        "tn, fp, fn, tp=confusion_matrix(Y_test, predictions).ravel()\n",
        "print(\"confusion_matrix: tn, fp, fn, tp:\", tn, fp, fn, tp)\n",
        "sensitivity_tpr= float(tp)/(float(tp)+float(fn))\n",
        "specificity_tnr= float(tn)/(float(tn)+float(fp))\n",
        "print(\"deltaX,sensitivity_tpr,specificity_tnr:\", delta, sensitivity_tpr,specificity_tnr) \n",
        "print(classification_report(Y_test, predictions))"
      ],
      "execution_count": 86,
      "outputs": [
        {
          "output_type": "stream",
          "text": [
            "accuracy_score= 0.6039393939393939\n",
            "confusion_matrix: tn, fp, fn, tp: 3859 2598 16 127\n",
            "deltaX,sensitivity_tpr,specificity_tnr: -0.1 0.8881118881118881 0.5976459656187084\n",
            "              precision    recall  f1-score   support\n",
            "\n",
            "         0.0       1.00      0.60      0.75      6457\n",
            "         1.0       0.05      0.89      0.09       143\n",
            "\n",
            "    accuracy                           0.60      6600\n",
            "   macro avg       0.52      0.74      0.42      6600\n",
            "weighted avg       0.98      0.60      0.73      6600\n",
            "\n"
          ],
          "name": "stdout"
        }
      ]
    },
    {
      "cell_type": "code",
      "metadata": {
        "id": "b39fCQHClmGZ",
        "colab_type": "code",
        "colab": {
          "base_uri": "https://localhost:8080/",
          "height": 279
        },
        "outputId": "7624abad-989e-4db0-fae5-26ec4a83b48d"
      },
      "source": [
        "# sort instances by (a) class, and then (b) positive probability for plotting\n",
        "report_df=report_df.sort_values(by=['pred','pos_prob'])\n",
        "predictions=np.array(report_df.values)[:,2]\n",
        "positive_prob=np.array(report_df.values)[:,1]\n",
        "\n",
        "plt.clf()\n",
        "pred_legend,=plt.plot(predictions, 'r', label=\"prediction\") \n",
        "prob_legend,=plt.plot(positive_prob, 'b', label=\"+ve probability\")\n",
        "\n",
        "plt.legend(handler_map={pred_legend: HandlerLine2D(numpoints=4)})\n",
        "plt.xlabel('instance#')\n",
        "plt.ylabel('probability(0-1)')\n",
        "\n",
        "plt.show()"
      ],
      "execution_count": 88,
      "outputs": [
        {
          "output_type": "display_data",
          "data": {
            "image/png": "[encoded data removed]",
            "text/plain": [
              "<Figure size 432x288 with 1 Axes>"
            ]
          },
          "metadata": {
            "tags": [],
            "needs_background": "light"
          }
        }
      ]
    },
    {
      "cell_type": "code",
      "metadata": {
        "id": "D72hkZrhlv10",
        "colab_type": "code",
        "colab": {}
      },
      "source": [
        ""
      ],
      "execution_count": null,
      "outputs": []
    }
  ]
}