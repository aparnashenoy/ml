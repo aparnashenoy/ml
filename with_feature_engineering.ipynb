{
  "nbformat": 4,
  "nbformat_minor": 0,
  "metadata": {
    "colab": {
      "name": "with feature engineering.ipynb",
      "provenance": [],
      "authorship_tag": "ABX9TyOTbEOA2Q9W1f3NWzNZOnWQ",
      "include_colab_link": true
    },
    "kernelspec": {
      "name": "python3",
      "display_name": "Python 3"
    }
  },
  "cells": [
    {
      "cell_type": "markdown",
      "metadata": {
        "id": "view-in-github",
        "colab_type": "text"
      },
      "source": [
        "<a href=\"https://colab.research.google.com/github/aparnashenoy/ml/blob/master/with_feature_engineering.ipynb\" target=\"_parent\"><img src=\"https://colab.research.google.com/assets/colab-badge.svg\" alt=\"Open In Colab\"/></a>"
      ]
    },
    {
      "cell_type": "code",
      "metadata": {
        "colab": {
          "base_uri": "https://localhost:8080/"
        },
        "id": "7V-zM7VazCPq",
        "outputId": "1fd5e74d-81a5-471b-f20a-55663490d0b4"
      },
      "source": [
        "from google.colab import drive\r\n",
        "drive.mount('/gdrive')"
      ],
      "execution_count": 1,
      "outputs": [
        {
          "output_type": "stream",
          "text": [
            "Mounted at /gdrive\n"
          ],
          "name": "stdout"
        }
      ]
    },
    {
      "cell_type": "code",
      "metadata": {
        "id": "dD91Zmkn6gyk"
      },
      "source": [
        "import numpy as np\r\n",
        "import pandas as pd\r\n",
        "import matplotlib.pyplot as plt\r\n",
        "import seaborn as sns\r\n",
        "%matplotlib inline"
      ],
      "execution_count": 2,
      "outputs": []
    },
    {
      "cell_type": "code",
      "metadata": {
        "id": "NnsC3pPV6uNB"
      },
      "source": [
        "path = '/gdrive/My Drive/'"
      ],
      "execution_count": 3,
      "outputs": []
    },
    {
      "cell_type": "code",
      "metadata": {
        "id": "oCXfYq6465Mp"
      },
      "source": [
        "data_train_test = pd.read_csv(path +'Copy of train.psv', sep='|')"
      ],
      "execution_count": 4,
      "outputs": []
    },
    {
      "cell_type": "code",
      "metadata": {
        "colab": {
          "base_uri": "https://localhost:8080/",
          "height": 379
        },
        "id": "WtO3SvuH6HoX",
        "outputId": "4a1f2f8d-7ce9-47f2-dd94-98b992e0b076"
      },
      "source": [
        "data_train_test.head(10)"
      ],
      "execution_count": 5,
      "outputs": [
        {
          "output_type": "execute_result",
          "data": {
            "text/html": [
              "<div>\n",
              "<style scoped>\n",
              "    .dataframe tbody tr th:only-of-type {\n",
              "        vertical-align: middle;\n",
              "    }\n",
              "\n",
              "    .dataframe tbody tr th {\n",
              "        vertical-align: top;\n",
              "    }\n",
              "\n",
              "    .dataframe thead th {\n",
              "        text-align: right;\n",
              "    }\n",
              "</style>\n",
              "<table border=\"1\" class=\"dataframe\">\n",
              "  <thead>\n",
              "    <tr style=\"text-align: right;\">\n",
              "      <th></th>\n",
              "      <th>HR</th>\n",
              "      <th>O2Sat</th>\n",
              "      <th>Temp</th>\n",
              "      <th>SBP</th>\n",
              "      <th>MAP</th>\n",
              "      <th>DBP</th>\n",
              "      <th>Resp</th>\n",
              "      <th>EtCO2</th>\n",
              "      <th>BaseExcess</th>\n",
              "      <th>HCO3</th>\n",
              "      <th>FiO2</th>\n",
              "      <th>pH</th>\n",
              "      <th>PaCO2</th>\n",
              "      <th>SaO2</th>\n",
              "      <th>AST</th>\n",
              "      <th>BUN</th>\n",
              "      <th>Alkalinephos</th>\n",
              "      <th>Calcium</th>\n",
              "      <th>Chloride</th>\n",
              "      <th>Creatinine</th>\n",
              "      <th>Bilirubin_direct</th>\n",
              "      <th>Glucose</th>\n",
              "      <th>Lactate</th>\n",
              "      <th>Magnesium</th>\n",
              "      <th>Phosphate</th>\n",
              "      <th>Potassium</th>\n",
              "      <th>Bilirubin_total</th>\n",
              "      <th>TroponinI</th>\n",
              "      <th>Hct</th>\n",
              "      <th>Hgb</th>\n",
              "      <th>PTT</th>\n",
              "      <th>WBC</th>\n",
              "      <th>Fibrinogen</th>\n",
              "      <th>Platelets</th>\n",
              "      <th>Age</th>\n",
              "      <th>Gender</th>\n",
              "      <th>Unit1</th>\n",
              "      <th>Unit2</th>\n",
              "      <th>HospAdmTime</th>\n",
              "      <th>ICULOS</th>\n",
              "      <th>SepsisLabel</th>\n",
              "    </tr>\n",
              "  </thead>\n",
              "  <tbody>\n",
              "    <tr>\n",
              "      <th>0</th>\n",
              "      <td>99.0</td>\n",
              "      <td>100.0</td>\n",
              "      <td>NaN</td>\n",
              "      <td>NaN</td>\n",
              "      <td>71.0</td>\n",
              "      <td>NaN</td>\n",
              "      <td>13.5</td>\n",
              "      <td>NaN</td>\n",
              "      <td>NaN</td>\n",
              "      <td>NaN</td>\n",
              "      <td>NaN</td>\n",
              "      <td>NaN</td>\n",
              "      <td>NaN</td>\n",
              "      <td>NaN</td>\n",
              "      <td>NaN</td>\n",
              "      <td>NaN</td>\n",
              "      <td>NaN</td>\n",
              "      <td>NaN</td>\n",
              "      <td>NaN</td>\n",
              "      <td>NaN</td>\n",
              "      <td>NaN</td>\n",
              "      <td>NaN</td>\n",
              "      <td>NaN</td>\n",
              "      <td>NaN</td>\n",
              "      <td>NaN</td>\n",
              "      <td>NaN</td>\n",
              "      <td>NaN</td>\n",
              "      <td>NaN</td>\n",
              "      <td>NaN</td>\n",
              "      <td>NaN</td>\n",
              "      <td>NaN</td>\n",
              "      <td>NaN</td>\n",
              "      <td>NaN</td>\n",
              "      <td>NaN</td>\n",
              "      <td>69.66</td>\n",
              "      <td>0</td>\n",
              "      <td>1.0</td>\n",
              "      <td>0.0</td>\n",
              "      <td>-0.02</td>\n",
              "      <td>2</td>\n",
              "      <td>0</td>\n",
              "    </tr>\n",
              "    <tr>\n",
              "      <th>1</th>\n",
              "      <td>97.5</td>\n",
              "      <td>100.0</td>\n",
              "      <td>NaN</td>\n",
              "      <td>NaN</td>\n",
              "      <td>NaN</td>\n",
              "      <td>NaN</td>\n",
              "      <td>15.0</td>\n",
              "      <td>NaN</td>\n",
              "      <td>-16.0</td>\n",
              "      <td>16.0</td>\n",
              "      <td>NaN</td>\n",
              "      <td>7.19</td>\n",
              "      <td>25.0</td>\n",
              "      <td>NaN</td>\n",
              "      <td>72.5</td>\n",
              "      <td>13.5</td>\n",
              "      <td>58.0</td>\n",
              "      <td>8.1</td>\n",
              "      <td>112.5</td>\n",
              "      <td>1.7</td>\n",
              "      <td>NaN</td>\n",
              "      <td>73.0</td>\n",
              "      <td>8.6</td>\n",
              "      <td>1.75</td>\n",
              "      <td>3.2</td>\n",
              "      <td>4.4</td>\n",
              "      <td>3.65</td>\n",
              "      <td>NaN</td>\n",
              "      <td>26.9</td>\n",
              "      <td>8.35</td>\n",
              "      <td>74.4</td>\n",
              "      <td>15.65</td>\n",
              "      <td>104.0</td>\n",
              "      <td>93.0</td>\n",
              "      <td>69.66</td>\n",
              "      <td>0</td>\n",
              "      <td>1.0</td>\n",
              "      <td>0.0</td>\n",
              "      <td>-0.02</td>\n",
              "      <td>3</td>\n",
              "      <td>0</td>\n",
              "    </tr>\n",
              "    <tr>\n",
              "      <th>2</th>\n",
              "      <td>96.0</td>\n",
              "      <td>100.0</td>\n",
              "      <td>NaN</td>\n",
              "      <td>NaN</td>\n",
              "      <td>70.0</td>\n",
              "      <td>NaN</td>\n",
              "      <td>13.0</td>\n",
              "      <td>NaN</td>\n",
              "      <td>NaN</td>\n",
              "      <td>NaN</td>\n",
              "      <td>NaN</td>\n",
              "      <td>NaN</td>\n",
              "      <td>NaN</td>\n",
              "      <td>NaN</td>\n",
              "      <td>NaN</td>\n",
              "      <td>NaN</td>\n",
              "      <td>NaN</td>\n",
              "      <td>NaN</td>\n",
              "      <td>NaN</td>\n",
              "      <td>NaN</td>\n",
              "      <td>NaN</td>\n",
              "      <td>NaN</td>\n",
              "      <td>NaN</td>\n",
              "      <td>NaN</td>\n",
              "      <td>NaN</td>\n",
              "      <td>NaN</td>\n",
              "      <td>NaN</td>\n",
              "      <td>NaN</td>\n",
              "      <td>NaN</td>\n",
              "      <td>NaN</td>\n",
              "      <td>NaN</td>\n",
              "      <td>NaN</td>\n",
              "      <td>NaN</td>\n",
              "      <td>NaN</td>\n",
              "      <td>69.66</td>\n",
              "      <td>0</td>\n",
              "      <td>1.0</td>\n",
              "      <td>0.0</td>\n",
              "      <td>-0.02</td>\n",
              "      <td>4</td>\n",
              "      <td>0</td>\n",
              "    </tr>\n",
              "    <tr>\n",
              "      <th>3</th>\n",
              "      <td>100.0</td>\n",
              "      <td>99.0</td>\n",
              "      <td>NaN</td>\n",
              "      <td>NaN</td>\n",
              "      <td>75.0</td>\n",
              "      <td>NaN</td>\n",
              "      <td>14.0</td>\n",
              "      <td>NaN</td>\n",
              "      <td>-15.0</td>\n",
              "      <td>11.0</td>\n",
              "      <td>NaN</td>\n",
              "      <td>7.24</td>\n",
              "      <td>24.0</td>\n",
              "      <td>96.0</td>\n",
              "      <td>NaN</td>\n",
              "      <td>12.0</td>\n",
              "      <td>NaN</td>\n",
              "      <td>7.7</td>\n",
              "      <td>113.0</td>\n",
              "      <td>1.6</td>\n",
              "      <td>NaN</td>\n",
              "      <td>85.0</td>\n",
              "      <td>8.9</td>\n",
              "      <td>1.60</td>\n",
              "      <td>2.9</td>\n",
              "      <td>4.7</td>\n",
              "      <td>NaN</td>\n",
              "      <td>NaN</td>\n",
              "      <td>NaN</td>\n",
              "      <td>NaN</td>\n",
              "      <td>NaN</td>\n",
              "      <td>NaN</td>\n",
              "      <td>NaN</td>\n",
              "      <td>NaN</td>\n",
              "      <td>69.66</td>\n",
              "      <td>0</td>\n",
              "      <td>1.0</td>\n",
              "      <td>0.0</td>\n",
              "      <td>-0.02</td>\n",
              "      <td>5</td>\n",
              "      <td>0</td>\n",
              "    </tr>\n",
              "    <tr>\n",
              "      <th>4</th>\n",
              "      <td>102.0</td>\n",
              "      <td>100.0</td>\n",
              "      <td>36.00</td>\n",
              "      <td>NaN</td>\n",
              "      <td>74.0</td>\n",
              "      <td>NaN</td>\n",
              "      <td>17.0</td>\n",
              "      <td>NaN</td>\n",
              "      <td>NaN</td>\n",
              "      <td>NaN</td>\n",
              "      <td>NaN</td>\n",
              "      <td>NaN</td>\n",
              "      <td>NaN</td>\n",
              "      <td>NaN</td>\n",
              "      <td>NaN</td>\n",
              "      <td>NaN</td>\n",
              "      <td>NaN</td>\n",
              "      <td>NaN</td>\n",
              "      <td>NaN</td>\n",
              "      <td>NaN</td>\n",
              "      <td>NaN</td>\n",
              "      <td>NaN</td>\n",
              "      <td>NaN</td>\n",
              "      <td>NaN</td>\n",
              "      <td>NaN</td>\n",
              "      <td>NaN</td>\n",
              "      <td>NaN</td>\n",
              "      <td>NaN</td>\n",
              "      <td>NaN</td>\n",
              "      <td>NaN</td>\n",
              "      <td>NaN</td>\n",
              "      <td>NaN</td>\n",
              "      <td>NaN</td>\n",
              "      <td>NaN</td>\n",
              "      <td>69.66</td>\n",
              "      <td>0</td>\n",
              "      <td>1.0</td>\n",
              "      <td>0.0</td>\n",
              "      <td>-0.02</td>\n",
              "      <td>6</td>\n",
              "      <td>0</td>\n",
              "    </tr>\n",
              "    <tr>\n",
              "      <th>5</th>\n",
              "      <td>92.0</td>\n",
              "      <td>100.0</td>\n",
              "      <td>NaN</td>\n",
              "      <td>NaN</td>\n",
              "      <td>79.0</td>\n",
              "      <td>NaN</td>\n",
              "      <td>14.0</td>\n",
              "      <td>NaN</td>\n",
              "      <td>-13.0</td>\n",
              "      <td>10.0</td>\n",
              "      <td>NaN</td>\n",
              "      <td>7.29</td>\n",
              "      <td>22.0</td>\n",
              "      <td>NaN</td>\n",
              "      <td>68.0</td>\n",
              "      <td>11.0</td>\n",
              "      <td>49.0</td>\n",
              "      <td>7.3</td>\n",
              "      <td>115.0</td>\n",
              "      <td>1.5</td>\n",
              "      <td>NaN</td>\n",
              "      <td>78.0</td>\n",
              "      <td>7.4</td>\n",
              "      <td>1.60</td>\n",
              "      <td>2.6</td>\n",
              "      <td>4.7</td>\n",
              "      <td>3.40</td>\n",
              "      <td>NaN</td>\n",
              "      <td>27.0</td>\n",
              "      <td>8.40</td>\n",
              "      <td>55.0</td>\n",
              "      <td>15.60</td>\n",
              "      <td>NaN</td>\n",
              "      <td>80.0</td>\n",
              "      <td>69.66</td>\n",
              "      <td>0</td>\n",
              "      <td>1.0</td>\n",
              "      <td>0.0</td>\n",
              "      <td>-0.02</td>\n",
              "      <td>7</td>\n",
              "      <td>0</td>\n",
              "    </tr>\n",
              "    <tr>\n",
              "      <th>6</th>\n",
              "      <td>90.0</td>\n",
              "      <td>100.0</td>\n",
              "      <td>NaN</td>\n",
              "      <td>NaN</td>\n",
              "      <td>62.0</td>\n",
              "      <td>NaN</td>\n",
              "      <td>15.0</td>\n",
              "      <td>NaN</td>\n",
              "      <td>NaN</td>\n",
              "      <td>NaN</td>\n",
              "      <td>NaN</td>\n",
              "      <td>NaN</td>\n",
              "      <td>NaN</td>\n",
              "      <td>NaN</td>\n",
              "      <td>NaN</td>\n",
              "      <td>NaN</td>\n",
              "      <td>NaN</td>\n",
              "      <td>NaN</td>\n",
              "      <td>NaN</td>\n",
              "      <td>NaN</td>\n",
              "      <td>NaN</td>\n",
              "      <td>NaN</td>\n",
              "      <td>NaN</td>\n",
              "      <td>NaN</td>\n",
              "      <td>NaN</td>\n",
              "      <td>NaN</td>\n",
              "      <td>NaN</td>\n",
              "      <td>NaN</td>\n",
              "      <td>NaN</td>\n",
              "      <td>NaN</td>\n",
              "      <td>NaN</td>\n",
              "      <td>NaN</td>\n",
              "      <td>NaN</td>\n",
              "      <td>NaN</td>\n",
              "      <td>69.66</td>\n",
              "      <td>0</td>\n",
              "      <td>1.0</td>\n",
              "      <td>0.0</td>\n",
              "      <td>-0.02</td>\n",
              "      <td>8</td>\n",
              "      <td>0</td>\n",
              "    </tr>\n",
              "    <tr>\n",
              "      <th>7</th>\n",
              "      <td>95.0</td>\n",
              "      <td>99.0</td>\n",
              "      <td>NaN</td>\n",
              "      <td>151.0</td>\n",
              "      <td>93.0</td>\n",
              "      <td>67.0</td>\n",
              "      <td>21.0</td>\n",
              "      <td>NaN</td>\n",
              "      <td>-11.0</td>\n",
              "      <td>NaN</td>\n",
              "      <td>NaN</td>\n",
              "      <td>7.36</td>\n",
              "      <td>20.0</td>\n",
              "      <td>NaN</td>\n",
              "      <td>NaN</td>\n",
              "      <td>NaN</td>\n",
              "      <td>NaN</td>\n",
              "      <td>NaN</td>\n",
              "      <td>NaN</td>\n",
              "      <td>NaN</td>\n",
              "      <td>NaN</td>\n",
              "      <td>69.0</td>\n",
              "      <td>5.8</td>\n",
              "      <td>NaN</td>\n",
              "      <td>NaN</td>\n",
              "      <td>NaN</td>\n",
              "      <td>NaN</td>\n",
              "      <td>NaN</td>\n",
              "      <td>NaN</td>\n",
              "      <td>NaN</td>\n",
              "      <td>NaN</td>\n",
              "      <td>NaN</td>\n",
              "      <td>NaN</td>\n",
              "      <td>NaN</td>\n",
              "      <td>69.66</td>\n",
              "      <td>0</td>\n",
              "      <td>1.0</td>\n",
              "      <td>0.0</td>\n",
              "      <td>-0.02</td>\n",
              "      <td>9</td>\n",
              "      <td>0</td>\n",
              "    </tr>\n",
              "    <tr>\n",
              "      <th>8</th>\n",
              "      <td>92.0</td>\n",
              "      <td>100.0</td>\n",
              "      <td>36.89</td>\n",
              "      <td>94.0</td>\n",
              "      <td>64.0</td>\n",
              "      <td>49.0</td>\n",
              "      <td>16.0</td>\n",
              "      <td>NaN</td>\n",
              "      <td>NaN</td>\n",
              "      <td>NaN</td>\n",
              "      <td>NaN</td>\n",
              "      <td>NaN</td>\n",
              "      <td>NaN</td>\n",
              "      <td>NaN</td>\n",
              "      <td>NaN</td>\n",
              "      <td>NaN</td>\n",
              "      <td>NaN</td>\n",
              "      <td>NaN</td>\n",
              "      <td>NaN</td>\n",
              "      <td>NaN</td>\n",
              "      <td>NaN</td>\n",
              "      <td>NaN</td>\n",
              "      <td>NaN</td>\n",
              "      <td>NaN</td>\n",
              "      <td>NaN</td>\n",
              "      <td>NaN</td>\n",
              "      <td>NaN</td>\n",
              "      <td>NaN</td>\n",
              "      <td>NaN</td>\n",
              "      <td>NaN</td>\n",
              "      <td>NaN</td>\n",
              "      <td>NaN</td>\n",
              "      <td>NaN</td>\n",
              "      <td>NaN</td>\n",
              "      <td>69.66</td>\n",
              "      <td>0</td>\n",
              "      <td>1.0</td>\n",
              "      <td>0.0</td>\n",
              "      <td>-0.02</td>\n",
              "      <td>10</td>\n",
              "      <td>0</td>\n",
              "    </tr>\n",
              "    <tr>\n",
              "      <th>9</th>\n",
              "      <td>91.0</td>\n",
              "      <td>100.0</td>\n",
              "      <td>36.72</td>\n",
              "      <td>106.0</td>\n",
              "      <td>68.0</td>\n",
              "      <td>51.0</td>\n",
              "      <td>15.0</td>\n",
              "      <td>NaN</td>\n",
              "      <td>NaN</td>\n",
              "      <td>NaN</td>\n",
              "      <td>NaN</td>\n",
              "      <td>NaN</td>\n",
              "      <td>NaN</td>\n",
              "      <td>NaN</td>\n",
              "      <td>NaN</td>\n",
              "      <td>NaN</td>\n",
              "      <td>NaN</td>\n",
              "      <td>NaN</td>\n",
              "      <td>NaN</td>\n",
              "      <td>NaN</td>\n",
              "      <td>NaN</td>\n",
              "      <td>NaN</td>\n",
              "      <td>NaN</td>\n",
              "      <td>NaN</td>\n",
              "      <td>NaN</td>\n",
              "      <td>NaN</td>\n",
              "      <td>NaN</td>\n",
              "      <td>NaN</td>\n",
              "      <td>NaN</td>\n",
              "      <td>NaN</td>\n",
              "      <td>NaN</td>\n",
              "      <td>NaN</td>\n",
              "      <td>NaN</td>\n",
              "      <td>NaN</td>\n",
              "      <td>69.66</td>\n",
              "      <td>0</td>\n",
              "      <td>1.0</td>\n",
              "      <td>0.0</td>\n",
              "      <td>-0.02</td>\n",
              "      <td>11</td>\n",
              "      <td>0</td>\n",
              "    </tr>\n",
              "  </tbody>\n",
              "</table>\n",
              "</div>"
            ],
            "text/plain": [
              "      HR  O2Sat   Temp    SBP  ...  Unit2  HospAdmTime  ICULOS  SepsisLabel\n",
              "0   99.0  100.0    NaN    NaN  ...    0.0        -0.02       2            0\n",
              "1   97.5  100.0    NaN    NaN  ...    0.0        -0.02       3            0\n",
              "2   96.0  100.0    NaN    NaN  ...    0.0        -0.02       4            0\n",
              "3  100.0   99.0    NaN    NaN  ...    0.0        -0.02       5            0\n",
              "4  102.0  100.0  36.00    NaN  ...    0.0        -0.02       6            0\n",
              "5   92.0  100.0    NaN    NaN  ...    0.0        -0.02       7            0\n",
              "6   90.0  100.0    NaN    NaN  ...    0.0        -0.02       8            0\n",
              "7   95.0   99.0    NaN  151.0  ...    0.0        -0.02       9            0\n",
              "8   92.0  100.0  36.89   94.0  ...    0.0        -0.02      10            0\n",
              "9   91.0  100.0  36.72  106.0  ...    0.0        -0.02      11            0\n",
              "\n",
              "[10 rows x 41 columns]"
            ]
          },
          "metadata": {
            "tags": []
          },
          "execution_count": 5
        }
      ]
    },
    {
      "cell_type": "code",
      "metadata": {
        "id": "CDYS6O0z6Yst"
      },
      "source": [
        "data_val = pd.read_csv(path + 'validation.psv', sep='|')"
      ],
      "execution_count": 6,
      "outputs": []
    },
    {
      "cell_type": "code",
      "metadata": {
        "id": "h3uSpZ6I7a5e"
      },
      "source": [
        "def fe_hr(data_train_test):\r\n",
        "    data_train_test.loc[(data_train_test['HR'] >= 100) & (data_train_test['Age'] >= 10 ),\r\n",
        "            'custom_hr'] = 'abnormal'\r\n",
        "    data_train_test.loc[(data_train_test['HR'] < 100) & (data_train_test['HR'] > 60) & (data_train_test['Age'] >= 10 ),\r\n",
        "            'custom_hr'] = 'normal'\r\n",
        "    data_train_test.loc[(data_train_test['HR'] >= 70) & (data_train_test['HR'] < 190) & (data_train_test['Age'] < 10 ),\r\n",
        "            'custom_hr'] = 'normal'\r\n",
        "    data_train_test.loc[((data_train_test['HR'] < 70) | (data_train_test['HR'] >= 190)) & (data_train_test['Age'] < 10 ),\r\n",
        "            'custom_hr'] = 'abnormal'\r\n",
        "    data_train_test['custom_hr'].fillna('Missing', inplace=True)\r\n",
        "    return data_train_test"
      ],
      "execution_count": 7,
      "outputs": []
    },
    {
      "cell_type": "code",
      "metadata": {
        "id": "AgN6Y_HSy_eb"
      },
      "source": [
        "def fe_temp(data_train_test):\r\n",
        "    data_train_test.loc[(data_train_test['Temp'] >= 36.4) & (data_train_test['Temp'] < 37.6), \r\n",
        "            'custom_temp'] = 'normal'\r\n",
        "    data_train_test.loc[(data_train_test['Temp'] < 36.4) | (data_train_test['Temp'] >= 37.6), \r\n",
        "            'custom_temp'] = 'abnormal'\r\n",
        "\r\n",
        "    data_train_test['custom_temp'].fillna('Missing', inplace=True)\r\n",
        "    return data_train_test"
      ],
      "execution_count": 8,
      "outputs": []
    },
    {
      "cell_type": "code",
      "metadata": {
        "id": "CilFOzJnzT6U"
      },
      "source": [
        "def fe_age(data_train_test):\r\n",
        "    data_train_test.loc[data_train_test['Age'] >=65, 'custom_age'] = 'old'\r\n",
        "    data_train_test.loc[data_train_test['Age'] <1, 'custom_age'] = 'infant'\r\n",
        "    data_train_test.loc[(data_train_test['Age'] >=1) & (data_train_test['Age'] <65), \r\n",
        "            'custom_age'] = 'child/adult'\r\n",
        "    return data_train_test"
      ],
      "execution_count": 9,
      "outputs": []
    },
    {
      "cell_type": "code",
      "metadata": {
        "id": "S9e6GS_oz3jE"
      },
      "source": [
        "def fe_o2stat(data_train_test):\r\n",
        "    data_train_test.loc[(data_train_test['O2Sat'] >= 90) & (data_train_test['O2Sat'] < 100), \r\n",
        "            'custom_o2stat'] = 'normal'\r\n",
        "    data_train_test.loc[(data_train_test['O2Sat'] < 90) & (data_train_test['O2Sat'] >= 0), \r\n",
        "            'custom_o2stat'] = 'abnormal'\r\n",
        "\r\n",
        "    data_train_test['custom_o2stat'].fillna('Missing', inplace=True)\r\n",
        "    return data_train_test"
      ],
      "execution_count": 10,
      "outputs": []
    },
    {
      "cell_type": "code",
      "metadata": {
        "id": "JfeAeUim1MT_"
      },
      "source": [
        "    def fe_bp(data_train_test):\r\n",
        "      data_train_test.loc[(data_train_test['SBP'] <90) & (data_train_test['DBP'] <60), 'custom_bp'] = 'low'\r\n",
        "\r\n",
        "      data_train_test.loc[(data_train_test['SBP'].between(90,120, inclusive=True)) & \r\n",
        "            (data_train_test['DBP'].between(60,80, inclusive=True)), \r\n",
        "            'custom_bp'] = 'normal'\r\n",
        "\r\n",
        "\r\n",
        "      data_train_test.loc[(data_train_test['SBP'].between(120,140, inclusive=True)) & \r\n",
        "            (data_train_test['DBP'].between(80,90, inclusive=True)), \r\n",
        "            'custom_bp'] = 'elevated'\r\n",
        "\r\n",
        "\r\n",
        "      data_train_test.loc[(data_train_test['SBP'] > 140 ) & \r\n",
        "            (data_train_test['DBP'] > 90 ), 'custom_bp'] = 'high'\r\n",
        "\r\n",
        "      data_train_test['custom_bp'].fillna('Missing', inplace=True)\r\n",
        "      return data_train_test"
      ],
      "execution_count": 11,
      "outputs": []
    },
    {
      "cell_type": "code",
      "metadata": {
        "id": "JFNDc0Qf1ueF"
      },
      "source": [
        "def fe_rr(data_train_test):\r\n",
        "    data_train_test.loc[(data_train_test['Resp'].between(30,60)) & (data_train_test['Age'] <1), \r\n",
        "            'custom_resp'] = 'normal'\r\n",
        "    data_train_test.loc[((data_train_test['Resp'] < 30) | (data_train_test['Resp'] > 60)) & \r\n",
        "             (data_train_test['Age'] <1) ,'custom_resp'] = 'abnormal'\r\n",
        "\r\n",
        "\r\n",
        "    data_train_test.loc[(data_train_test['Resp'].between(24,40)) & (data_train_test['Age'].between(1,3)), \r\n",
        "            'custom_resp'] = 'normal'\r\n",
        "    data_train_test.loc[((data_train_test['Resp'] < 24) | (data_train_test['Resp'] > 40)) & \r\n",
        "             (data_train_test['Age'].between(1,3)) ,'custom_resp'] = 'abnormal'\r\n",
        "\r\n",
        "\r\n",
        "    data_train_test.loc[(data_train_test['Resp'].between(22,34)) & (data_train_test['Age'].between(3,6)), \r\n",
        "            'custom_resp'] = 'normal'\r\n",
        "    data_train_test.loc[((data_train_test['Resp'] < 22) | (data_train_test['Resp'] > 34)) & \r\n",
        "             (data_train_test['Age'].between(3,6)) ,'custom_resp'] = 'abnormal'\r\n",
        "\r\n",
        "\r\n",
        "    data_train_test.loc[(data_train_test['Resp'].between(18,30)) & (data_train_test['Age'].between(6,12)), \r\n",
        "            'custom_resp'] = 'normal'\r\n",
        "    data_train_test.loc[((data_train_test['Resp'] < 18) | (data_train_test['Resp'] > 30)) & \r\n",
        "             (data_train_test['Age'].between(6,12)) ,'custom_resp'] = 'abnormal'\r\n",
        "\r\n",
        "\r\n",
        "    data_train_test.loc[(data_train_test['Resp'].between(12,20)) & (data_train_test['Age'] >12), \r\n",
        "            'custom_resp'] = 'normal'\r\n",
        "    data_train_test.loc[((data_train_test['Resp'] < 12) | (data_train_test['Resp'] > 20)) & (data_train_test['Age'] >12),\r\n",
        "            'custom_resp'] = 'abnormal'\r\n",
        "\r\n",
        "    data_train_test['custom_resp'].fillna('Missing', inplace=True)\r\n",
        "\r\n",
        "\r\n",
        "    return data_train_test"
      ],
      "execution_count": 12,
      "outputs": []
    },
    {
      "cell_type": "code",
      "metadata": {
        "id": "MJMttP6m2vpV"
      },
      "source": [
        "data_train_test = fe_age(data_train_test)\r\n",
        "data_train_test = fe_bp(data_train_test)\r\n",
        "data_train_test = fe_hr(data_train_test)\r\n",
        "data_train_test = fe_o2stat(data_train_test)\r\n",
        "data_train_test = fe_temp(data_train_test)\r\n",
        "data_train_test = fe_rr(data_train_test)\r\n",
        "\r\n",
        "\r\n",
        "\r\n",
        "data_val = fe_age(data_val)\r\n",
        "data_val = fe_bp(data_val)\r\n",
        "data_val = fe_hr(data_val)\r\n",
        "data_train_test = fe_o2stat(data_val)\r\n",
        "data_train_test = fe_temp(data_val)\r\n",
        "data_train_test = fe_rr(data_val)"
      ],
      "execution_count": 13,
      "outputs": []
    },
    {
      "cell_type": "code",
      "metadata": {
        "colab": {
          "base_uri": "https://localhost:8080/",
          "height": 224
        },
        "id": "TiybUCiuyErk",
        "outputId": "913fb399-cd91-49cb-ace4-72d26a30eaca"
      },
      "source": [
        "data_train_test.head()"
      ],
      "execution_count": 14,
      "outputs": [
        {
          "output_type": "execute_result",
          "data": {
            "text/html": [
              "<div>\n",
              "<style scoped>\n",
              "    .dataframe tbody tr th:only-of-type {\n",
              "        vertical-align: middle;\n",
              "    }\n",
              "\n",
              "    .dataframe tbody tr th {\n",
              "        vertical-align: top;\n",
              "    }\n",
              "\n",
              "    .dataframe thead th {\n",
              "        text-align: right;\n",
              "    }\n",
              "</style>\n",
              "<table border=\"1\" class=\"dataframe\">\n",
              "  <thead>\n",
              "    <tr style=\"text-align: right;\">\n",
              "      <th></th>\n",
              "      <th>HR</th>\n",
              "      <th>O2Sat</th>\n",
              "      <th>Temp</th>\n",
              "      <th>SBP</th>\n",
              "      <th>MAP</th>\n",
              "      <th>DBP</th>\n",
              "      <th>Resp</th>\n",
              "      <th>EtCO2</th>\n",
              "      <th>BaseExcess</th>\n",
              "      <th>HCO3</th>\n",
              "      <th>FiO2</th>\n",
              "      <th>pH</th>\n",
              "      <th>PaCO2</th>\n",
              "      <th>SaO2</th>\n",
              "      <th>AST</th>\n",
              "      <th>BUN</th>\n",
              "      <th>Alkalinephos</th>\n",
              "      <th>Calcium</th>\n",
              "      <th>Chloride</th>\n",
              "      <th>Creatinine</th>\n",
              "      <th>Bilirubin_direct</th>\n",
              "      <th>Glucose</th>\n",
              "      <th>Lactate</th>\n",
              "      <th>Magnesium</th>\n",
              "      <th>Phosphate</th>\n",
              "      <th>Potassium</th>\n",
              "      <th>Bilirubin_total</th>\n",
              "      <th>TroponinI</th>\n",
              "      <th>Hct</th>\n",
              "      <th>Hgb</th>\n",
              "      <th>PTT</th>\n",
              "      <th>WBC</th>\n",
              "      <th>Fibrinogen</th>\n",
              "      <th>Platelets</th>\n",
              "      <th>Age</th>\n",
              "      <th>Gender</th>\n",
              "      <th>Unit1</th>\n",
              "      <th>Unit2</th>\n",
              "      <th>HospAdmTime</th>\n",
              "      <th>ICULOS</th>\n",
              "      <th>SepsisLabel</th>\n",
              "      <th>custom_age</th>\n",
              "      <th>custom_bp</th>\n",
              "      <th>custom_hr</th>\n",
              "      <th>custom_o2stat</th>\n",
              "      <th>custom_temp</th>\n",
              "      <th>custom_resp</th>\n",
              "    </tr>\n",
              "  </thead>\n",
              "  <tbody>\n",
              "    <tr>\n",
              "      <th>0</th>\n",
              "      <td>NaN</td>\n",
              "      <td>NaN</td>\n",
              "      <td>NaN</td>\n",
              "      <td>NaN</td>\n",
              "      <td>NaN</td>\n",
              "      <td>NaN</td>\n",
              "      <td>NaN</td>\n",
              "      <td>NaN</td>\n",
              "      <td>NaN</td>\n",
              "      <td>NaN</td>\n",
              "      <td>NaN</td>\n",
              "      <td>NaN</td>\n",
              "      <td>NaN</td>\n",
              "      <td>NaN</td>\n",
              "      <td>NaN</td>\n",
              "      <td>NaN</td>\n",
              "      <td>NaN</td>\n",
              "      <td>NaN</td>\n",
              "      <td>NaN</td>\n",
              "      <td>NaN</td>\n",
              "      <td>NaN</td>\n",
              "      <td>NaN</td>\n",
              "      <td>NaN</td>\n",
              "      <td>NaN</td>\n",
              "      <td>NaN</td>\n",
              "      <td>NaN</td>\n",
              "      <td>NaN</td>\n",
              "      <td>NaN</td>\n",
              "      <td>NaN</td>\n",
              "      <td>NaN</td>\n",
              "      <td>NaN</td>\n",
              "      <td>NaN</td>\n",
              "      <td>NaN</td>\n",
              "      <td>NaN</td>\n",
              "      <td>83</td>\n",
              "      <td>0</td>\n",
              "      <td>1.0</td>\n",
              "      <td>0.0</td>\n",
              "      <td>-6.85</td>\n",
              "      <td>1</td>\n",
              "      <td>0</td>\n",
              "      <td>old</td>\n",
              "      <td>Missing</td>\n",
              "      <td>Missing</td>\n",
              "      <td>Missing</td>\n",
              "      <td>Missing</td>\n",
              "      <td>Missing</td>\n",
              "    </tr>\n",
              "    <tr>\n",
              "      <th>1</th>\n",
              "      <td>78.0</td>\n",
              "      <td>95.0</td>\n",
              "      <td>NaN</td>\n",
              "      <td>182.0</td>\n",
              "      <td>94.0</td>\n",
              "      <td>65.0</td>\n",
              "      <td>20.0</td>\n",
              "      <td>NaN</td>\n",
              "      <td>NaN</td>\n",
              "      <td>NaN</td>\n",
              "      <td>NaN</td>\n",
              "      <td>NaN</td>\n",
              "      <td>NaN</td>\n",
              "      <td>NaN</td>\n",
              "      <td>NaN</td>\n",
              "      <td>NaN</td>\n",
              "      <td>NaN</td>\n",
              "      <td>NaN</td>\n",
              "      <td>NaN</td>\n",
              "      <td>NaN</td>\n",
              "      <td>NaN</td>\n",
              "      <td>NaN</td>\n",
              "      <td>NaN</td>\n",
              "      <td>NaN</td>\n",
              "      <td>NaN</td>\n",
              "      <td>NaN</td>\n",
              "      <td>NaN</td>\n",
              "      <td>NaN</td>\n",
              "      <td>NaN</td>\n",
              "      <td>NaN</td>\n",
              "      <td>NaN</td>\n",
              "      <td>NaN</td>\n",
              "      <td>NaN</td>\n",
              "      <td>NaN</td>\n",
              "      <td>83</td>\n",
              "      <td>0</td>\n",
              "      <td>1.0</td>\n",
              "      <td>0.0</td>\n",
              "      <td>-6.85</td>\n",
              "      <td>2</td>\n",
              "      <td>0</td>\n",
              "      <td>old</td>\n",
              "      <td>Missing</td>\n",
              "      <td>normal</td>\n",
              "      <td>normal</td>\n",
              "      <td>Missing</td>\n",
              "      <td>normal</td>\n",
              "    </tr>\n",
              "    <tr>\n",
              "      <th>2</th>\n",
              "      <td>84.0</td>\n",
              "      <td>92.0</td>\n",
              "      <td>NaN</td>\n",
              "      <td>183.0</td>\n",
              "      <td>113.0</td>\n",
              "      <td>72.0</td>\n",
              "      <td>18.0</td>\n",
              "      <td>NaN</td>\n",
              "      <td>NaN</td>\n",
              "      <td>NaN</td>\n",
              "      <td>NaN</td>\n",
              "      <td>NaN</td>\n",
              "      <td>NaN</td>\n",
              "      <td>NaN</td>\n",
              "      <td>NaN</td>\n",
              "      <td>NaN</td>\n",
              "      <td>NaN</td>\n",
              "      <td>NaN</td>\n",
              "      <td>NaN</td>\n",
              "      <td>NaN</td>\n",
              "      <td>NaN</td>\n",
              "      <td>NaN</td>\n",
              "      <td>NaN</td>\n",
              "      <td>NaN</td>\n",
              "      <td>NaN</td>\n",
              "      <td>NaN</td>\n",
              "      <td>NaN</td>\n",
              "      <td>NaN</td>\n",
              "      <td>NaN</td>\n",
              "      <td>NaN</td>\n",
              "      <td>NaN</td>\n",
              "      <td>NaN</td>\n",
              "      <td>NaN</td>\n",
              "      <td>NaN</td>\n",
              "      <td>83</td>\n",
              "      <td>0</td>\n",
              "      <td>1.0</td>\n",
              "      <td>0.0</td>\n",
              "      <td>-6.85</td>\n",
              "      <td>3</td>\n",
              "      <td>0</td>\n",
              "      <td>old</td>\n",
              "      <td>Missing</td>\n",
              "      <td>normal</td>\n",
              "      <td>normal</td>\n",
              "      <td>Missing</td>\n",
              "      <td>normal</td>\n",
              "    </tr>\n",
              "    <tr>\n",
              "      <th>3</th>\n",
              "      <td>86.0</td>\n",
              "      <td>94.0</td>\n",
              "      <td>NaN</td>\n",
              "      <td>190.0</td>\n",
              "      <td>101.0</td>\n",
              "      <td>69.0</td>\n",
              "      <td>22.0</td>\n",
              "      <td>NaN</td>\n",
              "      <td>NaN</td>\n",
              "      <td>NaN</td>\n",
              "      <td>NaN</td>\n",
              "      <td>NaN</td>\n",
              "      <td>NaN</td>\n",
              "      <td>NaN</td>\n",
              "      <td>NaN</td>\n",
              "      <td>NaN</td>\n",
              "      <td>NaN</td>\n",
              "      <td>NaN</td>\n",
              "      <td>NaN</td>\n",
              "      <td>NaN</td>\n",
              "      <td>NaN</td>\n",
              "      <td>78.0</td>\n",
              "      <td>NaN</td>\n",
              "      <td>NaN</td>\n",
              "      <td>NaN</td>\n",
              "      <td>NaN</td>\n",
              "      <td>NaN</td>\n",
              "      <td>NaN</td>\n",
              "      <td>NaN</td>\n",
              "      <td>NaN</td>\n",
              "      <td>NaN</td>\n",
              "      <td>NaN</td>\n",
              "      <td>NaN</td>\n",
              "      <td>NaN</td>\n",
              "      <td>83</td>\n",
              "      <td>0</td>\n",
              "      <td>1.0</td>\n",
              "      <td>0.0</td>\n",
              "      <td>-6.85</td>\n",
              "      <td>4</td>\n",
              "      <td>0</td>\n",
              "      <td>old</td>\n",
              "      <td>Missing</td>\n",
              "      <td>normal</td>\n",
              "      <td>normal</td>\n",
              "      <td>Missing</td>\n",
              "      <td>abnormal</td>\n",
              "    </tr>\n",
              "    <tr>\n",
              "      <th>4</th>\n",
              "      <td>83.0</td>\n",
              "      <td>91.5</td>\n",
              "      <td>NaN</td>\n",
              "      <td>194.5</td>\n",
              "      <td>111.5</td>\n",
              "      <td>82.5</td>\n",
              "      <td>26.0</td>\n",
              "      <td>NaN</td>\n",
              "      <td>NaN</td>\n",
              "      <td>NaN</td>\n",
              "      <td>NaN</td>\n",
              "      <td>NaN</td>\n",
              "      <td>NaN</td>\n",
              "      <td>NaN</td>\n",
              "      <td>NaN</td>\n",
              "      <td>NaN</td>\n",
              "      <td>NaN</td>\n",
              "      <td>NaN</td>\n",
              "      <td>NaN</td>\n",
              "      <td>NaN</td>\n",
              "      <td>NaN</td>\n",
              "      <td>NaN</td>\n",
              "      <td>NaN</td>\n",
              "      <td>NaN</td>\n",
              "      <td>NaN</td>\n",
              "      <td>NaN</td>\n",
              "      <td>NaN</td>\n",
              "      <td>NaN</td>\n",
              "      <td>NaN</td>\n",
              "      <td>NaN</td>\n",
              "      <td>NaN</td>\n",
              "      <td>NaN</td>\n",
              "      <td>NaN</td>\n",
              "      <td>NaN</td>\n",
              "      <td>83</td>\n",
              "      <td>0</td>\n",
              "      <td>1.0</td>\n",
              "      <td>0.0</td>\n",
              "      <td>-6.85</td>\n",
              "      <td>5</td>\n",
              "      <td>0</td>\n",
              "      <td>old</td>\n",
              "      <td>Missing</td>\n",
              "      <td>normal</td>\n",
              "      <td>normal</td>\n",
              "      <td>Missing</td>\n",
              "      <td>abnormal</td>\n",
              "    </tr>\n",
              "  </tbody>\n",
              "</table>\n",
              "</div>"
            ],
            "text/plain": [
              "     HR  O2Sat  Temp    SBP  ...  custom_hr  custom_o2stat  custom_temp  custom_resp\n",
              "0   NaN    NaN   NaN    NaN  ...    Missing        Missing      Missing      Missing\n",
              "1  78.0   95.0   NaN  182.0  ...     normal         normal      Missing       normal\n",
              "2  84.0   92.0   NaN  183.0  ...     normal         normal      Missing       normal\n",
              "3  86.0   94.0   NaN  190.0  ...     normal         normal      Missing     abnormal\n",
              "4  83.0   91.5   NaN  194.5  ...     normal         normal      Missing     abnormal\n",
              "\n",
              "[5 rows x 47 columns]"
            ]
          },
          "metadata": {
            "tags": []
          },
          "execution_count": 14
        }
      ]
    },
    {
      "cell_type": "code",
      "metadata": {
        "id": "x5IqjLXEyJ68"
      },
      "source": [
        "filtered_columns = ['Gender', 'custom_hr', 'custom_temp','custom_age', \r\n",
        "                    'custom_o2stat', 'custom_bp','custom_resp' ,'ICULOS', \r\n",
        "                    'HospAdmTime', 'SepsisLabel']\r\n",
        "\r\n",
        "data_updated  = data_train_test[filtered_columns]\r\n"
      ],
      "execution_count": 15,
      "outputs": []
    },
    {
      "cell_type": "code",
      "metadata": {
        "colab": {
          "base_uri": "https://localhost:8080/",
          "height": 296
        },
        "id": "NRlfOzJR3NtT",
        "outputId": "62b8ba06-5fd2-46de-e96d-a0dd54ba1bbf"
      },
      "source": [
        "sns.set_style('whitegrid')\r\n",
        "sns.countplot(x='SepsisLabel',hue='custom_hr',data=data_updated,palette='rainbow')"
      ],
      "execution_count": 16,
      "outputs": [
        {
          "output_type": "execute_result",
          "data": {
            "text/plain": [
              "<matplotlib.axes._subplots.AxesSubplot at 0x7fa74d720d10>"
            ]
          },
          "metadata": {
            "tags": []
          },
          "execution_count": 16
        },
        {
          "output_type": "display_data",
          "data": {
            "image/png": "[encoded data removed]",
            "text/plain": [
              "<Figure size 432x288 with 1 Axes>"
            ]
          },
          "metadata": {
            "tags": []
          }
        }
      ]
    },
    {
      "cell_type": "code",
      "metadata": {
        "colab": {
          "base_uri": "https://localhost:8080/",
          "height": 461
        },
        "id": "i-Mo_3PV4wo_",
        "outputId": "8d0c8099-5140-4dbd-e129-011edf165f49"
      },
      "source": [
        "plt.figure(figsize=(12, 7))\r\n",
        "sns.boxplot(x='SepsisLabel',y='ICULOS',data=data_updated)"
      ],
      "execution_count": 17,
      "outputs": [
        {
          "output_type": "execute_result",
          "data": {
            "text/plain": [
              "<matplotlib.axes._subplots.AxesSubplot at 0x7fa74d720a50>"
            ]
          },
          "metadata": {
            "tags": []
          },
          "execution_count": 17
        },
        {
          "output_type": "display_data",
          "data": {
            "image/png": "[encoded data removed]",
            "text/plain": [
              "<Figure size 864x504 with 1 Axes>"
            ]
          },
          "metadata": {
            "tags": []
          }
        }
      ]
    },
    {
      "cell_type": "code",
      "metadata": {
        "colab": {
          "base_uri": "https://localhost:8080/"
        },
        "id": "mSz0-oyW9zPP",
        "outputId": "bbcdfd10-e431-4418-dabf-3c5cb85cddbf"
      },
      "source": [
        "from sklearn.preprocessing import LabelEncoder\r\n",
        "customhr_labelencoder = LabelEncoder()\r\n",
        "data_updated['custom_hr']= customhr_labelencoder.fit_transform(data_updated['custom_hr'])"
      ],
      "execution_count": 18,
      "outputs": [
        {
          "output_type": "stream",
          "text": [
            "/usr/local/lib/python3.7/dist-packages/ipykernel_launcher.py:3: SettingWithCopyWarning: \n",
            "A value is trying to be set on a copy of a slice from a DataFrame.\n",
            "Try using .loc[row_indexer,col_indexer] = value instead\n",
            "\n",
            "See the caveats in the documentation: https://pandas.pydata.org/pandas-docs/stable/user_guide/indexing.html#returning-a-view-versus-a-copy\n",
            "  This is separate from the ipykernel package so we can avoid doing imports until\n"
          ],
          "name": "stderr"
        }
      ]
    },
    {
      "cell_type": "code",
      "metadata": {
        "colab": {
          "base_uri": "https://localhost:8080/",
          "height": 204
        },
        "id": "KQ85uD09-bEu",
        "outputId": "f97272b7-066a-41f9-eb4e-274a5145440f"
      },
      "source": [
        "data_updated.head()"
      ],
      "execution_count": 19,
      "outputs": [
        {
          "output_type": "execute_result",
          "data": {
            "text/html": [
              "<div>\n",
              "<style scoped>\n",
              "    .dataframe tbody tr th:only-of-type {\n",
              "        vertical-align: middle;\n",
              "    }\n",
              "\n",
              "    .dataframe tbody tr th {\n",
              "        vertical-align: top;\n",
              "    }\n",
              "\n",
              "    .dataframe thead th {\n",
              "        text-align: right;\n",
              "    }\n",
              "</style>\n",
              "<table border=\"1\" class=\"dataframe\">\n",
              "  <thead>\n",
              "    <tr style=\"text-align: right;\">\n",
              "      <th></th>\n",
              "      <th>Gender</th>\n",
              "      <th>custom_hr</th>\n",
              "      <th>custom_temp</th>\n",
              "      <th>custom_age</th>\n",
              "      <th>custom_o2stat</th>\n",
              "      <th>custom_bp</th>\n",
              "      <th>custom_resp</th>\n",
              "      <th>ICULOS</th>\n",
              "      <th>HospAdmTime</th>\n",
              "      <th>SepsisLabel</th>\n",
              "    </tr>\n",
              "  </thead>\n",
              "  <tbody>\n",
              "    <tr>\n",
              "      <th>0</th>\n",
              "      <td>0</td>\n",
              "      <td>0</td>\n",
              "      <td>Missing</td>\n",
              "      <td>old</td>\n",
              "      <td>Missing</td>\n",
              "      <td>Missing</td>\n",
              "      <td>Missing</td>\n",
              "      <td>1</td>\n",
              "      <td>-6.85</td>\n",
              "      <td>0</td>\n",
              "    </tr>\n",
              "    <tr>\n",
              "      <th>1</th>\n",
              "      <td>0</td>\n",
              "      <td>2</td>\n",
              "      <td>Missing</td>\n",
              "      <td>old</td>\n",
              "      <td>normal</td>\n",
              "      <td>Missing</td>\n",
              "      <td>normal</td>\n",
              "      <td>2</td>\n",
              "      <td>-6.85</td>\n",
              "      <td>0</td>\n",
              "    </tr>\n",
              "    <tr>\n",
              "      <th>2</th>\n",
              "      <td>0</td>\n",
              "      <td>2</td>\n",
              "      <td>Missing</td>\n",
              "      <td>old</td>\n",
              "      <td>normal</td>\n",
              "      <td>Missing</td>\n",
              "      <td>normal</td>\n",
              "      <td>3</td>\n",
              "      <td>-6.85</td>\n",
              "      <td>0</td>\n",
              "    </tr>\n",
              "    <tr>\n",
              "      <th>3</th>\n",
              "      <td>0</td>\n",
              "      <td>2</td>\n",
              "      <td>Missing</td>\n",
              "      <td>old</td>\n",
              "      <td>normal</td>\n",
              "      <td>Missing</td>\n",
              "      <td>abnormal</td>\n",
              "      <td>4</td>\n",
              "      <td>-6.85</td>\n",
              "      <td>0</td>\n",
              "    </tr>\n",
              "    <tr>\n",
              "      <th>4</th>\n",
              "      <td>0</td>\n",
              "      <td>2</td>\n",
              "      <td>Missing</td>\n",
              "      <td>old</td>\n",
              "      <td>normal</td>\n",
              "      <td>Missing</td>\n",
              "      <td>abnormal</td>\n",
              "      <td>5</td>\n",
              "      <td>-6.85</td>\n",
              "      <td>0</td>\n",
              "    </tr>\n",
              "  </tbody>\n",
              "</table>\n",
              "</div>"
            ],
            "text/plain": [
              "   Gender  custom_hr custom_temp  ... ICULOS HospAdmTime SepsisLabel\n",
              "0       0          0     Missing  ...      1       -6.85           0\n",
              "1       0          2     Missing  ...      2       -6.85           0\n",
              "2       0          2     Missing  ...      3       -6.85           0\n",
              "3       0          2     Missing  ...      4       -6.85           0\n",
              "4       0          2     Missing  ...      5       -6.85           0\n",
              "\n",
              "[5 rows x 10 columns]"
            ]
          },
          "metadata": {
            "tags": []
          },
          "execution_count": 19
        }
      ]
    },
    {
      "cell_type": "code",
      "metadata": {
        "colab": {
          "base_uri": "https://localhost:8080/"
        },
        "id": "SYOpnoKt-sfa",
        "outputId": "124c0749-df91-441a-e080-b874f76d09a7"
      },
      "source": [
        "customtemp_labelencoder = LabelEncoder()\r\n",
        "data_updated['custom_temp']= customtemp_labelencoder.fit_transform(data_updated['custom_temp'])\r\n",
        "\r\n",
        "customage_labelencoder = LabelEncoder()\r\n",
        "data_updated['custom_age']= customage_labelencoder.fit_transform(data_updated['custom_age'])\r\n",
        "\r\n",
        "customo2stat_labelencoder = LabelEncoder()\r\n",
        "data_updated['custom_o2stat']= customo2stat_labelencoder.fit_transform(data_updated['custom_o2stat'])\r\n",
        "\r\n",
        "custombp_labelencoder = LabelEncoder()\r\n",
        "data_updated['custom_bp']= custombp_labelencoder.fit_transform(data_updated['custom_bp'])\r\n",
        "\r\n",
        "customresp_labelencoder = LabelEncoder()\r\n",
        "data_updated['custom_resp']= customresp_labelencoder.fit_transform(data_updated['custom_resp'])"
      ],
      "execution_count": 20,
      "outputs": [
        {
          "output_type": "stream",
          "text": [
            "/usr/local/lib/python3.7/dist-packages/ipykernel_launcher.py:2: SettingWithCopyWarning: \n",
            "A value is trying to be set on a copy of a slice from a DataFrame.\n",
            "Try using .loc[row_indexer,col_indexer] = value instead\n",
            "\n",
            "See the caveats in the documentation: https://pandas.pydata.org/pandas-docs/stable/user_guide/indexing.html#returning-a-view-versus-a-copy\n",
            "  \n",
            "/usr/local/lib/python3.7/dist-packages/ipykernel_launcher.py:5: SettingWithCopyWarning: \n",
            "A value is trying to be set on a copy of a slice from a DataFrame.\n",
            "Try using .loc[row_indexer,col_indexer] = value instead\n",
            "\n",
            "See the caveats in the documentation: https://pandas.pydata.org/pandas-docs/stable/user_guide/indexing.html#returning-a-view-versus-a-copy\n",
            "  \"\"\"\n",
            "/usr/local/lib/python3.7/dist-packages/ipykernel_launcher.py:8: SettingWithCopyWarning: \n",
            "A value is trying to be set on a copy of a slice from a DataFrame.\n",
            "Try using .loc[row_indexer,col_indexer] = value instead\n",
            "\n",
            "See the caveats in the documentation: https://pandas.pydata.org/pandas-docs/stable/user_guide/indexing.html#returning-a-view-versus-a-copy\n",
            "  \n",
            "/usr/local/lib/python3.7/dist-packages/ipykernel_launcher.py:11: SettingWithCopyWarning: \n",
            "A value is trying to be set on a copy of a slice from a DataFrame.\n",
            "Try using .loc[row_indexer,col_indexer] = value instead\n",
            "\n",
            "See the caveats in the documentation: https://pandas.pydata.org/pandas-docs/stable/user_guide/indexing.html#returning-a-view-versus-a-copy\n",
            "  # This is added back by InteractiveShellApp.init_path()\n",
            "/usr/local/lib/python3.7/dist-packages/ipykernel_launcher.py:14: SettingWithCopyWarning: \n",
            "A value is trying to be set on a copy of a slice from a DataFrame.\n",
            "Try using .loc[row_indexer,col_indexer] = value instead\n",
            "\n",
            "See the caveats in the documentation: https://pandas.pydata.org/pandas-docs/stable/user_guide/indexing.html#returning-a-view-versus-a-copy\n",
            "  \n"
          ],
          "name": "stderr"
        }
      ]
    },
    {
      "cell_type": "code",
      "metadata": {
        "colab": {
          "base_uri": "https://localhost:8080/",
          "height": 396
        },
        "id": "Tg6ZtVO55J7B",
        "outputId": "f97d57ec-4a65-472e-af0d-db40134ec1dd"
      },
      "source": [
        "plt.figure(figsize=(16, 6))\r\n",
        "sns.heatmap(data_updated.corr())"
      ],
      "execution_count": 21,
      "outputs": [
        {
          "output_type": "execute_result",
          "data": {
            "text/plain": [
              "<matplotlib.axes._subplots.AxesSubplot at 0x7fa74b015cd0>"
            ]
          },
          "metadata": {
            "tags": []
          },
          "execution_count": 21
        },
        {
          "output_type": "display_data",
          "data": {
            "image/png": "[encoded data removed]",
            "text/plain": [
              "<Figure size 1152x432 with 2 Axes>"
            ]
          },
          "metadata": {
            "tags": []
          }
        }
      ]
    },
    {
      "cell_type": "code",
      "metadata": {
        "colab": {
          "base_uri": "https://localhost:8080/",
          "height": 401
        },
        "id": "P85VY28I_14Y",
        "outputId": "312c7846-76c3-4145-c4c0-43fa4cf750c2"
      },
      "source": [
        "plt.figure(figsize=(20, 6))\r\n",
        "mask = np.triu(np.ones_like(data_updated.corr(), dtype=np.bool))\r\n",
        "heatmap = sns.heatmap(data_updated.corr(), mask=mask, vmin=-1, vmax=1, annot=True)\r\n",
        "\r\n",
        "heatmap.set_title('Correlation Heatmap', fontdict={'fontsize':18}, pad=12);"
      ],
      "execution_count": 22,
      "outputs": [
        {
          "output_type": "display_data",
          "data": {
            "image/png": "[encoded data removed]",
            "text/plain": [
              "<Figure size 1440x432 with 2 Axes>"
            ]
          },
          "metadata": {
            "tags": []
          }
        }
      ]
    },
    {
      "cell_type": "code",
      "metadata": {
        "colab": {
          "base_uri": "https://localhost:8080/",
          "height": 730
        },
        "id": "cpgNRF4R_9jP",
        "outputId": "8201515b-09d6-4785-e933-fd68e6306fa8"
      },
      "source": [
        "plt.figure(figsize=(8, 12))\r\n",
        "heatmap = sns.heatmap(data_updated.corr()[['SepsisLabel']].sort_values(by='SepsisLabel', ascending=False), vmin=-1, vmax=1, annot=True, cmap='BrBG')\r\n",
        "heatmap.set_title('Features Correlating with SepsisLabel', fontdict={'fontsize':18}, pad=16);"
      ],
      "execution_count": 23,
      "outputs": [
        {
          "output_type": "display_data",
          "data": {
            "image/png": "[encoded data removed]",
            "text/plain": [
              "<Figure size 576x864 with 2 Axes>"
            ]
          },
          "metadata": {
            "tags": []
          }
        }
      ]
    },
    {
      "cell_type": "code",
      "metadata": {
        "id": "03hrekQUAivm"
      },
      "source": [
        "from sklearn.model_selection import train_test_split\r\n",
        "from sklearn.linear_model import LogisticRegression\r\n",
        "from sklearn.model_selection import GridSearchCV\r\n",
        "from sklearn.model_selection import StratifiedKFold"
      ],
      "execution_count": 24,
      "outputs": []
    },
    {
      "cell_type": "code",
      "metadata": {
        "id": "b6BtvoGbA2hW"
      },
      "source": [
        "X = data_updated[filtered_columns]\r\n",
        "y = data_updated['SepsisLabel']"
      ],
      "execution_count": 25,
      "outputs": []
    },
    {
      "cell_type": "code",
      "metadata": {
        "colab": {
          "base_uri": "https://localhost:8080/"
        },
        "id": "H0DalB57BFX_",
        "outputId": "fa69505f-0205-4919-8da2-c1fb7199db2c"
      },
      "source": [
        "X=np.array(X)\r\n",
        "y=np.array(y)\r\n",
        "X.shape, y.shape"
      ],
      "execution_count": 26,
      "outputs": [
        {
          "output_type": "execute_result",
          "data": {
            "text/plain": [
              "((191344, 10), (191344,))"
            ]
          },
          "metadata": {
            "tags": []
          },
          "execution_count": 26
        }
      ]
    },
    {
      "cell_type": "code",
      "metadata": {
        "colab": {
          "base_uri": "https://localhost:8080/"
        },
        "id": "m9y2oedbBI7m",
        "outputId": "e284e196-504a-4ee8-aa54-66a73cdd23be"
      },
      "source": [
        "from sklearn.model_selection import train_test_split\r\n",
        "X_train, X_test, y_train, y_test = train_test_split(X, y, test_size=0.25, random_state = 1)\r\n",
        "X_train.shape, X_test.shape, y_train.shape, y_test.shape"
      ],
      "execution_count": 27,
      "outputs": [
        {
          "output_type": "execute_result",
          "data": {
            "text/plain": [
              "((143508, 10), (47836, 10), (143508,), (47836,))"
            ]
          },
          "metadata": {
            "tags": []
          },
          "execution_count": 27
        }
      ]
    },
    {
      "cell_type": "code",
      "metadata": {
        "colab": {
          "base_uri": "https://localhost:8080/"
        },
        "id": "kkcEK_ORBNQm",
        "outputId": "2359c83d-1c7a-49fa-a516-ed7a953e64ea"
      },
      "source": [
        "fold = StratifiedKFold(n_splits=5, random_state=1, shuffle = True)\r\n",
        "fold.get_n_splits(X_train, y_train)"
      ],
      "execution_count": 28,
      "outputs": [
        {
          "output_type": "execute_result",
          "data": {
            "text/plain": [
              "5"
            ]
          },
          "metadata": {
            "tags": []
          },
          "execution_count": 28
        }
      ]
    },
    {
      "cell_type": "code",
      "metadata": {
        "colab": {
          "base_uri": "https://localhost:8080/"
        },
        "id": "bnhJM2XjBTj2",
        "outputId": "77f377fe-600f-4b75-9597-ec67813d8709"
      },
      "source": [
        "val = list(np.arange(0.001,1,0.1))\r\n",
        "val"
      ],
      "execution_count": 29,
      "outputs": [
        {
          "output_type": "execute_result",
          "data": {
            "text/plain": [
              "[0.001,\n",
              " 0.101,\n",
              " 0.201,\n",
              " 0.30100000000000005,\n",
              " 0.401,\n",
              " 0.501,\n",
              " 0.6010000000000001,\n",
              " 0.7010000000000001,\n",
              " 0.801,\n",
              " 0.901]"
            ]
          },
          "metadata": {
            "tags": []
          },
          "execution_count": 29
        }
      ]
    },
    {
      "cell_type": "code",
      "metadata": {
        "colab": {
          "base_uri": "https://localhost:8080/"
        },
        "id": "9u8V-EpFBYhe",
        "outputId": "e7538e93-3b2f-43f5-e6a8-b36d8188ec94"
      },
      "source": [
        "parameters = {'solver':('newton-cg', 'liblinear'), 'C':val}\r\n",
        "\r\n",
        "model = LogisticRegression(penalty='l2', n_jobs = -2, max_iter=1000)\r\n",
        "log_reg = GridSearchCV(model, parameters, n_jobs= -2, cv=fold)\r\n",
        "\r\n",
        "log_reg.fit(X_train, y_train)"
      ],
      "execution_count": 31,
      "outputs": [
        {
          "output_type": "execute_result",
          "data": {
            "text/plain": [
              "GridSearchCV(cv=StratifiedKFold(n_splits=5, random_state=1, shuffle=True),\n",
              "             error_score=nan,\n",
              "             estimator=LogisticRegression(C=1.0, class_weight=None, dual=False,\n",
              "                                          fit_intercept=True,\n",
              "                                          intercept_scaling=1, l1_ratio=None,\n",
              "                                          max_iter=1000, multi_class='auto',\n",
              "                                          n_jobs=-2, penalty='l2',\n",
              "                                          random_state=None, solver='lbfgs',\n",
              "                                          tol=0.0001, verbose=0,\n",
              "                                          warm_start=False),\n",
              "             iid='deprecated', n_jobs=-2,\n",
              "             param_grid={'C': [0.001, 0.101, 0.201, 0.30100000000000005, 0.401,\n",
              "                               0.501, 0.6010000000000001, 0.7010000000000001,\n",
              "                               0.801, 0.901],\n",
              "                         'solver': ('newton-cg', 'liblinear')},\n",
              "             pre_dispatch='2*n_jobs', refit=True, return_train_score=False,\n",
              "             scoring=None, verbose=0)"
            ]
          },
          "metadata": {
            "tags": []
          },
          "execution_count": 31
        }
      ]
    },
    {
      "cell_type": "code",
      "metadata": {
        "colab": {
          "base_uri": "https://localhost:8080/"
        },
        "id": "U5BJnWiDBiBu",
        "outputId": "c704b731-fd99-4f73-cadb-8f315a3d251b"
      },
      "source": [
        "print(log_reg.best_params_)"
      ],
      "execution_count": 32,
      "outputs": [
        {
          "output_type": "stream",
          "text": [
            "{'C': 0.101, 'solver': 'newton-cg'}\n"
          ],
          "name": "stdout"
        }
      ]
    },
    {
      "cell_type": "markdown",
      "metadata": {
        "id": "OUWhvifoDQ7a"
      },
      "source": [
        "**logistic regression**"
      ]
    },
    {
      "cell_type": "code",
      "metadata": {
        "colab": {
          "base_uri": "https://localhost:8080/"
        },
        "id": "TLEY-zZXBroW",
        "outputId": "6f38830b-dc71-4c6c-f80c-5243b1ba8327"
      },
      "source": [
        "yt_pred_log_reg = log_reg.predict(X_test)\r\n",
        "from sklearn.metrics import classification_report, accuracy_score\r\n",
        "print(classification_report(y_test, yt_pred_log_reg ))\r\n",
        "\r\n",
        "ac= accuracy_score(y_test, yt_pred_log_reg)\r\n",
        "print('test_accuracy = {} % '.format(ac * 100))"
      ],
      "execution_count": 33,
      "outputs": [
        {
          "output_type": "stream",
          "text": [
            "              precision    recall  f1-score   support\n",
            "\n",
            "           0       1.00      1.00      1.00     47064\n",
            "           1       1.00      1.00      1.00       772\n",
            "\n",
            "    accuracy                           1.00     47836\n",
            "   macro avg       1.00      1.00      1.00     47836\n",
            "weighted avg       1.00      1.00      1.00     47836\n",
            "\n",
            "test_accuracy = 100.0 % \n"
          ],
          "name": "stdout"
        }
      ]
    },
    {
      "cell_type": "code",
      "metadata": {
        "colab": {
          "base_uri": "https://localhost:8080/"
        },
        "id": "zxYM6A3qE4Q9",
        "outputId": "226de8ac-b702-43a5-fb21-054ae2e8dc8d"
      },
      "source": [
        "from sklearn.neighbors import KNeighborsClassifier\r\n",
        "from sklearn.metrics import fbeta_score, make_scorer\r\n",
        "f_scorer = make_scorer(fbeta_score, beta=1)\r\n",
        "\r\n",
        "params = {'n_neighbors':[2, 100, 10, 5, 6, 50,70, 150]}\r\n",
        "\r\n",
        "KNN = KNeighborsClassifier(algorithm='brute')\r\n",
        "Knn_grid = GridSearchCV(KNN, params, n_jobs= -2, cv=fold, scoring=f_scorer, verbose=True)\r\n",
        "\r\n",
        "Knn_grid.fit(X_train, y_train)"
      ],
      "execution_count": 34,
      "outputs": [
        {
          "output_type": "stream",
          "text": [
            "Fitting 5 folds for each of 8 candidates, totalling 40 fits\n"
          ],
          "name": "stdout"
        },
        {
          "output_type": "stream",
          "text": [
            "[Parallel(n_jobs=-2)]: Using backend SequentialBackend with 1 concurrent workers.\n",
            "[Parallel(n_jobs=-2)]: Done  40 out of  40 | elapsed: 38.7min finished\n"
          ],
          "name": "stderr"
        },
        {
          "output_type": "execute_result",
          "data": {
            "text/plain": [
              "GridSearchCV(cv=StratifiedKFold(n_splits=5, random_state=1, shuffle=True),\n",
              "             error_score=nan,\n",
              "             estimator=KNeighborsClassifier(algorithm='brute', leaf_size=30,\n",
              "                                            metric='minkowski',\n",
              "                                            metric_params=None, n_jobs=None,\n",
              "                                            n_neighbors=5, p=2,\n",
              "                                            weights='uniform'),\n",
              "             iid='deprecated', n_jobs=-2,\n",
              "             param_grid={'n_neighbors': [2, 100, 10, 5, 6, 50, 70, 150]},\n",
              "             pre_dispatch='2*n_jobs', refit=True, return_train_score=False,\n",
              "             scoring=make_scorer(fbeta_score, beta=1), verbose=True)"
            ]
          },
          "metadata": {
            "tags": []
          },
          "execution_count": 34
        }
      ]
    },
    {
      "cell_type": "code",
      "metadata": {
        "colab": {
          "base_uri": "https://localhost:8080/"
        },
        "id": "e4iGo0p3Z6pg",
        "outputId": "47b24c91-4948-42de-8ed7-27a056a308e0"
      },
      "source": [
        "print(Knn_grid.best_params_)"
      ],
      "execution_count": 35,
      "outputs": [
        {
          "output_type": "stream",
          "text": [
            "{'n_neighbors': 2}\n"
          ],
          "name": "stdout"
        }
      ]
    },
    {
      "cell_type": "code",
      "metadata": {
        "colab": {
          "base_uri": "https://localhost:8080/"
        },
        "id": "cDsNsP68aLrl",
        "outputId": "45afc5f6-d68b-483f-d7dd-dfb9ac7711e0"
      },
      "source": [
        "yt_pred_knn = Knn_grid.predict(X_test)\r\n",
        "\r\n",
        "print(classification_report(y_test, yt_pred_knn ))\r\n",
        "\r\n",
        "ac= accuracy_score(y_test, yt_pred_knn)\r\n",
        "print('test_accuracy = {} % '.format(ac * 100))"
      ],
      "execution_count": 36,
      "outputs": [
        {
          "output_type": "stream",
          "text": [
            "              precision    recall  f1-score   support\n",
            "\n",
            "           0       0.99      1.00      0.99     47064\n",
            "           1       0.96      0.28      0.43       772\n",
            "\n",
            "    accuracy                           0.99     47836\n",
            "   macro avg       0.97      0.64      0.71     47836\n",
            "weighted avg       0.99      0.99      0.98     47836\n",
            "\n",
            "test_accuracy = 98.81679070156368 % \n"
          ],
          "name": "stdout"
        }
      ]
    },
    {
      "cell_type": "code",
      "metadata": {
        "colab": {
          "base_uri": "https://localhost:8080/"
        },
        "id": "K9x27ExzbCXW",
        "outputId": "925d08d9-7209-4b31-cd1e-d69cf12de0ea"
      },
      "source": [
        "from sklearn.tree import DecisionTreeClassifier\r\n",
        "dtree = DecisionTreeClassifier(criterion = 'gini')\r\n",
        "\r\n",
        "dtree.fit(X_train, y_train)\r\n",
        "\r\n",
        "y_pred_dtree= dtree.predict(X_test)\r\n",
        "\r\n",
        "from sklearn.metrics import classification_report\r\n",
        "print(classification_report(y_test, y_pred_dtree))"
      ],
      "execution_count": 38,
      "outputs": [
        {
          "output_type": "stream",
          "text": [
            "              precision    recall  f1-score   support\n",
            "\n",
            "           0       1.00      1.00      1.00     47064\n",
            "           1       1.00      1.00      1.00       772\n",
            "\n",
            "    accuracy                           1.00     47836\n",
            "   macro avg       1.00      1.00      1.00     47836\n",
            "weighted avg       1.00      1.00      1.00     47836\n",
            "\n"
          ],
          "name": "stdout"
        }
      ]
    },
    {
      "cell_type": "code",
      "metadata": {
        "id": "cz2Y1IENbDot"
      },
      "source": [
        "prune_path = dtree.cost_complexity_pruning_path(X_train, y_train)\r\n",
        "alphas = prune_path.ccp_alphas\r\n",
        "impurities = prune_path.impurities\r\n",
        "\r\n",
        "new_dTrees = []\r\n",
        "i=0\r\n",
        "\r\n",
        "for alpha in alphas:\r\n",
        "    new_dTree = DecisionTreeClassifier(criterion='gini', ccp_alpha=alpha)\r\n",
        "    new_dTree.fit(X_train, y_train)\r\n",
        "    \r\n",
        "    new_dTrees.append(new_dTree)"
      ],
      "execution_count": 39,
      "outputs": []
    },
    {
      "cell_type": "code",
      "metadata": {
        "colab": {
          "base_uri": "https://localhost:8080/"
        },
        "id": "3kQlfsQ1bMqh",
        "outputId": "717a0ec7-2cd2-4d08-b3dd-a435202d46e8"
      },
      "source": [
        "test_scores = [new_dTree.score(X_test, y_test) for new_dTree in new_dTrees]\r\n",
        "print('max f1 test_score = {}'.format(max(test_scores)))\r\n",
        "print('position of max f1 = {}'.format(np.argmax(test_scores)))\r\n",
        "\r\n",
        "pruned_dTree = DecisionTreeClassifier(criterion='gini', ccp_alpha=alphas[np.argmax(test_scores)])\r\n",
        "\r\n",
        "pruned_dTree.fit(X_train, y_train)\r\n",
        "\r\n",
        "ytpred_dTree = pruned_dTree.predict(X_test)\r\n",
        "\r\n",
        "from sklearn.metrics import classification_report\r\n",
        "\r\n",
        "print(classification_report(y_test, ytpred_dTree))"
      ],
      "execution_count": 40,
      "outputs": [
        {
          "output_type": "stream",
          "text": [
            "max f1 test_score = 1.0\n",
            "position of max f1 = 0\n",
            "              precision    recall  f1-score   support\n",
            "\n",
            "           0       1.00      1.00      1.00     47064\n",
            "           1       1.00      1.00      1.00       772\n",
            "\n",
            "    accuracy                           1.00     47836\n",
            "   macro avg       1.00      1.00      1.00     47836\n",
            "weighted avg       1.00      1.00      1.00     47836\n",
            "\n"
          ],
          "name": "stdout"
        }
      ]
    },
    {
      "cell_type": "code",
      "metadata": {
        "id": "S5aZbf3ObSOR"
      },
      "source": [
        "logreg_probs = log_reg.predict_proba(X_test)\r\n",
        "Knn_grid_probs = Knn_grid.predict_proba(X_test)\r\n",
        "Dtree_probs = pruned_dTree.predict_proba(X_test)"
      ],
      "execution_count": 42,
      "outputs": []
    },
    {
      "cell_type": "code",
      "metadata": {
        "id": "HHlSmaw0bapF"
      },
      "source": [
        "# keep probabilities for the positive outcome only\r\n",
        "logreg_probs = logreg_probs[:, 1]\r\n",
        "Knn_grid_probs = Knn_grid_probs[:, 1]\r\n",
        "Dtree_probs = Dtree_probs[:, 1]"
      ],
      "execution_count": 43,
      "outputs": []
    },
    {
      "cell_type": "code",
      "metadata": {
        "colab": {
          "base_uri": "https://localhost:8080/"
        },
        "id": "nm0J_FBDbh0f",
        "outputId": "31326cfd-0114-4c03-9597-728847a87f02"
      },
      "source": [
        "from sklearn.metrics import roc_auc_score\r\n",
        "\r\n",
        "# calculate scores\r\n",
        "logreg_auc = roc_auc_score(y_test, logreg_probs)\r\n",
        "Knn_grid_auc = roc_auc_score(y_test, Knn_grid_probs)\r\n",
        "Dtree_auc = roc_auc_score(y_test, Dtree_probs)\r\n",
        "\r\n",
        "print('Logistic: ROC AUC= {} %'.format(round(logreg_auc, 3)*100))\r\n",
        "print('KNN: ROC AUC= {} %'.format(round(Knn_grid_auc, 3)*100))\r\n",
        "print('DTree: ROC AUC= {} %'.format(round(Dtree_auc, 3)*100))"
      ],
      "execution_count": 45,
      "outputs": [
        {
          "output_type": "stream",
          "text": [
            "Logistic: ROC AUC= 100.0 %\n",
            "KNN: ROC AUC= 82.8 %\n",
            "DTree: ROC AUC= 100.0 %\n"
          ],
          "name": "stdout"
        }
      ]
    },
    {
      "cell_type": "code",
      "metadata": {
        "id": "xhIm5vYubwgX"
      },
      "source": [
        "from sklearn.metrics import roc_curve\r\n",
        "#fpr --> False Positive Rate\r\n",
        "#tpr --> True Positive Rate\r\n",
        "logreg_fpr, logreg_tpr, lr_thres = roc_curve(y_test, logreg_probs)\r\n",
        "Knn_fpr, Knn_tpr, Knn_thres = roc_curve(y_test, Knn_grid_probs)\r\n",
        "Dtree_fpr, Dtree_tpr, Dtree_thres = roc_curve(y_test, Dtree_probs)"
      ],
      "execution_count": 46,
      "outputs": []
    },
    {
      "cell_type": "code",
      "metadata": {
        "colab": {
          "base_uri": "https://localhost:8080/",
          "height": 497
        },
        "id": "yXXW9kLDb111",
        "outputId": "21682854-1ffe-443f-a119-ec01d109eef2"
      },
      "source": [
        "fig, ax = plt.subplots(figsize=(10, 8))\r\n",
        "ax.plot(logreg_fpr, logreg_tpr, marker='.', label='Logistic')\r\n",
        "ax.plot(Knn_fpr, Knn_tpr, marker='.', label='KNN')\r\n",
        "ax.plot(Dtree_fpr, Dtree_tpr, marker='.', label='DTree')\r\n",
        "# axis labels\r\n",
        "plt.xlabel('False Positive Rate')\r\n",
        "plt.ylabel('True Positive Rate')\r\n",
        "# show the legend\r\n",
        "plt.legend(loc=5)\r\n",
        "# show the plot\r\n",
        "plt.show()"
      ],
      "execution_count": 47,
      "outputs": [
        {
          "output_type": "display_data",
          "data": {
            "image/png": "[encoded data removed]",
            "text/plain": [
              "<Figure size 720x576 with 1 Axes>"
            ]
          },
          "metadata": {
            "tags": []
          }
        }
      ]
    },
    {
      "cell_type": "code",
      "metadata": {
        "id": "GtYIkJZdb6Jl"
      },
      "source": [
        ""
      ],
      "execution_count": null,
      "outputs": []
    }
  ]
}