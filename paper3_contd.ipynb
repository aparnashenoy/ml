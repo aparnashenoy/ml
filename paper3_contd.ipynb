{
  "nbformat": 4,
  "nbformat_minor": 0,
  "metadata": {
    "colab": {
      "name": "paper3_contd.ipynb",
      "provenance": [],
      "machine_shape": "hm",
      "authorship_tag": "ABX9TyOemcjRivk7RuN6LE+WMURM",
      "include_colab_link": true
    },
    "kernelspec": {
      "display_name": "Python 3",
      "name": "python3"
    },
    "language_info": {
      "name": "python"
    },
    "accelerator": "GPU"
  },
  "cells": [
    {
      "cell_type": "markdown",
      "metadata": {
        "id": "view-in-github",
        "colab_type": "text"
      },
      "source": [
        "<a href=\"https://colab.research.google.com/github/aparnashenoy/ml/blob/master/paper3_contd.ipynb\" target=\"_parent\"><img src=\"https://colab.research.google.com/assets/colab-badge.svg\" alt=\"Open In Colab\"/></a>"
      ]
    },
    {
      "cell_type": "code",
      "metadata": {
        "colab": {
          "base_uri": "https://localhost:8080/"
        },
        "id": "xz3P10rhZCCh",
        "outputId": "548542a3-8f38-4232-fb46-7e53f7725ae4"
      },
      "source": [
        "from google.colab import drive\n",
        "drive.mount('/gdrive')"
      ],
      "execution_count": 1,
      "outputs": [
        {
          "output_type": "stream",
          "text": [
            "Mounted at /gdrive\n"
          ],
          "name": "stdout"
        }
      ]
    },
    {
      "cell_type": "code",
      "metadata": {
        "id": "ZEI2TuiUZMFZ"
      },
      "source": [
        "path = '/gdrive/My Drive/'"
      ],
      "execution_count": 2,
      "outputs": []
    },
    {
      "cell_type": "code",
      "metadata": {
        "id": "-BjnAW6gZdul"
      },
      "source": [
        "import numpy as np\n",
        "import pandas as pd\n",
        "from pandas import read_csv\n",
        "import matplotlib.pyplot as plt\n",
        "import seaborn as sns\n",
        "\n",
        "%matplotlib inline"
      ],
      "execution_count": 3,
      "outputs": []
    },
    {
      "cell_type": "code",
      "metadata": {
        "id": "xq_PsQUUZWr-"
      },
      "source": [
        "data = pd.read_csv(path +'Copy of train.psv', sep='|')"
      ],
      "execution_count": 4,
      "outputs": []
    },
    {
      "cell_type": "code",
      "metadata": {
        "id": "mezwcFa0a6Om"
      },
      "source": [
        "# Load libraries\n",
        "\n",
        "from numpy import arange\n",
        "from numpy import set_printoptions\n",
        "from pandas import read_csv\n",
        "from pandas import set_option\n",
        "from pandas.plotting import scatter_matrix\n",
        "from sklearn.preprocessing import StandardScaler\n",
        "from sklearn.preprocessing import MinMaxScaler\n",
        "from sklearn.preprocessing import Normalizer\n",
        "from sklearn.preprocessing import Binarizer\n",
        "from sklearn.feature_selection import SelectKBest\n",
        "from sklearn.feature_selection import chi2\n",
        "from sklearn.feature_selection import RFE\n",
        "from sklearn.decomposition import PCA\n",
        "from sklearn.ensemble import ExtraTreesClassifier\n",
        "from sklearn.model_selection import train_test_split\n",
        "from sklearn.model_selection import KFold\n",
        "from sklearn.model_selection import cross_val_score\n",
        "from sklearn.model_selection import GridSearchCV\n",
        "from sklearn.model_selection import LeaveOneOut\n",
        "from sklearn.model_selection import ShuffleSplit\n",
        "from sklearn.linear_model import LinearRegression\n",
        "from sklearn.linear_model import LogisticRegression\n",
        "from sklearn.linear_model import Lasso\n",
        "from sklearn.linear_model import ElasticNet\n",
        "from sklearn.tree import DecisionTreeRegressor\n",
        "from sklearn.neighbors import KNeighborsRegressor\n",
        "from sklearn.svm import SVR\n",
        "from sklearn.pipeline import Pipeline\n",
        "from sklearn.ensemble import RandomForestRegressor\n",
        "from sklearn.ensemble import GradientBoostingRegressor\n",
        "from sklearn.ensemble import ExtraTreesRegressor\n",
        "from sklearn.ensemble import AdaBoostRegressor\n",
        "from sklearn.metrics import mean_squared_error\n",
        "from sklearn.metrics import confusion_matrix\n",
        "from sklearn.metrics import accuracy_score\n",
        "from sklearn.metrics import classification_report\n",
        "from sklearn.discriminant_analysis import LinearDiscriminantAnalysis\n",
        "from sklearn.neighbors import KNeighborsClassifier\n",
        "from sklearn.naive_bayes import GaussianNB\n",
        "from sklearn.tree import DecisionTreeClassifier\n",
        "from sklearn.svm import SVC\n",
        "\n",
        "import warnings\n",
        "warnings.filterwarnings('ignore')"
      ],
      "execution_count": 5,
      "outputs": []
    },
    {
      "cell_type": "code",
      "metadata": {
        "colab": {
          "base_uri": "https://localhost:8080/"
        },
        "id": "MrOLMATVHPp8",
        "outputId": "66bd8581-b2d4-4623-8aa3-ff4dec3726d0"
      },
      "source": [
        "# Statistical Summary\n",
        "set_option('display.width', 100)\n",
        "set_option('precision', 3)\n",
        "description = data.describe()\n",
        "print(description)"
      ],
      "execution_count": 6,
      "outputs": [
        {
          "output_type": "stream",
          "text": [
            "              HR      O2Sat        Temp  ...  HospAdmTime     ICULOS  SepsisLabel\n",
            "count  1.059e+06  1.018e+06  394625.000  ...    1.167e+06  1.167e+06    1.167e+06\n",
            "mean   8.471e+01  9.721e+01      36.994  ...   -5.331e+01  2.670e+01    1.921e-02\n",
            "std    1.717e+01  2.928e+00       0.772  ...    1.498e+02  2.777e+01    1.373e-01\n",
            "min    2.000e+01  2.000e+01      20.900  ...   -3.711e+03  1.000e+00    0.000e+00\n",
            "25%    7.200e+01  9.600e+01      36.500  ...   -4.268e+01  1.100e+01    0.000e+00\n",
            "50%    8.400e+01  9.800e+01      37.000  ...   -4.880e+00  2.100e+01    0.000e+00\n",
            "75%    9.600e+01  9.950e+01      37.500  ...   -3.000e-02  3.400e+01    0.000e+00\n",
            "max    2.800e+02  1.000e+02      50.000  ...    2.399e+01  3.360e+02    1.000e+00\n",
            "\n",
            "[8 rows x 41 columns]\n"
          ],
          "name": "stdout"
        }
      ]
    },
    {
      "cell_type": "code",
      "metadata": {
        "colab": {
          "base_uri": "https://localhost:8080/",
          "height": 1000
        },
        "id": "8JxtvCvCHyPX",
        "outputId": "efb1345c-b903-4b4d-d7b7-507a9dc9dca1"
      },
      "source": [
        "data.describe().transpose()"
      ],
      "execution_count": 7,
      "outputs": [
        {
          "output_type": "execute_result",
          "data": {
            "text/html": [
              "<div>\n",
              "<style scoped>\n",
              "    .dataframe tbody tr th:only-of-type {\n",
              "        vertical-align: middle;\n",
              "    }\n",
              "\n",
              "    .dataframe tbody tr th {\n",
              "        vertical-align: top;\n",
              "    }\n",
              "\n",
              "    .dataframe thead th {\n",
              "        text-align: right;\n",
              "    }\n",
              "</style>\n",
              "<table border=\"1\" class=\"dataframe\">\n",
              "  <thead>\n",
              "    <tr style=\"text-align: right;\">\n",
              "      <th></th>\n",
              "      <th>count</th>\n",
              "      <th>mean</th>\n",
              "      <th>std</th>\n",
              "      <th>min</th>\n",
              "      <th>25%</th>\n",
              "      <th>50%</th>\n",
              "      <th>75%</th>\n",
              "      <th>max</th>\n",
              "    </tr>\n",
              "  </thead>\n",
              "  <tbody>\n",
              "    <tr>\n",
              "      <th>HR</th>\n",
              "      <td>1.059e+06</td>\n",
              "      <td>84.712</td>\n",
              "      <td>17.173</td>\n",
              "      <td>20.00</td>\n",
              "      <td>72.00</td>\n",
              "      <td>84.00</td>\n",
              "      <td>96.00</td>\n",
              "      <td>280.00</td>\n",
              "    </tr>\n",
              "    <tr>\n",
              "      <th>O2Sat</th>\n",
              "      <td>1.018e+06</td>\n",
              "      <td>97.212</td>\n",
              "      <td>2.928</td>\n",
              "      <td>20.00</td>\n",
              "      <td>96.00</td>\n",
              "      <td>98.00</td>\n",
              "      <td>99.50</td>\n",
              "      <td>100.00</td>\n",
              "    </tr>\n",
              "    <tr>\n",
              "      <th>Temp</th>\n",
              "      <td>3.946e+05</td>\n",
              "      <td>36.994</td>\n",
              "      <td>0.772</td>\n",
              "      <td>20.90</td>\n",
              "      <td>36.50</td>\n",
              "      <td>37.00</td>\n",
              "      <td>37.50</td>\n",
              "      <td>50.00</td>\n",
              "    </tr>\n",
              "    <tr>\n",
              "      <th>SBP</th>\n",
              "      <td>9.933e+05</td>\n",
              "      <td>122.800</td>\n",
              "      <td>22.664</td>\n",
              "      <td>20.00</td>\n",
              "      <td>106.00</td>\n",
              "      <td>120.00</td>\n",
              "      <td>137.00</td>\n",
              "      <td>300.00</td>\n",
              "    </tr>\n",
              "    <tr>\n",
              "      <th>MAP</th>\n",
              "      <td>1.030e+06</td>\n",
              "      <td>81.164</td>\n",
              "      <td>16.025</td>\n",
              "      <td>20.00</td>\n",
              "      <td>70.00</td>\n",
              "      <td>79.00</td>\n",
              "      <td>90.00</td>\n",
              "      <td>300.00</td>\n",
              "    </tr>\n",
              "    <tr>\n",
              "      <th>DBP</th>\n",
              "      <td>7.331e+05</td>\n",
              "      <td>62.805</td>\n",
              "      <td>13.716</td>\n",
              "      <td>20.00</td>\n",
              "      <td>53.00</td>\n",
              "      <td>61.00</td>\n",
              "      <td>70.50</td>\n",
              "      <td>300.00</td>\n",
              "    </tr>\n",
              "    <tr>\n",
              "      <th>Resp</th>\n",
              "      <td>1.010e+06</td>\n",
              "      <td>18.736</td>\n",
              "      <td>5.192</td>\n",
              "      <td>1.00</td>\n",
              "      <td>15.00</td>\n",
              "      <td>18.00</td>\n",
              "      <td>22.00</td>\n",
              "      <td>100.00</td>\n",
              "    </tr>\n",
              "    <tr>\n",
              "      <th>EtCO2</th>\n",
              "      <td>2.740e+04</td>\n",
              "      <td>33.234</td>\n",
              "      <td>8.215</td>\n",
              "      <td>10.00</td>\n",
              "      <td>28.50</td>\n",
              "      <td>33.50</td>\n",
              "      <td>38.00</td>\n",
              "      <td>100.00</td>\n",
              "    </tr>\n",
              "    <tr>\n",
              "      <th>BaseExcess</th>\n",
              "      <td>8.333e+04</td>\n",
              "      <td>-0.671</td>\n",
              "      <td>4.292</td>\n",
              "      <td>-32.00</td>\n",
              "      <td>-3.00</td>\n",
              "      <td>0.00</td>\n",
              "      <td>1.00</td>\n",
              "      <td>100.00</td>\n",
              "    </tr>\n",
              "    <tr>\n",
              "      <th>HCO3</th>\n",
              "      <td>6.441e+04</td>\n",
              "      <td>24.082</td>\n",
              "      <td>4.387</td>\n",
              "      <td>0.00</td>\n",
              "      <td>22.00</td>\n",
              "      <td>24.00</td>\n",
              "      <td>27.00</td>\n",
              "      <td>55.00</td>\n",
              "    </tr>\n",
              "    <tr>\n",
              "      <th>FiO2</th>\n",
              "      <td>1.205e+05</td>\n",
              "      <td>0.526</td>\n",
              "      <td>0.190</td>\n",
              "      <td>0.00</td>\n",
              "      <td>0.40</td>\n",
              "      <td>0.50</td>\n",
              "      <td>0.60</td>\n",
              "      <td>10.00</td>\n",
              "    </tr>\n",
              "    <tr>\n",
              "      <th>pH</th>\n",
              "      <td>9.893e+04</td>\n",
              "      <td>7.379</td>\n",
              "      <td>0.073</td>\n",
              "      <td>6.62</td>\n",
              "      <td>7.34</td>\n",
              "      <td>7.38</td>\n",
              "      <td>7.43</td>\n",
              "      <td>7.93</td>\n",
              "    </tr>\n",
              "    <tr>\n",
              "      <th>PaCO2</th>\n",
              "      <td>7.764e+04</td>\n",
              "      <td>41.108</td>\n",
              "      <td>9.127</td>\n",
              "      <td>10.00</td>\n",
              "      <td>36.00</td>\n",
              "      <td>40.00</td>\n",
              "      <td>45.00</td>\n",
              "      <td>100.00</td>\n",
              "    </tr>\n",
              "    <tr>\n",
              "      <th>SaO2</th>\n",
              "      <td>4.627e+04</td>\n",
              "      <td>92.025</td>\n",
              "      <td>11.508</td>\n",
              "      <td>23.00</td>\n",
              "      <td>94.00</td>\n",
              "      <td>97.00</td>\n",
              "      <td>98.00</td>\n",
              "      <td>100.00</td>\n",
              "    </tr>\n",
              "    <tr>\n",
              "      <th>AST</th>\n",
              "      <td>1.851e+04</td>\n",
              "      <td>288.466</td>\n",
              "      <td>909.831</td>\n",
              "      <td>3.00</td>\n",
              "      <td>24.00</td>\n",
              "      <td>45.00</td>\n",
              "      <td>130.00</td>\n",
              "      <td>9961.00</td>\n",
              "    </tr>\n",
              "    <tr>\n",
              "      <th>BUN</th>\n",
              "      <td>8.510e+04</td>\n",
              "      <td>24.058</td>\n",
              "      <td>20.078</td>\n",
              "      <td>1.00</td>\n",
              "      <td>12.00</td>\n",
              "      <td>17.00</td>\n",
              "      <td>28.50</td>\n",
              "      <td>268.00</td>\n",
              "    </tr>\n",
              "    <tr>\n",
              "      <th>Alkalinephos</th>\n",
              "      <td>1.825e+04</td>\n",
              "      <td>106.210</td>\n",
              "      <td>129.827</td>\n",
              "      <td>7.00</td>\n",
              "      <td>55.00</td>\n",
              "      <td>75.00</td>\n",
              "      <td>111.00</td>\n",
              "      <td>3833.00</td>\n",
              "    </tr>\n",
              "    <tr>\n",
              "      <th>Calcium</th>\n",
              "      <td>6.473e+04</td>\n",
              "      <td>7.799</td>\n",
              "      <td>2.095</td>\n",
              "      <td>1.00</td>\n",
              "      <td>7.70</td>\n",
              "      <td>8.30</td>\n",
              "      <td>8.80</td>\n",
              "      <td>27.90</td>\n",
              "    </tr>\n",
              "    <tr>\n",
              "      <th>Chloride</th>\n",
              "      <td>6.810e+04</td>\n",
              "      <td>105.803</td>\n",
              "      <td>5.911</td>\n",
              "      <td>26.00</td>\n",
              "      <td>102.00</td>\n",
              "      <td>106.00</td>\n",
              "      <td>109.00</td>\n",
              "      <td>145.00</td>\n",
              "    </tr>\n",
              "    <tr>\n",
              "      <th>Creatinine</th>\n",
              "      <td>7.313e+04</td>\n",
              "      <td>1.472</td>\n",
              "      <td>1.733</td>\n",
              "      <td>0.10</td>\n",
              "      <td>0.70</td>\n",
              "      <td>0.90</td>\n",
              "      <td>1.40</td>\n",
              "      <td>46.60</td>\n",
              "    </tr>\n",
              "    <tr>\n",
              "      <th>Bilirubin_direct</th>\n",
              "      <td>2.071e+03</td>\n",
              "      <td>2.119</td>\n",
              "      <td>3.939</td>\n",
              "      <td>0.01</td>\n",
              "      <td>0.20</td>\n",
              "      <td>0.60</td>\n",
              "      <td>2.20</td>\n",
              "      <td>37.50</td>\n",
              "    </tr>\n",
              "    <tr>\n",
              "      <th>Glucose</th>\n",
              "      <td>1.795e+05</td>\n",
              "      <td>136.164</td>\n",
              "      <td>51.648</td>\n",
              "      <td>10.00</td>\n",
              "      <td>105.50</td>\n",
              "      <td>126.00</td>\n",
              "      <td>153.00</td>\n",
              "      <td>988.00</td>\n",
              "    </tr>\n",
              "    <tr>\n",
              "      <th>Lactate</th>\n",
              "      <td>3.422e+04</td>\n",
              "      <td>2.587</td>\n",
              "      <td>2.475</td>\n",
              "      <td>0.20</td>\n",
              "      <td>1.20</td>\n",
              "      <td>1.80</td>\n",
              "      <td>2.90</td>\n",
              "      <td>31.00</td>\n",
              "    </tr>\n",
              "    <tr>\n",
              "      <th>Magnesium</th>\n",
              "      <td>7.941e+04</td>\n",
              "      <td>2.047</td>\n",
              "      <td>0.392</td>\n",
              "      <td>0.20</td>\n",
              "      <td>1.80</td>\n",
              "      <td>2.00</td>\n",
              "      <td>2.20</td>\n",
              "      <td>9.70</td>\n",
              "    </tr>\n",
              "    <tr>\n",
              "      <th>Phosphate</th>\n",
              "      <td>5.078e+04</td>\n",
              "      <td>3.563</td>\n",
              "      <td>1.436</td>\n",
              "      <td>0.20</td>\n",
              "      <td>2.70</td>\n",
              "      <td>3.30</td>\n",
              "      <td>4.10</td>\n",
              "      <td>18.80</td>\n",
              "    </tr>\n",
              "    <tr>\n",
              "      <th>Potassium</th>\n",
              "      <td>1.147e+05</td>\n",
              "      <td>4.145</td>\n",
              "      <td>0.638</td>\n",
              "      <td>1.00</td>\n",
              "      <td>3.70</td>\n",
              "      <td>4.10</td>\n",
              "      <td>4.50</td>\n",
              "      <td>27.50</td>\n",
              "    </tr>\n",
              "    <tr>\n",
              "      <th>Bilirubin_total</th>\n",
              "      <td>1.643e+04</td>\n",
              "      <td>2.254</td>\n",
              "      <td>4.585</td>\n",
              "      <td>0.10</td>\n",
              "      <td>0.50</td>\n",
              "      <td>0.90</td>\n",
              "      <td>1.80</td>\n",
              "      <td>49.60</td>\n",
              "    </tr>\n",
              "    <tr>\n",
              "      <th>TroponinI</th>\n",
              "      <td>8.188e+03</td>\n",
              "      <td>8.693</td>\n",
              "      <td>25.124</td>\n",
              "      <td>0.01</td>\n",
              "      <td>0.05</td>\n",
              "      <td>0.40</td>\n",
              "      <td>5.00</td>\n",
              "      <td>440.00</td>\n",
              "    </tr>\n",
              "    <tr>\n",
              "      <th>Hct</th>\n",
              "      <td>1.149e+05</td>\n",
              "      <td>30.769</td>\n",
              "      <td>5.255</td>\n",
              "      <td>5.50</td>\n",
              "      <td>27.20</td>\n",
              "      <td>30.30</td>\n",
              "      <td>33.90</td>\n",
              "      <td>71.70</td>\n",
              "    </tr>\n",
              "    <tr>\n",
              "      <th>Hgb</th>\n",
              "      <td>9.188e+04</td>\n",
              "      <td>10.499</td>\n",
              "      <td>1.884</td>\n",
              "      <td>2.20</td>\n",
              "      <td>9.20</td>\n",
              "      <td>10.40</td>\n",
              "      <td>11.60</td>\n",
              "      <td>32.00</td>\n",
              "    </tr>\n",
              "    <tr>\n",
              "      <th>PTT</th>\n",
              "      <td>4.192e+04</td>\n",
              "      <td>40.992</td>\n",
              "      <td>25.237</td>\n",
              "      <td>12.50</td>\n",
              "      <td>27.80</td>\n",
              "      <td>32.35</td>\n",
              "      <td>42.70</td>\n",
              "      <td>250.00</td>\n",
              "    </tr>\n",
              "    <tr>\n",
              "      <th>WBC</th>\n",
              "      <td>7.899e+04</td>\n",
              "      <td>11.601</td>\n",
              "      <td>7.303</td>\n",
              "      <td>0.10</td>\n",
              "      <td>7.80</td>\n",
              "      <td>10.50</td>\n",
              "      <td>14.00</td>\n",
              "      <td>422.90</td>\n",
              "    </tr>\n",
              "    <tr>\n",
              "      <th>Fibrinogen</th>\n",
              "      <td>8.139e+03</td>\n",
              "      <td>289.169</td>\n",
              "      <td>155.364</td>\n",
              "      <td>34.00</td>\n",
              "      <td>184.00</td>\n",
              "      <td>250.00</td>\n",
              "      <td>351.00</td>\n",
              "      <td>1760.00</td>\n",
              "    </tr>\n",
              "    <tr>\n",
              "      <th>Platelets</th>\n",
              "      <td>7.144e+04</td>\n",
              "      <td>197.579</td>\n",
              "      <td>105.422</td>\n",
              "      <td>2.00</td>\n",
              "      <td>127.00</td>\n",
              "      <td>181.00</td>\n",
              "      <td>245.00</td>\n",
              "      <td>1783.00</td>\n",
              "    </tr>\n",
              "    <tr>\n",
              "      <th>Age</th>\n",
              "      <td>1.167e+06</td>\n",
              "      <td>62.334</td>\n",
              "      <td>16.280</td>\n",
              "      <td>14.00</td>\n",
              "      <td>52.00</td>\n",
              "      <td>64.08</td>\n",
              "      <td>74.96</td>\n",
              "      <td>100.00</td>\n",
              "    </tr>\n",
              "    <tr>\n",
              "      <th>Gender</th>\n",
              "      <td>1.167e+06</td>\n",
              "      <td>0.566</td>\n",
              "      <td>0.496</td>\n",
              "      <td>0.00</td>\n",
              "      <td>0.00</td>\n",
              "      <td>1.00</td>\n",
              "      <td>1.00</td>\n",
              "      <td>1.00</td>\n",
              "    </tr>\n",
              "    <tr>\n",
              "      <th>Unit1</th>\n",
              "      <td>6.712e+05</td>\n",
              "      <td>0.502</td>\n",
              "      <td>0.500</td>\n",
              "      <td>0.00</td>\n",
              "      <td>0.00</td>\n",
              "      <td>1.00</td>\n",
              "      <td>1.00</td>\n",
              "      <td>1.00</td>\n",
              "    </tr>\n",
              "    <tr>\n",
              "      <th>Unit2</th>\n",
              "      <td>6.712e+05</td>\n",
              "      <td>0.498</td>\n",
              "      <td>0.500</td>\n",
              "      <td>0.00</td>\n",
              "      <td>0.00</td>\n",
              "      <td>0.00</td>\n",
              "      <td>1.00</td>\n",
              "      <td>1.00</td>\n",
              "    </tr>\n",
              "    <tr>\n",
              "      <th>HospAdmTime</th>\n",
              "      <td>1.167e+06</td>\n",
              "      <td>-53.306</td>\n",
              "      <td>149.796</td>\n",
              "      <td>-3710.66</td>\n",
              "      <td>-42.68</td>\n",
              "      <td>-4.88</td>\n",
              "      <td>-0.03</td>\n",
              "      <td>23.99</td>\n",
              "    </tr>\n",
              "    <tr>\n",
              "      <th>ICULOS</th>\n",
              "      <td>1.167e+06</td>\n",
              "      <td>26.702</td>\n",
              "      <td>27.774</td>\n",
              "      <td>1.00</td>\n",
              "      <td>11.00</td>\n",
              "      <td>21.00</td>\n",
              "      <td>34.00</td>\n",
              "      <td>336.00</td>\n",
              "    </tr>\n",
              "    <tr>\n",
              "      <th>SepsisLabel</th>\n",
              "      <td>1.167e+06</td>\n",
              "      <td>0.019</td>\n",
              "      <td>0.137</td>\n",
              "      <td>0.00</td>\n",
              "      <td>0.00</td>\n",
              "      <td>0.00</td>\n",
              "      <td>0.00</td>\n",
              "      <td>1.00</td>\n",
              "    </tr>\n",
              "  </tbody>\n",
              "</table>\n",
              "</div>"
            ],
            "text/plain": [
              "                      count     mean      std  ...     50%     75%      max\n",
              "HR                1.059e+06   84.712   17.173  ...   84.00   96.00   280.00\n",
              "O2Sat             1.018e+06   97.212    2.928  ...   98.00   99.50   100.00\n",
              "Temp              3.946e+05   36.994    0.772  ...   37.00   37.50    50.00\n",
              "SBP               9.933e+05  122.800   22.664  ...  120.00  137.00   300.00\n",
              "MAP               1.030e+06   81.164   16.025  ...   79.00   90.00   300.00\n",
              "DBP               7.331e+05   62.805   13.716  ...   61.00   70.50   300.00\n",
              "Resp              1.010e+06   18.736    5.192  ...   18.00   22.00   100.00\n",
              "EtCO2             2.740e+04   33.234    8.215  ...   33.50   38.00   100.00\n",
              "BaseExcess        8.333e+04   -0.671    4.292  ...    0.00    1.00   100.00\n",
              "HCO3              6.441e+04   24.082    4.387  ...   24.00   27.00    55.00\n",
              "FiO2              1.205e+05    0.526    0.190  ...    0.50    0.60    10.00\n",
              "pH                9.893e+04    7.379    0.073  ...    7.38    7.43     7.93\n",
              "PaCO2             7.764e+04   41.108    9.127  ...   40.00   45.00   100.00\n",
              "SaO2              4.627e+04   92.025   11.508  ...   97.00   98.00   100.00\n",
              "AST               1.851e+04  288.466  909.831  ...   45.00  130.00  9961.00\n",
              "BUN               8.510e+04   24.058   20.078  ...   17.00   28.50   268.00\n",
              "Alkalinephos      1.825e+04  106.210  129.827  ...   75.00  111.00  3833.00\n",
              "Calcium           6.473e+04    7.799    2.095  ...    8.30    8.80    27.90\n",
              "Chloride          6.810e+04  105.803    5.911  ...  106.00  109.00   145.00\n",
              "Creatinine        7.313e+04    1.472    1.733  ...    0.90    1.40    46.60\n",
              "Bilirubin_direct  2.071e+03    2.119    3.939  ...    0.60    2.20    37.50\n",
              "Glucose           1.795e+05  136.164   51.648  ...  126.00  153.00   988.00\n",
              "Lactate           3.422e+04    2.587    2.475  ...    1.80    2.90    31.00\n",
              "Magnesium         7.941e+04    2.047    0.392  ...    2.00    2.20     9.70\n",
              "Phosphate         5.078e+04    3.563    1.436  ...    3.30    4.10    18.80\n",
              "Potassium         1.147e+05    4.145    0.638  ...    4.10    4.50    27.50\n",
              "Bilirubin_total   1.643e+04    2.254    4.585  ...    0.90    1.80    49.60\n",
              "TroponinI         8.188e+03    8.693   25.124  ...    0.40    5.00   440.00\n",
              "Hct               1.149e+05   30.769    5.255  ...   30.30   33.90    71.70\n",
              "Hgb               9.188e+04   10.499    1.884  ...   10.40   11.60    32.00\n",
              "PTT               4.192e+04   40.992   25.237  ...   32.35   42.70   250.00\n",
              "WBC               7.899e+04   11.601    7.303  ...   10.50   14.00   422.90\n",
              "Fibrinogen        8.139e+03  289.169  155.364  ...  250.00  351.00  1760.00\n",
              "Platelets         7.144e+04  197.579  105.422  ...  181.00  245.00  1783.00\n",
              "Age               1.167e+06   62.334   16.280  ...   64.08   74.96   100.00\n",
              "Gender            1.167e+06    0.566    0.496  ...    1.00    1.00     1.00\n",
              "Unit1             6.712e+05    0.502    0.500  ...    1.00    1.00     1.00\n",
              "Unit2             6.712e+05    0.498    0.500  ...    0.00    1.00     1.00\n",
              "HospAdmTime       1.167e+06  -53.306  149.796  ...   -4.88   -0.03    23.99\n",
              "ICULOS            1.167e+06   26.702   27.774  ...   21.00   34.00   336.00\n",
              "SepsisLabel       1.167e+06    0.019    0.137  ...    0.00    0.00     1.00\n",
              "\n",
              "[41 rows x 8 columns]"
            ]
          },
          "metadata": {
            "tags": []
          },
          "execution_count": 7
        }
      ]
    },
    {
      "cell_type": "code",
      "metadata": {
        "colab": {
          "base_uri": "https://localhost:8080/"
        },
        "id": "LjJE0aPDHOop",
        "outputId": "c584edbc-b49a-4b77-c157-f44043f757db"
      },
      "source": [
        "# Class Distribution\n",
        "class_counts = data.groupby('SepsisLabel').size()\n",
        "print(class_counts)"
      ],
      "execution_count": 8,
      "outputs": [
        {
          "output_type": "stream",
          "text": [
            "SepsisLabel\n",
            "0    1144776\n",
            "1      22426\n",
            "dtype: int64\n"
          ],
          "name": "stdout"
        }
      ]
    },
    {
      "cell_type": "code",
      "metadata": {
        "colab": {
          "base_uri": "https://localhost:8080/"
        },
        "id": "3AZzBSZcIBM2",
        "outputId": "941af87c-8a56-4d92-e128-28b6f975688f"
      },
      "source": [
        "shape = data.shape\n",
        "print(shape)"
      ],
      "execution_count": 9,
      "outputs": [
        {
          "output_type": "stream",
          "text": [
            "(1167202, 41)\n"
          ],
          "name": "stdout"
        }
      ]
    },
    {
      "cell_type": "code",
      "metadata": {
        "id": "Bj9lbQ8xIox5"
      },
      "source": [
        "plt.rcParams[\"figure.figsize\"] = (20, 15)"
      ],
      "execution_count": 10,
      "outputs": []
    },
    {
      "cell_type": "code",
      "metadata": {
        "id": "xOo09ZX9ZZW-"
      },
      "source": [
        "from imblearn.over_sampling import SMOTE\n",
        "\n",
        "smote = SMOTE( random_state= 0 )"
      ],
      "execution_count": 11,
      "outputs": []
    },
    {
      "cell_type": "code",
      "metadata": {
        "id": "17e3A7dXZsam"
      },
      "source": [
        "data=data.sample(n=100000,random_state=1,replace=True)"
      ],
      "execution_count": 12,
      "outputs": []
    },
    {
      "cell_type": "code",
      "metadata": {
        "colab": {
          "base_uri": "https://localhost:8080/"
        },
        "id": "oujtmYQ7Zv82",
        "outputId": "b07eb3be-53d7-46b7-81dc-0a731d42afc4"
      },
      "source": [
        "Xcol = data.drop(columns = [\"SepsisLabel\"])\n",
        "ycol = data[\"SepsisLabel\"]\n",
        "X=np.array(Xcol)\n",
        "y=np.array(ycol)\n",
        "X.shape,y.shape"
      ],
      "execution_count": 13,
      "outputs": [
        {
          "output_type": "execute_result",
          "data": {
            "text/plain": [
              "((100000, 40), (100000,))"
            ]
          },
          "metadata": {
            "tags": []
          },
          "execution_count": 13
        }
      ]
    },
    {
      "cell_type": "code",
      "metadata": {
        "id": "CllpfTmmKYJm"
      },
      "source": [
        "from sklearn.impute import SimpleImputer\n",
        "imputer = SimpleImputer(missing_values=np.nan,strategy='median')\n",
        "X = imputer.fit_transform(X)"
      ],
      "execution_count": 14,
      "outputs": []
    },
    {
      "cell_type": "code",
      "metadata": {
        "id": "KN8DanDtKx2f"
      },
      "source": [
        "X_rs, y_rs = smote.fit_resample(X, y)"
      ],
      "execution_count": 15,
      "outputs": []
    },
    {
      "cell_type": "code",
      "metadata": {
        "id": "Jhhi2wk9Qp-Z",
        "colab": {
          "base_uri": "https://localhost:8080/"
        },
        "outputId": "a9c59d71-5ab5-4b87-d146-39d94bd60992"
      },
      "source": [
        "# Bagged Decision Trees for Classification\n",
        "from sklearn.ensemble import BaggingClassifier\n",
        "seed = 7\n",
        "kfold = KFold(n_splits=10, random_state=seed)\n",
        "cart = DecisionTreeClassifier()\n",
        "num_trees = 100\n",
        "model = BaggingClassifier(base_estimator=cart, n_estimators=num_trees, random_state=seed)\n",
        "results = cross_val_score(model, X_rs, y_rs, cv=kfold)\n",
        "print(results.mean())"
      ],
      "execution_count": 16,
      "outputs": [
        {
          "output_type": "stream",
          "text": [
            "0.9880786313686997\n"
          ],
          "name": "stdout"
        }
      ]
    },
    {
      "cell_type": "code",
      "metadata": {
        "colab": {
          "base_uri": "https://localhost:8080/"
        },
        "id": "PKFC3cO4xvqn",
        "outputId": "9d575d7c-a29b-4bca-a814-a4376c6d6b66"
      },
      "source": [
        "# Cross Validation Classification Report\n",
        "test_size = 0.25\n",
        "seed = 7\n",
        "X_train, X_test, Y_train, Y_test = train_test_split(X_rs, y_rs, test_size=test_size, random_state=seed)\n",
        "model = BaggingClassifier(base_estimator=cart, n_estimators=num_trees, random_state=seed)\n",
        "model.fit(X_train, Y_train)\n",
        "predicted = model.predict(X_test)\n",
        "report = classification_report(Y_test, predicted)\n",
        "print(report)"
      ],
      "execution_count": 17,
      "outputs": [
        {
          "output_type": "stream",
          "text": [
            "              precision    recall  f1-score   support\n",
            "\n",
            "           0       0.98      0.99      0.99     24419\n",
            "           1       0.99      0.98      0.99     24610\n",
            "\n",
            "    accuracy                           0.99     49029\n",
            "   macro avg       0.99      0.99      0.99     49029\n",
            "weighted avg       0.99      0.99      0.99     49029\n",
            "\n"
          ],
          "name": "stdout"
        }
      ]
    },
    {
      "cell_type": "code",
      "metadata": {
        "id": "vuTjVHAhx-8r"
      },
      "source": [
        "bgc_probs = model.predict_proba(X_test)"
      ],
      "execution_count": 18,
      "outputs": []
    },
    {
      "cell_type": "code",
      "metadata": {
        "id": "lXKltugtyM4D"
      },
      "source": [
        "bgc_probs=bgc_probs[:, 1]"
      ],
      "execution_count": 19,
      "outputs": []
    },
    {
      "cell_type": "code",
      "metadata": {
        "colab": {
          "base_uri": "https://localhost:8080/"
        },
        "id": "wHNQryswyWNi",
        "outputId": "3c60d0e6-10b5-4b4d-8a3b-749dcfa62fde"
      },
      "source": [
        "from sklearn.metrics import roc_auc_score\n",
        "\n",
        "# calculate scores\n",
        "bgc_auc = roc_auc_score(Y_test, bgc_probs)\n",
        "\n",
        "\n",
        "print('Bagging Classifier with 100  trees: ROC AUC= {} %'.format(round(bgc_auc, 3)*100))"
      ],
      "execution_count": 20,
      "outputs": [
        {
          "output_type": "stream",
          "text": [
            "Bagging Classifier with 100  trees: ROC AUC= 99.8 %\n"
          ],
          "name": "stdout"
        }
      ]
    },
    {
      "cell_type": "code",
      "metadata": {
        "id": "XrELcdGtyoY3"
      },
      "source": [
        "from sklearn.metrics import roc_curve\n",
        "#fpr --> False Positive Rate\n",
        "#tpr --> True Positive Rate\n",
        "bgc_fpr, bgc_tpr, bgc_thres = roc_curve(Y_test, bgc_probs)"
      ],
      "execution_count": 21,
      "outputs": []
    },
    {
      "cell_type": "code",
      "metadata": {
        "id": "SnfEokIVQzs8",
        "colab": {
          "base_uri": "https://localhost:8080/"
        },
        "outputId": "3d5b9d3a-66c9-44e5-94a2-89d5282f1f6a"
      },
      "source": [
        "# Random Forest Classification\n",
        "from sklearn.ensemble import RandomForestClassifier\n",
        "num_trees = 100\n",
        "max_features = 3\n",
        "kfold = KFold(n_splits=10, random_state=7)\n",
        "model = RandomForestClassifier(n_estimators=num_trees, max_features=max_features)\n",
        "results = cross_val_score(model, X_rs, y_rs, cv=kfold)\n",
        "print(results.mean())"
      ],
      "execution_count": 22,
      "outputs": [
        {
          "output_type": "stream",
          "text": [
            "0.992932845704968\n"
          ],
          "name": "stdout"
        }
      ]
    },
    {
      "cell_type": "code",
      "metadata": {
        "colab": {
          "base_uri": "https://localhost:8080/"
        },
        "id": "kWO7_MQQ1fhd",
        "outputId": "01c73fab-4edc-4bd0-bee0-2e22326ae5dd"
      },
      "source": [
        "# Cross Validation Classification Report\n",
        "test_size = 0.25\n",
        "seed = 7\n",
        "X_train, X_test, Y_train, Y_test = train_test_split(X_rs, y_rs, test_size=test_size, random_state=seed)\n",
        "model = RandomForestClassifier(n_estimators=num_trees, max_features=max_features)\n",
        "model.fit(X_train, Y_train)\n",
        "predicted = model.predict(X_test)\n",
        "report = classification_report(Y_test, predicted)\n",
        "print(report)"
      ],
      "execution_count": 23,
      "outputs": [
        {
          "output_type": "stream",
          "text": [
            "              precision    recall  f1-score   support\n",
            "\n",
            "           0       0.99      1.00      0.99     24419\n",
            "           1       1.00      0.99      0.99     24610\n",
            "\n",
            "    accuracy                           0.99     49029\n",
            "   macro avg       0.99      0.99      0.99     49029\n",
            "weighted avg       0.99      0.99      0.99     49029\n",
            "\n"
          ],
          "name": "stdout"
        }
      ]
    },
    {
      "cell_type": "code",
      "metadata": {
        "id": "YWovxNR_1ulI"
      },
      "source": [
        "rfc_probs = model.predict_proba(X_test)"
      ],
      "execution_count": 24,
      "outputs": []
    },
    {
      "cell_type": "code",
      "metadata": {
        "id": "tsZy9a6c1xJR"
      },
      "source": [
        "rfc_probs=rfc_probs[:,1]"
      ],
      "execution_count": 25,
      "outputs": []
    },
    {
      "cell_type": "code",
      "metadata": {
        "colab": {
          "base_uri": "https://localhost:8080/"
        },
        "id": "djga7TZp15eW",
        "outputId": "22567c36-cf9b-4828-bbd2-f8aa354a4eb1"
      },
      "source": [
        "from sklearn.metrics import roc_auc_score\n",
        "\n",
        "# calculate scores\n",
        "rfc_auc = roc_auc_score(Y_test, rfc_probs)\n",
        "\n",
        "\n",
        "print('Random Forest Classifier with 100  trees: ROC AUC= {} %'.format(round(rfc_auc, 3)*100))"
      ],
      "execution_count": 26,
      "outputs": [
        {
          "output_type": "stream",
          "text": [
            "Random Forest Classifier with 100  trees: ROC AUC= 99.9 %\n"
          ],
          "name": "stdout"
        }
      ]
    },
    {
      "cell_type": "code",
      "metadata": {
        "id": "gC_9f4MM2Dio"
      },
      "source": [
        "from sklearn.metrics import roc_curve\n",
        "#fpr --> False Positive Rate\n",
        "#tpr --> True Positive Rate\n",
        "rfc_fpr, rfc_tpr, rfc_thres = roc_curve(Y_test, rfc_probs)"
      ],
      "execution_count": 27,
      "outputs": []
    },
    {
      "cell_type": "code",
      "metadata": {
        "id": "H_CczolOQ-xI",
        "colab": {
          "base_uri": "https://localhost:8080/"
        },
        "outputId": "43852a39-cc07-475f-ce1f-220f3bf8d672"
      },
      "source": [
        "# Extra Trees Classification\n",
        "from sklearn.ensemble import ExtraTreesClassifier\n",
        "num_trees = 100\n",
        "max_features = 7\n",
        "kfold = KFold(n_splits=10, random_state=7)\n",
        "model = ExtraTreesClassifier(n_estimators=num_trees, max_features=max_features)\n",
        "results = cross_val_score(model, X_rs, y_rs, cv=kfold)\n",
        "print(results.mean())"
      ],
      "execution_count": 28,
      "outputs": [
        {
          "output_type": "stream",
          "text": [
            "0.9968080304072064\n"
          ],
          "name": "stdout"
        }
      ]
    },
    {
      "cell_type": "code",
      "metadata": {
        "colab": {
          "base_uri": "https://localhost:8080/"
        },
        "id": "_8rmA87L2sDd",
        "outputId": "7ce7bbfd-8415-417a-c2f8-6f484ab4b358"
      },
      "source": [
        "# Cross Validation Classification Report\n",
        "test_size = 0.25\n",
        "seed = 7\n",
        "X_train, X_test, Y_train, Y_test = train_test_split(X_rs, y_rs, test_size=test_size, random_state=seed)\n",
        "model = ExtraTreesClassifier(n_estimators=num_trees, max_features=max_features)\n",
        "model.fit(X_train, Y_train)\n",
        "predicted = model.predict(X_test)\n",
        "report = classification_report(Y_test, predicted)\n",
        "print(report)"
      ],
      "execution_count": 29,
      "outputs": [
        {
          "output_type": "stream",
          "text": [
            "              precision    recall  f1-score   support\n",
            "\n",
            "           0       0.99      1.00      1.00     24419\n",
            "           1       1.00      0.99      1.00     24610\n",
            "\n",
            "    accuracy                           1.00     49029\n",
            "   macro avg       1.00      1.00      1.00     49029\n",
            "weighted avg       1.00      1.00      1.00     49029\n",
            "\n"
          ],
          "name": "stdout"
        }
      ]
    },
    {
      "cell_type": "code",
      "metadata": {
        "id": "d0WKsvaY21G3"
      },
      "source": [
        "ext_probs = model.predict_proba(X_test)"
      ],
      "execution_count": 30,
      "outputs": []
    },
    {
      "cell_type": "code",
      "metadata": {
        "id": "hxwnNwqI28Gb"
      },
      "source": [
        "ext_probs=ext_probs[:,1]"
      ],
      "execution_count": 31,
      "outputs": []
    },
    {
      "cell_type": "code",
      "metadata": {
        "colab": {
          "base_uri": "https://localhost:8080/"
        },
        "id": "Ib-iMTgu3Aie",
        "outputId": "c8ddfdea-f3db-4a69-9569-5a2358494160"
      },
      "source": [
        "from sklearn.metrics import roc_auc_score\n",
        "\n",
        "# calculate scores\n",
        "ext_auc = roc_auc_score(Y_test, ext_probs)\n",
        "\n",
        "\n",
        "print('Extra Trees Classifier with 100  trees: ROC AUC= {} %'.format(round(ext_auc, 3)*100))"
      ],
      "execution_count": 32,
      "outputs": [
        {
          "output_type": "stream",
          "text": [
            "Extra Trees Classifier with 100  trees: ROC AUC= 100.0 %\n"
          ],
          "name": "stdout"
        }
      ]
    },
    {
      "cell_type": "code",
      "metadata": {
        "id": "3S9-CrSf3fwq"
      },
      "source": [
        "from sklearn.metrics import roc_curve\n",
        "#fpr --> False Positive Rate\n",
        "#tpr --> True Positive Rate\n",
        "ext_fpr, ext_tpr, ext_thres = roc_curve(Y_test, ext_probs)"
      ],
      "execution_count": 33,
      "outputs": []
    },
    {
      "cell_type": "code",
      "metadata": {
        "id": "Ij97WE6WRbhj",
        "colab": {
          "base_uri": "https://localhost:8080/"
        },
        "outputId": "951e5734-208f-465c-e564-7c395c2175dc"
      },
      "source": [
        "# AdaBoost Classification\n",
        "from sklearn.ensemble import AdaBoostClassifier\n",
        "num_trees = 30\n",
        "seed=7\n",
        "kfold = KFold(n_splits=10, random_state=seed)\n",
        "model = AdaBoostClassifier(n_estimators=num_trees, random_state=seed)\n",
        "results = cross_val_score(model, X_rs, y_rs, cv=kfold)\n",
        "print(results.mean())"
      ],
      "execution_count": 34,
      "outputs": [
        {
          "output_type": "stream",
          "text": [
            "0.8417713160581718\n"
          ],
          "name": "stdout"
        }
      ]
    },
    {
      "cell_type": "code",
      "metadata": {
        "id": "LfZlVNZsRfAj",
        "colab": {
          "base_uri": "https://localhost:8080/"
        },
        "outputId": "f0be4534-179c-4110-e580-cc7cda4eea28"
      },
      "source": [
        "# Stochastic Gradient Boosting Classification\n",
        "from sklearn.ensemble import GradientBoostingClassifier\n",
        "seed = 7\n",
        "num_trees = 100\n",
        "kfold = KFold(n_splits=10, random_state=seed)\n",
        "model = GradientBoostingClassifier(n_estimators=num_trees, random_state=seed)\n",
        "results = cross_val_score(model, X_rs, y_rs, cv=kfold)\n",
        "print(results.mean())"
      ],
      "execution_count": 35,
      "outputs": [
        {
          "output_type": "stream",
          "text": [
            "0.91312230407429\n"
          ],
          "name": "stdout"
        }
      ]
    },
    {
      "cell_type": "code",
      "metadata": {
        "id": "7Wa-v20cRmF-",
        "colab": {
          "base_uri": "https://localhost:8080/"
        },
        "outputId": "2df41606-8066-4218-cd7d-30913e4aa2e8"
      },
      "source": [
        "# Voting Ensemble for Classification\n",
        "from sklearn.ensemble import VotingClassifier\n",
        "kfold = KFold(n_splits=10, random_state=7)\n",
        "# create the sub models\n",
        "estimators = []\n",
        "model1 = LogisticRegression()\n",
        "estimators.append(('logistic', model1))\n",
        "model2 = DecisionTreeClassifier()\n",
        "estimators.append(('cart', model2))\n",
        "model3 = KNeighborsClassifier()\n",
        "estimators.append(('knn', model3))\n",
        "# create the ensemble model\n",
        "ensemble = VotingClassifier(estimators)\n",
        "results = cross_val_score(ensemble, X_rs, y_rs, cv=kfold)\n",
        "print(results.mean())"
      ],
      "execution_count": 36,
      "outputs": [
        {
          "output_type": "stream",
          "text": [
            "0.9489137053441841\n"
          ],
          "name": "stdout"
        }
      ]
    },
    {
      "cell_type": "code",
      "metadata": {
        "id": "Z1Z334rHg2uj",
        "colab": {
          "base_uri": "https://localhost:8080/"
        },
        "outputId": "f3e9cfda-2ae3-4e1d-bdae-8f7f68f6fe3f"
      },
      "source": [
        "# Cross Validation Classification Report\n",
        "test_size = 0.25\n",
        "seed = 7\n",
        "X_train, X_test, Y_train, Y_test = train_test_split(X_rs, y_rs, test_size=test_size, random_state=seed)\n",
        "model = GradientBoostingClassifier(n_estimators=num_trees, random_state=seed)\n",
        "model.fit(X_train, Y_train)\n",
        "predicted = model.predict(X_test)\n",
        "report = classification_report(Y_test, predicted)\n",
        "print(report)"
      ],
      "execution_count": 37,
      "outputs": [
        {
          "output_type": "stream",
          "text": [
            "              precision    recall  f1-score   support\n",
            "\n",
            "           0       0.89      0.96      0.93     24419\n",
            "           1       0.96      0.89      0.92     24610\n",
            "\n",
            "    accuracy                           0.93     49029\n",
            "   macro avg       0.93      0.93      0.93     49029\n",
            "weighted avg       0.93      0.93      0.93     49029\n",
            "\n"
          ],
          "name": "stdout"
        }
      ]
    },
    {
      "cell_type": "code",
      "metadata": {
        "id": "CgQfJNNvVfNU"
      },
      "source": [
        "gbc_probs = model.predict_proba(X_test)"
      ],
      "execution_count": 38,
      "outputs": []
    },
    {
      "cell_type": "code",
      "metadata": {
        "id": "2jrUc90hVvKf"
      },
      "source": [
        "gbc_probs = gbc_probs[:, 1]"
      ],
      "execution_count": 39,
      "outputs": []
    },
    {
      "cell_type": "code",
      "metadata": {
        "colab": {
          "base_uri": "https://localhost:8080/"
        },
        "id": "Zh6xUc5QV2Iv",
        "outputId": "f7872a1c-4e8f-42d6-c8db-5731dcc2e550"
      },
      "source": [
        "from sklearn.metrics import roc_auc_score\n",
        "\n",
        "# calculate scores\n",
        "gbc_auc = roc_auc_score(Y_test, gbc_probs)\n",
        "\n",
        "\n",
        "print('Gradient Boosting Classifier with 100  trees: ROC AUC= {} %'.format(round(gbc_auc, 3)*100))"
      ],
      "execution_count": 40,
      "outputs": [
        {
          "output_type": "stream",
          "text": [
            "Gradient Boosting Classifier with 100  trees: ROC AUC= 97.89999999999999 %\n"
          ],
          "name": "stdout"
        }
      ]
    },
    {
      "cell_type": "code",
      "metadata": {
        "id": "MLqnbIgXWLmH"
      },
      "source": [
        "from sklearn.metrics import roc_curve\n",
        "#fpr --> False Positive Rate\n",
        "#tpr --> True Positive Rate\n",
        "gbc_fpr, gbc_tpr, gbc_thres = roc_curve(Y_test, gbc_probs)"
      ],
      "execution_count": 41,
      "outputs": []
    },
    {
      "cell_type": "code",
      "metadata": {
        "colab": {
          "base_uri": "https://localhost:8080/"
        },
        "id": "Ye3ZHqiJYFSM",
        "outputId": "c493e89a-18b9-4153-843f-68e989da3768"
      },
      "source": [
        "# Cross Validation Classification Report\n",
        "test_size = 0.25\n",
        "seed = 7\n",
        "num_trees=30\n",
        "X_train, X_test, Y_train, Y_test = train_test_split(X_rs, y_rs, test_size=test_size, random_state=seed)\n",
        "model = AdaBoostClassifier(n_estimators=num_trees, random_state=seed)\n",
        "model.fit(X_train, Y_train)\n",
        "predicted = model.predict(X_test)\n",
        "report = classification_report(Y_test, predicted)\n",
        "print(report)"
      ],
      "execution_count": 42,
      "outputs": [
        {
          "output_type": "stream",
          "text": [
            "              precision    recall  f1-score   support\n",
            "\n",
            "           0       0.83      0.92      0.87     24419\n",
            "           1       0.91      0.82      0.86     24610\n",
            "\n",
            "    accuracy                           0.87     49029\n",
            "   macro avg       0.87      0.87      0.87     49029\n",
            "weighted avg       0.87      0.87      0.87     49029\n",
            "\n"
          ],
          "name": "stdout"
        }
      ]
    },
    {
      "cell_type": "code",
      "metadata": {
        "id": "bFGlg0yaYksK"
      },
      "source": [
        "ada_probs=model.predict_proba(X_test)\n",
        "ada_probs=ada_probs[:,1]"
      ],
      "execution_count": 43,
      "outputs": []
    },
    {
      "cell_type": "code",
      "metadata": {
        "colab": {
          "base_uri": "https://localhost:8080/"
        },
        "id": "BNVnXJY6Y8oc",
        "outputId": "dd2aa3eb-98c2-49f9-b3cc-2a20ae11bbf9"
      },
      "source": [
        "ada_auc = roc_auc_score(Y_test, ada_probs)\n",
        "\n",
        "\n",
        "print('ADABoost Classifier with 30 trees: ROC AUC= {} %'.format(round(ada_auc, 3)*100))"
      ],
      "execution_count": 44,
      "outputs": [
        {
          "output_type": "stream",
          "text": [
            "ADABoost Classifier with 30 trees: ROC AUC= 93.30000000000001 %\n"
          ],
          "name": "stdout"
        }
      ]
    },
    {
      "cell_type": "code",
      "metadata": {
        "id": "jligLToQZF7B"
      },
      "source": [
        "from sklearn.metrics import roc_curve\n",
        "#fpr --> False Positive Rate\n",
        "#tpr --> True Positive Rate\n",
        "ada_fpr, ada_tpr, ada_thres = roc_curve(Y_test, ada_probs)"
      ],
      "execution_count": 45,
      "outputs": []
    },
    {
      "cell_type": "code",
      "metadata": {
        "colab": {
          "base_uri": "https://localhost:8080/"
        },
        "id": "VeklIwo8ZOEb",
        "outputId": "3d7638b1-a015-4471-c5fe-6a3604e40f94"
      },
      "source": [
        "# Cross Validation Classification Report\n",
        "test_size = 0.25\n",
        "seed = 7\n",
        "X_train, X_test, Y_train, Y_test = train_test_split(X_rs, y_rs, test_size=test_size, random_state=seed)\n",
        "ensemble = VotingClassifier(estimators, voting='soft')\n",
        "ensemble.fit(X_train, Y_train)\n",
        "predicted = ensemble.predict(X_test)\n",
        "report = classification_report(Y_test, predicted)\n",
        "print(report)"
      ],
      "execution_count": 46,
      "outputs": [
        {
          "output_type": "stream",
          "text": [
            "              precision    recall  f1-score   support\n",
            "\n",
            "           0       0.99      0.96      0.97     24419\n",
            "           1       0.96      0.99      0.97     24610\n",
            "\n",
            "    accuracy                           0.97     49029\n",
            "   macro avg       0.97      0.97      0.97     49029\n",
            "weighted avg       0.97      0.97      0.97     49029\n",
            "\n"
          ],
          "name": "stdout"
        }
      ]
    },
    {
      "cell_type": "code",
      "metadata": {
        "id": "2zeQe9D3aneJ"
      },
      "source": [
        "ensemble_probs=ensemble.predict_proba(X_test)\n",
        "ensemble_probs=ensemble_probs[:,1]"
      ],
      "execution_count": 47,
      "outputs": []
    },
    {
      "cell_type": "code",
      "metadata": {
        "colab": {
          "base_uri": "https://localhost:8080/"
        },
        "id": "L0QQXxmqayw3",
        "outputId": "a6887000-f222-4dbf-bd58-de590fc2d38a"
      },
      "source": [
        "ensemble_auc = roc_auc_score(Y_test, ensemble_probs)\n",
        "\n",
        "\n",
        "print('Voting Classifier with LR, CART, KNN: ROC AUC= {} %'.format(round(ensemble_auc, 3)*100))"
      ],
      "execution_count": 48,
      "outputs": [
        {
          "output_type": "stream",
          "text": [
            "Voting Classifier with LR, CART, KNN: ROC AUC= 99.6 %\n"
          ],
          "name": "stdout"
        }
      ]
    },
    {
      "cell_type": "code",
      "metadata": {
        "id": "YrcQBpMDbWRx"
      },
      "source": [
        "ensemble_fpr, ensemble_tpr, ensemble_thres = roc_curve(Y_test, ensemble_probs)"
      ],
      "execution_count": 49,
      "outputs": []
    },
    {
      "cell_type": "code",
      "metadata": {
        "colab": {
          "base_uri": "https://localhost:8080/",
          "height": 496
        },
        "id": "3mMEQhmDWcw3",
        "outputId": "571fcfcd-ee71-4ff1-ac96-37e44c00bc58"
      },
      "source": [
        "fig, ax = plt.subplots(figsize=(10, 8))\n",
        "ax.plot(bgc_fpr,bgc_tpr, marker='.', label='Bagging Classifier with 100 trees')\n",
        "ax.plot(rfc_fpr, rfc_tpr, marker='.', label='Random Forest Classifier with 100 trees' )\n",
        "ax.plot(ext_fpr, ext_tpr,marker='.', label='Extra Trees Classifier with 100 trees')\n",
        "ax.plot(gbc_fpr, gbc_tpr, marker='.', label='Gradient Boosting Classifier with 100 trees')\n",
        "ax.plot(ada_fpr, ada_tpr, marker='.', label='ADABoost Classifier with 30 trees')\n",
        "ax.plot(ensemble_fpr, ensemble_tpr, marker='.', label= 'Voting Classifier with LR, CART, KNN' )\n",
        "lw = 2\n",
        "ax.plot([0, 1], [0, 1], color='navy', lw=lw, linestyle='--')\n",
        "# axis labels\n",
        "plt.xlabel('False Positive Rate')\n",
        "plt.ylabel('True Positive Rate')\n",
        "# show the legend\n",
        "plt.legend(loc=5)\n",
        "# show the plot\n",
        "plt.show()"
      ],
      "execution_count": 50,
      "outputs": [
        {
          "output_type": "display_data",
          "data": {
            "image/png": "[encoded data removed]",
            "text/plain": [
              "<Figure size 720x576 with 1 Axes>"
            ]
          },
          "metadata": {
            "tags": [],
            "needs_background": "light"
          }
        }
      ]
    },
    {
      "cell_type": "code",
      "metadata": {
        "id": "XlJhuMEaZcaI"
      },
      "source": [
        ""
      ],
      "execution_count": 50,
      "outputs": []
    }
  ]
}