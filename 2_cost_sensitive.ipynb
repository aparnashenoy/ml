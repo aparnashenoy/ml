{
  "nbformat": 4,
  "nbformat_minor": 0,
  "metadata": {
    "colab": {
      "name": "2_cost_sensitive.ipynb",
      "provenance": [],
      "authorship_tag": "ABX9TyOAMEX7oSrR6stn9E9XZ6Tu",
      "include_colab_link": true
    },
    "kernelspec": {
      "name": "python3",
      "display_name": "Python 3"
    }
  },
  "cells": [
    {
      "cell_type": "markdown",
      "metadata": {
        "id": "view-in-github",
        "colab_type": "text"
      },
      "source": [
        "<a href=\"https://colab.research.google.com/github/aparnashenoy/ml/blob/master/2_cost_sensitive.ipynb\" target=\"_parent\"><img src=\"https://colab.research.google.com/assets/colab-badge.svg\" alt=\"Open In Colab\"/></a>"
      ]
    },
    {
      "cell_type": "code",
      "metadata": {
        "id": "ZG7C9yfD20cR",
        "colab_type": "code",
        "colab": {}
      },
      "source": [
        "from numpy import mean\n",
        "from numpy import std\n",
        "from pandas import read_csv\n",
        "from sklearn.model_selection import cross_val_score\n",
        "from sklearn.model_selection import RepeatedStratifiedKFold\n",
        "from collections import Counter\n",
        "from sklearn.datasets import make_classification\n",
        "from matplotlib import pyplot\n",
        "from numpy import where\n",
        "import pandas as pd"
      ],
      "execution_count": 1,
      "outputs": []
    },
    {
      "cell_type": "code",
      "metadata": {
        "id": "JEFxuaFz3VGC",
        "colab_type": "code",
        "colab": {
          "base_uri": "https://localhost:8080/",
          "height": 139
        },
        "outputId": "9c0f0bfe-6e87-4949-c3b2-0350f2426b19"
      },
      "source": [
        "from google.colab import drive\n",
        "drive.mount('/gdrive')\n",
        "%cd /gdrive"
      ],
      "execution_count": 2,
      "outputs": [
        {
          "output_type": "stream",
          "text": [
            "Go to this URL in a browser: https://accounts.google.com/o/oauth2/auth?client_id=947318989803-6bn6qk8qdgf4n4g3pfee6491hc0brc4i.apps.googleusercontent.com&redirect_uri=urn%3aietf%3awg%3aoauth%3a2.0%3aoob&response_type=code&scope=email%20https%3a%2f%2fwww.googleapis.com%2fauth%2fdocs.test%20https%3a%2f%2fwww.googleapis.com%2fauth%2fdrive%20https%3a%2f%2fwww.googleapis.com%2fauth%2fdrive.photos.readonly%20https%3a%2f%2fwww.googleapis.com%2fauth%2fpeopleapi.readonly\n",
            "\n",
            "Enter your authorization code:\n",
            "··········\n",
            "Mounted at /gdrive\n",
            "/gdrive\n"
          ],
          "name": "stdout"
        }
      ]
    },
    {
      "cell_type": "code",
      "metadata": {
        "id": "CoM24wRi3eAy",
        "colab_type": "code",
        "colab": {}
      },
      "source": [
        "df= pd.read_csv(\"/gdrive/My Drive/traindata.csv\")"
      ],
      "execution_count": 3,
      "outputs": []
    },
    {
      "cell_type": "code",
      "metadata": {
        "id": "Y9uBtoYH3xnD",
        "colab_type": "code",
        "colab": {
          "base_uri": "https://localhost:8080/",
          "height": 241
        },
        "outputId": "7c328731-c326-451c-efd6-c2abcdd1a551"
      },
      "source": [
        "df.head()"
      ],
      "execution_count": 4,
      "outputs": [
        {
          "output_type": "execute_result",
          "data": {
            "text/html": [
              "<div>\n",
              "<style scoped>\n",
              "    .dataframe tbody tr th:only-of-type {\n",
              "        vertical-align: middle;\n",
              "    }\n",
              "\n",
              "    .dataframe tbody tr th {\n",
              "        vertical-align: top;\n",
              "    }\n",
              "\n",
              "    .dataframe thead th {\n",
              "        text-align: right;\n",
              "    }\n",
              "</style>\n",
              "<table border=\"1\" class=\"dataframe\">\n",
              "  <thead>\n",
              "    <tr style=\"text-align: right;\">\n",
              "      <th></th>\n",
              "      <th>Unnamed: 0</th>\n",
              "      <th>X</th>\n",
              "      <th>HR</th>\n",
              "      <th>O2Sat</th>\n",
              "      <th>Temp</th>\n",
              "      <th>SBP</th>\n",
              "      <th>MAP</th>\n",
              "      <th>DBP</th>\n",
              "      <th>Resp</th>\n",
              "      <th>HCO3</th>\n",
              "      <th>FiO2</th>\n",
              "      <th>pH</th>\n",
              "      <th>PaCO2</th>\n",
              "      <th>SaO2</th>\n",
              "      <th>AST</th>\n",
              "      <th>BUN</th>\n",
              "      <th>Alkalinephos</th>\n",
              "      <th>Calcium</th>\n",
              "      <th>Chloride</th>\n",
              "      <th>Creatinine</th>\n",
              "      <th>Bilirubin_direct</th>\n",
              "      <th>Glucose</th>\n",
              "      <th>Lactate</th>\n",
              "      <th>Magnesium</th>\n",
              "      <th>Phosphate</th>\n",
              "      <th>Potassium</th>\n",
              "      <th>Bilirubin_total</th>\n",
              "      <th>TroponinI</th>\n",
              "      <th>Hct</th>\n",
              "      <th>Hgb</th>\n",
              "      <th>PTT</th>\n",
              "      <th>WBC</th>\n",
              "      <th>Fibrinogen</th>\n",
              "      <th>Platelets</th>\n",
              "      <th>Age</th>\n",
              "      <th>Gender</th>\n",
              "      <th>Unit1</th>\n",
              "      <th>Unit2</th>\n",
              "      <th>HospAdmTime</th>\n",
              "      <th>ICULOS</th>\n",
              "      <th>SepsisLabel</th>\n",
              "    </tr>\n",
              "  </thead>\n",
              "  <tbody>\n",
              "    <tr>\n",
              "      <th>0</th>\n",
              "      <td>1</td>\n",
              "      <td>1</td>\n",
              "      <td>84.0</td>\n",
              "      <td>98.0</td>\n",
              "      <td>37.06</td>\n",
              "      <td>118.5</td>\n",
              "      <td>77.00</td>\n",
              "      <td>58.5</td>\n",
              "      <td>18.0</td>\n",
              "      <td>24.0</td>\n",
              "      <td>0.50</td>\n",
              "      <td>7.39</td>\n",
              "      <td>40.0</td>\n",
              "      <td>97.0</td>\n",
              "      <td>57.0</td>\n",
              "      <td>18.0</td>\n",
              "      <td>78.0</td>\n",
              "      <td>8.3</td>\n",
              "      <td>106.0</td>\n",
              "      <td>0.9</td>\n",
              "      <td>1.4</td>\n",
              "      <td>124.0</td>\n",
              "      <td>1.8</td>\n",
              "      <td>2.0</td>\n",
              "      <td>3.4</td>\n",
              "      <td>4.1</td>\n",
              "      <td>0.9</td>\n",
              "      <td>4.3</td>\n",
              "      <td>30.2</td>\n",
              "      <td>10.4</td>\n",
              "      <td>32.4</td>\n",
              "      <td>10.8</td>\n",
              "      <td>250.0</td>\n",
              "      <td>181.0</td>\n",
              "      <td>83.14</td>\n",
              "      <td>0</td>\n",
              "      <td>1</td>\n",
              "      <td>0</td>\n",
              "      <td>-0.03</td>\n",
              "      <td>1</td>\n",
              "      <td>0</td>\n",
              "    </tr>\n",
              "    <tr>\n",
              "      <th>1</th>\n",
              "      <td>2</td>\n",
              "      <td>2</td>\n",
              "      <td>97.0</td>\n",
              "      <td>95.0</td>\n",
              "      <td>37.06</td>\n",
              "      <td>98.0</td>\n",
              "      <td>75.33</td>\n",
              "      <td>58.5</td>\n",
              "      <td>19.0</td>\n",
              "      <td>24.0</td>\n",
              "      <td>0.50</td>\n",
              "      <td>7.39</td>\n",
              "      <td>40.0</td>\n",
              "      <td>97.0</td>\n",
              "      <td>57.0</td>\n",
              "      <td>18.0</td>\n",
              "      <td>78.0</td>\n",
              "      <td>8.3</td>\n",
              "      <td>106.0</td>\n",
              "      <td>0.9</td>\n",
              "      <td>1.4</td>\n",
              "      <td>124.0</td>\n",
              "      <td>1.8</td>\n",
              "      <td>2.0</td>\n",
              "      <td>3.4</td>\n",
              "      <td>4.1</td>\n",
              "      <td>0.9</td>\n",
              "      <td>4.3</td>\n",
              "      <td>30.2</td>\n",
              "      <td>10.4</td>\n",
              "      <td>32.4</td>\n",
              "      <td>10.8</td>\n",
              "      <td>250.0</td>\n",
              "      <td>181.0</td>\n",
              "      <td>83.14</td>\n",
              "      <td>0</td>\n",
              "      <td>1</td>\n",
              "      <td>0</td>\n",
              "      <td>-0.03</td>\n",
              "      <td>2</td>\n",
              "      <td>0</td>\n",
              "    </tr>\n",
              "    <tr>\n",
              "      <th>2</th>\n",
              "      <td>3</td>\n",
              "      <td>3</td>\n",
              "      <td>89.0</td>\n",
              "      <td>99.0</td>\n",
              "      <td>37.06</td>\n",
              "      <td>122.0</td>\n",
              "      <td>86.00</td>\n",
              "      <td>58.5</td>\n",
              "      <td>22.0</td>\n",
              "      <td>24.0</td>\n",
              "      <td>0.50</td>\n",
              "      <td>7.39</td>\n",
              "      <td>40.0</td>\n",
              "      <td>97.0</td>\n",
              "      <td>57.0</td>\n",
              "      <td>18.0</td>\n",
              "      <td>78.0</td>\n",
              "      <td>8.3</td>\n",
              "      <td>106.0</td>\n",
              "      <td>0.9</td>\n",
              "      <td>1.4</td>\n",
              "      <td>124.0</td>\n",
              "      <td>1.8</td>\n",
              "      <td>2.0</td>\n",
              "      <td>3.4</td>\n",
              "      <td>4.1</td>\n",
              "      <td>0.9</td>\n",
              "      <td>4.3</td>\n",
              "      <td>30.2</td>\n",
              "      <td>10.4</td>\n",
              "      <td>32.4</td>\n",
              "      <td>10.8</td>\n",
              "      <td>250.0</td>\n",
              "      <td>181.0</td>\n",
              "      <td>83.14</td>\n",
              "      <td>0</td>\n",
              "      <td>1</td>\n",
              "      <td>0</td>\n",
              "      <td>-0.03</td>\n",
              "      <td>3</td>\n",
              "      <td>0</td>\n",
              "    </tr>\n",
              "    <tr>\n",
              "      <th>3</th>\n",
              "      <td>4</td>\n",
              "      <td>4</td>\n",
              "      <td>90.0</td>\n",
              "      <td>95.0</td>\n",
              "      <td>37.06</td>\n",
              "      <td>118.5</td>\n",
              "      <td>77.00</td>\n",
              "      <td>58.5</td>\n",
              "      <td>30.0</td>\n",
              "      <td>24.0</td>\n",
              "      <td>0.50</td>\n",
              "      <td>7.36</td>\n",
              "      <td>100.0</td>\n",
              "      <td>97.0</td>\n",
              "      <td>57.0</td>\n",
              "      <td>18.0</td>\n",
              "      <td>78.0</td>\n",
              "      <td>8.3</td>\n",
              "      <td>106.0</td>\n",
              "      <td>0.9</td>\n",
              "      <td>1.4</td>\n",
              "      <td>124.0</td>\n",
              "      <td>1.8</td>\n",
              "      <td>2.0</td>\n",
              "      <td>3.4</td>\n",
              "      <td>4.1</td>\n",
              "      <td>0.9</td>\n",
              "      <td>4.3</td>\n",
              "      <td>30.2</td>\n",
              "      <td>10.4</td>\n",
              "      <td>32.4</td>\n",
              "      <td>10.8</td>\n",
              "      <td>250.0</td>\n",
              "      <td>181.0</td>\n",
              "      <td>83.14</td>\n",
              "      <td>0</td>\n",
              "      <td>1</td>\n",
              "      <td>0</td>\n",
              "      <td>-0.03</td>\n",
              "      <td>4</td>\n",
              "      <td>0</td>\n",
              "    </tr>\n",
              "    <tr>\n",
              "      <th>4</th>\n",
              "      <td>5</td>\n",
              "      <td>5</td>\n",
              "      <td>103.0</td>\n",
              "      <td>88.5</td>\n",
              "      <td>37.06</td>\n",
              "      <td>122.0</td>\n",
              "      <td>91.33</td>\n",
              "      <td>58.5</td>\n",
              "      <td>24.5</td>\n",
              "      <td>24.0</td>\n",
              "      <td>0.28</td>\n",
              "      <td>7.39</td>\n",
              "      <td>40.0</td>\n",
              "      <td>97.0</td>\n",
              "      <td>57.0</td>\n",
              "      <td>18.0</td>\n",
              "      <td>78.0</td>\n",
              "      <td>8.3</td>\n",
              "      <td>106.0</td>\n",
              "      <td>0.9</td>\n",
              "      <td>1.4</td>\n",
              "      <td>124.0</td>\n",
              "      <td>1.8</td>\n",
              "      <td>2.0</td>\n",
              "      <td>3.4</td>\n",
              "      <td>4.1</td>\n",
              "      <td>0.9</td>\n",
              "      <td>4.3</td>\n",
              "      <td>30.2</td>\n",
              "      <td>10.4</td>\n",
              "      <td>32.4</td>\n",
              "      <td>10.8</td>\n",
              "      <td>250.0</td>\n",
              "      <td>181.0</td>\n",
              "      <td>83.14</td>\n",
              "      <td>0</td>\n",
              "      <td>1</td>\n",
              "      <td>0</td>\n",
              "      <td>-0.03</td>\n",
              "      <td>5</td>\n",
              "      <td>0</td>\n",
              "    </tr>\n",
              "  </tbody>\n",
              "</table>\n",
              "</div>"
            ],
            "text/plain": [
              "   Unnamed: 0  X     HR  O2Sat  ...  Unit2  HospAdmTime  ICULOS  SepsisLabel\n",
              "0           1  1   84.0   98.0  ...      0        -0.03       1            0\n",
              "1           2  2   97.0   95.0  ...      0        -0.03       2            0\n",
              "2           3  3   89.0   99.0  ...      0        -0.03       3            0\n",
              "3           4  4   90.0   95.0  ...      0        -0.03       4            0\n",
              "4           5  5  103.0   88.5  ...      0        -0.03       5            0\n",
              "\n",
              "[5 rows x 41 columns]"
            ]
          },
          "metadata": {
            "tags": []
          },
          "execution_count": 4
        }
      ]
    },
    {
      "cell_type": "code",
      "metadata": {
        "id": "Sgzi9JZy3y3j",
        "colab_type": "code",
        "colab": {}
      },
      "source": [
        "df=df.drop(['Unnamed: 0','X'],axis=1)"
      ],
      "execution_count": 5,
      "outputs": []
    },
    {
      "cell_type": "code",
      "metadata": {
        "id": "XowJCVkD4PWr",
        "colab_type": "code",
        "colab": {
          "base_uri": "https://localhost:8080/",
          "height": 51
        },
        "outputId": "5a017f2b-e159-43c0-f8cc-3c41f97aa432"
      },
      "source": [
        "import numpy as np\n",
        "X=np.array(df.drop(['SepsisLabel'],1))\n",
        "y=np.array(df['SepsisLabel'])\n",
        "print('Shape of X: {}'.format(X.shape))\n",
        "print('Shape of y: {}'.format(y.shape))"
      ],
      "execution_count": 6,
      "outputs": [
        {
          "output_type": "stream",
          "text": [
            "Shape of X: (790215, 38)\n",
            "Shape of y: (790215,)\n"
          ],
          "name": "stdout"
        }
      ]
    },
    {
      "cell_type": "code",
      "metadata": {
        "id": "ucYJXdrq4ydU",
        "colab_type": "code",
        "colab": {
          "base_uri": "https://localhost:8080/",
          "height": 34
        },
        "outputId": "c4bf8d7e-705a-42ed-ca03-6ecb553292f9"
      },
      "source": [
        "counter = Counter(y)\n",
        "print(counter)"
      ],
      "execution_count": 7,
      "outputs": [
        {
          "output_type": "stream",
          "text": [
            "Counter({0: 773079, 1: 17136})\n"
          ],
          "name": "stdout"
        }
      ]
    },
    {
      "cell_type": "code",
      "metadata": {
        "id": "Rr2bO4Zr4-vn",
        "colab_type": "code",
        "colab": {
          "base_uri": "https://localhost:8080/",
          "height": 265
        },
        "outputId": "781159f2-f7da-4338-f156-444386499b30"
      },
      "source": [
        "for label, _ in counter.items():\n",
        "  row_ix =where(y == label)[0]\n",
        "  pyplot.scatter(X[row_ix,0], X[row_ix,1], label=str(label))\n",
        "pyplot.legend()\n",
        "pyplot.show()"
      ],
      "execution_count": 8,
      "outputs": [
        {
          "output_type": "display_data",
          "data": {
            "image/png": "[encoded data removed]",
            "text/plain": [
              "<Figure size 432x288 with 1 Axes>"
            ]
          },
          "metadata": {
            "tags": [],
            "needs_background": "light"
          }
        }
      ]
    },
    {
      "cell_type": "code",
      "metadata": {
        "id": "FA6jJ0hj5SVJ",
        "colab_type": "code",
        "colab": {}
      },
      "source": [
        "from numpy import mean\n",
        "from sklearn.model_selection import cross_val_score\n",
        "from sklearn.model_selection import RepeatedStratifiedKFold\n",
        "from sklearn.linear_model import LogisticRegression\n",
        "from sklearn.ensemble import ExtraTreesClassifier"
      ],
      "execution_count": 9,
      "outputs": []
    },
    {
      "cell_type": "code",
      "metadata": {
        "id": "vRNi4h3rLOtA",
        "colab_type": "code",
        "colab": {
          "base_uri": "https://localhost:8080/",
          "height": 136
        },
        "outputId": "69d8964b-3464-4e99-ab9c-9eb841e84b5d"
      },
      "source": [
        "md_imp = ExtraTreesClassifier()\n",
        "X=np.array(df.drop(['SepsisLabel'],1))\n",
        "y=np.array(df['SepsisLabel'])\n",
        "md_imp.fit(X,y)\n",
        "print(md_imp.feature_importances_)"
      ],
      "execution_count": 10,
      "outputs": [
        {
          "output_type": "stream",
          "text": [
            "[0.08105576 0.06322402 0.04910294 0.07566713 0.0769907  0.06455276\n",
            " 0.07158829 0.00496229 0.02283664 0.01679959 0.0136159  0.00731396\n",
            " 0.00259131 0.00492022 0.00275761 0.00355696 0.00503064 0.00401169\n",
            " 0.00067854 0.01068963 0.01054833 0.00533264 0.00354275 0.00842263\n",
            " 0.0022249  0.00031714 0.01027099 0.00651572 0.00649737 0.00541516\n",
            " 0.00256423 0.00486309 0.11341911 0.00486951 0.00111699 0.00130693\n",
            " 0.09914706 0.13167886]\n"
          ],
          "name": "stdout"
        }
      ]
    },
    {
      "cell_type": "code",
      "metadata": {
        "id": "oY-NxxQhl0M1",
        "colab_type": "code",
        "colab": {
          "base_uri": "https://localhost:8080/",
          "height": 638
        },
        "outputId": "f0b9572d-7b92-4ae7-91b9-98db17e4ecc1"
      },
      "source": [
        "from pylab import rcParams\n",
        "rcParams['figure.figsize'] = 5, 10\n",
        "features=df.columns\n",
        "importances = md_imp.feature_importances_\n",
        "indices = np.argsort(importances)\n",
        "pyplot.figure(1)\n",
        "pyplot.title('Feature Importances')\n",
        "pyplot.barh(range(len(indices)), importances[indices], color='b', align='center')\n",
        "pyplot.yticks(range(len(indices)), features[indices])\n",
        "pyplot.xlabel('Relative Importance')"
      ],
      "execution_count": 11,
      "outputs": [
        {
          "output_type": "execute_result",
          "data": {
            "text/plain": [
              "Text(0.5, 0, 'Relative Importance')"
            ]
          },
          "metadata": {
            "tags": []
          },
          "execution_count": 11
        },
        {
          "output_type": "display_data",
          "data": {
            "image/png": "[encoded data removed]",
            "text/plain": [
              "<Figure size 360x720 with 1 Axes>"
            ]
          },
          "metadata": {
            "tags": [],
            "needs_background": "light"
          }
        }
      ]
    },
    {
      "cell_type": "code",
      "metadata": {
        "id": "4yPw-zAH5UR1",
        "colab_type": "code",
        "colab": {}
      },
      "source": [
        "model = LogisticRegression(solver='lbfgs')"
      ],
      "execution_count": 12,
      "outputs": []
    },
    {
      "cell_type": "code",
      "metadata": {
        "id": "ICzYKAKY5dPV",
        "colab_type": "code",
        "colab": {}
      },
      "source": [
        "cv = RepeatedStratifiedKFold(n_splits= 10, n_repeats= 3, random_state=1)"
      ],
      "execution_count": 13,
      "outputs": []
    },
    {
      "cell_type": "code",
      "metadata": {
        "id": "ksMDYMUV5diD",
        "colab_type": "code",
        "colab": {}
      },
      "source": [
        "scores = cross_val_score(model, X,y, scoring='roc_auc', cv = cv, n_jobs=-1)"
      ],
      "execution_count": 14,
      "outputs": []
    },
    {
      "cell_type": "code",
      "metadata": {
        "id": "xzyDRI4f5uMU",
        "colab_type": "code",
        "colab": {
          "base_uri": "https://localhost:8080/",
          "height": 34
        },
        "outputId": "758b8e6b-5f46-4db9-a863-a22a8e30118d"
      },
      "source": [
        "print('Mean ROC AUC: %3f' %mean(scores))"
      ],
      "execution_count": 15,
      "outputs": [
        {
          "output_type": "stream",
          "text": [
            "Mean ROC AUC: 0.709652\n"
          ],
          "name": "stdout"
        }
      ]
    },
    {
      "cell_type": "code",
      "metadata": {
        "id": "T7l2pdvp-4x8",
        "colab_type": "code",
        "colab": {
          "base_uri": "https://localhost:8080/",
          "height": 34
        },
        "outputId": "301ce075-113e-4d90-c747-94bb748572b5"
      },
      "source": [
        "weights = {0:0.01, 1:1.0}\n",
        "model_1 = LogisticRegression(solver='lbfgs', class_weight= weights)\n",
        "cv_1 = RepeatedStratifiedKFold(n_splits= 10, n_repeats= 3, random_state=1)\n",
        "scores_1 = cross_val_score(model_1, X,y, scoring='roc_auc', cv = cv_1, n_jobs=-1)\n",
        "print('Mean ROC AUC: %3f' %mean(scores_1))"
      ],
      "execution_count": 16,
      "outputs": [
        {
          "output_type": "stream",
          "text": [
            "Mean ROC AUC: 0.715475\n"
          ],
          "name": "stdout"
        }
      ]
    },
    {
      "cell_type": "code",
      "metadata": {
        "id": "CTr8tW3YbwyE",
        "colab_type": "code",
        "colab": {
          "base_uri": "https://localhost:8080/",
          "height": 34
        },
        "outputId": "508091df-8a5a-4995-eb34-3a7c7b2fa565"
      },
      "source": [
        "from sklearn.utils.class_weight import compute_class_weight\n",
        "# calculate class weighting\n",
        "weighting = compute_class_weight('balanced', [0,1], y)\n",
        "print(weighting)"
      ],
      "execution_count": 17,
      "outputs": [
        {
          "output_type": "stream",
          "text": [
            "[ 0.51108296 23.05716036]\n"
          ],
          "name": "stdout"
        }
      ]
    },
    {
      "cell_type": "code",
      "metadata": {
        "id": "0MGJX_WPAA8Y",
        "colab_type": "code",
        "colab": {
          "base_uri": "https://localhost:8080/",
          "height": 34
        },
        "outputId": "6f4fe9d7-75b4-4ce6-9e70-a4bbbfe0eb32"
      },
      "source": [
        "model_2 = LogisticRegression(solver='lbfgs', class_weight='balanced')\n",
        "cv_2 = RepeatedStratifiedKFold(n_splits=10, n_repeats=3, random_state=1)\n",
        "scores_2=cross_val_score(model_2, X,y,scoring = 'roc_auc', cv = cv_2,n_jobs=-1)\n",
        "print('Mean ROC AUC: %.3f' %mean(scores_2))"
      ],
      "execution_count": 18,
      "outputs": [
        {
          "output_type": "stream",
          "text": [
            "Mean ROC AUC: 0.715\n"
          ],
          "name": "stdout"
        }
      ]
    },
    {
      "cell_type": "code",
      "metadata": {
        "id": "hmSjbEo3ABVa",
        "colab_type": "code",
        "colab": {
          "base_uri": "https://localhost:8080/",
          "height": 272
        },
        "outputId": "e5d905a9-5fad-4379-d2df-2ced300e5539"
      },
      "source": [
        "from sklearn.model_selection import GridSearchCV\n",
        "#define model\n",
        "model_3 = LogisticRegression(solver = 'lbfgs')\n",
        "#define grid\n",
        "balance = [{0:100,1:1}, {0:10,1:1}, {0:1,1:1}, {0:1,1:10}, {0:1,1:100}, {0:0.5,1:23}]\n",
        "param_grid = dict(class_weight = balance)\n",
        "#define evaluation procedure\n",
        "cv_3 = RepeatedStratifiedKFold(n_splits=10, n_repeats=3, random_state=1)\n",
        "#define grid search\n",
        "grid = GridSearchCV(estimator= model_3, param_grid=param_grid, n_jobs=-1, cv=cv_3,\n",
        "                    scoring = 'roc_auc')\n",
        "#execute the grid search\n",
        "grid_result = grid.fit(X,y)\n",
        "#report all configuration\n",
        "print('Best: %f using %s' %(grid_result.best_score_, grid_result.best_params_))\n",
        "#report all configurations\n",
        "means = grid_result.cv_results_['mean_test_score']\n",
        "stds = grid_result.cv_results_['std_test_score']\n",
        "params = grid_result.cv_results_['params']\n",
        "for mean, stdev, param in zip(means, stds, params):\n",
        "  print('%f (%f) with: %r' % (mean, stdev, param))"
      ],
      "execution_count": 19,
      "outputs": [
        {
          "output_type": "stream",
          "text": [
            "Best: 0.715769 using {'class_weight': {0: 1, 1: 100}}\n",
            "0.705812 (0.005967) with: {'class_weight': {0: 100, 1: 1}}\n",
            "0.707570 (0.005800) with: {'class_weight': {0: 10, 1: 1}}\n",
            "0.709652 (0.005853) with: {'class_weight': {0: 1, 1: 1}}\n",
            "0.712096 (0.005818) with: {'class_weight': {0: 1, 1: 10}}\n",
            "0.715769 (0.006010) with: {'class_weight': {0: 1, 1: 100}}\n",
            "0.714480 (0.006199) with: {'class_weight': {0: 0.5, 1: 23}}\n"
          ],
          "name": "stdout"
        },
        {
          "output_type": "stream",
          "text": [
            "/usr/local/lib/python3.6/dist-packages/sklearn/linear_model/_logistic.py:940: ConvergenceWarning: lbfgs failed to converge (status=1):\n",
            "STOP: TOTAL NO. of ITERATIONS REACHED LIMIT.\n",
            "\n",
            "Increase the number of iterations (max_iter) or scale the data as shown in:\n",
            "    https://scikit-learn.org/stable/modules/preprocessing.html\n",
            "Please also refer to the documentation for alternative solver options:\n",
            "    https://scikit-learn.org/stable/modules/linear_model.html#logistic-regression\n",
            "  extra_warning_msg=_LOGISTIC_SOLVER_CONVERGENCE_MSG)\n"
          ],
          "name": "stderr"
        }
      ]
    }
  ]
}