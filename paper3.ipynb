{
  "nbformat": 4,
  "nbformat_minor": 0,
  "metadata": {
    "accelerator": "GPU",
    "colab": {
      "name": "paper3.ipynb",
      "provenance": [],
      "machine_shape": "hm",
      "authorship_tag": "ABX9TyNVjNQadBCvfN2Lt8a4z7k6",
      "include_colab_link": true
    },
    "kernelspec": {
      "display_name": "Python 3",
      "name": "python3"
    },
    "language_info": {
      "name": "python"
    }
  },
  "cells": [
    {
      "cell_type": "markdown",
      "metadata": {
        "id": "view-in-github",
        "colab_type": "text"
      },
      "source": [
        "<a href=\"https://colab.research.google.com/github/aparnashenoy/ml/blob/master/paper3.ipynb\" target=\"_parent\"><img src=\"https://colab.research.google.com/assets/colab-badge.svg\" alt=\"Open In Colab\"/></a>"
      ]
    },
    {
      "cell_type": "code",
      "metadata": {
        "colab": {
          "base_uri": "https://localhost:8080/"
        },
        "id": "xz3P10rhZCCh",
        "outputId": "1461a780-213a-469e-8357-c49e272e5808"
      },
      "source": [
        "from google.colab import drive\n",
        "drive.mount('/gdrive')"
      ],
      "execution_count": 1,
      "outputs": [
        {
          "output_type": "stream",
          "text": [
            "Drive already mounted at /gdrive; to attempt to forcibly remount, call drive.mount(\"/gdrive\", force_remount=True).\n"
          ],
          "name": "stdout"
        }
      ]
    },
    {
      "cell_type": "code",
      "metadata": {
        "id": "ZEI2TuiUZMFZ"
      },
      "source": [
        "path = '/gdrive/My Drive/'"
      ],
      "execution_count": 2,
      "outputs": []
    },
    {
      "cell_type": "code",
      "metadata": {
        "id": "-BjnAW6gZdul"
      },
      "source": [
        "import numpy as np\n",
        "import pandas as pd\n",
        "from pandas import read_csv\n",
        "import matplotlib.pyplot as plt\n",
        "import seaborn as sns\n",
        "\n",
        "%matplotlib inline"
      ],
      "execution_count": 3,
      "outputs": []
    },
    {
      "cell_type": "code",
      "metadata": {
        "id": "xq_PsQUUZWr-"
      },
      "source": [
        "data = pd.read_csv(path +'Copy of train.psv', sep='|')"
      ],
      "execution_count": 4,
      "outputs": []
    },
    {
      "cell_type": "code",
      "metadata": {
        "id": "mezwcFa0a6Om"
      },
      "source": [
        "# Load libraries\n",
        "\n",
        "from numpy import arange\n",
        "from numpy import set_printoptions\n",
        "from pandas import read_csv\n",
        "from pandas import set_option\n",
        "from pandas.plotting import scatter_matrix\n",
        "from sklearn.preprocessing import StandardScaler\n",
        "from sklearn.preprocessing import MinMaxScaler\n",
        "from sklearn.preprocessing import Normalizer\n",
        "from sklearn.preprocessing import Binarizer\n",
        "from sklearn.feature_selection import SelectKBest\n",
        "from sklearn.feature_selection import chi2\n",
        "from sklearn.feature_selection import RFE\n",
        "from sklearn.decomposition import PCA\n",
        "from sklearn.ensemble import ExtraTreesClassifier\n",
        "from sklearn.model_selection import train_test_split\n",
        "from sklearn.model_selection import KFold\n",
        "from sklearn.model_selection import cross_val_score\n",
        "from sklearn.model_selection import GridSearchCV\n",
        "from sklearn.model_selection import LeaveOneOut\n",
        "from sklearn.model_selection import ShuffleSplit\n",
        "from sklearn.linear_model import LinearRegression\n",
        "from sklearn.linear_model import LogisticRegression\n",
        "from sklearn.linear_model import Lasso\n",
        "from sklearn.linear_model import ElasticNet\n",
        "from sklearn.tree import DecisionTreeRegressor\n",
        "from sklearn.neighbors import KNeighborsRegressor\n",
        "from sklearn.svm import SVR\n",
        "from sklearn.pipeline import Pipeline\n",
        "from sklearn.ensemble import RandomForestRegressor\n",
        "from sklearn.ensemble import GradientBoostingRegressor\n",
        "from sklearn.ensemble import ExtraTreesRegressor\n",
        "from sklearn.ensemble import AdaBoostRegressor\n",
        "from sklearn.metrics import mean_squared_error\n",
        "from sklearn.metrics import confusion_matrix\n",
        "from sklearn.metrics import accuracy_score\n",
        "from sklearn.metrics import classification_report\n",
        "from sklearn.discriminant_analysis import LinearDiscriminantAnalysis\n",
        "from sklearn.neighbors import KNeighborsClassifier\n",
        "from sklearn.naive_bayes import GaussianNB\n",
        "from sklearn.tree import DecisionTreeClassifier\n",
        "from sklearn.svm import SVC\n",
        "\n",
        "import warnings\n",
        "warnings.filterwarnings('ignore')"
      ],
      "execution_count": 5,
      "outputs": []
    },
    {
      "cell_type": "code",
      "metadata": {
        "colab": {
          "base_uri": "https://localhost:8080/"
        },
        "id": "MrOLMATVHPp8",
        "outputId": "a15457fc-e77d-45fc-cade-4f44c9d3f626"
      },
      "source": [
        "# Statistical Summary\n",
        "set_option('display.width', 100)\n",
        "set_option('precision', 3)\n",
        "description = data.describe()\n",
        "print(description)"
      ],
      "execution_count": 6,
      "outputs": [
        {
          "output_type": "stream",
          "text": [
            "              HR      O2Sat        Temp  ...  HospAdmTime     ICULOS  SepsisLabel\n",
            "count  1.059e+06  1.018e+06  394625.000  ...    1.167e+06  1.167e+06    1.167e+06\n",
            "mean   8.471e+01  9.721e+01      36.994  ...   -5.331e+01  2.670e+01    1.921e-02\n",
            "std    1.717e+01  2.928e+00       0.772  ...    1.498e+02  2.777e+01    1.373e-01\n",
            "min    2.000e+01  2.000e+01      20.900  ...   -3.711e+03  1.000e+00    0.000e+00\n",
            "25%    7.200e+01  9.600e+01      36.500  ...   -4.268e+01  1.100e+01    0.000e+00\n",
            "50%    8.400e+01  9.800e+01      37.000  ...   -4.880e+00  2.100e+01    0.000e+00\n",
            "75%    9.600e+01  9.950e+01      37.500  ...   -3.000e-02  3.400e+01    0.000e+00\n",
            "max    2.800e+02  1.000e+02      50.000  ...    2.399e+01  3.360e+02    1.000e+00\n",
            "\n",
            "[8 rows x 41 columns]\n"
          ],
          "name": "stdout"
        }
      ]
    },
    {
      "cell_type": "code",
      "metadata": {
        "colab": {
          "base_uri": "https://localhost:8080/",
          "height": 1000
        },
        "id": "8JxtvCvCHyPX",
        "outputId": "f13acc97-0826-4a5a-e4e5-f501c0cb2f31"
      },
      "source": [
        "data.describe().transpose()"
      ],
      "execution_count": 7,
      "outputs": [
        {
          "output_type": "execute_result",
          "data": {
            "text/html": [
              "<div>\n",
              "<style scoped>\n",
              "    .dataframe tbody tr th:only-of-type {\n",
              "        vertical-align: middle;\n",
              "    }\n",
              "\n",
              "    .dataframe tbody tr th {\n",
              "        vertical-align: top;\n",
              "    }\n",
              "\n",
              "    .dataframe thead th {\n",
              "        text-align: right;\n",
              "    }\n",
              "</style>\n",
              "<table border=\"1\" class=\"dataframe\">\n",
              "  <thead>\n",
              "    <tr style=\"text-align: right;\">\n",
              "      <th></th>\n",
              "      <th>count</th>\n",
              "      <th>mean</th>\n",
              "      <th>std</th>\n",
              "      <th>min</th>\n",
              "      <th>25%</th>\n",
              "      <th>50%</th>\n",
              "      <th>75%</th>\n",
              "      <th>max</th>\n",
              "    </tr>\n",
              "  </thead>\n",
              "  <tbody>\n",
              "    <tr>\n",
              "      <th>HR</th>\n",
              "      <td>1.059e+06</td>\n",
              "      <td>84.712</td>\n",
              "      <td>17.173</td>\n",
              "      <td>20.00</td>\n",
              "      <td>72.00</td>\n",
              "      <td>84.00</td>\n",
              "      <td>96.00</td>\n",
              "      <td>280.00</td>\n",
              "    </tr>\n",
              "    <tr>\n",
              "      <th>O2Sat</th>\n",
              "      <td>1.018e+06</td>\n",
              "      <td>97.212</td>\n",
              "      <td>2.928</td>\n",
              "      <td>20.00</td>\n",
              "      <td>96.00</td>\n",
              "      <td>98.00</td>\n",
              "      <td>99.50</td>\n",
              "      <td>100.00</td>\n",
              "    </tr>\n",
              "    <tr>\n",
              "      <th>Temp</th>\n",
              "      <td>3.946e+05</td>\n",
              "      <td>36.994</td>\n",
              "      <td>0.772</td>\n",
              "      <td>20.90</td>\n",
              "      <td>36.50</td>\n",
              "      <td>37.00</td>\n",
              "      <td>37.50</td>\n",
              "      <td>50.00</td>\n",
              "    </tr>\n",
              "    <tr>\n",
              "      <th>SBP</th>\n",
              "      <td>9.933e+05</td>\n",
              "      <td>122.800</td>\n",
              "      <td>22.664</td>\n",
              "      <td>20.00</td>\n",
              "      <td>106.00</td>\n",
              "      <td>120.00</td>\n",
              "      <td>137.00</td>\n",
              "      <td>300.00</td>\n",
              "    </tr>\n",
              "    <tr>\n",
              "      <th>MAP</th>\n",
              "      <td>1.030e+06</td>\n",
              "      <td>81.164</td>\n",
              "      <td>16.025</td>\n",
              "      <td>20.00</td>\n",
              "      <td>70.00</td>\n",
              "      <td>79.00</td>\n",
              "      <td>90.00</td>\n",
              "      <td>300.00</td>\n",
              "    </tr>\n",
              "    <tr>\n",
              "      <th>DBP</th>\n",
              "      <td>7.331e+05</td>\n",
              "      <td>62.805</td>\n",
              "      <td>13.716</td>\n",
              "      <td>20.00</td>\n",
              "      <td>53.00</td>\n",
              "      <td>61.00</td>\n",
              "      <td>70.50</td>\n",
              "      <td>300.00</td>\n",
              "    </tr>\n",
              "    <tr>\n",
              "      <th>Resp</th>\n",
              "      <td>1.010e+06</td>\n",
              "      <td>18.736</td>\n",
              "      <td>5.192</td>\n",
              "      <td>1.00</td>\n",
              "      <td>15.00</td>\n",
              "      <td>18.00</td>\n",
              "      <td>22.00</td>\n",
              "      <td>100.00</td>\n",
              "    </tr>\n",
              "    <tr>\n",
              "      <th>EtCO2</th>\n",
              "      <td>2.740e+04</td>\n",
              "      <td>33.234</td>\n",
              "      <td>8.215</td>\n",
              "      <td>10.00</td>\n",
              "      <td>28.50</td>\n",
              "      <td>33.50</td>\n",
              "      <td>38.00</td>\n",
              "      <td>100.00</td>\n",
              "    </tr>\n",
              "    <tr>\n",
              "      <th>BaseExcess</th>\n",
              "      <td>8.333e+04</td>\n",
              "      <td>-0.671</td>\n",
              "      <td>4.292</td>\n",
              "      <td>-32.00</td>\n",
              "      <td>-3.00</td>\n",
              "      <td>0.00</td>\n",
              "      <td>1.00</td>\n",
              "      <td>100.00</td>\n",
              "    </tr>\n",
              "    <tr>\n",
              "      <th>HCO3</th>\n",
              "      <td>6.441e+04</td>\n",
              "      <td>24.082</td>\n",
              "      <td>4.387</td>\n",
              "      <td>0.00</td>\n",
              "      <td>22.00</td>\n",
              "      <td>24.00</td>\n",
              "      <td>27.00</td>\n",
              "      <td>55.00</td>\n",
              "    </tr>\n",
              "    <tr>\n",
              "      <th>FiO2</th>\n",
              "      <td>1.205e+05</td>\n",
              "      <td>0.526</td>\n",
              "      <td>0.190</td>\n",
              "      <td>0.00</td>\n",
              "      <td>0.40</td>\n",
              "      <td>0.50</td>\n",
              "      <td>0.60</td>\n",
              "      <td>10.00</td>\n",
              "    </tr>\n",
              "    <tr>\n",
              "      <th>pH</th>\n",
              "      <td>9.893e+04</td>\n",
              "      <td>7.379</td>\n",
              "      <td>0.073</td>\n",
              "      <td>6.62</td>\n",
              "      <td>7.34</td>\n",
              "      <td>7.38</td>\n",
              "      <td>7.43</td>\n",
              "      <td>7.93</td>\n",
              "    </tr>\n",
              "    <tr>\n",
              "      <th>PaCO2</th>\n",
              "      <td>7.764e+04</td>\n",
              "      <td>41.108</td>\n",
              "      <td>9.127</td>\n",
              "      <td>10.00</td>\n",
              "      <td>36.00</td>\n",
              "      <td>40.00</td>\n",
              "      <td>45.00</td>\n",
              "      <td>100.00</td>\n",
              "    </tr>\n",
              "    <tr>\n",
              "      <th>SaO2</th>\n",
              "      <td>4.627e+04</td>\n",
              "      <td>92.025</td>\n",
              "      <td>11.508</td>\n",
              "      <td>23.00</td>\n",
              "      <td>94.00</td>\n",
              "      <td>97.00</td>\n",
              "      <td>98.00</td>\n",
              "      <td>100.00</td>\n",
              "    </tr>\n",
              "    <tr>\n",
              "      <th>AST</th>\n",
              "      <td>1.851e+04</td>\n",
              "      <td>288.466</td>\n",
              "      <td>909.831</td>\n",
              "      <td>3.00</td>\n",
              "      <td>24.00</td>\n",
              "      <td>45.00</td>\n",
              "      <td>130.00</td>\n",
              "      <td>9961.00</td>\n",
              "    </tr>\n",
              "    <tr>\n",
              "      <th>BUN</th>\n",
              "      <td>8.510e+04</td>\n",
              "      <td>24.058</td>\n",
              "      <td>20.078</td>\n",
              "      <td>1.00</td>\n",
              "      <td>12.00</td>\n",
              "      <td>17.00</td>\n",
              "      <td>28.50</td>\n",
              "      <td>268.00</td>\n",
              "    </tr>\n",
              "    <tr>\n",
              "      <th>Alkalinephos</th>\n",
              "      <td>1.825e+04</td>\n",
              "      <td>106.210</td>\n",
              "      <td>129.827</td>\n",
              "      <td>7.00</td>\n",
              "      <td>55.00</td>\n",
              "      <td>75.00</td>\n",
              "      <td>111.00</td>\n",
              "      <td>3833.00</td>\n",
              "    </tr>\n",
              "    <tr>\n",
              "      <th>Calcium</th>\n",
              "      <td>6.473e+04</td>\n",
              "      <td>7.799</td>\n",
              "      <td>2.095</td>\n",
              "      <td>1.00</td>\n",
              "      <td>7.70</td>\n",
              "      <td>8.30</td>\n",
              "      <td>8.80</td>\n",
              "      <td>27.90</td>\n",
              "    </tr>\n",
              "    <tr>\n",
              "      <th>Chloride</th>\n",
              "      <td>6.810e+04</td>\n",
              "      <td>105.803</td>\n",
              "      <td>5.911</td>\n",
              "      <td>26.00</td>\n",
              "      <td>102.00</td>\n",
              "      <td>106.00</td>\n",
              "      <td>109.00</td>\n",
              "      <td>145.00</td>\n",
              "    </tr>\n",
              "    <tr>\n",
              "      <th>Creatinine</th>\n",
              "      <td>7.313e+04</td>\n",
              "      <td>1.472</td>\n",
              "      <td>1.733</td>\n",
              "      <td>0.10</td>\n",
              "      <td>0.70</td>\n",
              "      <td>0.90</td>\n",
              "      <td>1.40</td>\n",
              "      <td>46.60</td>\n",
              "    </tr>\n",
              "    <tr>\n",
              "      <th>Bilirubin_direct</th>\n",
              "      <td>2.071e+03</td>\n",
              "      <td>2.119</td>\n",
              "      <td>3.939</td>\n",
              "      <td>0.01</td>\n",
              "      <td>0.20</td>\n",
              "      <td>0.60</td>\n",
              "      <td>2.20</td>\n",
              "      <td>37.50</td>\n",
              "    </tr>\n",
              "    <tr>\n",
              "      <th>Glucose</th>\n",
              "      <td>1.795e+05</td>\n",
              "      <td>136.164</td>\n",
              "      <td>51.648</td>\n",
              "      <td>10.00</td>\n",
              "      <td>105.50</td>\n",
              "      <td>126.00</td>\n",
              "      <td>153.00</td>\n",
              "      <td>988.00</td>\n",
              "    </tr>\n",
              "    <tr>\n",
              "      <th>Lactate</th>\n",
              "      <td>3.422e+04</td>\n",
              "      <td>2.587</td>\n",
              "      <td>2.475</td>\n",
              "      <td>0.20</td>\n",
              "      <td>1.20</td>\n",
              "      <td>1.80</td>\n",
              "      <td>2.90</td>\n",
              "      <td>31.00</td>\n",
              "    </tr>\n",
              "    <tr>\n",
              "      <th>Magnesium</th>\n",
              "      <td>7.941e+04</td>\n",
              "      <td>2.047</td>\n",
              "      <td>0.392</td>\n",
              "      <td>0.20</td>\n",
              "      <td>1.80</td>\n",
              "      <td>2.00</td>\n",
              "      <td>2.20</td>\n",
              "      <td>9.70</td>\n",
              "    </tr>\n",
              "    <tr>\n",
              "      <th>Phosphate</th>\n",
              "      <td>5.078e+04</td>\n",
              "      <td>3.563</td>\n",
              "      <td>1.436</td>\n",
              "      <td>0.20</td>\n",
              "      <td>2.70</td>\n",
              "      <td>3.30</td>\n",
              "      <td>4.10</td>\n",
              "      <td>18.80</td>\n",
              "    </tr>\n",
              "    <tr>\n",
              "      <th>Potassium</th>\n",
              "      <td>1.147e+05</td>\n",
              "      <td>4.145</td>\n",
              "      <td>0.638</td>\n",
              "      <td>1.00</td>\n",
              "      <td>3.70</td>\n",
              "      <td>4.10</td>\n",
              "      <td>4.50</td>\n",
              "      <td>27.50</td>\n",
              "    </tr>\n",
              "    <tr>\n",
              "      <th>Bilirubin_total</th>\n",
              "      <td>1.643e+04</td>\n",
              "      <td>2.254</td>\n",
              "      <td>4.585</td>\n",
              "      <td>0.10</td>\n",
              "      <td>0.50</td>\n",
              "      <td>0.90</td>\n",
              "      <td>1.80</td>\n",
              "      <td>49.60</td>\n",
              "    </tr>\n",
              "    <tr>\n",
              "      <th>TroponinI</th>\n",
              "      <td>8.188e+03</td>\n",
              "      <td>8.693</td>\n",
              "      <td>25.124</td>\n",
              "      <td>0.01</td>\n",
              "      <td>0.05</td>\n",
              "      <td>0.40</td>\n",
              "      <td>5.00</td>\n",
              "      <td>440.00</td>\n",
              "    </tr>\n",
              "    <tr>\n",
              "      <th>Hct</th>\n",
              "      <td>1.149e+05</td>\n",
              "      <td>30.769</td>\n",
              "      <td>5.255</td>\n",
              "      <td>5.50</td>\n",
              "      <td>27.20</td>\n",
              "      <td>30.30</td>\n",
              "      <td>33.90</td>\n",
              "      <td>71.70</td>\n",
              "    </tr>\n",
              "    <tr>\n",
              "      <th>Hgb</th>\n",
              "      <td>9.188e+04</td>\n",
              "      <td>10.499</td>\n",
              "      <td>1.884</td>\n",
              "      <td>2.20</td>\n",
              "      <td>9.20</td>\n",
              "      <td>10.40</td>\n",
              "      <td>11.60</td>\n",
              "      <td>32.00</td>\n",
              "    </tr>\n",
              "    <tr>\n",
              "      <th>PTT</th>\n",
              "      <td>4.192e+04</td>\n",
              "      <td>40.992</td>\n",
              "      <td>25.237</td>\n",
              "      <td>12.50</td>\n",
              "      <td>27.80</td>\n",
              "      <td>32.35</td>\n",
              "      <td>42.70</td>\n",
              "      <td>250.00</td>\n",
              "    </tr>\n",
              "    <tr>\n",
              "      <th>WBC</th>\n",
              "      <td>7.899e+04</td>\n",
              "      <td>11.601</td>\n",
              "      <td>7.303</td>\n",
              "      <td>0.10</td>\n",
              "      <td>7.80</td>\n",
              "      <td>10.50</td>\n",
              "      <td>14.00</td>\n",
              "      <td>422.90</td>\n",
              "    </tr>\n",
              "    <tr>\n",
              "      <th>Fibrinogen</th>\n",
              "      <td>8.139e+03</td>\n",
              "      <td>289.169</td>\n",
              "      <td>155.364</td>\n",
              "      <td>34.00</td>\n",
              "      <td>184.00</td>\n",
              "      <td>250.00</td>\n",
              "      <td>351.00</td>\n",
              "      <td>1760.00</td>\n",
              "    </tr>\n",
              "    <tr>\n",
              "      <th>Platelets</th>\n",
              "      <td>7.144e+04</td>\n",
              "      <td>197.579</td>\n",
              "      <td>105.422</td>\n",
              "      <td>2.00</td>\n",
              "      <td>127.00</td>\n",
              "      <td>181.00</td>\n",
              "      <td>245.00</td>\n",
              "      <td>1783.00</td>\n",
              "    </tr>\n",
              "    <tr>\n",
              "      <th>Age</th>\n",
              "      <td>1.167e+06</td>\n",
              "      <td>62.334</td>\n",
              "      <td>16.280</td>\n",
              "      <td>14.00</td>\n",
              "      <td>52.00</td>\n",
              "      <td>64.08</td>\n",
              "      <td>74.96</td>\n",
              "      <td>100.00</td>\n",
              "    </tr>\n",
              "    <tr>\n",
              "      <th>Gender</th>\n",
              "      <td>1.167e+06</td>\n",
              "      <td>0.566</td>\n",
              "      <td>0.496</td>\n",
              "      <td>0.00</td>\n",
              "      <td>0.00</td>\n",
              "      <td>1.00</td>\n",
              "      <td>1.00</td>\n",
              "      <td>1.00</td>\n",
              "    </tr>\n",
              "    <tr>\n",
              "      <th>Unit1</th>\n",
              "      <td>6.712e+05</td>\n",
              "      <td>0.502</td>\n",
              "      <td>0.500</td>\n",
              "      <td>0.00</td>\n",
              "      <td>0.00</td>\n",
              "      <td>1.00</td>\n",
              "      <td>1.00</td>\n",
              "      <td>1.00</td>\n",
              "    </tr>\n",
              "    <tr>\n",
              "      <th>Unit2</th>\n",
              "      <td>6.712e+05</td>\n",
              "      <td>0.498</td>\n",
              "      <td>0.500</td>\n",
              "      <td>0.00</td>\n",
              "      <td>0.00</td>\n",
              "      <td>0.00</td>\n",
              "      <td>1.00</td>\n",
              "      <td>1.00</td>\n",
              "    </tr>\n",
              "    <tr>\n",
              "      <th>HospAdmTime</th>\n",
              "      <td>1.167e+06</td>\n",
              "      <td>-53.306</td>\n",
              "      <td>149.796</td>\n",
              "      <td>-3710.66</td>\n",
              "      <td>-42.68</td>\n",
              "      <td>-4.88</td>\n",
              "      <td>-0.03</td>\n",
              "      <td>23.99</td>\n",
              "    </tr>\n",
              "    <tr>\n",
              "      <th>ICULOS</th>\n",
              "      <td>1.167e+06</td>\n",
              "      <td>26.702</td>\n",
              "      <td>27.774</td>\n",
              "      <td>1.00</td>\n",
              "      <td>11.00</td>\n",
              "      <td>21.00</td>\n",
              "      <td>34.00</td>\n",
              "      <td>336.00</td>\n",
              "    </tr>\n",
              "    <tr>\n",
              "      <th>SepsisLabel</th>\n",
              "      <td>1.167e+06</td>\n",
              "      <td>0.019</td>\n",
              "      <td>0.137</td>\n",
              "      <td>0.00</td>\n",
              "      <td>0.00</td>\n",
              "      <td>0.00</td>\n",
              "      <td>0.00</td>\n",
              "      <td>1.00</td>\n",
              "    </tr>\n",
              "  </tbody>\n",
              "</table>\n",
              "</div>"
            ],
            "text/plain": [
              "                      count     mean      std  ...     50%     75%      max\n",
              "HR                1.059e+06   84.712   17.173  ...   84.00   96.00   280.00\n",
              "O2Sat             1.018e+06   97.212    2.928  ...   98.00   99.50   100.00\n",
              "Temp              3.946e+05   36.994    0.772  ...   37.00   37.50    50.00\n",
              "SBP               9.933e+05  122.800   22.664  ...  120.00  137.00   300.00\n",
              "MAP               1.030e+06   81.164   16.025  ...   79.00   90.00   300.00\n",
              "DBP               7.331e+05   62.805   13.716  ...   61.00   70.50   300.00\n",
              "Resp              1.010e+06   18.736    5.192  ...   18.00   22.00   100.00\n",
              "EtCO2             2.740e+04   33.234    8.215  ...   33.50   38.00   100.00\n",
              "BaseExcess        8.333e+04   -0.671    4.292  ...    0.00    1.00   100.00\n",
              "HCO3              6.441e+04   24.082    4.387  ...   24.00   27.00    55.00\n",
              "FiO2              1.205e+05    0.526    0.190  ...    0.50    0.60    10.00\n",
              "pH                9.893e+04    7.379    0.073  ...    7.38    7.43     7.93\n",
              "PaCO2             7.764e+04   41.108    9.127  ...   40.00   45.00   100.00\n",
              "SaO2              4.627e+04   92.025   11.508  ...   97.00   98.00   100.00\n",
              "AST               1.851e+04  288.466  909.831  ...   45.00  130.00  9961.00\n",
              "BUN               8.510e+04   24.058   20.078  ...   17.00   28.50   268.00\n",
              "Alkalinephos      1.825e+04  106.210  129.827  ...   75.00  111.00  3833.00\n",
              "Calcium           6.473e+04    7.799    2.095  ...    8.30    8.80    27.90\n",
              "Chloride          6.810e+04  105.803    5.911  ...  106.00  109.00   145.00\n",
              "Creatinine        7.313e+04    1.472    1.733  ...    0.90    1.40    46.60\n",
              "Bilirubin_direct  2.071e+03    2.119    3.939  ...    0.60    2.20    37.50\n",
              "Glucose           1.795e+05  136.164   51.648  ...  126.00  153.00   988.00\n",
              "Lactate           3.422e+04    2.587    2.475  ...    1.80    2.90    31.00\n",
              "Magnesium         7.941e+04    2.047    0.392  ...    2.00    2.20     9.70\n",
              "Phosphate         5.078e+04    3.563    1.436  ...    3.30    4.10    18.80\n",
              "Potassium         1.147e+05    4.145    0.638  ...    4.10    4.50    27.50\n",
              "Bilirubin_total   1.643e+04    2.254    4.585  ...    0.90    1.80    49.60\n",
              "TroponinI         8.188e+03    8.693   25.124  ...    0.40    5.00   440.00\n",
              "Hct               1.149e+05   30.769    5.255  ...   30.30   33.90    71.70\n",
              "Hgb               9.188e+04   10.499    1.884  ...   10.40   11.60    32.00\n",
              "PTT               4.192e+04   40.992   25.237  ...   32.35   42.70   250.00\n",
              "WBC               7.899e+04   11.601    7.303  ...   10.50   14.00   422.90\n",
              "Fibrinogen        8.139e+03  289.169  155.364  ...  250.00  351.00  1760.00\n",
              "Platelets         7.144e+04  197.579  105.422  ...  181.00  245.00  1783.00\n",
              "Age               1.167e+06   62.334   16.280  ...   64.08   74.96   100.00\n",
              "Gender            1.167e+06    0.566    0.496  ...    1.00    1.00     1.00\n",
              "Unit1             6.712e+05    0.502    0.500  ...    1.00    1.00     1.00\n",
              "Unit2             6.712e+05    0.498    0.500  ...    0.00    1.00     1.00\n",
              "HospAdmTime       1.167e+06  -53.306  149.796  ...   -4.88   -0.03    23.99\n",
              "ICULOS            1.167e+06   26.702   27.774  ...   21.00   34.00   336.00\n",
              "SepsisLabel       1.167e+06    0.019    0.137  ...    0.00    0.00     1.00\n",
              "\n",
              "[41 rows x 8 columns]"
            ]
          },
          "metadata": {
            "tags": []
          },
          "execution_count": 7
        }
      ]
    },
    {
      "cell_type": "code",
      "metadata": {
        "colab": {
          "base_uri": "https://localhost:8080/"
        },
        "id": "LjJE0aPDHOop",
        "outputId": "6396afa8-8164-4373-bc28-70a54e6166e4"
      },
      "source": [
        "# Class Distribution\n",
        "class_counts = data.groupby('SepsisLabel').size()\n",
        "print(class_counts)"
      ],
      "execution_count": 8,
      "outputs": [
        {
          "output_type": "stream",
          "text": [
            "SepsisLabel\n",
            "0    1144776\n",
            "1      22426\n",
            "dtype: int64\n"
          ],
          "name": "stdout"
        }
      ]
    },
    {
      "cell_type": "code",
      "metadata": {
        "colab": {
          "base_uri": "https://localhost:8080/"
        },
        "id": "3AZzBSZcIBM2",
        "outputId": "4e0b6e6a-b8df-4c93-f8c9-b6cbdd14323f"
      },
      "source": [
        "shape = data.shape\n",
        "print(shape)"
      ],
      "execution_count": 9,
      "outputs": [
        {
          "output_type": "stream",
          "text": [
            "(1167202, 41)\n"
          ],
          "name": "stdout"
        }
      ]
    },
    {
      "cell_type": "code",
      "metadata": {
        "colab": {
          "base_uri": "https://localhost:8080/"
        },
        "id": "HLA2qPYGIC1K",
        "outputId": "b6f5a898-b0c8-4a70-8bdc-a5016edd7900"
      },
      "source": [
        "types = data.dtypes\n",
        "print(types)"
      ],
      "execution_count": 10,
      "outputs": [
        {
          "output_type": "stream",
          "text": [
            "HR                  float64\n",
            "O2Sat               float64\n",
            "Temp                float64\n",
            "SBP                 float64\n",
            "MAP                 float64\n",
            "DBP                 float64\n",
            "Resp                float64\n",
            "EtCO2               float64\n",
            "BaseExcess          float64\n",
            "HCO3                float64\n",
            "FiO2                float64\n",
            "pH                  float64\n",
            "PaCO2               float64\n",
            "SaO2                float64\n",
            "AST                 float64\n",
            "BUN                 float64\n",
            "Alkalinephos        float64\n",
            "Calcium             float64\n",
            "Chloride            float64\n",
            "Creatinine          float64\n",
            "Bilirubin_direct    float64\n",
            "Glucose             float64\n",
            "Lactate             float64\n",
            "Magnesium           float64\n",
            "Phosphate           float64\n",
            "Potassium           float64\n",
            "Bilirubin_total     float64\n",
            "TroponinI           float64\n",
            "Hct                 float64\n",
            "Hgb                 float64\n",
            "PTT                 float64\n",
            "WBC                 float64\n",
            "Fibrinogen          float64\n",
            "Platelets           float64\n",
            "Age                 float64\n",
            "Gender                int64\n",
            "Unit1               float64\n",
            "Unit2               float64\n",
            "HospAdmTime         float64\n",
            "ICULOS                int64\n",
            "SepsisLabel           int64\n",
            "dtype: object\n"
          ],
          "name": "stdout"
        }
      ]
    },
    {
      "cell_type": "code",
      "metadata": {
        "colab": {
          "base_uri": "https://localhost:8080/"
        },
        "id": "2DM8dbJUIMSr",
        "outputId": "b5632dc6-b94b-41c4-ec4f-7d3d94a4a67c"
      },
      "source": [
        "# Pairwise Pearson correlations\n",
        "correlations = data.corr(method='pearson')\n",
        "print(correlations)"
      ],
      "execution_count": 11,
      "outputs": [
        {
          "output_type": "stream",
          "text": [
            "                     HR      O2Sat   Temp  ...  HospAdmTime  ICULOS  SepsisLabel\n",
            "HR                1.000 -8.025e-02  0.256  ...       -0.053   0.037    4.722e-02\n",
            "O2Sat            -0.080  1.000e+00 -0.032  ...       -0.005  -0.051   -7.890e-03\n",
            "Temp              0.256 -3.188e-02  1.000  ...        0.017   0.094    4.532e-02\n",
            "SBP              -0.028  2.908e-02  0.004  ...        0.035   0.074   -1.047e-02\n",
            "MAP               0.087  3.152e-02 -0.051  ...        0.035   0.038   -1.501e-02\n",
            "DBP               0.147  4.453e-03 -0.095  ...        0.037   0.019   -1.303e-02\n",
            "Resp              0.232 -1.544e-01  0.128  ...       -0.033   0.109    4.715e-02\n",
            "EtCO2             0.021 -6.018e-02  0.206  ...        0.022   0.083   -1.345e-02\n",
            "BaseExcess       -0.092  3.250e-02  0.148  ...       -0.022   0.155    1.710e-02\n",
            "HCO3             -0.093 -6.077e-02  0.078  ...       -0.021   0.118   -1.426e-02\n",
            "FiO2              0.081 -1.597e-01 -0.191  ...        0.006  -0.102    2.300e-02\n",
            "pH               -0.102  1.083e-01  0.198  ...       -0.009   0.153   -3.836e-03\n",
            "PaCO2             0.025 -1.164e-01 -0.045  ...       -0.019   0.006    2.129e-02\n",
            "SaO2             -0.011  9.219e-02  0.006  ...        0.003  -0.002    7.174e-03\n",
            "AST               0.062 -1.483e-02  0.010  ...        0.028   0.022    8.393e-04\n",
            "BUN              -0.037 -4.819e-02 -0.117  ...       -0.119   0.123    5.228e-02\n",
            "Alkalinephos      0.049 -2.091e-02 -0.037  ...       -0.124   0.052    1.397e-02\n",
            "Calcium          -0.093 -4.054e-02  0.006  ...        0.032   0.067   -3.435e-02\n",
            "Chloride          0.016  1.593e-01 -0.044  ...        0.087  -0.076   -7.942e-03\n",
            "Creatinine       -0.019 -2.070e-02 -0.073  ...       -0.030   0.022    3.111e-02\n",
            "Bilirubin_direct  0.013  6.063e-04 -0.067  ...       -0.288   0.169    7.172e-02\n",
            "Glucose           0.080 -3.322e-02 -0.082  ...        0.015  -0.024    6.258e-03\n",
            "Lactate           0.162 -1.650e-01 -0.217  ...        0.005  -0.078   -5.170e-03\n",
            "Magnesium        -0.071 -2.519e-02 -0.043  ...       -0.012   0.094    7.249e-03\n",
            "Phosphate        -0.043 -5.219e-02 -0.159  ...       -0.065  -0.017    1.872e-02\n",
            "Potassium         0.012 -1.982e-02  0.070  ...       -0.038  -0.051    2.794e-03\n",
            "Bilirubin_total   0.011 -2.211e-02 -0.028  ...       -0.156   0.247    5.093e-02\n",
            "TroponinI        -0.002 -1.462e-02  0.025  ...        0.048   0.053   -1.466e-03\n",
            "Hct              -0.069 -1.115e-01 -0.035  ...        0.113  -0.091   -1.347e-02\n",
            "Hgb              -0.068 -9.517e-02 -0.023  ...        0.129  -0.103   -1.845e-02\n",
            "PTT               0.013 -7.503e-02 -0.108  ...       -0.010   0.028    1.752e-02\n",
            "WBC               0.132 -2.343e-02  0.032  ...       -0.021  -0.002    3.385e-02\n",
            "Fibrinogen        0.070 -7.608e-02  0.253  ...       -0.015   0.108    5.380e-02\n",
            "Platelets         0.026 -2.354e-02  0.008  ...       -0.012  -0.032   -1.106e-02\n",
            "Age              -0.166 -4.672e-02 -0.076  ...       -0.012   0.025    7.691e-04\n",
            "Gender           -0.030 -3.078e-02  0.056  ...        0.010   0.018    8.749e-03\n",
            "Unit1             0.027 -4.969e-02 -0.207  ...        0.060   0.007    3.818e-02\n",
            "Unit2            -0.027  4.969e-02  0.207  ...       -0.060  -0.007   -3.818e-02\n",
            "HospAdmTime      -0.053 -4.564e-03  0.017  ...        1.000  -0.040   -2.467e-02\n",
            "ICULOS            0.037 -5.146e-02  0.094  ...       -0.040   1.000    1.418e-01\n",
            "SepsisLabel       0.047 -7.890e-03  0.045  ...       -0.025   0.142    1.000e+00\n",
            "\n",
            "[41 rows x 41 columns]\n"
          ],
          "name": "stdout"
        }
      ]
    },
    {
      "cell_type": "code",
      "metadata": {
        "colab": {
          "base_uri": "https://localhost:8080/"
        },
        "id": "IyuufF2bIQZc",
        "outputId": "877472e9-e8c0-4a91-b935-fa46b9bb9d0b"
      },
      "source": [
        "# Skew for each attribute\n",
        "skew = data.skew()\n",
        "print(skew)"
      ],
      "execution_count": 12,
      "outputs": [
        {
          "output_type": "stream",
          "text": [
            "HR                   0.419\n",
            "O2Sat               -4.300\n",
            "Temp                -0.384\n",
            "SBP                  0.580\n",
            "MAP                  1.096\n",
            "DBP                  1.047\n",
            "Resp                 0.906\n",
            "EtCO2                0.508\n",
            "BaseExcess          -0.002\n",
            "HCO3                 0.150\n",
            "FiO2                 2.817\n",
            "pH                  -0.941\n",
            "PaCO2                1.515\n",
            "SaO2                -2.188\n",
            "AST                  6.077\n",
            "BUN                  2.512\n",
            "Alkalinephos        10.120\n",
            "Calcium             -1.990\n",
            "Chloride            -0.148\n",
            "Creatinine           4.765\n",
            "Bilirubin_direct     3.823\n",
            "Glucose              3.025\n",
            "Lactate              3.602\n",
            "Magnesium            1.994\n",
            "Phosphate            1.712\n",
            "Potassium            1.730\n",
            "Bilirubin_total      5.086\n",
            "TroponinI            6.678\n",
            "Hct                  0.499\n",
            "Hgb                  0.465\n",
            "PTT                  3.215\n",
            "WBC                 12.697\n",
            "Fibrinogen           1.618\n",
            "Platelets            1.850\n",
            "Age                 -0.502\n",
            "Gender              -0.267\n",
            "Unit1               -0.008\n",
            "Unit2                0.008\n",
            "HospAdmTime         -8.983\n",
            "ICULOS               4.081\n",
            "SepsisLabel          7.005\n",
            "dtype: float64\n"
          ],
          "name": "stdout"
        }
      ]
    },
    {
      "cell_type": "code",
      "metadata": {
        "id": "Bj9lbQ8xIox5"
      },
      "source": [
        "plt.rcParams[\"figure.figsize\"] = (20, 15)"
      ],
      "execution_count": 13,
      "outputs": []
    },
    {
      "cell_type": "code",
      "metadata": {
        "colab": {
          "base_uri": "https://localhost:8080/",
          "height": 878
        },
        "id": "8yjOZxk_IVn3",
        "outputId": "18b0c42d-f1d5-4979-9694-5d41fcd47477"
      },
      "source": [
        "# Univariate Histograms\n",
        "data.hist()\n",
        "\n",
        "plt.show()"
      ],
      "execution_count": 14,
      "outputs": [
        {
          "output_type": "display_data",
          "data": {
            "image/png": "[encoded data removed]",
            "text/plain": [
              "<Figure size 1440x1080 with 42 Axes>"
            ]
          },
          "metadata": {
            "tags": [],
            "needs_background": "light"
          }
        }
      ]
    },
    {
      "cell_type": "code",
      "metadata": {
        "id": "xOo09ZX9ZZW-"
      },
      "source": [
        "from imblearn.over_sampling import SMOTE\n",
        "\n",
        "smote = SMOTE( random_state= 0 )"
      ],
      "execution_count": 15,
      "outputs": []
    },
    {
      "cell_type": "code",
      "metadata": {
        "id": "17e3A7dXZsam"
      },
      "source": [
        "data=data.sample(n=100000,random_state=1,replace=True)"
      ],
      "execution_count": 16,
      "outputs": []
    },
    {
      "cell_type": "code",
      "metadata": {
        "colab": {
          "base_uri": "https://localhost:8080/"
        },
        "id": "oujtmYQ7Zv82",
        "outputId": "42a204ac-6bb0-431f-b727-3bc4eec515e6"
      },
      "source": [
        "Xcol = data.drop(columns = [\"SepsisLabel\"])\n",
        "ycol = data[\"SepsisLabel\"]\n",
        "X=np.array(Xcol)\n",
        "y=np.array(ycol)\n",
        "X.shape,y.shape"
      ],
      "execution_count": 17,
      "outputs": [
        {
          "output_type": "execute_result",
          "data": {
            "text/plain": [
              "((100000, 40), (100000,))"
            ]
          },
          "metadata": {
            "tags": []
          },
          "execution_count": 17
        }
      ]
    },
    {
      "cell_type": "code",
      "metadata": {
        "id": "CllpfTmmKYJm"
      },
      "source": [
        "from sklearn.impute import SimpleImputer\n",
        "imputer = SimpleImputer(missing_values=np.nan,strategy='median')\n",
        "X = imputer.fit_transform(X)"
      ],
      "execution_count": 18,
      "outputs": []
    },
    {
      "cell_type": "code",
      "metadata": {
        "id": "KN8DanDtKx2f"
      },
      "source": [
        "X_rs, y_rs = smote.fit_resample(X, y)"
      ],
      "execution_count": 19,
      "outputs": []
    },
    {
      "cell_type": "code",
      "metadata": {
        "colab": {
          "base_uri": "https://localhost:8080/"
        },
        "id": "0sHu2j9UK4a6",
        "outputId": "233e01a8-2e36-4fa4-b7ae-76f9006f10c1"
      },
      "source": [
        "scaler = MinMaxScaler(feature_range=(0, 1))\n",
        "rescaledX = scaler.fit_transform(X_rs)\n",
        "# summarize transformed data\n",
        "set_printoptions(precision=3)\n",
        "print(rescaledX[0:5,:])"
      ],
      "execution_count": 20,
      "outputs": [
        {
          "output_type": "stream",
          "text": [
            "[[0.186 1.    0.683 0.357 0.232 0.146 0.264 0.267 0.519 0.39  0.7   0.584\n",
            "  0.326 0.958 0.004 0.154 0.052 0.273 0.529 0.014 0.043 0.378 0.06  0.148\n",
            "  0.256 0.173 0.014 0.002 0.34  0.372 0.036 0.124 0.223 0.133 0.697 1.\n",
            "  1.    0.    0.994 0.003]\n",
            " [0.281 1.    0.683 0.575 0.351 0.146 0.178 0.267 0.519 0.463 0.4   0.584\n",
            "  0.326 0.958 0.004 0.06  0.052 0.281 0.485 0.019 0.043 0.155 0.06  0.148\n",
            "  0.217 0.281 0.014 0.002 0.373 0.419 0.066 0.082 0.223 0.134 0.861 1.\n",
            "  1.    0.    0.994 0.045]\n",
            " [0.467 0.95  0.683 0.289 0.204 0.146 0.341 0.267 0.519 0.463 0.5   0.584\n",
            "  0.326 0.958 0.004 0.06  0.052 0.281 0.485 0.019 0.043 0.155 0.06  0.148\n",
            "  0.217 0.281 0.014 0.002 0.373 0.419 0.066 0.082 0.223 0.134 0.845 1.\n",
            "  1.    0.    0.994 0.039]\n",
            " [0.251 1.    0.683 0.425 0.275 0.146 0.279 0.267 0.519 0.463 0.5   0.584\n",
            "  0.326 0.958 0.004 0.06  0.052 0.281 0.485 0.019 0.043 0.155 0.06  0.148\n",
            "  0.217 0.281 0.014 0.002 0.373 0.419 0.066 0.082 0.223 0.134 0.779 1.\n",
            "  1.    0.    0.994 0.066]\n",
            " [0.171 0.95  0.683 0.376 0.271 0.179 0.264 0.267 0.519 0.463 0.5   0.584\n",
            "  0.326 0.958 0.004 0.06  0.052 0.281 0.485 0.019 0.043 0.155 0.06  0.148\n",
            "  0.217 0.281 0.014 0.002 0.373 0.419 0.066 0.082 0.223 0.134 0.583 1.\n",
            "  0.    1.    0.992 0.009]]\n"
          ],
          "name": "stdout"
        }
      ]
    },
    {
      "cell_type": "code",
      "metadata": {
        "colab": {
          "base_uri": "https://localhost:8080/"
        },
        "id": "ZsBfTRlvLCwG",
        "outputId": "9f6ffe33-5e29-4124-a942-9ef7b8da02c0"
      },
      "source": [
        "# Standardize data (0 mean, 1 stdev)\n",
        "scaler = StandardScaler().fit(X_rs)\n",
        "rescaledX = scaler.transform(X_rs)\n",
        "# summarize transformed data\n",
        "set_printoptions(precision=3)\n",
        "print(rescaledX[0:5,:])"
      ],
      "execution_count": 21,
      "outputs": [
        {
          "output_type": "stream",
          "text": [
            "[[-1.803e+00  1.081e+00 -5.949e-02  3.454e-01  3.203e-01 -7.759e-02\n",
            "  -2.985e-01  4.844e-03  5.650e-02 -2.945e+00  2.912e+00  2.447e-02\n",
            "  -4.504e-02  7.876e-02 -4.491e-02  3.661e+00 -4.307e-02 -3.152e-01\n",
            "   2.304e+00 -5.114e-01 -3.045e-02  8.412e+00 -7.427e-02 -4.958e-02\n",
            "   1.578e+00 -4.911e+00 -4.643e-02 -2.386e-02 -1.333e+00 -1.744e+00\n",
            "  -1.593e+00  3.260e+00 -3.992e-02 -6.140e-02  7.794e-01  9.186e-01\n",
            "   5.687e-01 -5.687e-01  3.757e-01 -8.235e-01]\n",
            " [-6.698e-01  1.081e+00 -5.949e-02  3.129e+00  2.615e+00 -7.759e-02\n",
            "  -1.439e+00  4.844e-03  5.650e-02  6.157e-03 -1.578e+00  2.447e-02\n",
            "  -4.504e-02  7.876e-02 -4.491e-02 -1.225e-01 -4.307e-02  7.262e-02\n",
            "   2.102e-02 -1.008e-01 -3.045e-02 -9.619e-02 -7.427e-02 -4.958e-02\n",
            "  -3.888e-02 -4.334e-02 -4.643e-02 -2.386e-02 -3.932e-03  7.689e-03\n",
            "  -7.119e-02 -6.607e-02 -3.992e-02 -2.353e-02  1.663e+00  9.186e-01\n",
            "   5.687e-01 -5.687e-01  3.754e-01 -5.151e-01]\n",
            " [ 1.537e+00 -4.836e-01 -5.949e-02 -5.184e-01 -2.305e-01 -7.759e-02\n",
            "   7.380e-01  4.844e-03  5.650e-02  6.157e-03 -8.127e-02  2.447e-02\n",
            "  -4.504e-02  7.876e-02 -4.491e-02 -1.225e-01 -4.307e-02  7.262e-02\n",
            "   2.102e-02 -1.008e-01 -3.045e-02 -9.619e-02 -7.427e-02 -4.958e-02\n",
            "  -3.888e-02 -4.334e-02 -4.643e-02 -2.386e-02 -3.932e-03  7.689e-03\n",
            "  -7.119e-02 -6.607e-02 -3.992e-02 -2.353e-02  1.572e+00  9.186e-01\n",
            "   5.687e-01 -5.687e-01  3.756e-01 -5.591e-01]\n",
            " [-1.028e+00  1.081e+00 -5.949e-02  1.209e+00  1.146e+00 -7.759e-02\n",
            "  -9.119e-02  4.844e-03  5.650e-02  6.157e-03 -8.127e-02  2.447e-02\n",
            "  -4.504e-02  7.876e-02 -4.491e-02 -1.225e-01 -4.307e-02  7.262e-02\n",
            "   2.102e-02 -1.008e-01 -3.045e-02 -9.619e-02 -7.427e-02 -4.958e-02\n",
            "  -3.888e-02 -4.334e-02 -4.643e-02 -2.386e-02 -3.932e-03  7.689e-03\n",
            "  -7.119e-02 -6.607e-02 -3.992e-02 -2.353e-02  1.219e+00  9.186e-01\n",
            "   5.687e-01 -5.687e-01  3.756e-01 -3.609e-01]\n",
            " [-1.982e+00 -4.836e-01 -5.949e-02  5.854e-01  1.078e+00  7.735e-01\n",
            "  -2.985e-01  4.844e-03  5.650e-02  6.157e-03 -8.127e-02  2.447e-02\n",
            "  -4.504e-02  7.876e-02 -4.491e-02 -1.225e-01 -4.307e-02  7.262e-02\n",
            "   2.102e-02 -1.008e-01 -3.045e-02 -9.619e-02 -7.427e-02 -4.958e-02\n",
            "  -3.888e-02 -4.334e-02 -4.643e-02 -2.386e-02 -3.932e-03  7.689e-03\n",
            "  -7.119e-02 -6.607e-02 -3.992e-02 -2.353e-02  1.695e-01  9.186e-01\n",
            "  -1.972e+00  1.972e+00  3.368e-01 -7.794e-01]]\n"
          ],
          "name": "stdout"
        }
      ]
    },
    {
      "cell_type": "code",
      "metadata": {
        "colab": {
          "base_uri": "https://localhost:8080/"
        },
        "id": "Phimo2kELKYw",
        "outputId": "219ff1e0-61e0-4d12-9d14-78abc1488546"
      },
      "source": [
        "# Normalize data (length of 1)\n",
        "scaler = Normalizer().fit(X_rs)\n",
        "normalizedX = scaler.transform(X_rs)\n",
        "# summarize transformed data\n",
        "set_printoptions(precision=3)\n",
        "print(normalizedX[0:5,:])"
      ],
      "execution_count": 22,
      "outputs": [
        {
          "output_type": "stream",
          "text": [
            "[[ 1.105e-01  1.938e-01  7.170e-02  2.500e-01  1.647e-01  1.182e-01\n",
            "   3.488e-02  6.492e-02  0.000e+00  4.069e-02  1.356e-03  1.430e-02\n",
            "   7.751e-02  1.880e-01  8.333e-02  8.139e-02  1.424e-01  1.570e-02\n",
            "   2.112e-01  1.356e-03  1.744e-03  5.659e-01  3.653e-03  3.876e-03\n",
            "   7.364e-03  6.007e-03  1.550e-03  7.170e-04  5.484e-02  1.841e-02\n",
            "   4.922e-02  3.042e-02  4.932e-01  3.508e-01  1.444e-01  1.938e-03\n",
            "   1.938e-03  0.000e+00 -1.938e-05  3.876e-03]\n",
            " [ 1.600e-01  2.105e-01  7.789e-02  3.937e-01  2.491e-01  1.284e-01\n",
            "   2.631e-02  7.052e-02  0.000e+00  5.052e-02  8.420e-04  1.554e-02\n",
            "   8.420e-02  2.042e-01  9.052e-02  3.579e-02  1.547e-01  1.747e-02\n",
            "   2.231e-01  1.895e-03  1.895e-03  2.652e-01  3.968e-03  4.210e-03\n",
            "   6.947e-03  8.631e-03  1.684e-03  7.789e-04  6.357e-02  2.168e-02\n",
            "   6.842e-02  2.210e-02  5.357e-01  3.831e-01  1.860e-01  2.105e-03\n",
            "   2.105e-03  0.000e+00 -1.053e-04  3.368e-02]\n",
            " [ 2.519e-01  2.140e-01  8.249e-02  2.475e-01  1.717e-01  1.360e-01\n",
            "   5.127e-02  7.468e-02  0.000e+00  5.350e-02  1.115e-03  1.645e-02\n",
            "   8.917e-02  2.162e-01  9.586e-02  3.790e-02  1.639e-01  1.850e-02\n",
            "   2.363e-01  2.006e-03  2.006e-03  2.809e-01  4.202e-03  4.459e-03\n",
            "   7.357e-03  9.140e-03  1.783e-03  8.249e-04  6.733e-02  2.296e-02\n",
            "   7.245e-02  2.341e-02  5.674e-01  4.057e-01  1.938e-01  2.229e-03\n",
            "   2.229e-03  0.000e+00 -4.459e-05  3.121e-02]\n",
            " [ 1.542e-01  2.203e-01  8.150e-02  3.238e-01  2.137e-01  1.344e-01\n",
            "   4.185e-02  7.379e-02  0.000e+00  5.286e-02  1.101e-03  1.626e-02\n",
            "   8.810e-02  2.137e-01  9.471e-02  3.744e-02  1.619e-01  1.828e-02\n",
            "   2.335e-01  1.982e-03  1.982e-03  2.775e-01  4.152e-03  4.405e-03\n",
            "   7.269e-03  9.031e-03  1.762e-03  8.150e-04  6.652e-02  2.269e-02\n",
            "   7.158e-02  2.313e-02  5.606e-01  4.009e-01  1.793e-01  2.203e-03\n",
            "   2.203e-03  0.000e+00 -6.608e-05  5.066e-02]\n",
            " [ 1.214e-01  2.159e-01  8.320e-02  3.013e-01  2.159e-01  1.574e-01\n",
            "   4.047e-02  7.533e-02  0.000e+00  5.397e-02  1.124e-03  1.659e-02\n",
            "   8.994e-02  2.181e-01  9.669e-02  3.823e-02  1.653e-01  1.866e-02\n",
            "   2.383e-01  2.024e-03  2.024e-03  2.833e-01  4.239e-03  4.497e-03\n",
            "   7.420e-03  9.219e-03  1.799e-03  8.320e-04  6.791e-02  2.316e-02\n",
            "   7.308e-02  2.361e-02  5.723e-01  4.092e-01  1.462e-01  2.249e-03\n",
            "   0.000e+00  2.249e-03 -1.540e-02  8.994e-03]]\n"
          ],
          "name": "stdout"
        }
      ]
    },
    {
      "cell_type": "code",
      "metadata": {
        "colab": {
          "base_uri": "https://localhost:8080/"
        },
        "id": "p6zsClE4LQ_m",
        "outputId": "bab1aa8b-77b1-4a67-e1de-a7158bbb4b4c"
      },
      "source": [
        "# Feature Extraction with RFE\n",
        "# feature extraction\n",
        "model = LogisticRegression()\n",
        "rfe = RFE(model, 25)\n",
        "fit = rfe.fit(X_rs, y_rs)\n",
        "print((\"Num Features: %d\") % fit.n_features_)\n",
        "print((\"Selected Features: %s\") % fit.support_)\n",
        "print((\"Feature Ranking: %s\") % fit.ranking_)"
      ],
      "execution_count": 23,
      "outputs": [
        {
          "output_type": "stream",
          "text": [
            "Num Features: 25\n",
            "Selected Features: [ True False  True False  True False  True  True  True  True  True  True\n",
            " False False False  True False  True  True False False False  True  True\n",
            "  True  True  True  True  True  True False  True False False False  True\n",
            "  True  True False  True]\n",
            "Feature Ranking: [ 1  6  1  7  1  8  1  1  1  1  1  1  3  2 16  1 12  1  1 14 15  9  1  1\n",
            "  1  1  1  1  1  1 13  1  4  5 11  1  1  1 10  1]\n"
          ],
          "name": "stdout"
        }
      ]
    },
    {
      "cell_type": "code",
      "metadata": {
        "colab": {
          "base_uri": "https://localhost:8080/"
        },
        "id": "F9uJrbNyMA2S",
        "outputId": "205359da-0937-4ac2-bcd3-094726ecef58"
      },
      "source": [
        "# Feature Extraction with PCA\n",
        "# feature extraction\n",
        "pca = PCA(n_components=25)\n",
        "fit = pca.fit(X_rs)\n",
        "# summarize components\n",
        "print((\"Explained Variance: %s\") % fit.explained_variance_ratio_)\n",
        "print(fit.components_)"
      ],
      "execution_count": 24,
      "outputs": [
        {
          "output_type": "stream",
          "text": [
            "Explained Variance: [7.017e-01 1.862e-01 4.693e-02 1.578e-02 1.415e-02 8.595e-03 7.403e-03\n",
            " 6.327e-03 4.766e-03 3.007e-03 1.921e-03 9.462e-04 6.386e-04 4.854e-04\n",
            " 4.729e-04 1.694e-04 1.398e-04 1.063e-04 5.319e-05 4.972e-05 4.427e-05\n",
            " 4.088e-05 3.600e-05 3.149e-05 1.588e-05]\n",
            "[[ 5.520e-03  2.465e-04 -7.091e-05 -8.560e-03 -5.412e-03 -2.263e-03\n",
            "   1.094e-03  7.746e-05 -7.739e-05 -3.539e-05 -5.758e-06  1.988e-06\n",
            "  -3.408e-04 -7.574e-06 -3.073e-03  2.047e-04  6.595e-04 -4.818e-05\n",
            "  -9.370e-05 -1.022e-05  1.229e-05 -1.166e-03 -1.886e-05 -2.150e-06\n",
            "  -7.547e-06  1.614e-05  4.396e-05 -2.967e-05 -2.765e-04 -1.014e-04\n",
            "  -5.934e-05  9.227e-05 -2.149e-04 -3.612e-03 -2.609e-04 -3.927e-05\n",
            "  -5.059e-05  5.059e-05 -9.999e-01  2.568e-03]\n",
            " [ 3.770e-03 -2.268e-04  5.794e-05 -2.160e-03 -1.625e-03 -1.048e-04\n",
            "  -4.483e-04 -1.246e-04  7.660e-05 -6.855e-04  3.917e-05  1.460e-06\n",
            "   2.708e-04 -8.247e-05  9.994e-01  9.903e-03  2.406e-02 -2.093e-05\n",
            "  -9.579e-04  4.840e-04  5.399e-04 -1.682e-03  8.394e-04  4.719e-05\n",
            "   5.984e-04  1.271e-04  2.666e-03  2.201e-05  3.795e-05  6.906e-05\n",
            "   3.342e-03 -8.897e-04 -2.168e-03 -2.299e-02 -2.683e-03 -3.147e-05\n",
            "   3.266e-05 -3.266e-05 -2.918e-03  7.607e-04]\n",
            " [ 3.441e-02 -1.910e-03  1.257e-03  5.725e-02  2.272e-02  8.158e-03\n",
            "   1.570e-02  9.488e-04  2.499e-03  1.157e-03 -6.095e-05  2.658e-05\n",
            "   2.461e-03  1.596e-04  1.333e-04  2.128e-03 -3.930e-04  1.500e-04\n",
            "  -5.693e-04 -1.622e-04  8.961e-05 -7.522e-03 -3.921e-04  6.608e-05\n",
            "  -8.975e-05  4.188e-05  1.385e-04 -2.158e-04 -3.244e-04 -1.862e-04\n",
            "  -1.635e-03  2.872e-05 -4.979e-03  3.752e-02  5.468e-03  4.323e-04\n",
            "   5.622e-04 -5.622e-04  2.007e-03  9.966e-01]\n",
            " [ 7.356e-03 -7.705e-04 -2.690e-04  9.937e-04 -4.569e-04  2.513e-03\n",
            "   2.837e-03  2.895e-04  2.246e-03  3.229e-03  1.207e-04 -5.307e-06\n",
            "   6.812e-03 -1.518e-03  2.207e-02  1.088e-02  3.904e-02  4.767e-04\n",
            "  -3.835e-03  1.198e-03 -1.838e-04  8.073e-02 -1.348e-04  8.995e-05\n",
            "   3.800e-04  1.626e-04 -1.871e-03  3.439e-04  7.394e-03  1.199e-03\n",
            "  -3.649e-03  1.267e-02  7.439e-02  9.920e-01 -3.215e-03 -3.855e-04\n",
            "   5.976e-04 -5.976e-04 -3.798e-03 -3.676e-02]\n",
            " [ 3.194e-02  8.852e-04 -8.625e-05  7.862e-01  5.305e-01  2.953e-01\n",
            "   9.994e-03  1.300e-03  2.739e-03 -1.808e-05 -5.029e-05  2.120e-05\n",
            "   2.522e-03  2.727e-04  2.274e-03 -8.410e-03 -9.758e-04 -6.140e-04\n",
            "   1.383e-03 -2.091e-04 -6.447e-05  1.138e-02 -7.000e-04 -9.693e-05\n",
            "  -1.140e-04 -2.887e-04 -2.904e-04  8.129e-06  2.254e-03  7.480e-04\n",
            "  -2.762e-03 -1.358e-03  3.974e-03 -5.290e-03 -9.010e-02  1.971e-04\n",
            "   1.598e-03 -1.598e-03 -1.022e-02 -6.012e-02]\n",
            " [ 8.922e-02 -8.793e-04 -7.734e-04 -2.041e-02  2.673e-04  2.253e-03\n",
            "   1.047e-02 -1.105e-03 -9.914e-03 -2.722e-03  1.424e-04 -1.888e-04\n",
            "   5.814e-03 -2.449e-04 -9.113e-04  2.395e-02  1.945e-04 -5.394e-04\n",
            "  -2.011e-03  1.057e-03  1.698e-04  9.918e-01  3.160e-03  7.389e-05\n",
            "  -7.123e-05  7.595e-04  9.892e-05  8.431e-04  3.905e-04 -6.394e-05\n",
            "   1.195e-02  2.635e-03  2.608e-03 -8.158e-02 -1.470e-02  1.189e-04\n",
            "  -2.087e-04  2.087e-04 -1.588e-04  8.537e-03]\n",
            " [ 7.556e-01 -8.613e-03  3.891e-03 -1.818e-01  5.666e-02  1.245e-01\n",
            "   5.294e-02  1.341e-04 -1.928e-03 -1.233e-03  1.861e-04 -6.154e-05\n",
            "   4.626e-03  1.260e-03 -4.713e-03 -9.458e-03  5.776e-03 -1.727e-04\n",
            "   1.971e-03  5.818e-04 -3.229e-05 -8.274e-02  2.008e-04 -8.039e-05\n",
            "   8.716e-05  2.243e-04  1.518e-04 -4.447e-05 -2.145e-03 -5.218e-04\n",
            "   7.973e-04  2.498e-03  2.293e-01 -1.871e-02 -5.605e-01  6.061e-04\n",
            "   1.030e-03 -1.030e-03  5.434e-03 -1.450e-02]\n",
            " [-1.741e-01  8.118e-05 -3.036e-04  4.846e-02 -2.424e-02 -3.696e-02\n",
            "  -4.898e-03 -5.220e-05 -4.516e-04 -3.038e-03  5.683e-05  1.324e-05\n",
            "  -1.667e-03  3.006e-04  1.475e-03  2.051e-02 -6.603e-03  5.341e-04\n",
            "   6.397e-04  3.653e-03 -3.096e-04  9.697e-03 -1.195e-03  1.675e-04\n",
            "   1.224e-03  4.551e-04 -2.512e-04  1.611e-04 -2.881e-03 -1.293e-03\n",
            "   8.851e-03  1.553e-03  9.701e-01 -7.130e-02  1.355e-01 -5.804e-04\n",
            "  -1.170e-04  1.170e-04 -1.140e-03  1.100e-02]\n",
            " [ 6.079e-01 -1.978e-02  1.908e-03  1.066e-01 -2.616e-02 -7.244e-02\n",
            "   7.420e-02 -1.891e-03 -3.722e-03 -9.005e-05  3.397e-04 -5.229e-05\n",
            "   2.155e-03 -2.961e-03  4.828e-04  6.668e-03 -2.367e-02 -3.613e-04\n",
            "   9.583e-04 -5.994e-04 -8.092e-05 -4.142e-02  4.580e-04  4.901e-05\n",
            "   5.899e-05  1.003e-04 -6.922e-04 -6.356e-04 -2.901e-03 -9.400e-04\n",
            "   1.708e-03  2.083e-03 -7.254e-03  1.438e-03  7.771e-01 -2.789e-03\n",
            "  -1.303e-03  1.303e-03  2.570e-03 -3.182e-02]\n",
            " [ 7.722e-03  4.605e-03 -3.411e-04 -1.337e-03  8.447e-03  1.101e-03\n",
            "   4.432e-03 -1.548e-04  3.530e-04 -3.725e-03  7.254e-05 -1.761e-05\n",
            "   4.249e-03  9.181e-04 -2.592e-02  1.104e-01  9.922e-01  9.531e-04\n",
            "  -7.942e-03  6.274e-03  9.553e-04 -6.790e-03 -4.298e-04  7.020e-04\n",
            "   2.915e-03 -1.257e-04  5.544e-03  1.588e-03 -3.972e-03 -2.425e-03\n",
            "   1.600e-02  3.975e-03 -6.536e-05 -3.908e-02  2.321e-02 -6.186e-05\n",
            "   5.136e-04 -5.136e-04  9.144e-04  1.010e-03]\n",
            " [-1.022e-01  4.036e-03 -5.320e-03 -5.273e-01  4.560e-01  6.700e-01\n",
            "  -9.279e-03 -2.589e-03 -8.301e-04 -1.238e-04  4.528e-05 -1.690e-05\n",
            "  -4.629e-03 -5.685e-03  9.617e-04 -6.837e-03 -9.245e-03  4.329e-04\n",
            "   1.362e-04 -1.964e-04 -5.874e-05  1.678e-04  4.969e-04  3.789e-05\n",
            "  -2.623e-04 -4.287e-05 -8.451e-04  1.678e-03  6.258e-03  1.497e-03\n",
            "   1.058e-02 -2.791e-03  1.237e-02  7.280e-04  2.317e-01  5.840e-04\n",
            "   2.874e-03 -2.874e-03 -7.770e-05  1.691e-02]\n",
            " [ 2.140e-03  3.104e-04 -3.703e-03  3.915e-03 -2.088e-03  1.794e-02\n",
            "   8.496e-03 -2.655e-04 -6.882e-03 -2.668e-02  1.576e-04 -9.915e-05\n",
            "   5.922e-03 -2.168e-03 -7.629e-03  9.850e-01 -1.124e-01  9.943e-04\n",
            "  -4.214e-02  4.767e-02  1.651e-03 -2.595e-02  2.998e-04  2.518e-03\n",
            "   2.248e-02  5.360e-03  2.208e-03  4.318e-03 -9.876e-03 -5.288e-03\n",
            "   9.232e-02  3.602e-02 -1.972e-02 -3.074e-03 -1.524e-02  1.496e-03\n",
            "   2.169e-03 -2.169e-03  1.561e-04 -2.605e-03]\n",
            " [-1.945e-03 -7.694e-04  5.392e-04 -2.301e-01  7.107e-01 -6.637e-01\n",
            "  -1.755e-02 -1.796e-03 -6.450e-03 -1.363e-03 -3.205e-04 -8.521e-05\n",
            "   4.655e-03  5.301e-03  7.261e-04  1.615e-02 -6.742e-03  1.255e-03\n",
            "   3.633e-03  1.965e-03 -1.943e-04 -3.140e-03 -2.682e-04  1.490e-04\n",
            "   9.304e-04 -3.179e-04 -2.468e-03  1.430e-03  3.506e-03  7.923e-04\n",
            "  -2.514e-02  1.613e-03  4.024e-03  2.279e-03 -3.542e-03 -2.358e-04\n",
            "  -3.269e-03  3.269e-03 -4.076e-04  2.654e-03]\n",
            " [-1.737e-02 -3.082e-02 -1.012e-03 -1.311e-03  1.630e-02 -2.561e-02\n",
            "   1.800e-01 -4.085e-04 -1.896e-02 -1.459e-02  6.253e-04 -3.775e-04\n",
            "   1.605e-02 -9.150e-03 -1.986e-03 -9.423e-02 -5.663e-03 -1.770e-03\n",
            "   7.576e-03 -3.774e-03  4.026e-04 -9.839e-03  1.221e-02 -7.157e-05\n",
            "   3.288e-03  8.013e-04  5.317e-03  5.847e-03  1.062e-02  2.926e-03\n",
            "   9.771e-01  8.722e-03 -7.954e-03  5.713e-03 -8.357e-03  8.277e-04\n",
            "   5.862e-04 -5.862e-04 -1.451e-05 -8.235e-04]\n",
            " [-8.919e-02 -1.055e-01  2.389e-03 -1.568e-02  7.083e-03 -5.103e-03\n",
            "   9.724e-01 -6.744e-03 -5.301e-03 -3.659e-04  8.958e-04 -8.945e-05\n",
            "   1.433e-03 -9.018e-03  1.136e-03  8.659e-03 -7.139e-04  1.577e-04\n",
            "  -2.083e-03  5.307e-04 -7.359e-04 -1.193e-03  4.347e-04 -2.095e-04\n",
            "  -2.488e-03  3.957e-05 -2.287e-03 -9.453e-04  4.669e-03  1.771e-03\n",
            "  -1.840e-01 -3.237e-03 -5.500e-03 -2.960e-03 -2.418e-02  3.240e-03\n",
            "   4.476e-03 -4.476e-03  6.484e-04 -1.177e-02]\n",
            " [-7.922e-03 -3.442e-01 -4.419e-03 -2.845e-03 -1.668e-03  4.496e-03\n",
            "  -4.342e-02  2.928e-02  1.221e-01  6.654e-02  3.221e-03 -3.272e-03\n",
            "   9.054e-01 -1.916e-01 -3.763e-04 -3.658e-03 -1.639e-03 -1.883e-02\n",
            "  -4.161e-02 -3.029e-03  2.914e-03 -3.506e-03 -1.324e-02  7.843e-04\n",
            "   3.723e-03  3.630e-03  5.934e-03 -9.909e-04  3.613e-03  7.902e-04\n",
            "  -1.625e-02  1.084e-02  3.680e-04 -7.175e-03 -4.259e-04  2.218e-03\n",
            "  -2.436e-03  2.436e-03 -4.384e-04 -1.944e-03]\n",
            " [-6.025e-03 -9.023e-01 -3.969e-03  1.410e-03  1.436e-03  1.831e-03\n",
            "  -1.013e-01  1.185e-02 -5.211e-02 -1.953e-02  1.713e-03  1.113e-03\n",
            "  -3.760e-01 -1.726e-01 -3.046e-04  4.237e-03  6.498e-03  3.105e-04\n",
            "   6.958e-03  4.953e-04 -1.346e-03  2.409e-03  7.003e-03 -1.218e-04\n",
            "  -7.016e-04 -1.512e-03 -9.671e-04  6.384e-04  2.756e-02  6.564e-03\n",
            "  -6.630e-03 -5.723e-03 -8.539e-04  1.574e-03 -7.947e-03  7.795e-04\n",
            "  -4.069e-03  4.069e-03 -2.615e-04  1.052e-03]\n",
            " [ 2.999e-03  2.303e-01 -8.155e-04  2.117e-03  1.164e-03 -7.665e-03\n",
            "   1.545e-02 -9.061e-03 -4.691e-02 -1.829e-02  1.245e-03 -3.350e-04\n",
            "  -1.065e-01 -9.645e-01  2.668e-05 -8.212e-04  5.959e-04 -1.655e-02\n",
            "   3.719e-02  1.145e-03 -3.007e-04 -3.200e-04  1.250e-02  1.642e-05\n",
            "   1.061e-06  2.972e-03 -1.801e-03  6.623e-04 -9.288e-03 -2.656e-03\n",
            "  -4.752e-03  1.057e-02  6.123e-04 -3.834e-04 -2.669e-03 -8.287e-05\n",
            "  -1.178e-02  1.178e-02  1.368e-04  6.373e-04]\n",
            " [-2.956e-03  2.412e-03 -5.276e-03  1.517e-03 -2.946e-03  3.291e-03\n",
            "  -2.627e-03  1.777e-02 -1.553e-01 -1.627e-01  8.195e-04 -2.371e-03\n",
            "   2.981e-02  1.945e-02  8.292e-04 -2.846e-02  1.099e-03 -4.083e-03\n",
            "   1.152e-01 -6.535e-03 -3.022e-03 -4.277e-03  2.079e-02 -5.358e-06\n",
            "   8.394e-03  3.850e-03 -1.756e-03  2.870e-02  3.108e-01  9.253e-02\n",
            "  -2.096e-02  9.091e-01 -1.727e-03 -1.218e-02  7.436e-04  1.338e-03\n",
            "  -4.573e-03  4.573e-03  9.061e-06  1.211e-03]\n",
            " [ 6.232e-03  3.461e-02  8.380e-03  1.726e-03 -4.082e-03 -4.992e-03\n",
            "  -3.476e-04 -2.119e-02  1.568e-01  1.856e-01 -4.804e-04  2.368e-03\n",
            "  -4.389e-02 -2.403e-02 -7.106e-04  7.322e-03  1.048e-03  2.877e-02\n",
            "  -3.754e-01 -1.614e-02  3.581e-03  5.520e-04 -2.528e-02  3.612e-04\n",
            "  -1.373e-03 -6.650e-03  2.869e-03  1.308e-01  8.253e-01  2.359e-01\n",
            "   2.827e-03 -1.995e-01  3.935e-03 -6.522e-03  4.878e-04  2.095e-03\n",
            "   7.770e-03 -7.770e-03 -1.599e-04 -2.336e-04]\n",
            " [ 4.422e-04  2.150e-02  2.040e-02 -2.079e-03  2.946e-04  3.836e-04\n",
            "   7.646e-03  9.806e-01 -8.712e-02 -6.558e-02 -1.548e-04 -9.872e-04\n",
            "  -1.923e-04  4.104e-03  7.528e-05  6.842e-03  6.038e-04 -1.539e-03\n",
            "   1.063e-01 -1.093e-03  2.657e-04  3.108e-04 -6.348e-03 -6.949e-04\n",
            "  -5.687e-04  1.640e-04 -2.291e-03  2.905e-02  7.216e-02  2.110e-02\n",
            "  -3.218e-03 -8.679e-02  2.702e-05  9.319e-04  2.101e-03  6.760e-03\n",
            "  -8.968e-03  8.968e-03  7.079e-05 -6.118e-04]\n",
            " [ 3.876e-04  8.997e-03  1.358e-02 -2.965e-03  7.708e-03 -2.705e-03\n",
            "   8.517e-03  1.858e-01  3.110e-01  3.614e-01 -7.588e-04  5.358e-03\n",
            "  -1.116e-01 -2.908e-02  1.943e-04 -3.404e-02 -3.265e-03  1.041e-03\n",
            "  -6.894e-01  1.222e-03 -2.931e-03  3.079e-03 -3.366e-02  1.877e-04\n",
            "   5.332e-03 -2.143e-03  9.139e-03 -1.415e-01 -3.275e-01 -9.437e-02\n",
            "   1.581e-02  3.319e-01  3.398e-04 -5.273e-03  4.452e-04 -4.740e-03\n",
            "  -7.290e-03  7.290e-03  2.205e-04 -1.471e-03]\n",
            " [ 1.290e-05 -3.989e-03  5.117e-03  4.063e-04 -7.446e-05 -1.689e-04\n",
            "   1.636e-03  2.167e-03  8.785e-02  4.125e-02 -4.925e-04  1.387e-03\n",
            "  -1.695e-02 -2.031e-03  1.710e-04 -7.677e-03 -1.692e-03 -2.445e-04\n",
            "  -2.306e-02  8.542e-03 -1.130e-03  3.654e-04 -9.221e-03  1.169e-03\n",
            "  -2.562e-03 -1.407e-03  1.698e-03  9.781e-01 -1.653e-01 -4.671e-02\n",
            "  -2.678e-03  5.629e-02 -5.497e-04  5.414e-05  1.451e-04 -1.710e-03\n",
            "  -3.145e-03  3.145e-03  2.089e-05 -1.441e-04]\n",
            " [-2.805e-03  1.259e-03 -2.469e-02  3.677e-03 -1.952e-03  3.701e-03\n",
            "  -8.554e-03 -3.228e-02 -8.752e-01  2.648e-02  6.039e-03 -1.357e-02\n",
            "   1.024e-01  1.647e-02 -1.986e-04 -2.210e-02 -6.904e-04 -2.251e-02\n",
            "  -4.367e-01 -8.875e-04 -6.850e-03 -9.175e-03  1.176e-01 -1.724e-03\n",
            "   2.379e-02  1.471e-02 -6.130e-03  6.503e-02 -5.431e-02 -1.089e-02\n",
            "  -1.593e-02 -7.945e-02  5.609e-04  1.971e-03 -1.360e-03  1.800e-03\n",
            "  -1.151e-02  1.151e-02  2.940e-05  1.708e-03]\n",
            " [-9.083e-04  1.250e-03  2.756e-03  6.367e-04 -1.172e-03  1.610e-03\n",
            "   1.862e-03  2.941e-03 -1.835e-01  8.886e-01  4.523e-03 -2.820e-03\n",
            "  -1.849e-02  9.841e-03  5.369e-04  3.860e-02  2.145e-03  6.232e-02\n",
            "   4.019e-01 -1.515e-02  2.156e-02  1.021e-04  3.408e-02  5.585e-03\n",
            "  -2.211e-02 -1.799e-02  1.848e-03 -9.445e-03  3.520e-02 -7.933e-03\n",
            "   9.287e-03  6.712e-02  1.409e-03 -2.472e-03 -9.152e-04  1.667e-02\n",
            "  -1.277e-02  1.277e-02 -4.403e-05 -2.720e-04]]\n"
          ],
          "name": "stdout"
        }
      ]
    },
    {
      "cell_type": "code",
      "metadata": {
        "colab": {
          "base_uri": "https://localhost:8080/"
        },
        "id": "W47ymt6IMYVB",
        "outputId": "7a93f33f-b2c7-4c85-c00e-53b901217ad4"
      },
      "source": [
        "# Feature Importance with Extra Trees Classifier\n",
        "# feature extraction\n",
        "model = ExtraTreesClassifier()\n",
        "model.fit(X_rs, y_rs)\n",
        "print(model.feature_importances_)"
      ],
      "execution_count": 25,
      "outputs": [
        {
          "output_type": "stream",
          "text": [
            "[0.05  0.041 0.026 0.04  0.037 0.035 0.047 0.011 0.009 0.003 0.025 0.011\n",
            " 0.009 0.005 0.001 0.004 0.001 0.003 0.003 0.003 0.    0.009 0.007 0.003\n",
            " 0.002 0.006 0.001 0.001 0.006 0.004 0.003 0.003 0.001 0.003 0.051 0.177\n",
            " 0.087 0.086 0.052 0.132]\n"
          ],
          "name": "stdout"
        }
      ]
    },
    {
      "cell_type": "code",
      "metadata": {
        "colab": {
          "base_uri": "https://localhost:8080/"
        },
        "id": "xr-IknWcMe3P",
        "outputId": "45e63d16-8387-4914-cc9c-bc164961ddc5"
      },
      "source": [
        "# Evaluate using a train and a test set\n",
        "test_size = 0.25\n",
        "seed = 7\n",
        "X_train, X_test, Y_train, Y_test = train_test_split(X_rs, y_rs, test_size=test_size, random_state=seed)\n",
        "model = LogisticRegression()\n",
        "model.fit(X_train, Y_train)\n",
        "result = model.score(X_test, Y_test)\n",
        "print((\"Accuracy: %.3f%%\") % (result*100.0))"
      ],
      "execution_count": 26,
      "outputs": [
        {
          "output_type": "stream",
          "text": [
            "Accuracy: 66.026%\n"
          ],
          "name": "stdout"
        }
      ]
    },
    {
      "cell_type": "code",
      "metadata": {
        "colab": {
          "base_uri": "https://localhost:8080/"
        },
        "id": "wX7TQqEHMtVb",
        "outputId": "ca478745-726f-40b0-aec5-9dc36d1ec0c2"
      },
      "source": [
        "# Evaluate using Cross Validation\n",
        "num_folds = 10\n",
        "seed = 7\n",
        "kfold = KFold(n_splits=num_folds, random_state=seed)\n",
        "model = LogisticRegression()\n",
        "results = cross_val_score(model, X_rs, y_rs, cv=kfold)\n",
        "print((\"Accuracy: %.3f%% (%.3f%%)\") % (results.mean()*100.0, results.std()*100.0))"
      ],
      "execution_count": 27,
      "outputs": [
        {
          "output_type": "stream",
          "text": [
            "Accuracy: 55.691% (7.047%)\n"
          ],
          "name": "stdout"
        }
      ]
    },
    {
      "cell_type": "code",
      "metadata": {
        "colab": {
          "base_uri": "https://localhost:8080/"
        },
        "id": "TB8-kHndM62t",
        "outputId": "de63d73f-0172-4e96-c896-0a0ce5ce899f"
      },
      "source": [
        "# Evaluate using Shuffle Split Cross Validation\n",
        "n_splits = 10\n",
        "test_size = 0.25\n",
        "seed = 7\n",
        "kfold = ShuffleSplit(n_splits=n_splits, test_size=test_size, random_state=seed)\n",
        "model = LogisticRegression()\n",
        "results = cross_val_score(model, X_rs, y_rs, cv=kfold)\n",
        "print((\"Accuracy: %.3f%% (%.3f%%)\") % (results.mean()*100.0, results.std()*100.0))"
      ],
      "execution_count": 28,
      "outputs": [
        {
          "output_type": "stream",
          "text": [
            "Accuracy: 66.121% (0.171%)\n"
          ],
          "name": "stdout"
        }
      ]
    },
    {
      "cell_type": "code",
      "metadata": {
        "colab": {
          "base_uri": "https://localhost:8080/"
        },
        "id": "h__sbedBNFX6",
        "outputId": "fc07129f-ecc7-4c9e-860c-530faf6947da"
      },
      "source": [
        "# Cross Validation Classification Accuracy\n",
        "kfold = KFold(n_splits=10, random_state=7)\n",
        "model = LogisticRegression()\n",
        "scoring = 'accuracy'\n",
        "results = cross_val_score(model, X_rs, y_rs, cv=kfold, scoring=scoring)\n",
        "print((\"Accuracy: %.3f (%.3f)\") % (results.mean(), results.std()))"
      ],
      "execution_count": 29,
      "outputs": [
        {
          "output_type": "stream",
          "text": [
            "Accuracy: 0.557 (0.070)\n"
          ],
          "name": "stdout"
        }
      ]
    },
    {
      "cell_type": "code",
      "metadata": {
        "colab": {
          "base_uri": "https://localhost:8080/"
        },
        "id": "rA3tdsAtN3j_",
        "outputId": "8b3cb9bf-d811-4365-a6a0-26150c6293e8"
      },
      "source": [
        "# Logistic Regression Classification\n",
        "num_folds = 10\n",
        "kfold = KFold(n_splits=10, random_state=7)\n",
        "model = LogisticRegression()\n",
        "results = cross_val_score(model, X_rs, y_rs, cv=kfold)\n",
        "print(results.mean())"
      ],
      "execution_count": 30,
      "outputs": [
        {
          "output_type": "stream",
          "text": [
            "0.5569085727391649\n"
          ],
          "name": "stdout"
        }
      ]
    },
    {
      "cell_type": "code",
      "metadata": {
        "colab": {
          "base_uri": "https://localhost:8080/"
        },
        "id": "zogD0HeeOB-c",
        "outputId": "d59d2df9-8b91-4736-b695-3bdcb2b94389"
      },
      "source": [
        "# LDA Classification\n",
        "num_folds = 10\n",
        "kfold = KFold(n_splits=10, random_state=7)\n",
        "model = LinearDiscriminantAnalysis()\n",
        "results = cross_val_score(model, X_rs, y_rs, cv=kfold)\n",
        "print(results.mean())"
      ],
      "execution_count": 31,
      "outputs": [
        {
          "output_type": "stream",
          "text": [
            "0.5521311781122227\n"
          ],
          "name": "stdout"
        }
      ]
    },
    {
      "cell_type": "code",
      "metadata": {
        "colab": {
          "base_uri": "https://localhost:8080/",
          "height": 1000
        },
        "id": "fuR3T04hO5kV",
        "outputId": "676f34eb-9845-47e8-ca80-1db2c5aaf413"
      },
      "source": [
        "# Compare Algorithms\n",
        "# prepare models\n",
        "models = []\n",
        "models.append(('LR', LogisticRegression()))\n",
        "models.append(('LDA', LinearDiscriminantAnalysis()))\n",
        "models.append(('KNN', KNeighborsClassifier()))\n",
        "models.append(('CART', DecisionTreeClassifier()))\n",
        "models.append(('NB', GaussianNB()))\n",
        "# evaluate each model in turn\n",
        "results = []\n",
        "names = []\n",
        "scoring = 'accuracy'\n",
        "for name, model in models:\n",
        "    kfold = KFold(n_splits=10, random_state=7)\n",
        "    cv_results = cross_val_score(model, X_rs, y_rs, cv=kfold, scoring=scoring)\n",
        "    results.append(cv_results)\n",
        "    names.append(name)\n",
        "    msg = \"%s: %f (%f)\" % (name, cv_results.mean(), cv_results.std())\n",
        "    print(msg)\n",
        "# boxplot algorithm comparison\n",
        "fig = plt.figure()\n",
        "fig.suptitle('Algorithm Comparison')\n",
        "ax = fig.add_subplot(111)\n",
        "plt.boxplot(results)\n",
        "ax.set_xticklabels(names)\n",
        "plt.show()"
      ],
      "execution_count": 32,
      "outputs": [
        {
          "output_type": "stream",
          "text": [
            "LR: 0.556909 (0.070473)\n",
            "LDA: 0.552131 (0.052059)\n",
            "KNN: 0.932388 (0.062381)\n",
            "CART: 0.970120 (0.016752)\n",
            "NB: 0.596188 (0.233190)\n"
          ],
          "name": "stdout"
        },
        {
          "output_type": "display_data",
          "data": {
            "image/png": "[encoded data removed]",
            "text/plain": [
              "<Figure size 1440x1080 with 1 Axes>"
            ]
          },
          "metadata": {
            "tags": [],
            "needs_background": "light"
          }
        }
      ]
    },
    {
      "cell_type": "code",
      "metadata": {
        "id": "JUMXy9H_PPtz",
        "colab": {
          "base_uri": "https://localhost:8080/"
        },
        "outputId": "7764244f-8be2-49fe-8122-856507be366c"
      },
      "source": [
        "# Rescale data (between 0 and 1)\n",
        "scaler = MinMaxScaler(feature_range=(0, 1))\n",
        "rescaledX = scaler.fit_transform(X_rs)\n",
        "\n",
        "# Compare Algorithms\n",
        "# prepare models\n",
        "models = []\n",
        "models.append(('ScaledLR', LogisticRegression()))\n",
        "models.append(('ScaledLDA', LinearDiscriminantAnalysis()))\n",
        "models.append(('ScaledKNN', KNeighborsClassifier()))\n",
        "models.append(('ScaledCART', DecisionTreeClassifier()))\n",
        "models.append(('ScaledNB', GaussianNB()))\n",
        "\n",
        "# evaluate each model in turn\n",
        "results = []\n",
        "names = []\n",
        "scoring = 'accuracy'\n",
        "for name, model in models:\n",
        "    kfold = KFold(n_splits=10, random_state=7)\n",
        "    cv_results = cross_val_score(model, rescaledX, y_rs, cv=kfold, scoring=scoring) # note that we have replaced X with rescaledX\n",
        "    results.append(cv_results)\n",
        "    names.append(name)\n",
        "    msg = \"%s: %f (%f)\" % (name, cv_results.mean(), cv_results.std())\n",
        "    print(msg)"
      ],
      "execution_count": 33,
      "outputs": [
        {
          "output_type": "stream",
          "text": [
            "ScaledLR: 0.568795 (0.046320)\n",
            "ScaledLDA: 0.552131 (0.052059)\n",
            "ScaledKNN: 0.953722 (0.039809)\n",
            "ScaledCART: 0.969080 (0.016765)\n",
            "ScaledNB: 0.596320 (0.232476)\n"
          ],
          "name": "stdout"
        }
      ]
    },
    {
      "cell_type": "code",
      "metadata": {
        "id": "NWIVEm4hPPlO",
        "colab": {
          "base_uri": "https://localhost:8080/"
        },
        "outputId": "c46f5c4a-d815-4663-c945-5a2b585b39f1"
      },
      "source": [
        "# Standardize data (0 mean, 1 stdev)\n",
        "scaler = StandardScaler().fit(X_rs)\n",
        "rescaledX = scaler.transform(X_rs)\n",
        "\n",
        "# Compare Algorithms\n",
        "# prepare models\n",
        "models = []\n",
        "models.append(('StandardizedLR', LogisticRegression()))\n",
        "models.append(('StandardizedLDA', LinearDiscriminantAnalysis()))\n",
        "models.append(('StandardizedKNN', KNeighborsClassifier()))\n",
        "models.append(('StandardizedCART', DecisionTreeClassifier()))\n",
        "models.append(('StandardizedNB', GaussianNB()))\n",
        "# evaluate each model in turn\n",
        "results = []\n",
        "names = []\n",
        "scoring = 'accuracy'\n",
        "for name, model in models:\n",
        "    kfold = KFold(n_splits=10, random_state=7)\n",
        "    cv_results = cross_val_score(model, rescaledX, y_rs, cv=kfold, scoring=scoring) # note that we have replaced X with rescaledX\n",
        "    results.append(cv_results)\n",
        "    names.append(name)\n",
        "    msg = \"%s: %f (%f)\" % (name, cv_results.mean(), cv_results.std())\n",
        "    print(msg)"
      ],
      "execution_count": 34,
      "outputs": [
        {
          "output_type": "stream",
          "text": [
            "StandardizedLR: 0.569646 (0.046393)\n",
            "StandardizedLDA: 0.552131 (0.052059)\n",
            "StandardizedKNN: 0.943045 (0.051401)\n",
            "StandardizedCART: 0.969656 (0.017400)\n",
            "StandardizedNB: 0.596320 (0.232476)\n"
          ],
          "name": "stdout"
        }
      ]
    },
    {
      "cell_type": "code",
      "metadata": {
        "id": "I_17uqFtP7hn",
        "colab": {
          "base_uri": "https://localhost:8080/"
        },
        "outputId": "447694be-bb2b-433a-ad58-46efddfd5a32"
      },
      "source": [
        "# Normalize data (length of 1)\n",
        "scaler = Normalizer().fit(X_rs)\n",
        "normalizedX = scaler.transform(X_rs)\n",
        "\n",
        "# Compare Algorithms\n",
        "# prepare models\n",
        "models = []\n",
        "models.append(('NormalizedLR', LogisticRegression()))\n",
        "models.append(('NormalizedLDA', LinearDiscriminantAnalysis()))\n",
        "models.append(('NormalizedKNN', KNeighborsClassifier()))\n",
        "models.append(('NormalizedCART', DecisionTreeClassifier()))\n",
        "models.append(('NormalizedNB', GaussianNB()))\n",
        "# evaluate each model in turn\n",
        "results = []\n",
        "names = []\n",
        "scoring = 'accuracy'\n",
        "for name, model in models:\n",
        "    kfold = KFold(n_splits=10, random_state=7)\n",
        "    cv_results = cross_val_score(model, normalizedX, y_rs, cv=kfold, scoring=scoring) # note that we have replaced X with normalizedX\n",
        "    results.append(cv_results)\n",
        "    names.append(name)\n",
        "    msg = \"%s: %f (%f)\" % (name, cv_results.mean(), cv_results.std())\n",
        "    print(msg)"
      ],
      "execution_count": 35,
      "outputs": [
        {
          "output_type": "stream",
          "text": [
            "NormalizedLR: 0.551310 (0.064286)\n",
            "NormalizedLDA: 0.562702 (0.045396)\n",
            "NormalizedKNN: 0.932424 (0.062539)\n",
            "NormalizedCART: 0.962655 (0.015047)\n",
            "NormalizedNB: 0.585265 (0.259739)\n"
          ],
          "name": "stdout"
        }
      ]
    },
    {
      "cell_type": "code",
      "metadata": {
        "id": "Ohu21IaTQIVl",
        "colab": {
          "base_uri": "https://localhost:8080/"
        },
        "outputId": "9e5691eb-6325-418e-d1dc-757dc776b14d"
      },
      "source": [
        "# Create a pipeline that standardizes the data then creates a model\n",
        "# create pipeline\n",
        "estimators = []\n",
        "estimators.append(('standardize', StandardScaler()))\n",
        "estimators.append(('lda', LinearDiscriminantAnalysis()))\n",
        "model = Pipeline(estimators)\n",
        "# evaluate pipeline\n",
        "kfold = KFold(n_splits=10, random_state=7)\n",
        "results = cross_val_score(model, X_rs, y_rs, cv=kfold)\n",
        "print(results.mean())"
      ],
      "execution_count": 36,
      "outputs": [
        {
          "output_type": "stream",
          "text": [
            "0.5521311781122227\n"
          ],
          "name": "stdout"
        }
      ]
    },
    {
      "cell_type": "code",
      "metadata": {
        "id": "kw4BczssQbx2",
        "colab": {
          "base_uri": "https://localhost:8080/"
        },
        "outputId": "60025270-2039-439b-edd2-238f23125615"
      },
      "source": [
        "# Create a pipeline that extracts features from the data then creates a model\n",
        "# create feature union\n",
        "from sklearn.pipeline import FeatureUnion\n",
        "features = []\n",
        "features.append(('pca', PCA(n_components=25)))\n",
        "features.append(('select_best', SelectKBest(k=20)))\n",
        "feature_union = FeatureUnion(features)\n",
        "# create pipeline\n",
        "estimators = []\n",
        "estimators.append(('feature_union', feature_union))\n",
        "estimators.append(('logistic', LogisticRegression()))\n",
        "model = Pipeline(estimators)\n",
        "# evaluate pipeline\n",
        "kfold = KFold(n_splits=10, random_state=7)\n",
        "results = cross_val_score(model, X_rs, y_rs, cv=kfold)\n",
        "print(results.mean())"
      ],
      "execution_count": 37,
      "outputs": [
        {
          "output_type": "stream",
          "text": [
            "0.5545630811658779\n"
          ],
          "name": "stdout"
        }
      ]
    },
    {
      "cell_type": "code",
      "metadata": {
        "id": "Jhhi2wk9Qp-Z",
        "colab": {
          "base_uri": "https://localhost:8080/"
        },
        "outputId": "27359e7d-21ab-4def-f372-86e948f6b4e6"
      },
      "source": [
        "# Bagged Decision Trees for Classification\n",
        "from sklearn.ensemble import BaggingClassifier\n",
        "seed = 7\n",
        "kfold = KFold(n_splits=10, random_state=seed)\n",
        "cart = DecisionTreeClassifier()\n",
        "num_trees = 100\n",
        "model = BaggingClassifier(base_estimator=cart, n_estimators=num_trees, random_state=seed)\n",
        "results = cross_val_score(model, X_rs, y_rs, cv=kfold)\n",
        "print(results.mean())"
      ],
      "execution_count": 38,
      "outputs": [
        {
          "output_type": "stream",
          "text": [
            "0.9880786313686997\n"
          ],
          "name": "stdout"
        }
      ]
    },
    {
      "cell_type": "code",
      "metadata": {
        "id": "SnfEokIVQzs8",
        "colab": {
          "base_uri": "https://localhost:8080/"
        },
        "outputId": "c20867e5-8187-4d11-d3ae-20ab48418f0f"
      },
      "source": [
        "# Random Forest Classification\n",
        "from sklearn.ensemble import RandomForestClassifier\n",
        "num_trees = 100\n",
        "max_features = 3\n",
        "kfold = KFold(n_splits=10, random_state=7)\n",
        "model = RandomForestClassifier(n_estimators=num_trees, max_features=max_features)\n",
        "results = cross_val_score(model, X_rs, y_rs, cv=kfold)\n",
        "print(results.mean())"
      ],
      "execution_count": 39,
      "outputs": [
        {
          "output_type": "stream",
          "text": [
            "0.992958340560117\n"
          ],
          "name": "stdout"
        }
      ]
    },
    {
      "cell_type": "code",
      "metadata": {
        "id": "H_CczolOQ-xI",
        "colab": {
          "base_uri": "https://localhost:8080/"
        },
        "outputId": "bbf9d5cd-4b18-4894-cfb5-8aa73adfb167"
      },
      "source": [
        "# Extra Trees Classification\n",
        "from sklearn.ensemble import ExtraTreesClassifier\n",
        "num_trees = 100\n",
        "max_features = 7\n",
        "kfold = KFold(n_splits=10, random_state=7)\n",
        "model = ExtraTreesClassifier(n_estimators=num_trees, max_features=max_features)\n",
        "results = cross_val_score(model, X_rs, y_rs, cv=kfold)\n",
        "print(results.mean())"
      ],
      "execution_count": 40,
      "outputs": [
        {
          "output_type": "stream",
          "text": [
            "0.9967009512875726\n"
          ],
          "name": "stdout"
        }
      ]
    },
    {
      "cell_type": "code",
      "metadata": {
        "id": "Ij97WE6WRbhj",
        "colab": {
          "base_uri": "https://localhost:8080/"
        },
        "outputId": "a62e48d1-857f-4611-844d-3fbf77910d35"
      },
      "source": [
        "# AdaBoost Classification\n",
        "from sklearn.ensemble import AdaBoostClassifier\n",
        "num_trees = 30\n",
        "seed=7\n",
        "kfold = KFold(n_splits=10, random_state=seed)\n",
        "model = AdaBoostClassifier(n_estimators=num_trees, random_state=seed)\n",
        "results = cross_val_score(model, X_rs, y_rs, cv=kfold)\n",
        "print(results.mean())"
      ],
      "execution_count": 41,
      "outputs": [
        {
          "output_type": "stream",
          "text": [
            "0.8417713160581718\n"
          ],
          "name": "stdout"
        }
      ]
    },
    {
      "cell_type": "code",
      "metadata": {
        "id": "LfZlVNZsRfAj",
        "colab": {
          "base_uri": "https://localhost:8080/"
        },
        "outputId": "376de585-32e1-4763-a135-3727e4933c71"
      },
      "source": [
        "# Stochastic Gradient Boosting Classification\n",
        "from sklearn.ensemble import GradientBoostingClassifier\n",
        "seed = 7\n",
        "num_trees = 100\n",
        "kfold = KFold(n_splits=10, random_state=seed)\n",
        "model = GradientBoostingClassifier(n_estimators=num_trees, random_state=seed)\n",
        "results = cross_val_score(model, X_rs, y_rs, cv=kfold)\n",
        "print(results.mean())"
      ],
      "execution_count": 42,
      "outputs": [
        {
          "output_type": "stream",
          "text": [
            "0.91312230407429\n"
          ],
          "name": "stdout"
        }
      ]
    },
    {
      "cell_type": "code",
      "metadata": {
        "id": "7Wa-v20cRmF-",
        "colab": {
          "base_uri": "https://localhost:8080/"
        },
        "outputId": "88b66183-cf07-4174-dabd-af79724db396"
      },
      "source": [
        "# Voting Ensemble for Classification\n",
        "from sklearn.ensemble import VotingClassifier\n",
        "kfold = KFold(n_splits=10, random_state=7)\n",
        "# create the sub models\n",
        "estimators = []\n",
        "model1 = LogisticRegression()\n",
        "estimators.append(('logistic', model1))\n",
        "model2 = DecisionTreeClassifier()\n",
        "estimators.append(('cart', model2))\n",
        "model3 = KNeighborsClassifier()\n",
        "estimators.append(('knn', model3))\n",
        "# create the ensemble model\n",
        "ensemble = VotingClassifier(estimators)\n",
        "results = cross_val_score(ensemble, X_rs, y_rs, cv=kfold)\n",
        "print(results.mean())"
      ],
      "execution_count": 43,
      "outputs": [
        {
          "output_type": "stream",
          "text": [
            "0.9489748923725341\n"
          ],
          "name": "stdout"
        }
      ]
    },
    {
      "cell_type": "code",
      "metadata": {
        "id": "Z1Z334rHg2uj",
        "colab": {
          "base_uri": "https://localhost:8080/"
        },
        "outputId": "37e32785-d08f-4df7-c92a-1c52a3735bfd"
      },
      "source": [
        "# Cross Validation Classification Report\n",
        "test_size = 0.25\n",
        "seed = 7\n",
        "X_train, X_test, Y_train, Y_test = train_test_split(X_rs, y_rs, test_size=test_size, random_state=seed)\n",
        "model = GradientBoostingClassifier(n_estimators=num_trees, random_state=seed)\n",
        "model.fit(X_train, Y_train)\n",
        "predicted = model.predict(X_test)\n",
        "report = classification_report(Y_test, predicted)\n",
        "print(report)"
      ],
      "execution_count": 45,
      "outputs": [
        {
          "output_type": "stream",
          "text": [
            "              precision    recall  f1-score   support\n",
            "\n",
            "           0       0.89      0.96      0.93     24419\n",
            "           1       0.96      0.89      0.92     24610\n",
            "\n",
            "    accuracy                           0.93     49029\n",
            "   macro avg       0.93      0.93      0.93     49029\n",
            "weighted avg       0.93      0.93      0.93     49029\n",
            "\n"
          ],
          "name": "stdout"
        }
      ]
    },
    {
      "cell_type": "code",
      "metadata": {
        "id": "CgQfJNNvVfNU"
      },
      "source": [
        "gbc_probs = model.predict_proba(X_test)"
      ],
      "execution_count": 46,
      "outputs": []
    },
    {
      "cell_type": "code",
      "metadata": {
        "id": "2jrUc90hVvKf"
      },
      "source": [
        "gbc_probs = gbc_probs[:, 1]"
      ],
      "execution_count": 47,
      "outputs": []
    },
    {
      "cell_type": "code",
      "metadata": {
        "colab": {
          "base_uri": "https://localhost:8080/"
        },
        "id": "Zh6xUc5QV2Iv",
        "outputId": "99e03765-05fc-46a7-ff05-679aa3765bf0"
      },
      "source": [
        "from sklearn.metrics import roc_auc_score\n",
        "\n",
        "# calculate scores\n",
        "gbc_auc = roc_auc_score(Y_test, gbc_probs)\n",
        "\n",
        "\n",
        "print('Gradient Boosting Classifier with 100  trees: ROC AUC= {} %'.format(round(gbc_auc, 3)*100))"
      ],
      "execution_count": 48,
      "outputs": [
        {
          "output_type": "stream",
          "text": [
            "Gradient Boosting Classifier with 100  trees: ROC AUC= 97.89999999999999 %\n"
          ],
          "name": "stdout"
        }
      ]
    },
    {
      "cell_type": "code",
      "metadata": {
        "id": "MLqnbIgXWLmH"
      },
      "source": [
        "from sklearn.metrics import roc_curve\n",
        "#fpr --> False Positive Rate\n",
        "#tpr --> True Positive Rate\n",
        "gbc_fpr, gbc_tpr, gbc_thres = roc_curve(Y_test, gbc_probs)"
      ],
      "execution_count": 49,
      "outputs": []
    },
    {
      "cell_type": "code",
      "metadata": {
        "id": "wLXo4ibfYaIV"
      },
      "source": [
        ""
      ],
      "execution_count": null,
      "outputs": []
    },
    {
      "cell_type": "code",
      "metadata": {
        "colab": {
          "base_uri": "https://localhost:8080/"
        },
        "id": "Ye3ZHqiJYFSM",
        "outputId": "39bf2ca8-929e-42d1-94cd-5e66eee04071"
      },
      "source": [
        "# Cross Validation Classification Report\n",
        "test_size = 0.25\n",
        "seed = 7\n",
        "num_trees=30\n",
        "X_train, X_test, Y_train, Y_test = train_test_split(X_rs, y_rs, test_size=test_size, random_state=seed)\n",
        "model = AdaBoostClassifier(n_estimators=num_trees, random_state=seed)\n",
        "model.fit(X_train, Y_train)\n",
        "predicted = model.predict(X_test)\n",
        "report = classification_report(Y_test, predicted)\n",
        "print(report)"
      ],
      "execution_count": 52,
      "outputs": [
        {
          "output_type": "stream",
          "text": [
            "              precision    recall  f1-score   support\n",
            "\n",
            "           0       0.83      0.92      0.87     24419\n",
            "           1       0.91      0.82      0.86     24610\n",
            "\n",
            "    accuracy                           0.87     49029\n",
            "   macro avg       0.87      0.87      0.87     49029\n",
            "weighted avg       0.87      0.87      0.87     49029\n",
            "\n"
          ],
          "name": "stdout"
        }
      ]
    },
    {
      "cell_type": "code",
      "metadata": {
        "id": "bFGlg0yaYksK"
      },
      "source": [
        "ada_probs=model.predict_proba(X_test)\n",
        "ada_probs=ada_probs[:,1]"
      ],
      "execution_count": 53,
      "outputs": []
    },
    {
      "cell_type": "code",
      "metadata": {
        "colab": {
          "base_uri": "https://localhost:8080/"
        },
        "id": "BNVnXJY6Y8oc",
        "outputId": "5eb887af-36a6-4411-8dfa-35f6e65c920c"
      },
      "source": [
        "ada_auc = roc_auc_score(Y_test, ada_probs)\n",
        "\n",
        "\n",
        "print('ADABoost Classifier with 30 trees: ROC AUC= {} %'.format(round(ada_auc, 3)*100))"
      ],
      "execution_count": 54,
      "outputs": [
        {
          "output_type": "stream",
          "text": [
            "ADABoost Classifier with 30 trees: ROC AUC= 93.30000000000001 %\n"
          ],
          "name": "stdout"
        }
      ]
    },
    {
      "cell_type": "code",
      "metadata": {
        "id": "jligLToQZF7B"
      },
      "source": [
        "from sklearn.metrics import roc_curve\n",
        "#fpr --> False Positive Rate\n",
        "#tpr --> True Positive Rate\n",
        "ada_fpr, ada_tpr, ada_thres = roc_curve(Y_test, ada_probs)"
      ],
      "execution_count": 55,
      "outputs": []
    },
    {
      "cell_type": "code",
      "metadata": {
        "colab": {
          "base_uri": "https://localhost:8080/"
        },
        "id": "VeklIwo8ZOEb",
        "outputId": "cf23a014-5c2c-4f31-ec5f-c87ecfa7ae6c"
      },
      "source": [
        "# Cross Validation Classification Report\n",
        "test_size = 0.25\n",
        "seed = 7\n",
        "X_train, X_test, Y_train, Y_test = train_test_split(X_rs, y_rs, test_size=test_size, random_state=seed)\n",
        "ensemble = VotingClassifier(estimators, voting='soft')\n",
        "ensemble.fit(X_train, Y_train)\n",
        "predicted = ensemble.predict(X_test)\n",
        "report = classification_report(Y_test, predicted)\n",
        "print(report)"
      ],
      "execution_count": 59,
      "outputs": [
        {
          "output_type": "stream",
          "text": [
            "              precision    recall  f1-score   support\n",
            "\n",
            "           0       0.99      0.96      0.97     24419\n",
            "           1       0.96      0.99      0.97     24610\n",
            "\n",
            "    accuracy                           0.97     49029\n",
            "   macro avg       0.97      0.97      0.97     49029\n",
            "weighted avg       0.97      0.97      0.97     49029\n",
            "\n"
          ],
          "name": "stdout"
        }
      ]
    },
    {
      "cell_type": "code",
      "metadata": {
        "id": "2zeQe9D3aneJ"
      },
      "source": [
        "ensemble_probs=ensemble.predict_proba(X_test)\n",
        "ensemble_probs=ensemble_probs[:,1]"
      ],
      "execution_count": 60,
      "outputs": []
    },
    {
      "cell_type": "code",
      "metadata": {
        "colab": {
          "base_uri": "https://localhost:8080/"
        },
        "id": "L0QQXxmqayw3",
        "outputId": "1cb7bf0a-f1b1-4407-f623-c1bbbde3f78f"
      },
      "source": [
        "ensemble_auc = roc_auc_score(Y_test, ensemble_probs)\n",
        "\n",
        "\n",
        "print('Voting Classifier with LR, CART, KNN: ROC AUC= {} %'.format(round(ensemble_auc, 3)*100))"
      ],
      "execution_count": 61,
      "outputs": [
        {
          "output_type": "stream",
          "text": [
            "Voting Classifier with LR, CART, KNN: ROC AUC= 99.6 %\n"
          ],
          "name": "stdout"
        }
      ]
    },
    {
      "cell_type": "code",
      "metadata": {
        "id": "YrcQBpMDbWRx"
      },
      "source": [
        "ensemble_fpr, ensemble_tpr, ensemble_thres = roc_curve(Y_test, ensemble_probs)"
      ],
      "execution_count": 62,
      "outputs": []
    },
    {
      "cell_type": "code",
      "metadata": {
        "colab": {
          "base_uri": "https://localhost:8080/",
          "height": 496
        },
        "id": "3mMEQhmDWcw3",
        "outputId": "320baeea-d9c5-4932-9235-f304a26db571"
      },
      "source": [
        "fig, ax = plt.subplots(figsize=(10, 8))\n",
        "ax.plot(gbc_fpr, gbc_tpr, marker='.', label='Gradient Boosting Classifier with 100 trees')\n",
        "ax.plot(ada_fpr, ada_tpr, marker='.', label='ADABoost Classifier with 30 trees')\n",
        "ax.plot(ensemble_fpr, ensemble_tpr, marker='.', label= 'Voting Classifier with LR, CART, KNN' )\n",
        "lw = 2\n",
        "ax.plot([0, 1], [0, 1], color='navy', lw=lw, linestyle='--')\n",
        "# axis labels\n",
        "plt.xlabel('False Positive Rate')\n",
        "plt.ylabel('True Positive Rate')\n",
        "# show the legend\n",
        "plt.legend(loc=5)\n",
        "# show the plot\n",
        "plt.show()"
      ],
      "execution_count": 63,
      "outputs": [
        {
          "output_type": "display_data",
          "data": {
            "image/png": "[encoded data removed]",
            "text/plain": [
              "<Figure size 720x576 with 1 Axes>"
            ]
          },
          "metadata": {
            "tags": [],
            "needs_background": "light"
          }
        }
      ]
    },
    {
      "cell_type": "code",
      "metadata": {
        "id": "XlJhuMEaZcaI"
      },
      "source": [
        ""
      ],
      "execution_count": null,
      "outputs": []
    }
  ]
}