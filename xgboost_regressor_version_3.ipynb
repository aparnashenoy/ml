{
  "cells": [
    {
      "cell_type": "markdown",
      "metadata": {
        "id": "view-in-github",
        "colab_type": "text"
      },
      "source": [
        "<a href=\"https://colab.research.google.com/github/aparnashenoy/ml/blob/master/xgboost_regressor_version_3.ipynb\" target=\"_parent\"><img src=\"https://colab.research.google.com/assets/colab-badge.svg\" alt=\"Open In Colab\"/></a>"
      ]
    },
    {
      "cell_type": "markdown",
      "id": "c292acd1",
      "metadata": {
        "id": "c292acd1"
      },
      "source": [
        "# Prediction of time difference using linear Regression and ensemble learning algorithm\n",
        "\n",
        "The AIS provides vessels' static and dynamic information, which is crucial for vessel traffic situation awareness. However, AIS transponders can be switched off to hide suspecious activities. In this study, we use the real time AIS data to analyse the possibility os successfull detection of intentional and non-intentional AIS on-off switching anomalies. We extract the vessel timestamp, position, speed and course from the AIS data for the study."
      ]
    },
    {
      "cell_type": "markdown",
      "id": "397dd467",
      "metadata": {
        "id": "397dd467"
      },
      "source": [
        "# Import Libraries"
      ]
    },
    {
      "cell_type": "code",
      "source": [
        "from google.colab import drive\n",
        "drive.mount('/gdrive')"
      ],
      "metadata": {
        "colab": {
          "base_uri": "https://localhost:8080/"
        },
        "id": "AvBPpALn4Snp",
        "outputId": "352514b7-f0dd-4267-93ac-86ffec5019b1"
      },
      "id": "AvBPpALn4Snp",
      "execution_count": 1,
      "outputs": [
        {
          "output_type": "stream",
          "name": "stdout",
          "text": [
            "Drive already mounted at /gdrive; to attempt to forcibly remount, call drive.mount(\"/gdrive\", force_remount=True).\n"
          ]
        }
      ]
    },
    {
      "cell_type": "code",
      "source": [
        "path = '/gdrive/My Drive/'"
      ],
      "metadata": {
        "id": "uF8SXcP-4mEo"
      },
      "id": "uF8SXcP-4mEo",
      "execution_count": 2,
      "outputs": []
    },
    {
      "cell_type": "code",
      "execution_count": 3,
      "id": "83c34000",
      "metadata": {
        "id": "83c34000"
      },
      "outputs": [],
      "source": [
        "#Data Manipulation\n",
        "import pandas as pd\n",
        "import numpy as np\n",
        "\n",
        "#Data visualisation\n",
        "import matplotlib.pyplot as plt\n",
        "import seaborn as sns\n",
        "%matplotlib inline\n",
        "\n",
        "#Feature Engineering\n",
        "from sklearn.preprocessing import LabelEncoder\n",
        "\n",
        "# Model and evaluation\n",
        "import xgboost as xgb\n",
        "from xgboost import XGBRegressor\n",
        "from sklearn.linear_model import LinearRegression\n",
        "from sklearn.metrics import mean_squared_error, mean_absolute_percentage_error"
      ]
    },
    {
      "cell_type": "markdown",
      "id": "e5eae815",
      "metadata": {
        "id": "e5eae815"
      },
      "source": [
        "# Import dataset\n",
        "\n",
        "The dataset is downloaded from maritime cadastre for this study. The dataset includes AIS messages from June 1 - June 5, 2022. the features extracted for the study are MMSI, BaseDateTime, LAT, LON, SOG, COG, VesselType, TransceiverClass. The missing values were removed. The region of study was captured using geopandas library."
      ]
    },
    {
      "cell_type": "code",
      "execution_count": 4,
      "id": "559cf9b8",
      "metadata": {
        "id": "559cf9b8"
      },
      "outputs": [],
      "source": [
        "df = pd.read_csv(path +'gdf.csv')"
      ]
    },
    {
      "cell_type": "code",
      "execution_count": 5,
      "id": "5a20e6d5",
      "metadata": {
        "id": "5a20e6d5"
      },
      "outputs": [],
      "source": [
        "df.drop(['MMSI_length', 'geometry'], axis=1, inplace=True)"
      ]
    },
    {
      "cell_type": "code",
      "execution_count": 6,
      "id": "64069368",
      "metadata": {
        "colab": {
          "base_uri": "https://localhost:8080/",
          "height": 677
        },
        "id": "64069368",
        "outputId": "22d630a4-9006-48b2-a391-822894a9d128"
      },
      "outputs": [
        {
          "output_type": "execute_result",
          "data": {
            "text/plain": [
              "         MMSI         BaseDateTime       LAT       LON  SOG    COG  Heading  \\\n",
              "0   366999387  2022-06-01 00:00:02  32.16739 -92.10980  0.0  274.9    511.0   \n",
              "1   366999387  2022-06-01 00:01:05  32.16737 -92.10980  0.0  261.8    511.0   \n",
              "2   366999387  2022-06-01 00:02:06  32.16736 -92.10977  0.0  252.3    511.0   \n",
              "3   366999387  2022-06-01 00:03:09  32.16734 -92.10978  0.0  249.2    511.0   \n",
              "4   366999387  2022-06-01 00:04:10  32.16737 -92.10978  0.0  246.8    511.0   \n",
              "5   366999387  2022-06-01 00:05:13  32.16730 -92.10976  0.0  247.7    511.0   \n",
              "6   366999387  2022-06-01 00:06:15  32.16741 -92.10980  0.0  258.2    511.0   \n",
              "7   366999387  2022-06-01 00:07:17  32.16736 -92.10979  0.0  265.7    511.0   \n",
              "8   366999387  2022-06-01 00:08:19  32.16737 -92.10978  0.0  273.4    511.0   \n",
              "9   366999387  2022-06-01 00:09:20  32.16736 -92.10979  0.0  280.4    511.0   \n",
              "10  366999387  2022-06-01 00:10:22  32.16734 -92.10978  0.0  289.9    511.0   \n",
              "11  366999387  2022-06-01 00:11:24  32.16734 -92.10976  0.0  293.7    511.0   \n",
              "12  366999387  2022-06-01 00:12:25  32.16734 -92.10977  0.0  295.8    511.0   \n",
              "13  366999387  2022-06-01 00:13:26  32.16739 -92.10980  0.0  299.3    511.0   \n",
              "14  366999387  2022-06-01 00:14:29  32.16740 -92.10983  0.0  304.9    511.0   \n",
              "15  366999387  2022-06-01 00:15:31  32.16739 -92.10979  0.0  301.2    511.0   \n",
              "16  366999387  2022-06-01 00:16:33  32.16735 -92.10976  0.0  297.4    511.0   \n",
              "17  366999387  2022-06-01 00:17:34  32.16728 -92.10980  0.0  294.6    511.0   \n",
              "18  366999387  2022-06-01 00:18:37  32.16730 -92.10980  0.0  293.9    511.0   \n",
              "19  366999387  2022-06-01 00:19:39  32.16732 -92.10977  0.0  290.1    511.0   \n",
              "\n",
              "    VesselType TransceiverClass  \n",
              "0         90.0                A  \n",
              "1         90.0                A  \n",
              "2         90.0                A  \n",
              "3         90.0                A  \n",
              "4         90.0                A  \n",
              "5         90.0                A  \n",
              "6         90.0                A  \n",
              "7         90.0                A  \n",
              "8         90.0                A  \n",
              "9         90.0                A  \n",
              "10        90.0                A  \n",
              "11        90.0                A  \n",
              "12        90.0                A  \n",
              "13        90.0                A  \n",
              "14        90.0                A  \n",
              "15        90.0                A  \n",
              "16        90.0                A  \n",
              "17        90.0                A  \n",
              "18        90.0                A  \n",
              "19        90.0                A  "
            ],
            "text/html": [
              "\n",
              "  <div id=\"df-d2c0ea87-d924-41c1-ba18-c44fa28599dc\">\n",
              "    <div class=\"colab-df-container\">\n",
              "      <div>\n",
              "<style scoped>\n",
              "    .dataframe tbody tr th:only-of-type {\n",
              "        vertical-align: middle;\n",
              "    }\n",
              "\n",
              "    .dataframe tbody tr th {\n",
              "        vertical-align: top;\n",
              "    }\n",
              "\n",
              "    .dataframe thead th {\n",
              "        text-align: right;\n",
              "    }\n",
              "</style>\n",
              "<table border=\"1\" class=\"dataframe\">\n",
              "  <thead>\n",
              "    <tr style=\"text-align: right;\">\n",
              "      <th></th>\n",
              "      <th>MMSI</th>\n",
              "      <th>BaseDateTime</th>\n",
              "      <th>LAT</th>\n",
              "      <th>LON</th>\n",
              "      <th>SOG</th>\n",
              "      <th>COG</th>\n",
              "      <th>Heading</th>\n",
              "      <th>VesselType</th>\n",
              "      <th>TransceiverClass</th>\n",
              "    </tr>\n",
              "  </thead>\n",
              "  <tbody>\n",
              "    <tr>\n",
              "      <th>0</th>\n",
              "      <td>366999387</td>\n",
              "      <td>2022-06-01 00:00:02</td>\n",
              "      <td>32.16739</td>\n",
              "      <td>-92.10980</td>\n",
              "      <td>0.0</td>\n",
              "      <td>274.9</td>\n",
              "      <td>511.0</td>\n",
              "      <td>90.0</td>\n",
              "      <td>A</td>\n",
              "    </tr>\n",
              "    <tr>\n",
              "      <th>1</th>\n",
              "      <td>366999387</td>\n",
              "      <td>2022-06-01 00:01:05</td>\n",
              "      <td>32.16737</td>\n",
              "      <td>-92.10980</td>\n",
              "      <td>0.0</td>\n",
              "      <td>261.8</td>\n",
              "      <td>511.0</td>\n",
              "      <td>90.0</td>\n",
              "      <td>A</td>\n",
              "    </tr>\n",
              "    <tr>\n",
              "      <th>2</th>\n",
              "      <td>366999387</td>\n",
              "      <td>2022-06-01 00:02:06</td>\n",
              "      <td>32.16736</td>\n",
              "      <td>-92.10977</td>\n",
              "      <td>0.0</td>\n",
              "      <td>252.3</td>\n",
              "      <td>511.0</td>\n",
              "      <td>90.0</td>\n",
              "      <td>A</td>\n",
              "    </tr>\n",
              "    <tr>\n",
              "      <th>3</th>\n",
              "      <td>366999387</td>\n",
              "      <td>2022-06-01 00:03:09</td>\n",
              "      <td>32.16734</td>\n",
              "      <td>-92.10978</td>\n",
              "      <td>0.0</td>\n",
              "      <td>249.2</td>\n",
              "      <td>511.0</td>\n",
              "      <td>90.0</td>\n",
              "      <td>A</td>\n",
              "    </tr>\n",
              "    <tr>\n",
              "      <th>4</th>\n",
              "      <td>366999387</td>\n",
              "      <td>2022-06-01 00:04:10</td>\n",
              "      <td>32.16737</td>\n",
              "      <td>-92.10978</td>\n",
              "      <td>0.0</td>\n",
              "      <td>246.8</td>\n",
              "      <td>511.0</td>\n",
              "      <td>90.0</td>\n",
              "      <td>A</td>\n",
              "    </tr>\n",
              "    <tr>\n",
              "      <th>5</th>\n",
              "      <td>366999387</td>\n",
              "      <td>2022-06-01 00:05:13</td>\n",
              "      <td>32.16730</td>\n",
              "      <td>-92.10976</td>\n",
              "      <td>0.0</td>\n",
              "      <td>247.7</td>\n",
              "      <td>511.0</td>\n",
              "      <td>90.0</td>\n",
              "      <td>A</td>\n",
              "    </tr>\n",
              "    <tr>\n",
              "      <th>6</th>\n",
              "      <td>366999387</td>\n",
              "      <td>2022-06-01 00:06:15</td>\n",
              "      <td>32.16741</td>\n",
              "      <td>-92.10980</td>\n",
              "      <td>0.0</td>\n",
              "      <td>258.2</td>\n",
              "      <td>511.0</td>\n",
              "      <td>90.0</td>\n",
              "      <td>A</td>\n",
              "    </tr>\n",
              "    <tr>\n",
              "      <th>7</th>\n",
              "      <td>366999387</td>\n",
              "      <td>2022-06-01 00:07:17</td>\n",
              "      <td>32.16736</td>\n",
              "      <td>-92.10979</td>\n",
              "      <td>0.0</td>\n",
              "      <td>265.7</td>\n",
              "      <td>511.0</td>\n",
              "      <td>90.0</td>\n",
              "      <td>A</td>\n",
              "    </tr>\n",
              "    <tr>\n",
              "      <th>8</th>\n",
              "      <td>366999387</td>\n",
              "      <td>2022-06-01 00:08:19</td>\n",
              "      <td>32.16737</td>\n",
              "      <td>-92.10978</td>\n",
              "      <td>0.0</td>\n",
              "      <td>273.4</td>\n",
              "      <td>511.0</td>\n",
              "      <td>90.0</td>\n",
              "      <td>A</td>\n",
              "    </tr>\n",
              "    <tr>\n",
              "      <th>9</th>\n",
              "      <td>366999387</td>\n",
              "      <td>2022-06-01 00:09:20</td>\n",
              "      <td>32.16736</td>\n",
              "      <td>-92.10979</td>\n",
              "      <td>0.0</td>\n",
              "      <td>280.4</td>\n",
              "      <td>511.0</td>\n",
              "      <td>90.0</td>\n",
              "      <td>A</td>\n",
              "    </tr>\n",
              "    <tr>\n",
              "      <th>10</th>\n",
              "      <td>366999387</td>\n",
              "      <td>2022-06-01 00:10:22</td>\n",
              "      <td>32.16734</td>\n",
              "      <td>-92.10978</td>\n",
              "      <td>0.0</td>\n",
              "      <td>289.9</td>\n",
              "      <td>511.0</td>\n",
              "      <td>90.0</td>\n",
              "      <td>A</td>\n",
              "    </tr>\n",
              "    <tr>\n",
              "      <th>11</th>\n",
              "      <td>366999387</td>\n",
              "      <td>2022-06-01 00:11:24</td>\n",
              "      <td>32.16734</td>\n",
              "      <td>-92.10976</td>\n",
              "      <td>0.0</td>\n",
              "      <td>293.7</td>\n",
              "      <td>511.0</td>\n",
              "      <td>90.0</td>\n",
              "      <td>A</td>\n",
              "    </tr>\n",
              "    <tr>\n",
              "      <th>12</th>\n",
              "      <td>366999387</td>\n",
              "      <td>2022-06-01 00:12:25</td>\n",
              "      <td>32.16734</td>\n",
              "      <td>-92.10977</td>\n",
              "      <td>0.0</td>\n",
              "      <td>295.8</td>\n",
              "      <td>511.0</td>\n",
              "      <td>90.0</td>\n",
              "      <td>A</td>\n",
              "    </tr>\n",
              "    <tr>\n",
              "      <th>13</th>\n",
              "      <td>366999387</td>\n",
              "      <td>2022-06-01 00:13:26</td>\n",
              "      <td>32.16739</td>\n",
              "      <td>-92.10980</td>\n",
              "      <td>0.0</td>\n",
              "      <td>299.3</td>\n",
              "      <td>511.0</td>\n",
              "      <td>90.0</td>\n",
              "      <td>A</td>\n",
              "    </tr>\n",
              "    <tr>\n",
              "      <th>14</th>\n",
              "      <td>366999387</td>\n",
              "      <td>2022-06-01 00:14:29</td>\n",
              "      <td>32.16740</td>\n",
              "      <td>-92.10983</td>\n",
              "      <td>0.0</td>\n",
              "      <td>304.9</td>\n",
              "      <td>511.0</td>\n",
              "      <td>90.0</td>\n",
              "      <td>A</td>\n",
              "    </tr>\n",
              "    <tr>\n",
              "      <th>15</th>\n",
              "      <td>366999387</td>\n",
              "      <td>2022-06-01 00:15:31</td>\n",
              "      <td>32.16739</td>\n",
              "      <td>-92.10979</td>\n",
              "      <td>0.0</td>\n",
              "      <td>301.2</td>\n",
              "      <td>511.0</td>\n",
              "      <td>90.0</td>\n",
              "      <td>A</td>\n",
              "    </tr>\n",
              "    <tr>\n",
              "      <th>16</th>\n",
              "      <td>366999387</td>\n",
              "      <td>2022-06-01 00:16:33</td>\n",
              "      <td>32.16735</td>\n",
              "      <td>-92.10976</td>\n",
              "      <td>0.0</td>\n",
              "      <td>297.4</td>\n",
              "      <td>511.0</td>\n",
              "      <td>90.0</td>\n",
              "      <td>A</td>\n",
              "    </tr>\n",
              "    <tr>\n",
              "      <th>17</th>\n",
              "      <td>366999387</td>\n",
              "      <td>2022-06-01 00:17:34</td>\n",
              "      <td>32.16728</td>\n",
              "      <td>-92.10980</td>\n",
              "      <td>0.0</td>\n",
              "      <td>294.6</td>\n",
              "      <td>511.0</td>\n",
              "      <td>90.0</td>\n",
              "      <td>A</td>\n",
              "    </tr>\n",
              "    <tr>\n",
              "      <th>18</th>\n",
              "      <td>366999387</td>\n",
              "      <td>2022-06-01 00:18:37</td>\n",
              "      <td>32.16730</td>\n",
              "      <td>-92.10980</td>\n",
              "      <td>0.0</td>\n",
              "      <td>293.9</td>\n",
              "      <td>511.0</td>\n",
              "      <td>90.0</td>\n",
              "      <td>A</td>\n",
              "    </tr>\n",
              "    <tr>\n",
              "      <th>19</th>\n",
              "      <td>366999387</td>\n",
              "      <td>2022-06-01 00:19:39</td>\n",
              "      <td>32.16732</td>\n",
              "      <td>-92.10977</td>\n",
              "      <td>0.0</td>\n",
              "      <td>290.1</td>\n",
              "      <td>511.0</td>\n",
              "      <td>90.0</td>\n",
              "      <td>A</td>\n",
              "    </tr>\n",
              "  </tbody>\n",
              "</table>\n",
              "</div>\n",
              "      <button class=\"colab-df-convert\" onclick=\"convertToInteractive('df-d2c0ea87-d924-41c1-ba18-c44fa28599dc')\"\n",
              "              title=\"Convert this dataframe to an interactive table.\"\n",
              "              style=\"display:none;\">\n",
              "        \n",
              "  <svg xmlns=\"http://www.w3.org/2000/svg\" height=\"24px\"viewBox=\"0 0 24 24\"\n",
              "       width=\"24px\">\n",
              "    <path d=\"M0 0h24v24H0V0z\" fill=\"none\"/>\n",
              "    <path d=\"M18.56 5.44l.94 2.06.94-2.06 2.06-.94-2.06-.94-.94-2.06-.94 2.06-2.06.94zm-11 1L8.5 8.5l.94-2.06 2.06-.94-2.06-.94L8.5 2.5l-.94 2.06-2.06.94zm10 10l.94 2.06.94-2.06 2.06-.94-2.06-.94-.94-2.06-.94 2.06-2.06.94z\"/><path d=\"M17.41 7.96l-1.37-1.37c-.4-.4-.92-.59-1.43-.59-.52 0-1.04.2-1.43.59L10.3 9.45l-7.72 7.72c-.78.78-.78 2.05 0 2.83L4 21.41c.39.39.9.59 1.41.59.51 0 1.02-.2 1.41-.59l7.78-7.78 2.81-2.81c.8-.78.8-2.07 0-2.86zM5.41 20L4 18.59l7.72-7.72 1.47 1.35L5.41 20z\"/>\n",
              "  </svg>\n",
              "      </button>\n",
              "      \n",
              "  <style>\n",
              "    .colab-df-container {\n",
              "      display:flex;\n",
              "      flex-wrap:wrap;\n",
              "      gap: 12px;\n",
              "    }\n",
              "\n",
              "    .colab-df-convert {\n",
              "      background-color: #E8F0FE;\n",
              "      border: none;\n",
              "      border-radius: 50%;\n",
              "      cursor: pointer;\n",
              "      display: none;\n",
              "      fill: #1967D2;\n",
              "      height: 32px;\n",
              "      padding: 0 0 0 0;\n",
              "      width: 32px;\n",
              "    }\n",
              "\n",
              "    .colab-df-convert:hover {\n",
              "      background-color: #E2EBFA;\n",
              "      box-shadow: 0px 1px 2px rgba(60, 64, 67, 0.3), 0px 1px 3px 1px rgba(60, 64, 67, 0.15);\n",
              "      fill: #174EA6;\n",
              "    }\n",
              "\n",
              "    [theme=dark] .colab-df-convert {\n",
              "      background-color: #3B4455;\n",
              "      fill: #D2E3FC;\n",
              "    }\n",
              "\n",
              "    [theme=dark] .colab-df-convert:hover {\n",
              "      background-color: #434B5C;\n",
              "      box-shadow: 0px 1px 3px 1px rgba(0, 0, 0, 0.15);\n",
              "      filter: drop-shadow(0px 1px 2px rgba(0, 0, 0, 0.3));\n",
              "      fill: #FFFFFF;\n",
              "    }\n",
              "  </style>\n",
              "\n",
              "      <script>\n",
              "        const buttonEl =\n",
              "          document.querySelector('#df-d2c0ea87-d924-41c1-ba18-c44fa28599dc button.colab-df-convert');\n",
              "        buttonEl.style.display =\n",
              "          google.colab.kernel.accessAllowed ? 'block' : 'none';\n",
              "\n",
              "        async function convertToInteractive(key) {\n",
              "          const element = document.querySelector('#df-d2c0ea87-d924-41c1-ba18-c44fa28599dc');\n",
              "          const dataTable =\n",
              "            await google.colab.kernel.invokeFunction('convertToInteractive',\n",
              "                                                     [key], {});\n",
              "          if (!dataTable) return;\n",
              "\n",
              "          const docLinkHtml = 'Like what you see? Visit the ' +\n",
              "            '<a target=\"_blank\" href=https://colab.research.google.com/notebooks/data_table.ipynb>data table notebook</a>'\n",
              "            + ' to learn more about interactive tables.';\n",
              "          element.innerHTML = '';\n",
              "          dataTable['output_type'] = 'display_data';\n",
              "          await google.colab.output.renderOutput(dataTable, element);\n",
              "          const docLink = document.createElement('div');\n",
              "          docLink.innerHTML = docLinkHtml;\n",
              "          element.appendChild(docLink);\n",
              "        }\n",
              "      </script>\n",
              "    </div>\n",
              "  </div>\n",
              "  "
            ]
          },
          "metadata": {},
          "execution_count": 6
        }
      ],
      "source": [
        "df.head(20)"
      ]
    },
    {
      "cell_type": "markdown",
      "id": "e97842cf",
      "metadata": {
        "id": "e97842cf"
      },
      "source": [
        "# Description of the dataset\n",
        "The dataset includes 26470 observations and 9 features. The features and the initial datatypes are tabulated below."
      ]
    },
    {
      "cell_type": "code",
      "execution_count": 7,
      "id": "99a3f00e",
      "metadata": {
        "colab": {
          "base_uri": "https://localhost:8080/"
        },
        "id": "99a3f00e",
        "outputId": "2b960e33-7851-4683-ea1f-1da76c6737d1"
      },
      "outputs": [
        {
          "output_type": "execute_result",
          "data": {
            "text/plain": [
              "(26470, 9)"
            ]
          },
          "metadata": {},
          "execution_count": 7
        }
      ],
      "source": [
        "df.shape"
      ]
    },
    {
      "cell_type": "code",
      "execution_count": 8,
      "id": "ffdf80d9",
      "metadata": {
        "colab": {
          "base_uri": "https://localhost:8080/"
        },
        "id": "ffdf80d9",
        "outputId": "b8d8e20b-f5a6-4f91-dd92-4ad4c8287559"
      },
      "outputs": [
        {
          "output_type": "execute_result",
          "data": {
            "text/plain": [
              "Index(['MMSI', 'BaseDateTime', 'LAT', 'LON', 'SOG', 'COG', 'Heading',\n",
              "       'VesselType', 'TransceiverClass'],\n",
              "      dtype='object')"
            ]
          },
          "metadata": {},
          "execution_count": 8
        }
      ],
      "source": [
        "df.columns"
      ]
    },
    {
      "cell_type": "code",
      "execution_count": 9,
      "id": "3510931a",
      "metadata": {
        "colab": {
          "base_uri": "https://localhost:8080/"
        },
        "id": "3510931a",
        "outputId": "b34e9ae7-08e8-4ef4-e54b-e7d3eb1f26f9"
      },
      "outputs": [
        {
          "output_type": "stream",
          "name": "stdout",
          "text": [
            "<class 'pandas.core.frame.DataFrame'>\n",
            "RangeIndex: 26470 entries, 0 to 26469\n",
            "Data columns (total 9 columns):\n",
            " #   Column            Non-Null Count  Dtype  \n",
            "---  ------            --------------  -----  \n",
            " 0   MMSI              26470 non-null  int64  \n",
            " 1   BaseDateTime      26470 non-null  object \n",
            " 2   LAT               26470 non-null  float64\n",
            " 3   LON               26470 non-null  float64\n",
            " 4   SOG               26470 non-null  float64\n",
            " 5   COG               26470 non-null  float64\n",
            " 6   Heading           26470 non-null  float64\n",
            " 7   VesselType        26470 non-null  float64\n",
            " 8   TransceiverClass  26470 non-null  object \n",
            "dtypes: float64(6), int64(1), object(2)\n",
            "memory usage: 1.8+ MB\n"
          ]
        }
      ],
      "source": [
        "# datatypes\n",
        "df.info()"
      ]
    },
    {
      "cell_type": "markdown",
      "id": "5e750d95",
      "metadata": {
        "id": "5e750d95"
      },
      "source": [
        "The feature MMSI and TransceiverClass are converted to category for analysis purpose"
      ]
    },
    {
      "cell_type": "code",
      "execution_count": 10,
      "id": "2da11afe",
      "metadata": {
        "id": "2da11afe"
      },
      "outputs": [],
      "source": [
        "#datatypes conversion\n",
        "df = df.astype({\"MMSI\":'category', \"TransceiverClass\":'category'})"
      ]
    },
    {
      "cell_type": "code",
      "execution_count": 11,
      "id": "10480ea3",
      "metadata": {
        "colab": {
          "base_uri": "https://localhost:8080/",
          "height": 424
        },
        "id": "10480ea3",
        "outputId": "b5acc92a-35f3-4e64-8018-bb0732ca0c43"
      },
      "outputs": [
        {
          "output_type": "execute_result",
          "data": {
            "text/plain": [
              "            MMSI         BaseDateTime       LAT       LON  SOG    COG  \\\n",
              "0      366999387  2022-06-01 00:00:02  32.16739 -92.10980  0.0  274.9   \n",
              "1      366999387  2022-06-01 00:01:05  32.16737 -92.10980  0.0  261.8   \n",
              "2      366999387  2022-06-01 00:02:06  32.16736 -92.10977  0.0  252.3   \n",
              "3      366999387  2022-06-01 00:03:09  32.16734 -92.10978  0.0  249.2   \n",
              "4      366999387  2022-06-01 00:04:10  32.16737 -92.10978  0.0  246.8   \n",
              "...          ...                  ...       ...       ...  ...    ...   \n",
              "26465  368179250  2022-06-05 23:55:38  25.76767 -80.14428  7.8  117.1   \n",
              "26466  368179250  2022-06-05 23:56:41  25.76641 -80.14321  4.7  170.3   \n",
              "26467  368179250  2022-06-05 23:57:45  25.76536 -80.14329  3.2  199.5   \n",
              "26468  368179250  2022-06-05 23:58:48  25.76467 -80.14410  1.6  223.8   \n",
              "26469  368179250  2022-06-05 23:59:52  25.76436 -80.14432  1.1  203.4   \n",
              "\n",
              "       Heading  VesselType TransceiverClass  \n",
              "0        511.0        90.0                A  \n",
              "1        511.0        90.0                A  \n",
              "2        511.0        90.0                A  \n",
              "3        511.0        90.0                A  \n",
              "4        511.0        90.0                A  \n",
              "...        ...         ...              ...  \n",
              "26465    125.0        20.0                A  \n",
              "26466    180.0        20.0                A  \n",
              "26467    224.0        20.0                A  \n",
              "26468    217.0        20.0                A  \n",
              "26469    188.0        20.0                A  \n",
              "\n",
              "[26470 rows x 9 columns]"
            ],
            "text/html": [
              "\n",
              "  <div id=\"df-2cc4daf1-69de-429c-91b1-d1ad33ef9916\">\n",
              "    <div class=\"colab-df-container\">\n",
              "      <div>\n",
              "<style scoped>\n",
              "    .dataframe tbody tr th:only-of-type {\n",
              "        vertical-align: middle;\n",
              "    }\n",
              "\n",
              "    .dataframe tbody tr th {\n",
              "        vertical-align: top;\n",
              "    }\n",
              "\n",
              "    .dataframe thead th {\n",
              "        text-align: right;\n",
              "    }\n",
              "</style>\n",
              "<table border=\"1\" class=\"dataframe\">\n",
              "  <thead>\n",
              "    <tr style=\"text-align: right;\">\n",
              "      <th></th>\n",
              "      <th>MMSI</th>\n",
              "      <th>BaseDateTime</th>\n",
              "      <th>LAT</th>\n",
              "      <th>LON</th>\n",
              "      <th>SOG</th>\n",
              "      <th>COG</th>\n",
              "      <th>Heading</th>\n",
              "      <th>VesselType</th>\n",
              "      <th>TransceiverClass</th>\n",
              "    </tr>\n",
              "  </thead>\n",
              "  <tbody>\n",
              "    <tr>\n",
              "      <th>0</th>\n",
              "      <td>366999387</td>\n",
              "      <td>2022-06-01 00:00:02</td>\n",
              "      <td>32.16739</td>\n",
              "      <td>-92.10980</td>\n",
              "      <td>0.0</td>\n",
              "      <td>274.9</td>\n",
              "      <td>511.0</td>\n",
              "      <td>90.0</td>\n",
              "      <td>A</td>\n",
              "    </tr>\n",
              "    <tr>\n",
              "      <th>1</th>\n",
              "      <td>366999387</td>\n",
              "      <td>2022-06-01 00:01:05</td>\n",
              "      <td>32.16737</td>\n",
              "      <td>-92.10980</td>\n",
              "      <td>0.0</td>\n",
              "      <td>261.8</td>\n",
              "      <td>511.0</td>\n",
              "      <td>90.0</td>\n",
              "      <td>A</td>\n",
              "    </tr>\n",
              "    <tr>\n",
              "      <th>2</th>\n",
              "      <td>366999387</td>\n",
              "      <td>2022-06-01 00:02:06</td>\n",
              "      <td>32.16736</td>\n",
              "      <td>-92.10977</td>\n",
              "      <td>0.0</td>\n",
              "      <td>252.3</td>\n",
              "      <td>511.0</td>\n",
              "      <td>90.0</td>\n",
              "      <td>A</td>\n",
              "    </tr>\n",
              "    <tr>\n",
              "      <th>3</th>\n",
              "      <td>366999387</td>\n",
              "      <td>2022-06-01 00:03:09</td>\n",
              "      <td>32.16734</td>\n",
              "      <td>-92.10978</td>\n",
              "      <td>0.0</td>\n",
              "      <td>249.2</td>\n",
              "      <td>511.0</td>\n",
              "      <td>90.0</td>\n",
              "      <td>A</td>\n",
              "    </tr>\n",
              "    <tr>\n",
              "      <th>4</th>\n",
              "      <td>366999387</td>\n",
              "      <td>2022-06-01 00:04:10</td>\n",
              "      <td>32.16737</td>\n",
              "      <td>-92.10978</td>\n",
              "      <td>0.0</td>\n",
              "      <td>246.8</td>\n",
              "      <td>511.0</td>\n",
              "      <td>90.0</td>\n",
              "      <td>A</td>\n",
              "    </tr>\n",
              "    <tr>\n",
              "      <th>...</th>\n",
              "      <td>...</td>\n",
              "      <td>...</td>\n",
              "      <td>...</td>\n",
              "      <td>...</td>\n",
              "      <td>...</td>\n",
              "      <td>...</td>\n",
              "      <td>...</td>\n",
              "      <td>...</td>\n",
              "      <td>...</td>\n",
              "    </tr>\n",
              "    <tr>\n",
              "      <th>26465</th>\n",
              "      <td>368179250</td>\n",
              "      <td>2022-06-05 23:55:38</td>\n",
              "      <td>25.76767</td>\n",
              "      <td>-80.14428</td>\n",
              "      <td>7.8</td>\n",
              "      <td>117.1</td>\n",
              "      <td>125.0</td>\n",
              "      <td>20.0</td>\n",
              "      <td>A</td>\n",
              "    </tr>\n",
              "    <tr>\n",
              "      <th>26466</th>\n",
              "      <td>368179250</td>\n",
              "      <td>2022-06-05 23:56:41</td>\n",
              "      <td>25.76641</td>\n",
              "      <td>-80.14321</td>\n",
              "      <td>4.7</td>\n",
              "      <td>170.3</td>\n",
              "      <td>180.0</td>\n",
              "      <td>20.0</td>\n",
              "      <td>A</td>\n",
              "    </tr>\n",
              "    <tr>\n",
              "      <th>26467</th>\n",
              "      <td>368179250</td>\n",
              "      <td>2022-06-05 23:57:45</td>\n",
              "      <td>25.76536</td>\n",
              "      <td>-80.14329</td>\n",
              "      <td>3.2</td>\n",
              "      <td>199.5</td>\n",
              "      <td>224.0</td>\n",
              "      <td>20.0</td>\n",
              "      <td>A</td>\n",
              "    </tr>\n",
              "    <tr>\n",
              "      <th>26468</th>\n",
              "      <td>368179250</td>\n",
              "      <td>2022-06-05 23:58:48</td>\n",
              "      <td>25.76467</td>\n",
              "      <td>-80.14410</td>\n",
              "      <td>1.6</td>\n",
              "      <td>223.8</td>\n",
              "      <td>217.0</td>\n",
              "      <td>20.0</td>\n",
              "      <td>A</td>\n",
              "    </tr>\n",
              "    <tr>\n",
              "      <th>26469</th>\n",
              "      <td>368179250</td>\n",
              "      <td>2022-06-05 23:59:52</td>\n",
              "      <td>25.76436</td>\n",
              "      <td>-80.14432</td>\n",
              "      <td>1.1</td>\n",
              "      <td>203.4</td>\n",
              "      <td>188.0</td>\n",
              "      <td>20.0</td>\n",
              "      <td>A</td>\n",
              "    </tr>\n",
              "  </tbody>\n",
              "</table>\n",
              "<p>26470 rows × 9 columns</p>\n",
              "</div>\n",
              "      <button class=\"colab-df-convert\" onclick=\"convertToInteractive('df-2cc4daf1-69de-429c-91b1-d1ad33ef9916')\"\n",
              "              title=\"Convert this dataframe to an interactive table.\"\n",
              "              style=\"display:none;\">\n",
              "        \n",
              "  <svg xmlns=\"http://www.w3.org/2000/svg\" height=\"24px\"viewBox=\"0 0 24 24\"\n",
              "       width=\"24px\">\n",
              "    <path d=\"M0 0h24v24H0V0z\" fill=\"none\"/>\n",
              "    <path d=\"M18.56 5.44l.94 2.06.94-2.06 2.06-.94-2.06-.94-.94-2.06-.94 2.06-2.06.94zm-11 1L8.5 8.5l.94-2.06 2.06-.94-2.06-.94L8.5 2.5l-.94 2.06-2.06.94zm10 10l.94 2.06.94-2.06 2.06-.94-2.06-.94-.94-2.06-.94 2.06-2.06.94z\"/><path d=\"M17.41 7.96l-1.37-1.37c-.4-.4-.92-.59-1.43-.59-.52 0-1.04.2-1.43.59L10.3 9.45l-7.72 7.72c-.78.78-.78 2.05 0 2.83L4 21.41c.39.39.9.59 1.41.59.51 0 1.02-.2 1.41-.59l7.78-7.78 2.81-2.81c.8-.78.8-2.07 0-2.86zM5.41 20L4 18.59l7.72-7.72 1.47 1.35L5.41 20z\"/>\n",
              "  </svg>\n",
              "      </button>\n",
              "      \n",
              "  <style>\n",
              "    .colab-df-container {\n",
              "      display:flex;\n",
              "      flex-wrap:wrap;\n",
              "      gap: 12px;\n",
              "    }\n",
              "\n",
              "    .colab-df-convert {\n",
              "      background-color: #E8F0FE;\n",
              "      border: none;\n",
              "      border-radius: 50%;\n",
              "      cursor: pointer;\n",
              "      display: none;\n",
              "      fill: #1967D2;\n",
              "      height: 32px;\n",
              "      padding: 0 0 0 0;\n",
              "      width: 32px;\n",
              "    }\n",
              "\n",
              "    .colab-df-convert:hover {\n",
              "      background-color: #E2EBFA;\n",
              "      box-shadow: 0px 1px 2px rgba(60, 64, 67, 0.3), 0px 1px 3px 1px rgba(60, 64, 67, 0.15);\n",
              "      fill: #174EA6;\n",
              "    }\n",
              "\n",
              "    [theme=dark] .colab-df-convert {\n",
              "      background-color: #3B4455;\n",
              "      fill: #D2E3FC;\n",
              "    }\n",
              "\n",
              "    [theme=dark] .colab-df-convert:hover {\n",
              "      background-color: #434B5C;\n",
              "      box-shadow: 0px 1px 3px 1px rgba(0, 0, 0, 0.15);\n",
              "      filter: drop-shadow(0px 1px 2px rgba(0, 0, 0, 0.3));\n",
              "      fill: #FFFFFF;\n",
              "    }\n",
              "  </style>\n",
              "\n",
              "      <script>\n",
              "        const buttonEl =\n",
              "          document.querySelector('#df-2cc4daf1-69de-429c-91b1-d1ad33ef9916 button.colab-df-convert');\n",
              "        buttonEl.style.display =\n",
              "          google.colab.kernel.accessAllowed ? 'block' : 'none';\n",
              "\n",
              "        async function convertToInteractive(key) {\n",
              "          const element = document.querySelector('#df-2cc4daf1-69de-429c-91b1-d1ad33ef9916');\n",
              "          const dataTable =\n",
              "            await google.colab.kernel.invokeFunction('convertToInteractive',\n",
              "                                                     [key], {});\n",
              "          if (!dataTable) return;\n",
              "\n",
              "          const docLinkHtml = 'Like what you see? Visit the ' +\n",
              "            '<a target=\"_blank\" href=https://colab.research.google.com/notebooks/data_table.ipynb>data table notebook</a>'\n",
              "            + ' to learn more about interactive tables.';\n",
              "          element.innerHTML = '';\n",
              "          dataTable['output_type'] = 'display_data';\n",
              "          await google.colab.output.renderOutput(dataTable, element);\n",
              "          const docLink = document.createElement('div');\n",
              "          docLink.innerHTML = docLinkHtml;\n",
              "          element.appendChild(docLink);\n",
              "        }\n",
              "      </script>\n",
              "    </div>\n",
              "  </div>\n",
              "  "
            ]
          },
          "metadata": {},
          "execution_count": 11
        }
      ],
      "source": [
        "df"
      ]
    },
    {
      "cell_type": "markdown",
      "id": "a3ac0f64",
      "metadata": {
        "id": "a3ac0f64"
      },
      "source": [
        "# Captured MMSI for the study\n",
        "In the pilot study, following MMSIs had the largest timestamp entries where AIS messages were sent every minute in a particular geographical area."
      ]
    },
    {
      "cell_type": "code",
      "execution_count": 12,
      "id": "6f014c0e",
      "metadata": {
        "colab": {
          "base_uri": "https://localhost:8080/"
        },
        "id": "6f014c0e",
        "outputId": "ec62cf42-f667-4ec5-f0fc-493b44069d42"
      },
      "outputs": [
        {
          "output_type": "execute_result",
          "data": {
            "text/plain": [
              "366999387    6732\n",
              "368179250    6597\n",
              "367458840    6586\n",
              "367314530    6555\n",
              "Name: MMSI, dtype: int64"
            ]
          },
          "metadata": {},
          "execution_count": 12
        }
      ],
      "source": [
        "# identify the unique MMSIs with count\n",
        "df.MMSI.value_counts()"
      ]
    },
    {
      "cell_type": "code",
      "execution_count": 13,
      "id": "6d2764c0",
      "metadata": {
        "id": "6d2764c0"
      },
      "outputs": [],
      "source": [
        "# filter the dataset with speed greater than 0 knots\n",
        "df = df[df['SOG']>0.0]"
      ]
    },
    {
      "cell_type": "code",
      "execution_count": 14,
      "id": "95109fe4",
      "metadata": {
        "scrolled": true,
        "colab": {
          "base_uri": "https://localhost:8080/"
        },
        "id": "95109fe4",
        "outputId": "cdca5d75-45c8-40b5-e97b-1cd9a83b2301"
      },
      "outputs": [
        {
          "output_type": "stream",
          "name": "stderr",
          "text": [
            "<ipython-input-14-b80b5152c476>:2: SettingWithCopyWarning: \n",
            "A value is trying to be set on a copy of a slice from a DataFrame.\n",
            "Try using .loc[row_indexer,col_indexer] = value instead\n",
            "\n",
            "See the caveats in the documentation: https://pandas.pydata.org/pandas-docs/stable/user_guide/indexing.html#returning-a-view-versus-a-copy\n",
            "  df['BaseDateTime'] = pd.to_datetime(df['BaseDateTime'])\n"
          ]
        }
      ],
      "source": [
        "#conversion of BaseDateTime variable as Datetime64 datatype for time series analysis\n",
        "df['BaseDateTime'] = pd.to_datetime(df['BaseDateTime'])"
      ]
    },
    {
      "cell_type": "markdown",
      "id": "5f4d7d32",
      "metadata": {
        "id": "5f4d7d32"
      },
      "source": [
        "# Time Difference calculation\n",
        "The function below calculates the difference in the consecutive timestamps for unique MMSIs. A new column is created which provides the time difference between consecutive timestamps."
      ]
    },
    {
      "cell_type": "code",
      "execution_count": 15,
      "id": "86680312",
      "metadata": {
        "id": "86680312"
      },
      "outputs": [],
      "source": [
        "def apply_time_difference(data):\n",
        "    data['time_diff'] = data.sort_values(['MMSI', 'BaseDateTime'], ascending = True).groupby('MMSI')['BaseDateTime'].diff(1).dt.floor('T').dt.total_seconds().div(60).fillna(0)"
      ]
    },
    {
      "cell_type": "code",
      "execution_count": 16,
      "id": "f6c2d70d",
      "metadata": {
        "colab": {
          "base_uri": "https://localhost:8080/"
        },
        "id": "f6c2d70d",
        "outputId": "507b8b4d-fcae-4abd-889a-cddeaf38cfe9"
      },
      "outputs": [
        {
          "output_type": "stream",
          "name": "stderr",
          "text": [
            "<ipython-input-15-991746702e16>:2: SettingWithCopyWarning: \n",
            "A value is trying to be set on a copy of a slice from a DataFrame.\n",
            "Try using .loc[row_indexer,col_indexer] = value instead\n",
            "\n",
            "See the caveats in the documentation: https://pandas.pydata.org/pandas-docs/stable/user_guide/indexing.html#returning-a-view-versus-a-copy\n",
            "  data['time_diff'] = data.sort_values(['MMSI', 'BaseDateTime'], ascending = True).groupby('MMSI')['BaseDateTime'].diff(1).dt.floor('T').dt.total_seconds().div(60).fillna(0)\n"
          ]
        }
      ],
      "source": [
        "apply_time_difference(df)"
      ]
    },
    {
      "cell_type": "code",
      "execution_count": 17,
      "id": "69dd1dc2",
      "metadata": {
        "id": "69dd1dc2"
      },
      "outputs": [],
      "source": [
        "df = df.astype({'time_diff': 'int'})"
      ]
    },
    {
      "cell_type": "code",
      "execution_count": 18,
      "id": "f6152def",
      "metadata": {
        "colab": {
          "base_uri": "https://localhost:8080/",
          "height": 424
        },
        "id": "f6152def",
        "outputId": "98d2f4ce-d6ba-46e8-9cbf-95c84e936116"
      },
      "outputs": [
        {
          "output_type": "execute_result",
          "data": {
            "text/plain": [
              "            MMSI        BaseDateTime       LAT       LON  SOG    COG  Heading  \\\n",
              "86     366999387 2022-06-01 01:27:51  32.16739 -92.10974  0.1  219.4    511.0   \n",
              "363    366999387 2022-06-01 06:09:19  32.16729 -92.10976  0.1  273.6    511.0   \n",
              "470    366999387 2022-06-01 07:58:57  32.16736 -92.10975  0.1  244.6    511.0   \n",
              "596    366999387 2022-06-01 10:07:17  32.16735 -92.10977  0.1  231.3    511.0   \n",
              "627    366999387 2022-06-01 10:39:19  32.16736 -92.10979  0.1  226.3    511.0   \n",
              "...          ...                 ...       ...       ...  ...    ...      ...   \n",
              "26465  368179250 2022-06-05 23:55:38  25.76767 -80.14428  7.8  117.1    125.0   \n",
              "26466  368179250 2022-06-05 23:56:41  25.76641 -80.14321  4.7  170.3    180.0   \n",
              "26467  368179250 2022-06-05 23:57:45  25.76536 -80.14329  3.2  199.5    224.0   \n",
              "26468  368179250 2022-06-05 23:58:48  25.76467 -80.14410  1.6  223.8    217.0   \n",
              "26469  368179250 2022-06-05 23:59:52  25.76436 -80.14432  1.1  203.4    188.0   \n",
              "\n",
              "       VesselType TransceiverClass  time_diff  \n",
              "86           90.0                A          0  \n",
              "363          90.0                A        281  \n",
              "470          90.0                A        109  \n",
              "596          90.0                A        128  \n",
              "627          90.0                A         32  \n",
              "...           ...              ...        ...  \n",
              "26465        20.0                A          1  \n",
              "26466        20.0                A          1  \n",
              "26467        20.0                A          1  \n",
              "26468        20.0                A          1  \n",
              "26469        20.0                A          1  \n",
              "\n",
              "[8561 rows x 10 columns]"
            ],
            "text/html": [
              "\n",
              "  <div id=\"df-42460f10-b901-4389-86a8-fb8b4b3cd296\">\n",
              "    <div class=\"colab-df-container\">\n",
              "      <div>\n",
              "<style scoped>\n",
              "    .dataframe tbody tr th:only-of-type {\n",
              "        vertical-align: middle;\n",
              "    }\n",
              "\n",
              "    .dataframe tbody tr th {\n",
              "        vertical-align: top;\n",
              "    }\n",
              "\n",
              "    .dataframe thead th {\n",
              "        text-align: right;\n",
              "    }\n",
              "</style>\n",
              "<table border=\"1\" class=\"dataframe\">\n",
              "  <thead>\n",
              "    <tr style=\"text-align: right;\">\n",
              "      <th></th>\n",
              "      <th>MMSI</th>\n",
              "      <th>BaseDateTime</th>\n",
              "      <th>LAT</th>\n",
              "      <th>LON</th>\n",
              "      <th>SOG</th>\n",
              "      <th>COG</th>\n",
              "      <th>Heading</th>\n",
              "      <th>VesselType</th>\n",
              "      <th>TransceiverClass</th>\n",
              "      <th>time_diff</th>\n",
              "    </tr>\n",
              "  </thead>\n",
              "  <tbody>\n",
              "    <tr>\n",
              "      <th>86</th>\n",
              "      <td>366999387</td>\n",
              "      <td>2022-06-01 01:27:51</td>\n",
              "      <td>32.16739</td>\n",
              "      <td>-92.10974</td>\n",
              "      <td>0.1</td>\n",
              "      <td>219.4</td>\n",
              "      <td>511.0</td>\n",
              "      <td>90.0</td>\n",
              "      <td>A</td>\n",
              "      <td>0</td>\n",
              "    </tr>\n",
              "    <tr>\n",
              "      <th>363</th>\n",
              "      <td>366999387</td>\n",
              "      <td>2022-06-01 06:09:19</td>\n",
              "      <td>32.16729</td>\n",
              "      <td>-92.10976</td>\n",
              "      <td>0.1</td>\n",
              "      <td>273.6</td>\n",
              "      <td>511.0</td>\n",
              "      <td>90.0</td>\n",
              "      <td>A</td>\n",
              "      <td>281</td>\n",
              "    </tr>\n",
              "    <tr>\n",
              "      <th>470</th>\n",
              "      <td>366999387</td>\n",
              "      <td>2022-06-01 07:58:57</td>\n",
              "      <td>32.16736</td>\n",
              "      <td>-92.10975</td>\n",
              "      <td>0.1</td>\n",
              "      <td>244.6</td>\n",
              "      <td>511.0</td>\n",
              "      <td>90.0</td>\n",
              "      <td>A</td>\n",
              "      <td>109</td>\n",
              "    </tr>\n",
              "    <tr>\n",
              "      <th>596</th>\n",
              "      <td>366999387</td>\n",
              "      <td>2022-06-01 10:07:17</td>\n",
              "      <td>32.16735</td>\n",
              "      <td>-92.10977</td>\n",
              "      <td>0.1</td>\n",
              "      <td>231.3</td>\n",
              "      <td>511.0</td>\n",
              "      <td>90.0</td>\n",
              "      <td>A</td>\n",
              "      <td>128</td>\n",
              "    </tr>\n",
              "    <tr>\n",
              "      <th>627</th>\n",
              "      <td>366999387</td>\n",
              "      <td>2022-06-01 10:39:19</td>\n",
              "      <td>32.16736</td>\n",
              "      <td>-92.10979</td>\n",
              "      <td>0.1</td>\n",
              "      <td>226.3</td>\n",
              "      <td>511.0</td>\n",
              "      <td>90.0</td>\n",
              "      <td>A</td>\n",
              "      <td>32</td>\n",
              "    </tr>\n",
              "    <tr>\n",
              "      <th>...</th>\n",
              "      <td>...</td>\n",
              "      <td>...</td>\n",
              "      <td>...</td>\n",
              "      <td>...</td>\n",
              "      <td>...</td>\n",
              "      <td>...</td>\n",
              "      <td>...</td>\n",
              "      <td>...</td>\n",
              "      <td>...</td>\n",
              "      <td>...</td>\n",
              "    </tr>\n",
              "    <tr>\n",
              "      <th>26465</th>\n",
              "      <td>368179250</td>\n",
              "      <td>2022-06-05 23:55:38</td>\n",
              "      <td>25.76767</td>\n",
              "      <td>-80.14428</td>\n",
              "      <td>7.8</td>\n",
              "      <td>117.1</td>\n",
              "      <td>125.0</td>\n",
              "      <td>20.0</td>\n",
              "      <td>A</td>\n",
              "      <td>1</td>\n",
              "    </tr>\n",
              "    <tr>\n",
              "      <th>26466</th>\n",
              "      <td>368179250</td>\n",
              "      <td>2022-06-05 23:56:41</td>\n",
              "      <td>25.76641</td>\n",
              "      <td>-80.14321</td>\n",
              "      <td>4.7</td>\n",
              "      <td>170.3</td>\n",
              "      <td>180.0</td>\n",
              "      <td>20.0</td>\n",
              "      <td>A</td>\n",
              "      <td>1</td>\n",
              "    </tr>\n",
              "    <tr>\n",
              "      <th>26467</th>\n",
              "      <td>368179250</td>\n",
              "      <td>2022-06-05 23:57:45</td>\n",
              "      <td>25.76536</td>\n",
              "      <td>-80.14329</td>\n",
              "      <td>3.2</td>\n",
              "      <td>199.5</td>\n",
              "      <td>224.0</td>\n",
              "      <td>20.0</td>\n",
              "      <td>A</td>\n",
              "      <td>1</td>\n",
              "    </tr>\n",
              "    <tr>\n",
              "      <th>26468</th>\n",
              "      <td>368179250</td>\n",
              "      <td>2022-06-05 23:58:48</td>\n",
              "      <td>25.76467</td>\n",
              "      <td>-80.14410</td>\n",
              "      <td>1.6</td>\n",
              "      <td>223.8</td>\n",
              "      <td>217.0</td>\n",
              "      <td>20.0</td>\n",
              "      <td>A</td>\n",
              "      <td>1</td>\n",
              "    </tr>\n",
              "    <tr>\n",
              "      <th>26469</th>\n",
              "      <td>368179250</td>\n",
              "      <td>2022-06-05 23:59:52</td>\n",
              "      <td>25.76436</td>\n",
              "      <td>-80.14432</td>\n",
              "      <td>1.1</td>\n",
              "      <td>203.4</td>\n",
              "      <td>188.0</td>\n",
              "      <td>20.0</td>\n",
              "      <td>A</td>\n",
              "      <td>1</td>\n",
              "    </tr>\n",
              "  </tbody>\n",
              "</table>\n",
              "<p>8561 rows × 10 columns</p>\n",
              "</div>\n",
              "      <button class=\"colab-df-convert\" onclick=\"convertToInteractive('df-42460f10-b901-4389-86a8-fb8b4b3cd296')\"\n",
              "              title=\"Convert this dataframe to an interactive table.\"\n",
              "              style=\"display:none;\">\n",
              "        \n",
              "  <svg xmlns=\"http://www.w3.org/2000/svg\" height=\"24px\"viewBox=\"0 0 24 24\"\n",
              "       width=\"24px\">\n",
              "    <path d=\"M0 0h24v24H0V0z\" fill=\"none\"/>\n",
              "    <path d=\"M18.56 5.44l.94 2.06.94-2.06 2.06-.94-2.06-.94-.94-2.06-.94 2.06-2.06.94zm-11 1L8.5 8.5l.94-2.06 2.06-.94-2.06-.94L8.5 2.5l-.94 2.06-2.06.94zm10 10l.94 2.06.94-2.06 2.06-.94-2.06-.94-.94-2.06-.94 2.06-2.06.94z\"/><path d=\"M17.41 7.96l-1.37-1.37c-.4-.4-.92-.59-1.43-.59-.52 0-1.04.2-1.43.59L10.3 9.45l-7.72 7.72c-.78.78-.78 2.05 0 2.83L4 21.41c.39.39.9.59 1.41.59.51 0 1.02-.2 1.41-.59l7.78-7.78 2.81-2.81c.8-.78.8-2.07 0-2.86zM5.41 20L4 18.59l7.72-7.72 1.47 1.35L5.41 20z\"/>\n",
              "  </svg>\n",
              "      </button>\n",
              "      \n",
              "  <style>\n",
              "    .colab-df-container {\n",
              "      display:flex;\n",
              "      flex-wrap:wrap;\n",
              "      gap: 12px;\n",
              "    }\n",
              "\n",
              "    .colab-df-convert {\n",
              "      background-color: #E8F0FE;\n",
              "      border: none;\n",
              "      border-radius: 50%;\n",
              "      cursor: pointer;\n",
              "      display: none;\n",
              "      fill: #1967D2;\n",
              "      height: 32px;\n",
              "      padding: 0 0 0 0;\n",
              "      width: 32px;\n",
              "    }\n",
              "\n",
              "    .colab-df-convert:hover {\n",
              "      background-color: #E2EBFA;\n",
              "      box-shadow: 0px 1px 2px rgba(60, 64, 67, 0.3), 0px 1px 3px 1px rgba(60, 64, 67, 0.15);\n",
              "      fill: #174EA6;\n",
              "    }\n",
              "\n",
              "    [theme=dark] .colab-df-convert {\n",
              "      background-color: #3B4455;\n",
              "      fill: #D2E3FC;\n",
              "    }\n",
              "\n",
              "    [theme=dark] .colab-df-convert:hover {\n",
              "      background-color: #434B5C;\n",
              "      box-shadow: 0px 1px 3px 1px rgba(0, 0, 0, 0.15);\n",
              "      filter: drop-shadow(0px 1px 2px rgba(0, 0, 0, 0.3));\n",
              "      fill: #FFFFFF;\n",
              "    }\n",
              "  </style>\n",
              "\n",
              "      <script>\n",
              "        const buttonEl =\n",
              "          document.querySelector('#df-42460f10-b901-4389-86a8-fb8b4b3cd296 button.colab-df-convert');\n",
              "        buttonEl.style.display =\n",
              "          google.colab.kernel.accessAllowed ? 'block' : 'none';\n",
              "\n",
              "        async function convertToInteractive(key) {\n",
              "          const element = document.querySelector('#df-42460f10-b901-4389-86a8-fb8b4b3cd296');\n",
              "          const dataTable =\n",
              "            await google.colab.kernel.invokeFunction('convertToInteractive',\n",
              "                                                     [key], {});\n",
              "          if (!dataTable) return;\n",
              "\n",
              "          const docLinkHtml = 'Like what you see? Visit the ' +\n",
              "            '<a target=\"_blank\" href=https://colab.research.google.com/notebooks/data_table.ipynb>data table notebook</a>'\n",
              "            + ' to learn more about interactive tables.';\n",
              "          element.innerHTML = '';\n",
              "          dataTable['output_type'] = 'display_data';\n",
              "          await google.colab.output.renderOutput(dataTable, element);\n",
              "          const docLink = document.createElement('div');\n",
              "          docLink.innerHTML = docLinkHtml;\n",
              "          element.appendChild(docLink);\n",
              "        }\n",
              "      </script>\n",
              "    </div>\n",
              "  </div>\n",
              "  "
            ]
          },
          "metadata": {},
          "execution_count": 18
        }
      ],
      "source": [
        "df"
      ]
    },
    {
      "cell_type": "code",
      "execution_count": 19,
      "id": "32a340cc",
      "metadata": {
        "id": "32a340cc"
      },
      "outputs": [],
      "source": [
        "df = df.set_index('BaseDateTime')"
      ]
    },
    {
      "cell_type": "code",
      "execution_count": 20,
      "id": "3d59d65a",
      "metadata": {
        "id": "3d59d65a"
      },
      "outputs": [],
      "source": [
        "df.to_csv('data_time_diff.csv', index = False)"
      ]
    },
    {
      "cell_type": "markdown",
      "id": "7e91e8f2",
      "metadata": {
        "id": "7e91e8f2"
      },
      "source": [
        "# Time Difference for 5 days dataset including 4 MMSIs\n",
        "From the graph below we can that the main density of time difference is 1 to 5 minutes or 10 minutes"
      ]
    },
    {
      "cell_type": "code",
      "execution_count": 21,
      "id": "09273d45",
      "metadata": {
        "colab": {
          "base_uri": "https://localhost:8080/",
          "height": 350
        },
        "id": "09273d45",
        "outputId": "e2101c7e-be1d-4916-9f22-f21489241f84"
      },
      "outputs": [
        {
          "output_type": "display_data",
          "data": {
            "text/plain": [
              "<Figure size 1080x360 with 1 Axes>"
            ],
            "image/png": "[encoded data removed]"
          },
          "metadata": {
            "needs_background": "light"
          }
        }
      ],
      "source": [
        "df.time_diff.plot(style = '.', figsize = (15,5), color = \"#F8776D\", title = 'time_difference');"
      ]
    },
    {
      "cell_type": "markdown",
      "id": "ee7adceb",
      "metadata": {
        "id": "ee7adceb"
      },
      "source": [
        "# Time Difference for individual MMSI for a given LAT and LON\n",
        "Among all the 4 MMSIs used in the pilot study, all the MMSIs showed a delay in time difference all the 5 days."
      ]
    },
    {
      "cell_type": "code",
      "execution_count": 22,
      "id": "c962c29d",
      "metadata": {
        "colab": {
          "base_uri": "https://localhost:8080/",
          "height": 350
        },
        "id": "c962c29d",
        "outputId": "5594cff4-437d-448f-92af-67df7c3decc8"
      },
      "outputs": [
        {
          "output_type": "display_data",
          "data": {
            "text/plain": [
              "<Figure size 1080x360 with 1 Axes>"
            ],
            "image/png": "[encoded data removed]"
          },
          "metadata": {
            "needs_background": "light"
          }
        }
      ],
      "source": [
        "fig, ax = plt.subplots(figsize = (15,5))\n",
        "sns.scatterplot(data= df, x= df.index, y='time_diff', hue = 'MMSI', palette = 'deep')\n",
        "ax.set_title('time difference from 1 to 5 june 2022')\n",
        "plt.show()"
      ]
    },
    {
      "cell_type": "code",
      "execution_count": 23,
      "id": "356e0a56",
      "metadata": {
        "id": "356e0a56"
      },
      "outputs": [],
      "source": [
        "#create new feature hour and day of the week at which the message was received\n",
        "def create_feature(df):\n",
        "    df = df.copy()\n",
        "    df['hour'] = df.index.hour\n",
        "    df['minute'] =df.index.minute\n",
        "    df['dayofweek'] = df.index.dayofweek\n",
        "    return df"
      ]
    },
    {
      "cell_type": "code",
      "execution_count": 24,
      "id": "259d3478",
      "metadata": {
        "colab": {
          "base_uri": "https://localhost:8080/",
          "height": 455
        },
        "id": "259d3478",
        "outputId": "04b3f789-3f48-41c4-ed18-f1886174a207"
      },
      "outputs": [
        {
          "output_type": "execute_result",
          "data": {
            "text/plain": [
              "                          MMSI       LAT       LON  SOG    COG  Heading  \\\n",
              "BaseDateTime                                                              \n",
              "2022-06-01 01:27:51  366999387  32.16739 -92.10974  0.1  219.4    511.0   \n",
              "2022-06-01 06:09:19  366999387  32.16729 -92.10976  0.1  273.6    511.0   \n",
              "2022-06-01 07:58:57  366999387  32.16736 -92.10975  0.1  244.6    511.0   \n",
              "2022-06-01 10:07:17  366999387  32.16735 -92.10977  0.1  231.3    511.0   \n",
              "2022-06-01 10:39:19  366999387  32.16736 -92.10979  0.1  226.3    511.0   \n",
              "...                        ...       ...       ...  ...    ...      ...   \n",
              "2022-06-05 23:55:38  368179250  25.76767 -80.14428  7.8  117.1    125.0   \n",
              "2022-06-05 23:56:41  368179250  25.76641 -80.14321  4.7  170.3    180.0   \n",
              "2022-06-05 23:57:45  368179250  25.76536 -80.14329  3.2  199.5    224.0   \n",
              "2022-06-05 23:58:48  368179250  25.76467 -80.14410  1.6  223.8    217.0   \n",
              "2022-06-05 23:59:52  368179250  25.76436 -80.14432  1.1  203.4    188.0   \n",
              "\n",
              "                     VesselType TransceiverClass  time_diff  hour  minute  \\\n",
              "BaseDateTime                                                                \n",
              "2022-06-01 01:27:51        90.0                A          0     1      27   \n",
              "2022-06-01 06:09:19        90.0                A        281     6       9   \n",
              "2022-06-01 07:58:57        90.0                A        109     7      58   \n",
              "2022-06-01 10:07:17        90.0                A        128    10       7   \n",
              "2022-06-01 10:39:19        90.0                A         32    10      39   \n",
              "...                         ...              ...        ...   ...     ...   \n",
              "2022-06-05 23:55:38        20.0                A          1    23      55   \n",
              "2022-06-05 23:56:41        20.0                A          1    23      56   \n",
              "2022-06-05 23:57:45        20.0                A          1    23      57   \n",
              "2022-06-05 23:58:48        20.0                A          1    23      58   \n",
              "2022-06-05 23:59:52        20.0                A          1    23      59   \n",
              "\n",
              "                     dayofweek  \n",
              "BaseDateTime                    \n",
              "2022-06-01 01:27:51          2  \n",
              "2022-06-01 06:09:19          2  \n",
              "2022-06-01 07:58:57          2  \n",
              "2022-06-01 10:07:17          2  \n",
              "2022-06-01 10:39:19          2  \n",
              "...                        ...  \n",
              "2022-06-05 23:55:38          6  \n",
              "2022-06-05 23:56:41          6  \n",
              "2022-06-05 23:57:45          6  \n",
              "2022-06-05 23:58:48          6  \n",
              "2022-06-05 23:59:52          6  \n",
              "\n",
              "[8561 rows x 12 columns]"
            ],
            "text/html": [
              "\n",
              "  <div id=\"df-5831e47a-ab83-44a7-b756-5adf16b82d66\">\n",
              "    <div class=\"colab-df-container\">\n",
              "      <div>\n",
              "<style scoped>\n",
              "    .dataframe tbody tr th:only-of-type {\n",
              "        vertical-align: middle;\n",
              "    }\n",
              "\n",
              "    .dataframe tbody tr th {\n",
              "        vertical-align: top;\n",
              "    }\n",
              "\n",
              "    .dataframe thead th {\n",
              "        text-align: right;\n",
              "    }\n",
              "</style>\n",
              "<table border=\"1\" class=\"dataframe\">\n",
              "  <thead>\n",
              "    <tr style=\"text-align: right;\">\n",
              "      <th></th>\n",
              "      <th>MMSI</th>\n",
              "      <th>LAT</th>\n",
              "      <th>LON</th>\n",
              "      <th>SOG</th>\n",
              "      <th>COG</th>\n",
              "      <th>Heading</th>\n",
              "      <th>VesselType</th>\n",
              "      <th>TransceiverClass</th>\n",
              "      <th>time_diff</th>\n",
              "      <th>hour</th>\n",
              "      <th>minute</th>\n",
              "      <th>dayofweek</th>\n",
              "    </tr>\n",
              "    <tr>\n",
              "      <th>BaseDateTime</th>\n",
              "      <th></th>\n",
              "      <th></th>\n",
              "      <th></th>\n",
              "      <th></th>\n",
              "      <th></th>\n",
              "      <th></th>\n",
              "      <th></th>\n",
              "      <th></th>\n",
              "      <th></th>\n",
              "      <th></th>\n",
              "      <th></th>\n",
              "      <th></th>\n",
              "    </tr>\n",
              "  </thead>\n",
              "  <tbody>\n",
              "    <tr>\n",
              "      <th>2022-06-01 01:27:51</th>\n",
              "      <td>366999387</td>\n",
              "      <td>32.16739</td>\n",
              "      <td>-92.10974</td>\n",
              "      <td>0.1</td>\n",
              "      <td>219.4</td>\n",
              "      <td>511.0</td>\n",
              "      <td>90.0</td>\n",
              "      <td>A</td>\n",
              "      <td>0</td>\n",
              "      <td>1</td>\n",
              "      <td>27</td>\n",
              "      <td>2</td>\n",
              "    </tr>\n",
              "    <tr>\n",
              "      <th>2022-06-01 06:09:19</th>\n",
              "      <td>366999387</td>\n",
              "      <td>32.16729</td>\n",
              "      <td>-92.10976</td>\n",
              "      <td>0.1</td>\n",
              "      <td>273.6</td>\n",
              "      <td>511.0</td>\n",
              "      <td>90.0</td>\n",
              "      <td>A</td>\n",
              "      <td>281</td>\n",
              "      <td>6</td>\n",
              "      <td>9</td>\n",
              "      <td>2</td>\n",
              "    </tr>\n",
              "    <tr>\n",
              "      <th>2022-06-01 07:58:57</th>\n",
              "      <td>366999387</td>\n",
              "      <td>32.16736</td>\n",
              "      <td>-92.10975</td>\n",
              "      <td>0.1</td>\n",
              "      <td>244.6</td>\n",
              "      <td>511.0</td>\n",
              "      <td>90.0</td>\n",
              "      <td>A</td>\n",
              "      <td>109</td>\n",
              "      <td>7</td>\n",
              "      <td>58</td>\n",
              "      <td>2</td>\n",
              "    </tr>\n",
              "    <tr>\n",
              "      <th>2022-06-01 10:07:17</th>\n",
              "      <td>366999387</td>\n",
              "      <td>32.16735</td>\n",
              "      <td>-92.10977</td>\n",
              "      <td>0.1</td>\n",
              "      <td>231.3</td>\n",
              "      <td>511.0</td>\n",
              "      <td>90.0</td>\n",
              "      <td>A</td>\n",
              "      <td>128</td>\n",
              "      <td>10</td>\n",
              "      <td>7</td>\n",
              "      <td>2</td>\n",
              "    </tr>\n",
              "    <tr>\n",
              "      <th>2022-06-01 10:39:19</th>\n",
              "      <td>366999387</td>\n",
              "      <td>32.16736</td>\n",
              "      <td>-92.10979</td>\n",
              "      <td>0.1</td>\n",
              "      <td>226.3</td>\n",
              "      <td>511.0</td>\n",
              "      <td>90.0</td>\n",
              "      <td>A</td>\n",
              "      <td>32</td>\n",
              "      <td>10</td>\n",
              "      <td>39</td>\n",
              "      <td>2</td>\n",
              "    </tr>\n",
              "    <tr>\n",
              "      <th>...</th>\n",
              "      <td>...</td>\n",
              "      <td>...</td>\n",
              "      <td>...</td>\n",
              "      <td>...</td>\n",
              "      <td>...</td>\n",
              "      <td>...</td>\n",
              "      <td>...</td>\n",
              "      <td>...</td>\n",
              "      <td>...</td>\n",
              "      <td>...</td>\n",
              "      <td>...</td>\n",
              "      <td>...</td>\n",
              "    </tr>\n",
              "    <tr>\n",
              "      <th>2022-06-05 23:55:38</th>\n",
              "      <td>368179250</td>\n",
              "      <td>25.76767</td>\n",
              "      <td>-80.14428</td>\n",
              "      <td>7.8</td>\n",
              "      <td>117.1</td>\n",
              "      <td>125.0</td>\n",
              "      <td>20.0</td>\n",
              "      <td>A</td>\n",
              "      <td>1</td>\n",
              "      <td>23</td>\n",
              "      <td>55</td>\n",
              "      <td>6</td>\n",
              "    </tr>\n",
              "    <tr>\n",
              "      <th>2022-06-05 23:56:41</th>\n",
              "      <td>368179250</td>\n",
              "      <td>25.76641</td>\n",
              "      <td>-80.14321</td>\n",
              "      <td>4.7</td>\n",
              "      <td>170.3</td>\n",
              "      <td>180.0</td>\n",
              "      <td>20.0</td>\n",
              "      <td>A</td>\n",
              "      <td>1</td>\n",
              "      <td>23</td>\n",
              "      <td>56</td>\n",
              "      <td>6</td>\n",
              "    </tr>\n",
              "    <tr>\n",
              "      <th>2022-06-05 23:57:45</th>\n",
              "      <td>368179250</td>\n",
              "      <td>25.76536</td>\n",
              "      <td>-80.14329</td>\n",
              "      <td>3.2</td>\n",
              "      <td>199.5</td>\n",
              "      <td>224.0</td>\n",
              "      <td>20.0</td>\n",
              "      <td>A</td>\n",
              "      <td>1</td>\n",
              "      <td>23</td>\n",
              "      <td>57</td>\n",
              "      <td>6</td>\n",
              "    </tr>\n",
              "    <tr>\n",
              "      <th>2022-06-05 23:58:48</th>\n",
              "      <td>368179250</td>\n",
              "      <td>25.76467</td>\n",
              "      <td>-80.14410</td>\n",
              "      <td>1.6</td>\n",
              "      <td>223.8</td>\n",
              "      <td>217.0</td>\n",
              "      <td>20.0</td>\n",
              "      <td>A</td>\n",
              "      <td>1</td>\n",
              "      <td>23</td>\n",
              "      <td>58</td>\n",
              "      <td>6</td>\n",
              "    </tr>\n",
              "    <tr>\n",
              "      <th>2022-06-05 23:59:52</th>\n",
              "      <td>368179250</td>\n",
              "      <td>25.76436</td>\n",
              "      <td>-80.14432</td>\n",
              "      <td>1.1</td>\n",
              "      <td>203.4</td>\n",
              "      <td>188.0</td>\n",
              "      <td>20.0</td>\n",
              "      <td>A</td>\n",
              "      <td>1</td>\n",
              "      <td>23</td>\n",
              "      <td>59</td>\n",
              "      <td>6</td>\n",
              "    </tr>\n",
              "  </tbody>\n",
              "</table>\n",
              "<p>8561 rows × 12 columns</p>\n",
              "</div>\n",
              "      <button class=\"colab-df-convert\" onclick=\"convertToInteractive('df-5831e47a-ab83-44a7-b756-5adf16b82d66')\"\n",
              "              title=\"Convert this dataframe to an interactive table.\"\n",
              "              style=\"display:none;\">\n",
              "        \n",
              "  <svg xmlns=\"http://www.w3.org/2000/svg\" height=\"24px\"viewBox=\"0 0 24 24\"\n",
              "       width=\"24px\">\n",
              "    <path d=\"M0 0h24v24H0V0z\" fill=\"none\"/>\n",
              "    <path d=\"M18.56 5.44l.94 2.06.94-2.06 2.06-.94-2.06-.94-.94-2.06-.94 2.06-2.06.94zm-11 1L8.5 8.5l.94-2.06 2.06-.94-2.06-.94L8.5 2.5l-.94 2.06-2.06.94zm10 10l.94 2.06.94-2.06 2.06-.94-2.06-.94-.94-2.06-.94 2.06-2.06.94z\"/><path d=\"M17.41 7.96l-1.37-1.37c-.4-.4-.92-.59-1.43-.59-.52 0-1.04.2-1.43.59L10.3 9.45l-7.72 7.72c-.78.78-.78 2.05 0 2.83L4 21.41c.39.39.9.59 1.41.59.51 0 1.02-.2 1.41-.59l7.78-7.78 2.81-2.81c.8-.78.8-2.07 0-2.86zM5.41 20L4 18.59l7.72-7.72 1.47 1.35L5.41 20z\"/>\n",
              "  </svg>\n",
              "      </button>\n",
              "      \n",
              "  <style>\n",
              "    .colab-df-container {\n",
              "      display:flex;\n",
              "      flex-wrap:wrap;\n",
              "      gap: 12px;\n",
              "    }\n",
              "\n",
              "    .colab-df-convert {\n",
              "      background-color: #E8F0FE;\n",
              "      border: none;\n",
              "      border-radius: 50%;\n",
              "      cursor: pointer;\n",
              "      display: none;\n",
              "      fill: #1967D2;\n",
              "      height: 32px;\n",
              "      padding: 0 0 0 0;\n",
              "      width: 32px;\n",
              "    }\n",
              "\n",
              "    .colab-df-convert:hover {\n",
              "      background-color: #E2EBFA;\n",
              "      box-shadow: 0px 1px 2px rgba(60, 64, 67, 0.3), 0px 1px 3px 1px rgba(60, 64, 67, 0.15);\n",
              "      fill: #174EA6;\n",
              "    }\n",
              "\n",
              "    [theme=dark] .colab-df-convert {\n",
              "      background-color: #3B4455;\n",
              "      fill: #D2E3FC;\n",
              "    }\n",
              "\n",
              "    [theme=dark] .colab-df-convert:hover {\n",
              "      background-color: #434B5C;\n",
              "      box-shadow: 0px 1px 3px 1px rgba(0, 0, 0, 0.15);\n",
              "      filter: drop-shadow(0px 1px 2px rgba(0, 0, 0, 0.3));\n",
              "      fill: #FFFFFF;\n",
              "    }\n",
              "  </style>\n",
              "\n",
              "      <script>\n",
              "        const buttonEl =\n",
              "          document.querySelector('#df-5831e47a-ab83-44a7-b756-5adf16b82d66 button.colab-df-convert');\n",
              "        buttonEl.style.display =\n",
              "          google.colab.kernel.accessAllowed ? 'block' : 'none';\n",
              "\n",
              "        async function convertToInteractive(key) {\n",
              "          const element = document.querySelector('#df-5831e47a-ab83-44a7-b756-5adf16b82d66');\n",
              "          const dataTable =\n",
              "            await google.colab.kernel.invokeFunction('convertToInteractive',\n",
              "                                                     [key], {});\n",
              "          if (!dataTable) return;\n",
              "\n",
              "          const docLinkHtml = 'Like what you see? Visit the ' +\n",
              "            '<a target=\"_blank\" href=https://colab.research.google.com/notebooks/data_table.ipynb>data table notebook</a>'\n",
              "            + ' to learn more about interactive tables.';\n",
              "          element.innerHTML = '';\n",
              "          dataTable['output_type'] = 'display_data';\n",
              "          await google.colab.output.renderOutput(dataTable, element);\n",
              "          const docLink = document.createElement('div');\n",
              "          docLink.innerHTML = docLinkHtml;\n",
              "          element.appendChild(docLink);\n",
              "        }\n",
              "      </script>\n",
              "    </div>\n",
              "  </div>\n",
              "  "
            ]
          },
          "metadata": {},
          "execution_count": 24
        }
      ],
      "source": [
        "create_feature(df)"
      ]
    },
    {
      "cell_type": "code",
      "execution_count": 25,
      "id": "a0053606",
      "metadata": {
        "colab": {
          "base_uri": "https://localhost:8080/"
        },
        "id": "a0053606",
        "outputId": "6d6f5bc4-2d2d-4d7f-b77b-2fd78bbd1149"
      },
      "outputs": [
        {
          "output_type": "execute_result",
          "data": {
            "text/plain": [
              "Index(['MMSI', 'LAT', 'LON', 'SOG', 'COG', 'Heading', 'VesselType',\n",
              "       'TransceiverClass', 'time_diff'],\n",
              "      dtype='object')"
            ]
          },
          "metadata": {},
          "execution_count": 25
        }
      ],
      "source": [
        "df.columns"
      ]
    },
    {
      "cell_type": "markdown",
      "id": "000c3386",
      "metadata": {
        "id": "000c3386"
      },
      "source": [
        "# Time difference for 1 June 2022\n",
        "From the graph below, we can observe that the AIS messages were recieved with a lot of difference in the time stamp. "
      ]
    },
    {
      "cell_type": "code",
      "execution_count": 26,
      "id": "b0276a06",
      "metadata": {
        "id": "b0276a06"
      },
      "outputs": [],
      "source": [
        "df_1june = df[df.index <= '2022-06-02 00:00:00'].head(20)"
      ]
    },
    {
      "cell_type": "code",
      "execution_count": 27,
      "id": "591c00ae",
      "metadata": {
        "colab": {
          "base_uri": "https://localhost:8080/",
          "height": 350
        },
        "id": "591c00ae",
        "outputId": "428d6afd-c52e-4324-bf8e-d60508f23a6c"
      },
      "outputs": [
        {
          "output_type": "display_data",
          "data": {
            "text/plain": [
              "<Figure size 1080x360 with 1 Axes>"
            ],
            "image/png": "[encoded data removed]"
          },
          "metadata": {
            "needs_background": "light"
          }
        }
      ],
      "source": [
        "fig, ax = plt.subplots(figsize = (15,5))\n",
        "sns.scatterplot(data= df_1june, x= df_1june.index, y='time_diff', hue = 'MMSI', palette ='deep')\n",
        "ax.set_title('time difference for  1 june 2022')\n",
        "plt.show()"
      ]
    },
    {
      "cell_type": "code",
      "execution_count": 28,
      "id": "8fcce481",
      "metadata": {
        "id": "8fcce481"
      },
      "outputs": [],
      "source": [
        "le = LabelEncoder()\n",
        "df['TransceiverClass'] = le.fit_transform(df['TransceiverClass'])"
      ]
    },
    {
      "cell_type": "markdown",
      "id": "5b9c36f5",
      "metadata": {
        "id": "5b9c36f5"
      },
      "source": [
        "# Train/Test Split\n",
        "In this study, we have split the data into train from 1 to 3 June 2022 and 4 to 5 June 2022 as test data. "
      ]
    },
    {
      "cell_type": "code",
      "execution_count": 29,
      "id": "a069cf47",
      "metadata": {
        "id": "a069cf47"
      },
      "outputs": [],
      "source": [
        "train = df.loc[df.index < '2022-06-04 00:00:00']\n",
        "test = df.loc[df.index >= '2022-06-04 00:00:00']"
      ]
    },
    {
      "cell_type": "code",
      "execution_count": 30,
      "id": "90aa948c",
      "metadata": {
        "colab": {
          "base_uri": "https://localhost:8080/",
          "height": 350
        },
        "id": "90aa948c",
        "outputId": "c3dc061b-2301-44d1-921f-5afcf4930da2"
      },
      "outputs": [
        {
          "output_type": "display_data",
          "data": {
            "text/plain": [
              "<Figure size 1080x360 with 1 Axes>"
            ],
            "image/png": "[encoded data removed]"
          },
          "metadata": {
            "needs_background": "light"
          }
        }
      ],
      "source": [
        "fig, ax = plt.subplots(figsize=(15,5))\n",
        "train['time_diff'].plot(ax=ax, label = 'Training Set', title = 'Data Train/Test Split', style = '.')\n",
        "test['time_diff'].plot(ax=ax, label = 'Test Set', style ='.')\n",
        "ax.axvline('2022-06-04 00:00:00', color ='black', ls ='--')\n",
        "ax.legend(['Training Set', 'Test Set'])\n",
        "plt.show()"
      ]
    },
    {
      "cell_type": "markdown",
      "id": "1d81944c",
      "metadata": {
        "id": "1d81944c"
      },
      "source": [
        "create new features from our data"
      ]
    },
    {
      "cell_type": "code",
      "execution_count": 31,
      "id": "ff72fe3f",
      "metadata": {
        "id": "ff72fe3f"
      },
      "outputs": [],
      "source": [
        "train = create_feature(train)\n",
        "test = create_feature(test)"
      ]
    },
    {
      "cell_type": "markdown",
      "id": "f534d908",
      "metadata": {
        "id": "f534d908"
      },
      "source": [
        "Predictor features and target features are defined "
      ]
    },
    {
      "cell_type": "code",
      "execution_count": 32,
      "id": "1f356650",
      "metadata": {
        "id": "1f356650"
      },
      "outputs": [],
      "source": [
        "FEATURES = ['LAT', 'LON', 'SOG', 'COG', 'TransceiverClass', 'hour','minute', 'dayofweek']\n",
        "TARGET = 'time_diff'\n",
        "\n",
        "X_train = train[FEATURES]\n",
        "y_train = train[TARGET]\n",
        "\n",
        "X_test = test[FEATURES]\n",
        "y_test = test[TARGET]"
      ]
    },
    {
      "cell_type": "markdown",
      "id": "def46a93",
      "metadata": {
        "id": "def46a93"
      },
      "source": [
        "# Model Fitting"
      ]
    },
    {
      "cell_type": "markdown",
      "id": "387b0bbd",
      "metadata": {
        "id": "387b0bbd"
      },
      "source": [
        "# XGBoost Regressor Algorithm\n",
        "\n",
        "XGBoost or extreme gradient boosting is a well known ensemble learning algorithm having enhanced performance and speed in tree-based machine learning algorithms. Ensemble learning consists of a collection of predictors which are multiple models to provide better prediction accuracy. In the boosting algorithms, the errors made by previous models are corrected by the succeeding models by adding some weights to the models.\n",
        "## Features of XGBoost\n",
        "1. Can be executed on both single and distributed systems.\n",
        "2. Supports parallel processing\n",
        "3. Cache optimization\n",
        "4. Efficient memory management for large datasets exceeding RAM.\n",
        "5. Consists of a variety of regularization techniques to reduce model overfitting.\n",
        "6. Can handle missing values.\n",
        "7. Consists of built-in cross validation.\n",
        "10. Handles outliers.\n",
        "\n",
        "## Using XGBoost Regressor for time series analysis\n",
        "When we discuss about time series analysis and forecasting, we generally use traditional models such as ARIMA (Autoregressive integrated moving average) models where the model focuses on regression analysis and if we can perform this regression with this technique we can acheive a state of the art performance in the time series modeling. Similarly, ensemble of weak machine learning models can also help us to perform time series modeling.\n"
      ]
    },
    {
      "cell_type": "markdown",
      "id": "e8a637cc",
      "metadata": {
        "id": "e8a637cc"
      },
      "source": [
        "# Instantiating the model"
      ]
    },
    {
      "cell_type": "code",
      "execution_count": 33,
      "id": "01c5e4ab",
      "metadata": {
        "id": "01c5e4ab"
      },
      "outputs": [],
      "source": [
        "reg = xgb.XGBRegressor(base_score=0.5, booster='gbtree',    \n",
        "                       n_estimators=1000,\n",
        "                       early_stopping_rounds=50,\n",
        "                       objective='reg:linear',\n",
        "                       max_depth=3,\n",
        "                       learning_rate=0.01)\n"
      ]
    },
    {
      "cell_type": "markdown",
      "id": "62bf9a90",
      "metadata": {
        "id": "62bf9a90"
      },
      "source": [
        "# Fitting the data into the model"
      ]
    },
    {
      "cell_type": "code",
      "execution_count": 34,
      "id": "b1751d3f",
      "metadata": {
        "colab": {
          "base_uri": "https://localhost:8080/"
        },
        "id": "b1751d3f",
        "outputId": "c6d42672-8db4-4271-cd00-a7f020b4cadb"
      },
      "outputs": [
        {
          "output_type": "stream",
          "name": "stdout",
          "text": [
            "[13:31:39] WARNING: /workspace/src/objective/regression_obj.cu:152: reg:linear is now deprecated in favor of reg:squarederror.\n",
            "[0]\tvalidation_0-rmse:12.6954\tvalidation_1-rmse:22.1179\n",
            "[100]\tvalidation_0-rmse:8.58529\tvalidation_1-rmse:18.5762\n",
            "[200]\tvalidation_0-rmse:7.11851\tvalidation_1-rmse:17.9883\n",
            "[300]\tvalidation_0-rmse:6.7969\tvalidation_1-rmse:17.9495\n",
            "[400]\tvalidation_0-rmse:6.79616\tvalidation_1-rmse:17.9463\n",
            "[500]\tvalidation_0-rmse:6.79606\tvalidation_1-rmse:17.9451\n",
            "[600]\tvalidation_0-rmse:6.79605\tvalidation_1-rmse:17.9447\n",
            "[700]\tvalidation_0-rmse:6.79605\tvalidation_1-rmse:17.9446\n",
            "[800]\tvalidation_0-rmse:6.79605\tvalidation_1-rmse:17.9445\n",
            "[900]\tvalidation_0-rmse:6.79605\tvalidation_1-rmse:17.9445\n",
            "[999]\tvalidation_0-rmse:6.79606\tvalidation_1-rmse:17.9445\n"
          ]
        },
        {
          "output_type": "execute_result",
          "data": {
            "text/plain": [
              "XGBRegressor(early_stopping_rounds=50, learning_rate=0.01, n_estimators=1000)"
            ]
          },
          "metadata": {},
          "execution_count": 34
        }
      ],
      "source": [
        "reg.fit(X_train, y_train,\n",
        "       eval_set = [(X_train, y_train), (X_test, y_test)],\n",
        "       verbose =100)"
      ]
    },
    {
      "cell_type": "markdown",
      "id": "934ac200",
      "metadata": {
        "id": "934ac200"
      },
      "source": [
        "Before making predictions on the test data we can also follow the process of feature selection. In this process, we can use the feature importance technique. This process "
      ]
    },
    {
      "cell_type": "code",
      "execution_count": 35,
      "id": "f7f21387",
      "metadata": {
        "id": "f7f21387"
      },
      "outputs": [],
      "source": [
        "#feature_importance = pd.DataFrame(data = reg.feature_importances_, index=reg.feature_names_in_, columns=['importance'])\n",
        "#feature_importance.sort_values('importance').plot(kind = 'barh', title = 'Feature Importance')\n",
        "#plt.show()"
      ]
    },
    {
      "cell_type": "code",
      "execution_count": 36,
      "id": "4343eb2b",
      "metadata": {
        "id": "4343eb2b"
      },
      "outputs": [],
      "source": [
        "test['prediction'] = reg.predict(X_test)"
      ]
    },
    {
      "cell_type": "code",
      "execution_count": 37,
      "id": "391ec1e6",
      "metadata": {
        "id": "391ec1e6"
      },
      "outputs": [],
      "source": [
        "df = df.merge(test[['prediction']], how='left', left_index=True, right_index=True)"
      ]
    },
    {
      "cell_type": "code",
      "execution_count": 38,
      "id": "084e89ac",
      "metadata": {
        "colab": {
          "base_uri": "https://localhost:8080/",
          "height": 455
        },
        "id": "084e89ac",
        "outputId": "ab1b283a-ee9c-408f-dd3f-4fb8bae8a79d"
      },
      "outputs": [
        {
          "output_type": "execute_result",
          "data": {
            "text/plain": [
              "                          MMSI       LAT       LON  SOG    COG  Heading  \\\n",
              "BaseDateTime                                                              \n",
              "2022-06-01 00:00:01  367314530  37.60087 -76.37251  7.0  116.9    511.0   \n",
              "2022-06-01 00:00:01  368179250  25.76419 -80.14437  0.9  177.8    178.0   \n",
              "2022-06-01 00:01:06  367458840  25.77179 -80.15139  0.7  252.3    291.0   \n",
              "2022-06-01 00:02:07  367458840  25.77149 -80.15241  5.7  189.7    152.0   \n",
              "2022-06-01 00:03:09  367458840  25.77033 -80.15043  9.0  111.3    297.0   \n",
              "...                        ...       ...       ...  ...    ...      ...   \n",
              "2022-06-05 23:56:41  368179250  25.76641 -80.14321  4.7  170.3    180.0   \n",
              "2022-06-05 23:57:45  368179250  25.76536 -80.14329  3.2  199.5    224.0   \n",
              "2022-06-05 23:58:44  367458840  25.77179 -80.15138  0.1  360.0    295.0   \n",
              "2022-06-05 23:58:48  368179250  25.76467 -80.14410  1.6  223.8    217.0   \n",
              "2022-06-05 23:59:52  368179250  25.76436 -80.14432  1.1  203.4    188.0   \n",
              "\n",
              "                     VesselType  TransceiverClass  time_diff  prediction  \n",
              "BaseDateTime                                                              \n",
              "2022-06-01 00:00:01        31.0                 0          0         NaN  \n",
              "2022-06-01 00:00:01        20.0                 0          0         NaN  \n",
              "2022-06-01 00:01:06        60.0                 0          0         NaN  \n",
              "2022-06-01 00:02:07        60.0                 0          1         NaN  \n",
              "2022-06-01 00:03:09        60.0                 0          1         NaN  \n",
              "...                         ...               ...        ...         ...  \n",
              "2022-06-05 23:56:41        20.0                 0          1    1.628316  \n",
              "2022-06-05 23:57:45        20.0                 0          1    1.752545  \n",
              "2022-06-05 23:58:44        60.0                 0          5    6.268676  \n",
              "2022-06-05 23:58:48        20.0                 0          1    1.766180  \n",
              "2022-06-05 23:59:52        20.0                 0          1    1.752545  \n",
              "\n",
              "[8573 rows x 10 columns]"
            ],
            "text/html": [
              "\n",
              "  <div id=\"df-2894b66f-d1cc-4ae3-81de-ae1a7f872047\">\n",
              "    <div class=\"colab-df-container\">\n",
              "      <div>\n",
              "<style scoped>\n",
              "    .dataframe tbody tr th:only-of-type {\n",
              "        vertical-align: middle;\n",
              "    }\n",
              "\n",
              "    .dataframe tbody tr th {\n",
              "        vertical-align: top;\n",
              "    }\n",
              "\n",
              "    .dataframe thead th {\n",
              "        text-align: right;\n",
              "    }\n",
              "</style>\n",
              "<table border=\"1\" class=\"dataframe\">\n",
              "  <thead>\n",
              "    <tr style=\"text-align: right;\">\n",
              "      <th></th>\n",
              "      <th>MMSI</th>\n",
              "      <th>LAT</th>\n",
              "      <th>LON</th>\n",
              "      <th>SOG</th>\n",
              "      <th>COG</th>\n",
              "      <th>Heading</th>\n",
              "      <th>VesselType</th>\n",
              "      <th>TransceiverClass</th>\n",
              "      <th>time_diff</th>\n",
              "      <th>prediction</th>\n",
              "    </tr>\n",
              "    <tr>\n",
              "      <th>BaseDateTime</th>\n",
              "      <th></th>\n",
              "      <th></th>\n",
              "      <th></th>\n",
              "      <th></th>\n",
              "      <th></th>\n",
              "      <th></th>\n",
              "      <th></th>\n",
              "      <th></th>\n",
              "      <th></th>\n",
              "      <th></th>\n",
              "    </tr>\n",
              "  </thead>\n",
              "  <tbody>\n",
              "    <tr>\n",
              "      <th>2022-06-01 00:00:01</th>\n",
              "      <td>367314530</td>\n",
              "      <td>37.60087</td>\n",
              "      <td>-76.37251</td>\n",
              "      <td>7.0</td>\n",
              "      <td>116.9</td>\n",
              "      <td>511.0</td>\n",
              "      <td>31.0</td>\n",
              "      <td>0</td>\n",
              "      <td>0</td>\n",
              "      <td>NaN</td>\n",
              "    </tr>\n",
              "    <tr>\n",
              "      <th>2022-06-01 00:00:01</th>\n",
              "      <td>368179250</td>\n",
              "      <td>25.76419</td>\n",
              "      <td>-80.14437</td>\n",
              "      <td>0.9</td>\n",
              "      <td>177.8</td>\n",
              "      <td>178.0</td>\n",
              "      <td>20.0</td>\n",
              "      <td>0</td>\n",
              "      <td>0</td>\n",
              "      <td>NaN</td>\n",
              "    </tr>\n",
              "    <tr>\n",
              "      <th>2022-06-01 00:01:06</th>\n",
              "      <td>367458840</td>\n",
              "      <td>25.77179</td>\n",
              "      <td>-80.15139</td>\n",
              "      <td>0.7</td>\n",
              "      <td>252.3</td>\n",
              "      <td>291.0</td>\n",
              "      <td>60.0</td>\n",
              "      <td>0</td>\n",
              "      <td>0</td>\n",
              "      <td>NaN</td>\n",
              "    </tr>\n",
              "    <tr>\n",
              "      <th>2022-06-01 00:02:07</th>\n",
              "      <td>367458840</td>\n",
              "      <td>25.77149</td>\n",
              "      <td>-80.15241</td>\n",
              "      <td>5.7</td>\n",
              "      <td>189.7</td>\n",
              "      <td>152.0</td>\n",
              "      <td>60.0</td>\n",
              "      <td>0</td>\n",
              "      <td>1</td>\n",
              "      <td>NaN</td>\n",
              "    </tr>\n",
              "    <tr>\n",
              "      <th>2022-06-01 00:03:09</th>\n",
              "      <td>367458840</td>\n",
              "      <td>25.77033</td>\n",
              "      <td>-80.15043</td>\n",
              "      <td>9.0</td>\n",
              "      <td>111.3</td>\n",
              "      <td>297.0</td>\n",
              "      <td>60.0</td>\n",
              "      <td>0</td>\n",
              "      <td>1</td>\n",
              "      <td>NaN</td>\n",
              "    </tr>\n",
              "    <tr>\n",
              "      <th>...</th>\n",
              "      <td>...</td>\n",
              "      <td>...</td>\n",
              "      <td>...</td>\n",
              "      <td>...</td>\n",
              "      <td>...</td>\n",
              "      <td>...</td>\n",
              "      <td>...</td>\n",
              "      <td>...</td>\n",
              "      <td>...</td>\n",
              "      <td>...</td>\n",
              "    </tr>\n",
              "    <tr>\n",
              "      <th>2022-06-05 23:56:41</th>\n",
              "      <td>368179250</td>\n",
              "      <td>25.76641</td>\n",
              "      <td>-80.14321</td>\n",
              "      <td>4.7</td>\n",
              "      <td>170.3</td>\n",
              "      <td>180.0</td>\n",
              "      <td>20.0</td>\n",
              "      <td>0</td>\n",
              "      <td>1</td>\n",
              "      <td>1.628316</td>\n",
              "    </tr>\n",
              "    <tr>\n",
              "      <th>2022-06-05 23:57:45</th>\n",
              "      <td>368179250</td>\n",
              "      <td>25.76536</td>\n",
              "      <td>-80.14329</td>\n",
              "      <td>3.2</td>\n",
              "      <td>199.5</td>\n",
              "      <td>224.0</td>\n",
              "      <td>20.0</td>\n",
              "      <td>0</td>\n",
              "      <td>1</td>\n",
              "      <td>1.752545</td>\n",
              "    </tr>\n",
              "    <tr>\n",
              "      <th>2022-06-05 23:58:44</th>\n",
              "      <td>367458840</td>\n",
              "      <td>25.77179</td>\n",
              "      <td>-80.15138</td>\n",
              "      <td>0.1</td>\n",
              "      <td>360.0</td>\n",
              "      <td>295.0</td>\n",
              "      <td>60.0</td>\n",
              "      <td>0</td>\n",
              "      <td>5</td>\n",
              "      <td>6.268676</td>\n",
              "    </tr>\n",
              "    <tr>\n",
              "      <th>2022-06-05 23:58:48</th>\n",
              "      <td>368179250</td>\n",
              "      <td>25.76467</td>\n",
              "      <td>-80.14410</td>\n",
              "      <td>1.6</td>\n",
              "      <td>223.8</td>\n",
              "      <td>217.0</td>\n",
              "      <td>20.0</td>\n",
              "      <td>0</td>\n",
              "      <td>1</td>\n",
              "      <td>1.766180</td>\n",
              "    </tr>\n",
              "    <tr>\n",
              "      <th>2022-06-05 23:59:52</th>\n",
              "      <td>368179250</td>\n",
              "      <td>25.76436</td>\n",
              "      <td>-80.14432</td>\n",
              "      <td>1.1</td>\n",
              "      <td>203.4</td>\n",
              "      <td>188.0</td>\n",
              "      <td>20.0</td>\n",
              "      <td>0</td>\n",
              "      <td>1</td>\n",
              "      <td>1.752545</td>\n",
              "    </tr>\n",
              "  </tbody>\n",
              "</table>\n",
              "<p>8573 rows × 10 columns</p>\n",
              "</div>\n",
              "      <button class=\"colab-df-convert\" onclick=\"convertToInteractive('df-2894b66f-d1cc-4ae3-81de-ae1a7f872047')\"\n",
              "              title=\"Convert this dataframe to an interactive table.\"\n",
              "              style=\"display:none;\">\n",
              "        \n",
              "  <svg xmlns=\"http://www.w3.org/2000/svg\" height=\"24px\"viewBox=\"0 0 24 24\"\n",
              "       width=\"24px\">\n",
              "    <path d=\"M0 0h24v24H0V0z\" fill=\"none\"/>\n",
              "    <path d=\"M18.56 5.44l.94 2.06.94-2.06 2.06-.94-2.06-.94-.94-2.06-.94 2.06-2.06.94zm-11 1L8.5 8.5l.94-2.06 2.06-.94-2.06-.94L8.5 2.5l-.94 2.06-2.06.94zm10 10l.94 2.06.94-2.06 2.06-.94-2.06-.94-.94-2.06-.94 2.06-2.06.94z\"/><path d=\"M17.41 7.96l-1.37-1.37c-.4-.4-.92-.59-1.43-.59-.52 0-1.04.2-1.43.59L10.3 9.45l-7.72 7.72c-.78.78-.78 2.05 0 2.83L4 21.41c.39.39.9.59 1.41.59.51 0 1.02-.2 1.41-.59l7.78-7.78 2.81-2.81c.8-.78.8-2.07 0-2.86zM5.41 20L4 18.59l7.72-7.72 1.47 1.35L5.41 20z\"/>\n",
              "  </svg>\n",
              "      </button>\n",
              "      \n",
              "  <style>\n",
              "    .colab-df-container {\n",
              "      display:flex;\n",
              "      flex-wrap:wrap;\n",
              "      gap: 12px;\n",
              "    }\n",
              "\n",
              "    .colab-df-convert {\n",
              "      background-color: #E8F0FE;\n",
              "      border: none;\n",
              "      border-radius: 50%;\n",
              "      cursor: pointer;\n",
              "      display: none;\n",
              "      fill: #1967D2;\n",
              "      height: 32px;\n",
              "      padding: 0 0 0 0;\n",
              "      width: 32px;\n",
              "    }\n",
              "\n",
              "    .colab-df-convert:hover {\n",
              "      background-color: #E2EBFA;\n",
              "      box-shadow: 0px 1px 2px rgba(60, 64, 67, 0.3), 0px 1px 3px 1px rgba(60, 64, 67, 0.15);\n",
              "      fill: #174EA6;\n",
              "    }\n",
              "\n",
              "    [theme=dark] .colab-df-convert {\n",
              "      background-color: #3B4455;\n",
              "      fill: #D2E3FC;\n",
              "    }\n",
              "\n",
              "    [theme=dark] .colab-df-convert:hover {\n",
              "      background-color: #434B5C;\n",
              "      box-shadow: 0px 1px 3px 1px rgba(0, 0, 0, 0.15);\n",
              "      filter: drop-shadow(0px 1px 2px rgba(0, 0, 0, 0.3));\n",
              "      fill: #FFFFFF;\n",
              "    }\n",
              "  </style>\n",
              "\n",
              "      <script>\n",
              "        const buttonEl =\n",
              "          document.querySelector('#df-2894b66f-d1cc-4ae3-81de-ae1a7f872047 button.colab-df-convert');\n",
              "        buttonEl.style.display =\n",
              "          google.colab.kernel.accessAllowed ? 'block' : 'none';\n",
              "\n",
              "        async function convertToInteractive(key) {\n",
              "          const element = document.querySelector('#df-2894b66f-d1cc-4ae3-81de-ae1a7f872047');\n",
              "          const dataTable =\n",
              "            await google.colab.kernel.invokeFunction('convertToInteractive',\n",
              "                                                     [key], {});\n",
              "          if (!dataTable) return;\n",
              "\n",
              "          const docLinkHtml = 'Like what you see? Visit the ' +\n",
              "            '<a target=\"_blank\" href=https://colab.research.google.com/notebooks/data_table.ipynb>data table notebook</a>'\n",
              "            + ' to learn more about interactive tables.';\n",
              "          element.innerHTML = '';\n",
              "          dataTable['output_type'] = 'display_data';\n",
              "          await google.colab.output.renderOutput(dataTable, element);\n",
              "          const docLink = document.createElement('div');\n",
              "          docLink.innerHTML = docLinkHtml;\n",
              "          element.appendChild(docLink);\n",
              "        }\n",
              "      </script>\n",
              "    </div>\n",
              "  </div>\n",
              "  "
            ]
          },
          "metadata": {},
          "execution_count": 38
        }
      ],
      "source": [
        "df"
      ]
    },
    {
      "cell_type": "code",
      "execution_count": 39,
      "id": "4318582e",
      "metadata": {
        "colab": {
          "base_uri": "https://localhost:8080/",
          "height": 350
        },
        "id": "4318582e",
        "outputId": "18b766aa-c8a4-4ddf-8441-2a954feb56cc"
      },
      "outputs": [
        {
          "output_type": "display_data",
          "data": {
            "text/plain": [
              "<Figure size 1080x360 with 1 Axes>"
            ],
            "image/png": "[encoded data removed]"
          },
          "metadata": {
            "needs_background": "light"
          }
        }
      ],
      "source": [
        "ax = df[['time_diff']].plot(figsize = (15,5), style = '.')\n",
        "df['prediction'].plot(ax=ax, style = '.')\n",
        "plt.legend(['Actual Data', 'Predictions'])\n",
        "ax.set_title('Raw Data and Prediction')\n",
        "plt.show()"
      ]
    },
    {
      "cell_type": "code",
      "execution_count": 40,
      "id": "8555fde0",
      "metadata": {
        "colab": {
          "base_uri": "https://localhost:8080/"
        },
        "id": "8555fde0",
        "outputId": "ada61077-2174-49da-8d89-b29db5989a5c"
      },
      "outputs": [
        {
          "output_type": "stream",
          "name": "stdout",
          "text": [
            "RMSE Score on test set :17.94\n"
          ]
        }
      ],
      "source": [
        "import numpy as np\n",
        "score = np.sqrt(mean_squared_error(test['time_diff'], test['prediction']))\n",
        "print(f'RMSE Score on test set :{score:0.2f}')"
      ]
    },
    {
      "cell_type": "code",
      "execution_count": 41,
      "id": "8b612318",
      "metadata": {
        "colab": {
          "base_uri": "https://localhost:8080/"
        },
        "id": "8b612318",
        "outputId": "3d602894-9cc0-42f8-f37f-884abe0661bb"
      },
      "outputs": [
        {
          "output_type": "execute_result",
          "data": {
            "text/plain": [
              "date\n",
              "2022-06-05    4.371903\n",
              "2022-06-04    2.654738\n",
              "Name: error, dtype: float64"
            ]
          },
          "metadata": {},
          "execution_count": 41
        }
      ],
      "source": [
        "test['error'] =np.abs(test[TARGET] - test['prediction'])\n",
        "test['date'] = test.index.date\n",
        "test.groupby(['date'])['error'].mean().sort_values(ascending = False).head()"
      ]
    },
    {
      "cell_type": "code",
      "execution_count": 42,
      "id": "d0af52dd",
      "metadata": {
        "id": "d0af52dd"
      },
      "outputs": [],
      "source": [
        "from sklearn.model_selection import cross_val_score, KFold\n",
        "from sklearn.metrics import mean_squared_error"
      ]
    },
    {
      "cell_type": "code",
      "execution_count": 43,
      "id": "96bb0007",
      "metadata": {
        "colab": {
          "base_uri": "https://localhost:8080/"
        },
        "id": "96bb0007",
        "outputId": "3161a6ff-ab72-4768-a209-4c059e1042ec"
      },
      "outputs": [
        {
          "output_type": "stream",
          "name": "stdout",
          "text": [
            "Training score:  0.710007991766574\n"
          ]
        }
      ],
      "source": [
        "score = reg.score(X_train, y_train)  \n",
        "print(\"Training score: \", score)"
      ]
    },
    {
      "cell_type": "code",
      "execution_count": 44,
      "id": "1fbfa035",
      "metadata": {
        "colab": {
          "base_uri": "https://localhost:8080/"
        },
        "id": "1fbfa035",
        "outputId": "2f5a5cc4-1c93-4add-d351-7f349cc98757"
      },
      "outputs": [
        {
          "output_type": "stream",
          "name": "stdout",
          "text": [
            "MSE: 322.01\n"
          ]
        }
      ],
      "source": [
        "ypred = reg.predict(X_test)\n",
        "mse = mean_squared_error(y_test, ypred)\n",
        "print(\"MSE: %.2f\" % mse)"
      ]
    },
    {
      "cell_type": "code",
      "execution_count": 45,
      "id": "e267feea",
      "metadata": {
        "id": "e267feea"
      },
      "outputs": [],
      "source": [
        "lin_reg = LinearRegression()"
      ]
    },
    {
      "cell_type": "code",
      "execution_count": 46,
      "id": "83996c7d",
      "metadata": {
        "colab": {
          "base_uri": "https://localhost:8080/"
        },
        "id": "83996c7d",
        "outputId": "2c3ed720-47aa-4150-d89f-e62c824c7db6"
      },
      "outputs": [
        {
          "output_type": "execute_result",
          "data": {
            "text/plain": [
              "LinearRegression()"
            ]
          },
          "metadata": {},
          "execution_count": 46
        }
      ],
      "source": [
        "lin_reg.fit(X_train, y_train)"
      ]
    },
    {
      "cell_type": "code",
      "execution_count": 47,
      "id": "79494cd5",
      "metadata": {
        "id": "79494cd5"
      },
      "outputs": [],
      "source": [
        "test['prediction_linear_regression'] = lin_reg.predict(X_test)"
      ]
    },
    {
      "cell_type": "code",
      "execution_count": 48,
      "id": "a06c2ad0",
      "metadata": {
        "id": "a06c2ad0"
      },
      "outputs": [],
      "source": [
        "df = df.merge(test[['prediction_linear_regression']], how='left', left_index=True, right_index=True)"
      ]
    },
    {
      "cell_type": "code",
      "execution_count": 49,
      "id": "cbff36f6",
      "metadata": {
        "colab": {
          "base_uri": "https://localhost:8080/",
          "height": 455
        },
        "id": "cbff36f6",
        "outputId": "bc024b3c-a2ca-4a3c-cb74-cee59a3b4093"
      },
      "outputs": [
        {
          "output_type": "execute_result",
          "data": {
            "text/plain": [
              "                          MMSI       LAT       LON  SOG    COG  Heading  \\\n",
              "BaseDateTime                                                              \n",
              "2022-06-01 00:00:01  367314530  37.60087 -76.37251  7.0  116.9    511.0   \n",
              "2022-06-01 00:00:01  368179250  25.76419 -80.14437  0.9  177.8    178.0   \n",
              "2022-06-01 00:01:06  367458840  25.77179 -80.15139  0.7  252.3    291.0   \n",
              "2022-06-01 00:02:07  367458840  25.77149 -80.15241  5.7  189.7    152.0   \n",
              "2022-06-01 00:03:09  367458840  25.77033 -80.15043  9.0  111.3    297.0   \n",
              "...                        ...       ...       ...  ...    ...      ...   \n",
              "2022-06-05 23:56:41  368179250  25.76641 -80.14321  4.7  170.3    180.0   \n",
              "2022-06-05 23:57:45  368179250  25.76536 -80.14329  3.2  199.5    224.0   \n",
              "2022-06-05 23:58:44  367458840  25.77179 -80.15138  0.1  360.0    295.0   \n",
              "2022-06-05 23:58:48  368179250  25.76467 -80.14410  1.6  223.8    217.0   \n",
              "2022-06-05 23:59:52  368179250  25.76436 -80.14432  1.1  203.4    188.0   \n",
              "\n",
              "                     VesselType  TransceiverClass  time_diff  prediction  \\\n",
              "BaseDateTime                                                               \n",
              "2022-06-01 00:00:01        31.0                 0          0         NaN   \n",
              "2022-06-01 00:00:01        20.0                 0          0         NaN   \n",
              "2022-06-01 00:01:06        60.0                 0          0         NaN   \n",
              "2022-06-01 00:02:07        60.0                 0          1         NaN   \n",
              "2022-06-01 00:03:09        60.0                 0          1         NaN   \n",
              "...                         ...               ...        ...         ...   \n",
              "2022-06-05 23:56:41        20.0                 0          1    1.628316   \n",
              "2022-06-05 23:57:45        20.0                 0          1    1.752545   \n",
              "2022-06-05 23:58:44        60.0                 0          5    6.268676   \n",
              "2022-06-05 23:58:48        20.0                 0          1    1.766180   \n",
              "2022-06-05 23:59:52        20.0                 0          1    1.752545   \n",
              "\n",
              "                     prediction_linear_regression  \n",
              "BaseDateTime                                       \n",
              "2022-06-01 00:00:01                           NaN  \n",
              "2022-06-01 00:00:01                           NaN  \n",
              "2022-06-01 00:01:06                           NaN  \n",
              "2022-06-01 00:02:07                           NaN  \n",
              "2022-06-01 00:03:09                           NaN  \n",
              "...                                           ...  \n",
              "2022-06-05 23:56:41                      2.594338  \n",
              "2022-06-05 23:57:45                      2.932618  \n",
              "2022-06-05 23:58:44                      3.758041  \n",
              "2022-06-05 23:58:48                      3.298273  \n",
              "2022-06-05 23:59:52                      3.394750  \n",
              "\n",
              "[8597 rows x 11 columns]"
            ],
            "text/html": [
              "\n",
              "  <div id=\"df-8f85c61b-939b-4a53-87b5-4a246b961257\">\n",
              "    <div class=\"colab-df-container\">\n",
              "      <div>\n",
              "<style scoped>\n",
              "    .dataframe tbody tr th:only-of-type {\n",
              "        vertical-align: middle;\n",
              "    }\n",
              "\n",
              "    .dataframe tbody tr th {\n",
              "        vertical-align: top;\n",
              "    }\n",
              "\n",
              "    .dataframe thead th {\n",
              "        text-align: right;\n",
              "    }\n",
              "</style>\n",
              "<table border=\"1\" class=\"dataframe\">\n",
              "  <thead>\n",
              "    <tr style=\"text-align: right;\">\n",
              "      <th></th>\n",
              "      <th>MMSI</th>\n",
              "      <th>LAT</th>\n",
              "      <th>LON</th>\n",
              "      <th>SOG</th>\n",
              "      <th>COG</th>\n",
              "      <th>Heading</th>\n",
              "      <th>VesselType</th>\n",
              "      <th>TransceiverClass</th>\n",
              "      <th>time_diff</th>\n",
              "      <th>prediction</th>\n",
              "      <th>prediction_linear_regression</th>\n",
              "    </tr>\n",
              "    <tr>\n",
              "      <th>BaseDateTime</th>\n",
              "      <th></th>\n",
              "      <th></th>\n",
              "      <th></th>\n",
              "      <th></th>\n",
              "      <th></th>\n",
              "      <th></th>\n",
              "      <th></th>\n",
              "      <th></th>\n",
              "      <th></th>\n",
              "      <th></th>\n",
              "      <th></th>\n",
              "    </tr>\n",
              "  </thead>\n",
              "  <tbody>\n",
              "    <tr>\n",
              "      <th>2022-06-01 00:00:01</th>\n",
              "      <td>367314530</td>\n",
              "      <td>37.60087</td>\n",
              "      <td>-76.37251</td>\n",
              "      <td>7.0</td>\n",
              "      <td>116.9</td>\n",
              "      <td>511.0</td>\n",
              "      <td>31.0</td>\n",
              "      <td>0</td>\n",
              "      <td>0</td>\n",
              "      <td>NaN</td>\n",
              "      <td>NaN</td>\n",
              "    </tr>\n",
              "    <tr>\n",
              "      <th>2022-06-01 00:00:01</th>\n",
              "      <td>368179250</td>\n",
              "      <td>25.76419</td>\n",
              "      <td>-80.14437</td>\n",
              "      <td>0.9</td>\n",
              "      <td>177.8</td>\n",
              "      <td>178.0</td>\n",
              "      <td>20.0</td>\n",
              "      <td>0</td>\n",
              "      <td>0</td>\n",
              "      <td>NaN</td>\n",
              "      <td>NaN</td>\n",
              "    </tr>\n",
              "    <tr>\n",
              "      <th>2022-06-01 00:01:06</th>\n",
              "      <td>367458840</td>\n",
              "      <td>25.77179</td>\n",
              "      <td>-80.15139</td>\n",
              "      <td>0.7</td>\n",
              "      <td>252.3</td>\n",
              "      <td>291.0</td>\n",
              "      <td>60.0</td>\n",
              "      <td>0</td>\n",
              "      <td>0</td>\n",
              "      <td>NaN</td>\n",
              "      <td>NaN</td>\n",
              "    </tr>\n",
              "    <tr>\n",
              "      <th>2022-06-01 00:02:07</th>\n",
              "      <td>367458840</td>\n",
              "      <td>25.77149</td>\n",
              "      <td>-80.15241</td>\n",
              "      <td>5.7</td>\n",
              "      <td>189.7</td>\n",
              "      <td>152.0</td>\n",
              "      <td>60.0</td>\n",
              "      <td>0</td>\n",
              "      <td>1</td>\n",
              "      <td>NaN</td>\n",
              "      <td>NaN</td>\n",
              "    </tr>\n",
              "    <tr>\n",
              "      <th>2022-06-01 00:03:09</th>\n",
              "      <td>367458840</td>\n",
              "      <td>25.77033</td>\n",
              "      <td>-80.15043</td>\n",
              "      <td>9.0</td>\n",
              "      <td>111.3</td>\n",
              "      <td>297.0</td>\n",
              "      <td>60.0</td>\n",
              "      <td>0</td>\n",
              "      <td>1</td>\n",
              "      <td>NaN</td>\n",
              "      <td>NaN</td>\n",
              "    </tr>\n",
              "    <tr>\n",
              "      <th>...</th>\n",
              "      <td>...</td>\n",
              "      <td>...</td>\n",
              "      <td>...</td>\n",
              "      <td>...</td>\n",
              "      <td>...</td>\n",
              "      <td>...</td>\n",
              "      <td>...</td>\n",
              "      <td>...</td>\n",
              "      <td>...</td>\n",
              "      <td>...</td>\n",
              "      <td>...</td>\n",
              "    </tr>\n",
              "    <tr>\n",
              "      <th>2022-06-05 23:56:41</th>\n",
              "      <td>368179250</td>\n",
              "      <td>25.76641</td>\n",
              "      <td>-80.14321</td>\n",
              "      <td>4.7</td>\n",
              "      <td>170.3</td>\n",
              "      <td>180.0</td>\n",
              "      <td>20.0</td>\n",
              "      <td>0</td>\n",
              "      <td>1</td>\n",
              "      <td>1.628316</td>\n",
              "      <td>2.594338</td>\n",
              "    </tr>\n",
              "    <tr>\n",
              "      <th>2022-06-05 23:57:45</th>\n",
              "      <td>368179250</td>\n",
              "      <td>25.76536</td>\n",
              "      <td>-80.14329</td>\n",
              "      <td>3.2</td>\n",
              "      <td>199.5</td>\n",
              "      <td>224.0</td>\n",
              "      <td>20.0</td>\n",
              "      <td>0</td>\n",
              "      <td>1</td>\n",
              "      <td>1.752545</td>\n",
              "      <td>2.932618</td>\n",
              "    </tr>\n",
              "    <tr>\n",
              "      <th>2022-06-05 23:58:44</th>\n",
              "      <td>367458840</td>\n",
              "      <td>25.77179</td>\n",
              "      <td>-80.15138</td>\n",
              "      <td>0.1</td>\n",
              "      <td>360.0</td>\n",
              "      <td>295.0</td>\n",
              "      <td>60.0</td>\n",
              "      <td>0</td>\n",
              "      <td>5</td>\n",
              "      <td>6.268676</td>\n",
              "      <td>3.758041</td>\n",
              "    </tr>\n",
              "    <tr>\n",
              "      <th>2022-06-05 23:58:48</th>\n",
              "      <td>368179250</td>\n",
              "      <td>25.76467</td>\n",
              "      <td>-80.14410</td>\n",
              "      <td>1.6</td>\n",
              "      <td>223.8</td>\n",
              "      <td>217.0</td>\n",
              "      <td>20.0</td>\n",
              "      <td>0</td>\n",
              "      <td>1</td>\n",
              "      <td>1.766180</td>\n",
              "      <td>3.298273</td>\n",
              "    </tr>\n",
              "    <tr>\n",
              "      <th>2022-06-05 23:59:52</th>\n",
              "      <td>368179250</td>\n",
              "      <td>25.76436</td>\n",
              "      <td>-80.14432</td>\n",
              "      <td>1.1</td>\n",
              "      <td>203.4</td>\n",
              "      <td>188.0</td>\n",
              "      <td>20.0</td>\n",
              "      <td>0</td>\n",
              "      <td>1</td>\n",
              "      <td>1.752545</td>\n",
              "      <td>3.394750</td>\n",
              "    </tr>\n",
              "  </tbody>\n",
              "</table>\n",
              "<p>8597 rows × 11 columns</p>\n",
              "</div>\n",
              "      <button class=\"colab-df-convert\" onclick=\"convertToInteractive('df-8f85c61b-939b-4a53-87b5-4a246b961257')\"\n",
              "              title=\"Convert this dataframe to an interactive table.\"\n",
              "              style=\"display:none;\">\n",
              "        \n",
              "  <svg xmlns=\"http://www.w3.org/2000/svg\" height=\"24px\"viewBox=\"0 0 24 24\"\n",
              "       width=\"24px\">\n",
              "    <path d=\"M0 0h24v24H0V0z\" fill=\"none\"/>\n",
              "    <path d=\"M18.56 5.44l.94 2.06.94-2.06 2.06-.94-2.06-.94-.94-2.06-.94 2.06-2.06.94zm-11 1L8.5 8.5l.94-2.06 2.06-.94-2.06-.94L8.5 2.5l-.94 2.06-2.06.94zm10 10l.94 2.06.94-2.06 2.06-.94-2.06-.94-.94-2.06-.94 2.06-2.06.94z\"/><path d=\"M17.41 7.96l-1.37-1.37c-.4-.4-.92-.59-1.43-.59-.52 0-1.04.2-1.43.59L10.3 9.45l-7.72 7.72c-.78.78-.78 2.05 0 2.83L4 21.41c.39.39.9.59 1.41.59.51 0 1.02-.2 1.41-.59l7.78-7.78 2.81-2.81c.8-.78.8-2.07 0-2.86zM5.41 20L4 18.59l7.72-7.72 1.47 1.35L5.41 20z\"/>\n",
              "  </svg>\n",
              "      </button>\n",
              "      \n",
              "  <style>\n",
              "    .colab-df-container {\n",
              "      display:flex;\n",
              "      flex-wrap:wrap;\n",
              "      gap: 12px;\n",
              "    }\n",
              "\n",
              "    .colab-df-convert {\n",
              "      background-color: #E8F0FE;\n",
              "      border: none;\n",
              "      border-radius: 50%;\n",
              "      cursor: pointer;\n",
              "      display: none;\n",
              "      fill: #1967D2;\n",
              "      height: 32px;\n",
              "      padding: 0 0 0 0;\n",
              "      width: 32px;\n",
              "    }\n",
              "\n",
              "    .colab-df-convert:hover {\n",
              "      background-color: #E2EBFA;\n",
              "      box-shadow: 0px 1px 2px rgba(60, 64, 67, 0.3), 0px 1px 3px 1px rgba(60, 64, 67, 0.15);\n",
              "      fill: #174EA6;\n",
              "    }\n",
              "\n",
              "    [theme=dark] .colab-df-convert {\n",
              "      background-color: #3B4455;\n",
              "      fill: #D2E3FC;\n",
              "    }\n",
              "\n",
              "    [theme=dark] .colab-df-convert:hover {\n",
              "      background-color: #434B5C;\n",
              "      box-shadow: 0px 1px 3px 1px rgba(0, 0, 0, 0.15);\n",
              "      filter: drop-shadow(0px 1px 2px rgba(0, 0, 0, 0.3));\n",
              "      fill: #FFFFFF;\n",
              "    }\n",
              "  </style>\n",
              "\n",
              "      <script>\n",
              "        const buttonEl =\n",
              "          document.querySelector('#df-8f85c61b-939b-4a53-87b5-4a246b961257 button.colab-df-convert');\n",
              "        buttonEl.style.display =\n",
              "          google.colab.kernel.accessAllowed ? 'block' : 'none';\n",
              "\n",
              "        async function convertToInteractive(key) {\n",
              "          const element = document.querySelector('#df-8f85c61b-939b-4a53-87b5-4a246b961257');\n",
              "          const dataTable =\n",
              "            await google.colab.kernel.invokeFunction('convertToInteractive',\n",
              "                                                     [key], {});\n",
              "          if (!dataTable) return;\n",
              "\n",
              "          const docLinkHtml = 'Like what you see? Visit the ' +\n",
              "            '<a target=\"_blank\" href=https://colab.research.google.com/notebooks/data_table.ipynb>data table notebook</a>'\n",
              "            + ' to learn more about interactive tables.';\n",
              "          element.innerHTML = '';\n",
              "          dataTable['output_type'] = 'display_data';\n",
              "          await google.colab.output.renderOutput(dataTable, element);\n",
              "          const docLink = document.createElement('div');\n",
              "          docLink.innerHTML = docLinkHtml;\n",
              "          element.appendChild(docLink);\n",
              "        }\n",
              "      </script>\n",
              "    </div>\n",
              "  </div>\n",
              "  "
            ]
          },
          "metadata": {},
          "execution_count": 49
        }
      ],
      "source": [
        "df"
      ]
    },
    {
      "cell_type": "code",
      "execution_count": 50,
      "id": "903725e4",
      "metadata": {
        "colab": {
          "base_uri": "https://localhost:8080/",
          "height": 350
        },
        "id": "903725e4",
        "outputId": "2f510077-6872-470f-891f-e199854be24a"
      },
      "outputs": [
        {
          "output_type": "display_data",
          "data": {
            "text/plain": [
              "<Figure size 1080x360 with 1 Axes>"
            ],
            "image/png": "[encoded data removed]"
          },
          "metadata": {
            "needs_background": "light"
          }
        }
      ],
      "source": [
        "ax = df[['time_diff']].plot(figsize = (15,5), style = '.')\n",
        "df['prediction_linear_regression'].plot(ax=ax, style = '.')\n",
        "plt.legend(['Actual Data', 'Predictions'])\n",
        "ax.set_title('Raw Data and Prediction for linear Regression')\n",
        "plt.show()"
      ]
    },
    {
      "cell_type": "code",
      "execution_count": 51,
      "id": "2dc9ffa1",
      "metadata": {
        "colab": {
          "base_uri": "https://localhost:8080/"
        },
        "id": "2dc9ffa1",
        "outputId": "cd75904b-f6bc-4b57-a6a8-d099d76d2c64"
      },
      "outputs": [
        {
          "output_type": "stream",
          "name": "stdout",
          "text": [
            "RMSE Score on test set :17.58\n"
          ]
        }
      ],
      "source": [
        "score = np.sqrt(mean_squared_error(test['time_diff'], test['prediction_linear_regression']))\n",
        "print(f'RMSE Score on test set :{score:0.2f}')"
      ]
    },
    {
      "cell_type": "code",
      "execution_count": 52,
      "id": "114bb5d1",
      "metadata": {
        "colab": {
          "base_uri": "https://localhost:8080/"
        },
        "id": "114bb5d1",
        "outputId": "1716d403-dd88-4399-bb61-055ce62be433"
      },
      "outputs": [
        {
          "output_type": "stream",
          "name": "stdout",
          "text": [
            "Training score:  0.4002868076005517\n"
          ]
        }
      ],
      "source": [
        "score = lin_reg.score(X_train, y_train)  \n",
        "print(\"Training score: \", score)"
      ]
    },
    {
      "cell_type": "code",
      "execution_count": 53,
      "id": "b2a17c8c",
      "metadata": {
        "colab": {
          "base_uri": "https://localhost:8080/",
          "height": 364
        },
        "id": "b2a17c8c",
        "outputId": "83559e21-e9ec-403e-91dd-e5d9cc08b806"
      },
      "outputs": [
        {
          "output_type": "display_data",
          "data": {
            "text/plain": [
              "<Figure size 1080x360 with 1 Axes>"
            ],
            "image/png": "[encoded data removed]"
          },
          "metadata": {
            "needs_background": "light"
          }
        }
      ],
      "source": [
        "# Plot the forecast with the actuals\n",
        "f, ax = plt.subplots(1)\n",
        "f.set_figheight(5)\n",
        "f.set_figwidth(15)\n",
        "_ = df[['prediction','time_diff']].plot(ax=ax,\n",
        "                                              style=['.','.'])\n",
        "ax.set_xbound(lower='2022-06-04 00:00:00', upper='2022-06-05 00:00:00')\n",
        "ax.set_ylim(0, 500)\n",
        "plot = plt.suptitle('2 days Time difference Forecast vs Actuals')"
      ]
    },
    {
      "cell_type": "code",
      "execution_count": 58,
      "id": "88806ef3",
      "metadata": {
        "id": "88806ef3"
      },
      "outputs": [],
      "source": [
        "test['error'] =np.abs(test[TARGET] - test['prediction'])\n",
        "test['abs_error'] = test['error'].apply(np.abs)\n",
        "error_by_day = test.groupby(['MMSI', 'LAT','LON',\n",
        "       'date' ])\\\n",
        ".mean()[['time_diff','prediction','error','abs_error']]"
      ]
    },
    {
      "cell_type": "code",
      "execution_count": 60,
      "id": "b48ed9fa",
      "metadata": {
        "scrolled": true,
        "colab": {
          "base_uri": "https://localhost:8080/",
          "height": 363
        },
        "id": "b48ed9fa",
        "outputId": "c531ec03-8363-4a51-8aef-b2a9df686376"
      },
      "outputs": [
        {
          "output_type": "execute_result",
          "data": {
            "text/plain": [
              "        MMSI       LAT       LON        date  time_diff  prediction     error  \\\n",
              "0  367458840  25.76601 -80.14427  2022-06-05        2.0    2.013028  0.013028   \n",
              "1  367458840  25.77176 -80.15160  2022-06-04        2.0    1.974479  0.025521   \n",
              "2  367458840  25.76444 -80.14436  2022-06-04        3.0    2.893989  0.106011   \n",
              "3  367458840  25.76412 -80.14438  2022-06-05        2.0    1.858058  0.141942   \n",
              "4  367458840  25.77119 -80.15135  2022-06-04        2.0    1.737209  0.262791   \n",
              "5  367458840  25.77094 -80.15084  2022-06-05        2.0    1.648609  0.351391   \n",
              "6  367458840  25.76958 -80.14826  2022-06-05        2.0    1.648609  0.351391   \n",
              "7  367458840  25.76951 -80.14751  2022-06-05        2.0    1.648609  0.351391   \n",
              "8  368179250  25.77003 -80.15007  2022-06-04        1.0    1.628316  0.628316   \n",
              "9  367458840  25.76795 -80.14451  2022-06-04        1.0    1.628316  0.628316   \n",
              "\n",
              "   abs_error  \n",
              "0   0.013028  \n",
              "1   0.025521  \n",
              "2   0.106011  \n",
              "3   0.141942  \n",
              "4   0.262791  \n",
              "5   0.351391  \n",
              "6   0.351391  \n",
              "7   0.351391  \n",
              "8   0.628316  \n",
              "9   0.628316  "
            ],
            "text/html": [
              "\n",
              "  <div id=\"df-37939b8b-f1a7-4daf-aea0-0ea8227c673d\">\n",
              "    <div class=\"colab-df-container\">\n",
              "      <div>\n",
              "<style scoped>\n",
              "    .dataframe tbody tr th:only-of-type {\n",
              "        vertical-align: middle;\n",
              "    }\n",
              "\n",
              "    .dataframe tbody tr th {\n",
              "        vertical-align: top;\n",
              "    }\n",
              "\n",
              "    .dataframe thead th {\n",
              "        text-align: right;\n",
              "    }\n",
              "</style>\n",
              "<table border=\"1\" class=\"dataframe\">\n",
              "  <thead>\n",
              "    <tr style=\"text-align: right;\">\n",
              "      <th></th>\n",
              "      <th>MMSI</th>\n",
              "      <th>LAT</th>\n",
              "      <th>LON</th>\n",
              "      <th>date</th>\n",
              "      <th>time_diff</th>\n",
              "      <th>prediction</th>\n",
              "      <th>error</th>\n",
              "      <th>abs_error</th>\n",
              "    </tr>\n",
              "  </thead>\n",
              "  <tbody>\n",
              "    <tr>\n",
              "      <th>0</th>\n",
              "      <td>367458840</td>\n",
              "      <td>25.76601</td>\n",
              "      <td>-80.14427</td>\n",
              "      <td>2022-06-05</td>\n",
              "      <td>2.0</td>\n",
              "      <td>2.013028</td>\n",
              "      <td>0.013028</td>\n",
              "      <td>0.013028</td>\n",
              "    </tr>\n",
              "    <tr>\n",
              "      <th>1</th>\n",
              "      <td>367458840</td>\n",
              "      <td>25.77176</td>\n",
              "      <td>-80.15160</td>\n",
              "      <td>2022-06-04</td>\n",
              "      <td>2.0</td>\n",
              "      <td>1.974479</td>\n",
              "      <td>0.025521</td>\n",
              "      <td>0.025521</td>\n",
              "    </tr>\n",
              "    <tr>\n",
              "      <th>2</th>\n",
              "      <td>367458840</td>\n",
              "      <td>25.76444</td>\n",
              "      <td>-80.14436</td>\n",
              "      <td>2022-06-04</td>\n",
              "      <td>3.0</td>\n",
              "      <td>2.893989</td>\n",
              "      <td>0.106011</td>\n",
              "      <td>0.106011</td>\n",
              "    </tr>\n",
              "    <tr>\n",
              "      <th>3</th>\n",
              "      <td>367458840</td>\n",
              "      <td>25.76412</td>\n",
              "      <td>-80.14438</td>\n",
              "      <td>2022-06-05</td>\n",
              "      <td>2.0</td>\n",
              "      <td>1.858058</td>\n",
              "      <td>0.141942</td>\n",
              "      <td>0.141942</td>\n",
              "    </tr>\n",
              "    <tr>\n",
              "      <th>4</th>\n",
              "      <td>367458840</td>\n",
              "      <td>25.77119</td>\n",
              "      <td>-80.15135</td>\n",
              "      <td>2022-06-04</td>\n",
              "      <td>2.0</td>\n",
              "      <td>1.737209</td>\n",
              "      <td>0.262791</td>\n",
              "      <td>0.262791</td>\n",
              "    </tr>\n",
              "    <tr>\n",
              "      <th>5</th>\n",
              "      <td>367458840</td>\n",
              "      <td>25.77094</td>\n",
              "      <td>-80.15084</td>\n",
              "      <td>2022-06-05</td>\n",
              "      <td>2.0</td>\n",
              "      <td>1.648609</td>\n",
              "      <td>0.351391</td>\n",
              "      <td>0.351391</td>\n",
              "    </tr>\n",
              "    <tr>\n",
              "      <th>6</th>\n",
              "      <td>367458840</td>\n",
              "      <td>25.76958</td>\n",
              "      <td>-80.14826</td>\n",
              "      <td>2022-06-05</td>\n",
              "      <td>2.0</td>\n",
              "      <td>1.648609</td>\n",
              "      <td>0.351391</td>\n",
              "      <td>0.351391</td>\n",
              "    </tr>\n",
              "    <tr>\n",
              "      <th>7</th>\n",
              "      <td>367458840</td>\n",
              "      <td>25.76951</td>\n",
              "      <td>-80.14751</td>\n",
              "      <td>2022-06-05</td>\n",
              "      <td>2.0</td>\n",
              "      <td>1.648609</td>\n",
              "      <td>0.351391</td>\n",
              "      <td>0.351391</td>\n",
              "    </tr>\n",
              "    <tr>\n",
              "      <th>8</th>\n",
              "      <td>368179250</td>\n",
              "      <td>25.77003</td>\n",
              "      <td>-80.15007</td>\n",
              "      <td>2022-06-04</td>\n",
              "      <td>1.0</td>\n",
              "      <td>1.628316</td>\n",
              "      <td>0.628316</td>\n",
              "      <td>0.628316</td>\n",
              "    </tr>\n",
              "    <tr>\n",
              "      <th>9</th>\n",
              "      <td>367458840</td>\n",
              "      <td>25.76795</td>\n",
              "      <td>-80.14451</td>\n",
              "      <td>2022-06-04</td>\n",
              "      <td>1.0</td>\n",
              "      <td>1.628316</td>\n",
              "      <td>0.628316</td>\n",
              "      <td>0.628316</td>\n",
              "    </tr>\n",
              "  </tbody>\n",
              "</table>\n",
              "</div>\n",
              "      <button class=\"colab-df-convert\" onclick=\"convertToInteractive('df-37939b8b-f1a7-4daf-aea0-0ea8227c673d')\"\n",
              "              title=\"Convert this dataframe to an interactive table.\"\n",
              "              style=\"display:none;\">\n",
              "        \n",
              "  <svg xmlns=\"http://www.w3.org/2000/svg\" height=\"24px\"viewBox=\"0 0 24 24\"\n",
              "       width=\"24px\">\n",
              "    <path d=\"M0 0h24v24H0V0z\" fill=\"none\"/>\n",
              "    <path d=\"M18.56 5.44l.94 2.06.94-2.06 2.06-.94-2.06-.94-.94-2.06-.94 2.06-2.06.94zm-11 1L8.5 8.5l.94-2.06 2.06-.94-2.06-.94L8.5 2.5l-.94 2.06-2.06.94zm10 10l.94 2.06.94-2.06 2.06-.94-2.06-.94-.94-2.06-.94 2.06-2.06.94z\"/><path d=\"M17.41 7.96l-1.37-1.37c-.4-.4-.92-.59-1.43-.59-.52 0-1.04.2-1.43.59L10.3 9.45l-7.72 7.72c-.78.78-.78 2.05 0 2.83L4 21.41c.39.39.9.59 1.41.59.51 0 1.02-.2 1.41-.59l7.78-7.78 2.81-2.81c.8-.78.8-2.07 0-2.86zM5.41 20L4 18.59l7.72-7.72 1.47 1.35L5.41 20z\"/>\n",
              "  </svg>\n",
              "      </button>\n",
              "      \n",
              "  <style>\n",
              "    .colab-df-container {\n",
              "      display:flex;\n",
              "      flex-wrap:wrap;\n",
              "      gap: 12px;\n",
              "    }\n",
              "\n",
              "    .colab-df-convert {\n",
              "      background-color: #E8F0FE;\n",
              "      border: none;\n",
              "      border-radius: 50%;\n",
              "      cursor: pointer;\n",
              "      display: none;\n",
              "      fill: #1967D2;\n",
              "      height: 32px;\n",
              "      padding: 0 0 0 0;\n",
              "      width: 32px;\n",
              "    }\n",
              "\n",
              "    .colab-df-convert:hover {\n",
              "      background-color: #E2EBFA;\n",
              "      box-shadow: 0px 1px 2px rgba(60, 64, 67, 0.3), 0px 1px 3px 1px rgba(60, 64, 67, 0.15);\n",
              "      fill: #174EA6;\n",
              "    }\n",
              "\n",
              "    [theme=dark] .colab-df-convert {\n",
              "      background-color: #3B4455;\n",
              "      fill: #D2E3FC;\n",
              "    }\n",
              "\n",
              "    [theme=dark] .colab-df-convert:hover {\n",
              "      background-color: #434B5C;\n",
              "      box-shadow: 0px 1px 3px 1px rgba(0, 0, 0, 0.15);\n",
              "      filter: drop-shadow(0px 1px 2px rgba(0, 0, 0, 0.3));\n",
              "      fill: #FFFFFF;\n",
              "    }\n",
              "  </style>\n",
              "\n",
              "      <script>\n",
              "        const buttonEl =\n",
              "          document.querySelector('#df-37939b8b-f1a7-4daf-aea0-0ea8227c673d button.colab-df-convert');\n",
              "        buttonEl.style.display =\n",
              "          google.colab.kernel.accessAllowed ? 'block' : 'none';\n",
              "\n",
              "        async function convertToInteractive(key) {\n",
              "          const element = document.querySelector('#df-37939b8b-f1a7-4daf-aea0-0ea8227c673d');\n",
              "          const dataTable =\n",
              "            await google.colab.kernel.invokeFunction('convertToInteractive',\n",
              "                                                     [key], {});\n",
              "          if (!dataTable) return;\n",
              "\n",
              "          const docLinkHtml = 'Like what you see? Visit the ' +\n",
              "            '<a target=\"_blank\" href=https://colab.research.google.com/notebooks/data_table.ipynb>data table notebook</a>'\n",
              "            + ' to learn more about interactive tables.';\n",
              "          element.innerHTML = '';\n",
              "          dataTable['output_type'] = 'display_data';\n",
              "          await google.colab.output.renderOutput(dataTable, element);\n",
              "          const docLink = document.createElement('div');\n",
              "          docLink.innerHTML = docLinkHtml;\n",
              "          element.appendChild(docLink);\n",
              "        }\n",
              "      </script>\n",
              "    </div>\n",
              "  </div>\n",
              "  "
            ]
          },
          "metadata": {},
          "execution_count": 60
        }
      ],
      "source": [
        "error_by_day.sort_values('error', ascending=True).head(10).reset_index()"
      ]
    },
    {
      "cell_type": "code",
      "execution_count": 61,
      "id": "c8ac5cd1",
      "metadata": {
        "id": "c8ac5cd1"
      },
      "outputs": [],
      "source": [
        "test['error_linear_regression'] =np.abs(test[TARGET] - test['prediction_linear_regression'])\n",
        "test['abs_error_linear_regression'] = test['error_linear_regression'].apply(np.abs)\n",
        "error_by_day_linear_regression = test.groupby(['MMSI', 'LAT','LON',\n",
        "       'date' ]) \\\n",
        "    .mean()[['time_diff','prediction_linear_regression','error_linear_regression','abs_error_linear_regression']]"
      ]
    },
    {
      "cell_type": "code",
      "execution_count": 62,
      "id": "ea612bc2",
      "metadata": {
        "colab": {
          "base_uri": "https://localhost:8080/",
          "height": 363
        },
        "id": "ea612bc2",
        "outputId": "ec2ca0b8-ff04-4460-ded8-fc142df38a52"
      },
      "outputs": [
        {
          "output_type": "execute_result",
          "data": {
            "text/plain": [
              "        MMSI       LAT       LON        date  time_diff  \\\n",
              "0  368179250  25.77047 -80.15093  2022-06-04        1.0   \n",
              "1  368179250  25.77078 -80.15118  2022-06-04        1.0   \n",
              "2  368179250  25.77007 -80.15013  2022-06-04        1.0   \n",
              "3  368179250  25.76880 -80.14661  2022-06-04        1.0   \n",
              "4  368179250  25.76997 -80.14945  2022-06-04        1.0   \n",
              "5  368179250  25.76864 -80.14641  2022-06-04        1.0   \n",
              "6  368179250  25.76913 -80.14767  2022-06-04        1.0   \n",
              "7  368179250  25.76864 -80.14638  2022-06-04        1.0   \n",
              "8  368179250  25.76873 -80.14683  2022-06-04        1.0   \n",
              "9  368179250  25.77013 -80.14959  2022-06-04        1.0   \n",
              "\n",
              "   prediction_linear_regression  error_linear_regression  \\\n",
              "0                      1.000314                 0.000314   \n",
              "1                      1.038528                 0.038528   \n",
              "2                      0.953475                 0.046525   \n",
              "3                      1.068577                 0.068577   \n",
              "4                      1.071460                 0.071460   \n",
              "5                      1.080571                 0.080571   \n",
              "6                      0.916960                 0.083040   \n",
              "7                      1.085322                 0.085322   \n",
              "8                      0.913842                 0.086158   \n",
              "9                      1.124128                 0.124128   \n",
              "\n",
              "   abs_error_linear_regression  \n",
              "0                     0.000314  \n",
              "1                     0.038528  \n",
              "2                     0.046525  \n",
              "3                     0.068577  \n",
              "4                     0.071460  \n",
              "5                     0.080571  \n",
              "6                     0.083040  \n",
              "7                     0.085322  \n",
              "8                     0.086158  \n",
              "9                     0.124128  "
            ],
            "text/html": [
              "\n",
              "  <div id=\"df-fd2ceb9f-9914-4653-ab23-2a778a706952\">\n",
              "    <div class=\"colab-df-container\">\n",
              "      <div>\n",
              "<style scoped>\n",
              "    .dataframe tbody tr th:only-of-type {\n",
              "        vertical-align: middle;\n",
              "    }\n",
              "\n",
              "    .dataframe tbody tr th {\n",
              "        vertical-align: top;\n",
              "    }\n",
              "\n",
              "    .dataframe thead th {\n",
              "        text-align: right;\n",
              "    }\n",
              "</style>\n",
              "<table border=\"1\" class=\"dataframe\">\n",
              "  <thead>\n",
              "    <tr style=\"text-align: right;\">\n",
              "      <th></th>\n",
              "      <th>MMSI</th>\n",
              "      <th>LAT</th>\n",
              "      <th>LON</th>\n",
              "      <th>date</th>\n",
              "      <th>time_diff</th>\n",
              "      <th>prediction_linear_regression</th>\n",
              "      <th>error_linear_regression</th>\n",
              "      <th>abs_error_linear_regression</th>\n",
              "    </tr>\n",
              "  </thead>\n",
              "  <tbody>\n",
              "    <tr>\n",
              "      <th>0</th>\n",
              "      <td>368179250</td>\n",
              "      <td>25.77047</td>\n",
              "      <td>-80.15093</td>\n",
              "      <td>2022-06-04</td>\n",
              "      <td>1.0</td>\n",
              "      <td>1.000314</td>\n",
              "      <td>0.000314</td>\n",
              "      <td>0.000314</td>\n",
              "    </tr>\n",
              "    <tr>\n",
              "      <th>1</th>\n",
              "      <td>368179250</td>\n",
              "      <td>25.77078</td>\n",
              "      <td>-80.15118</td>\n",
              "      <td>2022-06-04</td>\n",
              "      <td>1.0</td>\n",
              "      <td>1.038528</td>\n",
              "      <td>0.038528</td>\n",
              "      <td>0.038528</td>\n",
              "    </tr>\n",
              "    <tr>\n",
              "      <th>2</th>\n",
              "      <td>368179250</td>\n",
              "      <td>25.77007</td>\n",
              "      <td>-80.15013</td>\n",
              "      <td>2022-06-04</td>\n",
              "      <td>1.0</td>\n",
              "      <td>0.953475</td>\n",
              "      <td>0.046525</td>\n",
              "      <td>0.046525</td>\n",
              "    </tr>\n",
              "    <tr>\n",
              "      <th>3</th>\n",
              "      <td>368179250</td>\n",
              "      <td>25.76880</td>\n",
              "      <td>-80.14661</td>\n",
              "      <td>2022-06-04</td>\n",
              "      <td>1.0</td>\n",
              "      <td>1.068577</td>\n",
              "      <td>0.068577</td>\n",
              "      <td>0.068577</td>\n",
              "    </tr>\n",
              "    <tr>\n",
              "      <th>4</th>\n",
              "      <td>368179250</td>\n",
              "      <td>25.76997</td>\n",
              "      <td>-80.14945</td>\n",
              "      <td>2022-06-04</td>\n",
              "      <td>1.0</td>\n",
              "      <td>1.071460</td>\n",
              "      <td>0.071460</td>\n",
              "      <td>0.071460</td>\n",
              "    </tr>\n",
              "    <tr>\n",
              "      <th>5</th>\n",
              "      <td>368179250</td>\n",
              "      <td>25.76864</td>\n",
              "      <td>-80.14641</td>\n",
              "      <td>2022-06-04</td>\n",
              "      <td>1.0</td>\n",
              "      <td>1.080571</td>\n",
              "      <td>0.080571</td>\n",
              "      <td>0.080571</td>\n",
              "    </tr>\n",
              "    <tr>\n",
              "      <th>6</th>\n",
              "      <td>368179250</td>\n",
              "      <td>25.76913</td>\n",
              "      <td>-80.14767</td>\n",
              "      <td>2022-06-04</td>\n",
              "      <td>1.0</td>\n",
              "      <td>0.916960</td>\n",
              "      <td>0.083040</td>\n",
              "      <td>0.083040</td>\n",
              "    </tr>\n",
              "    <tr>\n",
              "      <th>7</th>\n",
              "      <td>368179250</td>\n",
              "      <td>25.76864</td>\n",
              "      <td>-80.14638</td>\n",
              "      <td>2022-06-04</td>\n",
              "      <td>1.0</td>\n",
              "      <td>1.085322</td>\n",
              "      <td>0.085322</td>\n",
              "      <td>0.085322</td>\n",
              "    </tr>\n",
              "    <tr>\n",
              "      <th>8</th>\n",
              "      <td>368179250</td>\n",
              "      <td>25.76873</td>\n",
              "      <td>-80.14683</td>\n",
              "      <td>2022-06-04</td>\n",
              "      <td>1.0</td>\n",
              "      <td>0.913842</td>\n",
              "      <td>0.086158</td>\n",
              "      <td>0.086158</td>\n",
              "    </tr>\n",
              "    <tr>\n",
              "      <th>9</th>\n",
              "      <td>368179250</td>\n",
              "      <td>25.77013</td>\n",
              "      <td>-80.14959</td>\n",
              "      <td>2022-06-04</td>\n",
              "      <td>1.0</td>\n",
              "      <td>1.124128</td>\n",
              "      <td>0.124128</td>\n",
              "      <td>0.124128</td>\n",
              "    </tr>\n",
              "  </tbody>\n",
              "</table>\n",
              "</div>\n",
              "      <button class=\"colab-df-convert\" onclick=\"convertToInteractive('df-fd2ceb9f-9914-4653-ab23-2a778a706952')\"\n",
              "              title=\"Convert this dataframe to an interactive table.\"\n",
              "              style=\"display:none;\">\n",
              "        \n",
              "  <svg xmlns=\"http://www.w3.org/2000/svg\" height=\"24px\"viewBox=\"0 0 24 24\"\n",
              "       width=\"24px\">\n",
              "    <path d=\"M0 0h24v24H0V0z\" fill=\"none\"/>\n",
              "    <path d=\"M18.56 5.44l.94 2.06.94-2.06 2.06-.94-2.06-.94-.94-2.06-.94 2.06-2.06.94zm-11 1L8.5 8.5l.94-2.06 2.06-.94-2.06-.94L8.5 2.5l-.94 2.06-2.06.94zm10 10l.94 2.06.94-2.06 2.06-.94-2.06-.94-.94-2.06-.94 2.06-2.06.94z\"/><path d=\"M17.41 7.96l-1.37-1.37c-.4-.4-.92-.59-1.43-.59-.52 0-1.04.2-1.43.59L10.3 9.45l-7.72 7.72c-.78.78-.78 2.05 0 2.83L4 21.41c.39.39.9.59 1.41.59.51 0 1.02-.2 1.41-.59l7.78-7.78 2.81-2.81c.8-.78.8-2.07 0-2.86zM5.41 20L4 18.59l7.72-7.72 1.47 1.35L5.41 20z\"/>\n",
              "  </svg>\n",
              "      </button>\n",
              "      \n",
              "  <style>\n",
              "    .colab-df-container {\n",
              "      display:flex;\n",
              "      flex-wrap:wrap;\n",
              "      gap: 12px;\n",
              "    }\n",
              "\n",
              "    .colab-df-convert {\n",
              "      background-color: #E8F0FE;\n",
              "      border: none;\n",
              "      border-radius: 50%;\n",
              "      cursor: pointer;\n",
              "      display: none;\n",
              "      fill: #1967D2;\n",
              "      height: 32px;\n",
              "      padding: 0 0 0 0;\n",
              "      width: 32px;\n",
              "    }\n",
              "\n",
              "    .colab-df-convert:hover {\n",
              "      background-color: #E2EBFA;\n",
              "      box-shadow: 0px 1px 2px rgba(60, 64, 67, 0.3), 0px 1px 3px 1px rgba(60, 64, 67, 0.15);\n",
              "      fill: #174EA6;\n",
              "    }\n",
              "\n",
              "    [theme=dark] .colab-df-convert {\n",
              "      background-color: #3B4455;\n",
              "      fill: #D2E3FC;\n",
              "    }\n",
              "\n",
              "    [theme=dark] .colab-df-convert:hover {\n",
              "      background-color: #434B5C;\n",
              "      box-shadow: 0px 1px 3px 1px rgba(0, 0, 0, 0.15);\n",
              "      filter: drop-shadow(0px 1px 2px rgba(0, 0, 0, 0.3));\n",
              "      fill: #FFFFFF;\n",
              "    }\n",
              "  </style>\n",
              "\n",
              "      <script>\n",
              "        const buttonEl =\n",
              "          document.querySelector('#df-fd2ceb9f-9914-4653-ab23-2a778a706952 button.colab-df-convert');\n",
              "        buttonEl.style.display =\n",
              "          google.colab.kernel.accessAllowed ? 'block' : 'none';\n",
              "\n",
              "        async function convertToInteractive(key) {\n",
              "          const element = document.querySelector('#df-fd2ceb9f-9914-4653-ab23-2a778a706952');\n",
              "          const dataTable =\n",
              "            await google.colab.kernel.invokeFunction('convertToInteractive',\n",
              "                                                     [key], {});\n",
              "          if (!dataTable) return;\n",
              "\n",
              "          const docLinkHtml = 'Like what you see? Visit the ' +\n",
              "            '<a target=\"_blank\" href=https://colab.research.google.com/notebooks/data_table.ipynb>data table notebook</a>'\n",
              "            + ' to learn more about interactive tables.';\n",
              "          element.innerHTML = '';\n",
              "          dataTable['output_type'] = 'display_data';\n",
              "          await google.colab.output.renderOutput(dataTable, element);\n",
              "          const docLink = document.createElement('div');\n",
              "          docLink.innerHTML = docLinkHtml;\n",
              "          element.appendChild(docLink);\n",
              "        }\n",
              "      </script>\n",
              "    </div>\n",
              "  </div>\n",
              "  "
            ]
          },
          "metadata": {},
          "execution_count": 62
        }
      ],
      "source": [
        "error_by_day_linear_regression.sort_values('error_linear_regression', ascending=True).head(10).reset_index()"
      ]
    },
    {
      "cell_type": "code",
      "source": [],
      "metadata": {
        "id": "qmgz9KdFKVEI"
      },
      "id": "qmgz9KdFKVEI",
      "execution_count": null,
      "outputs": []
    }
  ],
  "metadata": {
    "kernelspec": {
      "display_name": "Python 3 (ipykernel)",
      "language": "python",
      "name": "python3"
    },
    "language_info": {
      "codemirror_mode": {
        "name": "ipython",
        "version": 3
      },
      "file_extension": ".py",
      "mimetype": "text/x-python",
      "name": "python",
      "nbconvert_exporter": "python",
      "pygments_lexer": "ipython3",
      "version": "3.9.13"
    },
    "colab": {
      "provenance": [],
      "machine_shape": "hm",
      "include_colab_link": true
    },
    "accelerator": "GPU",
    "gpuClass": "premium"
  },
  "nbformat": 4,
  "nbformat_minor": 5
}