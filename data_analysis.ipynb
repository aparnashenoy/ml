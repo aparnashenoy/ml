{
  "nbformat": 4,
  "nbformat_minor": 0,
  "metadata": {
    "colab": {
      "name": "data analysis",
      "provenance": [],
      "collapsed_sections": [],
      "machine_shape": "hm",
      "include_colab_link": true
    },
    "kernelspec": {
      "name": "python3",
      "display_name": "Python 3"
    },
    "accelerator": "GPU"
  },
  "cells": [
    {
      "cell_type": "markdown",
      "metadata": {
        "id": "view-in-github",
        "colab_type": "text"
      },
      "source": [
        "<a href=\"https://colab.research.google.com/github/aparnashenoy/ml/blob/master/data_analysis.ipynb\" target=\"_parent\"><img src=\"https://colab.research.google.com/assets/colab-badge.svg\" alt=\"Open In Colab\"/></a>"
      ]
    },
    {
      "cell_type": "markdown",
      "metadata": {
        "id": "bN7-OXdn-e37",
        "colab_type": "text"
      },
      "source": [
        "import the libraries"
      ]
    },
    {
      "cell_type": "code",
      "metadata": {
        "id": "i-b6Ky0J9Yn_",
        "colab_type": "code",
        "colab": {}
      },
      "source": [
        "import numpy as np\n",
        "import matplotlib.pyplot as plt\n",
        "import pandas as pd\n",
        "from sklearn import preprocessing, model_selection\n",
        "from sklearn.neighbors import KNeighborsClassifier\n",
        "from sklearn.svm import SVC\n",
        "from sklearn.metrics import classification_report, accuracy_score\n",
        "from pandas.plotting import scatter_matrix"
      ],
      "execution_count": 0,
      "outputs": []
    },
    {
      "cell_type": "markdown",
      "metadata": {
        "id": "aPr6mv9z-kKb",
        "colab_type": "text"
      },
      "source": [
        "import the dataset"
      ]
    },
    {
      "cell_type": "code",
      "metadata": {
        "id": "Z_RPeBgE3KQ4",
        "colab_type": "code",
        "colab": {}
      },
      "source": [
        "dataset = pd.read_csv('traindata.csv')"
      ],
      "execution_count": 0,
      "outputs": []
    },
    {
      "cell_type": "code",
      "metadata": {
        "id": "JRk-AzmbBLPV",
        "colab_type": "code",
        "colab": {}
      },
      "source": [
        "dataset.head()"
      ],
      "execution_count": 0,
      "outputs": []
    },
    {
      "cell_type": "code",
      "metadata": {
        "id": "SpZDLYv-LHYR",
        "colab_type": "code",
        "colab": {}
      },
      "source": [
        "dataset.isnull()\n",
        "dataset.dropna()\n"
      ],
      "execution_count": 0,
      "outputs": []
    },
    {
      "cell_type": "code",
      "metadata": {
        "id": "zEPBrDreMJ5Y",
        "colab_type": "code",
        "colab": {}
      },
      "source": [
        "categorical = dataset.dtypes == object\n",
        "categorical['Unit1'] = True\n",
        "categorical['Unit2'] = True\n",
        "categorical['Gender'] = True"
      ],
      "execution_count": 0,
      "outputs": []
    },
    {
      "cell_type": "code",
      "metadata": {
        "id": "m-WQ3vSzMTXj",
        "colab_type": "code",
        "colab": {}
      },
      "source": [
        "cat_vars = list(categorical[categorical].index)\n",
        "cont_vars = list(categorical[~categorical].index)\n",
        "cont_vars.pop(-1)"
      ],
      "execution_count": 0,
      "outputs": []
    },
    {
      "cell_type": "code",
      "metadata": {
        "id": "StkwNI9j3fTG",
        "colab_type": "code",
        "colab": {}
      },
      "source": [
        "dataset.replace('?',-9999, inplace=True)\n",
        "print(dataset.axes)"
      ],
      "execution_count": 0,
      "outputs": []
    },
    {
      "cell_type": "code",
      "metadata": {
        "id": "52hllYQ43umk",
        "colab_type": "code",
        "colab": {}
      },
      "source": [
        "dataset.drop(['Unnamed: 0','X'],1, inplace=True)"
      ],
      "execution_count": 0,
      "outputs": []
    },
    {
      "cell_type": "code",
      "metadata": {
        "id": "y_686DgU4G4E",
        "colab_type": "code",
        "colab": {}
      },
      "source": [
        "print(dataset.shape)"
      ],
      "execution_count": 0,
      "outputs": []
    },
    {
      "cell_type": "code",
      "metadata": {
        "id": "zHKhFLgx4Qp2",
        "colab_type": "code",
        "colab": {}
      },
      "source": [
        "print(dataset.columns)"
      ],
      "execution_count": 0,
      "outputs": []
    },
    {
      "cell_type": "code",
      "metadata": {
        "id": "__OvmB7K45SG",
        "colab_type": "code",
        "colab": {}
      },
      "source": [
        "dataset.hist(figsize=(20,20 ))\n",
        "f=plt.show()\n"
      ],
      "execution_count": 0,
      "outputs": []
    },
    {
      "cell_type": "code",
      "metadata": {
        "id": "XhmkafCjJbq9",
        "colab_type": "code",
        "colab": {}
      },
      "source": [
        "plt.savefig(\"abc.png\")"
      ],
      "execution_count": 0,
      "outputs": []
    },
    {
      "cell_type": "code",
      "metadata": {
        "id": "mlWxNN9d5ruC",
        "colab_type": "code",
        "colab": {}
      },
      "source": [
        "from pandas.plotting import scatter_matrix\n",
        "scatter_matrix(dataset,figsize=(39,39))\n",
        "plt.show()"
      ],
      "execution_count": 0,
      "outputs": []
    },
    {
      "cell_type": "code",
      "metadata": {
        "id": "aNICjNGxBNzR",
        "colab_type": "code",
        "colab": {}
      },
      "source": [
        "X=np.array(dataset.drop(['SepsisLabel'],1))\n",
        "y=np.array(dataset['SepsisLabel'])"
      ],
      "execution_count": 0,
      "outputs": []
    },
    {
      "cell_type": "code",
      "metadata": {
        "id": "Nx9_BhF4DnGF",
        "colab_type": "code",
        "colab": {}
      },
      "source": [
        "from sklearn.model_selection import train_test_split\n",
        "X_train,X_test,y_train,y_test = train_test_split(X,y, test_size=0.25, random_state=0)"
      ],
      "execution_count": 0,
      "outputs": []
    },
    {
      "cell_type": "code",
      "metadata": {
        "id": "P9-zyEMA_liz",
        "colab_type": "code",
        "colab": {}
      },
      "source": [
        "seed=123\n",
        "scoring='accuracy'"
      ],
      "execution_count": 0,
      "outputs": []
    },
    {
      "cell_type": "code",
      "metadata": {
        "id": "NoBCfy1O_uoZ",
        "colab_type": "code",
        "colab": {}
      },
      "source": [
        "models=[]\n",
        "models.append(('KNN', KNeighborsClassifier(n_neighbors=5)))\n",
        "models.append(('SVM',SVC()))"
      ],
      "execution_count": 0,
      "outputs": []
    },
    {
      "cell_type": "code",
      "metadata": {
        "id": "7ttKwXopA1eM",
        "colab_type": "code",
        "colab": {}
      },
      "source": [
        "results=[]\n",
        "names =[]\n",
        "for name, model in models:\n",
        "  kfold=model_selection.KFold(n_splits=10, random_state=seed)\n",
        "  cv_results=model_selection.cross_val_score(model,X_train,y_train,cv=kfold, scoring=scoring)\n",
        "  results.append(cv_results)\n",
        "  names.append(name)\n",
        "  msg=\"%s: %f (%f)\" % (name,cv_results.mean(), cv_results.std())\n",
        "  print(msg)"
      ],
      "execution_count": 0,
      "outputs": []
    },
    {
      "cell_type": "code",
      "metadata": {
        "id": "hv0GK8feE3gd",
        "colab_type": "code",
        "colab": {}
      },
      "source": [
        "from sklearn.preprocessing import StandardScaler\n",
        "sc_X=StandardScaler()\n",
        "X_train=sc_X.fit_transform(X_train)\n",
        "X_test=sc_X.transform(X_test)\n",
        "X_standardized=sc_X.transform(X)\n",
        "data=pd.DataFrame(X_standardized)\n",
        "data.describe()\n"
      ],
      "execution_count": 0,
      "outputs": []
    },
    {
      "cell_type": "code",
      "metadata": {
        "id": "a42iEA1BKtpP",
        "colab_type": "code",
        "colab": {}
      },
      "source": [
        "X_standardized['SepsisLabel'].value_counts()"
      ],
      "execution_count": 0,
      "outputs": []
    },
    {
      "cell_type": "code",
      "metadata": {
        "id": "yCfcicTMFaLQ",
        "colab_type": "code",
        "colab": {}
      },
      "source": [
        "from sklearn.linear_model import LogisticRegression\n",
        "classifier = LogisticRegression(random_state=0)\n",
        "classifier.fit(X_train,y_train)"
      ],
      "execution_count": 0,
      "outputs": []
    },
    {
      "cell_type": "code",
      "metadata": {
        "id": "QDFCzIt3KBx5",
        "colab_type": "code",
        "colab": {}
      },
      "source": [
        "y_train"
      ],
      "execution_count": 0,
      "outputs": []
    },
    {
      "cell_type": "code",
      "metadata": {
        "id": "9KtPRXQ1Mw_E",
        "colab_type": "code",
        "colab": {}
      },
      "source": [
        "np.any(np.isnan(dataset))"
      ],
      "execution_count": 0,
      "outputs": []
    },
    {
      "cell_type": "code",
      "metadata": {
        "id": "ioOdqoxWNPp3",
        "colab_type": "code",
        "colab": {}
      },
      "source": [
        "np.all(np.isfinite(dataset))"
      ],
      "execution_count": 0,
      "outputs": []
    },
    {
      "cell_type": "code",
      "metadata": {
        "id": "3jIaA_8GNWNX",
        "colab_type": "code",
        "colab": {}
      },
      "source": [
        "dataset.fillna(999, inplace=True)"
      ],
      "execution_count": 0,
      "outputs": []
    },
    {
      "cell_type": "code",
      "metadata": {
        "id": "2siwQbAeNoVR",
        "colab_type": "code",
        "colab": {}
      },
      "source": [
        "dataset.replace([np.inf, -np.inf], np.nan, inplace=True)"
      ],
      "execution_count": 0,
      "outputs": []
    },
    {
      "cell_type": "code",
      "metadata": {
        "id": "IM_L-71ANuOO",
        "colab_type": "code",
        "colab": {}
      },
      "source": [
        "y_pred = classifier.predict(X_test)"
      ],
      "execution_count": 0,
      "outputs": []
    },
    {
      "cell_type": "code",
      "metadata": {
        "id": "Mby8znNQOnN3",
        "colab_type": "code",
        "colab": {}
      },
      "source": [
        "y_pred"
      ],
      "execution_count": 0,
      "outputs": []
    },
    {
      "cell_type": "code",
      "metadata": {
        "id": "TkMrw1HYOrB3",
        "colab_type": "code",
        "colab": {}
      },
      "source": [
        "from sklearn.metrics import confusion_matrix\n",
        "cm=confusion_matrix(y_test, y_pred)"
      ],
      "execution_count": 0,
      "outputs": []
    },
    {
      "cell_type": "code",
      "metadata": {
        "id": "AXnaAviPT_br",
        "colab_type": "code",
        "colab": {}
      },
      "source": [
        "cm"
      ],
      "execution_count": 0,
      "outputs": []
    },
    {
      "cell_type": "code",
      "metadata": {
        "id": "x8WsI7pBT_5e",
        "colab_type": "code",
        "colab": {}
      },
      "source": [
        "from matplotlib.colors import ListedColormap"
      ],
      "execution_count": 0,
      "outputs": []
    },
    {
      "cell_type": "code",
      "metadata": {
        "id": "5t9rD86gbE37",
        "colab_type": "code",
        "colab": {}
      },
      "source": [
        "print('Accuracy of logistic regression classifier on test set: {:.2f}'.format(classifier.score(X_test, y_test)))"
      ],
      "execution_count": 0,
      "outputs": []
    },
    {
      "cell_type": "code",
      "metadata": {
        "id": "LX_qjGs-n5wD",
        "colab_type": "code",
        "colab": {}
      },
      "source": [
        "from sklearn.metrics import classification_report\n",
        "print(classification_report(y_test, y_pred))"
      ],
      "execution_count": 0,
      "outputs": []
    },
    {
      "cell_type": "code",
      "metadata": {
        "id": "Adq0Jaosujjm",
        "colab_type": "code",
        "colab": {}
      },
      "source": [
        "from sklearn.decomposition import PCA\n",
        "X = dataset.iloc[:,2:39]\n",
        "y = dataset.iloc[:,40]\n",
        "pca = PCA(n_components=2).fit_transform(X)\n",
        "X_train, X_test, y_train, y_test = train_test_split(pca, y, random_state=0)\n",
        "\n",
        "plt.figure(dpi=120)\n",
        "plt.scatter(pca[y.values==0,0], pca[y.values==0,1], alpha=0.5, label='YES', s=2, color='navy')\n",
        "plt.scatter(pca[y.values==1,0], pca[y.values==1,1], alpha=0.5, label='NO', s=2, color='darkorange')\n",
        "plt.legend()\n",
        "plt.title('Sepsis Data Set\\nFirst Two Principal Components')\n",
        "plt.xlabel('PC1')\n",
        "plt.ylabel('PC2')\n",
        "plt.gca().set_aspect('equal')\n",
        "plt.show()"
      ],
      "execution_count": 0,
      "outputs": []
    },
    {
      "cell_type": "code",
      "metadata": {
        "id": "5qZS-lphvmOE",
        "colab_type": "code",
        "colab": {}
      },
      "source": [
        "def plot_bank(X, y, fitted_model):\n",
        "  plt.figure(figsize=(9.8,5), dpi=100)\n",
        "  for i, plot_type in enumerate(['Decision Boundary', 'Decision Probabilities']):\n",
        "    plt.subplot(1,2,i+1)\n",
        "    mesh_step_size = 0.01  # step size in the mesh\n",
        "    x_min, x_max = X[:, 0].min() - .1, X[:, 0].max() + .1\n",
        "    y_min, y_max = X[:, 1].min() - .1, X[:, 1].max() + .1\n",
        "    xx, yy = np.meshgrid(np.arange(x_min, x_max, mesh_step_size), np.arange(y_min, y_max, mesh_step_size))\n",
        "    if i == 0:\n",
        "       Z = fitted_model.predict(np.c_[xx.ravel(), yy.ravel()])\n",
        "    else:\n",
        "         try:\n",
        "           Z = fitted_model.predict_proba(np.c_[xx.ravel(), yy.ravel()])[:,1]\n",
        "         except:\n",
        "             plt.text(0.4, 0.5, 'Probabilities Unavailable', horizontalalignment='center',\n",
        "                      verticalalignment='center', transform = plt.gca().transAxes, fontsize=12)\n",
        "             plt.axis('off')\n",
        "             break\n",
        "             Z = Z.reshape(xx.shape)\n",
        "             plt.scatter(X[y.values==0,0], X[y.values==0,1], alpha=0.8, label='YES', s=5, color='navy')\n",
        "             plt.scatter(X[y.values==1,0], X[y.values==1,1], alpha=0.8, label='NO', s=5, color='darkorange')\n",
        "             plt.imshow(Z, interpolation='nearest', cmap='RdYlBu_r', alpha=0.15, \n",
        "                        extent=(x_min, x_max, y_min, y_max), origin='lower')\n",
        "             plt.title(plot_type + '\\n' + \n",
        "                       str(fitted_model).split('(')[0]+ ' Test Accuracy: ' + str(np.round(fitted_model.score(X, y), 5)))\n",
        "plt.gca().set_aspect('equal');\n",
        "plt.tight_layout()\n",
        "plt.legend()\n",
        "plt.subplots_adjust(top=0.9, bottom=0.08, wspace=0.02)\n",
        "model = LogisticRegression()\n",
        "model.fit(X_train,y_train)\n",
        "plot_bank(X_test, y_test, model)\n",
        "plt.show()"
      ],
      "execution_count": 0,
      "outputs": []
    }
  ]
}