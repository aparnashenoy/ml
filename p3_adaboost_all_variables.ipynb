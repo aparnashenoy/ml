{
  "nbformat": 4,
  "nbformat_minor": 0,
  "metadata": {
    "colab": {
      "name": "p3_adaboost_all variables.ipynb",
      "provenance": [],
      "collapsed_sections": [],
      "machine_shape": "hm",
      "authorship_tag": "ABX9TyOzpyIy3Sy7E6oJoE/mra1L",
      "include_colab_link": true
    },
    "kernelspec": {
      "name": "python3",
      "display_name": "Python 3"
    },
    "language_info": {
      "name": "python"
    }
  },
  "cells": [
    {
      "cell_type": "markdown",
      "metadata": {
        "id": "view-in-github",
        "colab_type": "text"
      },
      "source": [
        "<a href=\"https://colab.research.google.com/github/aparnashenoy/ml/blob/master/p3_adaboost_all_variables.ipynb\" target=\"_parent\"><img src=\"https://colab.research.google.com/assets/colab-badge.svg\" alt=\"Open In Colab\"/></a>"
      ]
    },
    {
      "cell_type": "code",
      "metadata": {
        "id": "_Qk_i7LYuwPR"
      },
      "source": [
        "import numpy as np\n",
        "import pandas as pd\n",
        "from pandas import read_csv\n",
        "import matplotlib.pyplot as plt\n",
        "import seaborn as sns\n",
        "import itertools\n",
        "import graphviz \n",
        "from sklearn import model_selection\n",
        "from sklearn.impute import SimpleImputer\n",
        "from sklearn.model_selection import train_test_split, cross_val_score, KFold, learning_curve, StratifiedKFold, train_test_split\n",
        "from sklearn.metrics import confusion_matrix, make_scorer, accuracy_score \n",
        "from sklearn import tree\n",
        "from sklearn.tree import DecisionTreeClassifier\n",
        "from sklearn.ensemble import RandomForestClassifier\n",
        "import xgboost as xgb\n",
        "from xgboost import XGBClassifier\n",
        "from sklearn.linear_model import LogisticRegression\n",
        "from sklearn.tree import DecisionTreeClassifier\n",
        "from sklearn.discriminant_analysis import LinearDiscriminantAnalysis\n",
        "from sklearn.ensemble import RandomForestClassifier, GradientBoostingClassifier, VotingClassifier\n",
        "from sklearn.gaussian_process import GaussianProcessClassifier\n",
        "from sklearn.gaussian_process.kernels import RBF\n",
        "from sklearn.model_selection import cross_val_score\n",
        "from sklearn.tree import DecisionTreeClassifier\n",
        "from sklearn.ensemble import RandomForestClassifier, AdaBoostClassifier\n",
        "from sklearn.naive_bayes import GaussianNB\n",
        "from sklearn.discriminant_analysis import QuadraticDiscriminantAnalysis\n",
        "import warnings\n",
        "warnings.filterwarnings(\"ignore\")\n",
        "%matplotlib inline"
      ],
      "execution_count": 1,
      "outputs": []
    },
    {
      "cell_type": "code",
      "metadata": {
        "colab": {
          "base_uri": "https://localhost:8080/"
        },
        "id": "5F3sOYEGxCBC",
        "outputId": "bc3cedea-a7e0-4cb0-c6e9-4a9e972f6697"
      },
      "source": [
        "from google.colab import drive\n",
        "drive.mount('/gdrive')"
      ],
      "execution_count": 2,
      "outputs": [
        {
          "output_type": "stream",
          "text": [
            "Mounted at /gdrive\n"
          ],
          "name": "stdout"
        }
      ]
    },
    {
      "cell_type": "code",
      "metadata": {
        "id": "oB3SckX8xf8M"
      },
      "source": [
        "path = '/gdrive/My Drive/'"
      ],
      "execution_count": 3,
      "outputs": []
    },
    {
      "cell_type": "code",
      "metadata": {
        "id": "7MyN7L3Qxi-G"
      },
      "source": [
        "dataset = pd.read_csv(path +'Copy of train.psv', sep='|')"
      ],
      "execution_count": 4,
      "outputs": []
    },
    {
      "cell_type": "code",
      "metadata": {
        "colab": {
          "base_uri": "https://localhost:8080/"
        },
        "id": "s7YLuHH9xsP2",
        "outputId": "a7254c60-8b71-4eed-9e33-97ffada68daf"
      },
      "source": [
        "dataset.columns"
      ],
      "execution_count": 5,
      "outputs": [
        {
          "output_type": "execute_result",
          "data": {
            "text/plain": [
              "Index(['HR', 'O2Sat', 'Temp', 'SBP', 'MAP', 'DBP', 'Resp', 'EtCO2',\n",
              "       'BaseExcess', 'HCO3', 'FiO2', 'pH', 'PaCO2', 'SaO2', 'AST', 'BUN',\n",
              "       'Alkalinephos', 'Calcium', 'Chloride', 'Creatinine', 'Bilirubin_direct',\n",
              "       'Glucose', 'Lactate', 'Magnesium', 'Phosphate', 'Potassium',\n",
              "       'Bilirubin_total', 'TroponinI', 'Hct', 'Hgb', 'PTT', 'WBC',\n",
              "       'Fibrinogen', 'Platelets', 'Age', 'Gender', 'Unit1', 'Unit2',\n",
              "       'HospAdmTime', 'ICULOS', 'SepsisLabel'],\n",
              "      dtype='object')"
            ]
          },
          "metadata": {
            "tags": []
          },
          "execution_count": 5
        }
      ]
    },
    {
      "cell_type": "code",
      "metadata": {
        "id": "00Z2hp4C6MEQ"
      },
      "source": [
        "from imblearn.over_sampling import SMOTE\n",
        "\n",
        "smote = SMOTE( random_state= 0 )"
      ],
      "execution_count": 6,
      "outputs": []
    },
    {
      "cell_type": "code",
      "metadata": {
        "id": "5-Ef365IzeUy"
      },
      "source": [
        "\n",
        "\n",
        "categorical = dataset.dtypes == object\n",
        "categorical['Unit1'] = True\n",
        "categorical['Unit2'] = True\n",
        "categorical['Gender'] = True\n",
        "dataset = dataset.astype({\"Unit1\":'category', \"Unit2\":'category', \"Gender\":'category', \"SepsisLabel\":'category'})\n",
        "\n",
        "#X_train3 = pd.DataFrame(X_train2)\n",
        "#plotHistogram(X_train,None,4,'HR vs Diagnosis (Blue = Non-Sepsis; Orange = Sepsis)')\n",
        "#plotHistogram(X_train,None,3,'O2Sat vs Diagnosis (Blue = Non-Sepsis; Orange = Sepsis)')"
      ],
      "execution_count": 7,
      "outputs": []
    },
    {
      "cell_type": "code",
      "metadata": {
        "id": "3SNlhmwuzt06",
        "colab": {
          "base_uri": "https://localhost:8080/"
        },
        "outputId": "d9a34907-8ca4-4a36-a59c-51fe0f241056"
      },
      "source": [
        "labels = {0:'HR', 1:'O2Sat', 2:'Temp', 3:'SBP', 4:'MAP', 5:'DBP', 6:'Resp', 7:'EtCO2',\n",
        "       8:'BaseExcess', 9:'HCO3', 10:'FiO2', 11:'pH', 12:'PaCO2', 13:'SaO2', 14:'AST', 15:'BUN',\n",
        "       16:'Alkalinephos', 17:'Calcium', 18:'Chloride', 19:'Creatinine', 20:'Bilirubin_direct',\n",
        "       21:'Glucose', 22:'Lactate', 23:'Magnesium', 24:'Phosphate', 25:'Potassium',\n",
        "       26:'Bilirubin_total', 27:'TroponinI', 28:'Hct', 29:'Hgb', 30:'PTT', 31:'WBC',\n",
        "       32:'Fibrinogen', 33:'Platelets', 34:'Age', 35:'Gender', 36:'Unit1', 37:'Unit2',\n",
        "       38:'HospAdmTime', 39:'ICULOS'}\n",
        "print(labels)\n",
        "print(\"\\nColumn #, # of Zero Values\\n\")\n",
        "#print((X_train3[:] == np.nan).sum())\n",
        "# data[:] = data[:].replace(0, np.NaN)\n",
        "# print(\"\\nColumn #, # of Null Values\\n\")\n",
        "# print(np.isnan(X_train3).sum())"
      ],
      "execution_count": 8,
      "outputs": [
        {
          "output_type": "stream",
          "text": [
            "{0: 'HR', 1: 'O2Sat', 2: 'Temp', 3: 'SBP', 4: 'MAP', 5: 'DBP', 6: 'Resp', 7: 'EtCO2', 8: 'BaseExcess', 9: 'HCO3', 10: 'FiO2', 11: 'pH', 12: 'PaCO2', 13: 'SaO2', 14: 'AST', 15: 'BUN', 16: 'Alkalinephos', 17: 'Calcium', 18: 'Chloride', 19: 'Creatinine', 20: 'Bilirubin_direct', 21: 'Glucose', 22: 'Lactate', 23: 'Magnesium', 24: 'Phosphate', 25: 'Potassium', 26: 'Bilirubin_total', 27: 'TroponinI', 28: 'Hct', 29: 'Hgb', 30: 'PTT', 31: 'WBC', 32: 'Fibrinogen', 33: 'Platelets', 34: 'Age', 35: 'Gender', 36: 'Unit1', 37: 'Unit2', 38: 'HospAdmTime', 39: 'ICULOS'}\n",
            "\n",
            "Column #, # of Zero Values\n",
            "\n"
          ],
          "name": "stdout"
        }
      ]
    },
    {
      "cell_type": "code",
      "metadata": {
        "id": "UwMHGmEWX9tE"
      },
      "source": [
        "dataset = dataset.astype({\"Unit1\":'category', \"Unit2\":'category', \"Gender\":'category', \"SepsisLabel\":'category'})"
      ],
      "execution_count": 9,
      "outputs": []
    },
    {
      "cell_type": "code",
      "metadata": {
        "colab": {
          "base_uri": "https://localhost:8080/"
        },
        "id": "z8vL7BDUYrH1",
        "outputId": "080b39e0-6eaa-40d4-eac9-76a066209875"
      },
      "source": [
        "dataset.info()"
      ],
      "execution_count": 10,
      "outputs": [
        {
          "output_type": "stream",
          "text": [
            "<class 'pandas.core.frame.DataFrame'>\n",
            "RangeIndex: 1167202 entries, 0 to 1167201\n",
            "Data columns (total 41 columns):\n",
            " #   Column            Non-Null Count    Dtype   \n",
            "---  ------            --------------    -----   \n",
            " 0   HR                1059467 non-null  float64 \n",
            " 1   O2Sat             1017873 non-null  float64 \n",
            " 2   Temp              394625 non-null   float64 \n",
            " 3   SBP               993285 non-null   float64 \n",
            " 4   MAP               1029532 non-null  float64 \n",
            " 5   DBP               733099 non-null   float64 \n",
            " 6   Resp              1010036 non-null  float64 \n",
            " 7   EtCO2             27401 non-null    float64 \n",
            " 8   BaseExcess        83331 non-null    float64 \n",
            " 9   HCO3              64410 non-null    float64 \n",
            " 10  FiO2              120467 non-null   float64 \n",
            " 11  pH                98926 non-null    float64 \n",
            " 12  PaCO2             77635 non-null    float64 \n",
            " 13  SaO2              46267 non-null    float64 \n",
            " 14  AST               18512 non-null    float64 \n",
            " 15  BUN               85097 non-null    float64 \n",
            " 16  Alkalinephos      18246 non-null    float64 \n",
            " 17  Calcium           64729 non-null    float64 \n",
            " 18  Chloride          68095 non-null    float64 \n",
            " 19  Creatinine        73126 non-null    float64 \n",
            " 20  Bilirubin_direct  2071 non-null     float64 \n",
            " 21  Glucose           179507 non-null   float64 \n",
            " 22  Lactate           34215 non-null    float64 \n",
            " 23  Magnesium         79410 non-null    float64 \n",
            " 24  Phosphate         50785 non-null    float64 \n",
            " 25  Potassium         114657 non-null   float64 \n",
            " 26  Bilirubin_total   16426 non-null    float64 \n",
            " 27  TroponinI         8188 non-null     float64 \n",
            " 28  Hct               114927 non-null   float64 \n",
            " 29  Hgb               91885 non-null    float64 \n",
            " 30  PTT               41918 non-null    float64 \n",
            " 31  WBC               78986 non-null    float64 \n",
            " 32  Fibrinogen        8139 non-null     float64 \n",
            " 33  Platelets         71443 non-null    float64 \n",
            " 34  Age               1167202 non-null  float64 \n",
            " 35  Gender            1167202 non-null  category\n",
            " 36  Unit1             671221 non-null   category\n",
            " 37  Unit2             671221 non-null   category\n",
            " 38  HospAdmTime       1167194 non-null  float64 \n",
            " 39  ICULOS            1167202 non-null  int64   \n",
            " 40  SepsisLabel       1167202 non-null  category\n",
            "dtypes: category(4), float64(36), int64(1)\n",
            "memory usage: 333.9 MB\n"
          ],
          "name": "stdout"
        }
      ]
    },
    {
      "cell_type": "code",
      "metadata": {
        "id": "eRx9QT8_Engh"
      },
      "source": [
        "dataset=dataset.sample(n=100000, random_state=42, replace=True)"
      ],
      "execution_count": 11,
      "outputs": []
    },
    {
      "cell_type": "code",
      "metadata": {
        "colab": {
          "base_uri": "https://localhost:8080/"
        },
        "id": "r9nvY2XsWH6b",
        "outputId": "1e87553c-aab1-4c52-80bf-6e2915ea958f"
      },
      "source": [
        "dataset.SepsisLabel.value_counts()"
      ],
      "execution_count": 12,
      "outputs": [
        {
          "output_type": "execute_result",
          "data": {
            "text/plain": [
              "0    98038\n",
              "1     1962\n",
              "Name: SepsisLabel, dtype: int64"
            ]
          },
          "metadata": {
            "tags": []
          },
          "execution_count": 12
        }
      ]
    },
    {
      "cell_type": "code",
      "metadata": {
        "colab": {
          "base_uri": "https://localhost:8080/"
        },
        "id": "prkBQM5BEZBy",
        "outputId": "616f644f-ea56-4c94-e1e6-deb6e176f32b"
      },
      "source": [
        "Xcol = dataset.drop(columns = [\"SepsisLabel\"])\n",
        "ycol = dataset[\"SepsisLabel\"]\n",
        "X=np.array(Xcol)\n",
        "y=np.array(ycol)\n",
        "X.shape,y.shape\n"
      ],
      "execution_count": 13,
      "outputs": [
        {
          "output_type": "execute_result",
          "data": {
            "text/plain": [
              "((100000, 40), (100000,))"
            ]
          },
          "metadata": {
            "tags": []
          },
          "execution_count": 13
        }
      ]
    },
    {
      "cell_type": "code",
      "metadata": {
        "colab": {
          "base_uri": "https://localhost:8080/"
        },
        "id": "XXtyvAptaRQW",
        "outputId": "4c244122-a063-4256-8f53-a0273f54b6a1"
      },
      "source": [
        "X_train, X_test, y_train, y_test = train_test_split(X, y, test_size=0.25, random_state = 1)\n",
        "X_train.shape, X_test.shape, y_train.shape, y_test.shape"
      ],
      "execution_count": 14,
      "outputs": [
        {
          "output_type": "execute_result",
          "data": {
            "text/plain": [
              "((75000, 40), (25000, 40), (75000,), (25000,))"
            ]
          },
          "metadata": {
            "tags": []
          },
          "execution_count": 14
        }
      ]
    },
    {
      "cell_type": "code",
      "metadata": {
        "id": "CCFqO2P6Vzos"
      },
      "source": [
        "imputer = SimpleImputer(missing_values=np.nan,strategy='median')\n",
        "X_train = imputer.fit_transform(X_train)\n",
        "X_test = imputer.transform(X_test)"
      ],
      "execution_count": 15,
      "outputs": []
    },
    {
      "cell_type": "code",
      "metadata": {
        "id": "nvOh_lxiHTVl"
      },
      "source": [
        "X_train_rs, y_train_rs = smote.fit_resample(X_train, y_train)"
      ],
      "execution_count": 16,
      "outputs": []
    },
    {
      "cell_type": "code",
      "metadata": {
        "colab": {
          "base_uri": "https://localhost:8080/"
        },
        "id": "gOC_9mnyZ7QB",
        "outputId": "b04c21b0-5bb8-439a-cab3-1f41cdbb36ed"
      },
      "source": [
        "X_train_rs.shape, y_train_rs.shape"
      ],
      "execution_count": 17,
      "outputs": [
        {
          "output_type": "execute_result",
          "data": {
            "text/plain": [
              "((147014, 40), (147014,))"
            ]
          },
          "metadata": {
            "tags": []
          },
          "execution_count": 17
        }
      ]
    },
    {
      "cell_type": "code",
      "metadata": {
        "id": "BzI3DzaeZru5"
      },
      "source": [
        "X_test_rs, y_test_rs = smote.fit_resample(X_test, y_test)"
      ],
      "execution_count": 18,
      "outputs": []
    },
    {
      "cell_type": "code",
      "metadata": {
        "colab": {
          "base_uri": "https://localhost:8080/"
        },
        "id": "DreOQsAnZNxd",
        "outputId": "18d372b6-503f-4cd3-9977-99556563152a"
      },
      "source": [
        "X_test_rs.shape, y_test_rs.shape"
      ],
      "execution_count": 19,
      "outputs": [
        {
          "output_type": "execute_result",
          "data": {
            "text/plain": [
              "((49062, 40), (49062,))"
            ]
          },
          "metadata": {
            "tags": []
          },
          "execution_count": 19
        }
      ]
    },
    {
      "cell_type": "code",
      "metadata": {
        "id": "gwsCbbsnwLAs"
      },
      "source": [
        "from sklearn.ensemble import AdaBoostClassifier"
      ],
      "execution_count": 20,
      "outputs": []
    },
    {
      "cell_type": "code",
      "metadata": {
        "id": "ttsouuGPFOzx"
      },
      "source": [
        "logref_clf=LogisticRegression()"
      ],
      "execution_count": 21,
      "outputs": []
    },
    {
      "cell_type": "code",
      "metadata": {
        "colab": {
          "base_uri": "https://localhost:8080/"
        },
        "id": "RZ6c2AsvFWi_",
        "outputId": "97a7d87b-59ea-4c13-d18b-1e5c2d41eca1"
      },
      "source": [
        "ada_clf=AdaBoostClassifier(logref_clf, n_estimators=50)\n",
        "ada_clf.fit(X_train_rs,y_train_rs)"
      ],
      "execution_count": 22,
      "outputs": [
        {
          "output_type": "execute_result",
          "data": {
            "text/plain": [
              "AdaBoostClassifier(algorithm='SAMME.R',\n",
              "                   base_estimator=LogisticRegression(C=1.0, class_weight=None,\n",
              "                                                     dual=False,\n",
              "                                                     fit_intercept=True,\n",
              "                                                     intercept_scaling=1,\n",
              "                                                     l1_ratio=None,\n",
              "                                                     max_iter=100,\n",
              "                                                     multi_class='auto',\n",
              "                                                     n_jobs=None, penalty='l2',\n",
              "                                                     random_state=None,\n",
              "                                                     solver='lbfgs', tol=0.0001,\n",
              "                                                     verbose=0,\n",
              "                                                     warm_start=False),\n",
              "                   learning_rate=1.0, n_estimators=50, random_state=None)"
            ]
          },
          "metadata": {
            "tags": []
          },
          "execution_count": 22
        }
      ]
    },
    {
      "cell_type": "code",
      "metadata": {
        "id": "FGzGfrONFhA3"
      },
      "source": [
        "ada_clf_pred=ada_clf.predict(X_test_rs)"
      ],
      "execution_count": 23,
      "outputs": []
    },
    {
      "cell_type": "code",
      "metadata": {
        "colab": {
          "base_uri": "https://localhost:8080/"
        },
        "id": "Ojrz4wzDGxh7",
        "outputId": "29e734b4-f962-4e4a-e657-65736c9ab205"
      },
      "source": [
        "from sklearn.metrics import classification_report, accuracy_score\n",
        "print(classification_report(y_test_rs, ada_clf_pred ))\n",
        "\n",
        "ac= accuracy_score(y_test_rs, ada_clf_pred)\n",
        "print('test_accuracy = {} % '.format(ac * 100))"
      ],
      "execution_count": 24,
      "outputs": [
        {
          "output_type": "stream",
          "text": [
            "              precision    recall  f1-score   support\n",
            "\n",
            "           0       0.66      0.74      0.69     24531\n",
            "           1       0.70      0.62      0.66     24531\n",
            "\n",
            "    accuracy                           0.68     49062\n",
            "   macro avg       0.68      0.68      0.68     49062\n",
            "weighted avg       0.68      0.68      0.68     49062\n",
            "\n",
            "test_accuracy = 67.62056173820879 % \n"
          ],
          "name": "stdout"
        }
      ]
    },
    {
      "cell_type": "code",
      "metadata": {
        "colab": {
          "base_uri": "https://localhost:8080/"
        },
        "id": "__yUieD5HILH",
        "outputId": "2431cbc1-b1eb-4354-e6b7-b3755a3340b3"
      },
      "source": [
        "from sklearn.ensemble import RandomForestClassifier\n",
        "\n",
        "rf = RandomForestClassifier(n_estimators=500, random_state=42)\n",
        "rf.fit(X_train_rs, y_train_rs)\n",
        "\n",
        "y_pred = rf.predict(X_test_rs)\n",
        "from sklearn.metrics import accuracy_score\n",
        "print(accuracy_score(y_test_rs, y_pred))"
      ],
      "execution_count": 25,
      "outputs": [
        {
          "output_type": "stream",
          "text": [
            "0.8669642493171905\n"
          ],
          "name": "stdout"
        }
      ]
    },
    {
      "cell_type": "code",
      "metadata": {
        "colab": {
          "base_uri": "https://localhost:8080/",
          "height": 1000
        },
        "id": "RHJn9Wf-gb9t",
        "outputId": "cc5a819c-930b-4cb2-dd82-84e216a42f26"
      },
      "source": [
        "import matplotlib.pyplot as plt\n",
        "import matplotlib.pyplot as plt\n",
        "plt.rcParams[\"figure.figsize\"] = (20,3)\n",
        "\n",
        "features = dict(zip(range(len(dataset.columns)-1), dataset.columns[:-1]))\n",
        "\n",
        "# feature importance scores\n",
        "importances = rf.feature_importances_\n",
        "\n",
        "indices = np.argsort(importances)[::-1]\n",
        "# Plot the feature importancies of the forest\n",
        "num_to_plot = max(39, len(dataset.columns[:-1]))\n",
        "feature_indices = [ind for ind in indices[:num_to_plot]]\n",
        "\n",
        "# Print the feature ranking\n",
        "print(\"Feature ranking:\")\n",
        "\n",
        "for f in range(num_to_plot):\n",
        "    print(f+1, features[feature_indices[f]], importances[indices[f]])\n",
        "\n",
        "plt.figure(figsize=(15,5))\n",
        "plt.title(\"Feature importances\")\n",
        "bars = plt.bar(range(num_to_plot), \n",
        "               importances[indices[:num_to_plot]],\n",
        "               color=([str(i/float(num_to_plot+1)) for i in range(num_to_plot)]),\n",
        "               align=\"center\")\n",
        "ticks = plt.xticks(range(num_to_plot), \n",
        "                   feature_indices)\n",
        "plt.xlim([-1, num_to_plot])\n",
        "plt.legend(bars, [u''.join(features[i]) for i in feature_indices]);"
      ],
      "execution_count": 26,
      "outputs": [
        {
          "output_type": "stream",
          "text": [
            "Feature ranking:\n",
            "1 ICULOS 0.141743453284083\n",
            "2 Gender 0.13656985699882546\n",
            "3 Unit2 0.07989541158754049\n",
            "4 Unit1 0.07538938843771444\n",
            "5 O2Sat 0.0696259578204618\n",
            "6 Resp 0.06500489885752836\n",
            "7 HospAdmTime 0.057364035706925165\n",
            "8 HR 0.048815009130512454\n",
            "9 DBP 0.04574988744537757\n",
            "10 Age 0.04048819560083888\n",
            "11 SBP 0.03717774493175368\n",
            "12 Temp 0.03652940565676784\n",
            "13 MAP 0.03571695491419257\n",
            "14 FiO2 0.031092750141597902\n",
            "15 EtCO2 0.020144783995631018\n",
            "16 pH 0.011107110313692959\n",
            "17 BaseExcess 0.008945179503341727\n",
            "18 Glucose 0.007330369758288428\n",
            "19 PaCO2 0.0067238040001317825\n",
            "20 Lactate 0.004772121420537228\n",
            "21 Hct 0.004467884386739534\n",
            "22 Potassium 0.0043654809309951964\n",
            "23 Magnesium 0.0031672681073126262\n",
            "24 SaO2 0.003023787363166943\n",
            "25 Hgb 0.0028304737165240146\n",
            "26 BUN 0.0026600585301052187\n",
            "27 HCO3 0.0026463857074051182\n",
            "28 Calcium 0.0022962266904000437\n",
            "29 Chloride 0.0022626344024123395\n",
            "30 Platelets 0.0020863969483749306\n",
            "31 PTT 0.0020638709911555203\n",
            "32 WBC 0.0019023235253015022\n",
            "33 Creatinine 0.0016243368292564\n",
            "34 Phosphate 0.001581878126236344\n",
            "35 AST 0.0006475359700303442\n",
            "36 Alkalinephos 0.0006399582847925813\n",
            "37 Bilirubin_total 0.000629466331426574\n",
            "38 Fibrinogen 0.0005895355055899939\n",
            "39 TroponinI 0.00027042855743900546\n",
            "40 Bilirubin_direct 5.774958959301817e-05\n"
          ],
          "name": "stdout"
        },
        {
          "output_type": "display_data",
          "data": {
            "image/png": "[encoded data removed]",
            "text/plain": [
              "<Figure size 1080x360 with 1 Axes>"
            ]
          },
          "metadata": {
            "tags": [],
            "needs_background": "light"
          }
        }
      ]
    },
    {
      "cell_type": "code",
      "metadata": {
        "colab": {
          "base_uri": "https://localhost:8080/"
        },
        "id": "ak6LKLBdnUPh",
        "outputId": "f6bfcfd9-aac5-464f-9d5b-0761ebbaf5e3"
      },
      "source": [
        "dataset.columns"
      ],
      "execution_count": 27,
      "outputs": [
        {
          "output_type": "execute_result",
          "data": {
            "text/plain": [
              "Index(['HR', 'O2Sat', 'Temp', 'SBP', 'MAP', 'DBP', 'Resp', 'EtCO2',\n",
              "       'BaseExcess', 'HCO3', 'FiO2', 'pH', 'PaCO2', 'SaO2', 'AST', 'BUN',\n",
              "       'Alkalinephos', 'Calcium', 'Chloride', 'Creatinine', 'Bilirubin_direct',\n",
              "       'Glucose', 'Lactate', 'Magnesium', 'Phosphate', 'Potassium',\n",
              "       'Bilirubin_total', 'TroponinI', 'Hct', 'Hgb', 'PTT', 'WBC',\n",
              "       'Fibrinogen', 'Platelets', 'Age', 'Gender', 'Unit1', 'Unit2',\n",
              "       'HospAdmTime', 'ICULOS', 'SepsisLabel'],\n",
              "      dtype='object')"
            ]
          },
          "metadata": {
            "tags": []
          },
          "execution_count": 27
        }
      ]
    },
    {
      "cell_type": "code",
      "metadata": {
        "id": "Ww0aL6h5nWKO"
      },
      "source": [
        "cols=['HR', 'O2Sat', 'Temp', 'SBP', 'MAP', 'DBP', 'Resp', 'EtCO2',\n",
        "       'BaseExcess', 'HCO3', 'FiO2', 'pH', 'PaCO2', 'SaO2', 'BUN',\n",
        "        'Calcium', 'Chloride',\n",
        "       'Glucose', 'Lactate', 'Magnesium', 'Potassium',\n",
        "        'Hct', 'Hgb', 'PTT', 'WBC',\n",
        "        'Platelets', 'Age', 'Gender', 'Unit1', 'Unit2',\n",
        "       'HospAdmTime', 'ICULOS', 'SepsisLabel']"
      ],
      "execution_count": 28,
      "outputs": []
    },
    {
      "cell_type": "code",
      "metadata": {
        "id": "u0g1SWKhoFao"
      },
      "source": [
        "dataset=dataset[cols]"
      ],
      "execution_count": 29,
      "outputs": []
    },
    {
      "cell_type": "code",
      "metadata": {
        "colab": {
          "base_uri": "https://localhost:8080/"
        },
        "id": "8ggc2yUJoPzz",
        "outputId": "e77db011-2dde-453d-bd32-28c4719bd743"
      },
      "source": [
        "Xcol_fi = dataset.drop(columns = [\"SepsisLabel\"])\n",
        "ycol_fi = dataset[\"SepsisLabel\"]\n",
        "X_fi=np.array(Xcol_fi)\n",
        "y_fi=np.array(ycol_fi)\n",
        "X_fi.shape,y_fi.shape\n"
      ],
      "execution_count": 30,
      "outputs": [
        {
          "output_type": "execute_result",
          "data": {
            "text/plain": [
              "((100000, 32), (100000,))"
            ]
          },
          "metadata": {
            "tags": []
          },
          "execution_count": 30
        }
      ]
    },
    {
      "cell_type": "code",
      "metadata": {
        "colab": {
          "base_uri": "https://localhost:8080/"
        },
        "id": "dJre5JoQob_-",
        "outputId": "dd8c1022-0a71-491e-f64e-f6ff07b03fe1"
      },
      "source": [
        "X_train_fi, X_test_fi, y_train_fi, y_test_fi = train_test_split(X_fi, y_fi, test_size=0.25, random_state = 1)\n",
        "X_train_fi.shape, X_test_fi.shape, y_train_fi.shape, y_test_fi.shape"
      ],
      "execution_count": 31,
      "outputs": [
        {
          "output_type": "execute_result",
          "data": {
            "text/plain": [
              "((75000, 32), (25000, 32), (75000,), (25000,))"
            ]
          },
          "metadata": {
            "tags": []
          },
          "execution_count": 31
        }
      ]
    },
    {
      "cell_type": "code",
      "metadata": {
        "id": "gRcQYAP3pBcv"
      },
      "source": [
        "imputer = SimpleImputer(missing_values=np.nan,strategy='median')\n",
        "X_train_fi = imputer.fit_transform(X_train_fi)\n",
        "X_test_fi = imputer.transform(X_test_fi)"
      ],
      "execution_count": 32,
      "outputs": []
    },
    {
      "cell_type": "code",
      "metadata": {
        "id": "20vOrh-lpNn-"
      },
      "source": [
        "X_train_fi_rs, y_train_fi_rs = smote.fit_resample(X_train_fi, y_train_fi)"
      ],
      "execution_count": 33,
      "outputs": []
    },
    {
      "cell_type": "code",
      "metadata": {
        "id": "GwLD_oUopWr2"
      },
      "source": [
        "X_test_fi_rs, y_test_fi_rs = smote.fit_resample(X_test_fi, y_test_fi)"
      ],
      "execution_count": 34,
      "outputs": []
    },
    {
      "cell_type": "code",
      "metadata": {
        "colab": {
          "base_uri": "https://localhost:8080/"
        },
        "id": "Ns6hUKBTpfKe",
        "outputId": "2738c173-6777-43ef-dc8c-a20aa898f2f9"
      },
      "source": [
        "ada_clf.fit(X_train_fi_rs,y_train_fi_rs)"
      ],
      "execution_count": 35,
      "outputs": [
        {
          "output_type": "execute_result",
          "data": {
            "text/plain": [
              "AdaBoostClassifier(algorithm='SAMME.R',\n",
              "                   base_estimator=LogisticRegression(C=1.0, class_weight=None,\n",
              "                                                     dual=False,\n",
              "                                                     fit_intercept=True,\n",
              "                                                     intercept_scaling=1,\n",
              "                                                     l1_ratio=None,\n",
              "                                                     max_iter=100,\n",
              "                                                     multi_class='auto',\n",
              "                                                     n_jobs=None, penalty='l2',\n",
              "                                                     random_state=None,\n",
              "                                                     solver='lbfgs', tol=0.0001,\n",
              "                                                     verbose=0,\n",
              "                                                     warm_start=False),\n",
              "                   learning_rate=1.0, n_estimators=50, random_state=None)"
            ]
          },
          "metadata": {
            "tags": []
          },
          "execution_count": 35
        }
      ]
    },
    {
      "cell_type": "code",
      "metadata": {
        "id": "9Ys9dIK1prQR"
      },
      "source": [
        "ada_clf_pred=ada_clf.predict(X_test_fi_rs)"
      ],
      "execution_count": 36,
      "outputs": []
    },
    {
      "cell_type": "code",
      "metadata": {
        "colab": {
          "base_uri": "https://localhost:8080/"
        },
        "id": "hAtCrY35p5eF",
        "outputId": "9bf9d697-3c11-45cd-d816-6a13d0f0841c"
      },
      "source": [
        "print(classification_report(y_test_fi_rs, ada_clf_pred ))\n",
        "\n",
        "ac= accuracy_score(y_test_fi_rs, ada_clf_pred)\n",
        "print('test_accuracy = {} % '.format(ac * 100))"
      ],
      "execution_count": 37,
      "outputs": [
        {
          "output_type": "stream",
          "text": [
            "              precision    recall  f1-score   support\n",
            "\n",
            "           0       0.66      0.73      0.69     24531\n",
            "           1       0.70      0.62      0.65     24531\n",
            "\n",
            "    accuracy                           0.67     49062\n",
            "   macro avg       0.68      0.67      0.67     49062\n",
            "weighted avg       0.68      0.67      0.67     49062\n",
            "\n",
            "test_accuracy = 67.49622926093515 % \n"
          ],
          "name": "stdout"
        }
      ]
    },
    {
      "cell_type": "code",
      "metadata": {
        "id": "neul942Bp-c1"
      },
      "source": [
        "cols2=['HR', 'O2Sat', 'Temp', 'SBP', 'MAP', 'DBP', 'Resp', 'EtCO2',\n",
        "         'FiO2',  'Chloride', 'PTT', 'WBC',\n",
        "        'Platelets', 'Age', 'Gender', 'Unit1', 'Unit2',\n",
        "       'HospAdmTime', 'ICULOS', 'SepsisLabel']"
      ],
      "execution_count": 38,
      "outputs": []
    },
    {
      "cell_type": "code",
      "metadata": {
        "id": "kGQ-W6bmrIYp"
      },
      "source": [
        "dataset=dataset[cols2]"
      ],
      "execution_count": 39,
      "outputs": []
    },
    {
      "cell_type": "code",
      "metadata": {
        "colab": {
          "base_uri": "https://localhost:8080/"
        },
        "id": "rQAMpRZarL0I",
        "outputId": "7591bd7c-43ab-4304-eefb-7472d919076f"
      },
      "source": [
        "Xcol2_fi2 = dataset.drop(columns = [\"SepsisLabel\"])\n",
        "ycol2_fi2 = dataset[\"SepsisLabel\"]\n",
        "X_fi2=np.array(Xcol2_fi2)\n",
        "y_fi2=np.array(ycol2_fi2)\n",
        "X_fi2.shape,y_fi2.shape"
      ],
      "execution_count": 40,
      "outputs": [
        {
          "output_type": "execute_result",
          "data": {
            "text/plain": [
              "((100000, 19), (100000,))"
            ]
          },
          "metadata": {
            "tags": []
          },
          "execution_count": 40
        }
      ]
    },
    {
      "cell_type": "code",
      "metadata": {
        "colab": {
          "base_uri": "https://localhost:8080/"
        },
        "id": "CuOwNEz-rXZb",
        "outputId": "33aac749-5613-4391-9945-cb5257e0f683"
      },
      "source": [
        "X_train_fi2, X_test_fi2, y_train_fi2, y_test_fi2 = train_test_split(X_fi2, y_fi2, test_size=0.25, random_state = 1)\n",
        "X_train_fi2.shape, X_test_fi2.shape, y_train_fi2.shape, y_test_fi2.shape"
      ],
      "execution_count": 41,
      "outputs": [
        {
          "output_type": "execute_result",
          "data": {
            "text/plain": [
              "((75000, 19), (25000, 19), (75000,), (25000,))"
            ]
          },
          "metadata": {
            "tags": []
          },
          "execution_count": 41
        }
      ]
    },
    {
      "cell_type": "code",
      "metadata": {
        "id": "umZWvp8-uUyZ"
      },
      "source": [
        "X_train_fi2 = imputer.fit_transform(X_train_fi2)\n",
        "X_test_fi2 = imputer.transform(X_test_fi2)"
      ],
      "execution_count": 42,
      "outputs": []
    },
    {
      "cell_type": "code",
      "metadata": {
        "id": "7jwgQv_sucph"
      },
      "source": [
        "X_train_fi2_rs, y_train_fi2_rs = smote.fit_resample(X_train_fi2, y_train_fi2)"
      ],
      "execution_count": 43,
      "outputs": []
    },
    {
      "cell_type": "code",
      "metadata": {
        "id": "W5YMcCyGunGY"
      },
      "source": [
        "X_test_fi2_rs, y_test_fi2_rs = smote.fit_resample(X_test_fi2, y_test_fi2)"
      ],
      "execution_count": 44,
      "outputs": []
    },
    {
      "cell_type": "code",
      "metadata": {
        "colab": {
          "base_uri": "https://localhost:8080/"
        },
        "id": "bFhUu-6QuvSB",
        "outputId": "c8784ebf-0414-4f0f-d276-cb37f497a8f8"
      },
      "source": [
        "ada_clf.fit(X_train_fi2_rs,y_train_fi2_rs)"
      ],
      "execution_count": 45,
      "outputs": [
        {
          "output_type": "execute_result",
          "data": {
            "text/plain": [
              "AdaBoostClassifier(algorithm='SAMME.R',\n",
              "                   base_estimator=LogisticRegression(C=1.0, class_weight=None,\n",
              "                                                     dual=False,\n",
              "                                                     fit_intercept=True,\n",
              "                                                     intercept_scaling=1,\n",
              "                                                     l1_ratio=None,\n",
              "                                                     max_iter=100,\n",
              "                                                     multi_class='auto',\n",
              "                                                     n_jobs=None, penalty='l2',\n",
              "                                                     random_state=None,\n",
              "                                                     solver='lbfgs', tol=0.0001,\n",
              "                                                     verbose=0,\n",
              "                                                     warm_start=False),\n",
              "                   learning_rate=1.0, n_estimators=50, random_state=None)"
            ]
          },
          "metadata": {
            "tags": []
          },
          "execution_count": 45
        }
      ]
    },
    {
      "cell_type": "code",
      "metadata": {
        "id": "7aNHXHevu0zB"
      },
      "source": [
        "ada_clf_pred=ada_clf.predict(X_test_fi2_rs)"
      ],
      "execution_count": 46,
      "outputs": []
    },
    {
      "cell_type": "code",
      "metadata": {
        "colab": {
          "base_uri": "https://localhost:8080/"
        },
        "id": "qvHbLzZFu7cQ",
        "outputId": "ac98372b-45cf-4e73-d999-5d115dad1416"
      },
      "source": [
        "print(classification_report(y_test_fi2_rs, ada_clf_pred ))\n",
        "\n",
        "ac= accuracy_score(y_test_fi2_rs, ada_clf_pred)\n",
        "print('test_accuracy = {} % '.format(ac * 100))"
      ],
      "execution_count": 47,
      "outputs": [
        {
          "output_type": "stream",
          "text": [
            "              precision    recall  f1-score   support\n",
            "\n",
            "           0       0.65      0.73      0.69     24531\n",
            "           1       0.70      0.61      0.65     24531\n",
            "\n",
            "    accuracy                           0.67     49062\n",
            "   macro avg       0.68      0.67      0.67     49062\n",
            "weighted avg       0.68      0.67      0.67     49062\n",
            "\n",
            "test_accuracy = 67.26183196771433 % \n"
          ],
          "name": "stdout"
        }
      ]
    },
    {
      "cell_type": "code",
      "metadata": {
        "colab": {
          "base_uri": "https://localhost:8080/",
          "height": 596
        },
        "id": "oLkojZCDvEHS",
        "outputId": "7e70a283-4235-4d62-c7e1-0abc309e0ec6"
      },
      "source": [
        "columns=dataset.columns[:18]\n",
        "plt.subplots(figsize=(18,15))\n",
        "length=len(columns)\n",
        "for i,j in itertools.zip_longest(columns,range(length)):\n",
        "    plt.subplot((length/2),3,j+1)\n",
        "    plt.subplots_adjust(wspace=0.2,hspace=0.5)\n",
        "    dataset[i].hist(bins=20,edgecolor='black')\n",
        "    plt.title(i)\n",
        "plt.show()"
      ],
      "execution_count": 48,
      "outputs": [
        {
          "output_type": "display_data",
          "data": {
            "image/png": "[encoded data removed]",
            "text/plain": [
              "<Figure size 1296x1080 with 18 Axes>"
            ]
          },
          "metadata": {
            "tags": [],
            "needs_background": "light"
          }
        }
      ]
    },
    {
      "cell_type": "code",
      "metadata": {
        "colab": {
          "base_uri": "https://localhost:8080/",
          "height": 538
        },
        "id": "BMpG-BG41agE",
        "outputId": "d4d981be-2536-4a84-8e4e-5b77ac3888de"
      },
      "source": [
        "dataset.describe().transpose()"
      ],
      "execution_count": 49,
      "outputs": [
        {
          "output_type": "execute_result",
          "data": {
            "text/html": [
              "<div>\n",
              "<style scoped>\n",
              "    .dataframe tbody tr th:only-of-type {\n",
              "        vertical-align: middle;\n",
              "    }\n",
              "\n",
              "    .dataframe tbody tr th {\n",
              "        vertical-align: top;\n",
              "    }\n",
              "\n",
              "    .dataframe thead th {\n",
              "        text-align: right;\n",
              "    }\n",
              "</style>\n",
              "<table border=\"1\" class=\"dataframe\">\n",
              "  <thead>\n",
              "    <tr style=\"text-align: right;\">\n",
              "      <th></th>\n",
              "      <th>count</th>\n",
              "      <th>mean</th>\n",
              "      <th>std</th>\n",
              "      <th>min</th>\n",
              "      <th>25%</th>\n",
              "      <th>50%</th>\n",
              "      <th>75%</th>\n",
              "      <th>max</th>\n",
              "    </tr>\n",
              "  </thead>\n",
              "  <tbody>\n",
              "    <tr>\n",
              "      <th>HR</th>\n",
              "      <td>91015.0</td>\n",
              "      <td>84.672411</td>\n",
              "      <td>17.212378</td>\n",
              "      <td>22.00</td>\n",
              "      <td>72.00</td>\n",
              "      <td>83.50</td>\n",
              "      <td>96.00</td>\n",
              "      <td>199.00</td>\n",
              "    </tr>\n",
              "    <tr>\n",
              "      <th>O2Sat</th>\n",
              "      <td>87450.0</td>\n",
              "      <td>97.212436</td>\n",
              "      <td>2.855060</td>\n",
              "      <td>21.00</td>\n",
              "      <td>96.00</td>\n",
              "      <td>98.00</td>\n",
              "      <td>99.50</td>\n",
              "      <td>100.00</td>\n",
              "    </tr>\n",
              "    <tr>\n",
              "      <th>Temp</th>\n",
              "      <td>33552.0</td>\n",
              "      <td>36.997458</td>\n",
              "      <td>0.770979</td>\n",
              "      <td>26.67</td>\n",
              "      <td>36.50</td>\n",
              "      <td>37.00</td>\n",
              "      <td>37.50</td>\n",
              "      <td>41.80</td>\n",
              "    </tr>\n",
              "    <tr>\n",
              "      <th>SBP</th>\n",
              "      <td>85311.0</td>\n",
              "      <td>122.780957</td>\n",
              "      <td>22.707056</td>\n",
              "      <td>32.00</td>\n",
              "      <td>106.00</td>\n",
              "      <td>120.00</td>\n",
              "      <td>137.00</td>\n",
              "      <td>272.00</td>\n",
              "    </tr>\n",
              "    <tr>\n",
              "      <th>MAP</th>\n",
              "      <td>88445.0</td>\n",
              "      <td>81.087112</td>\n",
              "      <td>16.027749</td>\n",
              "      <td>20.00</td>\n",
              "      <td>70.00</td>\n",
              "      <td>79.00</td>\n",
              "      <td>90.00</td>\n",
              "      <td>300.00</td>\n",
              "    </tr>\n",
              "    <tr>\n",
              "      <th>DBP</th>\n",
              "      <td>62802.0</td>\n",
              "      <td>62.680821</td>\n",
              "      <td>13.673946</td>\n",
              "      <td>20.00</td>\n",
              "      <td>53.00</td>\n",
              "      <td>61.00</td>\n",
              "      <td>70.00</td>\n",
              "      <td>272.00</td>\n",
              "    </tr>\n",
              "    <tr>\n",
              "      <th>Resp</th>\n",
              "      <td>86775.0</td>\n",
              "      <td>18.727733</td>\n",
              "      <td>5.217491</td>\n",
              "      <td>1.00</td>\n",
              "      <td>15.00</td>\n",
              "      <td>18.00</td>\n",
              "      <td>22.00</td>\n",
              "      <td>100.00</td>\n",
              "    </tr>\n",
              "    <tr>\n",
              "      <th>EtCO2</th>\n",
              "      <td>2406.0</td>\n",
              "      <td>33.123026</td>\n",
              "      <td>8.238924</td>\n",
              "      <td>10.00</td>\n",
              "      <td>28.00</td>\n",
              "      <td>33.50</td>\n",
              "      <td>38.00</td>\n",
              "      <td>98.00</td>\n",
              "    </tr>\n",
              "    <tr>\n",
              "      <th>FiO2</th>\n",
              "      <td>10165.0</td>\n",
              "      <td>0.526447</td>\n",
              "      <td>0.208428</td>\n",
              "      <td>0.00</td>\n",
              "      <td>0.40</td>\n",
              "      <td>0.50</td>\n",
              "      <td>0.50</td>\n",
              "      <td>7.00</td>\n",
              "    </tr>\n",
              "    <tr>\n",
              "      <th>Chloride</th>\n",
              "      <td>5854.0</td>\n",
              "      <td>106.023830</td>\n",
              "      <td>5.876272</td>\n",
              "      <td>76.00</td>\n",
              "      <td>103.00</td>\n",
              "      <td>106.00</td>\n",
              "      <td>110.00</td>\n",
              "      <td>139.00</td>\n",
              "    </tr>\n",
              "    <tr>\n",
              "      <th>PTT</th>\n",
              "      <td>3553.0</td>\n",
              "      <td>40.410456</td>\n",
              "      <td>24.456550</td>\n",
              "      <td>18.20</td>\n",
              "      <td>27.60</td>\n",
              "      <td>32.30</td>\n",
              "      <td>41.30</td>\n",
              "      <td>249.00</td>\n",
              "    </tr>\n",
              "    <tr>\n",
              "      <th>WBC</th>\n",
              "      <td>6760.0</td>\n",
              "      <td>11.476562</td>\n",
              "      <td>6.988792</td>\n",
              "      <td>0.10</td>\n",
              "      <td>7.60</td>\n",
              "      <td>10.40</td>\n",
              "      <td>13.90</td>\n",
              "      <td>242.60</td>\n",
              "    </tr>\n",
              "    <tr>\n",
              "      <th>Platelets</th>\n",
              "      <td>6102.0</td>\n",
              "      <td>198.163963</td>\n",
              "      <td>103.189768</td>\n",
              "      <td>2.00</td>\n",
              "      <td>128.00</td>\n",
              "      <td>182.00</td>\n",
              "      <td>247.00</td>\n",
              "      <td>1142.00</td>\n",
              "    </tr>\n",
              "    <tr>\n",
              "      <th>Age</th>\n",
              "      <td>100000.0</td>\n",
              "      <td>62.332164</td>\n",
              "      <td>16.291684</td>\n",
              "      <td>16.00</td>\n",
              "      <td>52.00</td>\n",
              "      <td>64.15</td>\n",
              "      <td>74.97</td>\n",
              "      <td>100.00</td>\n",
              "    </tr>\n",
              "    <tr>\n",
              "      <th>HospAdmTime</th>\n",
              "      <td>99997.0</td>\n",
              "      <td>-52.719417</td>\n",
              "      <td>148.240799</td>\n",
              "      <td>-3710.66</td>\n",
              "      <td>-42.56</td>\n",
              "      <td>-4.87</td>\n",
              "      <td>-0.03</td>\n",
              "      <td>23.99</td>\n",
              "    </tr>\n",
              "    <tr>\n",
              "      <th>ICULOS</th>\n",
              "      <td>100000.0</td>\n",
              "      <td>26.570610</td>\n",
              "      <td>27.350469</td>\n",
              "      <td>1.00</td>\n",
              "      <td>11.00</td>\n",
              "      <td>21.00</td>\n",
              "      <td>34.00</td>\n",
              "      <td>336.00</td>\n",
              "    </tr>\n",
              "  </tbody>\n",
              "</table>\n",
              "</div>"
            ],
            "text/plain": [
              "                count        mean         std  ...     50%     75%      max\n",
              "HR            91015.0   84.672411   17.212378  ...   83.50   96.00   199.00\n",
              "O2Sat         87450.0   97.212436    2.855060  ...   98.00   99.50   100.00\n",
              "Temp          33552.0   36.997458    0.770979  ...   37.00   37.50    41.80\n",
              "SBP           85311.0  122.780957   22.707056  ...  120.00  137.00   272.00\n",
              "MAP           88445.0   81.087112   16.027749  ...   79.00   90.00   300.00\n",
              "DBP           62802.0   62.680821   13.673946  ...   61.00   70.00   272.00\n",
              "Resp          86775.0   18.727733    5.217491  ...   18.00   22.00   100.00\n",
              "EtCO2          2406.0   33.123026    8.238924  ...   33.50   38.00    98.00\n",
              "FiO2          10165.0    0.526447    0.208428  ...    0.50    0.50     7.00\n",
              "Chloride       5854.0  106.023830    5.876272  ...  106.00  110.00   139.00\n",
              "PTT            3553.0   40.410456   24.456550  ...   32.30   41.30   249.00\n",
              "WBC            6760.0   11.476562    6.988792  ...   10.40   13.90   242.60\n",
              "Platelets      6102.0  198.163963  103.189768  ...  182.00  247.00  1142.00\n",
              "Age          100000.0   62.332164   16.291684  ...   64.15   74.97   100.00\n",
              "HospAdmTime   99997.0  -52.719417  148.240799  ...   -4.87   -0.03    23.99\n",
              "ICULOS       100000.0   26.570610   27.350469  ...   21.00   34.00   336.00\n",
              "\n",
              "[16 rows x 8 columns]"
            ]
          },
          "metadata": {
            "tags": []
          },
          "execution_count": 49
        }
      ]
    },
    {
      "cell_type": "code",
      "metadata": {
        "colab": {
          "base_uri": "https://localhost:8080/",
          "height": 538
        },
        "id": "ALkHWZJw9aYH",
        "outputId": "1d3f853f-b944-4f4b-e354-16d873f6feb9"
      },
      "source": [
        "dataset.agg(['skew', 'kurtosis']).transpose()"
      ],
      "execution_count": 50,
      "outputs": [
        {
          "output_type": "execute_result",
          "data": {
            "text/html": [
              "<div>\n",
              "<style scoped>\n",
              "    .dataframe tbody tr th:only-of-type {\n",
              "        vertical-align: middle;\n",
              "    }\n",
              "\n",
              "    .dataframe tbody tr th {\n",
              "        vertical-align: top;\n",
              "    }\n",
              "\n",
              "    .dataframe thead th {\n",
              "        text-align: right;\n",
              "    }\n",
              "</style>\n",
              "<table border=\"1\" class=\"dataframe\">\n",
              "  <thead>\n",
              "    <tr style=\"text-align: right;\">\n",
              "      <th></th>\n",
              "      <th>skew</th>\n",
              "      <th>kurtosis</th>\n",
              "    </tr>\n",
              "  </thead>\n",
              "  <tbody>\n",
              "    <tr>\n",
              "      <th>HR</th>\n",
              "      <td>0.421023</td>\n",
              "      <td>0.335243</td>\n",
              "    </tr>\n",
              "    <tr>\n",
              "      <th>O2Sat</th>\n",
              "      <td>-3.428329</td>\n",
              "      <td>42.203636</td>\n",
              "    </tr>\n",
              "    <tr>\n",
              "      <th>Temp</th>\n",
              "      <td>-0.364221</td>\n",
              "      <td>3.015331</td>\n",
              "    </tr>\n",
              "    <tr>\n",
              "      <th>SBP</th>\n",
              "      <td>0.579053</td>\n",
              "      <td>0.455117</td>\n",
              "    </tr>\n",
              "    <tr>\n",
              "      <th>MAP</th>\n",
              "      <td>1.154209</td>\n",
              "      <td>6.502418</td>\n",
              "    </tr>\n",
              "    <tr>\n",
              "      <th>DBP</th>\n",
              "      <td>1.117152</td>\n",
              "      <td>6.016469</td>\n",
              "    </tr>\n",
              "    <tr>\n",
              "      <th>Resp</th>\n",
              "      <td>1.025374</td>\n",
              "      <td>5.187036</td>\n",
              "    </tr>\n",
              "    <tr>\n",
              "      <th>EtCO2</th>\n",
              "      <td>0.319490</td>\n",
              "      <td>3.337348</td>\n",
              "    </tr>\n",
              "    <tr>\n",
              "      <th>FiO2</th>\n",
              "      <td>6.921490</td>\n",
              "      <td>183.087758</td>\n",
              "    </tr>\n",
              "    <tr>\n",
              "      <th>Chloride</th>\n",
              "      <td>-0.015604</td>\n",
              "      <td>1.881875</td>\n",
              "    </tr>\n",
              "    <tr>\n",
              "      <th>PTT</th>\n",
              "      <td>3.164252</td>\n",
              "      <td>12.538243</td>\n",
              "    </tr>\n",
              "    <tr>\n",
              "      <th>WBC</th>\n",
              "      <td>9.620163</td>\n",
              "      <td>240.032958</td>\n",
              "    </tr>\n",
              "    <tr>\n",
              "      <th>Platelets</th>\n",
              "      <td>1.549213</td>\n",
              "      <td>5.374596</td>\n",
              "    </tr>\n",
              "    <tr>\n",
              "      <th>Age</th>\n",
              "      <td>-0.502647</td>\n",
              "      <td>-0.201850</td>\n",
              "    </tr>\n",
              "    <tr>\n",
              "      <th>HospAdmTime</th>\n",
              "      <td>-9.102435</td>\n",
              "      <td>139.486850</td>\n",
              "    </tr>\n",
              "    <tr>\n",
              "      <th>ICULOS</th>\n",
              "      <td>4.033223</td>\n",
              "      <td>24.729198</td>\n",
              "    </tr>\n",
              "  </tbody>\n",
              "</table>\n",
              "</div>"
            ],
            "text/plain": [
              "                 skew    kurtosis\n",
              "HR           0.421023    0.335243\n",
              "O2Sat       -3.428329   42.203636\n",
              "Temp        -0.364221    3.015331\n",
              "SBP          0.579053    0.455117\n",
              "MAP          1.154209    6.502418\n",
              "DBP          1.117152    6.016469\n",
              "Resp         1.025374    5.187036\n",
              "EtCO2        0.319490    3.337348\n",
              "FiO2         6.921490  183.087758\n",
              "Chloride    -0.015604    1.881875\n",
              "PTT          3.164252   12.538243\n",
              "WBC          9.620163  240.032958\n",
              "Platelets    1.549213    5.374596\n",
              "Age         -0.502647   -0.201850\n",
              "HospAdmTime -9.102435  139.486850\n",
              "ICULOS       4.033223   24.729198"
            ]
          },
          "metadata": {
            "tags": []
          },
          "execution_count": 50
        }
      ]
    },
    {
      "cell_type": "code",
      "metadata": {
        "id": "FScNtoUC-JBF"
      },
      "source": [
        "# Python log transform\n",
        "dataset.insert(len(dataset.columns), 'HR_log',\n",
        "         np.log(dataset['HR']))"
      ],
      "execution_count": 51,
      "outputs": []
    },
    {
      "cell_type": "code",
      "metadata": {
        "colab": {
          "base_uri": "https://localhost:8080/",
          "height": 570
        },
        "id": "m9lBjEkP_Kn5",
        "outputId": "5fa34f77-a428-4ba4-dd43-0428c46c0d65"
      },
      "source": [
        "dataset.agg(['skew']).transpose()"
      ],
      "execution_count": 52,
      "outputs": [
        {
          "output_type": "execute_result",
          "data": {
            "text/html": [
              "<div>\n",
              "<style scoped>\n",
              "    .dataframe tbody tr th:only-of-type {\n",
              "        vertical-align: middle;\n",
              "    }\n",
              "\n",
              "    .dataframe tbody tr th {\n",
              "        vertical-align: top;\n",
              "    }\n",
              "\n",
              "    .dataframe thead th {\n",
              "        text-align: right;\n",
              "    }\n",
              "</style>\n",
              "<table border=\"1\" class=\"dataframe\">\n",
              "  <thead>\n",
              "    <tr style=\"text-align: right;\">\n",
              "      <th></th>\n",
              "      <th>skew</th>\n",
              "    </tr>\n",
              "  </thead>\n",
              "  <tbody>\n",
              "    <tr>\n",
              "      <th>HR</th>\n",
              "      <td>0.421023</td>\n",
              "    </tr>\n",
              "    <tr>\n",
              "      <th>O2Sat</th>\n",
              "      <td>-3.428329</td>\n",
              "    </tr>\n",
              "    <tr>\n",
              "      <th>Temp</th>\n",
              "      <td>-0.364221</td>\n",
              "    </tr>\n",
              "    <tr>\n",
              "      <th>SBP</th>\n",
              "      <td>0.579053</td>\n",
              "    </tr>\n",
              "    <tr>\n",
              "      <th>MAP</th>\n",
              "      <td>1.154209</td>\n",
              "    </tr>\n",
              "    <tr>\n",
              "      <th>DBP</th>\n",
              "      <td>1.117152</td>\n",
              "    </tr>\n",
              "    <tr>\n",
              "      <th>Resp</th>\n",
              "      <td>1.025374</td>\n",
              "    </tr>\n",
              "    <tr>\n",
              "      <th>EtCO2</th>\n",
              "      <td>0.319490</td>\n",
              "    </tr>\n",
              "    <tr>\n",
              "      <th>FiO2</th>\n",
              "      <td>6.921490</td>\n",
              "    </tr>\n",
              "    <tr>\n",
              "      <th>Chloride</th>\n",
              "      <td>-0.015604</td>\n",
              "    </tr>\n",
              "    <tr>\n",
              "      <th>PTT</th>\n",
              "      <td>3.164252</td>\n",
              "    </tr>\n",
              "    <tr>\n",
              "      <th>WBC</th>\n",
              "      <td>9.620163</td>\n",
              "    </tr>\n",
              "    <tr>\n",
              "      <th>Platelets</th>\n",
              "      <td>1.549213</td>\n",
              "    </tr>\n",
              "    <tr>\n",
              "      <th>Age</th>\n",
              "      <td>-0.502647</td>\n",
              "    </tr>\n",
              "    <tr>\n",
              "      <th>HospAdmTime</th>\n",
              "      <td>-9.102435</td>\n",
              "    </tr>\n",
              "    <tr>\n",
              "      <th>ICULOS</th>\n",
              "      <td>4.033223</td>\n",
              "    </tr>\n",
              "    <tr>\n",
              "      <th>HR_log</th>\n",
              "      <td>-0.218013</td>\n",
              "    </tr>\n",
              "  </tbody>\n",
              "</table>\n",
              "</div>"
            ],
            "text/plain": [
              "                 skew\n",
              "HR           0.421023\n",
              "O2Sat       -3.428329\n",
              "Temp        -0.364221\n",
              "SBP          0.579053\n",
              "MAP          1.154209\n",
              "DBP          1.117152\n",
              "Resp         1.025374\n",
              "EtCO2        0.319490\n",
              "FiO2         6.921490\n",
              "Chloride    -0.015604\n",
              "PTT          3.164252\n",
              "WBC          9.620163\n",
              "Platelets    1.549213\n",
              "Age         -0.502647\n",
              "HospAdmTime -9.102435\n",
              "ICULOS       4.033223\n",
              "HR_log      -0.218013"
            ]
          },
          "metadata": {
            "tags": []
          },
          "execution_count": 52
        }
      ]
    },
    {
      "cell_type": "code",
      "metadata": {
        "id": "wL991fOvC5Zl"
      },
      "source": [
        "# Python Square root transformation\n",
        "dataset.insert(len(dataset.columns), 'HR_Sqrt',\n",
        "         np.sqrt(dataset['HR']))"
      ],
      "execution_count": 53,
      "outputs": []
    },
    {
      "cell_type": "code",
      "metadata": {
        "colab": {
          "base_uri": "https://localhost:8080/",
          "height": 601
        },
        "id": "jZDwUbmHDYp9",
        "outputId": "65ddacf1-01d5-4d42-8619-7eda8421b3f6"
      },
      "source": [
        "dataset.agg(['skew']).transpose()"
      ],
      "execution_count": 54,
      "outputs": [
        {
          "output_type": "execute_result",
          "data": {
            "text/html": [
              "<div>\n",
              "<style scoped>\n",
              "    .dataframe tbody tr th:only-of-type {\n",
              "        vertical-align: middle;\n",
              "    }\n",
              "\n",
              "    .dataframe tbody tr th {\n",
              "        vertical-align: top;\n",
              "    }\n",
              "\n",
              "    .dataframe thead th {\n",
              "        text-align: right;\n",
              "    }\n",
              "</style>\n",
              "<table border=\"1\" class=\"dataframe\">\n",
              "  <thead>\n",
              "    <tr style=\"text-align: right;\">\n",
              "      <th></th>\n",
              "      <th>skew</th>\n",
              "    </tr>\n",
              "  </thead>\n",
              "  <tbody>\n",
              "    <tr>\n",
              "      <th>HR</th>\n",
              "      <td>0.421023</td>\n",
              "    </tr>\n",
              "    <tr>\n",
              "      <th>O2Sat</th>\n",
              "      <td>-3.428329</td>\n",
              "    </tr>\n",
              "    <tr>\n",
              "      <th>Temp</th>\n",
              "      <td>-0.364221</td>\n",
              "    </tr>\n",
              "    <tr>\n",
              "      <th>SBP</th>\n",
              "      <td>0.579053</td>\n",
              "    </tr>\n",
              "    <tr>\n",
              "      <th>MAP</th>\n",
              "      <td>1.154209</td>\n",
              "    </tr>\n",
              "    <tr>\n",
              "      <th>DBP</th>\n",
              "      <td>1.117152</td>\n",
              "    </tr>\n",
              "    <tr>\n",
              "      <th>Resp</th>\n",
              "      <td>1.025374</td>\n",
              "    </tr>\n",
              "    <tr>\n",
              "      <th>EtCO2</th>\n",
              "      <td>0.319490</td>\n",
              "    </tr>\n",
              "    <tr>\n",
              "      <th>FiO2</th>\n",
              "      <td>6.921490</td>\n",
              "    </tr>\n",
              "    <tr>\n",
              "      <th>Chloride</th>\n",
              "      <td>-0.015604</td>\n",
              "    </tr>\n",
              "    <tr>\n",
              "      <th>PTT</th>\n",
              "      <td>3.164252</td>\n",
              "    </tr>\n",
              "    <tr>\n",
              "      <th>WBC</th>\n",
              "      <td>9.620163</td>\n",
              "    </tr>\n",
              "    <tr>\n",
              "      <th>Platelets</th>\n",
              "      <td>1.549213</td>\n",
              "    </tr>\n",
              "    <tr>\n",
              "      <th>Age</th>\n",
              "      <td>-0.502647</td>\n",
              "    </tr>\n",
              "    <tr>\n",
              "      <th>HospAdmTime</th>\n",
              "      <td>-9.102435</td>\n",
              "    </tr>\n",
              "    <tr>\n",
              "      <th>ICULOS</th>\n",
              "      <td>4.033223</td>\n",
              "    </tr>\n",
              "    <tr>\n",
              "      <th>HR_log</th>\n",
              "      <td>-0.218013</td>\n",
              "    </tr>\n",
              "    <tr>\n",
              "      <th>HR_Sqrt</th>\n",
              "      <td>0.106510</td>\n",
              "    </tr>\n",
              "  </tbody>\n",
              "</table>\n",
              "</div>"
            ],
            "text/plain": [
              "                 skew\n",
              "HR           0.421023\n",
              "O2Sat       -3.428329\n",
              "Temp        -0.364221\n",
              "SBP          0.579053\n",
              "MAP          1.154209\n",
              "DBP          1.117152\n",
              "Resp         1.025374\n",
              "EtCO2        0.319490\n",
              "FiO2         6.921490\n",
              "Chloride    -0.015604\n",
              "PTT          3.164252\n",
              "WBC          9.620163\n",
              "Platelets    1.549213\n",
              "Age         -0.502647\n",
              "HospAdmTime -9.102435\n",
              "ICULOS       4.033223\n",
              "HR_log      -0.218013\n",
              "HR_Sqrt      0.106510"
            ]
          },
          "metadata": {
            "tags": []
          },
          "execution_count": 54
        }
      ]
    },
    {
      "cell_type": "code",
      "metadata": {
        "colab": {
          "base_uri": "https://localhost:8080/"
        },
        "id": "ivSkFzXYD1AG",
        "outputId": "a90353a1-3399-4221-fb25-c3611c7b06fa"
      },
      "source": [
        "dataset.columns"
      ],
      "execution_count": 55,
      "outputs": [
        {
          "output_type": "execute_result",
          "data": {
            "text/plain": [
              "Index(['HR', 'O2Sat', 'Temp', 'SBP', 'MAP', 'DBP', 'Resp', 'EtCO2', 'FiO2',\n",
              "       'Chloride', 'PTT', 'WBC', 'Platelets', 'Age', 'Gender', 'Unit1',\n",
              "       'Unit2', 'HospAdmTime', 'ICULOS', 'SepsisLabel', 'HR_log', 'HR_Sqrt'],\n",
              "      dtype='object')"
            ]
          },
          "metadata": {
            "tags": []
          },
          "execution_count": 55
        }
      ]
    },
    {
      "cell_type": "code",
      "metadata": {
        "colab": {
          "base_uri": "https://localhost:8080/",
          "height": 625
        },
        "id": "hbQb-MREDc7d",
        "outputId": "bd78ff56-04e9-4800-bf35-6d63c1876178"
      },
      "source": [
        "columns=dataset.columns[:21]\n",
        "plt.subplots(figsize=(18,15))\n",
        "length=len(columns)\n",
        "for i,j in itertools.zip_longest(columns,range(length)):\n",
        "    plt.subplot((length/2),3,j+1)\n",
        "    plt.subplots_adjust(wspace=0.2,hspace=0.5)\n",
        "    dataset[i].hist(bins=20,edgecolor='black')\n",
        "    plt.title(i)\n",
        "plt.show()"
      ],
      "execution_count": 56,
      "outputs": [
        {
          "output_type": "display_data",
          "data": {
            "image/png": "[encoded data removed]",
            "text/plain": [
              "<Figure size 1296x1080 with 21 Axes>"
            ]
          },
          "metadata": {
            "tags": [],
            "needs_background": "light"
          }
        }
      ]
    },
    {
      "cell_type": "code",
      "metadata": {
        "id": "TNHDTVbyD9YV"
      },
      "source": [
        "from scipy import stats"
      ],
      "execution_count": 57,
      "outputs": []
    },
    {
      "cell_type": "code",
      "metadata": {
        "id": "2dr-GQIpFsF9"
      },
      "source": [
        "\n",
        "dataset1=dataset.drop(columns=['Gender','Unit1','Unit2','SepsisLabel', 'HospAdmTime'])"
      ],
      "execution_count": 58,
      "outputs": []
    },
    {
      "cell_type": "code",
      "metadata": {
        "id": "asuh0LHBGZmC"
      },
      "source": [
        "dataset1 = imputer.fit_transform(dataset1)"
      ],
      "execution_count": 59,
      "outputs": []
    },
    {
      "cell_type": "code",
      "metadata": {
        "colab": {
          "base_uri": "https://localhost:8080/"
        },
        "id": "HVXU1G2kHKAd",
        "outputId": "802139d5-8d3d-437f-c763-6497e8ddeb58"
      },
      "source": [
        "dataset1.dtype"
      ],
      "execution_count": 60,
      "outputs": [
        {
          "output_type": "execute_result",
          "data": {
            "text/plain": [
              "dtype('float64')"
            ]
          },
          "metadata": {
            "tags": []
          },
          "execution_count": 60
        }
      ]
    },
    {
      "cell_type": "code",
      "metadata": {
        "id": "_H27Wm0CHm0U"
      },
      "source": [
        "import math"
      ],
      "execution_count": 61,
      "outputs": []
    },
    {
      "cell_type": "code",
      "metadata": {
        "id": "PJMM3I3yH2YU"
      },
      "source": [
        "dataset1=np.array(dataset1)"
      ],
      "execution_count": 62,
      "outputs": []
    },
    {
      "cell_type": "code",
      "metadata": {
        "colab": {
          "base_uri": "https://localhost:8080/"
        },
        "id": "f0t5wGoeIAKU",
        "outputId": "f59a9011-8dc8-4d10-a29a-edd796bc58e4"
      },
      "source": [
        "dataset1.dtype"
      ],
      "execution_count": 63,
      "outputs": [
        {
          "output_type": "execute_result",
          "data": {
            "text/plain": [
              "dtype('float64')"
            ]
          },
          "metadata": {
            "tags": []
          },
          "execution_count": 63
        }
      ]
    },
    {
      "cell_type": "code",
      "metadata": {
        "id": "y8x9pNkeIXpE"
      },
      "source": [
        "dataset1 = dataset1.astype(int)"
      ],
      "execution_count": 64,
      "outputs": []
    },
    {
      "cell_type": "code",
      "metadata": {
        "id": "MEpjQMpEExTc"
      },
      "source": [
        "shapiro_test = stats.shapiro(dataset1)"
      ],
      "execution_count": 65,
      "outputs": []
    },
    {
      "cell_type": "code",
      "metadata": {
        "colab": {
          "base_uri": "https://localhost:8080/"
        },
        "id": "FaJcAR8pE1ms",
        "outputId": "c4dd1934-2dcc-413a-a000-d3b8d4d00927"
      },
      "source": [
        "shapiro_test"
      ],
      "execution_count": 66,
      "outputs": [
        {
          "output_type": "execute_result",
          "data": {
            "text/plain": [
              "(0.8890882134437561, 0.0)"
            ]
          },
          "metadata": {
            "tags": []
          },
          "execution_count": 66
        }
      ]
    },
    {
      "cell_type": "code",
      "metadata": {
        "id": "Q4kZmZEbE3GU"
      },
      "source": [
        "k2, p = stats.normaltest(dataset1)"
      ],
      "execution_count": 67,
      "outputs": []
    },
    {
      "cell_type": "code",
      "metadata": {
        "id": "Dv9FlPeZI-w1"
      },
      "source": [
        "alpha = 0.05"
      ],
      "execution_count": 68,
      "outputs": []
    },
    {
      "cell_type": "code",
      "metadata": {
        "id": "KZfFo_fNJK4L"
      },
      "source": [
        "dataset2=dataset"
      ],
      "execution_count": 69,
      "outputs": []
    },
    {
      "cell_type": "code",
      "metadata": {
        "colab": {
          "base_uri": "https://localhost:8080/",
          "height": 202
        },
        "id": "4skvx-pFKWkh",
        "outputId": "bbfd8c5a-711d-46d7-e433-6328bdfe15ef"
      },
      "source": [
        "dataset2.head()"
      ],
      "execution_count": 70,
      "outputs": [
        {
          "output_type": "execute_result",
          "data": {
            "text/html": [
              "<div>\n",
              "<style scoped>\n",
              "    .dataframe tbody tr th:only-of-type {\n",
              "        vertical-align: middle;\n",
              "    }\n",
              "\n",
              "    .dataframe tbody tr th {\n",
              "        vertical-align: top;\n",
              "    }\n",
              "\n",
              "    .dataframe thead th {\n",
              "        text-align: right;\n",
              "    }\n",
              "</style>\n",
              "<table border=\"1\" class=\"dataframe\">\n",
              "  <thead>\n",
              "    <tr style=\"text-align: right;\">\n",
              "      <th></th>\n",
              "      <th>HR</th>\n",
              "      <th>O2Sat</th>\n",
              "      <th>Temp</th>\n",
              "      <th>SBP</th>\n",
              "      <th>MAP</th>\n",
              "      <th>DBP</th>\n",
              "      <th>Resp</th>\n",
              "      <th>EtCO2</th>\n",
              "      <th>FiO2</th>\n",
              "      <th>Chloride</th>\n",
              "      <th>PTT</th>\n",
              "      <th>WBC</th>\n",
              "      <th>Platelets</th>\n",
              "      <th>Age</th>\n",
              "      <th>Gender</th>\n",
              "      <th>Unit1</th>\n",
              "      <th>Unit2</th>\n",
              "      <th>HospAdmTime</th>\n",
              "      <th>ICULOS</th>\n",
              "      <th>SepsisLabel</th>\n",
              "      <th>HR_log</th>\n",
              "      <th>HR_Sqrt</th>\n",
              "    </tr>\n",
              "  </thead>\n",
              "  <tbody>\n",
              "    <tr>\n",
              "      <th>121958</th>\n",
              "      <td>80.0</td>\n",
              "      <td>100.0</td>\n",
              "      <td>NaN</td>\n",
              "      <td>81.0</td>\n",
              "      <td>52.33</td>\n",
              "      <td>NaN</td>\n",
              "      <td>11.0</td>\n",
              "      <td>NaN</td>\n",
              "      <td>NaN</td>\n",
              "      <td>NaN</td>\n",
              "      <td>NaN</td>\n",
              "      <td>NaN</td>\n",
              "      <td>NaN</td>\n",
              "      <td>60.78</td>\n",
              "      <td>0</td>\n",
              "      <td>1.0</td>\n",
              "      <td>0.0</td>\n",
              "      <td>-0.02</td>\n",
              "      <td>27</td>\n",
              "      <td>0</td>\n",
              "      <td>4.382027</td>\n",
              "      <td>8.944272</td>\n",
              "    </tr>\n",
              "    <tr>\n",
              "      <th>671155</th>\n",
              "      <td>99.0</td>\n",
              "      <td>98.0</td>\n",
              "      <td>37.89</td>\n",
              "      <td>107.0</td>\n",
              "      <td>72.00</td>\n",
              "      <td>NaN</td>\n",
              "      <td>27.0</td>\n",
              "      <td>NaN</td>\n",
              "      <td>NaN</td>\n",
              "      <td>108.0</td>\n",
              "      <td>NaN</td>\n",
              "      <td>NaN</td>\n",
              "      <td>NaN</td>\n",
              "      <td>48.32</td>\n",
              "      <td>0</td>\n",
              "      <td>1.0</td>\n",
              "      <td>0.0</td>\n",
              "      <td>-0.02</td>\n",
              "      <td>36</td>\n",
              "      <td>0</td>\n",
              "      <td>4.595120</td>\n",
              "      <td>9.949874</td>\n",
              "    </tr>\n",
              "    <tr>\n",
              "      <th>131932</th>\n",
              "      <td>NaN</td>\n",
              "      <td>NaN</td>\n",
              "      <td>NaN</td>\n",
              "      <td>NaN</td>\n",
              "      <td>NaN</td>\n",
              "      <td>NaN</td>\n",
              "      <td>NaN</td>\n",
              "      <td>NaN</td>\n",
              "      <td>NaN</td>\n",
              "      <td>NaN</td>\n",
              "      <td>NaN</td>\n",
              "      <td>NaN</td>\n",
              "      <td>NaN</td>\n",
              "      <td>80.33</td>\n",
              "      <td>0</td>\n",
              "      <td>0.0</td>\n",
              "      <td>1.0</td>\n",
              "      <td>-1.37</td>\n",
              "      <td>1</td>\n",
              "      <td>0</td>\n",
              "      <td>NaN</td>\n",
              "      <td>NaN</td>\n",
              "    </tr>\n",
              "    <tr>\n",
              "      <th>259178</th>\n",
              "      <td>96.0</td>\n",
              "      <td>100.0</td>\n",
              "      <td>37.72</td>\n",
              "      <td>149.0</td>\n",
              "      <td>70.00</td>\n",
              "      <td>52.0</td>\n",
              "      <td>20.0</td>\n",
              "      <td>NaN</td>\n",
              "      <td>0.35</td>\n",
              "      <td>NaN</td>\n",
              "      <td>NaN</td>\n",
              "      <td>NaN</td>\n",
              "      <td>NaN</td>\n",
              "      <td>84.40</td>\n",
              "      <td>1</td>\n",
              "      <td>0.0</td>\n",
              "      <td>1.0</td>\n",
              "      <td>-95.19</td>\n",
              "      <td>43</td>\n",
              "      <td>1</td>\n",
              "      <td>4.564348</td>\n",
              "      <td>9.797959</td>\n",
              "    </tr>\n",
              "    <tr>\n",
              "      <th>110268</th>\n",
              "      <td>55.0</td>\n",
              "      <td>97.0</td>\n",
              "      <td>NaN</td>\n",
              "      <td>148.0</td>\n",
              "      <td>72.00</td>\n",
              "      <td>NaN</td>\n",
              "      <td>17.0</td>\n",
              "      <td>NaN</td>\n",
              "      <td>NaN</td>\n",
              "      <td>NaN</td>\n",
              "      <td>NaN</td>\n",
              "      <td>NaN</td>\n",
              "      <td>NaN</td>\n",
              "      <td>71.89</td>\n",
              "      <td>1</td>\n",
              "      <td>NaN</td>\n",
              "      <td>NaN</td>\n",
              "      <td>-118.62</td>\n",
              "      <td>29</td>\n",
              "      <td>0</td>\n",
              "      <td>4.007333</td>\n",
              "      <td>7.416198</td>\n",
              "    </tr>\n",
              "  </tbody>\n",
              "</table>\n",
              "</div>"
            ],
            "text/plain": [
              "          HR  O2Sat   Temp    SBP  ...  ICULOS  SepsisLabel    HR_log   HR_Sqrt\n",
              "121958  80.0  100.0    NaN   81.0  ...      27            0  4.382027  8.944272\n",
              "671155  99.0   98.0  37.89  107.0  ...      36            0  4.595120  9.949874\n",
              "131932   NaN    NaN    NaN    NaN  ...       1            0       NaN       NaN\n",
              "259178  96.0  100.0  37.72  149.0  ...      43            1  4.564348  9.797959\n",
              "110268  55.0   97.0    NaN  148.0  ...      29            0  4.007333  7.416198\n",
              "\n",
              "[5 rows x 22 columns]"
            ]
          },
          "metadata": {
            "tags": []
          },
          "execution_count": 70
        }
      ]
    },
    {
      "cell_type": "code",
      "metadata": {
        "colab": {
          "base_uri": "https://localhost:8080/"
        },
        "id": "s9MECx-OKY6a",
        "outputId": "bf6775cb-b98b-4696-afd5-134d1b92bf73"
      },
      "source": [
        "dataset2.columns"
      ],
      "execution_count": 71,
      "outputs": [
        {
          "output_type": "execute_result",
          "data": {
            "text/plain": [
              "Index(['HR', 'O2Sat', 'Temp', 'SBP', 'MAP', 'DBP', 'Resp', 'EtCO2', 'FiO2',\n",
              "       'Chloride', 'PTT', 'WBC', 'Platelets', 'Age', 'Gender', 'Unit1',\n",
              "       'Unit2', 'HospAdmTime', 'ICULOS', 'SepsisLabel', 'HR_log', 'HR_Sqrt'],\n",
              "      dtype='object')"
            ]
          },
          "metadata": {
            "tags": []
          },
          "execution_count": 71
        }
      ]
    },
    {
      "cell_type": "code",
      "metadata": {
        "id": "VxGbcn9mKd7z"
      },
      "source": [
        "cols=['HR', 'O2Sat', 'Temp', 'SBP', 'MAP', 'DBP', 'Resp', 'EtCO2', 'FiO2',\n",
        "       'Chloride', 'PTT', 'WBC', 'Platelets', 'Age',\n",
        "        'HospAdmTime', 'ICULOS']"
      ],
      "execution_count": 72,
      "outputs": []
    },
    {
      "cell_type": "code",
      "metadata": {
        "id": "XNUtVJ9jKpQh"
      },
      "source": [
        "dataset2=dataset2[cols]"
      ],
      "execution_count": 73,
      "outputs": []
    },
    {
      "cell_type": "code",
      "metadata": {
        "colab": {
          "base_uri": "https://localhost:8080/",
          "height": 202
        },
        "id": "haUj6398KutT",
        "outputId": "a37919e2-8292-40ba-ee19-3d2a53dab596"
      },
      "source": [
        "dataset2.head()"
      ],
      "execution_count": 74,
      "outputs": [
        {
          "output_type": "execute_result",
          "data": {
            "text/html": [
              "<div>\n",
              "<style scoped>\n",
              "    .dataframe tbody tr th:only-of-type {\n",
              "        vertical-align: middle;\n",
              "    }\n",
              "\n",
              "    .dataframe tbody tr th {\n",
              "        vertical-align: top;\n",
              "    }\n",
              "\n",
              "    .dataframe thead th {\n",
              "        text-align: right;\n",
              "    }\n",
              "</style>\n",
              "<table border=\"1\" class=\"dataframe\">\n",
              "  <thead>\n",
              "    <tr style=\"text-align: right;\">\n",
              "      <th></th>\n",
              "      <th>HR</th>\n",
              "      <th>O2Sat</th>\n",
              "      <th>Temp</th>\n",
              "      <th>SBP</th>\n",
              "      <th>MAP</th>\n",
              "      <th>DBP</th>\n",
              "      <th>Resp</th>\n",
              "      <th>EtCO2</th>\n",
              "      <th>FiO2</th>\n",
              "      <th>Chloride</th>\n",
              "      <th>PTT</th>\n",
              "      <th>WBC</th>\n",
              "      <th>Platelets</th>\n",
              "      <th>Age</th>\n",
              "      <th>HospAdmTime</th>\n",
              "      <th>ICULOS</th>\n",
              "    </tr>\n",
              "  </thead>\n",
              "  <tbody>\n",
              "    <tr>\n",
              "      <th>121958</th>\n",
              "      <td>80.0</td>\n",
              "      <td>100.0</td>\n",
              "      <td>NaN</td>\n",
              "      <td>81.0</td>\n",
              "      <td>52.33</td>\n",
              "      <td>NaN</td>\n",
              "      <td>11.0</td>\n",
              "      <td>NaN</td>\n",
              "      <td>NaN</td>\n",
              "      <td>NaN</td>\n",
              "      <td>NaN</td>\n",
              "      <td>NaN</td>\n",
              "      <td>NaN</td>\n",
              "      <td>60.78</td>\n",
              "      <td>-0.02</td>\n",
              "      <td>27</td>\n",
              "    </tr>\n",
              "    <tr>\n",
              "      <th>671155</th>\n",
              "      <td>99.0</td>\n",
              "      <td>98.0</td>\n",
              "      <td>37.89</td>\n",
              "      <td>107.0</td>\n",
              "      <td>72.00</td>\n",
              "      <td>NaN</td>\n",
              "      <td>27.0</td>\n",
              "      <td>NaN</td>\n",
              "      <td>NaN</td>\n",
              "      <td>108.0</td>\n",
              "      <td>NaN</td>\n",
              "      <td>NaN</td>\n",
              "      <td>NaN</td>\n",
              "      <td>48.32</td>\n",
              "      <td>-0.02</td>\n",
              "      <td>36</td>\n",
              "    </tr>\n",
              "    <tr>\n",
              "      <th>131932</th>\n",
              "      <td>NaN</td>\n",
              "      <td>NaN</td>\n",
              "      <td>NaN</td>\n",
              "      <td>NaN</td>\n",
              "      <td>NaN</td>\n",
              "      <td>NaN</td>\n",
              "      <td>NaN</td>\n",
              "      <td>NaN</td>\n",
              "      <td>NaN</td>\n",
              "      <td>NaN</td>\n",
              "      <td>NaN</td>\n",
              "      <td>NaN</td>\n",
              "      <td>NaN</td>\n",
              "      <td>80.33</td>\n",
              "      <td>-1.37</td>\n",
              "      <td>1</td>\n",
              "    </tr>\n",
              "    <tr>\n",
              "      <th>259178</th>\n",
              "      <td>96.0</td>\n",
              "      <td>100.0</td>\n",
              "      <td>37.72</td>\n",
              "      <td>149.0</td>\n",
              "      <td>70.00</td>\n",
              "      <td>52.0</td>\n",
              "      <td>20.0</td>\n",
              "      <td>NaN</td>\n",
              "      <td>0.35</td>\n",
              "      <td>NaN</td>\n",
              "      <td>NaN</td>\n",
              "      <td>NaN</td>\n",
              "      <td>NaN</td>\n",
              "      <td>84.40</td>\n",
              "      <td>-95.19</td>\n",
              "      <td>43</td>\n",
              "    </tr>\n",
              "    <tr>\n",
              "      <th>110268</th>\n",
              "      <td>55.0</td>\n",
              "      <td>97.0</td>\n",
              "      <td>NaN</td>\n",
              "      <td>148.0</td>\n",
              "      <td>72.00</td>\n",
              "      <td>NaN</td>\n",
              "      <td>17.0</td>\n",
              "      <td>NaN</td>\n",
              "      <td>NaN</td>\n",
              "      <td>NaN</td>\n",
              "      <td>NaN</td>\n",
              "      <td>NaN</td>\n",
              "      <td>NaN</td>\n",
              "      <td>71.89</td>\n",
              "      <td>-118.62</td>\n",
              "      <td>29</td>\n",
              "    </tr>\n",
              "  </tbody>\n",
              "</table>\n",
              "</div>"
            ],
            "text/plain": [
              "          HR  O2Sat   Temp    SBP  ...  Platelets    Age  HospAdmTime  ICULOS\n",
              "121958  80.0  100.0    NaN   81.0  ...        NaN  60.78        -0.02      27\n",
              "671155  99.0   98.0  37.89  107.0  ...        NaN  48.32        -0.02      36\n",
              "131932   NaN    NaN    NaN    NaN  ...        NaN  80.33        -1.37       1\n",
              "259178  96.0  100.0  37.72  149.0  ...        NaN  84.40       -95.19      43\n",
              "110268  55.0   97.0    NaN  148.0  ...        NaN  71.89      -118.62      29\n",
              "\n",
              "[5 rows x 16 columns]"
            ]
          },
          "metadata": {
            "tags": []
          },
          "execution_count": 74
        }
      ]
    },
    {
      "cell_type": "code",
      "metadata": {
        "id": "tXxTVfJhKxsz"
      },
      "source": [
        "dataset2 = imputer.fit_transform(dataset2)"
      ],
      "execution_count": 75,
      "outputs": []
    },
    {
      "cell_type": "code",
      "metadata": {
        "id": "ePuPvzidLLlr"
      },
      "source": [
        "dataset2= pd.DataFrame(dataset2, columns=cols)"
      ],
      "execution_count": 76,
      "outputs": []
    },
    {
      "cell_type": "code",
      "metadata": {
        "colab": {
          "base_uri": "https://localhost:8080/",
          "height": 202
        },
        "id": "hoqFSw8vLvRN",
        "outputId": "eba84027-0855-4419-dc92-3099ebc0b599"
      },
      "source": [
        "dataset2.head()"
      ],
      "execution_count": 77,
      "outputs": [
        {
          "output_type": "execute_result",
          "data": {
            "text/html": [
              "<div>\n",
              "<style scoped>\n",
              "    .dataframe tbody tr th:only-of-type {\n",
              "        vertical-align: middle;\n",
              "    }\n",
              "\n",
              "    .dataframe tbody tr th {\n",
              "        vertical-align: top;\n",
              "    }\n",
              "\n",
              "    .dataframe thead th {\n",
              "        text-align: right;\n",
              "    }\n",
              "</style>\n",
              "<table border=\"1\" class=\"dataframe\">\n",
              "  <thead>\n",
              "    <tr style=\"text-align: right;\">\n",
              "      <th></th>\n",
              "      <th>HR</th>\n",
              "      <th>O2Sat</th>\n",
              "      <th>Temp</th>\n",
              "      <th>SBP</th>\n",
              "      <th>MAP</th>\n",
              "      <th>DBP</th>\n",
              "      <th>Resp</th>\n",
              "      <th>EtCO2</th>\n",
              "      <th>FiO2</th>\n",
              "      <th>Chloride</th>\n",
              "      <th>PTT</th>\n",
              "      <th>WBC</th>\n",
              "      <th>Platelets</th>\n",
              "      <th>Age</th>\n",
              "      <th>HospAdmTime</th>\n",
              "      <th>ICULOS</th>\n",
              "    </tr>\n",
              "  </thead>\n",
              "  <tbody>\n",
              "    <tr>\n",
              "      <th>0</th>\n",
              "      <td>80.0</td>\n",
              "      <td>100.0</td>\n",
              "      <td>37.00</td>\n",
              "      <td>81.0</td>\n",
              "      <td>52.33</td>\n",
              "      <td>61.0</td>\n",
              "      <td>11.0</td>\n",
              "      <td>33.5</td>\n",
              "      <td>0.50</td>\n",
              "      <td>106.0</td>\n",
              "      <td>32.3</td>\n",
              "      <td>10.4</td>\n",
              "      <td>182.0</td>\n",
              "      <td>60.78</td>\n",
              "      <td>-0.02</td>\n",
              "      <td>27.0</td>\n",
              "    </tr>\n",
              "    <tr>\n",
              "      <th>1</th>\n",
              "      <td>99.0</td>\n",
              "      <td>98.0</td>\n",
              "      <td>37.89</td>\n",
              "      <td>107.0</td>\n",
              "      <td>72.00</td>\n",
              "      <td>61.0</td>\n",
              "      <td>27.0</td>\n",
              "      <td>33.5</td>\n",
              "      <td>0.50</td>\n",
              "      <td>108.0</td>\n",
              "      <td>32.3</td>\n",
              "      <td>10.4</td>\n",
              "      <td>182.0</td>\n",
              "      <td>48.32</td>\n",
              "      <td>-0.02</td>\n",
              "      <td>36.0</td>\n",
              "    </tr>\n",
              "    <tr>\n",
              "      <th>2</th>\n",
              "      <td>83.5</td>\n",
              "      <td>98.0</td>\n",
              "      <td>37.00</td>\n",
              "      <td>120.0</td>\n",
              "      <td>79.00</td>\n",
              "      <td>61.0</td>\n",
              "      <td>18.0</td>\n",
              "      <td>33.5</td>\n",
              "      <td>0.50</td>\n",
              "      <td>106.0</td>\n",
              "      <td>32.3</td>\n",
              "      <td>10.4</td>\n",
              "      <td>182.0</td>\n",
              "      <td>80.33</td>\n",
              "      <td>-1.37</td>\n",
              "      <td>1.0</td>\n",
              "    </tr>\n",
              "    <tr>\n",
              "      <th>3</th>\n",
              "      <td>96.0</td>\n",
              "      <td>100.0</td>\n",
              "      <td>37.72</td>\n",
              "      <td>149.0</td>\n",
              "      <td>70.00</td>\n",
              "      <td>52.0</td>\n",
              "      <td>20.0</td>\n",
              "      <td>33.5</td>\n",
              "      <td>0.35</td>\n",
              "      <td>106.0</td>\n",
              "      <td>32.3</td>\n",
              "      <td>10.4</td>\n",
              "      <td>182.0</td>\n",
              "      <td>84.40</td>\n",
              "      <td>-95.19</td>\n",
              "      <td>43.0</td>\n",
              "    </tr>\n",
              "    <tr>\n",
              "      <th>4</th>\n",
              "      <td>55.0</td>\n",
              "      <td>97.0</td>\n",
              "      <td>37.00</td>\n",
              "      <td>148.0</td>\n",
              "      <td>72.00</td>\n",
              "      <td>61.0</td>\n",
              "      <td>17.0</td>\n",
              "      <td>33.5</td>\n",
              "      <td>0.50</td>\n",
              "      <td>106.0</td>\n",
              "      <td>32.3</td>\n",
              "      <td>10.4</td>\n",
              "      <td>182.0</td>\n",
              "      <td>71.89</td>\n",
              "      <td>-118.62</td>\n",
              "      <td>29.0</td>\n",
              "    </tr>\n",
              "  </tbody>\n",
              "</table>\n",
              "</div>"
            ],
            "text/plain": [
              "     HR  O2Sat   Temp    SBP  ...  Platelets    Age  HospAdmTime  ICULOS\n",
              "0  80.0  100.0  37.00   81.0  ...      182.0  60.78        -0.02    27.0\n",
              "1  99.0   98.0  37.89  107.0  ...      182.0  48.32        -0.02    36.0\n",
              "2  83.5   98.0  37.00  120.0  ...      182.0  80.33        -1.37     1.0\n",
              "3  96.0  100.0  37.72  149.0  ...      182.0  84.40       -95.19    43.0\n",
              "4  55.0   97.0  37.00  148.0  ...      182.0  71.89      -118.62    29.0\n",
              "\n",
              "[5 rows x 16 columns]"
            ]
          },
          "metadata": {
            "tags": []
          },
          "execution_count": 77
        }
      ]
    },
    {
      "cell_type": "code",
      "metadata": {
        "colab": {
          "base_uri": "https://localhost:8080/",
          "height": 1000
        },
        "id": "DbNndCDRLxek",
        "outputId": "c3c61b57-fa05-47ff-cbbe-c6cb30e33ab0"
      },
      "source": [
        "import statsmodels.api as sm\n",
        "import pylab\n",
        "\n",
        "for i, val in enumerate(dataset2):\n",
        "    print('QQ plot of:', val)\n",
        "    sm.qqplot(dataset2[val], line='s')\n",
        "    plt.show()"
      ],
      "execution_count": 78,
      "outputs": [
        {
          "output_type": "stream",
          "text": [
            "QQ plot of: HR\n"
          ],
          "name": "stdout"
        },
        {
          "output_type": "display_data",
          "data": {
            "image/png": "[encoded data removed]",
            "text/plain": [
              "<Figure size 1440x216 with 1 Axes>"
            ]
          },
          "metadata": {
            "tags": [],
            "needs_background": "light"
          }
        },
        {
          "output_type": "stream",
          "text": [
            "QQ plot of: O2Sat\n"
          ],
          "name": "stdout"
        },
        {
          "output_type": "display_data",
          "data": {
            "image/png": "[encoded data removed]",
            "text/plain": [
              "<Figure size 1440x216 with 1 Axes>"
            ]
          },
          "metadata": {
            "tags": [],
            "needs_background": "light"
          }
        },
        {
          "output_type": "stream",
          "text": [
            "QQ plot of: Temp\n"
          ],
          "name": "stdout"
        },
        {
          "output_type": "display_data",
          "data": {
            "image/png": "[encoded data removed]",
            "text/plain": [
              "<Figure size 1440x216 with 1 Axes>"
            ]
          },
          "metadata": {
            "tags": [],
            "needs_background": "light"
          }
        },
        {
          "output_type": "stream",
          "text": [
            "QQ plot of: SBP\n"
          ],
          "name": "stdout"
        },
        {
          "output_type": "display_data",
          "data": {
            "image/png": "[encoded data removed]",
            "text/plain": [
              "<Figure size 1440x216 with 1 Axes>"
            ]
          },
          "metadata": {
            "tags": [],
            "needs_background": "light"
          }
        },
        {
          "output_type": "stream",
          "text": [
            "QQ plot of: MAP\n"
          ],
          "name": "stdout"
        },
        {
          "output_type": "display_data",
          "data": {
            "image/png": "[encoded data removed]",
            "text/plain": [
              "<Figure size 1440x216 with 1 Axes>"
            ]
          },
          "metadata": {
            "tags": [],
            "needs_background": "light"
          }
        },
        {
          "output_type": "stream",
          "text": [
            "QQ plot of: DBP\n"
          ],
          "name": "stdout"
        },
        {
          "output_type": "display_data",
          "data": {
            "image/png": "[encoded data removed]",
            "text/plain": [
              "<Figure size 1440x216 with 1 Axes>"
            ]
          },
          "metadata": {
            "tags": [],
            "needs_background": "light"
          }
        },
        {
          "output_type": "stream",
          "text": [
            "QQ plot of: Resp\n"
          ],
          "name": "stdout"
        },
        {
          "output_type": "display_data",
          "data": {
            "image/png": "[encoded data removed]",
            "text/plain": [
              "<Figure size 1440x216 with 1 Axes>"
            ]
          },
          "metadata": {
            "tags": [],
            "needs_background": "light"
          }
        },
        {
          "output_type": "stream",
          "text": [
            "QQ plot of: EtCO2\n"
          ],
          "name": "stdout"
        },
        {
          "output_type": "display_data",
          "data": {
            "image/png": "[encoded data removed]",
            "text/plain": [
              "<Figure size 1440x216 with 1 Axes>"
            ]
          },
          "metadata": {
            "tags": [],
            "needs_background": "light"
          }
        },
        {
          "output_type": "stream",
          "text": [
            "QQ plot of: FiO2\n"
          ],
          "name": "stdout"
        },
        {
          "output_type": "display_data",
          "data": {
            "image/png": "[encoded data removed]",
            "text/plain": [
              "<Figure size 1440x216 with 1 Axes>"
            ]
          },
          "metadata": {
            "tags": [],
            "needs_background": "light"
          }
        },
        {
          "output_type": "stream",
          "text": [
            "QQ plot of: Chloride\n"
          ],
          "name": "stdout"
        },
        {
          "output_type": "display_data",
          "data": {
            "image/png": "[encoded data removed]",
            "text/plain": [
              "<Figure size 1440x216 with 1 Axes>"
            ]
          },
          "metadata": {
            "tags": [],
            "needs_background": "light"
          }
        },
        {
          "output_type": "stream",
          "text": [
            "QQ plot of: PTT\n"
          ],
          "name": "stdout"
        },
        {
          "output_type": "display_data",
          "data": {
            "image/png": "[encoded data removed]",
            "text/plain": [
              "<Figure size 1440x216 with 1 Axes>"
            ]
          },
          "metadata": {
            "tags": [],
            "needs_background": "light"
          }
        },
        {
          "output_type": "stream",
          "text": [
            "QQ plot of: WBC\n"
          ],
          "name": "stdout"
        },
        {
          "output_type": "display_data",
          "data": {
            "image/png": "[encoded data removed]",
            "text/plain": [
              "<Figure size 1440x216 with 1 Axes>"
            ]
          },
          "metadata": {
            "tags": [],
            "needs_background": "light"
          }
        },
        {
          "output_type": "stream",
          "text": [
            "QQ plot of: Platelets\n"
          ],
          "name": "stdout"
        },
        {
          "output_type": "display_data",
          "data": {
            "image/png": "[encoded data removed]",
            "text/plain": [
              "<Figure size 1440x216 with 1 Axes>"
            ]
          },
          "metadata": {
            "tags": [],
            "needs_background": "light"
          }
        },
        {
          "output_type": "stream",
          "text": [
            "QQ plot of: Age\n"
          ],
          "name": "stdout"
        },
        {
          "output_type": "display_data",
          "data": {
            "image/png": "[encoded data removed]",
            "text/plain": [
              "<Figure size 1440x216 with 1 Axes>"
            ]
          },
          "metadata": {
            "tags": [],
            "needs_background": "light"
          }
        },
        {
          "output_type": "stream",
          "text": [
            "QQ plot of: HospAdmTime\n"
          ],
          "name": "stdout"
        },
        {
          "output_type": "display_data",
          "data": {
            "image/png": "[encoded data removed]",
            "text/plain": [
              "<Figure size 1440x216 with 1 Axes>"
            ]
          },
          "metadata": {
            "tags": [],
            "needs_background": "light"
          }
        },
        {
          "output_type": "stream",
          "text": [
            "QQ plot of: ICULOS\n"
          ],
          "name": "stdout"
        },
        {
          "output_type": "display_data",
          "data": {
            "image/png": "[encoded data removed]",
            "text/plain": [
              "<Figure size 1440x216 with 1 Axes>"
            ]
          },
          "metadata": {
            "tags": [],
            "needs_background": "light"
          }
        }
      ]
    },
    {
      "cell_type": "code",
      "metadata": {
        "colab": {
          "base_uri": "https://localhost:8080/",
          "height": 988
        },
        "id": "cHZYbIphL8jz",
        "outputId": "6fc7955c-dd63-44a5-bd71-24c1ae9eaf2f"
      },
      "source": [
        "dataset2.hist(layout=(8,2),color='blue', figsize=(15,15), grid=False)\n",
        "plt.suptitle(\"Histogram Plots for all Numeric Variables\")"
      ],
      "execution_count": 79,
      "outputs": [
        {
          "output_type": "execute_result",
          "data": {
            "text/plain": [
              "Text(0.5, 0.98, 'Histogram Plots for all Numeric Variables')"
            ]
          },
          "metadata": {
            "tags": []
          },
          "execution_count": 79
        },
        {
          "output_type": "display_data",
          "data": {
            "image/png": "[encoded data removed]",
            "text/plain": [
              "<Figure size 1080x1080 with 16 Axes>"
            ]
          },
          "metadata": {
            "tags": [],
            "needs_background": "light"
          }
        }
      ]
    },
    {
      "cell_type": "code",
      "metadata": {
        "id": "9YVi4K2JM5Xd"
      },
      "source": [
        "from scipy import stats\n",
        "\n",
        "k2, p = stats.normaltest(dataset2)"
      ],
      "execution_count": 80,
      "outputs": []
    },
    {
      "cell_type": "code",
      "metadata": {
        "id": "SqT6rawQNE6E"
      },
      "source": [
        "\n",
        "alpha = 0.05"
      ],
      "execution_count": 81,
      "outputs": []
    },
    {
      "cell_type": "code",
      "metadata": {
        "id": "QGQVClAINdC5"
      },
      "source": [
        ""
      ],
      "execution_count": 81,
      "outputs": []
    },
    {
      "cell_type": "code",
      "metadata": {
        "colab": {
          "base_uri": "https://localhost:8080/"
        },
        "id": "iG21KrY4NqHY",
        "outputId": "e00911f1-0069-4ae1-f83a-49789bb429a4"
      },
      "source": [
        "cols"
      ],
      "execution_count": 82,
      "outputs": [
        {
          "output_type": "execute_result",
          "data": {
            "text/plain": [
              "['HR',\n",
              " 'O2Sat',\n",
              " 'Temp',\n",
              " 'SBP',\n",
              " 'MAP',\n",
              " 'DBP',\n",
              " 'Resp',\n",
              " 'EtCO2',\n",
              " 'FiO2',\n",
              " 'Chloride',\n",
              " 'PTT',\n",
              " 'WBC',\n",
              " 'Platelets',\n",
              " 'Age',\n",
              " 'HospAdmTime',\n",
              " 'ICULOS']"
            ]
          },
          "metadata": {
            "tags": []
          },
          "execution_count": 82
        }
      ]
    },
    {
      "cell_type": "code",
      "metadata": {
        "colab": {
          "base_uri": "https://localhost:8080/"
        },
        "id": "yMuinJ5UNHjj",
        "outputId": "e36b89f0-0cf0-4ada-ee35-ed2f2c1c1db2"
      },
      "source": [
        "for i in cols:\n",
        "    print ([i])\n",
        "    a,b= stats.normaltest(dataset2[[i]])\n",
        "    print (a, b)\n",
        "    if b < alpha:  \n",
        "        print(\"The null hypothesis can be rejected\")\n",
        "    else:\n",
        "        print(\"The null hypothesis cannot be rejected\")"
      ],
      "execution_count": 83,
      "outputs": [
        {
          "output_type": "stream",
          "text": [
            "['HR']\n",
            "[4291.72578534] [0.]\n",
            "The null hypothesis can be rejected\n",
            "['O2Sat']\n",
            "[87596.65818689] [0.]\n",
            "The null hypothesis can be rejected\n",
            "['Temp']\n",
            "[27107.90002601] [0.]\n",
            "The null hypothesis can be rejected\n",
            "['SBP']\n",
            "[8589.44223157] [0.]\n",
            "The null hypothesis can be rejected\n",
            "['MAP']\n",
            "[31636.55361958] [0.]\n",
            "The null hypothesis can be rejected\n",
            "['DBP']\n",
            "[40803.57971098] [0.]\n",
            "The null hypothesis can be rejected\n",
            "['Resp']\n",
            "[27837.54144233] [0.]\n",
            "The null hypothesis can be rejected\n",
            "['EtCO2']\n",
            "[60897.23015507] [0.]\n",
            "The null hypothesis can be rejected\n",
            "['FiO2']\n",
            "[233103.52036475] [0.]\n",
            "The null hypothesis can be rejected\n",
            "['Chloride']\n",
            "[37166.95564575] [0.]\n",
            "The null hypothesis can be rejected\n",
            "['PTT']\n",
            "[212817.0031669] [0.]\n",
            "The null hypothesis can be rejected\n",
            "['WBC']\n",
            "[284289.12184281] [0.]\n",
            "The null hypothesis can be rejected\n",
            "['Platelets']\n",
            "[138613.84159654] [0.]\n",
            "The null hypothesis can be rejected\n",
            "['Age']\n",
            "[3977.00216493] [0.]\n",
            "The null hypothesis can be rejected\n",
            "['HospAdmTime']\n",
            "[148728.4778496] [0.]\n",
            "The null hypothesis can be rejected\n",
            "['ICULOS']\n",
            "[85197.36421325] [0.]\n",
            "The null hypothesis can be rejected\n"
          ],
          "name": "stdout"
        }
      ]
    },
    {
      "cell_type": "code",
      "metadata": {
        "colab": {
          "base_uri": "https://localhost:8080/"
        },
        "id": "TWRNyCIKNM1D",
        "outputId": "76281bdd-952e-4ca7-8333-994e068b81b2"
      },
      "source": [
        "for i in cols:\n",
        "    print ([i])\n",
        "    a,b= stats.jarque_bera(dataset2[[i]])\n",
        "    print (\"Statistics\", a, \"p-value\", b)\n",
        "    if b < alpha:  \n",
        "        print(\"The null hypothesis can be rejected\")\n",
        "    else:\n",
        "        print(\"The null hypothesis cannot be rejected\")"
      ],
      "execution_count": 84,
      "outputs": [
        {
          "output_type": "stream",
          "text": [
            "['HR']\n",
            "Statistics 5417.102568721224 p-value 0.0\n",
            "The null hypothesis can be rejected\n",
            "['O2Sat']\n",
            "Statistics 9933507.032283302 p-value 0.0\n",
            "The null hypothesis can be rejected\n",
            "['Temp']\n",
            "Statistics 936327.1137670351 p-value 0.0\n",
            "The null hypothesis can be rejected\n",
            "['SBP']\n",
            "Statistics 12659.538636918698 p-value 0.0\n",
            "The null hypothesis can be rejected\n",
            "['MAP']\n",
            "Statistics 279216.85401938175 p-value 0.0\n",
            "The null hypothesis can be rejected\n",
            "['DBP']\n",
            "Statistics 595689.423125516 p-value 0.0\n",
            "The null hypothesis can be rejected\n",
            "['Resp']\n",
            "Statistics 196945.08868870192 p-value 0.0\n",
            "The null hypothesis can be rejected\n",
            "['EtCO2']\n",
            "Statistics 275374496.6169818 p-value 0.0\n",
            "The null hypothesis can be rejected\n",
            "['FiO2']\n",
            "Statistics 13596668847.428186 p-value 0.0\n",
            "The null hypothesis can be rejected\n",
            "['Chloride']\n",
            "Statistics 26896313.18242718 p-value 0.0\n",
            "The null hypothesis can be rejected\n",
            "['PTT']\n",
            "Statistics 893321298.7729198 p-value 0.0\n",
            "The null hypothesis can be rejected\n",
            "['WBC']\n",
            "Statistics 51522862848.79261 p-value 0.0\n",
            "The null hypothesis can be rejected\n",
            "['Platelets']\n",
            "Statistics 87840845.43276626 p-value 0.0\n",
            "The null hypothesis can be rejected\n",
            "['Age']\n",
            "Statistics 4380.613573580462 p-value 0.0\n",
            "The null hypothesis can be rejected\n",
            "['HospAdmTime']\n",
            "Statistics 82446156.21596117 p-value 0.0\n",
            "The null hypothesis can be rejected\n",
            "['ICULOS']\n",
            "Statistics 2818894.6629787292 p-value 0.0\n",
            "The null hypothesis can be rejected\n"
          ],
          "name": "stdout"
        }
      ]
    },
    {
      "cell_type": "code",
      "metadata": {
        "colab": {
          "base_uri": "https://localhost:8080/"
        },
        "id": "0ho41Y4sNyMT",
        "outputId": "30d605fa-2044-421d-9580-db02ed9b040f"
      },
      "source": [
        "for i in cols:\n",
        "    print ([i])\n",
        "    a= stats.anderson(dataset2[i], dist='norm')\n",
        "    print (a)\n",
        "    if a[0] > a[1][2]:  \n",
        "        print(\"The null hypothesis can be rejected at\", a[2][2],\"% significance level\")\n",
        "    else:\n",
        "        print(\"The null hypothesis cannot be rejected\")"
      ],
      "execution_count": 85,
      "outputs": [
        {
          "output_type": "stream",
          "text": [
            "['HR']\n",
            "AndersonResult(statistic=417.73669888664153, critical_values=array([0.576, 0.656, 0.787, 0.918, 1.092]), significance_level=array([15. , 10. ,  5. ,  2.5,  1. ]))\n",
            "The null hypothesis can be rejected at 5.0 % significance level\n",
            "['O2Sat']\n",
            "AndersonResult(statistic=3357.0311352503923, critical_values=array([0.576, 0.656, 0.787, 0.918, 1.092]), significance_level=array([15. , 10. ,  5. ,  2.5,  1. ]))\n",
            "The null hypothesis can be rejected at 5.0 % significance level\n",
            "['Temp']\n",
            "AndersonResult(statistic=13876.5125662637, critical_values=array([0.576, 0.656, 0.787, 0.918, 1.092]), significance_level=array([15. , 10. ,  5. ,  2.5,  1. ]))\n",
            "The null hypothesis can be rejected at 5.0 % significance level\n",
            "['SBP']\n",
            "AndersonResult(statistic=1030.7268658652174, critical_values=array([0.576, 0.656, 0.787, 0.918, 1.092]), significance_level=array([15. , 10. ,  5. ,  2.5,  1. ]))\n",
            "The null hypothesis can be rejected at 5.0 % significance level\n",
            "['MAP']\n",
            "AndersonResult(statistic=1115.7028502827307, critical_values=array([0.576, 0.656, 0.787, 0.918, 1.092]), significance_level=array([15. , 10. ,  5. ,  2.5,  1. ]))\n",
            "The null hypothesis can be rejected at 5.0 % significance level\n",
            "['DBP']\n",
            "AndersonResult(statistic=4795.341925623798, critical_values=array([0.576, 0.656, 0.787, 0.918, 1.092]), significance_level=array([15. , 10. ,  5. ,  2.5,  1. ]))\n",
            "The null hypothesis can be rejected at 5.0 % significance level\n",
            "['Resp']\n",
            "AndersonResult(statistic=1480.1872416658734, critical_values=array([0.576, 0.656, 0.787, 0.918, 1.092]), significance_level=array([15. , 10. ,  5. ,  2.5,  1. ]))\n",
            "The null hypothesis can be rejected at 5.0 % significance level\n",
            "['EtCO2']\n",
            "AndersonResult(statistic=35850.1429485016, critical_values=array([0.576, 0.656, 0.787, 0.918, 1.092]), significance_level=array([15. , 10. ,  5. ,  2.5,  1. ]))\n",
            "The null hypothesis can be rejected at 5.0 % significance level\n",
            "['FiO2']\n",
            "AndersonResult(statistic=31015.66456336972, critical_values=array([0.576, 0.656, 0.787, 0.918, 1.092]), significance_level=array([15. , 10. ,  5. ,  2.5,  1. ]))\n",
            "The null hypothesis can be rejected at 5.0 % significance level\n",
            "['Chloride']\n",
            "AndersonResult(statistic=32469.969217371487, critical_values=array([0.576, 0.656, 0.787, 0.918, 1.092]), significance_level=array([15. , 10. ,  5. ,  2.5,  1. ]))\n",
            "The null hypothesis can be rejected at 5.0 % significance level\n",
            "['PTT']\n",
            "AndersonResult(statistic=35488.48588169686, critical_values=array([0.576, 0.656, 0.787, 0.918, 1.092]), significance_level=array([15. , 10. ,  5. ,  2.5,  1. ]))\n",
            "The null hypothesis can be rejected at 5.0 % significance level\n",
            "['WBC']\n",
            "AndersonResult(statistic=31893.601994209894, critical_values=array([0.576, 0.656, 0.787, 0.918, 1.092]), significance_level=array([15. , 10. ,  5. ,  2.5,  1. ]))\n",
            "The null hypothesis can be rejected at 5.0 % significance level\n",
            "['Platelets']\n",
            "AndersonResult(statistic=32281.92113909952, critical_values=array([0.576, 0.656, 0.787, 0.918, 1.092]), significance_level=array([15. , 10. ,  5. ,  2.5,  1. ]))\n",
            "The null hypothesis can be rejected at 5.0 % significance level\n",
            "['Age']\n",
            "AndersonResult(statistic=628.8800751752133, critical_values=array([0.576, 0.656, 0.787, 0.918, 1.092]), significance_level=array([15. , 10. ,  5. ,  2.5,  1. ]))\n",
            "The null hypothesis can be rejected at 5.0 % significance level\n",
            "['HospAdmTime']\n",
            "AndersonResult(statistic=18926.45263845641, critical_values=array([0.576, 0.656, 0.787, 0.918, 1.092]), significance_level=array([15. , 10. ,  5. ,  2.5,  1. ]))\n",
            "The null hypothesis can be rejected at 5.0 % significance level\n",
            "['ICULOS']\n",
            "AndersonResult(statistic=6488.608527964039, critical_values=array([0.576, 0.656, 0.787, 0.918, 1.092]), significance_level=array([15. , 10. ,  5. ,  2.5,  1. ]))\n",
            "The null hypothesis can be rejected at 5.0 % significance level\n"
          ],
          "name": "stdout"
        }
      ]
    },
    {
      "cell_type": "code",
      "metadata": {
        "colab": {
          "base_uri": "https://localhost:8080/"
        },
        "id": "Oeb5bXypShf_",
        "outputId": "206dc3ea-a2d8-4c3f-f00a-b0fd5a1a2f69"
      },
      "source": [
        "for i in cols:\n",
        "    print ([i])\n",
        "    a,b= stats.kstest(dataset2[[i]], 'norm')\n",
        "    print (\"Statistics\", a, \"p-value\", b)\n",
        "    if b < alpha:  \n",
        "        print(\"The null hypothesis can be rejected\")\n",
        "    else:\n",
        "        print(\"The null hypothesis cannot be rejected\")"
      ],
      "execution_count": null,
      "outputs": [
        {
          "output_type": "stream",
          "text": [
            "['HR']\n"
          ],
          "name": "stdout"
        }
      ]
    },
    {
      "cell_type": "code",
      "metadata": {
        "id": "qWrLIjEtSldR"
      },
      "source": [
        "for i in cols:\n",
        "    print ([i])\n",
        "    a,b= stats.shapiro(dataset2[[i]])\n",
        "    print (\"Statistics\", a, \"p-value\", b)\n",
        "    if b < alpha:  \n",
        "        print(\"The null hypothesis can be rejected\")\n",
        "    else:\n",
        "        print(\"The null hypothesis cannot be rejected\")"
      ],
      "execution_count": null,
      "outputs": []
    }
  ]
}