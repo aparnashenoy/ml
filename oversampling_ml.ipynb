{
  "nbformat": 4,
  "nbformat_minor": 0,
  "metadata": {
    "colab": {
      "name": "oversampling_ml.ipynb",
      "provenance": [],
      "authorship_tag": "ABX9TyObdqEO65msPPMssAJ9NxCX",
      "include_colab_link": true
    },
    "kernelspec": {
      "name": "python3",
      "display_name": "Python 3"
    }
  },
  "cells": [
    {
      "cell_type": "markdown",
      "metadata": {
        "id": "view-in-github",
        "colab_type": "text"
      },
      "source": [
        "<a href=\"https://colab.research.google.com/github/aparnashenoy/ml/blob/master/oversampling_ml.ipynb\" target=\"_parent\"><img src=\"https://colab.research.google.com/assets/colab-badge.svg\" alt=\"Open In Colab\"/></a>"
      ]
    },
    {
      "cell_type": "code",
      "metadata": {
        "id": "pwu-4jnWUdMv",
        "colab": {
          "base_uri": "https://localhost:8080/"
        },
        "outputId": "69740934-9c68-42cc-b4c4-3828dfd7d1a3"
      },
      "source": [
        "from google.colab import drive\r\n",
        "drive.mount('/gdrive')"
      ],
      "execution_count": 1,
      "outputs": [
        {
          "output_type": "stream",
          "text": [
            "Mounted at /gdrive\n"
          ],
          "name": "stdout"
        }
      ]
    },
    {
      "cell_type": "code",
      "metadata": {
        "id": "W-LZ79fN5WBa"
      },
      "source": [
        "path = '/gdrive/My Drive/'"
      ],
      "execution_count": 2,
      "outputs": []
    },
    {
      "cell_type": "code",
      "metadata": {
        "id": "qICOoDi-5c3Q"
      },
      "source": [
        "import numpy as np\r\n",
        "import pandas as pd\r\n",
        "import matplotlib.pyplot as plt\r\n",
        "%matplotlib inline\r\n",
        "import seaborn as sns"
      ],
      "execution_count": 3,
      "outputs": []
    },
    {
      "cell_type": "code",
      "metadata": {
        "id": "wN2wivlI5j1s"
      },
      "source": [
        "from matplotlib import rcParams\r\n",
        "rcParams['figure.figsize'] = 20, 14"
      ],
      "execution_count": 4,
      "outputs": []
    },
    {
      "cell_type": "code",
      "metadata": {
        "id": "LCdnCds25nhj"
      },
      "source": [
        "df = pd.read_csv(path + 'data_cvs_resp.csv')"
      ],
      "execution_count": 81,
      "outputs": []
    },
    {
      "cell_type": "code",
      "metadata": {
        "id": "llwasmRG5qQb"
      },
      "source": [
        "df.drop(['Unnamed: 0'], axis = 1, inplace= True)"
      ],
      "execution_count": 82,
      "outputs": []
    },
    {
      "cell_type": "code",
      "metadata": {
        "colab": {
          "base_uri": "https://localhost:8080/"
        },
        "id": "noHcEvEm5xB7",
        "outputId": "2d127b5a-5d67-4757-efc7-d670aba6ecc0"
      },
      "source": [
        "cols=df.shape[1]\r\n",
        "print(\"columns = {}\".format(cols))"
      ],
      "execution_count": 83,
      "outputs": [
        {
          "output_type": "stream",
          "text": [
            "columns = 9\n"
          ],
          "name": "stdout"
        }
      ]
    },
    {
      "cell_type": "code",
      "metadata": {
        "colab": {
          "base_uri": "https://localhost:8080/"
        },
        "id": "JNvn2cxb516k",
        "outputId": "7c25abb7-d569-41e5-b346-7b8489827d8d"
      },
      "source": [
        "df.columns = map(str.lower, df.columns)\r\n",
        "df.columns"
      ],
      "execution_count": 84,
      "outputs": [
        {
          "output_type": "execute_result",
          "data": {
            "text/plain": [
              "Index(['hr', 'o2sat', 'sbp', 'map', 'dbp', 'resp', 'age', 'gender',\n",
              "       'sepsislabel'],\n",
              "      dtype='object')"
            ]
          },
          "metadata": {
            "tags": []
          },
          "execution_count": 84
        }
      ]
    },
    {
      "cell_type": "code",
      "metadata": {
        "id": "EexlaLRR55rj"
      },
      "source": [
        "df['sepsislabel'] = df['sepsislabel'].astype('category')"
      ],
      "execution_count": 85,
      "outputs": []
    },
    {
      "cell_type": "code",
      "metadata": {
        "id": "EypDf1uz59a8"
      },
      "source": [
        "df['gender']=df['gender'].astype('category')"
      ],
      "execution_count": 86,
      "outputs": []
    },
    {
      "cell_type": "code",
      "metadata": {
        "id": "VmwLHha17LHP"
      },
      "source": [
        "df=df.sample(n=20000, random_state=1234, axis=None, weights=None)"
      ],
      "execution_count": 87,
      "outputs": []
    },
    {
      "cell_type": "code",
      "metadata": {
        "id": "RGG2cXb45_jz"
      },
      "source": [
        "y = df.sepsislabel.values\r\n",
        "x = df.drop([\"sepsislabel\", 'gender'], axis = 1)"
      ],
      "execution_count": 88,
      "outputs": []
    },
    {
      "cell_type": "code",
      "metadata": {
        "id": "qTYxyRIG6B7M"
      },
      "source": [
        "x=(x-x.mean())/(x.max()-x.min())"
      ],
      "execution_count": 89,
      "outputs": []
    },
    {
      "cell_type": "code",
      "metadata": {
        "colab": {
          "base_uri": "https://localhost:8080/",
          "height": 204
        },
        "id": "SVPqyI8v6EIT",
        "outputId": "5e4cf9bb-4abf-40ad-8c3d-2918b80cf18b"
      },
      "source": [
        "x.head()"
      ],
      "execution_count": 90,
      "outputs": [
        {
          "output_type": "execute_result",
          "data": {
            "text/html": [
              "<div>\n",
              "<style scoped>\n",
              "    .dataframe tbody tr th:only-of-type {\n",
              "        vertical-align: middle;\n",
              "    }\n",
              "\n",
              "    .dataframe tbody tr th {\n",
              "        vertical-align: top;\n",
              "    }\n",
              "\n",
              "    .dataframe thead th {\n",
              "        text-align: right;\n",
              "    }\n",
              "</style>\n",
              "<table border=\"1\" class=\"dataframe\">\n",
              "  <thead>\n",
              "    <tr style=\"text-align: right;\">\n",
              "      <th></th>\n",
              "      <th>hr</th>\n",
              "      <th>o2sat</th>\n",
              "      <th>sbp</th>\n",
              "      <th>map</th>\n",
              "      <th>dbp</th>\n",
              "      <th>resp</th>\n",
              "      <th>age</th>\n",
              "    </tr>\n",
              "  </thead>\n",
              "  <tbody>\n",
              "    <tr>\n",
              "      <th>350586</th>\n",
              "      <td>0.185139</td>\n",
              "      <td>0.079287</td>\n",
              "      <td>-0.258963</td>\n",
              "      <td>-0.061076</td>\n",
              "      <td>-0.021065</td>\n",
              "      <td>-0.040390</td>\n",
              "      <td>-0.324787</td>\n",
              "    </tr>\n",
              "    <tr>\n",
              "      <th>300080</th>\n",
              "      <td>-0.029147</td>\n",
              "      <td>-0.420713</td>\n",
              "      <td>0.544775</td>\n",
              "      <td>0.514681</td>\n",
              "      <td>0.520602</td>\n",
              "      <td>-0.123723</td>\n",
              "      <td>0.102475</td>\n",
              "    </tr>\n",
              "    <tr>\n",
              "      <th>1136672</th>\n",
              "      <td>0.518472</td>\n",
              "      <td>0.079287</td>\n",
              "      <td>0.096177</td>\n",
              "      <td>0.484378</td>\n",
              "      <td>0.520602</td>\n",
              "      <td>-0.040390</td>\n",
              "      <td>-0.159906</td>\n",
              "    </tr>\n",
              "    <tr>\n",
              "      <th>31178</th>\n",
              "      <td>-0.243433</td>\n",
              "      <td>0.412621</td>\n",
              "      <td>-0.455225</td>\n",
              "      <td>-0.313500</td>\n",
              "      <td>-0.021065</td>\n",
              "      <td>-0.332056</td>\n",
              "      <td>-0.062644</td>\n",
              "    </tr>\n",
              "    <tr>\n",
              "      <th>1135430</th>\n",
              "      <td>-0.052957</td>\n",
              "      <td>0.079287</td>\n",
              "      <td>0.395242</td>\n",
              "      <td>0.151045</td>\n",
              "      <td>-0.479398</td>\n",
              "      <td>-0.457056</td>\n",
              "      <td>-0.207525</td>\n",
              "    </tr>\n",
              "  </tbody>\n",
              "</table>\n",
              "</div>"
            ],
            "text/plain": [
              "               hr     o2sat       sbp       map       dbp      resp       age\n",
              "350586   0.185139  0.079287 -0.258963 -0.061076 -0.021065 -0.040390 -0.324787\n",
              "300080  -0.029147 -0.420713  0.544775  0.514681  0.520602 -0.123723  0.102475\n",
              "1136672  0.518472  0.079287  0.096177  0.484378  0.520602 -0.040390 -0.159906\n",
              "31178   -0.243433  0.412621 -0.455225 -0.313500 -0.021065 -0.332056 -0.062644\n",
              "1135430 -0.052957  0.079287  0.395242  0.151045 -0.479398 -0.457056 -0.207525"
            ]
          },
          "metadata": {
            "tags": []
          },
          "execution_count": 90
        }
      ]
    },
    {
      "cell_type": "code",
      "metadata": {
        "id": "b8Drt69A6N8N"
      },
      "source": [
        "import imblearn"
      ],
      "execution_count": 91,
      "outputs": []
    },
    {
      "cell_type": "code",
      "metadata": {
        "id": "zCHL3Ueq6Hmc"
      },
      "source": [
        "from imblearn.over_sampling import (RandomOverSampler, \r\n",
        "                                    SMOTE, \r\n",
        "                                    ADASYN)"
      ],
      "execution_count": 92,
      "outputs": []
    },
    {
      "cell_type": "code",
      "metadata": {
        "colab": {
          "base_uri": "https://localhost:8080/"
        },
        "id": "9P6mJ6Mf7AgU",
        "outputId": "551adb3b-d4b8-4e33-f6a3-a4d2a2d1ba3f"
      },
      "source": [
        "ros = RandomOverSampler()\r\n",
        "x, y = ros.fit_sample(x, y)"
      ],
      "execution_count": 94,
      "outputs": [
        {
          "output_type": "stream",
          "text": [
            "/usr/local/lib/python3.6/dist-packages/sklearn/utils/deprecation.py:87: FutureWarning: Function safe_indexing is deprecated; safe_indexing is deprecated in version 0.22 and will be removed in version 0.24.\n",
            "  warnings.warn(msg, category=FutureWarning)\n"
          ],
          "name": "stderr"
        }
      ]
    },
    {
      "cell_type": "code",
      "metadata": {
        "colab": {
          "base_uri": "https://localhost:8080/"
        },
        "id": "a_5jP2tJ8Qo9",
        "outputId": "0c1ba160-6d3e-4d29-8a69-903054c97e4a"
      },
      "source": [
        "print('After OverSampling, the shape of X: {}'.format(x.shape))\r\n",
        "print('After OverSampling, the shape of y: {} \\n'.format(y.shape))\r\n",
        "\r\n",
        "print(\"After OverSampling, counts of label '1': {}\".format(sum(y==1)))\r\n",
        "print(\"After OverSampling, counts of label '0': {}\".format(sum(y==0)))"
      ],
      "execution_count": 95,
      "outputs": [
        {
          "output_type": "stream",
          "text": [
            "After OverSampling, the shape of X: (39224, 7)\n",
            "After OverSampling, the shape of y: (39224,) \n",
            "\n",
            "After OverSampling, counts of label '1': 19612\n",
            "After OverSampling, counts of label '0': 19612\n"
          ],
          "name": "stdout"
        }
      ]
    },
    {
      "cell_type": "code",
      "metadata": {
        "id": "7SJjRkcW8YIl"
      },
      "source": [
        "import math\r\n",
        "from sklearn.model_selection import train_test_split\r\n",
        "from sklearn.model_selection import StratifiedKFold\r\n",
        "from sklearn.neighbors import KNeighborsClassifier\r\n",
        "from sklearn.linear_model import LogisticRegression\r\n",
        "from sklearn.naive_bayes import GaussianNB\r\n",
        "from sklearn.tree import DecisionTreeClassifier\r\n",
        "from sklearn.ensemble import RandomForestClassifier\r\n",
        "from sklearn.ensemble import BaggingClassifier\r\n",
        "from sklearn.ensemble import GradientBoostingClassifier\r\n",
        "from sklearn.svm import SVC\r\n",
        "from sklearn.utils import shuffle\r\n",
        "from sklearn.linear_model import SGDClassifier \r\n",
        "from sklearn.model_selection import GridSearchCV\r\n",
        "from sklearn.model_selection import RandomizedSearchCV\r\n",
        "from sklearn.model_selection import cross_val_score\r\n",
        "from sklearn.model_selection import cross_val_predict\r\n",
        "from sklearn.metrics import confusion_matrix\r\n",
        "from sklearn.metrics import classification_report\r\n",
        "from sklearn.metrics import roc_curve, auc\r\n",
        "from sklearn.metrics import accuracy_score,make_scorer\r\n",
        "from numpy.random import seed\r\n",
        "seed(1)"
      ],
      "execution_count": 96,
      "outputs": []
    },
    {
      "cell_type": "code",
      "metadata": {
        "id": "xF4iS2zXG8_S"
      },
      "source": [
        "from sklearn.model_selection import train_test_split\r\n",
        "x_train, x_test, y_train, y_test = train_test_split(x, y, test_size=0.30, random_state=42)"
      ],
      "execution_count": 97,
      "outputs": []
    },
    {
      "cell_type": "markdown",
      "metadata": {
        "id": "90e8lukn9i-x"
      },
      "source": [
        "## logistic regression"
      ]
    },
    {
      "cell_type": "code",
      "metadata": {
        "colab": {
          "base_uri": "https://localhost:8080/"
        },
        "id": "6gEqICNCHOBk",
        "outputId": "ad9ba391-a7f1-4ef8-ca25-07741ddffb8c"
      },
      "source": [
        "from sklearn.linear_model import LogisticRegression\r\n",
        "model = LogisticRegression(max_iter=10000)\r\n",
        "\r\n",
        "model.fit(x_train, y_train)"
      ],
      "execution_count": 98,
      "outputs": [
        {
          "output_type": "execute_result",
          "data": {
            "text/plain": [
              "LogisticRegression(C=1.0, class_weight=None, dual=False, fit_intercept=True,\n",
              "                   intercept_scaling=1, l1_ratio=None, max_iter=10000,\n",
              "                   multi_class='auto', n_jobs=None, penalty='l2',\n",
              "                   random_state=None, solver='lbfgs', tol=0.0001, verbose=0,\n",
              "                   warm_start=False)"
            ]
          },
          "metadata": {
            "tags": []
          },
          "execution_count": 98
        }
      ]
    },
    {
      "cell_type": "code",
      "metadata": {
        "colab": {
          "base_uri": "https://localhost:8080/"
        },
        "id": "HZQLwhalHRQM",
        "outputId": "12239cce-96c3-4b72-81cd-4ba7e0d47b7d"
      },
      "source": [
        "train_pred = model.predict(x_train)\r\n",
        "\r\n",
        "test_pred = model.predict(x_test)\r\n",
        "\r\n",
        "# Use score method to get accuracy of model\r\n",
        "score = model.score(x_train, y_train)\r\n",
        "print('Train F1 Score = {} %'.format(round(score,4)*100))\r\n",
        "\r\n",
        "# Use score method to get accuracy of model\r\n",
        "score = model.score(x_test, y_test)\r\n",
        "print('Test F1 Score = {} %'.format(round(score,4)*100))"
      ],
      "execution_count": 99,
      "outputs": [
        {
          "output_type": "stream",
          "text": [
            "Train F1 Score = 58.5 %\n",
            "Test F1 Score = 58.89 %\n"
          ],
          "name": "stdout"
        }
      ]
    },
    {
      "cell_type": "code",
      "metadata": {
        "colab": {
          "base_uri": "https://localhost:8080/"
        },
        "id": "MDS0CHf8H_id",
        "outputId": "a79b65b2-d330-4c92-89a1-1f9c3e2647db"
      },
      "source": [
        "from sklearn.metrics import accuracy_score\r\n",
        "\r\n",
        "train_accuracy = accuracy_score(y_train, train_pred)\r\n",
        "train_accuracy = round(train_accuracy, 4)*100\r\n",
        "print('Training Accuracy = {} %'.format(train_accuracy))\r\n",
        "\r\n",
        "test_accuracy = accuracy_score(y_test, test_pred)\r\n",
        "test_accuracy = round(test_accuracy, 4)*100\r\n",
        "print('Test Accuracy = {} %'.format(test_accuracy))"
      ],
      "execution_count": 100,
      "outputs": [
        {
          "output_type": "stream",
          "text": [
            "Training Accuracy = 58.5 %\n",
            "Test Accuracy = 58.89 %\n"
          ],
          "name": "stdout"
        }
      ]
    },
    {
      "cell_type": "code",
      "metadata": {
        "colab": {
          "base_uri": "https://localhost:8080/",
          "height": 620
        },
        "id": "kL26gxN5IDxB",
        "outputId": "55bfee94-3e67-4293-e21c-6a3f45c9bf9c"
      },
      "source": [
        "from sklearn.metrics import confusion_matrix\r\n",
        "import seaborn as sns\r\n",
        "\r\n",
        "conf_matrix = confusion_matrix(y_test, test_pred)\r\n",
        "print(conf_matrix)\r\n",
        "\r\n",
        "plt.figure(figsize=(11,9))\r\n",
        "sns.heatmap(conf_matrix, annot=True, fmt=\".3f\", linewidths=.5)\r\n",
        "\r\n",
        "plt.ylabel('Actual label')\r\n",
        "plt.xlabel('Predicted label')\r\n",
        "all_sample_title = 'Test F1 Score:{}%'.format(round(score, 4)*100)\r\n",
        "plt.title(all_sample_title, size = 15)"
      ],
      "execution_count": 101,
      "outputs": [
        {
          "output_type": "stream",
          "text": [
            "[[3689 2185]\n",
            " [2653 3241]]\n"
          ],
          "name": "stdout"
        },
        {
          "output_type": "execute_result",
          "data": {
            "text/plain": [
              "Text(0.5, 1.0, 'Test F1 Score:58.89%')"
            ]
          },
          "metadata": {
            "tags": []
          },
          "execution_count": 101
        },
        {
          "output_type": "display_data",
          "data": {
            "image/png": "[encoded data removed]",
            "text/plain": [
              "<Figure size 792x648 with 2 Axes>"
            ]
          },
          "metadata": {
            "tags": [],
            "needs_background": "light"
          }
        }
      ]
    },
    {
      "cell_type": "code",
      "metadata": {
        "colab": {
          "base_uri": "https://localhost:8080/"
        },
        "id": "eLiHoBEPIi0B",
        "outputId": "0e9425d5-2912-40e7-f751-5e434f276c78"
      },
      "source": [
        "from sklearn.metrics import classification_report\r\n",
        "\r\n",
        "print('*********************  Training Data Report  **********')\r\n",
        "print(classification_report(y_train, train_pred))\r\n",
        "\r\n",
        "print('***********************  Test Data Report  **********')\r\n",
        "print(classification_report(y_test, test_pred))\r\n"
      ],
      "execution_count": 102,
      "outputs": [
        {
          "output_type": "stream",
          "text": [
            "*********************  Training Data Report  **********\n",
            "              precision    recall  f1-score   support\n",
            "\n",
            "           0       0.58      0.61      0.60     13738\n",
            "           1       0.59      0.56      0.57     13718\n",
            "\n",
            "    accuracy                           0.59     27456\n",
            "   macro avg       0.59      0.58      0.58     27456\n",
            "weighted avg       0.59      0.59      0.58     27456\n",
            "\n",
            "***********************  Test Data Report  **********\n",
            "              precision    recall  f1-score   support\n",
            "\n",
            "           0       0.58      0.63      0.60      5874\n",
            "           1       0.60      0.55      0.57      5894\n",
            "\n",
            "    accuracy                           0.59     11768\n",
            "   macro avg       0.59      0.59      0.59     11768\n",
            "weighted avg       0.59      0.59      0.59     11768\n",
            "\n"
          ],
          "name": "stdout"
        }
      ]
    },
    {
      "cell_type": "markdown",
      "metadata": {
        "id": "K6ahOWFo85Dn"
      },
      "source": [
        "##Support vector classifier"
      ]
    },
    {
      "cell_type": "code",
      "metadata": {
        "colab": {
          "base_uri": "https://localhost:8080/"
        },
        "id": "1PnDygpiJ3ek",
        "outputId": "8926001e-2c61-43bc-e902-4a6f1a0a70f2"
      },
      "source": [
        "from sklearn.svm import SVC\r\n",
        "classifier_rbf = SVC(kernel = 'rbf')\r\n",
        "classifier_rbf.fit(x_train, y_train)\r\n",
        "y_pred = classifier_rbf.predict(x_test)\r\n",
        "print('Accuracy of SVC (RBF) classifier on test set: {:.2f}'.format(classifier_rbf.score(x_test, y_test)))"
      ],
      "execution_count": 103,
      "outputs": [
        {
          "output_type": "stream",
          "text": [
            "Accuracy of SVC (RBF) classifier on test set: 0.73\n"
          ],
          "name": "stdout"
        }
      ]
    },
    {
      "cell_type": "code",
      "metadata": {
        "colab": {
          "base_uri": "https://localhost:8080/"
        },
        "id": "DRbigqGeJ6Po",
        "outputId": "afd8067a-64db-459b-8359-2c0dbde053c7"
      },
      "source": [
        "train_pred = classifier_rbf.predict(x_train)\r\n",
        "\r\n",
        "test_pred = classifier_rbf.predict(x_test)\r\n",
        "\r\n",
        "# Use score method to get accuracy of model\r\n",
        "score = classifier_rbf.score(x_train, y_train)\r\n",
        "print('Train F1 Score = {} %'.format(round(score,4)*100))\r\n",
        "\r\n",
        "# Use score method to get accuracy of model\r\n",
        "score = classifier_rbf.score(x_test, y_test)\r\n",
        "print('Test F1 Score = {} %'.format(round(score,4)*100))"
      ],
      "execution_count": 104,
      "outputs": [
        {
          "output_type": "stream",
          "text": [
            "Train F1 Score = 73.95 %\n",
            "Test F1 Score = 73.22 %\n"
          ],
          "name": "stdout"
        }
      ]
    },
    {
      "cell_type": "code",
      "metadata": {
        "colab": {
          "base_uri": "https://localhost:8080/",
          "height": 620
        },
        "id": "0E9oQOL1J-LL",
        "outputId": "d638bef1-4b7d-4696-dd7a-2b0ee9922679"
      },
      "source": [
        "from sklearn.metrics import confusion_matrix\r\n",
        "import seaborn as sns\r\n",
        "\r\n",
        "conf_matrix = confusion_matrix(y_test, test_pred)\r\n",
        "print(conf_matrix)\r\n",
        "\r\n",
        "plt.figure(figsize=(11,9))\r\n",
        "sns.heatmap(conf_matrix, annot=True, fmt=\".3f\", linewidths=.5)\r\n",
        "\r\n",
        "plt.ylabel('Actual label')\r\n",
        "plt.xlabel('Predicted label')\r\n",
        "all_sample_title = 'Test F1 Score:{}%'.format(round(score, 4)*100)\r\n",
        "plt.title(all_sample_title, size = 15)"
      ],
      "execution_count": 105,
      "outputs": [
        {
          "output_type": "stream",
          "text": [
            "[[4133 1741]\n",
            " [1411 4483]]\n"
          ],
          "name": "stdout"
        },
        {
          "output_type": "execute_result",
          "data": {
            "text/plain": [
              "Text(0.5, 1.0, 'Test F1 Score:73.22%')"
            ]
          },
          "metadata": {
            "tags": []
          },
          "execution_count": 105
        },
        {
          "output_type": "display_data",
          "data": {
            "image/png": "[encoded data removed]",
            "text/plain": [
              "<Figure size 792x648 with 2 Axes>"
            ]
          },
          "metadata": {
            "tags": [],
            "needs_background": "light"
          }
        }
      ]
    },
    {
      "cell_type": "code",
      "metadata": {
        "colab": {
          "base_uri": "https://localhost:8080/"
        },
        "id": "Z9xLOQmyKGT8",
        "outputId": "dd28f7b2-6c31-47e7-9264-7d696db44996"
      },
      "source": [
        "from sklearn.metrics import classification_report\r\n",
        "\r\n",
        "print('*********************  Training Data Report  **********')\r\n",
        "print(classification_report(y_train, train_pred))\r\n",
        "\r\n",
        "print('***********************  Test Data Report  **********')\r\n",
        "print(classification_report(y_test, test_pred))"
      ],
      "execution_count": 106,
      "outputs": [
        {
          "output_type": "stream",
          "text": [
            "*********************  Training Data Report  **********\n",
            "              precision    recall  f1-score   support\n",
            "\n",
            "           0       0.75      0.71      0.73     13738\n",
            "           1       0.73      0.77      0.75     13718\n",
            "\n",
            "    accuracy                           0.74     27456\n",
            "   macro avg       0.74      0.74      0.74     27456\n",
            "weighted avg       0.74      0.74      0.74     27456\n",
            "\n",
            "***********************  Test Data Report  **********\n",
            "              precision    recall  f1-score   support\n",
            "\n",
            "           0       0.75      0.70      0.72      5874\n",
            "           1       0.72      0.76      0.74      5894\n",
            "\n",
            "    accuracy                           0.73     11768\n",
            "   macro avg       0.73      0.73      0.73     11768\n",
            "weighted avg       0.73      0.73      0.73     11768\n",
            "\n"
          ],
          "name": "stdout"
        }
      ]
    },
    {
      "cell_type": "code",
      "metadata": {
        "id": "PK7pqIQKKM3b"
      },
      "source": [
        "svc_scores = []\r\n",
        "kernels = ['linear', 'poly', 'rbf', 'sigmoid']\r\n",
        "for i in range(len(kernels)):\r\n",
        "    svc_classifier = SVC(kernel = kernels[i])\r\n",
        "    svc_classifier.fit(x_train, y_train)\r\n",
        "    svc_scores.append(svc_classifier.score(x_test, y_test))"
      ],
      "execution_count": 107,
      "outputs": []
    },
    {
      "cell_type": "code",
      "metadata": {
        "id": "A5WTg8zZK9L5"
      },
      "source": [
        "from matplotlib.cm import rainbow"
      ],
      "execution_count": 108,
      "outputs": []
    },
    {
      "cell_type": "code",
      "metadata": {
        "colab": {
          "base_uri": "https://localhost:8080/",
          "height": 856
        },
        "id": "l-eEJEmeKU0S",
        "outputId": "8481d735-f139-44ec-8395-20d3f7c95c58"
      },
      "source": [
        "rcParams['figure.figsize'] = 20, 14\r\n",
        "colors = rainbow(np.linspace(0, 1, len(kernels)))\r\n",
        "plt.bar(kernels, svc_scores, color = colors)\r\n",
        "for i in range(len(kernels)):\r\n",
        "    plt.text(i, svc_scores[i], svc_scores[i])\r\n",
        "plt.xlabel('Kernels')\r\n",
        "plt.ylabel('Scores')\r\n",
        "plt.title('Support Vector Classifier scores for different kernels')"
      ],
      "execution_count": 109,
      "outputs": [
        {
          "output_type": "execute_result",
          "data": {
            "text/plain": [
              "Text(0.5, 1.0, 'Support Vector Classifier scores for different kernels')"
            ]
          },
          "metadata": {
            "tags": []
          },
          "execution_count": 109
        },
        {
          "output_type": "display_data",
          "data": {
            "image/png": "[encoded data removed]",
            "text/plain": [
              "<Figure size 1440x1008 with 1 Axes>"
            ]
          },
          "metadata": {
            "tags": [],
            "needs_background": "light"
          }
        }
      ]
    },
    {
      "cell_type": "markdown",
      "metadata": {
        "id": "Osw5UywALHM8"
      },
      "source": [
        "##random forest classifier"
      ]
    },
    {
      "cell_type": "code",
      "metadata": {
        "colab": {
          "base_uri": "https://localhost:8080/"
        },
        "id": "NyUZAeg7LLHE",
        "outputId": "fed02dc8-6dec-4a1e-f0b4-c13c9639f777"
      },
      "source": [
        "from sklearn.ensemble import RandomForestClassifier\r\n",
        "rfc = RandomForestClassifier(n_estimators=300, bootstrap = True, max_features = 'sqrt')\r\n",
        "rfc.fit(x_train, y_train)\r\n",
        "y_pred = rfc.predict(x_test)\r\n",
        "print('Accuracy of Random Forest on test set: {:.2f}'.format(rfc.score(x_test, y_test)))"
      ],
      "execution_count": 110,
      "outputs": [
        {
          "output_type": "stream",
          "text": [
            "Accuracy of Random Forest on test set: 1.00\n"
          ],
          "name": "stdout"
        }
      ]
    },
    {
      "cell_type": "code",
      "metadata": {
        "colab": {
          "base_uri": "https://localhost:8080/"
        },
        "id": "0EerFTgXLPWO",
        "outputId": "471635b2-7737-4606-a0c0-a43047f2ceb1"
      },
      "source": [
        "train_pred = rfc.predict(x_train)\r\n",
        "\r\n",
        "test_pred = rfc.predict(x_test)\r\n",
        "\r\n",
        "# Use score method to get accuracy of model\r\n",
        "score = rfc.score(x_train, y_train)\r\n",
        "print('Train F1 Score = {} %'.format(round(score,4)*100))\r\n",
        "\r\n",
        "# Use score method to get accuracy of model\r\n",
        "score = rfc.score(x_test, y_test)\r\n",
        "print('Test F1 Score = {} %'.format(round(score,4)*100))"
      ],
      "execution_count": 111,
      "outputs": [
        {
          "output_type": "stream",
          "text": [
            "Train F1 Score = 99.76 %\n",
            "Test F1 Score = 99.8 %\n"
          ],
          "name": "stdout"
        }
      ]
    },
    {
      "cell_type": "code",
      "metadata": {
        "colab": {
          "base_uri": "https://localhost:8080/",
          "height": 620
        },
        "id": "QS70ERpnLaxL",
        "outputId": "9d10689f-46ab-4407-de79-172629e86510"
      },
      "source": [
        "from sklearn.metrics import confusion_matrix\r\n",
        "import seaborn as sns\r\n",
        "\r\n",
        "conf_matrix = confusion_matrix(y_test, test_pred)\r\n",
        "print(conf_matrix)\r\n",
        "\r\n",
        "plt.figure(figsize=(11,9))\r\n",
        "sns.heatmap(conf_matrix, annot=True, fmt=\".3f\", linewidths=.5)\r\n",
        "\r\n",
        "plt.ylabel('Actual label')\r\n",
        "plt.xlabel('Predicted label')\r\n",
        "all_sample_title = 'Test F1 Score:{}%'.format(round(score, 4)*100)\r\n",
        "plt.title(all_sample_title, size = 15)"
      ],
      "execution_count": 112,
      "outputs": [
        {
          "output_type": "stream",
          "text": [
            "[[5851   23]\n",
            " [   0 5894]]\n"
          ],
          "name": "stdout"
        },
        {
          "output_type": "execute_result",
          "data": {
            "text/plain": [
              "Text(0.5, 1.0, 'Test F1 Score:99.8%')"
            ]
          },
          "metadata": {
            "tags": []
          },
          "execution_count": 112
        },
        {
          "output_type": "display_data",
          "data": {
            "image/png": "[encoded data removed]",
            "text/plain": [
              "<Figure size 792x648 with 2 Axes>"
            ]
          },
          "metadata": {
            "tags": [],
            "needs_background": "light"
          }
        }
      ]
    },
    {
      "cell_type": "code",
      "metadata": {
        "colab": {
          "base_uri": "https://localhost:8080/"
        },
        "id": "Gc4Iir6zLfKl",
        "outputId": "69a66623-c3cf-4b79-81d1-7fbae482d085"
      },
      "source": [
        "from sklearn.metrics import classification_report\r\n",
        "\r\n",
        "print('*********************  Training Data Report  **********')\r\n",
        "print(classification_report(y_train, train_pred))\r\n",
        "\r\n",
        "print('***********************  Test Data Report  **********')\r\n",
        "print(classification_report(y_test, test_pred))"
      ],
      "execution_count": 113,
      "outputs": [
        {
          "output_type": "stream",
          "text": [
            "*********************  Training Data Report  **********\n",
            "              precision    recall  f1-score   support\n",
            "\n",
            "           0       1.00      1.00      1.00     13738\n",
            "           1       1.00      1.00      1.00     13718\n",
            "\n",
            "    accuracy                           1.00     27456\n",
            "   macro avg       1.00      1.00      1.00     27456\n",
            "weighted avg       1.00      1.00      1.00     27456\n",
            "\n",
            "***********************  Test Data Report  **********\n",
            "              precision    recall  f1-score   support\n",
            "\n",
            "           0       1.00      1.00      1.00      5874\n",
            "           1       1.00      1.00      1.00      5894\n",
            "\n",
            "    accuracy                           1.00     11768\n",
            "   macro avg       1.00      1.00      1.00     11768\n",
            "weighted avg       1.00      1.00      1.00     11768\n",
            "\n"
          ],
          "name": "stdout"
        }
      ]
    },
    {
      "cell_type": "code",
      "metadata": {
        "id": "yAcJbmyVLnvF"
      },
      "source": [
        "rf_scores = []\r\n",
        "estimators = [10, 100, 200, 500, 1000]\r\n",
        "for i in estimators:\r\n",
        "    rf_classifier = RandomForestClassifier(n_estimators = i, random_state = 0)\r\n",
        "    rf_classifier.fit(x_train, y_train)\r\n",
        "    rf_scores.append(rf_classifier.score(x_test, y_test))"
      ],
      "execution_count": 114,
      "outputs": []
    },
    {
      "cell_type": "code",
      "metadata": {
        "colab": {
          "base_uri": "https://localhost:8080/",
          "height": 856
        },
        "id": "8Dv_xyygLsb5",
        "outputId": "10b249dc-350e-423c-c3e1-965f08ff7679"
      },
      "source": [
        "rcParams['figure.figsize'] = 20, 14\r\n",
        "colors = rainbow(np.linspace(0, 1, len(estimators)))\r\n",
        "plt.bar([i for i in range(len(estimators))], rf_scores, color = colors, width = 0.8)\r\n",
        "for i in range(len(estimators)):\r\n",
        "    plt.text(i, rf_scores[i], rf_scores[i])\r\n",
        "plt.xticks(ticks = [i for i in range(len(estimators))], labels = [str(estimator) for estimator in estimators])\r\n",
        "plt.xlabel('Number of estimators')\r\n",
        "plt.ylabel('Scores')\r\n",
        "plt.title('Random Forest Classifier scores for different number of estimators')"
      ],
      "execution_count": 115,
      "outputs": [
        {
          "output_type": "execute_result",
          "data": {
            "text/plain": [
              "Text(0.5, 1.0, 'Random Forest Classifier scores for different number of estimators')"
            ]
          },
          "metadata": {
            "tags": []
          },
          "execution_count": 115
        },
        {
          "output_type": "display_data",
          "data": {
            "image/png": "[encoded data removed]",
            "text/plain": [
              "<Figure size 1440x1008 with 1 Axes>"
            ]
          },
          "metadata": {
            "tags": [],
            "needs_background": "light"
          }
        }
      ]
    },
    {
      "cell_type": "markdown",
      "metadata": {
        "id": "dkGXis4S9zaP"
      },
      "source": [
        "##decision tree"
      ]
    },
    {
      "cell_type": "code",
      "metadata": {
        "id": "FLnYuNDcL5oD"
      },
      "source": [
        "from sklearn.tree import DecisionTreeClassifier\r\n",
        "\r\n",
        "max_accuracy = 0\r\n",
        "\r\n",
        "\r\n",
        "for x in range(200):\r\n",
        "    dt = DecisionTreeClassifier(random_state=x)\r\n",
        "    dt.fit(x_train,y_train)\r\n",
        "    y_pred_dt = dt.predict(x_test)\r\n",
        "    current_accuracy = round(accuracy_score(y_pred_dt,y_test)*100,2)\r\n",
        "    if(current_accuracy>max_accuracy):\r\n",
        "        max_accuracy = current_accuracy\r\n",
        "        best_x = x\r\n",
        "        \r\n",
        "#print(max_accuracy)\r\n",
        "#print(best_x)\r\n",
        "\r\n",
        "\r\n",
        "dt = DecisionTreeClassifier(random_state=best_x)\r\n",
        "dt.fit(x_train,y_train)\r\n",
        "y_pred_dt = dt.predict(x_test)"
      ],
      "execution_count": 118,
      "outputs": []
    },
    {
      "cell_type": "code",
      "metadata": {
        "colab": {
          "base_uri": "https://localhost:8080/"
        },
        "id": "mUlsuxR2L5Tb",
        "outputId": "9c39b547-17df-43fc-d9ed-51ed29b43b7c"
      },
      "source": [
        "print(y_pred_dt.shape)"
      ],
      "execution_count": 120,
      "outputs": [
        {
          "output_type": "stream",
          "text": [
            "(11768,)\n"
          ],
          "name": "stdout"
        }
      ]
    },
    {
      "cell_type": "code",
      "metadata": {
        "colab": {
          "base_uri": "https://localhost:8080/"
        },
        "id": "ntM6mY8r-zOr",
        "outputId": "9cce3101-9ab4-4820-edff-ac43a7f65695"
      },
      "source": [
        "score_dt = round(accuracy_score(y_pred_dt,y_test)*100,2)\r\n",
        "\r\n",
        "print(\"The accuracy score achieved using Decision Tree is: \"+str(score_dt)+\" %\")"
      ],
      "execution_count": 121,
      "outputs": [
        {
          "output_type": "stream",
          "text": [
            "The accuracy score achieved using Decision Tree is: 98.66 %\n"
          ],
          "name": "stdout"
        }
      ]
    },
    {
      "cell_type": "code",
      "metadata": {
        "colab": {
          "base_uri": "https://localhost:8080/"
        },
        "id": "egJPm6_SR9iz",
        "outputId": "63b1bd78-b421-4eb1-a83a-656d0e9cd92d"
      },
      "source": [
        "rain_pred = dt.predict(x_train)\r\n",
        "\r\n",
        "test_pred = dt.predict(x_test)\r\n",
        "\r\n",
        "# Use score method to get accuracy of model\r\n",
        "score = dt.score(x_train, y_train)\r\n",
        "print('Train F1 Score = {} %'.format(round(score,4)*100))\r\n",
        "\r\n",
        "# Use score method to get accuracy of model\r\n",
        "score = dt.score(x_test, y_test)\r\n",
        "print('Test F1 Score = {} %'.format(round(score,4)*100))"
      ],
      "execution_count": 122,
      "outputs": [
        {
          "output_type": "stream",
          "text": [
            "Train F1 Score = 99.76 %\n",
            "Test F1 Score = 98.66 %\n"
          ],
          "name": "stdout"
        }
      ]
    },
    {
      "cell_type": "code",
      "metadata": {
        "colab": {
          "base_uri": "https://localhost:8080/",
          "height": 620
        },
        "id": "79CrPyyvSQ5Z",
        "outputId": "33303ea3-c973-4842-9e5c-4903a71b6516"
      },
      "source": [
        "from sklearn.metrics import confusion_matrix\r\n",
        "import seaborn as sns\r\n",
        "\r\n",
        "conf_matrix = confusion_matrix(y_test, test_pred)\r\n",
        "print(conf_matrix)\r\n",
        "\r\n",
        "plt.figure(figsize=(11,9))\r\n",
        "sns.heatmap(conf_matrix, annot=True, fmt=\".3f\", linewidths=.5)\r\n",
        "\r\n",
        "plt.ylabel('Actual label')\r\n",
        "plt.xlabel('Predicted label')\r\n",
        "all_sample_title = 'Test F1 Score:{}%'.format(round(score, 4)*100)\r\n",
        "plt.title(all_sample_title, size = 15)"
      ],
      "execution_count": 123,
      "outputs": [
        {
          "output_type": "stream",
          "text": [
            "[[5716  158]\n",
            " [   0 5894]]\n"
          ],
          "name": "stdout"
        },
        {
          "output_type": "execute_result",
          "data": {
            "text/plain": [
              "Text(0.5, 1.0, 'Test F1 Score:98.66%')"
            ]
          },
          "metadata": {
            "tags": []
          },
          "execution_count": 123
        },
        {
          "output_type": "display_data",
          "data": {
            "image/png": "[encoded data removed]",
            "text/plain": [
              "<Figure size 792x648 with 2 Axes>"
            ]
          },
          "metadata": {
            "tags": [],
            "needs_background": "light"
          }
        }
      ]
    },
    {
      "cell_type": "code",
      "metadata": {
        "colab": {
          "base_uri": "https://localhost:8080/"
        },
        "id": "k8lKQ8LOSXmB",
        "outputId": "5e6dab55-37b2-41a4-a62f-3f5072e00cc4"
      },
      "source": [
        "from sklearn.metrics import classification_report\r\n",
        "\r\n",
        "print('*********************  Training Data Report  **********')\r\n",
        "print(classification_report(y_train, train_pred))\r\n",
        "\r\n",
        "print('***********************  Test Data Report  **********')\r\n",
        "print(classification_report(y_test, test_pred))"
      ],
      "execution_count": 124,
      "outputs": [
        {
          "output_type": "stream",
          "text": [
            "*********************  Training Data Report  **********\n",
            "              precision    recall  f1-score   support\n",
            "\n",
            "           0       1.00      1.00      1.00     13738\n",
            "           1       1.00      1.00      1.00     13718\n",
            "\n",
            "    accuracy                           1.00     27456\n",
            "   macro avg       1.00      1.00      1.00     27456\n",
            "weighted avg       1.00      1.00      1.00     27456\n",
            "\n",
            "***********************  Test Data Report  **********\n",
            "              precision    recall  f1-score   support\n",
            "\n",
            "           0       1.00      0.97      0.99      5874\n",
            "           1       0.97      1.00      0.99      5894\n",
            "\n",
            "    accuracy                           0.99     11768\n",
            "   macro avg       0.99      0.99      0.99     11768\n",
            "weighted avg       0.99      0.99      0.99     11768\n",
            "\n"
          ],
          "name": "stdout"
        }
      ]
    },
    {
      "cell_type": "code",
      "metadata": {
        "id": "_r6ZwzhESeeh"
      },
      "source": [
        ""
      ],
      "execution_count": null,
      "outputs": []
    }
  ]
}