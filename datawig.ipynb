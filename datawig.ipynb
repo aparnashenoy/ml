{
  "nbformat": 4,
  "nbformat_minor": 0,
  "metadata": {
    "colab": {
      "name": "datawig.ipynb",
      "provenance": [],
      "collapsed_sections": [],
      "authorship_tag": "ABX9TyNFkR5vogdvaD8a6y2NiJDf",
      "include_colab_link": true
    },
    "kernelspec": {
      "name": "python3",
      "display_name": "Python 3"
    },
    "language_info": {
      "name": "python"
    }
  },
  "cells": [
    {
      "cell_type": "markdown",
      "metadata": {
        "id": "view-in-github",
        "colab_type": "text"
      },
      "source": [
        "<a href=\"https://colab.research.google.com/github/aparnashenoy/ml/blob/master/datawig.ipynb\" target=\"_parent\"><img src=\"https://colab.research.google.com/assets/colab-badge.svg\" alt=\"Open In Colab\"/></a>"
      ]
    },
    {
      "cell_type": "code",
      "metadata": {
        "colab": {
          "base_uri": "https://localhost:8080/",
          "height": 921
        },
        "id": "yuNdaERVqn2y",
        "outputId": "a1df988c-13d5-4daa-b9f2-7232bd1c81b3"
      },
      "source": [
        "!pip install datawig"
      ],
      "execution_count": 13,
      "outputs": [
        {
          "output_type": "stream",
          "text": [
            "Requirement already satisfied: datawig in /usr/local/lib/python3.7/dist-packages (0.2.0)\n",
            "Requirement already satisfied: mxnet==1.4.0 in /usr/local/lib/python3.7/dist-packages (from datawig) (1.4.0)\n",
            "Requirement already satisfied: pandas==0.25.3 in /usr/local/lib/python3.7/dist-packages (from datawig) (0.25.3)\n",
            "Requirement already satisfied: scikit-learn[alldeps]==0.22.1 in /usr/local/lib/python3.7/dist-packages (from datawig) (0.22.1)\n",
            "Requirement already satisfied: typing==3.6.6 in /usr/local/lib/python3.7/dist-packages (from datawig) (3.6.6)\n",
            "Collecting numpy<1.15.0,>=1.8.2\n",
            "\u001b[?25l  Downloading https://files.pythonhosted.org/packages/18/84/49b7f268741119328aeee0802aafb9bc2e164b36fc312daf83af95dae646/numpy-1.14.6-cp37-cp37m-manylinux1_x86_64.whl (13.8MB)\n",
            "\u001b[K     |████████████████████████████████| 13.8MB 305kB/s \n",
            "\u001b[?25hRequirement already satisfied: graphviz<0.9.0,>=0.8.1 in /usr/local/lib/python3.7/dist-packages (from mxnet==1.4.0->datawig) (0.8.4)\n",
            "Requirement already satisfied: requests>=2.20.0 in /usr/local/lib/python3.7/dist-packages (from mxnet==1.4.0->datawig) (2.23.0)\n",
            "Requirement already satisfied: python-dateutil>=2.6.1 in /usr/local/lib/python3.7/dist-packages (from pandas==0.25.3->datawig) (2.8.1)\n",
            "Requirement already satisfied: pytz>=2017.2 in /usr/local/lib/python3.7/dist-packages (from pandas==0.25.3->datawig) (2018.9)\n",
            "Requirement already satisfied: scipy>=0.17.0 in /usr/local/lib/python3.7/dist-packages (from scikit-learn[alldeps]==0.22.1->datawig) (1.4.1)\n",
            "Requirement already satisfied: joblib>=0.11 in /usr/local/lib/python3.7/dist-packages (from scikit-learn[alldeps]==0.22.1->datawig) (1.0.1)\n",
            "Requirement already satisfied: idna<3,>=2.5 in /usr/local/lib/python3.7/dist-packages (from requests>=2.20.0->mxnet==1.4.0->datawig) (2.10)\n",
            "Requirement already satisfied: chardet<4,>=3.0.2 in /usr/local/lib/python3.7/dist-packages (from requests>=2.20.0->mxnet==1.4.0->datawig) (3.0.4)\n",
            "Requirement already satisfied: urllib3!=1.25.0,!=1.25.1,<1.26,>=1.21.1 in /usr/local/lib/python3.7/dist-packages (from requests>=2.20.0->mxnet==1.4.0->datawig) (1.24.3)\n",
            "Requirement already satisfied: certifi>=2017.4.17 in /usr/local/lib/python3.7/dist-packages (from requests>=2.20.0->mxnet==1.4.0->datawig) (2020.12.5)\n",
            "Requirement already satisfied: six>=1.5 in /usr/local/lib/python3.7/dist-packages (from python-dateutil>=2.6.1->pandas==0.25.3->datawig) (1.15.0)\n",
            "\u001b[31mERROR: xarray 0.18.0 has requirement numpy>=1.17, but you'll have numpy 1.14.6 which is incompatible.\u001b[0m\n",
            "\u001b[31mERROR: xarray 0.18.0 has requirement pandas>=1.0, but you'll have pandas 0.25.3 which is incompatible.\u001b[0m\n",
            "\u001b[31mERROR: tifffile 2021.4.8 has requirement numpy>=1.15.1, but you'll have numpy 1.14.6 which is incompatible.\u001b[0m\n",
            "\u001b[31mERROR: tensorflow 2.4.1 has requirement numpy~=1.19.2, but you'll have numpy 1.14.6 which is incompatible.\u001b[0m\n",
            "\u001b[31mERROR: spacy 2.2.4 has requirement numpy>=1.15.0, but you'll have numpy 1.14.6 which is incompatible.\u001b[0m\n",
            "\u001b[31mERROR: seaborn 0.11.1 has requirement numpy>=1.15, but you'll have numpy 1.14.6 which is incompatible.\u001b[0m\n",
            "\u001b[31mERROR: pymc3 3.11.2 has requirement numpy>=1.15.0, but you'll have numpy 1.14.6 which is incompatible.\u001b[0m\n",
            "\u001b[31mERROR: pyerfa 1.7.3 has requirement numpy>=1.16, but you'll have numpy 1.14.6 which is incompatible.\u001b[0m\n",
            "\u001b[31mERROR: pyarrow 3.0.0 has requirement numpy>=1.16.6, but you'll have numpy 1.14.6 which is incompatible.\u001b[0m\n",
            "\u001b[31mERROR: plotnine 0.6.0 has requirement numpy>=1.16.0, but you'll have numpy 1.14.6 which is incompatible.\u001b[0m\n",
            "\u001b[31mERROR: numba 0.51.2 has requirement numpy>=1.15, but you'll have numpy 1.14.6 which is incompatible.\u001b[0m\n",
            "\u001b[31mERROR: librosa 0.8.0 has requirement numpy>=1.15.0, but you'll have numpy 1.14.6 which is incompatible.\u001b[0m\n",
            "\u001b[31mERROR: jaxlib 0.1.66+cuda110 has requirement numpy>=1.16, but you'll have numpy 1.14.6 which is incompatible.\u001b[0m\n",
            "\u001b[31mERROR: imgaug 0.2.9 has requirement numpy>=1.15.0, but you'll have numpy 1.14.6 which is incompatible.\u001b[0m\n",
            "\u001b[31mERROR: google-colab 1.0.0 has requirement pandas~=1.1.0; python_version >= \"3.0\", but you'll have pandas 0.25.3 which is incompatible.\u001b[0m\n",
            "\u001b[31mERROR: fbprophet 0.7.1 has requirement numpy>=1.15.4, but you'll have numpy 1.14.6 which is incompatible.\u001b[0m\n",
            "\u001b[31mERROR: fbprophet 0.7.1 has requirement pandas>=1.0.4, but you'll have pandas 0.25.3 which is incompatible.\u001b[0m\n",
            "\u001b[31mERROR: fastai 1.0.61 has requirement numpy>=1.15, but you'll have numpy 1.14.6 which is incompatible.\u001b[0m\n",
            "\u001b[31mERROR: datascience 0.10.6 has requirement folium==0.2.1, but you'll have folium 0.8.3 which is incompatible.\u001b[0m\n",
            "\u001b[31mERROR: cvxpy 1.0.31 has requirement numpy>=1.15, but you'll have numpy 1.14.6 which is incompatible.\u001b[0m\n",
            "\u001b[31mERROR: blis 0.4.1 has requirement numpy>=1.15.0, but you'll have numpy 1.14.6 which is incompatible.\u001b[0m\n",
            "\u001b[31mERROR: astropy 4.2.1 has requirement numpy>=1.17, but you'll have numpy 1.14.6 which is incompatible.\u001b[0m\n",
            "\u001b[31mERROR: albumentations 0.1.12 has requirement imgaug<0.2.7,>=0.2.5, but you'll have imgaug 0.2.9 which is incompatible.\u001b[0m\n",
            "Installing collected packages: numpy\n",
            "  Found existing installation: numpy 1.19.5\n",
            "    Uninstalling numpy-1.19.5:\n",
            "      Successfully uninstalled numpy-1.19.5\n",
            "Successfully installed numpy-1.14.6\n"
          ],
          "name": "stdout"
        },
        {
          "output_type": "display_data",
          "data": {
            "application/vnd.colab-display-data+json": {
              "pip_warning": {
                "packages": [
                  "numpy"
                ]
              }
            }
          },
          "metadata": {
            "tags": []
          }
        }
      ]
    },
    {
      "cell_type": "code",
      "metadata": {
        "colab": {
          "base_uri": "https://localhost:8080/"
        },
        "id": "x6jpTxKNpgQ7",
        "outputId": "2cb9a594-9a66-470a-e0f6-a12cf4e257c7"
      },
      "source": [
        "from google.colab import drive\n",
        "drive.mount('/gdrive')"
      ],
      "execution_count": 99,
      "outputs": [
        {
          "output_type": "stream",
          "text": [
            "Drive already mounted at /gdrive; to attempt to forcibly remount, call drive.mount(\"/gdrive\", force_remount=True).\n"
          ],
          "name": "stdout"
        }
      ]
    },
    {
      "cell_type": "code",
      "metadata": {
        "id": "_uowgUj7pkGn"
      },
      "source": [
        "path = '/gdrive/My Drive/'"
      ],
      "execution_count": 100,
      "outputs": []
    },
    {
      "cell_type": "code",
      "metadata": {
        "id": "Lhhf29WFpz5Z"
      },
      "source": [
        "import datawig\n",
        "import matplotlib.pyplot as plt\n",
        "import seaborn as sns\n",
        "import pandas as pd\n",
        "import numpy as np\n",
        "%matplotlib inline"
      ],
      "execution_count": 101,
      "outputs": []
    },
    {
      "cell_type": "code",
      "metadata": {
        "id": "thdtitPsp21J"
      },
      "source": [
        "data = pd.read_csv(path + 'Copy of train.psv', sep='|')"
      ],
      "execution_count": 102,
      "outputs": []
    },
    {
      "cell_type": "code",
      "metadata": {
        "colab": {
          "base_uri": "https://localhost:8080/",
          "height": 224
        },
        "id": "6JNZsV5jqExp",
        "outputId": "13e7ae36-5845-4eef-a553-a7d5bf8848a0"
      },
      "source": [
        "data.head()"
      ],
      "execution_count": 103,
      "outputs": [
        {
          "output_type": "execute_result",
          "data": {
            "text/html": [
              "<div>\n",
              "<style scoped>\n",
              "    .dataframe tbody tr th:only-of-type {\n",
              "        vertical-align: middle;\n",
              "    }\n",
              "\n",
              "    .dataframe tbody tr th {\n",
              "        vertical-align: top;\n",
              "    }\n",
              "\n",
              "    .dataframe thead th {\n",
              "        text-align: right;\n",
              "    }\n",
              "</style>\n",
              "<table border=\"1\" class=\"dataframe\">\n",
              "  <thead>\n",
              "    <tr style=\"text-align: right;\">\n",
              "      <th></th>\n",
              "      <th>HR</th>\n",
              "      <th>O2Sat</th>\n",
              "      <th>Temp</th>\n",
              "      <th>SBP</th>\n",
              "      <th>MAP</th>\n",
              "      <th>DBP</th>\n",
              "      <th>Resp</th>\n",
              "      <th>EtCO2</th>\n",
              "      <th>BaseExcess</th>\n",
              "      <th>HCO3</th>\n",
              "      <th>FiO2</th>\n",
              "      <th>pH</th>\n",
              "      <th>PaCO2</th>\n",
              "      <th>SaO2</th>\n",
              "      <th>AST</th>\n",
              "      <th>BUN</th>\n",
              "      <th>Alkalinephos</th>\n",
              "      <th>Calcium</th>\n",
              "      <th>Chloride</th>\n",
              "      <th>Creatinine</th>\n",
              "      <th>Bilirubin_direct</th>\n",
              "      <th>Glucose</th>\n",
              "      <th>Lactate</th>\n",
              "      <th>Magnesium</th>\n",
              "      <th>Phosphate</th>\n",
              "      <th>Potassium</th>\n",
              "      <th>Bilirubin_total</th>\n",
              "      <th>TroponinI</th>\n",
              "      <th>Hct</th>\n",
              "      <th>Hgb</th>\n",
              "      <th>PTT</th>\n",
              "      <th>WBC</th>\n",
              "      <th>Fibrinogen</th>\n",
              "      <th>Platelets</th>\n",
              "      <th>Age</th>\n",
              "      <th>Gender</th>\n",
              "      <th>Unit1</th>\n",
              "      <th>Unit2</th>\n",
              "      <th>HospAdmTime</th>\n",
              "      <th>ICULOS</th>\n",
              "      <th>SepsisLabel</th>\n",
              "    </tr>\n",
              "  </thead>\n",
              "  <tbody>\n",
              "    <tr>\n",
              "      <th>0</th>\n",
              "      <td>99.0</td>\n",
              "      <td>100.0</td>\n",
              "      <td>NaN</td>\n",
              "      <td>NaN</td>\n",
              "      <td>71.0</td>\n",
              "      <td>NaN</td>\n",
              "      <td>13.5</td>\n",
              "      <td>NaN</td>\n",
              "      <td>NaN</td>\n",
              "      <td>NaN</td>\n",
              "      <td>NaN</td>\n",
              "      <td>NaN</td>\n",
              "      <td>NaN</td>\n",
              "      <td>NaN</td>\n",
              "      <td>NaN</td>\n",
              "      <td>NaN</td>\n",
              "      <td>NaN</td>\n",
              "      <td>NaN</td>\n",
              "      <td>NaN</td>\n",
              "      <td>NaN</td>\n",
              "      <td>NaN</td>\n",
              "      <td>NaN</td>\n",
              "      <td>NaN</td>\n",
              "      <td>NaN</td>\n",
              "      <td>NaN</td>\n",
              "      <td>NaN</td>\n",
              "      <td>NaN</td>\n",
              "      <td>NaN</td>\n",
              "      <td>NaN</td>\n",
              "      <td>NaN</td>\n",
              "      <td>NaN</td>\n",
              "      <td>NaN</td>\n",
              "      <td>NaN</td>\n",
              "      <td>NaN</td>\n",
              "      <td>69.66</td>\n",
              "      <td>0</td>\n",
              "      <td>1.0</td>\n",
              "      <td>0.0</td>\n",
              "      <td>-0.02</td>\n",
              "      <td>2</td>\n",
              "      <td>0</td>\n",
              "    </tr>\n",
              "    <tr>\n",
              "      <th>1</th>\n",
              "      <td>97.5</td>\n",
              "      <td>100.0</td>\n",
              "      <td>NaN</td>\n",
              "      <td>NaN</td>\n",
              "      <td>NaN</td>\n",
              "      <td>NaN</td>\n",
              "      <td>15.0</td>\n",
              "      <td>NaN</td>\n",
              "      <td>-16.0</td>\n",
              "      <td>16.0</td>\n",
              "      <td>NaN</td>\n",
              "      <td>7.19</td>\n",
              "      <td>25.0</td>\n",
              "      <td>NaN</td>\n",
              "      <td>72.5</td>\n",
              "      <td>13.5</td>\n",
              "      <td>58.0</td>\n",
              "      <td>8.1</td>\n",
              "      <td>112.5</td>\n",
              "      <td>1.7</td>\n",
              "      <td>NaN</td>\n",
              "      <td>73.0</td>\n",
              "      <td>8.6</td>\n",
              "      <td>1.75</td>\n",
              "      <td>3.2</td>\n",
              "      <td>4.4</td>\n",
              "      <td>3.65</td>\n",
              "      <td>NaN</td>\n",
              "      <td>26.9</td>\n",
              "      <td>8.35</td>\n",
              "      <td>74.4</td>\n",
              "      <td>15.65</td>\n",
              "      <td>104.0</td>\n",
              "      <td>93.0</td>\n",
              "      <td>69.66</td>\n",
              "      <td>0</td>\n",
              "      <td>1.0</td>\n",
              "      <td>0.0</td>\n",
              "      <td>-0.02</td>\n",
              "      <td>3</td>\n",
              "      <td>0</td>\n",
              "    </tr>\n",
              "    <tr>\n",
              "      <th>2</th>\n",
              "      <td>96.0</td>\n",
              "      <td>100.0</td>\n",
              "      <td>NaN</td>\n",
              "      <td>NaN</td>\n",
              "      <td>70.0</td>\n",
              "      <td>NaN</td>\n",
              "      <td>13.0</td>\n",
              "      <td>NaN</td>\n",
              "      <td>NaN</td>\n",
              "      <td>NaN</td>\n",
              "      <td>NaN</td>\n",
              "      <td>NaN</td>\n",
              "      <td>NaN</td>\n",
              "      <td>NaN</td>\n",
              "      <td>NaN</td>\n",
              "      <td>NaN</td>\n",
              "      <td>NaN</td>\n",
              "      <td>NaN</td>\n",
              "      <td>NaN</td>\n",
              "      <td>NaN</td>\n",
              "      <td>NaN</td>\n",
              "      <td>NaN</td>\n",
              "      <td>NaN</td>\n",
              "      <td>NaN</td>\n",
              "      <td>NaN</td>\n",
              "      <td>NaN</td>\n",
              "      <td>NaN</td>\n",
              "      <td>NaN</td>\n",
              "      <td>NaN</td>\n",
              "      <td>NaN</td>\n",
              "      <td>NaN</td>\n",
              "      <td>NaN</td>\n",
              "      <td>NaN</td>\n",
              "      <td>NaN</td>\n",
              "      <td>69.66</td>\n",
              "      <td>0</td>\n",
              "      <td>1.0</td>\n",
              "      <td>0.0</td>\n",
              "      <td>-0.02</td>\n",
              "      <td>4</td>\n",
              "      <td>0</td>\n",
              "    </tr>\n",
              "    <tr>\n",
              "      <th>3</th>\n",
              "      <td>100.0</td>\n",
              "      <td>99.0</td>\n",
              "      <td>NaN</td>\n",
              "      <td>NaN</td>\n",
              "      <td>75.0</td>\n",
              "      <td>NaN</td>\n",
              "      <td>14.0</td>\n",
              "      <td>NaN</td>\n",
              "      <td>-15.0</td>\n",
              "      <td>11.0</td>\n",
              "      <td>NaN</td>\n",
              "      <td>7.24</td>\n",
              "      <td>24.0</td>\n",
              "      <td>96.0</td>\n",
              "      <td>NaN</td>\n",
              "      <td>12.0</td>\n",
              "      <td>NaN</td>\n",
              "      <td>7.7</td>\n",
              "      <td>113.0</td>\n",
              "      <td>1.6</td>\n",
              "      <td>NaN</td>\n",
              "      <td>85.0</td>\n",
              "      <td>8.9</td>\n",
              "      <td>1.60</td>\n",
              "      <td>2.9</td>\n",
              "      <td>4.7</td>\n",
              "      <td>NaN</td>\n",
              "      <td>NaN</td>\n",
              "      <td>NaN</td>\n",
              "      <td>NaN</td>\n",
              "      <td>NaN</td>\n",
              "      <td>NaN</td>\n",
              "      <td>NaN</td>\n",
              "      <td>NaN</td>\n",
              "      <td>69.66</td>\n",
              "      <td>0</td>\n",
              "      <td>1.0</td>\n",
              "      <td>0.0</td>\n",
              "      <td>-0.02</td>\n",
              "      <td>5</td>\n",
              "      <td>0</td>\n",
              "    </tr>\n",
              "    <tr>\n",
              "      <th>4</th>\n",
              "      <td>102.0</td>\n",
              "      <td>100.0</td>\n",
              "      <td>36.0</td>\n",
              "      <td>NaN</td>\n",
              "      <td>74.0</td>\n",
              "      <td>NaN</td>\n",
              "      <td>17.0</td>\n",
              "      <td>NaN</td>\n",
              "      <td>NaN</td>\n",
              "      <td>NaN</td>\n",
              "      <td>NaN</td>\n",
              "      <td>NaN</td>\n",
              "      <td>NaN</td>\n",
              "      <td>NaN</td>\n",
              "      <td>NaN</td>\n",
              "      <td>NaN</td>\n",
              "      <td>NaN</td>\n",
              "      <td>NaN</td>\n",
              "      <td>NaN</td>\n",
              "      <td>NaN</td>\n",
              "      <td>NaN</td>\n",
              "      <td>NaN</td>\n",
              "      <td>NaN</td>\n",
              "      <td>NaN</td>\n",
              "      <td>NaN</td>\n",
              "      <td>NaN</td>\n",
              "      <td>NaN</td>\n",
              "      <td>NaN</td>\n",
              "      <td>NaN</td>\n",
              "      <td>NaN</td>\n",
              "      <td>NaN</td>\n",
              "      <td>NaN</td>\n",
              "      <td>NaN</td>\n",
              "      <td>NaN</td>\n",
              "      <td>69.66</td>\n",
              "      <td>0</td>\n",
              "      <td>1.0</td>\n",
              "      <td>0.0</td>\n",
              "      <td>-0.02</td>\n",
              "      <td>6</td>\n",
              "      <td>0</td>\n",
              "    </tr>\n",
              "  </tbody>\n",
              "</table>\n",
              "</div>"
            ],
            "text/plain": [
              "      HR  O2Sat  Temp  SBP  ...  Unit2  HospAdmTime  ICULOS  SepsisLabel\n",
              "0   99.0  100.0   NaN  NaN  ...    0.0        -0.02       2            0\n",
              "1   97.5  100.0   NaN  NaN  ...    0.0        -0.02       3            0\n",
              "2   96.0  100.0   NaN  NaN  ...    0.0        -0.02       4            0\n",
              "3  100.0   99.0   NaN  NaN  ...    0.0        -0.02       5            0\n",
              "4  102.0  100.0  36.0  NaN  ...    0.0        -0.02       6            0\n",
              "\n",
              "[5 rows x 41 columns]"
            ]
          },
          "metadata": {
            "tags": []
          },
          "execution_count": 103
        }
      ]
    },
    {
      "cell_type": "code",
      "metadata": {
        "id": "3ZmBEu1YqHUR"
      },
      "source": [
        "cols = ['HR', 'O2Sat','Temp', 'SBP', 'MAP', 'DBP', 'Resp','Age', 'Gender', 'Unit1', 'Unit2', 'ICULOS', 'SepsisLabel']"
      ],
      "execution_count": 104,
      "outputs": []
    },
    {
      "cell_type": "code",
      "metadata": {
        "id": "bTGzokNVqMxB"
      },
      "source": [
        "data = data[cols]"
      ],
      "execution_count": 105,
      "outputs": []
    },
    {
      "cell_type": "code",
      "metadata": {
        "colab": {
          "base_uri": "https://localhost:8080/"
        },
        "id": "dtFVhU-h0j6-",
        "outputId": "230e67e9-56bf-4598-ecb8-085cb72c4687"
      },
      "source": [
        "!pip install impyute"
      ],
      "execution_count": 106,
      "outputs": [
        {
          "output_type": "stream",
          "text": [
            "Requirement already satisfied: impyute in /usr/local/lib/python3.7/dist-packages (0.0.8)\n",
            "Requirement already satisfied: scipy in /usr/local/lib/python3.7/dist-packages (from impyute) (1.4.1)\n",
            "Requirement already satisfied: scikit-learn in /usr/local/lib/python3.7/dist-packages (from impyute) (0.22.1)\n",
            "Requirement already satisfied: numpy in /usr/local/lib/python3.7/dist-packages (from impyute) (1.14.6)\n",
            "Requirement already satisfied: joblib>=0.11 in /usr/local/lib/python3.7/dist-packages (from scikit-learn->impyute) (1.0.1)\n"
          ],
          "name": "stdout"
        }
      ]
    },
    {
      "cell_type": "code",
      "metadata": {
        "id": "rr1cwqnQ0e3Y"
      },
      "source": [
        "from sklearn.linear_model import LinearRegression\n",
        "from sklearn.impute import SimpleImputer\n",
        "from impyute.imputation.cs import fast_knn, mice"
      ],
      "execution_count": 107,
      "outputs": []
    },
    {
      "cell_type": "code",
      "metadata": {
        "colab": {
          "base_uri": "https://localhost:8080/",
          "height": 111
        },
        "id": "RyLypLx_0qe7",
        "outputId": "6f66c3dd-7353-4ee4-9f55-90c49a9531cd"
      },
      "source": [
        "impute_mean=SimpleImputer(strategy='mean')\n",
        "impute_mean.fit(data)\n",
        "imputed_mean=impute_mean.transform(data)\n",
        "imputed_mean=pd.DataFrame(imputed_mean,columns=data.columns)\n",
        "imputed_mean.head(2)"
      ],
      "execution_count": 108,
      "outputs": [
        {
          "output_type": "execute_result",
          "data": {
            "text/html": [
              "<div>\n",
              "<style scoped>\n",
              "    .dataframe tbody tr th:only-of-type {\n",
              "        vertical-align: middle;\n",
              "    }\n",
              "\n",
              "    .dataframe tbody tr th {\n",
              "        vertical-align: top;\n",
              "    }\n",
              "\n",
              "    .dataframe thead th {\n",
              "        text-align: right;\n",
              "    }\n",
              "</style>\n",
              "<table border=\"1\" class=\"dataframe\">\n",
              "  <thead>\n",
              "    <tr style=\"text-align: right;\">\n",
              "      <th></th>\n",
              "      <th>HR</th>\n",
              "      <th>O2Sat</th>\n",
              "      <th>Temp</th>\n",
              "      <th>SBP</th>\n",
              "      <th>MAP</th>\n",
              "      <th>DBP</th>\n",
              "      <th>Resp</th>\n",
              "      <th>Age</th>\n",
              "      <th>Gender</th>\n",
              "      <th>Unit1</th>\n",
              "      <th>Unit2</th>\n",
              "      <th>ICULOS</th>\n",
              "      <th>SepsisLabel</th>\n",
              "    </tr>\n",
              "  </thead>\n",
              "  <tbody>\n",
              "    <tr>\n",
              "      <th>0</th>\n",
              "      <td>99.0</td>\n",
              "      <td>100.0</td>\n",
              "      <td>36.993541</td>\n",
              "      <td>122.800077</td>\n",
              "      <td>71.000000</td>\n",
              "      <td>62.805455</td>\n",
              "      <td>13.5</td>\n",
              "      <td>69.66</td>\n",
              "      <td>0.0</td>\n",
              "      <td>1.0</td>\n",
              "      <td>0.0</td>\n",
              "      <td>2.0</td>\n",
              "      <td>0.0</td>\n",
              "    </tr>\n",
              "    <tr>\n",
              "      <th>1</th>\n",
              "      <td>97.5</td>\n",
              "      <td>100.0</td>\n",
              "      <td>36.993541</td>\n",
              "      <td>122.800077</td>\n",
              "      <td>81.164234</td>\n",
              "      <td>62.805455</td>\n",
              "      <td>15.0</td>\n",
              "      <td>69.66</td>\n",
              "      <td>0.0</td>\n",
              "      <td>1.0</td>\n",
              "      <td>0.0</td>\n",
              "      <td>3.0</td>\n",
              "      <td>0.0</td>\n",
              "    </tr>\n",
              "  </tbody>\n",
              "</table>\n",
              "</div>"
            ],
            "text/plain": [
              "     HR  O2Sat       Temp         SBP  ...  Unit1  Unit2  ICULOS  SepsisLabel\n",
              "0  99.0  100.0  36.993541  122.800077  ...    1.0    0.0     2.0          0.0\n",
              "1  97.5  100.0  36.993541  122.800077  ...    1.0    0.0     3.0          0.0\n",
              "\n",
              "[2 rows x 13 columns]"
            ]
          },
          "metadata": {
            "tags": []
          },
          "execution_count": 108
        }
      ]
    },
    {
      "cell_type": "code",
      "metadata": {
        "colab": {
          "base_uri": "https://localhost:8080/",
          "height": 402
        },
        "id": "Nhn3ettc0y7K",
        "outputId": "3898a6a4-715f-49ca-dec1-1db6e038d7c0"
      },
      "source": [
        "sns.distplot(data['HR'], hist=True, \n",
        "             kde=True, bins=90, hist_kws={'edgecolor':'black'},\n",
        "             kde_kws={'linewidth':4})\n",
        "\n",
        "sns.distplot(imputed_mean['HR'], hist=True, \n",
        "             kde=True, bins=90, hist_kws={'edgecolor':'black'},\n",
        "             kde_kws={'linewidth':4})\n",
        "plt.legend(['Original data','Imputed Data'], prop={'size': 16}, title = 'Mean imputation')\n",
        "plt.tight_layout(), plt.show()"
      ],
      "execution_count": 109,
      "outputs": [
        {
          "output_type": "stream",
          "text": [
            "/usr/local/lib/python3.7/dist-packages/seaborn/distributions.py:2557: FutureWarning: `distplot` is a deprecated function and will be removed in a future version. Please adapt your code to use either `displot` (a figure-level function with similar flexibility) or `histplot` (an axes-level function for histograms).\n",
            "  warnings.warn(msg, FutureWarning)\n",
            "/usr/local/lib/python3.7/dist-packages/seaborn/distributions.py:2557: FutureWarning: `distplot` is a deprecated function and will be removed in a future version. Please adapt your code to use either `displot` (a figure-level function with similar flexibility) or `histplot` (an axes-level function for histograms).\n",
            "  warnings.warn(msg, FutureWarning)\n"
          ],
          "name": "stderr"
        },
        {
          "output_type": "display_data",
          "data": {
            "image/png": "[encoded data removed]",
            "text/plain": [
              "<Figure size 432x288 with 1 Axes>"
            ]
          },
          "metadata": {
            "tags": [],
            "needs_background": "light"
          }
        },
        {
          "output_type": "execute_result",
          "data": {
            "text/plain": [
              "(None, None)"
            ]
          },
          "metadata": {
            "tags": []
          },
          "execution_count": 109
        }
      ]
    },
    {
      "cell_type": "code",
      "metadata": {
        "colab": {
          "base_uri": "https://localhost:8080/",
          "height": 111
        },
        "id": "_lgj3DKC092W",
        "outputId": "0fef1d8d-7955-4606-905d-69d5f97ffb7e"
      },
      "source": [
        "impute_mode=SimpleImputer(strategy='most_frequent')\n",
        "impute_mode.fit(data)\n",
        "imputed_mode=impute_mode.transform(data)\n",
        "imputed_mode=pd.DataFrame(imputed_mode,columns=data.columns)\n",
        "imputed_mode.head(2)"
      ],
      "execution_count": 110,
      "outputs": [
        {
          "output_type": "execute_result",
          "data": {
            "text/html": [
              "<div>\n",
              "<style scoped>\n",
              "    .dataframe tbody tr th:only-of-type {\n",
              "        vertical-align: middle;\n",
              "    }\n",
              "\n",
              "    .dataframe tbody tr th {\n",
              "        vertical-align: top;\n",
              "    }\n",
              "\n",
              "    .dataframe thead th {\n",
              "        text-align: right;\n",
              "    }\n",
              "</style>\n",
              "<table border=\"1\" class=\"dataframe\">\n",
              "  <thead>\n",
              "    <tr style=\"text-align: right;\">\n",
              "      <th></th>\n",
              "      <th>HR</th>\n",
              "      <th>O2Sat</th>\n",
              "      <th>Temp</th>\n",
              "      <th>SBP</th>\n",
              "      <th>MAP</th>\n",
              "      <th>DBP</th>\n",
              "      <th>Resp</th>\n",
              "      <th>Age</th>\n",
              "      <th>Gender</th>\n",
              "      <th>Unit1</th>\n",
              "      <th>Unit2</th>\n",
              "      <th>ICULOS</th>\n",
              "      <th>SepsisLabel</th>\n",
              "    </tr>\n",
              "  </thead>\n",
              "  <tbody>\n",
              "    <tr>\n",
              "      <th>0</th>\n",
              "      <td>99.0</td>\n",
              "      <td>100.0</td>\n",
              "      <td>37.0</td>\n",
              "      <td>112.0</td>\n",
              "      <td>71.0</td>\n",
              "      <td>58.0</td>\n",
              "      <td>13.5</td>\n",
              "      <td>69.66</td>\n",
              "      <td>0.0</td>\n",
              "      <td>1.0</td>\n",
              "      <td>0.0</td>\n",
              "      <td>2.0</td>\n",
              "      <td>0.0</td>\n",
              "    </tr>\n",
              "    <tr>\n",
              "      <th>1</th>\n",
              "      <td>97.5</td>\n",
              "      <td>100.0</td>\n",
              "      <td>37.0</td>\n",
              "      <td>112.0</td>\n",
              "      <td>78.0</td>\n",
              "      <td>58.0</td>\n",
              "      <td>15.0</td>\n",
              "      <td>69.66</td>\n",
              "      <td>0.0</td>\n",
              "      <td>1.0</td>\n",
              "      <td>0.0</td>\n",
              "      <td>3.0</td>\n",
              "      <td>0.0</td>\n",
              "    </tr>\n",
              "  </tbody>\n",
              "</table>\n",
              "</div>"
            ],
            "text/plain": [
              "     HR  O2Sat  Temp    SBP   MAP  ...  Gender  Unit1  Unit2  ICULOS  SepsisLabel\n",
              "0  99.0  100.0  37.0  112.0  71.0  ...     0.0    1.0    0.0     2.0          0.0\n",
              "1  97.5  100.0  37.0  112.0  78.0  ...     0.0    1.0    0.0     3.0          0.0\n",
              "\n",
              "[2 rows x 13 columns]"
            ]
          },
          "metadata": {
            "tags": []
          },
          "execution_count": 110
        }
      ]
    },
    {
      "cell_type": "code",
      "metadata": {
        "colab": {
          "base_uri": "https://localhost:8080/",
          "height": 402
        },
        "id": "5wp7q8Fi1Ffr",
        "outputId": "41be0b3e-6975-4d27-b607-ded52f931789"
      },
      "source": [
        "sns.distplot(data['HR'], hist=True, \n",
        "             kde=True, bins=90, hist_kws={'edgecolor':'black'},\n",
        "             kde_kws={'linewidth':4})\n",
        "\n",
        "sns.distplot(imputed_mode['HR'], hist=True, \n",
        "             kde=True, bins=90, hist_kws={'edgecolor':'black'},\n",
        "             kde_kws={'linewidth':4})\n",
        "plt.legend(['Original data','Imputed Data'], prop={'size': 16}, title = 'Mode imputation')\n",
        "plt.tight_layout(), plt.show()"
      ],
      "execution_count": 111,
      "outputs": [
        {
          "output_type": "stream",
          "text": [
            "/usr/local/lib/python3.7/dist-packages/seaborn/distributions.py:2557: FutureWarning: `distplot` is a deprecated function and will be removed in a future version. Please adapt your code to use either `displot` (a figure-level function with similar flexibility) or `histplot` (an axes-level function for histograms).\n",
            "  warnings.warn(msg, FutureWarning)\n",
            "/usr/local/lib/python3.7/dist-packages/seaborn/distributions.py:2557: FutureWarning: `distplot` is a deprecated function and will be removed in a future version. Please adapt your code to use either `displot` (a figure-level function with similar flexibility) or `histplot` (an axes-level function for histograms).\n",
            "  warnings.warn(msg, FutureWarning)\n"
          ],
          "name": "stderr"
        },
        {
          "output_type": "display_data",
          "data": {
            "image/png": "[encoded data removed]",
            "text/plain": [
              "<Figure size 432x288 with 1 Axes>"
            ]
          },
          "metadata": {
            "tags": [],
            "needs_background": "light"
          }
        },
        {
          "output_type": "execute_result",
          "data": {
            "text/plain": [
              "(None, None)"
            ]
          },
          "metadata": {
            "tags": []
          },
          "execution_count": 111
        }
      ]
    },
    {
      "cell_type": "code",
      "metadata": {
        "id": "v3MpyVcL8WTK"
      },
      "source": [
        "#creating training and test data to apply regression model\n",
        "train=data.dropna(axis=0,how='any')\n",
        "test=data[(data['O2Sat'].notnull()) & \n",
        "          (data['SBP'].notnull()) & \n",
        "          (data['MAP'].notnull()) &\n",
        "          (data['DBP'].notnull()) &\n",
        "          (data['HR'].isnull())]"
      ],
      "execution_count": 112,
      "outputs": []
    },
    {
      "cell_type": "code",
      "metadata": {
        "id": "f5m8UDTM_Rgd"
      },
      "source": [
        "input_cols = ['O2Sat', 'SBP', 'MAP','DBP']\n",
        "output_cols = 'HR'\n",
        "\n",
        "model=datawig.SimpleImputer(input_columns=input_cols,\n",
        "                            output_column=output_cols,\n",
        "                            output_path = 'datawig_model'  #stores model data and metrics\n",
        ")\n",
        "model.fit(train_df=train,num_epochs=50)\n",
        "y_pred=model.predict(test)"
      ],
      "execution_count": 113,
      "outputs": []
    },
    {
      "cell_type": "code",
      "metadata": {
        "colab": {
          "base_uri": "https://localhost:8080/",
          "height": 419
        },
        "id": "B53GfEbkAjNY",
        "outputId": "7fa84ed2-eec6-47b4-9a72-41a32a4f6a79"
      },
      "source": [
        "y_pred"
      ],
      "execution_count": 114,
      "outputs": [
        {
          "output_type": "execute_result",
          "data": {
            "text/html": [
              "<div>\n",
              "<style scoped>\n",
              "    .dataframe tbody tr th:only-of-type {\n",
              "        vertical-align: middle;\n",
              "    }\n",
              "\n",
              "    .dataframe tbody tr th {\n",
              "        vertical-align: top;\n",
              "    }\n",
              "\n",
              "    .dataframe thead th {\n",
              "        text-align: right;\n",
              "    }\n",
              "</style>\n",
              "<table border=\"1\" class=\"dataframe\">\n",
              "  <thead>\n",
              "    <tr style=\"text-align: right;\">\n",
              "      <th></th>\n",
              "      <th>HR</th>\n",
              "      <th>O2Sat</th>\n",
              "      <th>Temp</th>\n",
              "      <th>SBP</th>\n",
              "      <th>MAP</th>\n",
              "      <th>DBP</th>\n",
              "      <th>Resp</th>\n",
              "      <th>Age</th>\n",
              "      <th>Gender</th>\n",
              "      <th>Unit1</th>\n",
              "      <th>Unit2</th>\n",
              "      <th>ICULOS</th>\n",
              "      <th>SepsisLabel</th>\n",
              "      <th>HR_imputed</th>\n",
              "    </tr>\n",
              "  </thead>\n",
              "  <tbody>\n",
              "    <tr>\n",
              "      <th>1512</th>\n",
              "      <td>NaN</td>\n",
              "      <td>100.0</td>\n",
              "      <td>NaN</td>\n",
              "      <td>110.0</td>\n",
              "      <td>74.0</td>\n",
              "      <td>60.0</td>\n",
              "      <td>16.0</td>\n",
              "      <td>23.33</td>\n",
              "      <td>1</td>\n",
              "      <td>NaN</td>\n",
              "      <td>NaN</td>\n",
              "      <td>14</td>\n",
              "      <td>0</td>\n",
              "      <td>87.816785</td>\n",
              "    </tr>\n",
              "    <tr>\n",
              "      <th>5838</th>\n",
              "      <td>NaN</td>\n",
              "      <td>96.0</td>\n",
              "      <td>37.0</td>\n",
              "      <td>93.0</td>\n",
              "      <td>81.0</td>\n",
              "      <td>81.0</td>\n",
              "      <td>12.0</td>\n",
              "      <td>27.01</td>\n",
              "      <td>0</td>\n",
              "      <td>1.0</td>\n",
              "      <td>0.0</td>\n",
              "      <td>43</td>\n",
              "      <td>1</td>\n",
              "      <td>90.370902</td>\n",
              "    </tr>\n",
              "    <tr>\n",
              "      <th>8528</th>\n",
              "      <td>NaN</td>\n",
              "      <td>96.0</td>\n",
              "      <td>37.8</td>\n",
              "      <td>99.0</td>\n",
              "      <td>67.0</td>\n",
              "      <td>64.5</td>\n",
              "      <td>12.0</td>\n",
              "      <td>55.18</td>\n",
              "      <td>1</td>\n",
              "      <td>NaN</td>\n",
              "      <td>NaN</td>\n",
              "      <td>15</td>\n",
              "      <td>0</td>\n",
              "      <td>89.833322</td>\n",
              "    </tr>\n",
              "    <tr>\n",
              "      <th>11209</th>\n",
              "      <td>NaN</td>\n",
              "      <td>100.0</td>\n",
              "      <td>NaN</td>\n",
              "      <td>107.0</td>\n",
              "      <td>75.0</td>\n",
              "      <td>59.0</td>\n",
              "      <td>16.0</td>\n",
              "      <td>69.26</td>\n",
              "      <td>1</td>\n",
              "      <td>0.0</td>\n",
              "      <td>1.0</td>\n",
              "      <td>3</td>\n",
              "      <td>0</td>\n",
              "      <td>85.838557</td>\n",
              "    </tr>\n",
              "    <tr>\n",
              "      <th>11904</th>\n",
              "      <td>NaN</td>\n",
              "      <td>97.0</td>\n",
              "      <td>NaN</td>\n",
              "      <td>100.0</td>\n",
              "      <td>73.0</td>\n",
              "      <td>60.0</td>\n",
              "      <td>15.0</td>\n",
              "      <td>52.25</td>\n",
              "      <td>1</td>\n",
              "      <td>NaN</td>\n",
              "      <td>NaN</td>\n",
              "      <td>11</td>\n",
              "      <td>0</td>\n",
              "      <td>89.859775</td>\n",
              "    </tr>\n",
              "    <tr>\n",
              "      <th>...</th>\n",
              "      <td>...</td>\n",
              "      <td>...</td>\n",
              "      <td>...</td>\n",
              "      <td>...</td>\n",
              "      <td>...</td>\n",
              "      <td>...</td>\n",
              "      <td>...</td>\n",
              "      <td>...</td>\n",
              "      <td>...</td>\n",
              "      <td>...</td>\n",
              "      <td>...</td>\n",
              "      <td>...</td>\n",
              "      <td>...</td>\n",
              "      <td>...</td>\n",
              "    </tr>\n",
              "    <tr>\n",
              "      <th>1153939</th>\n",
              "      <td>NaN</td>\n",
              "      <td>96.0</td>\n",
              "      <td>36.8</td>\n",
              "      <td>160.0</td>\n",
              "      <td>122.0</td>\n",
              "      <td>96.0</td>\n",
              "      <td>11.0</td>\n",
              "      <td>53.00</td>\n",
              "      <td>1</td>\n",
              "      <td>0.0</td>\n",
              "      <td>1.0</td>\n",
              "      <td>39</td>\n",
              "      <td>0</td>\n",
              "      <td>92.481441</td>\n",
              "    </tr>\n",
              "    <tr>\n",
              "      <th>1156018</th>\n",
              "      <td>NaN</td>\n",
              "      <td>97.0</td>\n",
              "      <td>NaN</td>\n",
              "      <td>172.0</td>\n",
              "      <td>113.0</td>\n",
              "      <td>91.0</td>\n",
              "      <td>18.0</td>\n",
              "      <td>58.00</td>\n",
              "      <td>1</td>\n",
              "      <td>NaN</td>\n",
              "      <td>NaN</td>\n",
              "      <td>2</td>\n",
              "      <td>0</td>\n",
              "      <td>91.777500</td>\n",
              "    </tr>\n",
              "    <tr>\n",
              "      <th>1163844</th>\n",
              "      <td>NaN</td>\n",
              "      <td>100.0</td>\n",
              "      <td>NaN</td>\n",
              "      <td>89.0</td>\n",
              "      <td>62.0</td>\n",
              "      <td>50.5</td>\n",
              "      <td>NaN</td>\n",
              "      <td>24.00</td>\n",
              "      <td>0</td>\n",
              "      <td>0.0</td>\n",
              "      <td>1.0</td>\n",
              "      <td>3</td>\n",
              "      <td>0</td>\n",
              "      <td>88.457959</td>\n",
              "    </tr>\n",
              "    <tr>\n",
              "      <th>1164672</th>\n",
              "      <td>NaN</td>\n",
              "      <td>99.0</td>\n",
              "      <td>NaN</td>\n",
              "      <td>94.0</td>\n",
              "      <td>70.0</td>\n",
              "      <td>56.0</td>\n",
              "      <td>20.0</td>\n",
              "      <td>62.00</td>\n",
              "      <td>0</td>\n",
              "      <td>NaN</td>\n",
              "      <td>NaN</td>\n",
              "      <td>2</td>\n",
              "      <td>0</td>\n",
              "      <td>87.703960</td>\n",
              "    </tr>\n",
              "    <tr>\n",
              "      <th>1166815</th>\n",
              "      <td>NaN</td>\n",
              "      <td>92.0</td>\n",
              "      <td>NaN</td>\n",
              "      <td>93.0</td>\n",
              "      <td>73.0</td>\n",
              "      <td>65.0</td>\n",
              "      <td>NaN</td>\n",
              "      <td>45.00</td>\n",
              "      <td>1</td>\n",
              "      <td>1.0</td>\n",
              "      <td>0.0</td>\n",
              "      <td>43</td>\n",
              "      <td>0</td>\n",
              "      <td>95.238363</td>\n",
              "    </tr>\n",
              "  </tbody>\n",
              "</table>\n",
              "<p>575 rows × 14 columns</p>\n",
              "</div>"
            ],
            "text/plain": [
              "         HR  O2Sat  Temp    SBP  ...  Unit2  ICULOS  SepsisLabel  HR_imputed\n",
              "1512    NaN  100.0   NaN  110.0  ...    NaN      14            0   87.816785\n",
              "5838    NaN   96.0  37.0   93.0  ...    0.0      43            1   90.370902\n",
              "8528    NaN   96.0  37.8   99.0  ...    NaN      15            0   89.833322\n",
              "11209   NaN  100.0   NaN  107.0  ...    1.0       3            0   85.838557\n",
              "11904   NaN   97.0   NaN  100.0  ...    NaN      11            0   89.859775\n",
              "...      ..    ...   ...    ...  ...    ...     ...          ...         ...\n",
              "1153939 NaN   96.0  36.8  160.0  ...    1.0      39            0   92.481441\n",
              "1156018 NaN   97.0   NaN  172.0  ...    NaN       2            0   91.777500\n",
              "1163844 NaN  100.0   NaN   89.0  ...    1.0       3            0   88.457959\n",
              "1164672 NaN   99.0   NaN   94.0  ...    NaN       2            0   87.703960\n",
              "1166815 NaN   92.0   NaN   93.0  ...    0.0      43            0   95.238363\n",
              "\n",
              "[575 rows x 14 columns]"
            ]
          },
          "metadata": {
            "tags": []
          },
          "execution_count": 114
        }
      ]
    },
    {
      "cell_type": "code",
      "metadata": {
        "colab": {
          "base_uri": "https://localhost:8080/",
          "height": 402
        },
        "id": "Ew-5MTRWFlAQ",
        "outputId": "34197af1-9004-4e80-c6f2-400465a7d196"
      },
      "source": [
        "sns.distplot(data['HR'], hist=True, \n",
        "             kde=True, bins=90, hist_kws={'edgecolor':'black'},\n",
        "             kde_kws={'linewidth':4})\n",
        "\n",
        "sns.distplot(y_pred['HR_imputed'], hist=True, \n",
        "             kde=True, bins=90, hist_kws={'edgecolor':'black'},\n",
        "             kde_kws={'linewidth':4})\n",
        "plt.legend(['Original data','Imputed Data'], prop={'size': 16}, title = 'datawig')\n",
        "plt.tight_layout(), plt.show()"
      ],
      "execution_count": 115,
      "outputs": [
        {
          "output_type": "stream",
          "text": [
            "/usr/local/lib/python3.7/dist-packages/seaborn/distributions.py:2557: FutureWarning: `distplot` is a deprecated function and will be removed in a future version. Please adapt your code to use either `displot` (a figure-level function with similar flexibility) or `histplot` (an axes-level function for histograms).\n",
            "  warnings.warn(msg, FutureWarning)\n",
            "/usr/local/lib/python3.7/dist-packages/seaborn/distributions.py:2557: FutureWarning: `distplot` is a deprecated function and will be removed in a future version. Please adapt your code to use either `displot` (a figure-level function with similar flexibility) or `histplot` (an axes-level function for histograms).\n",
            "  warnings.warn(msg, FutureWarning)\n"
          ],
          "name": "stderr"
        },
        {
          "output_type": "display_data",
          "data": {
            "image/png": "[encoded data removed]",
            "text/plain": [
              "<Figure size 432x288 with 1 Axes>"
            ]
          },
          "metadata": {
            "tags": [],
            "needs_background": "light"
          }
        },
        {
          "output_type": "execute_result",
          "data": {
            "text/plain": [
              "(None, None)"
            ]
          },
          "metadata": {
            "tags": []
          },
          "execution_count": 115
        }
      ]
    },
    {
      "cell_type": "code",
      "metadata": {
        "id": "PVkKzeoDEF_4"
      },
      "source": [
        "#creating training and test data to apply regression model\n",
        "train=data.dropna(axis=0,how='any')\n",
        "test=data[(data['HR'].notnull()) & \n",
        "          (data['SBP'].notnull()) & \n",
        "          (data['MAP'].notnull()) &\n",
        "          (data['DBP'].notnull()) &\n",
        "          (data['O2Sat'].isnull())]"
      ],
      "execution_count": 116,
      "outputs": []
    },
    {
      "cell_type": "code",
      "metadata": {
        "id": "GDWKvYC-EQqy"
      },
      "source": [
        "input_cols = ['HR', 'SBP', 'MAP','DBP']\n",
        "output_cols = 'O2Sat'\n",
        "\n",
        "model=datawig.SimpleImputer(input_columns=input_cols,\n",
        "                            output_column=output_cols,\n",
        "                            output_path = 'datawig_model'  #stores model data and metrics\n",
        ")\n",
        "model.fit(train_df=train,num_epochs=50)\n",
        "y_pred=model.predict(test)"
      ],
      "execution_count": 117,
      "outputs": []
    },
    {
      "cell_type": "code",
      "metadata": {
        "colab": {
          "base_uri": "https://localhost:8080/",
          "height": 419
        },
        "id": "_E9ggDkREk_a",
        "outputId": "e141fd19-6bf3-4e09-f750-7b3d26992a3d"
      },
      "source": [
        "y_pred"
      ],
      "execution_count": 118,
      "outputs": [
        {
          "output_type": "execute_result",
          "data": {
            "text/html": [
              "<div>\n",
              "<style scoped>\n",
              "    .dataframe tbody tr th:only-of-type {\n",
              "        vertical-align: middle;\n",
              "    }\n",
              "\n",
              "    .dataframe tbody tr th {\n",
              "        vertical-align: top;\n",
              "    }\n",
              "\n",
              "    .dataframe thead th {\n",
              "        text-align: right;\n",
              "    }\n",
              "</style>\n",
              "<table border=\"1\" class=\"dataframe\">\n",
              "  <thead>\n",
              "    <tr style=\"text-align: right;\">\n",
              "      <th></th>\n",
              "      <th>HR</th>\n",
              "      <th>O2Sat</th>\n",
              "      <th>Temp</th>\n",
              "      <th>SBP</th>\n",
              "      <th>MAP</th>\n",
              "      <th>DBP</th>\n",
              "      <th>Resp</th>\n",
              "      <th>Age</th>\n",
              "      <th>Gender</th>\n",
              "      <th>Unit1</th>\n",
              "      <th>Unit2</th>\n",
              "      <th>ICULOS</th>\n",
              "      <th>SepsisLabel</th>\n",
              "      <th>O2Sat_imputed</th>\n",
              "    </tr>\n",
              "  </thead>\n",
              "  <tbody>\n",
              "    <tr>\n",
              "      <th>36</th>\n",
              "      <td>87.0</td>\n",
              "      <td>NaN</td>\n",
              "      <td>37.17</td>\n",
              "      <td>125.0</td>\n",
              "      <td>80.0</td>\n",
              "      <td>56.0</td>\n",
              "      <td>19.0</td>\n",
              "      <td>69.66</td>\n",
              "      <td>0</td>\n",
              "      <td>1.0</td>\n",
              "      <td>0.0</td>\n",
              "      <td>38</td>\n",
              "      <td>0</td>\n",
              "      <td>97.710675</td>\n",
              "    </tr>\n",
              "    <tr>\n",
              "      <th>80</th>\n",
              "      <td>87.0</td>\n",
              "      <td>NaN</td>\n",
              "      <td>37.17</td>\n",
              "      <td>125.0</td>\n",
              "      <td>80.0</td>\n",
              "      <td>56.0</td>\n",
              "      <td>19.0</td>\n",
              "      <td>69.66</td>\n",
              "      <td>0</td>\n",
              "      <td>1.0</td>\n",
              "      <td>0.0</td>\n",
              "      <td>38</td>\n",
              "      <td>0</td>\n",
              "      <td>97.710675</td>\n",
              "    </tr>\n",
              "    <tr>\n",
              "      <th>435</th>\n",
              "      <td>78.0</td>\n",
              "      <td>NaN</td>\n",
              "      <td>36.22</td>\n",
              "      <td>153.0</td>\n",
              "      <td>92.0</td>\n",
              "      <td>70.0</td>\n",
              "      <td>19.0</td>\n",
              "      <td>74.89</td>\n",
              "      <td>1</td>\n",
              "      <td>NaN</td>\n",
              "      <td>NaN</td>\n",
              "      <td>22</td>\n",
              "      <td>0</td>\n",
              "      <td>97.560852</td>\n",
              "    </tr>\n",
              "    <tr>\n",
              "      <th>681</th>\n",
              "      <td>85.0</td>\n",
              "      <td>NaN</td>\n",
              "      <td>NaN</td>\n",
              "      <td>88.0</td>\n",
              "      <td>71.0</td>\n",
              "      <td>59.0</td>\n",
              "      <td>21.0</td>\n",
              "      <td>76.49</td>\n",
              "      <td>0</td>\n",
              "      <td>NaN</td>\n",
              "      <td>NaN</td>\n",
              "      <td>11</td>\n",
              "      <td>0</td>\n",
              "      <td>97.387906</td>\n",
              "    </tr>\n",
              "    <tr>\n",
              "      <th>690</th>\n",
              "      <td>94.0</td>\n",
              "      <td>NaN</td>\n",
              "      <td>36.72</td>\n",
              "      <td>91.0</td>\n",
              "      <td>75.0</td>\n",
              "      <td>63.0</td>\n",
              "      <td>21.0</td>\n",
              "      <td>76.49</td>\n",
              "      <td>0</td>\n",
              "      <td>NaN</td>\n",
              "      <td>NaN</td>\n",
              "      <td>20</td>\n",
              "      <td>0</td>\n",
              "      <td>97.330551</td>\n",
              "    </tr>\n",
              "    <tr>\n",
              "      <th>...</th>\n",
              "      <td>...</td>\n",
              "      <td>...</td>\n",
              "      <td>...</td>\n",
              "      <td>...</td>\n",
              "      <td>...</td>\n",
              "      <td>...</td>\n",
              "      <td>...</td>\n",
              "      <td>...</td>\n",
              "      <td>...</td>\n",
              "      <td>...</td>\n",
              "      <td>...</td>\n",
              "      <td>...</td>\n",
              "      <td>...</td>\n",
              "      <td>...</td>\n",
              "    </tr>\n",
              "    <tr>\n",
              "      <th>1166416</th>\n",
              "      <td>86.0</td>\n",
              "      <td>NaN</td>\n",
              "      <td>37.30</td>\n",
              "      <td>115.0</td>\n",
              "      <td>86.0</td>\n",
              "      <td>71.0</td>\n",
              "      <td>18.0</td>\n",
              "      <td>69.00</td>\n",
              "      <td>1</td>\n",
              "      <td>1.0</td>\n",
              "      <td>0.0</td>\n",
              "      <td>24</td>\n",
              "      <td>0</td>\n",
              "      <td>97.749778</td>\n",
              "    </tr>\n",
              "    <tr>\n",
              "      <th>1166627</th>\n",
              "      <td>74.0</td>\n",
              "      <td>NaN</td>\n",
              "      <td>NaN</td>\n",
              "      <td>137.0</td>\n",
              "      <td>88.0</td>\n",
              "      <td>61.0</td>\n",
              "      <td>18.0</td>\n",
              "      <td>74.00</td>\n",
              "      <td>0</td>\n",
              "      <td>NaN</td>\n",
              "      <td>NaN</td>\n",
              "      <td>43</td>\n",
              "      <td>0</td>\n",
              "      <td>97.749778</td>\n",
              "    </tr>\n",
              "    <tr>\n",
              "      <th>1166629</th>\n",
              "      <td>75.0</td>\n",
              "      <td>NaN</td>\n",
              "      <td>38.10</td>\n",
              "      <td>138.0</td>\n",
              "      <td>89.0</td>\n",
              "      <td>62.0</td>\n",
              "      <td>25.0</td>\n",
              "      <td>74.00</td>\n",
              "      <td>0</td>\n",
              "      <td>NaN</td>\n",
              "      <td>NaN</td>\n",
              "      <td>45</td>\n",
              "      <td>0</td>\n",
              "      <td>97.749778</td>\n",
              "    </tr>\n",
              "    <tr>\n",
              "      <th>1166871</th>\n",
              "      <td>101.0</td>\n",
              "      <td>NaN</td>\n",
              "      <td>NaN</td>\n",
              "      <td>133.0</td>\n",
              "      <td>77.0</td>\n",
              "      <td>62.0</td>\n",
              "      <td>19.0</td>\n",
              "      <td>55.00</td>\n",
              "      <td>0</td>\n",
              "      <td>0.0</td>\n",
              "      <td>1.0</td>\n",
              "      <td>13</td>\n",
              "      <td>0</td>\n",
              "      <td>96.900885</td>\n",
              "    </tr>\n",
              "    <tr>\n",
              "      <th>1166923</th>\n",
              "      <td>66.0</td>\n",
              "      <td>NaN</td>\n",
              "      <td>NaN</td>\n",
              "      <td>100.0</td>\n",
              "      <td>93.0</td>\n",
              "      <td>86.0</td>\n",
              "      <td>18.0</td>\n",
              "      <td>76.00</td>\n",
              "      <td>1</td>\n",
              "      <td>1.0</td>\n",
              "      <td>0.0</td>\n",
              "      <td>42</td>\n",
              "      <td>0</td>\n",
              "      <td>97.730971</td>\n",
              "    </tr>\n",
              "  </tbody>\n",
              "</table>\n",
              "<p>17440 rows × 14 columns</p>\n",
              "</div>"
            ],
            "text/plain": [
              "            HR  O2Sat   Temp    SBP  ...  Unit2  ICULOS  SepsisLabel  O2Sat_imputed\n",
              "36        87.0    NaN  37.17  125.0  ...    0.0      38            0      97.710675\n",
              "80        87.0    NaN  37.17  125.0  ...    0.0      38            0      97.710675\n",
              "435       78.0    NaN  36.22  153.0  ...    NaN      22            0      97.560852\n",
              "681       85.0    NaN    NaN   88.0  ...    NaN      11            0      97.387906\n",
              "690       94.0    NaN  36.72   91.0  ...    NaN      20            0      97.330551\n",
              "...        ...    ...    ...    ...  ...    ...     ...          ...            ...\n",
              "1166416   86.0    NaN  37.30  115.0  ...    0.0      24            0      97.749778\n",
              "1166627   74.0    NaN    NaN  137.0  ...    NaN      43            0      97.749778\n",
              "1166629   75.0    NaN  38.10  138.0  ...    NaN      45            0      97.749778\n",
              "1166871  101.0    NaN    NaN  133.0  ...    1.0      13            0      96.900885\n",
              "1166923   66.0    NaN    NaN  100.0  ...    0.0      42            0      97.730971\n",
              "\n",
              "[17440 rows x 14 columns]"
            ]
          },
          "metadata": {
            "tags": []
          },
          "execution_count": 118
        }
      ]
    },
    {
      "cell_type": "code",
      "metadata": {
        "id": "S_8u3tcTF91P"
      },
      "source": [
        "#creating training and test data to apply regression model\n",
        "train=data.dropna(axis=0,how='any')\n",
        "test=data[(data['HR'].notnull()) & \n",
        "          (data['O2Sat'].notnull()) & \n",
        "          (data['MAP'].notnull()) &\n",
        "          (data['DBP'].notnull()) &\n",
        "          (data['SBP'].isnull())]"
      ],
      "execution_count": 119,
      "outputs": []
    },
    {
      "cell_type": "code",
      "metadata": {
        "id": "QTbdvZH7GC2V"
      },
      "source": [
        "input_cols = ['HR', 'O2Sat', 'MAP','DBP']\n",
        "output_cols = 'SBP'\n",
        "\n",
        "model=datawig.SimpleImputer(input_columns=input_cols,\n",
        "                            output_column=output_cols,\n",
        "                            output_path = 'datawig_model'  #stores model data and metrics\n",
        ")\n",
        "model.fit(train_df=train,num_epochs=50)\n",
        "y_pred=model.predict(test)"
      ],
      "execution_count": 120,
      "outputs": []
    },
    {
      "cell_type": "code",
      "metadata": {
        "id": "WRrv8m3VGRvM"
      },
      "source": [
        "#creating training and test data to apply regression model\n",
        "train=data.dropna(axis=0,how='any')\n",
        "test=data[(data['HR'].notnull()) & \n",
        "          (data['O2Sat'].notnull()) & \n",
        "          (data['SBP'].notnull()) &\n",
        "          (data['DBP'].notnull()) &\n",
        "          (data['MAP'].isnull())]"
      ],
      "execution_count": 121,
      "outputs": []
    },
    {
      "cell_type": "code",
      "metadata": {
        "id": "4veN0scbGboP"
      },
      "source": [
        "input_cols = ['HR', 'O2Sat', 'SBP','DBP']\n",
        "output_cols = 'MAP'\n",
        "\n",
        "model=datawig.SimpleImputer(input_columns=input_cols,\n",
        "                            output_column=output_cols,\n",
        "                            output_path = 'datawig_model'  #stores model data and metrics\n",
        ")\n",
        "model.fit(train_df=train,num_epochs=50)\n",
        "y_pred=model.predict(test)"
      ],
      "execution_count": 122,
      "outputs": []
    },
    {
      "cell_type": "code",
      "metadata": {
        "id": "NA_59tCeHFDH"
      },
      "source": [
        "#creating training and test data to apply regression model\n",
        "train=data.dropna(axis=0,how='any')\n",
        "test=data[(data['HR'].notnull()) & \n",
        "          (data['O2Sat'].notnull()) & \n",
        "          (data['SBP'].notnull()) &\n",
        "          (data['MAP'].notnull()) &\n",
        "          (data['DBP'].isnull())]"
      ],
      "execution_count": 123,
      "outputs": []
    },
    {
      "cell_type": "code",
      "metadata": {
        "id": "-6L63adbHOrz"
      },
      "source": [
        "input_cols = ['HR', 'O2Sat', 'SBP','MAP']\n",
        "output_cols = 'DBP'\n",
        "\n",
        "model=datawig.SimpleImputer(input_columns=input_cols,\n",
        "                            output_column=output_cols,\n",
        "                            output_path = 'datawig_model'  #stores model data and metrics\n",
        ")\n",
        "model.fit(train_df=train,num_epochs=100)\n",
        "y_pred=model.predict(test)"
      ],
      "execution_count": 124,
      "outputs": []
    },
    {
      "cell_type": "code",
      "metadata": {
        "colab": {
          "base_uri": "https://localhost:8080/",
          "height": 419
        },
        "id": "u_dw-kEZNNMc",
        "outputId": "c974715b-2c5f-4c9f-efd9-e9495afcee76"
      },
      "source": [
        "y_pred"
      ],
      "execution_count": 125,
      "outputs": [
        {
          "output_type": "execute_result",
          "data": {
            "text/html": [
              "<div>\n",
              "<style scoped>\n",
              "    .dataframe tbody tr th:only-of-type {\n",
              "        vertical-align: middle;\n",
              "    }\n",
              "\n",
              "    .dataframe tbody tr th {\n",
              "        vertical-align: top;\n",
              "    }\n",
              "\n",
              "    .dataframe thead th {\n",
              "        text-align: right;\n",
              "    }\n",
              "</style>\n",
              "<table border=\"1\" class=\"dataframe\">\n",
              "  <thead>\n",
              "    <tr style=\"text-align: right;\">\n",
              "      <th></th>\n",
              "      <th>HR</th>\n",
              "      <th>O2Sat</th>\n",
              "      <th>Temp</th>\n",
              "      <th>SBP</th>\n",
              "      <th>MAP</th>\n",
              "      <th>DBP</th>\n",
              "      <th>Resp</th>\n",
              "      <th>Age</th>\n",
              "      <th>Gender</th>\n",
              "      <th>Unit1</th>\n",
              "      <th>Unit2</th>\n",
              "      <th>ICULOS</th>\n",
              "      <th>SepsisLabel</th>\n",
              "      <th>DBP_imputed</th>\n",
              "    </tr>\n",
              "  </thead>\n",
              "  <tbody>\n",
              "    <tr>\n",
              "      <th>154</th>\n",
              "      <td>121.0</td>\n",
              "      <td>98.0</td>\n",
              "      <td>35.72</td>\n",
              "      <td>149.0</td>\n",
              "      <td>94.0</td>\n",
              "      <td>NaN</td>\n",
              "      <td>14.0</td>\n",
              "      <td>80.69</td>\n",
              "      <td>0</td>\n",
              "      <td>NaN</td>\n",
              "      <td>NaN</td>\n",
              "      <td>2</td>\n",
              "      <td>0</td>\n",
              "      <td>69.863936</td>\n",
              "    </tr>\n",
              "    <tr>\n",
              "      <th>155</th>\n",
              "      <td>112.0</td>\n",
              "      <td>97.0</td>\n",
              "      <td>NaN</td>\n",
              "      <td>98.0</td>\n",
              "      <td>64.0</td>\n",
              "      <td>NaN</td>\n",
              "      <td>13.0</td>\n",
              "      <td>80.69</td>\n",
              "      <td>0</td>\n",
              "      <td>NaN</td>\n",
              "      <td>NaN</td>\n",
              "      <td>3</td>\n",
              "      <td>0</td>\n",
              "      <td>50.083778</td>\n",
              "    </tr>\n",
              "    <tr>\n",
              "      <th>156</th>\n",
              "      <td>116.0</td>\n",
              "      <td>98.0</td>\n",
              "      <td>NaN</td>\n",
              "      <td>137.0</td>\n",
              "      <td>80.0</td>\n",
              "      <td>NaN</td>\n",
              "      <td>14.0</td>\n",
              "      <td>80.69</td>\n",
              "      <td>0</td>\n",
              "      <td>NaN</td>\n",
              "      <td>NaN</td>\n",
              "      <td>4</td>\n",
              "      <td>0</td>\n",
              "      <td>57.784225</td>\n",
              "    </tr>\n",
              "    <tr>\n",
              "      <th>157</th>\n",
              "      <td>111.0</td>\n",
              "      <td>97.0</td>\n",
              "      <td>NaN</td>\n",
              "      <td>90.0</td>\n",
              "      <td>59.0</td>\n",
              "      <td>NaN</td>\n",
              "      <td>11.0</td>\n",
              "      <td>80.69</td>\n",
              "      <td>0</td>\n",
              "      <td>NaN</td>\n",
              "      <td>NaN</td>\n",
              "      <td>5</td>\n",
              "      <td>0</td>\n",
              "      <td>46.810206</td>\n",
              "    </tr>\n",
              "    <tr>\n",
              "      <th>158</th>\n",
              "      <td>103.0</td>\n",
              "      <td>97.0</td>\n",
              "      <td>35.56</td>\n",
              "      <td>111.5</td>\n",
              "      <td>66.0</td>\n",
              "      <td>NaN</td>\n",
              "      <td>11.0</td>\n",
              "      <td>80.69</td>\n",
              "      <td>0</td>\n",
              "      <td>NaN</td>\n",
              "      <td>NaN</td>\n",
              "      <td>6</td>\n",
              "      <td>0</td>\n",
              "      <td>48.841977</td>\n",
              "    </tr>\n",
              "    <tr>\n",
              "      <th>...</th>\n",
              "      <td>...</td>\n",
              "      <td>...</td>\n",
              "      <td>...</td>\n",
              "      <td>...</td>\n",
              "      <td>...</td>\n",
              "      <td>...</td>\n",
              "      <td>...</td>\n",
              "      <td>...</td>\n",
              "      <td>...</td>\n",
              "      <td>...</td>\n",
              "      <td>...</td>\n",
              "      <td>...</td>\n",
              "      <td>...</td>\n",
              "      <td>...</td>\n",
              "    </tr>\n",
              "    <tr>\n",
              "      <th>1145984</th>\n",
              "      <td>71.0</td>\n",
              "      <td>96.0</td>\n",
              "      <td>37.20</td>\n",
              "      <td>110.0</td>\n",
              "      <td>83.0</td>\n",
              "      <td>NaN</td>\n",
              "      <td>22.0</td>\n",
              "      <td>44.00</td>\n",
              "      <td>0</td>\n",
              "      <td>NaN</td>\n",
              "      <td>NaN</td>\n",
              "      <td>31</td>\n",
              "      <td>0</td>\n",
              "      <td>65.937452</td>\n",
              "    </tr>\n",
              "    <tr>\n",
              "      <th>1149929</th>\n",
              "      <td>76.0</td>\n",
              "      <td>100.0</td>\n",
              "      <td>36.50</td>\n",
              "      <td>166.0</td>\n",
              "      <td>164.0</td>\n",
              "      <td>NaN</td>\n",
              "      <td>14.0</td>\n",
              "      <td>66.00</td>\n",
              "      <td>0</td>\n",
              "      <td>NaN</td>\n",
              "      <td>NaN</td>\n",
              "      <td>4</td>\n",
              "      <td>0</td>\n",
              "      <td>115.386792</td>\n",
              "    </tr>\n",
              "    <tr>\n",
              "      <th>1159010</th>\n",
              "      <td>87.0</td>\n",
              "      <td>92.0</td>\n",
              "      <td>37.80</td>\n",
              "      <td>74.0</td>\n",
              "      <td>50.0</td>\n",
              "      <td>NaN</td>\n",
              "      <td>39.0</td>\n",
              "      <td>72.00</td>\n",
              "      <td>1</td>\n",
              "      <td>0.0</td>\n",
              "      <td>1.0</td>\n",
              "      <td>39</td>\n",
              "      <td>0</td>\n",
              "      <td>40.133821</td>\n",
              "    </tr>\n",
              "    <tr>\n",
              "      <th>1162925</th>\n",
              "      <td>62.5</td>\n",
              "      <td>98.5</td>\n",
              "      <td>36.40</td>\n",
              "      <td>88.0</td>\n",
              "      <td>53.0</td>\n",
              "      <td>NaN</td>\n",
              "      <td>15.5</td>\n",
              "      <td>51.00</td>\n",
              "      <td>0</td>\n",
              "      <td>NaN</td>\n",
              "      <td>NaN</td>\n",
              "      <td>12</td>\n",
              "      <td>0</td>\n",
              "      <td>39.591445</td>\n",
              "    </tr>\n",
              "    <tr>\n",
              "      <th>1164091</th>\n",
              "      <td>86.0</td>\n",
              "      <td>99.0</td>\n",
              "      <td>NaN</td>\n",
              "      <td>113.0</td>\n",
              "      <td>75.0</td>\n",
              "      <td>NaN</td>\n",
              "      <td>23.0</td>\n",
              "      <td>65.00</td>\n",
              "      <td>1</td>\n",
              "      <td>0.0</td>\n",
              "      <td>1.0</td>\n",
              "      <td>17</td>\n",
              "      <td>0</td>\n",
              "      <td>56.915322</td>\n",
              "    </tr>\n",
              "  </tbody>\n",
              "</table>\n",
              "<p>235425 rows × 14 columns</p>\n",
              "</div>"
            ],
            "text/plain": [
              "            HR  O2Sat   Temp    SBP  ...  Unit2  ICULOS  SepsisLabel  DBP_imputed\n",
              "154      121.0   98.0  35.72  149.0  ...    NaN       2            0    69.863936\n",
              "155      112.0   97.0    NaN   98.0  ...    NaN       3            0    50.083778\n",
              "156      116.0   98.0    NaN  137.0  ...    NaN       4            0    57.784225\n",
              "157      111.0   97.0    NaN   90.0  ...    NaN       5            0    46.810206\n",
              "158      103.0   97.0  35.56  111.5  ...    NaN       6            0    48.841977\n",
              "...        ...    ...    ...    ...  ...    ...     ...          ...          ...\n",
              "1145984   71.0   96.0  37.20  110.0  ...    NaN      31            0    65.937452\n",
              "1149929   76.0  100.0  36.50  166.0  ...    NaN       4            0   115.386792\n",
              "1159010   87.0   92.0  37.80   74.0  ...    1.0      39            0    40.133821\n",
              "1162925   62.5   98.5  36.40   88.0  ...    NaN      12            0    39.591445\n",
              "1164091   86.0   99.0    NaN  113.0  ...    1.0      17            0    56.915322\n",
              "\n",
              "[235425 rows x 14 columns]"
            ]
          },
          "metadata": {
            "tags": []
          },
          "execution_count": 125
        }
      ]
    },
    {
      "cell_type": "code",
      "metadata": {
        "id": "osvkwUulOLCJ"
      },
      "source": [
        "#creating training and test data to apply regression model\n",
        "train=data.dropna(axis=0,how='any')\n",
        "test=data[(data['HR'].notnull()) & \n",
        "          (data['O2Sat'].notnull()) & \n",
        "          (data['SBP'].notnull()) &\n",
        "          (data['MAP'].notnull()) &\n",
        "          (data['DBP'].notnull()) &\n",
        "          (data['Temp'].isnull())]"
      ],
      "execution_count": 126,
      "outputs": []
    },
    {
      "cell_type": "code",
      "metadata": {
        "id": "DX6P6YN-OjTa"
      },
      "source": [
        "input_cols = ['HR', 'O2Sat', 'SBP','MAP', 'DBP']\n",
        "output_cols = 'Temp'\n",
        "\n",
        "model=datawig.SimpleImputer(input_columns=input_cols,\n",
        "                            output_column=output_cols,\n",
        "                            output_path = 'datawig_model'  #stores model data and metrics\n",
        ")\n",
        "model.fit(train_df=train,num_epochs=50)\n",
        "y_pred=model.predict(test)"
      ],
      "execution_count": 127,
      "outputs": []
    },
    {
      "cell_type": "code",
      "metadata": {
        "id": "x0AUZxPNOze7"
      },
      "source": [
        "#creating training and test data to apply regression model\n",
        "train=data.dropna(axis=0,how='any')\n",
        "test=data[(data['HR'].notnull()) & \n",
        "          (data['O2Sat'].notnull()) & \n",
        "          (data['SBP'].notnull()) &\n",
        "          (data['MAP'].notnull()) &\n",
        "          (data['DBP'].notnull()) &\n",
        "          (data['Temp'].notnull()) &\n",
        "          (data['Resp'].isnull())]"
      ],
      "execution_count": 128,
      "outputs": []
    },
    {
      "cell_type": "code",
      "metadata": {
        "id": "2ufVnwt5O_8A"
      },
      "source": [
        "input_cols = ['HR', 'O2Sat', 'SBP','MAP', 'DBP', 'Temp']\n",
        "output_cols = 'Resp'\n",
        "\n",
        "model=datawig.SimpleImputer(input_columns=input_cols,\n",
        "                            output_column=output_cols,\n",
        "                            output_path = 'datawig_model'  #stores model data and metrics\n",
        ")\n",
        "model.fit(train_df=train,num_epochs=50)\n",
        "y_pred=model.predict(test)"
      ],
      "execution_count": 129,
      "outputs": []
    },
    {
      "cell_type": "code",
      "metadata": {
        "colab": {
          "base_uri": "https://localhost:8080/",
          "height": 419
        },
        "id": "9Z8QBWjGPOK5",
        "outputId": "9c1b8270-d826-4cae-b9d0-660e4eff89f3"
      },
      "source": [
        "y_pred"
      ],
      "execution_count": 130,
      "outputs": [
        {
          "output_type": "execute_result",
          "data": {
            "text/html": [
              "<div>\n",
              "<style scoped>\n",
              "    .dataframe tbody tr th:only-of-type {\n",
              "        vertical-align: middle;\n",
              "    }\n",
              "\n",
              "    .dataframe tbody tr th {\n",
              "        vertical-align: top;\n",
              "    }\n",
              "\n",
              "    .dataframe thead th {\n",
              "        text-align: right;\n",
              "    }\n",
              "</style>\n",
              "<table border=\"1\" class=\"dataframe\">\n",
              "  <thead>\n",
              "    <tr style=\"text-align: right;\">\n",
              "      <th></th>\n",
              "      <th>HR</th>\n",
              "      <th>O2Sat</th>\n",
              "      <th>Temp</th>\n",
              "      <th>SBP</th>\n",
              "      <th>MAP</th>\n",
              "      <th>DBP</th>\n",
              "      <th>Resp</th>\n",
              "      <th>Age</th>\n",
              "      <th>Gender</th>\n",
              "      <th>Unit1</th>\n",
              "      <th>Unit2</th>\n",
              "      <th>ICULOS</th>\n",
              "      <th>SepsisLabel</th>\n",
              "      <th>Resp_imputed</th>\n",
              "    </tr>\n",
              "  </thead>\n",
              "  <tbody>\n",
              "    <tr>\n",
              "      <th>1386</th>\n",
              "      <td>92.5</td>\n",
              "      <td>100.0</td>\n",
              "      <td>37.20</td>\n",
              "      <td>156.5</td>\n",
              "      <td>85.0</td>\n",
              "      <td>63.0</td>\n",
              "      <td>NaN</td>\n",
              "      <td>76.56</td>\n",
              "      <td>1</td>\n",
              "      <td>0.0</td>\n",
              "      <td>1.0</td>\n",
              "      <td>38</td>\n",
              "      <td>0</td>\n",
              "      <td>17.617479</td>\n",
              "    </tr>\n",
              "    <tr>\n",
              "      <th>1887</th>\n",
              "      <td>86.0</td>\n",
              "      <td>93.0</td>\n",
              "      <td>36.78</td>\n",
              "      <td>102.0</td>\n",
              "      <td>88.0</td>\n",
              "      <td>85.0</td>\n",
              "      <td>NaN</td>\n",
              "      <td>61.20</td>\n",
              "      <td>1</td>\n",
              "      <td>NaN</td>\n",
              "      <td>NaN</td>\n",
              "      <td>14</td>\n",
              "      <td>0</td>\n",
              "      <td>19.539027</td>\n",
              "    </tr>\n",
              "    <tr>\n",
              "      <th>1891</th>\n",
              "      <td>88.0</td>\n",
              "      <td>96.0</td>\n",
              "      <td>37.17</td>\n",
              "      <td>133.0</td>\n",
              "      <td>87.0</td>\n",
              "      <td>65.0</td>\n",
              "      <td>NaN</td>\n",
              "      <td>61.20</td>\n",
              "      <td>1</td>\n",
              "      <td>NaN</td>\n",
              "      <td>NaN</td>\n",
              "      <td>18</td>\n",
              "      <td>0</td>\n",
              "      <td>19.300148</td>\n",
              "    </tr>\n",
              "    <tr>\n",
              "      <th>1893</th>\n",
              "      <td>82.0</td>\n",
              "      <td>94.0</td>\n",
              "      <td>37.89</td>\n",
              "      <td>75.0</td>\n",
              "      <td>73.0</td>\n",
              "      <td>67.0</td>\n",
              "      <td>NaN</td>\n",
              "      <td>61.20</td>\n",
              "      <td>1</td>\n",
              "      <td>NaN</td>\n",
              "      <td>NaN</td>\n",
              "      <td>20</td>\n",
              "      <td>0</td>\n",
              "      <td>18.929483</td>\n",
              "    </tr>\n",
              "    <tr>\n",
              "      <th>1895</th>\n",
              "      <td>88.0</td>\n",
              "      <td>95.0</td>\n",
              "      <td>38.06</td>\n",
              "      <td>151.0</td>\n",
              "      <td>88.0</td>\n",
              "      <td>61.0</td>\n",
              "      <td>NaN</td>\n",
              "      <td>61.20</td>\n",
              "      <td>1</td>\n",
              "      <td>NaN</td>\n",
              "      <td>NaN</td>\n",
              "      <td>22</td>\n",
              "      <td>0</td>\n",
              "      <td>20.851209</td>\n",
              "    </tr>\n",
              "    <tr>\n",
              "      <th>...</th>\n",
              "      <td>...</td>\n",
              "      <td>...</td>\n",
              "      <td>...</td>\n",
              "      <td>...</td>\n",
              "      <td>...</td>\n",
              "      <td>...</td>\n",
              "      <td>...</td>\n",
              "      <td>...</td>\n",
              "      <td>...</td>\n",
              "      <td>...</td>\n",
              "      <td>...</td>\n",
              "      <td>...</td>\n",
              "      <td>...</td>\n",
              "      <td>...</td>\n",
              "    </tr>\n",
              "    <tr>\n",
              "      <th>1167003</th>\n",
              "      <td>70.5</td>\n",
              "      <td>99.0</td>\n",
              "      <td>36.95</td>\n",
              "      <td>106.0</td>\n",
              "      <td>68.0</td>\n",
              "      <td>47.0</td>\n",
              "      <td>NaN</td>\n",
              "      <td>79.00</td>\n",
              "      <td>1</td>\n",
              "      <td>0.0</td>\n",
              "      <td>1.0</td>\n",
              "      <td>8</td>\n",
              "      <td>0</td>\n",
              "      <td>16.669376</td>\n",
              "    </tr>\n",
              "    <tr>\n",
              "      <th>1167004</th>\n",
              "      <td>75.0</td>\n",
              "      <td>100.0</td>\n",
              "      <td>37.10</td>\n",
              "      <td>114.0</td>\n",
              "      <td>73.0</td>\n",
              "      <td>49.0</td>\n",
              "      <td>NaN</td>\n",
              "      <td>79.00</td>\n",
              "      <td>1</td>\n",
              "      <td>0.0</td>\n",
              "      <td>1.0</td>\n",
              "      <td>9</td>\n",
              "      <td>0</td>\n",
              "      <td>16.463942</td>\n",
              "    </tr>\n",
              "    <tr>\n",
              "      <th>1167014</th>\n",
              "      <td>84.0</td>\n",
              "      <td>99.5</td>\n",
              "      <td>37.35</td>\n",
              "      <td>117.0</td>\n",
              "      <td>73.5</td>\n",
              "      <td>51.0</td>\n",
              "      <td>NaN</td>\n",
              "      <td>79.00</td>\n",
              "      <td>1</td>\n",
              "      <td>0.0</td>\n",
              "      <td>1.0</td>\n",
              "      <td>19</td>\n",
              "      <td>0</td>\n",
              "      <td>17.489552</td>\n",
              "    </tr>\n",
              "    <tr>\n",
              "      <th>1167140</th>\n",
              "      <td>82.0</td>\n",
              "      <td>100.0</td>\n",
              "      <td>36.45</td>\n",
              "      <td>88.0</td>\n",
              "      <td>64.0</td>\n",
              "      <td>58.0</td>\n",
              "      <td>NaN</td>\n",
              "      <td>29.00</td>\n",
              "      <td>0</td>\n",
              "      <td>0.0</td>\n",
              "      <td>1.0</td>\n",
              "      <td>3</td>\n",
              "      <td>0</td>\n",
              "      <td>15.492184</td>\n",
              "    </tr>\n",
              "    <tr>\n",
              "      <th>1167180</th>\n",
              "      <td>118.0</td>\n",
              "      <td>95.0</td>\n",
              "      <td>38.10</td>\n",
              "      <td>114.0</td>\n",
              "      <td>84.0</td>\n",
              "      <td>72.0</td>\n",
              "      <td>NaN</td>\n",
              "      <td>29.00</td>\n",
              "      <td>0</td>\n",
              "      <td>0.0</td>\n",
              "      <td>1.0</td>\n",
              "      <td>43</td>\n",
              "      <td>0</td>\n",
              "      <td>21.906308</td>\n",
              "    </tr>\n",
              "  </tbody>\n",
              "</table>\n",
              "<p>12249 rows × 14 columns</p>\n",
              "</div>"
            ],
            "text/plain": [
              "            HR  O2Sat   Temp    SBP  ...  Unit2  ICULOS  SepsisLabel  Resp_imputed\n",
              "1386      92.5  100.0  37.20  156.5  ...    1.0      38            0     17.617479\n",
              "1887      86.0   93.0  36.78  102.0  ...    NaN      14            0     19.539027\n",
              "1891      88.0   96.0  37.17  133.0  ...    NaN      18            0     19.300148\n",
              "1893      82.0   94.0  37.89   75.0  ...    NaN      20            0     18.929483\n",
              "1895      88.0   95.0  38.06  151.0  ...    NaN      22            0     20.851209\n",
              "...        ...    ...    ...    ...  ...    ...     ...          ...           ...\n",
              "1167003   70.5   99.0  36.95  106.0  ...    1.0       8            0     16.669376\n",
              "1167004   75.0  100.0  37.10  114.0  ...    1.0       9            0     16.463942\n",
              "1167014   84.0   99.5  37.35  117.0  ...    1.0      19            0     17.489552\n",
              "1167140   82.0  100.0  36.45   88.0  ...    1.0       3            0     15.492184\n",
              "1167180  118.0   95.0  38.10  114.0  ...    1.0      43            0     21.906308\n",
              "\n",
              "[12249 rows x 14 columns]"
            ]
          },
          "metadata": {
            "tags": []
          },
          "execution_count": 130
        }
      ]
    },
    {
      "cell_type": "code",
      "metadata": {
        "colab": {
          "base_uri": "https://localhost:8080/"
        },
        "id": "IRcgNbtgFD0Y",
        "outputId": "08c5453d-c75b-477f-edda-b2d6e7a5f492"
      },
      "source": [
        "y_pred.isnull().sum()"
      ],
      "execution_count": 131,
      "outputs": [
        {
          "output_type": "execute_result",
          "data": {
            "text/plain": [
              "HR                  0\n",
              "O2Sat               0\n",
              "Temp                0\n",
              "SBP                 0\n",
              "MAP                 0\n",
              "DBP                 0\n",
              "Resp            12249\n",
              "Age                 0\n",
              "Gender              0\n",
              "Unit1            2515\n",
              "Unit2            2515\n",
              "ICULOS              0\n",
              "SepsisLabel         0\n",
              "Resp_imputed        0\n",
              "dtype: int64"
            ]
          },
          "metadata": {
            "tags": []
          },
          "execution_count": 131
        }
      ]
    },
    {
      "cell_type": "code",
      "metadata": {
        "id": "gpT3W-sKMWh5"
      },
      "source": [
        "y_pred['Resp']=y_pred['Resp_imputed']"
      ],
      "execution_count": 132,
      "outputs": []
    },
    {
      "cell_type": "code",
      "metadata": {
        "colab": {
          "base_uri": "https://localhost:8080/",
          "height": 419
        },
        "id": "I5tVJ3nTQXE3",
        "outputId": "c6875f95-11a4-43f3-c959-82297018e636"
      },
      "source": [
        "y_pred"
      ],
      "execution_count": 133,
      "outputs": [
        {
          "output_type": "execute_result",
          "data": {
            "text/html": [
              "<div>\n",
              "<style scoped>\n",
              "    .dataframe tbody tr th:only-of-type {\n",
              "        vertical-align: middle;\n",
              "    }\n",
              "\n",
              "    .dataframe tbody tr th {\n",
              "        vertical-align: top;\n",
              "    }\n",
              "\n",
              "    .dataframe thead th {\n",
              "        text-align: right;\n",
              "    }\n",
              "</style>\n",
              "<table border=\"1\" class=\"dataframe\">\n",
              "  <thead>\n",
              "    <tr style=\"text-align: right;\">\n",
              "      <th></th>\n",
              "      <th>HR</th>\n",
              "      <th>O2Sat</th>\n",
              "      <th>Temp</th>\n",
              "      <th>SBP</th>\n",
              "      <th>MAP</th>\n",
              "      <th>DBP</th>\n",
              "      <th>Resp</th>\n",
              "      <th>Age</th>\n",
              "      <th>Gender</th>\n",
              "      <th>Unit1</th>\n",
              "      <th>Unit2</th>\n",
              "      <th>ICULOS</th>\n",
              "      <th>SepsisLabel</th>\n",
              "      <th>Resp_imputed</th>\n",
              "    </tr>\n",
              "  </thead>\n",
              "  <tbody>\n",
              "    <tr>\n",
              "      <th>1386</th>\n",
              "      <td>92.5</td>\n",
              "      <td>100.0</td>\n",
              "      <td>37.20</td>\n",
              "      <td>156.5</td>\n",
              "      <td>85.0</td>\n",
              "      <td>63.0</td>\n",
              "      <td>17.617479</td>\n",
              "      <td>76.56</td>\n",
              "      <td>1</td>\n",
              "      <td>0.0</td>\n",
              "      <td>1.0</td>\n",
              "      <td>38</td>\n",
              "      <td>0</td>\n",
              "      <td>17.617479</td>\n",
              "    </tr>\n",
              "    <tr>\n",
              "      <th>1887</th>\n",
              "      <td>86.0</td>\n",
              "      <td>93.0</td>\n",
              "      <td>36.78</td>\n",
              "      <td>102.0</td>\n",
              "      <td>88.0</td>\n",
              "      <td>85.0</td>\n",
              "      <td>19.539027</td>\n",
              "      <td>61.20</td>\n",
              "      <td>1</td>\n",
              "      <td>NaN</td>\n",
              "      <td>NaN</td>\n",
              "      <td>14</td>\n",
              "      <td>0</td>\n",
              "      <td>19.539027</td>\n",
              "    </tr>\n",
              "    <tr>\n",
              "      <th>1891</th>\n",
              "      <td>88.0</td>\n",
              "      <td>96.0</td>\n",
              "      <td>37.17</td>\n",
              "      <td>133.0</td>\n",
              "      <td>87.0</td>\n",
              "      <td>65.0</td>\n",
              "      <td>19.300148</td>\n",
              "      <td>61.20</td>\n",
              "      <td>1</td>\n",
              "      <td>NaN</td>\n",
              "      <td>NaN</td>\n",
              "      <td>18</td>\n",
              "      <td>0</td>\n",
              "      <td>19.300148</td>\n",
              "    </tr>\n",
              "    <tr>\n",
              "      <th>1893</th>\n",
              "      <td>82.0</td>\n",
              "      <td>94.0</td>\n",
              "      <td>37.89</td>\n",
              "      <td>75.0</td>\n",
              "      <td>73.0</td>\n",
              "      <td>67.0</td>\n",
              "      <td>18.929483</td>\n",
              "      <td>61.20</td>\n",
              "      <td>1</td>\n",
              "      <td>NaN</td>\n",
              "      <td>NaN</td>\n",
              "      <td>20</td>\n",
              "      <td>0</td>\n",
              "      <td>18.929483</td>\n",
              "    </tr>\n",
              "    <tr>\n",
              "      <th>1895</th>\n",
              "      <td>88.0</td>\n",
              "      <td>95.0</td>\n",
              "      <td>38.06</td>\n",
              "      <td>151.0</td>\n",
              "      <td>88.0</td>\n",
              "      <td>61.0</td>\n",
              "      <td>20.851209</td>\n",
              "      <td>61.20</td>\n",
              "      <td>1</td>\n",
              "      <td>NaN</td>\n",
              "      <td>NaN</td>\n",
              "      <td>22</td>\n",
              "      <td>0</td>\n",
              "      <td>20.851209</td>\n",
              "    </tr>\n",
              "    <tr>\n",
              "      <th>...</th>\n",
              "      <td>...</td>\n",
              "      <td>...</td>\n",
              "      <td>...</td>\n",
              "      <td>...</td>\n",
              "      <td>...</td>\n",
              "      <td>...</td>\n",
              "      <td>...</td>\n",
              "      <td>...</td>\n",
              "      <td>...</td>\n",
              "      <td>...</td>\n",
              "      <td>...</td>\n",
              "      <td>...</td>\n",
              "      <td>...</td>\n",
              "      <td>...</td>\n",
              "    </tr>\n",
              "    <tr>\n",
              "      <th>1167003</th>\n",
              "      <td>70.5</td>\n",
              "      <td>99.0</td>\n",
              "      <td>36.95</td>\n",
              "      <td>106.0</td>\n",
              "      <td>68.0</td>\n",
              "      <td>47.0</td>\n",
              "      <td>16.669376</td>\n",
              "      <td>79.00</td>\n",
              "      <td>1</td>\n",
              "      <td>0.0</td>\n",
              "      <td>1.0</td>\n",
              "      <td>8</td>\n",
              "      <td>0</td>\n",
              "      <td>16.669376</td>\n",
              "    </tr>\n",
              "    <tr>\n",
              "      <th>1167004</th>\n",
              "      <td>75.0</td>\n",
              "      <td>100.0</td>\n",
              "      <td>37.10</td>\n",
              "      <td>114.0</td>\n",
              "      <td>73.0</td>\n",
              "      <td>49.0</td>\n",
              "      <td>16.463942</td>\n",
              "      <td>79.00</td>\n",
              "      <td>1</td>\n",
              "      <td>0.0</td>\n",
              "      <td>1.0</td>\n",
              "      <td>9</td>\n",
              "      <td>0</td>\n",
              "      <td>16.463942</td>\n",
              "    </tr>\n",
              "    <tr>\n",
              "      <th>1167014</th>\n",
              "      <td>84.0</td>\n",
              "      <td>99.5</td>\n",
              "      <td>37.35</td>\n",
              "      <td>117.0</td>\n",
              "      <td>73.5</td>\n",
              "      <td>51.0</td>\n",
              "      <td>17.489552</td>\n",
              "      <td>79.00</td>\n",
              "      <td>1</td>\n",
              "      <td>0.0</td>\n",
              "      <td>1.0</td>\n",
              "      <td>19</td>\n",
              "      <td>0</td>\n",
              "      <td>17.489552</td>\n",
              "    </tr>\n",
              "    <tr>\n",
              "      <th>1167140</th>\n",
              "      <td>82.0</td>\n",
              "      <td>100.0</td>\n",
              "      <td>36.45</td>\n",
              "      <td>88.0</td>\n",
              "      <td>64.0</td>\n",
              "      <td>58.0</td>\n",
              "      <td>15.492184</td>\n",
              "      <td>29.00</td>\n",
              "      <td>0</td>\n",
              "      <td>0.0</td>\n",
              "      <td>1.0</td>\n",
              "      <td>3</td>\n",
              "      <td>0</td>\n",
              "      <td>15.492184</td>\n",
              "    </tr>\n",
              "    <tr>\n",
              "      <th>1167180</th>\n",
              "      <td>118.0</td>\n",
              "      <td>95.0</td>\n",
              "      <td>38.10</td>\n",
              "      <td>114.0</td>\n",
              "      <td>84.0</td>\n",
              "      <td>72.0</td>\n",
              "      <td>21.906308</td>\n",
              "      <td>29.00</td>\n",
              "      <td>0</td>\n",
              "      <td>0.0</td>\n",
              "      <td>1.0</td>\n",
              "      <td>43</td>\n",
              "      <td>0</td>\n",
              "      <td>21.906308</td>\n",
              "    </tr>\n",
              "  </tbody>\n",
              "</table>\n",
              "<p>12249 rows × 14 columns</p>\n",
              "</div>"
            ],
            "text/plain": [
              "            HR  O2Sat   Temp    SBP  ...  Unit2  ICULOS  SepsisLabel  Resp_imputed\n",
              "1386      92.5  100.0  37.20  156.5  ...    1.0      38            0     17.617479\n",
              "1887      86.0   93.0  36.78  102.0  ...    NaN      14            0     19.539027\n",
              "1891      88.0   96.0  37.17  133.0  ...    NaN      18            0     19.300148\n",
              "1893      82.0   94.0  37.89   75.0  ...    NaN      20            0     18.929483\n",
              "1895      88.0   95.0  38.06  151.0  ...    NaN      22            0     20.851209\n",
              "...        ...    ...    ...    ...  ...    ...     ...          ...           ...\n",
              "1167003   70.5   99.0  36.95  106.0  ...    1.0       8            0     16.669376\n",
              "1167004   75.0  100.0  37.10  114.0  ...    1.0       9            0     16.463942\n",
              "1167014   84.0   99.5  37.35  117.0  ...    1.0      19            0     17.489552\n",
              "1167140   82.0  100.0  36.45   88.0  ...    1.0       3            0     15.492184\n",
              "1167180  118.0   95.0  38.10  114.0  ...    1.0      43            0     21.906308\n",
              "\n",
              "[12249 rows x 14 columns]"
            ]
          },
          "metadata": {
            "tags": []
          },
          "execution_count": 133
        }
      ]
    },
    {
      "cell_type": "code",
      "metadata": {
        "id": "tMxs4vuqQfi-"
      },
      "source": [
        "y_pred.drop('Resp_imputed', axis=1, inplace=True)"
      ],
      "execution_count": 134,
      "outputs": []
    },
    {
      "cell_type": "code",
      "metadata": {
        "colab": {
          "base_uri": "https://localhost:8080/",
          "height": 419
        },
        "id": "PEOwgLAiQwWJ",
        "outputId": "9a5460d4-9134-4505-a54c-4760674a178d"
      },
      "source": [
        "y_pred"
      ],
      "execution_count": 135,
      "outputs": [
        {
          "output_type": "execute_result",
          "data": {
            "text/html": [
              "<div>\n",
              "<style scoped>\n",
              "    .dataframe tbody tr th:only-of-type {\n",
              "        vertical-align: middle;\n",
              "    }\n",
              "\n",
              "    .dataframe tbody tr th {\n",
              "        vertical-align: top;\n",
              "    }\n",
              "\n",
              "    .dataframe thead th {\n",
              "        text-align: right;\n",
              "    }\n",
              "</style>\n",
              "<table border=\"1\" class=\"dataframe\">\n",
              "  <thead>\n",
              "    <tr style=\"text-align: right;\">\n",
              "      <th></th>\n",
              "      <th>HR</th>\n",
              "      <th>O2Sat</th>\n",
              "      <th>Temp</th>\n",
              "      <th>SBP</th>\n",
              "      <th>MAP</th>\n",
              "      <th>DBP</th>\n",
              "      <th>Resp</th>\n",
              "      <th>Age</th>\n",
              "      <th>Gender</th>\n",
              "      <th>Unit1</th>\n",
              "      <th>Unit2</th>\n",
              "      <th>ICULOS</th>\n",
              "      <th>SepsisLabel</th>\n",
              "    </tr>\n",
              "  </thead>\n",
              "  <tbody>\n",
              "    <tr>\n",
              "      <th>1386</th>\n",
              "      <td>92.5</td>\n",
              "      <td>100.0</td>\n",
              "      <td>37.20</td>\n",
              "      <td>156.5</td>\n",
              "      <td>85.0</td>\n",
              "      <td>63.0</td>\n",
              "      <td>17.617479</td>\n",
              "      <td>76.56</td>\n",
              "      <td>1</td>\n",
              "      <td>0.0</td>\n",
              "      <td>1.0</td>\n",
              "      <td>38</td>\n",
              "      <td>0</td>\n",
              "    </tr>\n",
              "    <tr>\n",
              "      <th>1887</th>\n",
              "      <td>86.0</td>\n",
              "      <td>93.0</td>\n",
              "      <td>36.78</td>\n",
              "      <td>102.0</td>\n",
              "      <td>88.0</td>\n",
              "      <td>85.0</td>\n",
              "      <td>19.539027</td>\n",
              "      <td>61.20</td>\n",
              "      <td>1</td>\n",
              "      <td>NaN</td>\n",
              "      <td>NaN</td>\n",
              "      <td>14</td>\n",
              "      <td>0</td>\n",
              "    </tr>\n",
              "    <tr>\n",
              "      <th>1891</th>\n",
              "      <td>88.0</td>\n",
              "      <td>96.0</td>\n",
              "      <td>37.17</td>\n",
              "      <td>133.0</td>\n",
              "      <td>87.0</td>\n",
              "      <td>65.0</td>\n",
              "      <td>19.300148</td>\n",
              "      <td>61.20</td>\n",
              "      <td>1</td>\n",
              "      <td>NaN</td>\n",
              "      <td>NaN</td>\n",
              "      <td>18</td>\n",
              "      <td>0</td>\n",
              "    </tr>\n",
              "    <tr>\n",
              "      <th>1893</th>\n",
              "      <td>82.0</td>\n",
              "      <td>94.0</td>\n",
              "      <td>37.89</td>\n",
              "      <td>75.0</td>\n",
              "      <td>73.0</td>\n",
              "      <td>67.0</td>\n",
              "      <td>18.929483</td>\n",
              "      <td>61.20</td>\n",
              "      <td>1</td>\n",
              "      <td>NaN</td>\n",
              "      <td>NaN</td>\n",
              "      <td>20</td>\n",
              "      <td>0</td>\n",
              "    </tr>\n",
              "    <tr>\n",
              "      <th>1895</th>\n",
              "      <td>88.0</td>\n",
              "      <td>95.0</td>\n",
              "      <td>38.06</td>\n",
              "      <td>151.0</td>\n",
              "      <td>88.0</td>\n",
              "      <td>61.0</td>\n",
              "      <td>20.851209</td>\n",
              "      <td>61.20</td>\n",
              "      <td>1</td>\n",
              "      <td>NaN</td>\n",
              "      <td>NaN</td>\n",
              "      <td>22</td>\n",
              "      <td>0</td>\n",
              "    </tr>\n",
              "    <tr>\n",
              "      <th>...</th>\n",
              "      <td>...</td>\n",
              "      <td>...</td>\n",
              "      <td>...</td>\n",
              "      <td>...</td>\n",
              "      <td>...</td>\n",
              "      <td>...</td>\n",
              "      <td>...</td>\n",
              "      <td>...</td>\n",
              "      <td>...</td>\n",
              "      <td>...</td>\n",
              "      <td>...</td>\n",
              "      <td>...</td>\n",
              "      <td>...</td>\n",
              "    </tr>\n",
              "    <tr>\n",
              "      <th>1167003</th>\n",
              "      <td>70.5</td>\n",
              "      <td>99.0</td>\n",
              "      <td>36.95</td>\n",
              "      <td>106.0</td>\n",
              "      <td>68.0</td>\n",
              "      <td>47.0</td>\n",
              "      <td>16.669376</td>\n",
              "      <td>79.00</td>\n",
              "      <td>1</td>\n",
              "      <td>0.0</td>\n",
              "      <td>1.0</td>\n",
              "      <td>8</td>\n",
              "      <td>0</td>\n",
              "    </tr>\n",
              "    <tr>\n",
              "      <th>1167004</th>\n",
              "      <td>75.0</td>\n",
              "      <td>100.0</td>\n",
              "      <td>37.10</td>\n",
              "      <td>114.0</td>\n",
              "      <td>73.0</td>\n",
              "      <td>49.0</td>\n",
              "      <td>16.463942</td>\n",
              "      <td>79.00</td>\n",
              "      <td>1</td>\n",
              "      <td>0.0</td>\n",
              "      <td>1.0</td>\n",
              "      <td>9</td>\n",
              "      <td>0</td>\n",
              "    </tr>\n",
              "    <tr>\n",
              "      <th>1167014</th>\n",
              "      <td>84.0</td>\n",
              "      <td>99.5</td>\n",
              "      <td>37.35</td>\n",
              "      <td>117.0</td>\n",
              "      <td>73.5</td>\n",
              "      <td>51.0</td>\n",
              "      <td>17.489552</td>\n",
              "      <td>79.00</td>\n",
              "      <td>1</td>\n",
              "      <td>0.0</td>\n",
              "      <td>1.0</td>\n",
              "      <td>19</td>\n",
              "      <td>0</td>\n",
              "    </tr>\n",
              "    <tr>\n",
              "      <th>1167140</th>\n",
              "      <td>82.0</td>\n",
              "      <td>100.0</td>\n",
              "      <td>36.45</td>\n",
              "      <td>88.0</td>\n",
              "      <td>64.0</td>\n",
              "      <td>58.0</td>\n",
              "      <td>15.492184</td>\n",
              "      <td>29.00</td>\n",
              "      <td>0</td>\n",
              "      <td>0.0</td>\n",
              "      <td>1.0</td>\n",
              "      <td>3</td>\n",
              "      <td>0</td>\n",
              "    </tr>\n",
              "    <tr>\n",
              "      <th>1167180</th>\n",
              "      <td>118.0</td>\n",
              "      <td>95.0</td>\n",
              "      <td>38.10</td>\n",
              "      <td>114.0</td>\n",
              "      <td>84.0</td>\n",
              "      <td>72.0</td>\n",
              "      <td>21.906308</td>\n",
              "      <td>29.00</td>\n",
              "      <td>0</td>\n",
              "      <td>0.0</td>\n",
              "      <td>1.0</td>\n",
              "      <td>43</td>\n",
              "      <td>0</td>\n",
              "    </tr>\n",
              "  </tbody>\n",
              "</table>\n",
              "<p>12249 rows × 13 columns</p>\n",
              "</div>"
            ],
            "text/plain": [
              "            HR  O2Sat   Temp    SBP  ...  Unit1  Unit2  ICULOS  SepsisLabel\n",
              "1386      92.5  100.0  37.20  156.5  ...    0.0    1.0      38            0\n",
              "1887      86.0   93.0  36.78  102.0  ...    NaN    NaN      14            0\n",
              "1891      88.0   96.0  37.17  133.0  ...    NaN    NaN      18            0\n",
              "1893      82.0   94.0  37.89   75.0  ...    NaN    NaN      20            0\n",
              "1895      88.0   95.0  38.06  151.0  ...    NaN    NaN      22            0\n",
              "...        ...    ...    ...    ...  ...    ...    ...     ...          ...\n",
              "1167003   70.5   99.0  36.95  106.0  ...    0.0    1.0       8            0\n",
              "1167004   75.0  100.0  37.10  114.0  ...    0.0    1.0       9            0\n",
              "1167014   84.0   99.5  37.35  117.0  ...    0.0    1.0      19            0\n",
              "1167140   82.0  100.0  36.45   88.0  ...    0.0    1.0       3            0\n",
              "1167180  118.0   95.0  38.10  114.0  ...    0.0    1.0      43            0\n",
              "\n",
              "[12249 rows x 13 columns]"
            ]
          },
          "metadata": {
            "tags": []
          },
          "execution_count": 135
        }
      ]
    },
    {
      "cell_type": "code",
      "metadata": {
        "id": "PPJ8BEHqUx56"
      },
      "source": [
        "y_pred[\"Unit1\"].fillna(y_pred['Unit1'].value_counts().idxmax(), inplace=True)\n",
        "y_pred[\"Unit2\"].fillna(y_pred['Unit2'].value_counts().idxmax(), inplace=True)"
      ],
      "execution_count": 136,
      "outputs": []
    },
    {
      "cell_type": "code",
      "metadata": {
        "colab": {
          "base_uri": "https://localhost:8080/",
          "height": 419
        },
        "id": "9n8NUWloRAi5",
        "outputId": "6d79663e-6fd2-4deb-c4ae-f56b942741ee"
      },
      "source": [
        "y_pred"
      ],
      "execution_count": 137,
      "outputs": [
        {
          "output_type": "execute_result",
          "data": {
            "text/html": [
              "<div>\n",
              "<style scoped>\n",
              "    .dataframe tbody tr th:only-of-type {\n",
              "        vertical-align: middle;\n",
              "    }\n",
              "\n",
              "    .dataframe tbody tr th {\n",
              "        vertical-align: top;\n",
              "    }\n",
              "\n",
              "    .dataframe thead th {\n",
              "        text-align: right;\n",
              "    }\n",
              "</style>\n",
              "<table border=\"1\" class=\"dataframe\">\n",
              "  <thead>\n",
              "    <tr style=\"text-align: right;\">\n",
              "      <th></th>\n",
              "      <th>HR</th>\n",
              "      <th>O2Sat</th>\n",
              "      <th>Temp</th>\n",
              "      <th>SBP</th>\n",
              "      <th>MAP</th>\n",
              "      <th>DBP</th>\n",
              "      <th>Resp</th>\n",
              "      <th>Age</th>\n",
              "      <th>Gender</th>\n",
              "      <th>Unit1</th>\n",
              "      <th>Unit2</th>\n",
              "      <th>ICULOS</th>\n",
              "      <th>SepsisLabel</th>\n",
              "    </tr>\n",
              "  </thead>\n",
              "  <tbody>\n",
              "    <tr>\n",
              "      <th>1386</th>\n",
              "      <td>92.5</td>\n",
              "      <td>100.0</td>\n",
              "      <td>37.20</td>\n",
              "      <td>156.5</td>\n",
              "      <td>85.0</td>\n",
              "      <td>63.0</td>\n",
              "      <td>17.617479</td>\n",
              "      <td>76.56</td>\n",
              "      <td>1</td>\n",
              "      <td>0.0</td>\n",
              "      <td>1.0</td>\n",
              "      <td>38</td>\n",
              "      <td>0</td>\n",
              "    </tr>\n",
              "    <tr>\n",
              "      <th>1887</th>\n",
              "      <td>86.0</td>\n",
              "      <td>93.0</td>\n",
              "      <td>36.78</td>\n",
              "      <td>102.0</td>\n",
              "      <td>88.0</td>\n",
              "      <td>85.0</td>\n",
              "      <td>19.539027</td>\n",
              "      <td>61.20</td>\n",
              "      <td>1</td>\n",
              "      <td>0.0</td>\n",
              "      <td>1.0</td>\n",
              "      <td>14</td>\n",
              "      <td>0</td>\n",
              "    </tr>\n",
              "    <tr>\n",
              "      <th>1891</th>\n",
              "      <td>88.0</td>\n",
              "      <td>96.0</td>\n",
              "      <td>37.17</td>\n",
              "      <td>133.0</td>\n",
              "      <td>87.0</td>\n",
              "      <td>65.0</td>\n",
              "      <td>19.300148</td>\n",
              "      <td>61.20</td>\n",
              "      <td>1</td>\n",
              "      <td>0.0</td>\n",
              "      <td>1.0</td>\n",
              "      <td>18</td>\n",
              "      <td>0</td>\n",
              "    </tr>\n",
              "    <tr>\n",
              "      <th>1893</th>\n",
              "      <td>82.0</td>\n",
              "      <td>94.0</td>\n",
              "      <td>37.89</td>\n",
              "      <td>75.0</td>\n",
              "      <td>73.0</td>\n",
              "      <td>67.0</td>\n",
              "      <td>18.929483</td>\n",
              "      <td>61.20</td>\n",
              "      <td>1</td>\n",
              "      <td>0.0</td>\n",
              "      <td>1.0</td>\n",
              "      <td>20</td>\n",
              "      <td>0</td>\n",
              "    </tr>\n",
              "    <tr>\n",
              "      <th>1895</th>\n",
              "      <td>88.0</td>\n",
              "      <td>95.0</td>\n",
              "      <td>38.06</td>\n",
              "      <td>151.0</td>\n",
              "      <td>88.0</td>\n",
              "      <td>61.0</td>\n",
              "      <td>20.851209</td>\n",
              "      <td>61.20</td>\n",
              "      <td>1</td>\n",
              "      <td>0.0</td>\n",
              "      <td>1.0</td>\n",
              "      <td>22</td>\n",
              "      <td>0</td>\n",
              "    </tr>\n",
              "    <tr>\n",
              "      <th>...</th>\n",
              "      <td>...</td>\n",
              "      <td>...</td>\n",
              "      <td>...</td>\n",
              "      <td>...</td>\n",
              "      <td>...</td>\n",
              "      <td>...</td>\n",
              "      <td>...</td>\n",
              "      <td>...</td>\n",
              "      <td>...</td>\n",
              "      <td>...</td>\n",
              "      <td>...</td>\n",
              "      <td>...</td>\n",
              "      <td>...</td>\n",
              "    </tr>\n",
              "    <tr>\n",
              "      <th>1167003</th>\n",
              "      <td>70.5</td>\n",
              "      <td>99.0</td>\n",
              "      <td>36.95</td>\n",
              "      <td>106.0</td>\n",
              "      <td>68.0</td>\n",
              "      <td>47.0</td>\n",
              "      <td>16.669376</td>\n",
              "      <td>79.00</td>\n",
              "      <td>1</td>\n",
              "      <td>0.0</td>\n",
              "      <td>1.0</td>\n",
              "      <td>8</td>\n",
              "      <td>0</td>\n",
              "    </tr>\n",
              "    <tr>\n",
              "      <th>1167004</th>\n",
              "      <td>75.0</td>\n",
              "      <td>100.0</td>\n",
              "      <td>37.10</td>\n",
              "      <td>114.0</td>\n",
              "      <td>73.0</td>\n",
              "      <td>49.0</td>\n",
              "      <td>16.463942</td>\n",
              "      <td>79.00</td>\n",
              "      <td>1</td>\n",
              "      <td>0.0</td>\n",
              "      <td>1.0</td>\n",
              "      <td>9</td>\n",
              "      <td>0</td>\n",
              "    </tr>\n",
              "    <tr>\n",
              "      <th>1167014</th>\n",
              "      <td>84.0</td>\n",
              "      <td>99.5</td>\n",
              "      <td>37.35</td>\n",
              "      <td>117.0</td>\n",
              "      <td>73.5</td>\n",
              "      <td>51.0</td>\n",
              "      <td>17.489552</td>\n",
              "      <td>79.00</td>\n",
              "      <td>1</td>\n",
              "      <td>0.0</td>\n",
              "      <td>1.0</td>\n",
              "      <td>19</td>\n",
              "      <td>0</td>\n",
              "    </tr>\n",
              "    <tr>\n",
              "      <th>1167140</th>\n",
              "      <td>82.0</td>\n",
              "      <td>100.0</td>\n",
              "      <td>36.45</td>\n",
              "      <td>88.0</td>\n",
              "      <td>64.0</td>\n",
              "      <td>58.0</td>\n",
              "      <td>15.492184</td>\n",
              "      <td>29.00</td>\n",
              "      <td>0</td>\n",
              "      <td>0.0</td>\n",
              "      <td>1.0</td>\n",
              "      <td>3</td>\n",
              "      <td>0</td>\n",
              "    </tr>\n",
              "    <tr>\n",
              "      <th>1167180</th>\n",
              "      <td>118.0</td>\n",
              "      <td>95.0</td>\n",
              "      <td>38.10</td>\n",
              "      <td>114.0</td>\n",
              "      <td>84.0</td>\n",
              "      <td>72.0</td>\n",
              "      <td>21.906308</td>\n",
              "      <td>29.00</td>\n",
              "      <td>0</td>\n",
              "      <td>0.0</td>\n",
              "      <td>1.0</td>\n",
              "      <td>43</td>\n",
              "      <td>0</td>\n",
              "    </tr>\n",
              "  </tbody>\n",
              "</table>\n",
              "<p>12249 rows × 13 columns</p>\n",
              "</div>"
            ],
            "text/plain": [
              "            HR  O2Sat   Temp    SBP  ...  Unit1  Unit2  ICULOS  SepsisLabel\n",
              "1386      92.5  100.0  37.20  156.5  ...    0.0    1.0      38            0\n",
              "1887      86.0   93.0  36.78  102.0  ...    0.0    1.0      14            0\n",
              "1891      88.0   96.0  37.17  133.0  ...    0.0    1.0      18            0\n",
              "1893      82.0   94.0  37.89   75.0  ...    0.0    1.0      20            0\n",
              "1895      88.0   95.0  38.06  151.0  ...    0.0    1.0      22            0\n",
              "...        ...    ...    ...    ...  ...    ...    ...     ...          ...\n",
              "1167003   70.5   99.0  36.95  106.0  ...    0.0    1.0       8            0\n",
              "1167004   75.0  100.0  37.10  114.0  ...    0.0    1.0       9            0\n",
              "1167014   84.0   99.5  37.35  117.0  ...    0.0    1.0      19            0\n",
              "1167140   82.0  100.0  36.45   88.0  ...    0.0    1.0       3            0\n",
              "1167180  118.0   95.0  38.10  114.0  ...    0.0    1.0      43            0\n",
              "\n",
              "[12249 rows x 13 columns]"
            ]
          },
          "metadata": {
            "tags": []
          },
          "execution_count": 137
        }
      ]
    },
    {
      "cell_type": "code",
      "metadata": {
        "colab": {
          "base_uri": "https://localhost:8080/"
        },
        "id": "pYbilkLPRDM2",
        "outputId": "08225b21-357f-4c09-89e4-a15f1a41e20d"
      },
      "source": [
        "y_pred.isnull().sum()"
      ],
      "execution_count": 138,
      "outputs": [
        {
          "output_type": "execute_result",
          "data": {
            "text/plain": [
              "HR             0\n",
              "O2Sat          0\n",
              "Temp           0\n",
              "SBP            0\n",
              "MAP            0\n",
              "DBP            0\n",
              "Resp           0\n",
              "Age            0\n",
              "Gender         0\n",
              "Unit1          0\n",
              "Unit2          0\n",
              "ICULOS         0\n",
              "SepsisLabel    0\n",
              "dtype: int64"
            ]
          },
          "metadata": {
            "tags": []
          },
          "execution_count": 138
        }
      ]
    },
    {
      "cell_type": "code",
      "metadata": {
        "id": "L057mDiFqlVp"
      },
      "source": [
        "X = y_pred.drop('SepsisLabel', 1)\n",
        "y = y_pred['SepsisLabel']"
      ],
      "execution_count": 139,
      "outputs": []
    },
    {
      "cell_type": "code",
      "metadata": {
        "id": "k5pYuEjQzayu"
      },
      "source": [
        "from sklearn.model_selection import train_test_split"
      ],
      "execution_count": 140,
      "outputs": []
    },
    {
      "cell_type": "code",
      "metadata": {
        "id": "gamuW8LrzMIU"
      },
      "source": [
        "X_train, X_test, y_train, y_test = train_test_split(X, y, test_size=0.2, shuffle=False)"
      ],
      "execution_count": 141,
      "outputs": []
    },
    {
      "cell_type": "code",
      "metadata": {
        "id": "1f343N3X0O7E"
      },
      "source": [
        "from sklearn.ensemble import RandomForestClassifier"
      ],
      "execution_count": 142,
      "outputs": []
    },
    {
      "cell_type": "code",
      "metadata": {
        "id": "4LbX7LNGRUn_"
      },
      "source": [
        "model = RandomForestClassifier()\n",
        "model.fit(X_train, y_train)\n",
        "preds = model.predict(X_test)"
      ],
      "execution_count": 143,
      "outputs": []
    },
    {
      "cell_type": "code",
      "metadata": {
        "colab": {
          "base_uri": "https://localhost:8080/"
        },
        "id": "atrEo3foRX3f",
        "outputId": "8603ba04-25ad-49fe-fbb0-1bc5e4652631"
      },
      "source": [
        "from sklearn.metrics import classification_report\n",
        "print(classification_report(y_test, preds))"
      ],
      "execution_count": 144,
      "outputs": [
        {
          "output_type": "stream",
          "text": [
            "              precision    recall  f1-score   support\n",
            "\n",
            "           0       0.97      1.00      0.98      2376\n",
            "           1       0.50      0.03      0.05        74\n",
            "\n",
            "    accuracy                           0.97      2450\n",
            "   macro avg       0.74      0.51      0.52      2450\n",
            "weighted avg       0.96      0.97      0.96      2450\n",
            "\n"
          ],
          "name": "stdout"
        }
      ]
    },
    {
      "cell_type": "code",
      "metadata": {
        "id": "2m8hyj8MRbkA"
      },
      "source": [
        "from imblearn.over_sampling import SMOTE\n",
        "\n",
        "smote = SMOTE( random_state= 0 )"
      ],
      "execution_count": 145,
      "outputs": []
    },
    {
      "cell_type": "code",
      "metadata": {
        "colab": {
          "base_uri": "https://localhost:8080/"
        },
        "id": "Vh90H8YzRl3A",
        "outputId": "19b8088b-b8c0-48ff-93cb-a76a8240846a"
      },
      "source": [
        "X_smote, y_smote = smote.fit_resample(X_train, y_train)\n",
        "X_smote.shape, y_smote.shape"
      ],
      "execution_count": 146,
      "outputs": [
        {
          "output_type": "stream",
          "text": [
            "/usr/local/lib/python3.7/dist-packages/sklearn/utils/deprecation.py:87: FutureWarning: Function safe_indexing is deprecated; safe_indexing is deprecated in version 0.22 and will be removed in version 0.24.\n",
            "  warnings.warn(msg, category=FutureWarning)\n"
          ],
          "name": "stderr"
        },
        {
          "output_type": "execute_result",
          "data": {
            "text/plain": [
              "((19100, 12), (19100,))"
            ]
          },
          "metadata": {
            "tags": []
          },
          "execution_count": 146
        }
      ]
    },
    {
      "cell_type": "code",
      "metadata": {
        "colab": {
          "base_uri": "https://localhost:8080/"
        },
        "id": "VmJ-rw67Rv8f",
        "outputId": "79b4d99d-7785-4113-d682-59c6e158fbb4"
      },
      "source": [
        "X_smote_test, y_smote_test = smote.fit_resample(X_test, y_test)"
      ],
      "execution_count": 147,
      "outputs": [
        {
          "output_type": "stream",
          "text": [
            "/usr/local/lib/python3.7/dist-packages/sklearn/utils/deprecation.py:87: FutureWarning: Function safe_indexing is deprecated; safe_indexing is deprecated in version 0.22 and will be removed in version 0.24.\n",
            "  warnings.warn(msg, category=FutureWarning)\n"
          ],
          "name": "stderr"
        }
      ]
    },
    {
      "cell_type": "code",
      "metadata": {
        "id": "0oAEtHkkR1dZ"
      },
      "source": [
        "model_smote = RandomForestClassifier()\n",
        "model_smote.fit(X_smote, y_smote)\n",
        "preds_smote = model_smote.predict(X_smote_test)"
      ],
      "execution_count": 148,
      "outputs": []
    },
    {
      "cell_type": "code",
      "metadata": {
        "colab": {
          "base_uri": "https://localhost:8080/"
        },
        "id": "JzLOSmOnR4Z9",
        "outputId": "8e4937b7-2106-4396-b626-3eacfc20fefe"
      },
      "source": [
        "print(classification_report(y_smote_test, preds_smote))"
      ],
      "execution_count": 149,
      "outputs": [
        {
          "output_type": "stream",
          "text": [
            "              precision    recall  f1-score   support\n",
            "\n",
            "           0       0.64      0.99      0.78      2376\n",
            "           1       0.98      0.44      0.61      2376\n",
            "\n",
            "    accuracy                           0.72      4752\n",
            "   macro avg       0.81      0.72      0.69      4752\n",
            "weighted avg       0.81      0.72      0.69      4752\n",
            "\n"
          ],
          "name": "stdout"
        }
      ]
    },
    {
      "cell_type": "code",
      "metadata": {
        "colab": {
          "base_uri": "https://localhost:8080/"
        },
        "id": "w9B1vdLKR9ON",
        "outputId": "51fe17d4-452d-4d15-9ba7-ea16c3ec85d2"
      },
      "source": [
        "from sklearn.metrics import confusion_matrix\n",
        "cf_matrix_smote = confusion_matrix(y_smote_test, preds_smote)\n",
        "print(cf_matrix_smote)"
      ],
      "execution_count": 150,
      "outputs": [
        {
          "output_type": "stream",
          "text": [
            "[[2356   20]\n",
            " [1328 1048]]\n"
          ],
          "name": "stdout"
        }
      ]
    },
    {
      "cell_type": "code",
      "metadata": {
        "id": "whZFJsXbSCvi"
      },
      "source": [
        "rf_probs_smote = model.predict_proba(X_smote_test)"
      ],
      "execution_count": 151,
      "outputs": []
    },
    {
      "cell_type": "code",
      "metadata": {
        "id": "-Q2up2D4SP4O"
      },
      "source": [
        "rf_probs_smote = rf_probs_smote[:, 1]"
      ],
      "execution_count": 152,
      "outputs": []
    },
    {
      "cell_type": "code",
      "metadata": {
        "colab": {
          "base_uri": "https://localhost:8080/"
        },
        "id": "xhI2ALcFSS6G",
        "outputId": "8edd455b-ef33-4245-c7f0-6c8f9d5b5525"
      },
      "source": [
        "from sklearn.metrics import roc_auc_score\n",
        "\n",
        "# calculate scores\n",
        "rf_smote_auc = roc_auc_score(y_smote_test, rf_probs_smote)\n",
        "\n",
        "\n",
        "print('Random Forest_smote: ROC AUC= {} %'.format(round(rf_smote_auc, 3)*100))"
      ],
      "execution_count": 153,
      "outputs": [
        {
          "output_type": "stream",
          "text": [
            "Random Forest_smote: ROC AUC= 66.4 %\n"
          ],
          "name": "stdout"
        }
      ]
    },
    {
      "cell_type": "code",
      "metadata": {
        "id": "invwPF78SWt2"
      },
      "source": [
        "from sklearn.metrics import roc_curve"
      ],
      "execution_count": 154,
      "outputs": []
    },
    {
      "cell_type": "code",
      "metadata": {
        "id": "NXWJrBfhSaHG"
      },
      "source": [
        "rf_fpr, rf_tpr, rf_thres = roc_curve(y_smote_test, rf_probs_smote)"
      ],
      "execution_count": 155,
      "outputs": []
    },
    {
      "cell_type": "code",
      "metadata": {
        "id": "jlrDinGmSeR-"
      },
      "source": [
        "from sklearn.linear_model import LogisticRegression\n",
        "from sklearn.model_selection import GridSearchCV\n",
        "from sklearn.model_selection import StratifiedKFold"
      ],
      "execution_count": 156,
      "outputs": []
    },
    {
      "cell_type": "code",
      "metadata": {
        "colab": {
          "base_uri": "https://localhost:8080/"
        },
        "id": "pMyKxRxJSics",
        "outputId": "616fb41e-7808-4229-a9f2-a3721ed2a642"
      },
      "source": [
        "fold = StratifiedKFold(n_splits=5, random_state=1, shuffle = True)\n",
        "fold.get_n_splits(X_smote, y_smote)"
      ],
      "execution_count": 157,
      "outputs": [
        {
          "output_type": "execute_result",
          "data": {
            "text/plain": [
              "5"
            ]
          },
          "metadata": {
            "tags": []
          },
          "execution_count": 157
        }
      ]
    },
    {
      "cell_type": "code",
      "metadata": {
        "colab": {
          "base_uri": "https://localhost:8080/"
        },
        "id": "cjypxMp0Sk_F",
        "outputId": "7d330b83-67a8-4fbd-db75-414d90aa8b79"
      },
      "source": [
        "parameters = {'solver':('newton-cg', 'liblinear'), 'C':[0.001]}\n",
        "\n",
        "model = LogisticRegression(penalty='l2', n_jobs = -2, max_iter=1000)\n",
        "log_reg = GridSearchCV(model, parameters, n_jobs= -2, cv=fold)\n",
        "\n",
        "log_reg.fit(X_smote, y_smote)"
      ],
      "execution_count": 158,
      "outputs": [
        {
          "output_type": "execute_result",
          "data": {
            "text/plain": [
              "GridSearchCV(cv=StratifiedKFold(n_splits=5, random_state=1, shuffle=True),\n",
              "             error_score=nan,\n",
              "             estimator=LogisticRegression(C=1.0, class_weight=None, dual=False,\n",
              "                                          fit_intercept=True,\n",
              "                                          intercept_scaling=1, l1_ratio=None,\n",
              "                                          max_iter=1000, multi_class='auto',\n",
              "                                          n_jobs=-2, penalty='l2',\n",
              "                                          random_state=None, solver='lbfgs',\n",
              "                                          tol=0.0001, verbose=0,\n",
              "                                          warm_start=False),\n",
              "             iid='deprecated', n_jobs=-2,\n",
              "             param_grid={'C': [0.001], 'solver': ('newton-cg', 'liblinear')},\n",
              "             pre_dispatch='2*n_jobs', refit=True, return_train_score=False,\n",
              "             scoring=None, verbose=0)"
            ]
          },
          "metadata": {
            "tags": []
          },
          "execution_count": 158
        }
      ]
    },
    {
      "cell_type": "code",
      "metadata": {
        "colab": {
          "base_uri": "https://localhost:8080/"
        },
        "id": "jnaSscmQSrH0",
        "outputId": "2263e4e4-b7ae-49b3-a599-3cdbb93b413c"
      },
      "source": [
        "yt_pred_log_reg = log_reg.predict(X_smote_test)\n",
        "from sklearn.metrics import classification_report, accuracy_score\n",
        "print(classification_report(y_smote_test, yt_pred_log_reg ))\n",
        "\n",
        "ac= accuracy_score(y_smote_test, yt_pred_log_reg)\n",
        "print('test_accuracy = {} % '.format(ac * 100))"
      ],
      "execution_count": 159,
      "outputs": [
        {
          "output_type": "stream",
          "text": [
            "              precision    recall  f1-score   support\n",
            "\n",
            "           0       0.60      0.78      0.68      2376\n",
            "           1       0.68      0.47      0.56      2376\n",
            "\n",
            "    accuracy                           0.63      4752\n",
            "   macro avg       0.64      0.63      0.62      4752\n",
            "weighted avg       0.64      0.63      0.62      4752\n",
            "\n",
            "test_accuracy = 62.58417508417509 % \n"
          ],
          "name": "stdout"
        }
      ]
    },
    {
      "cell_type": "code",
      "metadata": {
        "colab": {
          "base_uri": "https://localhost:8080/"
        },
        "id": "E7-NkW0ESxel",
        "outputId": "41fef064-16ba-4dba-a724-db068b0a8a19"
      },
      "source": [
        "cf_matrix = confusion_matrix(y_smote_test, yt_pred_log_reg)\n",
        "print(cf_matrix)"
      ],
      "execution_count": 160,
      "outputs": [
        {
          "output_type": "stream",
          "text": [
            "[[1854  522]\n",
            " [1256 1120]]\n"
          ],
          "name": "stdout"
        }
      ]
    },
    {
      "cell_type": "code",
      "metadata": {
        "id": "CbSDBVLRS3gk"
      },
      "source": [
        "logreg_probs = log_reg.predict_proba(X_smote_test)"
      ],
      "execution_count": 161,
      "outputs": []
    },
    {
      "cell_type": "code",
      "metadata": {
        "id": "bZ2oFwelS8sW"
      },
      "source": [
        "logreg_probs = logreg_probs[:, 1]"
      ],
      "execution_count": 162,
      "outputs": []
    },
    {
      "cell_type": "code",
      "metadata": {
        "id": "C_iIJgkgS_tW"
      },
      "source": [
        "logreg_auc = roc_auc_score(y_smote_test, logreg_probs)"
      ],
      "execution_count": 163,
      "outputs": []
    },
    {
      "cell_type": "code",
      "metadata": {
        "colab": {
          "base_uri": "https://localhost:8080/"
        },
        "id": "dgyJmM62TC6U",
        "outputId": "6d3c1f99-5f3c-4c04-82e7-e1afba2d7ea5"
      },
      "source": [
        "print('Logistic: ROC AUC= {} %'.format(round(logreg_auc, 3)*100))"
      ],
      "execution_count": 164,
      "outputs": [
        {
          "output_type": "stream",
          "text": [
            "Logistic: ROC AUC= 70.8 %\n"
          ],
          "name": "stdout"
        }
      ]
    },
    {
      "cell_type": "code",
      "metadata": {
        "id": "sVxXl43LTGD2"
      },
      "source": [
        "from sklearn.metrics import roc_curve\n",
        "#fpr --> False Positive Rate\n",
        "#tpr --> True Positive Rate\n",
        "logreg_fpr, logreg_tpr, lr_thres = roc_curve(y_smote_test, logreg_probs)"
      ],
      "execution_count": 165,
      "outputs": []
    },
    {
      "cell_type": "code",
      "metadata": {
        "colab": {
          "base_uri": "https://localhost:8080/",
          "height": 497
        },
        "id": "OHGzWClNTM5X",
        "outputId": "de4d3418-0951-481f-9b3b-a113b79a5ced"
      },
      "source": [
        "fig, ax = plt.subplots(figsize=(10, 8))\n",
        "ax.plot(logreg_fpr, logreg_tpr, marker='.', label='datawig+impute+smote+Logistic')\n",
        "ax.plot(rf_fpr, rf_tpr, marker='.', label='datawig+smote+Random Forest')\n",
        "lw = 2\n",
        "ax.plot([0, 1], [0, 1], color='navy', lw=lw, linestyle='--')\n",
        "# axis labels\n",
        "plt.xlabel('False Positive Rate')\n",
        "plt.ylabel('True Positive Rate')\n",
        "# show the legend\n",
        "plt.legend(loc=5)\n",
        "# show the plot\n",
        "plt.show()"
      ],
      "execution_count": 166,
      "outputs": [
        {
          "output_type": "display_data",
          "data": {
            "image/png": "[encoded data removed]",
            "text/plain": [
              "<Figure size 720x576 with 1 Axes>"
            ]
          },
          "metadata": {
            "tags": [],
            "needs_background": "light"
          }
        }
      ]
    },
    {
      "cell_type": "code",
      "metadata": {
        "colab": {
          "base_uri": "https://localhost:8080/",
          "height": 119
        },
        "id": "fJ7I_5gyTRA_",
        "outputId": "8f1f4378-0efc-40a8-d98e-c68f1845b084"
      },
      "source": [
        "from xgboost import XGBClassifier\n",
        "from xgboost import plot_tree\n",
        "import matplotlib.pyplot as plt\n",
        "model = XGBClassifier()\n",
        "\n",
        "# Train\n",
        "model.fit(X_smote, y_smote)\n",
        "\n",
        "plot_tree(model)\n",
        "plt.figure(figsize = (50,55))\n",
        "plt.show()"
      ],
      "execution_count": 167,
      "outputs": [
        {
          "output_type": "display_data",
          "data": {
            "image/png": "[encoded data removed]",
            "text/plain": [
              "<Figure size 432x288 with 1 Axes>"
            ]
          },
          "metadata": {
            "tags": [],
            "needs_background": "light"
          }
        },
        {
          "output_type": "display_data",
          "data": {
            "text/plain": [
              "<Figure size 3600x3960 with 0 Axes>"
            ]
          },
          "metadata": {
            "tags": []
          }
        }
      ]
    },
    {
      "cell_type": "code",
      "metadata": {
        "colab": {
          "base_uri": "https://localhost:8080/"
        },
        "id": "sUMOIpKqTfNO",
        "outputId": "31a9d724-1c7a-465a-c7cc-735abe15590f"
      },
      "source": [
        "y_pred_xgb= model.predict(X_smote_test)\n",
        "\n",
        "from sklearn.metrics import classification_report\n",
        "print(classification_report(y_smote_test, y_pred_xgb))"
      ],
      "execution_count": 168,
      "outputs": [
        {
          "output_type": "stream",
          "text": [
            "              precision    recall  f1-score   support\n",
            "\n",
            "           0       0.73      0.91      0.81      2376\n",
            "           1       0.88      0.66      0.75      2376\n",
            "\n",
            "    accuracy                           0.78      4752\n",
            "   macro avg       0.80      0.78      0.78      4752\n",
            "weighted avg       0.80      0.78      0.78      4752\n",
            "\n"
          ],
          "name": "stdout"
        }
      ]
    },
    {
      "cell_type": "code",
      "metadata": {
        "colab": {
          "base_uri": "https://localhost:8080/"
        },
        "id": "Gl7jBHReTjYO",
        "outputId": "9ec2c06a-4646-4a58-97e0-c9f70bb7fd87"
      },
      "source": [
        "cf_matrix = confusion_matrix(y_smote_test, y_pred_xgb)\n",
        "print(cf_matrix)"
      ],
      "execution_count": 169,
      "outputs": [
        {
          "output_type": "stream",
          "text": [
            "[[2159  217]\n",
            " [ 805 1571]]\n"
          ],
          "name": "stdout"
        }
      ]
    },
    {
      "cell_type": "code",
      "metadata": {
        "colab": {
          "base_uri": "https://localhost:8080/"
        },
        "id": "T4Vv3TNDTqct",
        "outputId": "68826461-f176-4907-e582-efa6998c42bc"
      },
      "source": [
        "model_probs = model.predict_proba(X_smote_test)\n",
        "model_probs = model_probs[:, 1]\n",
        "model_auc = roc_auc_score(y_smote_test, model_probs)\n",
        "\n",
        "print('XGBoost - ROC AUC= {} %'.format(round(model_auc, 3)*100))"
      ],
      "execution_count": 170,
      "outputs": [
        {
          "output_type": "stream",
          "text": [
            "XGBoost - ROC AUC= 88.6 %\n"
          ],
          "name": "stdout"
        }
      ]
    },
    {
      "cell_type": "code",
      "metadata": {
        "id": "4xoGUGJzTtqt"
      },
      "source": [
        "model_fpr, model_tpr, model_thres = roc_curve(y_smote_test, model_probs)"
      ],
      "execution_count": 171,
      "outputs": []
    },
    {
      "cell_type": "code",
      "metadata": {
        "colab": {
          "base_uri": "https://localhost:8080/"
        },
        "id": "JMDlwmZoTzYt",
        "outputId": "3d02f736-c214-42d6-9f5b-645b5172bd7f"
      },
      "source": [
        "from sklearn.ensemble import AdaBoostClassifier\n",
        "clf = AdaBoostClassifier(n_estimators=100, random_state=0)\n",
        "clf.fit(X_smote, y_smote)"
      ],
      "execution_count": 172,
      "outputs": [
        {
          "output_type": "execute_result",
          "data": {
            "text/plain": [
              "AdaBoostClassifier(algorithm='SAMME.R', base_estimator=None, learning_rate=1.0,\n",
              "                   n_estimators=100, random_state=0)"
            ]
          },
          "metadata": {
            "tags": []
          },
          "execution_count": 172
        }
      ]
    },
    {
      "cell_type": "code",
      "metadata": {
        "colab": {
          "base_uri": "https://localhost:8080/"
        },
        "id": "X_WrIKP1T2mp",
        "outputId": "fd080bcb-1e86-49e3-ec14-50f09cc06a24"
      },
      "source": [
        "y_pred_clf= clf.predict(X_smote_test)\n",
        "\n",
        "from sklearn.metrics import classification_report\n",
        "print(classification_report(y_smote_test, y_pred_clf))"
      ],
      "execution_count": 173,
      "outputs": [
        {
          "output_type": "stream",
          "text": [
            "              precision    recall  f1-score   support\n",
            "\n",
            "           0       0.77      0.88      0.82      2376\n",
            "           1       0.86      0.74      0.80      2376\n",
            "\n",
            "    accuracy                           0.81      4752\n",
            "   macro avg       0.82      0.81      0.81      4752\n",
            "weighted avg       0.82      0.81      0.81      4752\n",
            "\n"
          ],
          "name": "stdout"
        }
      ]
    },
    {
      "cell_type": "code",
      "metadata": {
        "colab": {
          "base_uri": "https://localhost:8080/"
        },
        "id": "wKzNQZ_JT6MX",
        "outputId": "f6546ab5-6c7c-41ad-8319-36ec18b5d65d"
      },
      "source": [
        "cf_matrix = confusion_matrix(y_smote_test, y_pred_clf)\n",
        "print(cf_matrix)"
      ],
      "execution_count": 174,
      "outputs": [
        {
          "output_type": "stream",
          "text": [
            "[[2098  278]\n",
            " [ 619 1757]]\n"
          ],
          "name": "stdout"
        }
      ]
    },
    {
      "cell_type": "code",
      "metadata": {
        "colab": {
          "base_uri": "https://localhost:8080/"
        },
        "id": "EEZbv6z6T-Zg",
        "outputId": "1285942b-683c-4d87-bfce-c82f9c77239d"
      },
      "source": [
        "clf_probs = clf.predict_proba(X_smote_test)\n",
        "clf_probs = clf_probs[:, 1]\n",
        "clf_auc = roc_auc_score(y_smote_test, clf_probs)\n",
        "\n",
        "print('ADABOOST - ROC AUC= {} %'.format(round(clf_auc, 3)*100))"
      ],
      "execution_count": 175,
      "outputs": [
        {
          "output_type": "stream",
          "text": [
            "ADABOOST - ROC AUC= 88.7 %\n"
          ],
          "name": "stdout"
        }
      ]
    },
    {
      "cell_type": "code",
      "metadata": {
        "id": "NLqJ_8DfUCS_"
      },
      "source": [
        "clf_fpr, clf_tpr, clf_thres = roc_curve(y_smote_test, clf_probs)"
      ],
      "execution_count": 176,
      "outputs": []
    },
    {
      "cell_type": "code",
      "metadata": {
        "colab": {
          "base_uri": "https://localhost:8080/",
          "height": 497
        },
        "id": "rQeHGWAIVVqj",
        "outputId": "7414e2ce-1209-48eb-9300-ee2ecd55a9ee"
      },
      "source": [
        "fig, ax = plt.subplots(figsize=(10, 8))\n",
        "ax.plot(logreg_fpr, logreg_tpr, marker='.', label='datawig+smote+Logistic')\n",
        "ax.plot(rf_fpr, rf_tpr, marker='.', label='datawig+Random Forest')\n",
        "ax.plot(clf_fpr, clf_tpr, marker='.', label='datawig+ADABOOST')\n",
        "ax.plot(model_fpr, model_tpr, marker = '.', label='datawig+smote+XGBoost')\n",
        "lw = 2\n",
        "ax.plot([0, 1], [0, 1], color='navy', lw=lw, linestyle='--')\n",
        "# axis labels\n",
        "plt.xlabel('False Positive Rate')\n",
        "plt.ylabel('True Positive Rate')\n",
        "# show the legend\n",
        "plt.legend(loc=5)\n",
        "# show the plot\n",
        "plt.show()"
      ],
      "execution_count": 177,
      "outputs": [
        {
          "output_type": "display_data",
          "data": {
            "image/png": "[encoded data removed]",
            "text/plain": [
              "<Figure size 720x576 with 1 Axes>"
            ]
          },
          "metadata": {
            "tags": [],
            "needs_background": "light"
          }
        }
      ]
    },
    {
      "cell_type": "code",
      "metadata": {
        "colab": {
          "base_uri": "https://localhost:8080/"
        },
        "id": "UZNcDQUEVgDd",
        "outputId": "c5d3e04e-1c7b-4318-b926-cd4aa0e1b55a"
      },
      "source": [
        "print('Logistic: ROC AUC= {} %'.format(round(logreg_auc, 3)*100))\n",
        "print('RF - ROC AUC= {} %'.format(round(rf_smote_auc, 3)*100))\n",
        "print('ADABOOST - ROC AUC= {} %'.format(round(clf_auc, 3)*100))\n",
        "print('XGBoost - ROC AUC= {} %'.format(round(model_auc, 3)*100))"
      ],
      "execution_count": 179,
      "outputs": [
        {
          "output_type": "stream",
          "text": [
            "Logistic: ROC AUC= 70.8 %\n",
            "RF - ROC AUC= 66.4 %\n",
            "ADABOOST - ROC AUC= 88.7 %\n",
            "XGBoost - ROC AUC= 88.6 %\n"
          ],
          "name": "stdout"
        }
      ]
    },
    {
      "cell_type": "code",
      "metadata": {
        "id": "jqo-WHn9VkGl"
      },
      "source": [
        ""
      ],
      "execution_count": null,
      "outputs": []
    }
  ]
}